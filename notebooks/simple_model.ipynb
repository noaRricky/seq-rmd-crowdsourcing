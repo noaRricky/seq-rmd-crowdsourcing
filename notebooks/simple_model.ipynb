{
 "cells": [
  {
   "cell_type": "code",
   "execution_count": 1,
   "metadata": {},
   "outputs": [],
   "source": [
    "%reload_ext autoreload\n",
    "%autoreload 2\n",
    "%matplotlib inline"
   ]
  },
  {
   "cell_type": "code",
   "execution_count": 2,
   "metadata": {},
   "outputs": [],
   "source": [
    "import sys\n",
    "from pathlib import Path\n",
    "\n",
    "import numpy as np\n",
    "import pandas as pd\n",
    "\n",
    "import tensorflow as tf\n",
    "from tensorflow import keras"
   ]
  },
  {
   "cell_type": "code",
   "execution_count": 3,
   "metadata": {},
   "outputs": [
    {
     "data": {
      "text/plain": [
       "['c:\\\\projects\\\\python\\\\recommender\\\\.venv\\\\scripts\\\\python36.zip',\n",
       " 'c:\\\\projects\\\\python\\\\recommender\\\\.venv\\\\DLLs',\n",
       " 'c:\\\\projects\\\\python\\\\recommender\\\\.venv\\\\lib',\n",
       " 'c:\\\\projects\\\\python\\\\recommender\\\\.venv\\\\scripts',\n",
       " 'c:\\\\users\\\\ricky\\\\appdata\\\\local\\\\programs\\\\python\\\\python36\\\\Lib',\n",
       " 'c:\\\\users\\\\ricky\\\\appdata\\\\local\\\\programs\\\\python\\\\python36\\\\DLLs',\n",
       " 'c:\\\\projects\\\\python\\\\recommender\\\\.venv',\n",
       " '',\n",
       " 'c:\\\\projects\\\\python\\\\recommender\\\\.venv\\\\lib\\\\site-packages',\n",
       " 'c:\\\\projects\\\\python\\\\recommender\\\\.venv\\\\lib\\\\site-packages\\\\IPython\\\\extensions',\n",
       " 'C:\\\\Users\\\\ricky\\\\.ipython',\n",
       " '../']"
      ]
     },
     "execution_count": 3,
     "metadata": {},
     "output_type": "execute_result"
    }
   ],
   "source": [
    "sys.path.append('../')\n",
    "sys.path"
   ]
  },
  {
   "cell_type": "code",
   "execution_count": 4,
   "metadata": {},
   "outputs": [],
   "source": [
    "from datasets.movielen import Movielen10K\n",
    "from models.simple_model import SimpleModel"
   ]
  },
  {
   "cell_type": "code",
   "execution_count": 5,
   "metadata": {},
   "outputs": [
    {
     "data": {
      "text/plain": [
       "WindowsPath('../inputs/ml-100k/u.data')"
      ]
     },
     "execution_count": 5,
     "metadata": {},
     "output_type": "execute_result"
    }
   ],
   "source": [
    "data_path = Path('../inputs/ml-100k/u.data')\n",
    "data_path"
   ]
  },
  {
   "cell_type": "code",
   "execution_count": 6,
   "metadata": {},
   "outputs": [
    {
     "name": "stderr",
     "output_type": "stream",
     "text": [
      "..\\datasets\\movielen.py:57: SettingWithCopyWarning: \n",
      "A value is trying to be set on a copy of a slice from a DataFrame\n",
      "\n",
      "See the caveats in the documentation: http://pandas.pydata.org/pandas-docs/stable/indexing.html#indexing-view-versus-copy\n",
      "  train_df.sort_values(by=['userId', 'timestamp'], inplace=True)\n",
      "..\\datasets\\movielen.py:58: SettingWithCopyWarning: \n",
      "A value is trying to be set on a copy of a slice from a DataFrame\n",
      "\n",
      "See the caveats in the documentation: http://pandas.pydata.org/pandas-docs/stable/indexing.html#indexing-view-versus-copy\n",
      "  test_df.sort_values(by=['userId', 'timestamp'], inplace=True)\n"
     ]
    }
   ],
   "source": [
    "dataset = Movielen10K(data_path)"
   ]
  },
  {
   "cell_type": "code",
   "execution_count": 10,
   "metadata": {},
   "outputs": [],
   "source": [
    "# Global setting for experiment\n",
    "BATCH_SIZE = 32\n",
    "EMB_DICT = {'userId': 16, 'movieId': 16}\n",
    "LEARNING_RATE = 0.001"
   ]
  },
  {
   "cell_type": "code",
   "execution_count": 8,
   "metadata": {},
   "outputs": [],
   "source": [
    "train_ds = dataset.get_dataset('train', batch_size=BATCH_SIZE, shuffle=True)\n",
    "test_ds = dataset.get_dataset('test', batch_size=BATCH_SIZE, shuffle=False)\n",
    "vocab_dict = dataset.get_vocab_dict()\n",
    "num_classes = dataset.num_classes"
   ]
  },
  {
   "cell_type": "code",
   "execution_count": 9,
   "metadata": {},
   "outputs": [],
   "source": [
    "model = SimpleModel(vocab_dict, emb_dict=EMB_DICT, num_classes=num_classes)"
   ]
  },
  {
   "cell_type": "code",
   "execution_count": 11,
   "metadata": {},
   "outputs": [],
   "source": [
    "model.compile(optimizer=keras.optimizers.Adam(learning_rate=LEARNING_RATE),\n",
    "              loss='categorical_crossentropy',\n",
    "              metrics=['accuracy'])"
   ]
  },
  {
   "cell_type": "code",
   "execution_count": 12,
   "metadata": {},
   "outputs": [
    {
     "name": "stderr",
     "output_type": "stream",
     "text": [
      "WARNING: Logging before flag parsing goes to stderr.\n",
      "W0622 15:29:26.280717 10508 deprecation.py:323] From c:\\projects\\python\\recommender\\.venv\\lib\\site-packages\\tensorflow\\python\\feature_column\\feature_column_v2.py:3040: VocabularyListCategoricalColumn._num_buckets (from tensorflow.python.feature_column.feature_column_v2) is deprecated and will be removed in a future version.\n",
      "Instructions for updating:\n",
      "The old _FeatureColumn APIs are being deprecated. Please use the new FeatureColumn APIs instead.\n"
     ]
    },
    {
     "name": "stdout",
     "output_type": "stream",
     "text": [
      "Epoch 1/5\n"
     ]
    },
    {
     "name": "stderr",
     "output_type": "stream",
     "text": [
      "W0622 15:29:26.541021 10508 deprecation.py:323] From c:\\projects\\python\\recommender\\.venv\\lib\\site-packages\\tensorflow\\python\\feature_column\\feature_column_v2.py:2655: add_dispatch_support.<locals>.wrapper (from tensorflow.python.ops.array_ops) is deprecated and will be removed in a future version.\n",
      "Instructions for updating:\n",
      "Use tf.where in 2.0, which has the same broadcast rule as np.where\n"
     ]
    },
    {
     "name": "stdout",
     "output_type": "stream",
     "text": [
      "3096/3096 [==============================] - 7s 2ms/step - loss: 1.3906 - accuracy: 0.3518 - val_loss: 1.3930 - val_accuracy: 0.3627\n",
      "Epoch 2/5\n",
      "3096/3096 [==============================] - 6s 2ms/step - loss: 1.2872 - accuracy: 0.4227 - val_loss: 1.3567 - val_accuracy: 0.3881\n",
      "Epoch 3/5\n",
      "3096/3096 [==============================] - 6s 2ms/step - loss: 1.2463 - accuracy: 0.4476 - val_loss: 1.3483 - val_accuracy: 0.3934\n",
      "Epoch 4/5\n",
      "3096/3096 [==============================] - 6s 2ms/step - loss: 1.2212 - accuracy: 0.4607 - val_loss: 1.3506 - val_accuracy: 0.3934\n",
      "Epoch 5/5\n",
      "3096/3096 [==============================] - 6s 2ms/step - loss: 1.2003 - accuracy: 0.4711 - val_loss: 1.3580 - val_accuracy: 0.4083\n"
     ]
    },
    {
     "data": {
      "text/plain": [
       "<tensorflow.python.keras.callbacks.History at 0x1fefb233a58>"
      ]
     },
     "execution_count": 12,
     "metadata": {},
     "output_type": "execute_result"
    }
   ],
   "source": [
    "model.fit(train_ds, epochs=5, validation_data=test_ds)"
   ]
  },
  {
   "cell_type": "code",
   "execution_count": null,
   "metadata": {},
   "outputs": [],
   "source": []
  }
 ],
 "metadata": {
  "kernelspec": {
   "display_name": "Python 3",
   "language": "python",
   "name": "python3"
  },
  "language_info": {
   "codemirror_mode": {
    "name": "ipython",
    "version": 3
   },
   "file_extension": ".py",
   "mimetype": "text/x-python",
   "name": "python",
   "nbconvert_exporter": "python",
   "pygments_lexer": "ipython3",
   "version": "3.6.8"
  }
 },
 "nbformat": 4,
 "nbformat_minor": 2
}
