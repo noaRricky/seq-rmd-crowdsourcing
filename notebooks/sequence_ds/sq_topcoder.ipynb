{
 "cells": [
  {
   "cell_type": "code",
   "execution_count": 1,
   "metadata": {
    "ExecuteTime": {
     "end_time": "2019-10-02T14:29:03.604881Z",
     "start_time": "2019-10-02T14:29:03.176453Z"
    }
   },
   "outputs": [],
   "source": [
    "%reload_ext autoreload\n",
    "%autoreload 2\n",
    "%matplotlib inline"
   ]
  },
  {
   "cell_type": "code",
   "execution_count": 2,
   "metadata": {
    "ExecuteTime": {
     "end_time": "2019-10-02T14:29:03.644872Z",
     "start_time": "2019-10-02T14:29:03.605871Z"
    }
   },
   "outputs": [
    {
     "name": "stdout",
     "output_type": "stream",
     "text": [
      "C:\\Projects\\python\\recommender\n"
     ]
    }
   ],
   "source": [
    "%cd ../../"
   ]
  },
  {
   "cell_type": "code",
   "execution_count": 3,
   "metadata": {
    "ExecuteTime": {
     "end_time": "2019-10-02T14:29:04.249532Z",
     "start_time": "2019-10-02T14:29:03.646886Z"
    }
   },
   "outputs": [],
   "source": [
    "from pathlib import Path\n",
    "\n",
    "import numpy as np\n",
    "import pandas as pd\n",
    "import scipy.sparse as sp"
   ]
  },
  {
   "cell_type": "code",
   "execution_count": 4,
   "metadata": {
    "ExecuteTime": {
     "end_time": "2019-10-02T14:29:04.292493Z",
     "start_time": "2019-10-02T14:29:04.250503Z"
    }
   },
   "outputs": [],
   "source": [
    "REGS_PATH = Path(\"./inputs/topcoder/regs.csv\")\n",
    "CHA_PATH = Path(\"./inputs/topcoder/challenge_sm.csv\")\n",
    "regs_min = 4\n",
    "cha_min = 4"
   ]
  },
  {
   "cell_type": "code",
   "execution_count": 5,
   "metadata": {
    "ExecuteTime": {
     "end_time": "2019-10-02T14:29:04.632151Z",
     "start_time": "2019-10-02T14:29:04.294481Z"
    }
   },
   "outputs": [
    {
     "data": {
      "text/html": [
       "<div>\n",
       "<style scoped>\n",
       "    .dataframe tbody tr th:only-of-type {\n",
       "        vertical-align: middle;\n",
       "    }\n",
       "\n",
       "    .dataframe tbody tr th {\n",
       "        vertical-align: top;\n",
       "    }\n",
       "\n",
       "    .dataframe thead th {\n",
       "        text-align: right;\n",
       "    }\n",
       "</style>\n",
       "<table border=\"1\" class=\"dataframe\">\n",
       "  <thead>\n",
       "    <tr style=\"text-align: right;\">\n",
       "      <th></th>\n",
       "      <th>challengeId</th>\n",
       "      <th>registant</th>\n",
       "      <th>date</th>\n",
       "    </tr>\n",
       "  </thead>\n",
       "  <tbody>\n",
       "    <tr>\n",
       "      <th>0</th>\n",
       "      <td>30044052</td>\n",
       "      <td>phead</td>\n",
       "      <td>2014-07-09</td>\n",
       "    </tr>\n",
       "    <tr>\n",
       "      <th>1</th>\n",
       "      <td>30044052</td>\n",
       "      <td>lovefreya</td>\n",
       "      <td>2014-07-09</td>\n",
       "    </tr>\n",
       "    <tr>\n",
       "      <th>2</th>\n",
       "      <td>30044052</td>\n",
       "      <td>TMALBONPH</td>\n",
       "      <td>2014-07-09</td>\n",
       "    </tr>\n",
       "    <tr>\n",
       "      <th>3</th>\n",
       "      <td>30044052</td>\n",
       "      <td>daga_sumit</td>\n",
       "      <td>2014-07-09</td>\n",
       "    </tr>\n",
       "    <tr>\n",
       "      <th>4</th>\n",
       "      <td>30044052</td>\n",
       "      <td>abcivashritt</td>\n",
       "      <td>2014-07-09</td>\n",
       "    </tr>\n",
       "  </tbody>\n",
       "</table>\n",
       "</div>"
      ],
      "text/plain": [
       "   challengeId     registant        date\n",
       "0     30044052         phead  2014-07-09\n",
       "1     30044052     lovefreya  2014-07-09\n",
       "2     30044052     TMALBONPH  2014-07-09\n",
       "3     30044052    daga_sumit  2014-07-09\n",
       "4     30044052  abcivashritt  2014-07-09"
      ]
     },
     "execution_count": 5,
     "metadata": {},
     "output_type": "execute_result"
    }
   ],
   "source": [
    "regs_df = pd.read_csv(REGS_PATH)\n",
    "regs_df.head()"
   ]
  },
  {
   "cell_type": "markdown",
   "metadata": {},
   "source": [
    "## Add Challenge DataFrame"
   ]
  },
  {
   "cell_type": "code",
   "execution_count": 6,
   "metadata": {
    "ExecuteTime": {
     "end_time": "2019-10-02T14:29:06.892522Z",
     "start_time": "2019-10-02T14:29:06.844523Z"
    }
   },
   "outputs": [],
   "source": [
    "from ast import literal_eval"
   ]
  },
  {
   "cell_type": "code",
   "execution_count": 7,
   "metadata": {
    "ExecuteTime": {
     "end_time": "2019-10-02T14:29:07.887050Z",
     "start_time": "2019-10-02T14:29:07.093002Z"
    }
   },
   "outputs": [
    {
     "data": {
      "text/html": [
       "<div>\n",
       "<style scoped>\n",
       "    .dataframe tbody tr th:only-of-type {\n",
       "        vertical-align: middle;\n",
       "    }\n",
       "\n",
       "    .dataframe tbody tr th {\n",
       "        vertical-align: top;\n",
       "    }\n",
       "\n",
       "    .dataframe thead th {\n",
       "        text-align: right;\n",
       "    }\n",
       "</style>\n",
       "<table border=\"1\" class=\"dataframe\">\n",
       "  <thead>\n",
       "    <tr style=\"text-align: right;\">\n",
       "      <th></th>\n",
       "      <th>challengeId</th>\n",
       "      <th>date</th>\n",
       "      <th>prizes</th>\n",
       "      <th>technologies</th>\n",
       "      <th>platforms</th>\n",
       "    </tr>\n",
       "  </thead>\n",
       "  <tbody>\n",
       "    <tr>\n",
       "      <th>0</th>\n",
       "      <td>30044052</td>\n",
       "      <td>2014-07-09</td>\n",
       "      <td>1800.0</td>\n",
       "      <td>[HTML]</td>\n",
       "      <td>[HTML]</td>\n",
       "    </tr>\n",
       "    <tr>\n",
       "      <th>1</th>\n",
       "      <td>30044053</td>\n",
       "      <td>2014-07-09</td>\n",
       "      <td>1250.0</td>\n",
       "      <td>[Salesforce, Apex, Visualforce]</td>\n",
       "      <td>[Force.com, Salesforce.com]</td>\n",
       "    </tr>\n",
       "    <tr>\n",
       "      <th>2</th>\n",
       "      <td>30044054</td>\n",
       "      <td>2014-07-09</td>\n",
       "      <td>400.0</td>\n",
       "      <td>[Java, MySQL, REST]</td>\n",
       "      <td>[AWS]</td>\n",
       "    </tr>\n",
       "    <tr>\n",
       "      <th>3</th>\n",
       "      <td>30044055</td>\n",
       "      <td>2014-07-09</td>\n",
       "      <td>400.0</td>\n",
       "      <td>[iOS]</td>\n",
       "      <td>[iOS]</td>\n",
       "    </tr>\n",
       "    <tr>\n",
       "      <th>4</th>\n",
       "      <td>30044056</td>\n",
       "      <td>2014-07-09</td>\n",
       "      <td>400.0</td>\n",
       "      <td>[iOS]</td>\n",
       "      <td>[iOS]</td>\n",
       "    </tr>\n",
       "  </tbody>\n",
       "</table>\n",
       "</div>"
      ],
      "text/plain": [
       "   challengeId        date  prizes                     technologies  \\\n",
       "0     30044052  2014-07-09  1800.0                           [HTML]   \n",
       "1     30044053  2014-07-09  1250.0  [Salesforce, Apex, Visualforce]   \n",
       "2     30044054  2014-07-09   400.0              [Java, MySQL, REST]   \n",
       "3     30044055  2014-07-09   400.0                            [iOS]   \n",
       "4     30044056  2014-07-09   400.0                            [iOS]   \n",
       "\n",
       "                     platforms  \n",
       "0                       [HTML]  \n",
       "1  [Force.com, Salesforce.com]  \n",
       "2                        [AWS]  \n",
       "3                        [iOS]  \n",
       "4                        [iOS]  "
      ]
     },
     "execution_count": 7,
     "metadata": {},
     "output_type": "execute_result"
    }
   ],
   "source": [
    "attr_df = pd.read_csv(\"./inputs/topcoder/challenge.csv\",\n",
    "                      infer_datetime_format=True,\n",
    "                      converters={\n",
    "                          'technologies': literal_eval,\n",
    "                          'platforms': literal_eval\n",
    "                      })\n",
    "attr_df.head()"
   ]
  },
  {
   "cell_type": "code",
   "execution_count": 8,
   "metadata": {
    "ExecuteTime": {
     "end_time": "2019-10-02T14:29:09.155245Z",
     "start_time": "2019-10-02T14:29:09.101247Z"
    }
   },
   "outputs": [
    {
     "data": {
      "text/plain": [
       "(610025, 1)"
      ]
     },
     "execution_count": 8,
     "metadata": {},
     "output_type": "execute_result"
    }
   ],
   "source": [
    "chag_df = regs_df[['challengeId']]\n",
    "chag_df.shape"
   ]
  },
  {
   "cell_type": "code",
   "execution_count": 9,
   "metadata": {
    "ExecuteTime": {
     "end_time": "2019-10-02T14:29:09.530542Z",
     "start_time": "2019-10-02T14:29:09.453539Z"
    }
   },
   "outputs": [
    {
     "data": {
      "text/plain": [
       "(39916, 1)"
      ]
     },
     "execution_count": 9,
     "metadata": {},
     "output_type": "execute_result"
    }
   ],
   "source": [
    "chag_df = chag_df.drop_duplicates(subset=['challengeId'])\n",
    "chag_df.shape"
   ]
  },
  {
   "cell_type": "code",
   "execution_count": 10,
   "metadata": {
    "ExecuteTime": {
     "end_time": "2019-10-02T14:29:12.416619Z",
     "start_time": "2019-10-02T14:29:12.326643Z"
    }
   },
   "outputs": [
    {
     "data": {
      "text/html": [
       "<div>\n",
       "<style scoped>\n",
       "    .dataframe tbody tr th:only-of-type {\n",
       "        vertical-align: middle;\n",
       "    }\n",
       "\n",
       "    .dataframe tbody tr th {\n",
       "        vertical-align: top;\n",
       "    }\n",
       "\n",
       "    .dataframe thead th {\n",
       "        text-align: right;\n",
       "    }\n",
       "</style>\n",
       "<table border=\"1\" class=\"dataframe\">\n",
       "  <thead>\n",
       "    <tr style=\"text-align: right;\">\n",
       "      <th></th>\n",
       "      <th>challengeId</th>\n",
       "      <th>date</th>\n",
       "      <th>prizes</th>\n",
       "      <th>technologies</th>\n",
       "      <th>platforms</th>\n",
       "    </tr>\n",
       "  </thead>\n",
       "  <tbody>\n",
       "    <tr>\n",
       "      <th>0</th>\n",
       "      <td>30044052</td>\n",
       "      <td>2014-07-09</td>\n",
       "      <td>1800.0</td>\n",
       "      <td>[HTML]</td>\n",
       "      <td>[HTML]</td>\n",
       "    </tr>\n",
       "    <tr>\n",
       "      <th>1</th>\n",
       "      <td>30044053</td>\n",
       "      <td>2014-07-09</td>\n",
       "      <td>1250.0</td>\n",
       "      <td>[Salesforce, Apex, Visualforce]</td>\n",
       "      <td>[Force.com, Salesforce.com]</td>\n",
       "    </tr>\n",
       "    <tr>\n",
       "      <th>2</th>\n",
       "      <td>30044054</td>\n",
       "      <td>2014-07-09</td>\n",
       "      <td>400.0</td>\n",
       "      <td>[Java, MySQL, REST]</td>\n",
       "      <td>[AWS]</td>\n",
       "    </tr>\n",
       "    <tr>\n",
       "      <th>3</th>\n",
       "      <td>30044055</td>\n",
       "      <td>2014-07-09</td>\n",
       "      <td>400.0</td>\n",
       "      <td>[iOS]</td>\n",
       "      <td>[iOS]</td>\n",
       "    </tr>\n",
       "    <tr>\n",
       "      <th>4</th>\n",
       "      <td>30044056</td>\n",
       "      <td>2014-07-09</td>\n",
       "      <td>400.0</td>\n",
       "      <td>[iOS]</td>\n",
       "      <td>[iOS]</td>\n",
       "    </tr>\n",
       "  </tbody>\n",
       "</table>\n",
       "</div>"
      ],
      "text/plain": [
       "   challengeId        date  prizes                     technologies  \\\n",
       "0     30044052  2014-07-09  1800.0                           [HTML]   \n",
       "1     30044053  2014-07-09  1250.0  [Salesforce, Apex, Visualforce]   \n",
       "2     30044054  2014-07-09   400.0              [Java, MySQL, REST]   \n",
       "3     30044055  2014-07-09   400.0                            [iOS]   \n",
       "4     30044056  2014-07-09   400.0                            [iOS]   \n",
       "\n",
       "                     platforms  \n",
       "0                       [HTML]  \n",
       "1  [Force.com, Salesforce.com]  \n",
       "2                        [AWS]  \n",
       "3                        [iOS]  \n",
       "4                        [iOS]  "
      ]
     },
     "execution_count": 10,
     "metadata": {},
     "output_type": "execute_result"
    }
   ],
   "source": [
    "chag_df = pd.merge(left=chag_df, right=attr_df, how='inner', on='challengeId')\n",
    "chag_df.head()"
   ]
  },
  {
   "cell_type": "code",
   "execution_count": 11,
   "metadata": {
    "ExecuteTime": {
     "end_time": "2019-10-02T14:29:12.632076Z",
     "start_time": "2019-10-02T14:29:12.575032Z"
    }
   },
   "outputs": [
    {
     "data": {
      "text/plain": [
       "dtype('<M8[ns]')"
      ]
     },
     "execution_count": 11,
     "metadata": {},
     "output_type": "execute_result"
    }
   ],
   "source": [
    "chag_df['date'] = pd.to_datetime(chag_df['date'])\n",
    "chag_df.date.dtype"
   ]
  },
  {
   "cell_type": "code",
   "execution_count": 12,
   "metadata": {
    "ExecuteTime": {
     "end_time": "2019-10-02T14:29:13.249023Z",
     "start_time": "2019-10-02T14:29:13.189021Z"
    },
    "scrolled": true
   },
   "outputs": [
    {
     "data": {
      "text/html": [
       "<div>\n",
       "<style scoped>\n",
       "    .dataframe tbody tr th:only-of-type {\n",
       "        vertical-align: middle;\n",
       "    }\n",
       "\n",
       "    .dataframe tbody tr th {\n",
       "        vertical-align: top;\n",
       "    }\n",
       "\n",
       "    .dataframe thead th {\n",
       "        text-align: right;\n",
       "    }\n",
       "</style>\n",
       "<table border=\"1\" class=\"dataframe\">\n",
       "  <thead>\n",
       "    <tr style=\"text-align: right;\">\n",
       "      <th></th>\n",
       "      <th>challengeId</th>\n",
       "      <th>date</th>\n",
       "      <th>prizes</th>\n",
       "      <th>technologies</th>\n",
       "      <th>platforms</th>\n",
       "      <th>per</th>\n",
       "    </tr>\n",
       "  </thead>\n",
       "  <tbody>\n",
       "    <tr>\n",
       "      <th>0</th>\n",
       "      <td>30044052</td>\n",
       "      <td>2014-07-09</td>\n",
       "      <td>1800.0</td>\n",
       "      <td>[HTML]</td>\n",
       "      <td>[HTML]</td>\n",
       "      <td>2014-07</td>\n",
       "    </tr>\n",
       "    <tr>\n",
       "      <th>1</th>\n",
       "      <td>30044053</td>\n",
       "      <td>2014-07-09</td>\n",
       "      <td>1250.0</td>\n",
       "      <td>[Salesforce, Apex, Visualforce]</td>\n",
       "      <td>[Force.com, Salesforce.com]</td>\n",
       "      <td>2014-07</td>\n",
       "    </tr>\n",
       "    <tr>\n",
       "      <th>2</th>\n",
       "      <td>30044054</td>\n",
       "      <td>2014-07-09</td>\n",
       "      <td>400.0</td>\n",
       "      <td>[Java, MySQL, REST]</td>\n",
       "      <td>[AWS]</td>\n",
       "      <td>2014-07</td>\n",
       "    </tr>\n",
       "    <tr>\n",
       "      <th>3</th>\n",
       "      <td>30044055</td>\n",
       "      <td>2014-07-09</td>\n",
       "      <td>400.0</td>\n",
       "      <td>[iOS]</td>\n",
       "      <td>[iOS]</td>\n",
       "      <td>2014-07</td>\n",
       "    </tr>\n",
       "    <tr>\n",
       "      <th>4</th>\n",
       "      <td>30044056</td>\n",
       "      <td>2014-07-09</td>\n",
       "      <td>400.0</td>\n",
       "      <td>[iOS]</td>\n",
       "      <td>[iOS]</td>\n",
       "      <td>2014-07</td>\n",
       "    </tr>\n",
       "  </tbody>\n",
       "</table>\n",
       "</div>"
      ],
      "text/plain": [
       "   challengeId       date  prizes                     technologies  \\\n",
       "0     30044052 2014-07-09  1800.0                           [HTML]   \n",
       "1     30044053 2014-07-09  1250.0  [Salesforce, Apex, Visualforce]   \n",
       "2     30044054 2014-07-09   400.0              [Java, MySQL, REST]   \n",
       "3     30044055 2014-07-09   400.0                            [iOS]   \n",
       "4     30044056 2014-07-09   400.0                            [iOS]   \n",
       "\n",
       "                     platforms      per  \n",
       "0                       [HTML]  2014-07  \n",
       "1  [Force.com, Salesforce.com]  2014-07  \n",
       "2                        [AWS]  2014-07  \n",
       "3                        [iOS]  2014-07  \n",
       "4                        [iOS]  2014-07  "
      ]
     },
     "execution_count": 12,
     "metadata": {},
     "output_type": "execute_result"
    }
   ],
   "source": [
    "chag_df['per'] = chag_df.date.dt.to_period(\"M\")\n",
    "chag_df.head()"
   ]
  },
  {
   "cell_type": "code",
   "execution_count": 13,
   "metadata": {
    "ExecuteTime": {
     "end_time": "2019-10-02T14:29:16.047263Z",
     "start_time": "2019-10-02T14:29:15.996266Z"
    }
   },
   "outputs": [
    {
     "data": {
      "text/plain": [
       "Period('2010-01', 'M')"
      ]
     },
     "execution_count": 13,
     "metadata": {},
     "output_type": "execute_result"
    }
   ],
   "source": [
    "pd.Period(value='2005-1')"
   ]
  },
  {
   "cell_type": "code",
   "execution_count": 14,
   "metadata": {
    "ExecuteTime": {
     "end_time": "2019-10-02T14:29:16.573053Z",
     "start_time": "2019-10-02T14:29:16.525074Z"
    }
   },
   "outputs": [
    {
     "data": {
      "text/plain": [
       "Timestamp('2010-01-01 00:00:00')"
      ]
     },
     "execution_count": 14,
     "metadata": {},
     "output_type": "execute_result"
    }
   ],
   "source": [
    "pd.Timestamp('2005-01-01 00:00:00')"
   ]
  },
  {
   "cell_type": "code",
   "execution_count": 15,
   "metadata": {
    "ExecuteTime": {
     "end_time": "2019-10-02T14:29:23.662846Z",
     "start_time": "2019-10-02T14:29:23.610321Z"
    }
   },
   "outputs": [
    {
     "data": {
      "text/plain": [
       "Timestamp('2014-07-09 00:00:00')"
      ]
     },
     "execution_count": 15,
     "metadata": {},
     "output_type": "execute_result"
    }
   ],
   "source": [
    "chag_df['date'][0]"
   ]
  },
  {
   "cell_type": "markdown",
   "metadata": {},
   "source": [
    "## Encode for period"
   ]
  },
  {
   "cell_type": "code",
   "execution_count": 16,
   "metadata": {
    "ExecuteTime": {
     "end_time": "2019-10-02T14:29:47.642074Z",
     "start_time": "2019-10-02T14:29:47.573103Z"
    }
   },
   "outputs": [],
   "source": [
    "from sklearn.preprocessing import OrdinalEncoder"
   ]
  },
  {
   "cell_type": "code",
   "execution_count": 17,
   "metadata": {
    "ExecuteTime": {
     "end_time": "2019-10-02T14:30:58.840393Z",
     "start_time": "2019-10-02T14:30:58.357413Z"
    }
   },
   "outputs": [
    {
     "data": {
      "text/html": [
       "<div>\n",
       "<style scoped>\n",
       "    .dataframe tbody tr th:only-of-type {\n",
       "        vertical-align: middle;\n",
       "    }\n",
       "\n",
       "    .dataframe tbody tr th {\n",
       "        vertical-align: top;\n",
       "    }\n",
       "\n",
       "    .dataframe thead th {\n",
       "        text-align: right;\n",
       "    }\n",
       "</style>\n",
       "<table border=\"1\" class=\"dataframe\">\n",
       "  <thead>\n",
       "    <tr style=\"text-align: right;\">\n",
       "      <th></th>\n",
       "      <th>challengeId</th>\n",
       "      <th>date</th>\n",
       "      <th>prizes</th>\n",
       "      <th>technologies</th>\n",
       "      <th>platforms</th>\n",
       "      <th>per</th>\n",
       "    </tr>\n",
       "  </thead>\n",
       "  <tbody>\n",
       "    <tr>\n",
       "      <th>31190</th>\n",
       "      <td>30000000</td>\n",
       "      <td>2006-10-20</td>\n",
       "      <td>0.0</td>\n",
       "      <td>[]</td>\n",
       "      <td>[]</td>\n",
       "      <td>2006-10</td>\n",
       "    </tr>\n",
       "    <tr>\n",
       "      <th>31189</th>\n",
       "      <td>30000002</td>\n",
       "      <td>2006-10-20</td>\n",
       "      <td>0.0</td>\n",
       "      <td>[]</td>\n",
       "      <td>[]</td>\n",
       "      <td>2006-10</td>\n",
       "    </tr>\n",
       "    <tr>\n",
       "      <th>31188</th>\n",
       "      <td>30000018</td>\n",
       "      <td>2006-10-30</td>\n",
       "      <td>0.0</td>\n",
       "      <td>[]</td>\n",
       "      <td>[]</td>\n",
       "      <td>2006-10</td>\n",
       "    </tr>\n",
       "    <tr>\n",
       "      <th>31187</th>\n",
       "      <td>30000030</td>\n",
       "      <td>2006-11-04</td>\n",
       "      <td>0.0</td>\n",
       "      <td>[Java, HTTP, JSF]</td>\n",
       "      <td>[]</td>\n",
       "      <td>2006-11</td>\n",
       "    </tr>\n",
       "    <tr>\n",
       "      <th>31095</th>\n",
       "      <td>30000196</td>\n",
       "      <td>2006-11-23</td>\n",
       "      <td>0.0</td>\n",
       "      <td>[Java]</td>\n",
       "      <td>[]</td>\n",
       "      <td>2006-11</td>\n",
       "    </tr>\n",
       "  </tbody>\n",
       "</table>\n",
       "</div>"
      ],
      "text/plain": [
       "       challengeId       date  prizes       technologies platforms      per\n",
       "31190     30000000 2006-10-20     0.0                 []        []  2006-10\n",
       "31189     30000002 2006-10-20     0.0                 []        []  2006-10\n",
       "31188     30000018 2006-10-30     0.0                 []        []  2006-10\n",
       "31187     30000030 2006-11-04     0.0  [Java, HTTP, JSF]        []  2006-11\n",
       "31095     30000196 2006-11-23     0.0             [Java]        []  2006-11"
      ]
     },
     "execution_count": 17,
     "metadata": {},
     "output_type": "execute_result"
    }
   ],
   "source": [
    "chag_df = chag_df.sort_values(by=['per'])\n",
    "chag_df.head()"
   ]
  },
  {
   "cell_type": "code",
   "execution_count": 18,
   "metadata": {
    "ExecuteTime": {
     "end_time": "2019-10-02T14:35:01.253051Z",
     "start_time": "2019-10-02T14:35:01.067024Z"
    }
   },
   "outputs": [
    {
     "data": {
      "text/plain": [
       "OrdinalEncoder(categories='auto', dtype=<class 'numpy.float64'>)"
      ]
     },
     "execution_count": 18,
     "metadata": {},
     "output_type": "execute_result"
    }
   ],
   "source": [
    "period_encoder = OrdinalEncoder(categories='auto')\n",
    "period_encoder.fit(chag_df[['per']])"
   ]
  },
  {
   "cell_type": "code",
   "execution_count": 19,
   "metadata": {
    "ExecuteTime": {
     "end_time": "2019-10-02T14:35:25.641281Z",
     "start_time": "2019-10-02T14:35:25.573312Z"
    }
   },
   "outputs": [
    {
     "data": {
      "text/html": [
       "<div>\n",
       "<style scoped>\n",
       "    .dataframe tbody tr th:only-of-type {\n",
       "        vertical-align: middle;\n",
       "    }\n",
       "\n",
       "    .dataframe tbody tr th {\n",
       "        vertical-align: top;\n",
       "    }\n",
       "\n",
       "    .dataframe thead th {\n",
       "        text-align: right;\n",
       "    }\n",
       "</style>\n",
       "<table border=\"1\" class=\"dataframe\">\n",
       "  <thead>\n",
       "    <tr style=\"text-align: right;\">\n",
       "      <th></th>\n",
       "      <th>challengeId</th>\n",
       "      <th>date</th>\n",
       "      <th>prizes</th>\n",
       "      <th>technologies</th>\n",
       "      <th>platforms</th>\n",
       "      <th>per</th>\n",
       "    </tr>\n",
       "  </thead>\n",
       "  <tbody>\n",
       "    <tr>\n",
       "      <th>23944</th>\n",
       "      <td>30033124</td>\n",
       "      <td>2013-03-09</td>\n",
       "      <td>1800.0</td>\n",
       "      <td>[C++, HTTP, JavaScript, C, Objective C]</td>\n",
       "      <td>[]</td>\n",
       "      <td>2013-03</td>\n",
       "    </tr>\n",
       "    <tr>\n",
       "      <th>38021</th>\n",
       "      <td>30003203</td>\n",
       "      <td>2008-01-03</td>\n",
       "      <td>500.0</td>\n",
       "      <td>[.NET, Windows Communication Foundation]</td>\n",
       "      <td>[]</td>\n",
       "      <td>2008-01</td>\n",
       "    </tr>\n",
       "    <tr>\n",
       "      <th>9384</th>\n",
       "      <td>30057490</td>\n",
       "      <td>2017-04-28</td>\n",
       "      <td>1200.0</td>\n",
       "      <td>[Java]</td>\n",
       "      <td>[Other]</td>\n",
       "      <td>2017-04</td>\n",
       "    </tr>\n",
       "  </tbody>\n",
       "</table>\n",
       "</div>"
      ],
      "text/plain": [
       "       challengeId       date  prizes  \\\n",
       "23944     30033124 2013-03-09  1800.0   \n",
       "38021     30003203 2008-01-03   500.0   \n",
       "9384      30057490 2017-04-28  1200.0   \n",
       "\n",
       "                                   technologies platforms      per  \n",
       "23944   [C++, HTTP, JavaScript, C, Objective C]        []  2013-03  \n",
       "38021  [.NET, Windows Communication Foundation]        []  2008-01  \n",
       "9384                                     [Java]   [Other]  2017-04  "
      ]
     },
     "execution_count": 19,
     "metadata": {},
     "output_type": "execute_result"
    }
   ],
   "source": [
    "batch_df = chag_df.sample(n=3)\n",
    "batch_df.head()"
   ]
  },
  {
   "cell_type": "code",
   "execution_count": 23,
   "metadata": {
    "ExecuteTime": {
     "end_time": "2019-10-02T14:39:50.596467Z",
     "start_time": "2019-10-02T14:39:50.533469Z"
    }
   },
   "outputs": [
    {
     "data": {
      "text/html": [
       "<div>\n",
       "<style scoped>\n",
       "    .dataframe tbody tr th:only-of-type {\n",
       "        vertical-align: middle;\n",
       "    }\n",
       "\n",
       "    .dataframe tbody tr th {\n",
       "        vertical-align: top;\n",
       "    }\n",
       "\n",
       "    .dataframe thead th {\n",
       "        text-align: right;\n",
       "    }\n",
       "</style>\n",
       "<table border=\"1\" class=\"dataframe\">\n",
       "  <thead>\n",
       "    <tr style=\"text-align: right;\">\n",
       "      <th></th>\n",
       "      <th>challengeId</th>\n",
       "      <th>date</th>\n",
       "      <th>prizes</th>\n",
       "      <th>technologies</th>\n",
       "      <th>platforms</th>\n",
       "      <th>per</th>\n",
       "    </tr>\n",
       "  </thead>\n",
       "  <tbody>\n",
       "    <tr>\n",
       "      <th>31190</th>\n",
       "      <td>30000000</td>\n",
       "      <td>2006-10-20</td>\n",
       "      <td>0.0</td>\n",
       "      <td>[]</td>\n",
       "      <td>[]</td>\n",
       "      <td>2006-10</td>\n",
       "    </tr>\n",
       "    <tr>\n",
       "      <th>31189</th>\n",
       "      <td>30000002</td>\n",
       "      <td>2006-10-20</td>\n",
       "      <td>0.0</td>\n",
       "      <td>[]</td>\n",
       "      <td>[]</td>\n",
       "      <td>2006-10</td>\n",
       "    </tr>\n",
       "    <tr>\n",
       "      <th>31188</th>\n",
       "      <td>30000018</td>\n",
       "      <td>2006-10-30</td>\n",
       "      <td>0.0</td>\n",
       "      <td>[]</td>\n",
       "      <td>[]</td>\n",
       "      <td>2006-10</td>\n",
       "    </tr>\n",
       "    <tr>\n",
       "      <th>31187</th>\n",
       "      <td>30000030</td>\n",
       "      <td>2006-11-04</td>\n",
       "      <td>0.0</td>\n",
       "      <td>[Java, HTTP, JSF]</td>\n",
       "      <td>[]</td>\n",
       "      <td>2006-11</td>\n",
       "    </tr>\n",
       "    <tr>\n",
       "      <th>31095</th>\n",
       "      <td>30000196</td>\n",
       "      <td>2006-11-23</td>\n",
       "      <td>0.0</td>\n",
       "      <td>[Java]</td>\n",
       "      <td>[]</td>\n",
       "      <td>2006-11</td>\n",
       "    </tr>\n",
       "  </tbody>\n",
       "</table>\n",
       "</div>"
      ],
      "text/plain": [
       "       challengeId       date  prizes       technologies platforms      per\n",
       "31190     30000000 2006-10-20     0.0                 []        []  2006-10\n",
       "31189     30000002 2006-10-20     0.0                 []        []  2006-10\n",
       "31188     30000018 2006-10-30     0.0                 []        []  2006-10\n",
       "31187     30000030 2006-11-04     0.0  [Java, HTTP, JSF]        []  2006-11\n",
       "31095     30000196 2006-11-23     0.0             [Java]        []  2006-11"
      ]
     },
     "execution_count": 23,
     "metadata": {},
     "output_type": "execute_result"
    }
   ],
   "source": [
    "chag_df.head()"
   ]
  },
  {
   "cell_type": "code",
   "execution_count": 22,
   "metadata": {
    "ExecuteTime": {
     "end_time": "2019-10-02T14:39:41.576966Z",
     "start_time": "2019-10-02T14:39:41.514967Z"
    }
   },
   "outputs": [
    {
     "data": {
      "text/plain": [
       "array([[0.],\n",
       "       [0.],\n",
       "       [0.],\n",
       "       [1.],\n",
       "       [1.]])"
      ]
     },
     "execution_count": 22,
     "metadata": {},
     "output_type": "execute_result"
    }
   ],
   "source": [
    "period_encoder.transform(chag_df.head()[['per']])"
   ]
  },
  {
   "cell_type": "markdown",
   "metadata": {},
   "source": [
    "## Encode for technologies"
   ]
  },
  {
   "cell_type": "code",
   "execution_count": 18,
   "metadata": {
    "ExecuteTime": {
     "end_time": "2019-10-02T05:57:36.592274Z",
     "start_time": "2019-10-02T05:57:36.525273Z"
    }
   },
   "outputs": [],
   "source": [
    "from sklearn.preprocessing import MultiLabelBinarizer"
   ]
  },
  {
   "cell_type": "code",
   "execution_count": 19,
   "metadata": {
    "ExecuteTime": {
     "end_time": "2019-10-02T05:58:01.889630Z",
     "start_time": "2019-10-02T05:58:01.820633Z"
    }
   },
   "outputs": [
    {
     "data": {
      "text/plain": [
       "MultiLabelBinarizer(classes=None, sparse_output=True)"
      ]
     },
     "execution_count": 19,
     "metadata": {},
     "output_type": "execute_result"
    }
   ],
   "source": [
    "tech_bin = MultiLabelBinarizer(sparse_output=True)\n",
    "tech_bin.fit(chag_df['technologies'])"
   ]
  },
  {
   "cell_type": "code",
   "execution_count": 22,
   "metadata": {
    "ExecuteTime": {
     "end_time": "2019-10-02T05:58:41.405048Z",
     "start_time": "2019-10-02T05:58:41.341038Z"
    }
   },
   "outputs": [
    {
     "data": {
      "text/html": [
       "<div>\n",
       "<style scoped>\n",
       "    .dataframe tbody tr th:only-of-type {\n",
       "        vertical-align: middle;\n",
       "    }\n",
       "\n",
       "    .dataframe tbody tr th {\n",
       "        vertical-align: top;\n",
       "    }\n",
       "\n",
       "    .dataframe thead th {\n",
       "        text-align: right;\n",
       "    }\n",
       "</style>\n",
       "<table border=\"1\" class=\"dataframe\">\n",
       "  <thead>\n",
       "    <tr style=\"text-align: right;\">\n",
       "      <th></th>\n",
       "      <th>challengeId</th>\n",
       "      <th>date</th>\n",
       "      <th>prizes</th>\n",
       "      <th>technologies</th>\n",
       "      <th>platforms</th>\n",
       "      <th>per</th>\n",
       "    </tr>\n",
       "  </thead>\n",
       "  <tbody>\n",
       "    <tr>\n",
       "      <th>25895</th>\n",
       "      <td>30029170</td>\n",
       "      <td>2012-08-02</td>\n",
       "      <td>500.0</td>\n",
       "      <td>[]</td>\n",
       "      <td>[]</td>\n",
       "      <td>2012-08</td>\n",
       "    </tr>\n",
       "    <tr>\n",
       "      <th>13594</th>\n",
       "      <td>30062575</td>\n",
       "      <td>2018-01-31</td>\n",
       "      <td>50.0</td>\n",
       "      <td>[]</td>\n",
       "      <td>[]</td>\n",
       "      <td>2018-01</td>\n",
       "    </tr>\n",
       "    <tr>\n",
       "      <th>8867</th>\n",
       "      <td>30056827</td>\n",
       "      <td>2017-03-15</td>\n",
       "      <td>1300.0</td>\n",
       "      <td>[ReactJS, Node.js]</td>\n",
       "      <td>[Heroku]</td>\n",
       "      <td>2017-03</td>\n",
       "    </tr>\n",
       "    <tr>\n",
       "      <th>16192</th>\n",
       "      <td>30066470</td>\n",
       "      <td>2018-06-15</td>\n",
       "      <td>50.0</td>\n",
       "      <td>[Other]</td>\n",
       "      <td>[Other]</td>\n",
       "      <td>2018-06</td>\n",
       "    </tr>\n",
       "    <tr>\n",
       "      <th>36373</th>\n",
       "      <td>30005600</td>\n",
       "      <td>2008-12-02</td>\n",
       "      <td>1000.0</td>\n",
       "      <td>[J2EE, Java, HTML, EJB 3, JPA, Hibernate, MySQL]</td>\n",
       "      <td>[]</td>\n",
       "      <td>2008-12</td>\n",
       "    </tr>\n",
       "  </tbody>\n",
       "</table>\n",
       "</div>"
      ],
      "text/plain": [
       "       challengeId       date  prizes  \\\n",
       "25895     30029170 2012-08-02   500.0   \n",
       "13594     30062575 2018-01-31    50.0   \n",
       "8867      30056827 2017-03-15  1300.0   \n",
       "16192     30066470 2018-06-15    50.0   \n",
       "36373     30005600 2008-12-02  1000.0   \n",
       "\n",
       "                                           technologies platforms      per  \n",
       "25895                                                []        []  2012-08  \n",
       "13594                                                []        []  2018-01  \n",
       "8867                                 [ReactJS, Node.js]  [Heroku]  2017-03  \n",
       "16192                                           [Other]   [Other]  2018-06  \n",
       "36373  [J2EE, Java, HTML, EJB 3, JPA, Hibernate, MySQL]        []  2008-12  "
      ]
     },
     "execution_count": 22,
     "metadata": {},
     "output_type": "execute_result"
    }
   ],
   "source": [
    "batch_df = chag_df.sample(n=10)\n",
    "batch_df.head()"
   ]
  },
  {
   "cell_type": "code",
   "execution_count": 24,
   "metadata": {
    "ExecuteTime": {
     "end_time": "2019-10-02T06:00:06.103212Z",
     "start_time": "2019-10-02T06:00:06.044183Z"
    }
   },
   "outputs": [
    {
     "data": {
      "text/plain": [
       "<20x216 sparse matrix of type '<class 'numpy.int32'>'\n",
       "\twith 42 stored elements in Compressed Sparse Row format>"
      ]
     },
     "execution_count": 24,
     "metadata": {},
     "output_type": "execute_result"
    }
   ],
   "source": [
    "tech_bin.transform(batch_df['technologies'].repeat(2))"
   ]
  },
  {
   "cell_type": "markdown",
   "metadata": {},
   "source": [
    "## Preprocess Registers Dataframe"
   ]
  },
  {
   "cell_type": "code",
   "execution_count": 6,
   "metadata": {
    "ExecuteTime": {
     "end_time": "2019-10-02T03:35:56.862097Z",
     "start_time": "2019-10-02T03:35:56.567085Z"
    }
   },
   "outputs": [
    {
     "data": {
      "text/html": [
       "<div>\n",
       "<style scoped>\n",
       "    .dataframe tbody tr th:only-of-type {\n",
       "        vertical-align: middle;\n",
       "    }\n",
       "\n",
       "    .dataframe tbody tr th {\n",
       "        vertical-align: top;\n",
       "    }\n",
       "\n",
       "    .dataframe thead th {\n",
       "        text-align: right;\n",
       "    }\n",
       "</style>\n",
       "<table border=\"1\" class=\"dataframe\">\n",
       "  <thead>\n",
       "    <tr style=\"text-align: right;\">\n",
       "      <th></th>\n",
       "      <th>challengeId</th>\n",
       "      <th>registant</th>\n",
       "      <th>date</th>\n",
       "    </tr>\n",
       "  </thead>\n",
       "  <tbody>\n",
       "    <tr>\n",
       "      <th>0</th>\n",
       "      <td>30044052</td>\n",
       "      <td>phead</td>\n",
       "      <td>2014-07-09</td>\n",
       "    </tr>\n",
       "    <tr>\n",
       "      <th>1</th>\n",
       "      <td>30044052</td>\n",
       "      <td>lovefreya</td>\n",
       "      <td>2014-07-09</td>\n",
       "    </tr>\n",
       "    <tr>\n",
       "      <th>2</th>\n",
       "      <td>30044052</td>\n",
       "      <td>TMALBONPH</td>\n",
       "      <td>2014-07-09</td>\n",
       "    </tr>\n",
       "    <tr>\n",
       "      <th>3</th>\n",
       "      <td>30044052</td>\n",
       "      <td>daga_sumit</td>\n",
       "      <td>2014-07-09</td>\n",
       "    </tr>\n",
       "    <tr>\n",
       "      <th>4</th>\n",
       "      <td>30044052</td>\n",
       "      <td>abcivashritt</td>\n",
       "      <td>2014-07-09</td>\n",
       "    </tr>\n",
       "  </tbody>\n",
       "</table>\n",
       "</div>"
      ],
      "text/plain": [
       "   challengeId     registant        date\n",
       "0     30044052         phead  2014-07-09\n",
       "1     30044052     lovefreya  2014-07-09\n",
       "2     30044052     TMALBONPH  2014-07-09\n",
       "3     30044052    daga_sumit  2014-07-09\n",
       "4     30044052  abcivashritt  2014-07-09"
      ]
     },
     "execution_count": 6,
     "metadata": {},
     "output_type": "execute_result"
    }
   ],
   "source": [
    "regs_df = pd.read_csv(REGS_PATH)\n",
    "regs_df.head()"
   ]
  },
  {
   "cell_type": "code",
   "execution_count": 72,
   "metadata": {
    "ExecuteTime": {
     "end_time": "2019-10-01T12:47:14.086772Z",
     "start_time": "2019-10-01T12:47:13.954773Z"
    }
   },
   "outputs": [
    {
     "data": {
      "text/plain": [
       "challengeId             int64\n",
       "registant              object\n",
       "date           datetime64[ns]\n",
       "dtype: object"
      ]
     },
     "execution_count": 72,
     "metadata": {},
     "output_type": "execute_result"
    }
   ],
   "source": [
    "regs_df['date'] = pd.to_datetime(regs_df['date'])\n",
    "regs_df.dtypes"
   ]
  },
  {
   "cell_type": "code",
   "execution_count": 73,
   "metadata": {
    "ExecuteTime": {
     "end_time": "2019-10-01T12:47:14.579146Z",
     "start_time": "2019-10-01T12:47:14.442178Z"
    }
   },
   "outputs": [
    {
     "data": {
      "text/plain": [
       "sunbinbrother    7451\n",
       "poundinc_tc      6992\n",
       "woodjhon         6398\n",
       "luckvin          6039\n",
       "Schpotsky        5757\n",
       "Name: registant, dtype: int64"
      ]
     },
     "execution_count": 73,
     "metadata": {},
     "output_type": "execute_result"
    }
   ],
   "source": [
    "regs_counts = regs_df['registant'].value_counts()\n",
    "regs_counts.head()"
   ]
  },
  {
   "cell_type": "code",
   "execution_count": 74,
   "metadata": {
    "ExecuteTime": {
     "end_time": "2019-10-01T12:47:16.168653Z",
     "start_time": "2019-10-01T12:47:16.122546Z"
    }
   },
   "outputs": [
    {
     "data": {
      "text/plain": [
       "(60017,)"
      ]
     },
     "execution_count": 74,
     "metadata": {},
     "output_type": "execute_result"
    }
   ],
   "source": [
    "regs_counts.shape"
   ]
  },
  {
   "cell_type": "code",
   "execution_count": 75,
   "metadata": {
    "ExecuteTime": {
     "end_time": "2019-10-01T12:47:16.513451Z",
     "start_time": "2019-10-01T12:47:16.457452Z"
    }
   },
   "outputs": [
    {
     "data": {
      "text/plain": [
       "(9894,)"
      ]
     },
     "execution_count": 75,
     "metadata": {},
     "output_type": "execute_result"
    }
   ],
   "source": [
    "regs_counts = regs_counts[regs_counts >= 4]\n",
    "regs_counts.shape"
   ]
  },
  {
   "cell_type": "code",
   "execution_count": 76,
   "metadata": {
    "ExecuteTime": {
     "end_time": "2019-10-01T12:47:17.400727Z",
     "start_time": "2019-10-01T12:47:17.354728Z"
    }
   },
   "outputs": [
    {
     "data": {
      "text/plain": [
       "(610025, 3)"
      ]
     },
     "execution_count": 76,
     "metadata": {},
     "output_type": "execute_result"
    }
   ],
   "source": [
    "regs_df.shape"
   ]
  },
  {
   "cell_type": "code",
   "execution_count": 77,
   "metadata": {
    "ExecuteTime": {
     "end_time": "2019-10-01T12:47:19.685389Z",
     "start_time": "2019-10-01T12:47:19.594393Z"
    }
   },
   "outputs": [
    {
     "data": {
      "text/plain": [
       "(544568, 3)"
      ]
     },
     "execution_count": 77,
     "metadata": {},
     "output_type": "execute_result"
    }
   ],
   "source": [
    "regs_df = regs_df[regs_df['registant'].isin(regs_counts.index)]\n",
    "regs_df.shape"
   ]
  },
  {
   "cell_type": "code",
   "execution_count": 78,
   "metadata": {
    "ExecuteTime": {
     "end_time": "2019-10-01T12:47:31.954296Z",
     "start_time": "2019-10-01T12:47:31.674293Z"
    }
   },
   "outputs": [
    {
     "data": {
      "text/html": [
       "<div>\n",
       "<style scoped>\n",
       "    .dataframe tbody tr th:only-of-type {\n",
       "        vertical-align: middle;\n",
       "    }\n",
       "\n",
       "    .dataframe tbody tr th {\n",
       "        vertical-align: top;\n",
       "    }\n",
       "\n",
       "    .dataframe thead th {\n",
       "        text-align: right;\n",
       "    }\n",
       "</style>\n",
       "<table border=\"1\" class=\"dataframe\">\n",
       "  <thead>\n",
       "    <tr style=\"text-align: right;\">\n",
       "      <th></th>\n",
       "      <th>challengeId</th>\n",
       "      <th>registant</th>\n",
       "      <th>date</th>\n",
       "      <th>period</th>\n",
       "    </tr>\n",
       "  </thead>\n",
       "  <tbody>\n",
       "    <tr>\n",
       "      <th>0</th>\n",
       "      <td>30044052</td>\n",
       "      <td>phead</td>\n",
       "      <td>2014-07-09</td>\n",
       "      <td>2014-07</td>\n",
       "    </tr>\n",
       "    <tr>\n",
       "      <th>1</th>\n",
       "      <td>30044052</td>\n",
       "      <td>lovefreya</td>\n",
       "      <td>2014-07-09</td>\n",
       "      <td>2014-07</td>\n",
       "    </tr>\n",
       "    <tr>\n",
       "      <th>2</th>\n",
       "      <td>30044052</td>\n",
       "      <td>TMALBONPH</td>\n",
       "      <td>2014-07-09</td>\n",
       "      <td>2014-07</td>\n",
       "    </tr>\n",
       "    <tr>\n",
       "      <th>3</th>\n",
       "      <td>30044052</td>\n",
       "      <td>daga_sumit</td>\n",
       "      <td>2014-07-09</td>\n",
       "      <td>2014-07</td>\n",
       "    </tr>\n",
       "    <tr>\n",
       "      <th>4</th>\n",
       "      <td>30044052</td>\n",
       "      <td>abcivashritt</td>\n",
       "      <td>2014-07-09</td>\n",
       "      <td>2014-07</td>\n",
       "    </tr>\n",
       "  </tbody>\n",
       "</table>\n",
       "</div>"
      ],
      "text/plain": [
       "   challengeId     registant       date   period\n",
       "0     30044052         phead 2014-07-09  2014-07\n",
       "1     30044052     lovefreya 2014-07-09  2014-07\n",
       "2     30044052     TMALBONPH 2014-07-09  2014-07\n",
       "3     30044052    daga_sumit 2014-07-09  2014-07\n",
       "4     30044052  abcivashritt 2014-07-09  2014-07"
      ]
     },
     "execution_count": 78,
     "metadata": {},
     "output_type": "execute_result"
    }
   ],
   "source": [
    "regs_df['period'] = regs_df['date'].dt.to_period(\"M\")\n",
    "regs_df.head()"
   ]
  },
  {
   "cell_type": "code",
   "execution_count": 82,
   "metadata": {
    "ExecuteTime": {
     "end_time": "2019-10-01T12:48:34.962039Z",
     "start_time": "2019-10-01T12:48:34.739009Z"
    }
   },
   "outputs": [
    {
     "data": {
      "text/html": [
       "<div>\n",
       "<style scoped>\n",
       "    .dataframe tbody tr th:only-of-type {\n",
       "        vertical-align: middle;\n",
       "    }\n",
       "\n",
       "    .dataframe tbody tr th {\n",
       "        vertical-align: top;\n",
       "    }\n",
       "\n",
       "    .dataframe thead th {\n",
       "        text-align: right;\n",
       "    }\n",
       "</style>\n",
       "<table border=\"1\" class=\"dataframe\">\n",
       "  <thead>\n",
       "    <tr style=\"text-align: right;\">\n",
       "      <th></th>\n",
       "      <th>challengeId</th>\n",
       "      <th>registant</th>\n",
       "      <th>date</th>\n",
       "      <th>period</th>\n",
       "    </tr>\n",
       "  </thead>\n",
       "  <tbody>\n",
       "    <tr>\n",
       "      <th>446754</th>\n",
       "      <td>30022003</td>\n",
       "      <td>(acm)zhupeijun</td>\n",
       "      <td>2010-03-17</td>\n",
       "      <td>2010-03</td>\n",
       "    </tr>\n",
       "    <tr>\n",
       "      <th>10253</th>\n",
       "      <td>30045145</td>\n",
       "      <td>(acm)zhupeijun</td>\n",
       "      <td>2014-08-19</td>\n",
       "      <td>2014-08</td>\n",
       "    </tr>\n",
       "    <tr>\n",
       "      <th>16217</th>\n",
       "      <td>30045639</td>\n",
       "      <td>(acm)zhupeijun</td>\n",
       "      <td>2014-09-05</td>\n",
       "      <td>2014-09</td>\n",
       "    </tr>\n",
       "    <tr>\n",
       "      <th>16674</th>\n",
       "      <td>30045678</td>\n",
       "      <td>(acm)zhupeijun</td>\n",
       "      <td>2014-09-08</td>\n",
       "      <td>2014-09</td>\n",
       "    </tr>\n",
       "    <tr>\n",
       "      <th>482618</th>\n",
       "      <td>30000143</td>\n",
       "      <td>-Neo-</td>\n",
       "      <td>2006-11-16</td>\n",
       "      <td>2006-11</td>\n",
       "    </tr>\n",
       "  </tbody>\n",
       "</table>\n",
       "</div>"
      ],
      "text/plain": [
       "        challengeId       registant       date   period\n",
       "446754     30022003  (acm)zhupeijun 2010-03-17  2010-03\n",
       "10253      30045145  (acm)zhupeijun 2014-08-19  2014-08\n",
       "16217      30045639  (acm)zhupeijun 2014-09-05  2014-09\n",
       "16674      30045678  (acm)zhupeijun 2014-09-08  2014-09\n",
       "482618     30000143           -Neo- 2006-11-16  2006-11"
      ]
     },
     "execution_count": 82,
     "metadata": {},
     "output_type": "execute_result"
    }
   ],
   "source": [
    "regs_df = regs_df.sort_values(by=['registant', 'date'])\n",
    "regs_df.head()"
   ]
  },
  {
   "cell_type": "code",
   "execution_count": 83,
   "metadata": {
    "ExecuteTime": {
     "end_time": "2019-10-01T12:49:15.142931Z",
     "start_time": "2019-10-01T12:49:15.083916Z"
    }
   },
   "outputs": [
    {
     "data": {
      "text/html": [
       "<div>\n",
       "<style scoped>\n",
       "    .dataframe tbody tr th:only-of-type {\n",
       "        vertical-align: middle;\n",
       "    }\n",
       "\n",
       "    .dataframe tbody tr th {\n",
       "        vertical-align: top;\n",
       "    }\n",
       "\n",
       "    .dataframe thead th {\n",
       "        text-align: right;\n",
       "    }\n",
       "</style>\n",
       "<table border=\"1\" class=\"dataframe\">\n",
       "  <thead>\n",
       "    <tr style=\"text-align: right;\">\n",
       "      <th></th>\n",
       "      <th>challengeId</th>\n",
       "      <th>registant</th>\n",
       "      <th>date</th>\n",
       "      <th>period</th>\n",
       "      <th>previousId</th>\n",
       "      <th>prevPeriod</th>\n",
       "    </tr>\n",
       "  </thead>\n",
       "  <tbody>\n",
       "    <tr>\n",
       "      <th>446754</th>\n",
       "      <td>30022003</td>\n",
       "      <td>(acm)zhupeijun</td>\n",
       "      <td>2010-03-17</td>\n",
       "      <td>2010-03</td>\n",
       "      <td>30022003</td>\n",
       "      <td>2010-03</td>\n",
       "    </tr>\n",
       "    <tr>\n",
       "      <th>10253</th>\n",
       "      <td>30045145</td>\n",
       "      <td>(acm)zhupeijun</td>\n",
       "      <td>2014-08-19</td>\n",
       "      <td>2014-08</td>\n",
       "      <td>30045145</td>\n",
       "      <td>2014-08</td>\n",
       "    </tr>\n",
       "    <tr>\n",
       "      <th>16217</th>\n",
       "      <td>30045639</td>\n",
       "      <td>(acm)zhupeijun</td>\n",
       "      <td>2014-09-05</td>\n",
       "      <td>2014-09</td>\n",
       "      <td>30045639</td>\n",
       "      <td>2014-09</td>\n",
       "    </tr>\n",
       "    <tr>\n",
       "      <th>16674</th>\n",
       "      <td>30045678</td>\n",
       "      <td>(acm)zhupeijun</td>\n",
       "      <td>2014-09-08</td>\n",
       "      <td>2014-09</td>\n",
       "      <td>30045678</td>\n",
       "      <td>2014-09</td>\n",
       "    </tr>\n",
       "    <tr>\n",
       "      <th>482618</th>\n",
       "      <td>30000143</td>\n",
       "      <td>-Neo-</td>\n",
       "      <td>2006-11-16</td>\n",
       "      <td>2006-11</td>\n",
       "      <td>30000143</td>\n",
       "      <td>2006-11</td>\n",
       "    </tr>\n",
       "  </tbody>\n",
       "</table>\n",
       "</div>"
      ],
      "text/plain": [
       "        challengeId       registant       date   period  previousId prevPeriod\n",
       "446754     30022003  (acm)zhupeijun 2010-03-17  2010-03    30022003    2010-03\n",
       "10253      30045145  (acm)zhupeijun 2014-08-19  2014-08    30045145    2014-08\n",
       "16217      30045639  (acm)zhupeijun 2014-09-05  2014-09    30045639    2014-09\n",
       "16674      30045678  (acm)zhupeijun 2014-09-08  2014-09    30045678    2014-09\n",
       "482618     30000143           -Neo- 2006-11-16  2006-11    30000143    2006-11"
      ]
     },
     "execution_count": 83,
     "metadata": {},
     "output_type": "execute_result"
    }
   ],
   "source": [
    "regs_df['previousId'] = regs_df['challengeId']\n",
    "regs_df['prevPeriod'] = regs_df['period']\n",
    "regs_df.head()"
   ]
  },
  {
   "cell_type": "code",
   "execution_count": 84,
   "metadata": {
    "ExecuteTime": {
     "end_time": "2019-10-01T12:51:18.673492Z",
     "start_time": "2019-10-01T12:51:18.602492Z"
    }
   },
   "outputs": [
    {
     "data": {
      "text/html": [
       "<div>\n",
       "<style scoped>\n",
       "    .dataframe tbody tr th:only-of-type {\n",
       "        vertical-align: middle;\n",
       "    }\n",
       "\n",
       "    .dataframe tbody tr th {\n",
       "        vertical-align: top;\n",
       "    }\n",
       "\n",
       "    .dataframe thead th {\n",
       "        text-align: right;\n",
       "    }\n",
       "</style>\n",
       "<table border=\"1\" class=\"dataframe\">\n",
       "  <thead>\n",
       "    <tr style=\"text-align: right;\">\n",
       "      <th></th>\n",
       "      <th>challengeId</th>\n",
       "      <th>registant</th>\n",
       "      <th>date</th>\n",
       "      <th>period</th>\n",
       "      <th>previousId</th>\n",
       "      <th>prevPeriod</th>\n",
       "    </tr>\n",
       "  </thead>\n",
       "  <tbody>\n",
       "    <tr>\n",
       "      <th>446754</th>\n",
       "      <td>30022003</td>\n",
       "      <td>(acm)zhupeijun</td>\n",
       "      <td>2010-03-17</td>\n",
       "      <td>2010-03</td>\n",
       "      <td>0</td>\n",
       "      <td>2010-03</td>\n",
       "    </tr>\n",
       "    <tr>\n",
       "      <th>10253</th>\n",
       "      <td>30045145</td>\n",
       "      <td>(acm)zhupeijun</td>\n",
       "      <td>2014-08-19</td>\n",
       "      <td>2014-08</td>\n",
       "      <td>30022003</td>\n",
       "      <td>2014-08</td>\n",
       "    </tr>\n",
       "    <tr>\n",
       "      <th>16217</th>\n",
       "      <td>30045639</td>\n",
       "      <td>(acm)zhupeijun</td>\n",
       "      <td>2014-09-05</td>\n",
       "      <td>2014-09</td>\n",
       "      <td>30045145</td>\n",
       "      <td>2014-09</td>\n",
       "    </tr>\n",
       "    <tr>\n",
       "      <th>16674</th>\n",
       "      <td>30045678</td>\n",
       "      <td>(acm)zhupeijun</td>\n",
       "      <td>2014-09-08</td>\n",
       "      <td>2014-09</td>\n",
       "      <td>30045639</td>\n",
       "      <td>2014-09</td>\n",
       "    </tr>\n",
       "    <tr>\n",
       "      <th>482618</th>\n",
       "      <td>30000143</td>\n",
       "      <td>-Neo-</td>\n",
       "      <td>2006-11-16</td>\n",
       "      <td>2006-11</td>\n",
       "      <td>30045678</td>\n",
       "      <td>2006-11</td>\n",
       "    </tr>\n",
       "  </tbody>\n",
       "</table>\n",
       "</div>"
      ],
      "text/plain": [
       "        challengeId       registant       date   period  previousId prevPeriod\n",
       "446754     30022003  (acm)zhupeijun 2010-03-17  2010-03           0    2010-03\n",
       "10253      30045145  (acm)zhupeijun 2014-08-19  2014-08    30022003    2014-08\n",
       "16217      30045639  (acm)zhupeijun 2014-09-05  2014-09    30045145    2014-09\n",
       "16674      30045678  (acm)zhupeijun 2014-09-08  2014-09    30045639    2014-09\n",
       "482618     30000143           -Neo- 2006-11-16  2006-11    30045678    2006-11"
      ]
     },
     "execution_count": 84,
     "metadata": {},
     "output_type": "execute_result"
    }
   ],
   "source": [
    "regs_df['previousId'] = regs_df['previousId'].shift(\n",
    "    periods=1).fillna(0).astype('int64')\n",
    "regs_df.head()"
   ]
  },
  {
   "cell_type": "code",
   "execution_count": 85,
   "metadata": {
    "ExecuteTime": {
     "end_time": "2019-10-01T12:54:20.661647Z",
     "start_time": "2019-10-01T12:54:20.610642Z"
    }
   },
   "outputs": [
    {
     "data": {
      "text/plain": [
       "Period('2010-03', 'M')"
      ]
     },
     "execution_count": 85,
     "metadata": {},
     "output_type": "execute_result"
    }
   ],
   "source": [
    "fill_v = regs_df['period'].iloc[0]\n",
    "fill_v"
   ]
  },
  {
   "cell_type": "code",
   "execution_count": 86,
   "metadata": {
    "ExecuteTime": {
     "end_time": "2019-10-01T12:55:24.759076Z",
     "start_time": "2019-10-01T12:55:24.692080Z"
    }
   },
   "outputs": [
    {
     "data": {
      "text/html": [
       "<div>\n",
       "<style scoped>\n",
       "    .dataframe tbody tr th:only-of-type {\n",
       "        vertical-align: middle;\n",
       "    }\n",
       "\n",
       "    .dataframe tbody tr th {\n",
       "        vertical-align: top;\n",
       "    }\n",
       "\n",
       "    .dataframe thead th {\n",
       "        text-align: right;\n",
       "    }\n",
       "</style>\n",
       "<table border=\"1\" class=\"dataframe\">\n",
       "  <thead>\n",
       "    <tr style=\"text-align: right;\">\n",
       "      <th></th>\n",
       "      <th>challengeId</th>\n",
       "      <th>registant</th>\n",
       "      <th>date</th>\n",
       "      <th>period</th>\n",
       "      <th>previousId</th>\n",
       "      <th>prevPeriod</th>\n",
       "    </tr>\n",
       "  </thead>\n",
       "  <tbody>\n",
       "    <tr>\n",
       "      <th>446754</th>\n",
       "      <td>30022003</td>\n",
       "      <td>(acm)zhupeijun</td>\n",
       "      <td>2010-03-17</td>\n",
       "      <td>2010-03</td>\n",
       "      <td>0</td>\n",
       "      <td>2010-03</td>\n",
       "    </tr>\n",
       "    <tr>\n",
       "      <th>10253</th>\n",
       "      <td>30045145</td>\n",
       "      <td>(acm)zhupeijun</td>\n",
       "      <td>2014-08-19</td>\n",
       "      <td>2014-08</td>\n",
       "      <td>30022003</td>\n",
       "      <td>2010-03</td>\n",
       "    </tr>\n",
       "    <tr>\n",
       "      <th>16217</th>\n",
       "      <td>30045639</td>\n",
       "      <td>(acm)zhupeijun</td>\n",
       "      <td>2014-09-05</td>\n",
       "      <td>2014-09</td>\n",
       "      <td>30045145</td>\n",
       "      <td>2014-08</td>\n",
       "    </tr>\n",
       "    <tr>\n",
       "      <th>16674</th>\n",
       "      <td>30045678</td>\n",
       "      <td>(acm)zhupeijun</td>\n",
       "      <td>2014-09-08</td>\n",
       "      <td>2014-09</td>\n",
       "      <td>30045639</td>\n",
       "      <td>2014-09</td>\n",
       "    </tr>\n",
       "    <tr>\n",
       "      <th>482618</th>\n",
       "      <td>30000143</td>\n",
       "      <td>-Neo-</td>\n",
       "      <td>2006-11-16</td>\n",
       "      <td>2006-11</td>\n",
       "      <td>30045678</td>\n",
       "      <td>2014-09</td>\n",
       "    </tr>\n",
       "  </tbody>\n",
       "</table>\n",
       "</div>"
      ],
      "text/plain": [
       "        challengeId       registant       date   period  previousId prevPeriod\n",
       "446754     30022003  (acm)zhupeijun 2010-03-17  2010-03           0    2010-03\n",
       "10253      30045145  (acm)zhupeijun 2014-08-19  2014-08    30022003    2010-03\n",
       "16217      30045639  (acm)zhupeijun 2014-09-05  2014-09    30045145    2014-08\n",
       "16674      30045678  (acm)zhupeijun 2014-09-08  2014-09    30045639    2014-09\n",
       "482618     30000143           -Neo- 2006-11-16  2006-11    30045678    2014-09"
      ]
     },
     "execution_count": 86,
     "metadata": {},
     "output_type": "execute_result"
    }
   ],
   "source": [
    "regs_df['prevPeriod'] = regs_df['prevPeriod'].shift(periods=1).fillna(fill_v)\n",
    "regs_df.head()"
   ]
  },
  {
   "cell_type": "code",
   "execution_count": 87,
   "metadata": {
    "ExecuteTime": {
     "end_time": "2019-10-01T12:57:41.975935Z",
     "start_time": "2019-10-01T12:57:41.882936Z"
    }
   },
   "outputs": [
    {
     "data": {
      "text/plain": [
       "446754    False\n",
       "10253      True\n",
       "16217      True\n",
       "16674      True\n",
       "482618    False\n",
       "dtype: bool"
      ]
     },
     "execution_count": 87,
     "metadata": {},
     "output_type": "execute_result"
    }
   ],
   "source": [
    "first_mask = regs_df.duplicated(subset=['registant'], keep='first')\n",
    "first_mask.head()"
   ]
  },
  {
   "cell_type": "code",
   "execution_count": 88,
   "metadata": {
    "ExecuteTime": {
     "end_time": "2019-10-01T12:59:16.757426Z",
     "start_time": "2019-10-01T12:59:16.666424Z"
    }
   },
   "outputs": [
    {
     "data": {
      "text/html": [
       "<div>\n",
       "<style scoped>\n",
       "    .dataframe tbody tr th:only-of-type {\n",
       "        vertical-align: middle;\n",
       "    }\n",
       "\n",
       "    .dataframe tbody tr th {\n",
       "        vertical-align: top;\n",
       "    }\n",
       "\n",
       "    .dataframe thead th {\n",
       "        text-align: right;\n",
       "    }\n",
       "</style>\n",
       "<table border=\"1\" class=\"dataframe\">\n",
       "  <thead>\n",
       "    <tr style=\"text-align: right;\">\n",
       "      <th></th>\n",
       "      <th>challengeId</th>\n",
       "      <th>registant</th>\n",
       "      <th>date</th>\n",
       "      <th>period</th>\n",
       "      <th>previousId</th>\n",
       "      <th>prevPeriod</th>\n",
       "    </tr>\n",
       "  </thead>\n",
       "  <tbody>\n",
       "    <tr>\n",
       "      <th>446754</th>\n",
       "      <td>30022003</td>\n",
       "      <td>(acm)zhupeijun</td>\n",
       "      <td>2010-03-17</td>\n",
       "      <td>2010-03</td>\n",
       "      <td>-1</td>\n",
       "      <td>2010-03</td>\n",
       "    </tr>\n",
       "    <tr>\n",
       "      <th>482618</th>\n",
       "      <td>30000143</td>\n",
       "      <td>-Neo-</td>\n",
       "      <td>2006-11-16</td>\n",
       "      <td>2006-11</td>\n",
       "      <td>-1</td>\n",
       "      <td>2014-09</td>\n",
       "    </tr>\n",
       "    <tr>\n",
       "      <th>166877</th>\n",
       "      <td>30055022</td>\n",
       "      <td>-_-33</td>\n",
       "      <td>2016-08-19</td>\n",
       "      <td>2016-08</td>\n",
       "      <td>-1</td>\n",
       "      <td>2007-08</td>\n",
       "    </tr>\n",
       "    <tr>\n",
       "      <th>588599</th>\n",
       "      <td>30003421</td>\n",
       "      <td>-jacob-</td>\n",
       "      <td>2008-01-24</td>\n",
       "      <td>2008-01</td>\n",
       "      <td>-1</td>\n",
       "      <td>2016-12</td>\n",
       "    </tr>\n",
       "    <tr>\n",
       "      <th>588099</th>\n",
       "      <td>30003490</td>\n",
       "      <td>-kotenok-</td>\n",
       "      <td>2008-01-31</td>\n",
       "      <td>2008-01</td>\n",
       "      <td>-1</td>\n",
       "      <td>2014-07</td>\n",
       "    </tr>\n",
       "  </tbody>\n",
       "</table>\n",
       "</div>"
      ],
      "text/plain": [
       "        challengeId       registant       date   period  previousId prevPeriod\n",
       "446754     30022003  (acm)zhupeijun 2010-03-17  2010-03          -1    2010-03\n",
       "482618     30000143           -Neo- 2006-11-16  2006-11          -1    2014-09\n",
       "166877     30055022           -_-33 2016-08-19  2016-08          -1    2007-08\n",
       "588599     30003421         -jacob- 2008-01-24  2008-01          -1    2016-12\n",
       "588099     30003490       -kotenok- 2008-01-31  2008-01          -1    2014-07"
      ]
     },
     "execution_count": 88,
     "metadata": {},
     "output_type": "execute_result"
    }
   ],
   "source": [
    "regs_df['previousId'] = regs_df['previousId'].where(first_mask, -1)\n",
    "regs_df[~first_mask].head()"
   ]
  },
  {
   "cell_type": "markdown",
   "metadata": {},
   "source": [
    "## Batch collate function"
   ]
  },
  {
   "cell_type": "code",
   "execution_count": 89,
   "metadata": {
    "ExecuteTime": {
     "end_time": "2019-10-01T13:01:13.325971Z",
     "start_time": "2019-10-01T13:01:13.258616Z"
    }
   },
   "outputs": [
    {
     "data": {
      "text/html": [
       "<div>\n",
       "<style scoped>\n",
       "    .dataframe tbody tr th:only-of-type {\n",
       "        vertical-align: middle;\n",
       "    }\n",
       "\n",
       "    .dataframe tbody tr th {\n",
       "        vertical-align: top;\n",
       "    }\n",
       "\n",
       "    .dataframe thead th {\n",
       "        text-align: right;\n",
       "    }\n",
       "</style>\n",
       "<table border=\"1\" class=\"dataframe\">\n",
       "  <thead>\n",
       "    <tr style=\"text-align: right;\">\n",
       "      <th></th>\n",
       "      <th>challengeId</th>\n",
       "      <th>registant</th>\n",
       "      <th>date</th>\n",
       "      <th>period</th>\n",
       "      <th>previousId</th>\n",
       "      <th>prevPeriod</th>\n",
       "    </tr>\n",
       "  </thead>\n",
       "  <tbody>\n",
       "    <tr>\n",
       "      <th>519872</th>\n",
       "      <td>30011548</td>\n",
       "      <td>laura_p</td>\n",
       "      <td>2010-05-12</td>\n",
       "      <td>2010-05</td>\n",
       "      <td>30011545</td>\n",
       "      <td>2010-05</td>\n",
       "    </tr>\n",
       "    <tr>\n",
       "      <th>83677</th>\n",
       "      <td>30050748</td>\n",
       "      <td>alfiya_Zi</td>\n",
       "      <td>2015-07-09</td>\n",
       "      <td>2015-07</td>\n",
       "      <td>30050746</td>\n",
       "      <td>2015-07</td>\n",
       "    </tr>\n",
       "    <tr>\n",
       "      <th>572147</th>\n",
       "      <td>30005363</td>\n",
       "      <td>Veonax</td>\n",
       "      <td>2008-10-13</td>\n",
       "      <td>2008-10</td>\n",
       "      <td>30021002</td>\n",
       "      <td>2008-10</td>\n",
       "    </tr>\n",
       "    <tr>\n",
       "      <th>19759</th>\n",
       "      <td>30045980</td>\n",
       "      <td>sunbinbrother</td>\n",
       "      <td>2014-09-23</td>\n",
       "      <td>2014-09</td>\n",
       "      <td>30045979</td>\n",
       "      <td>2014-09</td>\n",
       "    </tr>\n",
       "    <tr>\n",
       "      <th>479623</th>\n",
       "      <td>30017204</td>\n",
       "      <td>LOY</td>\n",
       "      <td>2011-04-19</td>\n",
       "      <td>2011-04</td>\n",
       "      <td>30015818</td>\n",
       "      <td>2010-11</td>\n",
       "    </tr>\n",
       "  </tbody>\n",
       "</table>\n",
       "</div>"
      ],
      "text/plain": [
       "        challengeId      registant       date   period  previousId prevPeriod\n",
       "519872     30011548        laura_p 2010-05-12  2010-05    30011545    2010-05\n",
       "83677      30050748      alfiya_Zi 2015-07-09  2015-07    30050746    2015-07\n",
       "572147     30005363         Veonax 2008-10-13  2008-10    30021002    2008-10\n",
       "19759      30045980  sunbinbrother 2014-09-23  2014-09    30045979    2014-09\n",
       "479623     30017204            LOY 2011-04-19  2011-04    30015818    2010-11"
      ]
     },
     "execution_count": 89,
     "metadata": {},
     "output_type": "execute_result"
    }
   ],
   "source": [
    "batch_df = regs_df.sample(n=10)\n",
    "batch_df.head()"
   ]
  },
  {
   "cell_type": "code",
   "execution_count": 94,
   "metadata": {
    "ExecuteTime": {
     "end_time": "2019-10-01T13:02:54.922662Z",
     "start_time": "2019-10-01T13:02:54.874663Z"
    }
   },
   "outputs": [
    {
     "data": {
      "text/plain": [
       "519872    2010-05\n",
       "83677     2015-07\n",
       "572147    2008-10\n",
       "19759     2014-09\n",
       "479623    2011-04\n",
       "609627    2006-12\n",
       "179195    2016-10\n",
       "528394    2010-03\n",
       "563840    2009-02\n",
       "450520    2009-09\n",
       "Name: period, dtype: period[M]"
      ]
     },
     "execution_count": 94,
     "metadata": {},
     "output_type": "execute_result"
    }
   ],
   "source": [
    "# Sampel negative df list\n",
    "per_series = batch_df.period\n",
    "per_series"
   ]
  },
  {
   "cell_type": "code",
   "execution_count": 92,
   "metadata": {
    "ExecuteTime": {
     "end_time": "2019-10-01T13:02:38.937564Z",
     "start_time": "2019-10-01T13:02:38.882539Z"
    }
   },
   "outputs": [
    {
     "data": {
      "text/html": [
       "<div>\n",
       "<style scoped>\n",
       "    .dataframe tbody tr th:only-of-type {\n",
       "        vertical-align: middle;\n",
       "    }\n",
       "\n",
       "    .dataframe tbody tr th {\n",
       "        vertical-align: top;\n",
       "    }\n",
       "\n",
       "    .dataframe thead th {\n",
       "        text-align: right;\n",
       "    }\n",
       "</style>\n",
       "<table border=\"1\" class=\"dataframe\">\n",
       "  <thead>\n",
       "    <tr style=\"text-align: right;\">\n",
       "      <th></th>\n",
       "      <th>challengeId</th>\n",
       "      <th>date</th>\n",
       "      <th>prizes</th>\n",
       "      <th>technologies</th>\n",
       "      <th>platforms</th>\n",
       "      <th>per</th>\n",
       "    </tr>\n",
       "  </thead>\n",
       "  <tbody>\n",
       "    <tr>\n",
       "      <th>0</th>\n",
       "      <td>30044052</td>\n",
       "      <td>2014-07-09</td>\n",
       "      <td>1800.0</td>\n",
       "      <td>[HTML]</td>\n",
       "      <td>[HTML]</td>\n",
       "      <td>2014-07</td>\n",
       "    </tr>\n",
       "    <tr>\n",
       "      <th>1</th>\n",
       "      <td>30044053</td>\n",
       "      <td>2014-07-09</td>\n",
       "      <td>1250.0</td>\n",
       "      <td>[Salesforce, Apex, Visualforce]</td>\n",
       "      <td>[Force.com, Salesforce.com]</td>\n",
       "      <td>2014-07</td>\n",
       "    </tr>\n",
       "    <tr>\n",
       "      <th>2</th>\n",
       "      <td>30044054</td>\n",
       "      <td>2014-07-09</td>\n",
       "      <td>400.0</td>\n",
       "      <td>[Java, MySQL, REST]</td>\n",
       "      <td>[AWS]</td>\n",
       "      <td>2014-07</td>\n",
       "    </tr>\n",
       "    <tr>\n",
       "      <th>3</th>\n",
       "      <td>30044055</td>\n",
       "      <td>2014-07-09</td>\n",
       "      <td>400.0</td>\n",
       "      <td>[iOS]</td>\n",
       "      <td>[iOS]</td>\n",
       "      <td>2014-07</td>\n",
       "    </tr>\n",
       "    <tr>\n",
       "      <th>4</th>\n",
       "      <td>30044056</td>\n",
       "      <td>2014-07-09</td>\n",
       "      <td>400.0</td>\n",
       "      <td>[iOS]</td>\n",
       "      <td>[iOS]</td>\n",
       "      <td>2014-07</td>\n",
       "    </tr>\n",
       "  </tbody>\n",
       "</table>\n",
       "</div>"
      ],
      "text/plain": [
       "   challengeId       date  prizes                     technologies  \\\n",
       "0     30044052 2014-07-09  1800.0                           [HTML]   \n",
       "1     30044053 2014-07-09  1250.0  [Salesforce, Apex, Visualforce]   \n",
       "2     30044054 2014-07-09   400.0              [Java, MySQL, REST]   \n",
       "3     30044055 2014-07-09   400.0                            [iOS]   \n",
       "4     30044056 2014-07-09   400.0                            [iOS]   \n",
       "\n",
       "                     platforms      per  \n",
       "0                       [HTML]  2014-07  \n",
       "1  [Force.com, Salesforce.com]  2014-07  \n",
       "2                        [AWS]  2014-07  \n",
       "3                        [iOS]  2014-07  \n",
       "4                        [iOS]  2014-07  "
      ]
     },
     "execution_count": 92,
     "metadata": {},
     "output_type": "execute_result"
    }
   ],
   "source": [
    "chag_df.head()"
   ]
  },
  {
   "cell_type": "code",
   "execution_count": 97,
   "metadata": {
    "ExecuteTime": {
     "end_time": "2019-10-01T13:48:41.385154Z",
     "start_time": "2019-10-01T13:48:41.316129Z"
    }
   },
   "outputs": [
    {
     "data": {
      "text/html": [
       "<div>\n",
       "<style scoped>\n",
       "    .dataframe tbody tr th:only-of-type {\n",
       "        vertical-align: middle;\n",
       "    }\n",
       "\n",
       "    .dataframe tbody tr th {\n",
       "        vertical-align: top;\n",
       "    }\n",
       "\n",
       "    .dataframe thead th {\n",
       "        text-align: right;\n",
       "    }\n",
       "</style>\n",
       "<table border=\"1\" class=\"dataframe\">\n",
       "  <thead>\n",
       "    <tr style=\"text-align: right;\">\n",
       "      <th></th>\n",
       "      <th>challengeId</th>\n",
       "      <th>date</th>\n",
       "      <th>prizes</th>\n",
       "      <th>technologies</th>\n",
       "      <th>platforms</th>\n",
       "      <th>per</th>\n",
       "    </tr>\n",
       "  </thead>\n",
       "  <tbody>\n",
       "    <tr>\n",
       "      <th>29164</th>\n",
       "      <td>30022082</td>\n",
       "      <td>2010-05-21</td>\n",
       "      <td>750.0</td>\n",
       "      <td>[]</td>\n",
       "      <td>[]</td>\n",
       "      <td>2010-05</td>\n",
       "    </tr>\n",
       "    <tr>\n",
       "      <th>33765</th>\n",
       "      <td>30011050</td>\n",
       "      <td>2010-05-04</td>\n",
       "      <td>800.0</td>\n",
       "      <td>[C#, .NET 3.5]</td>\n",
       "      <td>[]</td>\n",
       "      <td>2010-05</td>\n",
       "    </tr>\n",
       "  </tbody>\n",
       "</table>\n",
       "</div>"
      ],
      "text/plain": [
       "       challengeId       date  prizes    technologies platforms      per\n",
       "29164     30022082 2010-05-21   750.0              []        []  2010-05\n",
       "33765     30011050 2010-05-04   800.0  [C#, .NET 3.5]        []  2010-05"
      ]
     },
     "execution_count": 97,
     "metadata": {},
     "output_type": "execute_result"
    }
   ],
   "source": [
    "neg_list = [chag_df[chag_df['per'] == per].sample(n=2) for per in per_series]\n",
    "neg_list[0]"
   ]
  },
  {
   "cell_type": "code",
   "execution_count": 98,
   "metadata": {
    "ExecuteTime": {
     "end_time": "2019-10-01T13:50:07.149105Z",
     "start_time": "2019-10-01T13:50:07.084108Z"
    }
   },
   "outputs": [
    {
     "data": {
      "text/html": [
       "<div>\n",
       "<style scoped>\n",
       "    .dataframe tbody tr th:only-of-type {\n",
       "        vertical-align: middle;\n",
       "    }\n",
       "\n",
       "    .dataframe tbody tr th {\n",
       "        vertical-align: top;\n",
       "    }\n",
       "\n",
       "    .dataframe thead th {\n",
       "        text-align: right;\n",
       "    }\n",
       "</style>\n",
       "<table border=\"1\" class=\"dataframe\">\n",
       "  <thead>\n",
       "    <tr style=\"text-align: right;\">\n",
       "      <th></th>\n",
       "      <th>challengeId</th>\n",
       "      <th>date</th>\n",
       "      <th>prizes</th>\n",
       "      <th>technologies</th>\n",
       "      <th>platforms</th>\n",
       "      <th>per</th>\n",
       "    </tr>\n",
       "  </thead>\n",
       "  <tbody>\n",
       "    <tr>\n",
       "      <th>29164</th>\n",
       "      <td>30022082</td>\n",
       "      <td>2010-05-21</td>\n",
       "      <td>750.0</td>\n",
       "      <td>[]</td>\n",
       "      <td>[]</td>\n",
       "      <td>2010-05</td>\n",
       "    </tr>\n",
       "    <tr>\n",
       "      <th>33765</th>\n",
       "      <td>30011050</td>\n",
       "      <td>2010-05-04</td>\n",
       "      <td>800.0</td>\n",
       "      <td>[C#, .NET 3.5]</td>\n",
       "      <td>[]</td>\n",
       "      <td>2010-05</td>\n",
       "    </tr>\n",
       "    <tr>\n",
       "      <th>4982</th>\n",
       "      <td>30050970</td>\n",
       "      <td>2015-07-30</td>\n",
       "      <td>1.0</td>\n",
       "      <td>[]</td>\n",
       "      <td>[]</td>\n",
       "      <td>2015-07</td>\n",
       "    </tr>\n",
       "    <tr>\n",
       "      <th>4836</th>\n",
       "      <td>30050747</td>\n",
       "      <td>2015-07-09</td>\n",
       "      <td>1300.0</td>\n",
       "      <td>[]</td>\n",
       "      <td>[]</td>\n",
       "      <td>2015-07</td>\n",
       "    </tr>\n",
       "    <tr>\n",
       "      <th>36571</th>\n",
       "      <td>30005312</td>\n",
       "      <td>2008-10-01</td>\n",
       "      <td>1250.0</td>\n",
       "      <td>[.NET, C#, Windows Communication Foundation]</td>\n",
       "      <td>[]</td>\n",
       "      <td>2008-10</td>\n",
       "    </tr>\n",
       "    <tr>\n",
       "      <th>36500</th>\n",
       "      <td>30005422</td>\n",
       "      <td>2008-10-23</td>\n",
       "      <td>100.0</td>\n",
       "      <td>[Flex]</td>\n",
       "      <td>[]</td>\n",
       "      <td>2008-10</td>\n",
       "    </tr>\n",
       "    <tr>\n",
       "      <th>1146</th>\n",
       "      <td>30045542</td>\n",
       "      <td>2014-09-02</td>\n",
       "      <td>250.0</td>\n",
       "      <td>[HTML5]</td>\n",
       "      <td>[HTML]</td>\n",
       "      <td>2014-09</td>\n",
       "    </tr>\n",
       "    <tr>\n",
       "      <th>1175</th>\n",
       "      <td>30045578</td>\n",
       "      <td>2014-09-03</td>\n",
       "      <td>250.0</td>\n",
       "      <td>[PostgreSQL, Node.js, Angular.js (1.0)]</td>\n",
       "      <td>[NodeJS]</td>\n",
       "      <td>2014-09</td>\n",
       "    </tr>\n",
       "    <tr>\n",
       "      <th>31237</th>\n",
       "      <td>30016793</td>\n",
       "      <td>2011-04-04</td>\n",
       "      <td>500.0</td>\n",
       "      <td>[J2EE, Java, Spring, Hibernate, IBM DB2]</td>\n",
       "      <td>[]</td>\n",
       "      <td>2011-04</td>\n",
       "    </tr>\n",
       "    <tr>\n",
       "      <th>30933</th>\n",
       "      <td>30017209</td>\n",
       "      <td>2011-04-18</td>\n",
       "      <td>300.0</td>\n",
       "      <td>[]</td>\n",
       "      <td>[]</td>\n",
       "      <td>2011-04</td>\n",
       "    </tr>\n",
       "    <tr>\n",
       "      <th>39878</th>\n",
       "      <td>30000434</td>\n",
       "      <td>2006-12-12</td>\n",
       "      <td>1200.0</td>\n",
       "      <td>[.NET, C#]</td>\n",
       "      <td>[]</td>\n",
       "      <td>2006-12</td>\n",
       "    </tr>\n",
       "    <tr>\n",
       "      <th>39880</th>\n",
       "      <td>30000432</td>\n",
       "      <td>2006-12-12</td>\n",
       "      <td>1200.0</td>\n",
       "      <td>[.NET, C#]</td>\n",
       "      <td>[]</td>\n",
       "      <td>2006-12</td>\n",
       "    </tr>\n",
       "    <tr>\n",
       "      <th>7805</th>\n",
       "      <td>30055265</td>\n",
       "      <td>2016-10-14</td>\n",
       "      <td>800.0</td>\n",
       "      <td>[HTML, JavaScript]</td>\n",
       "      <td>[HTML]</td>\n",
       "      <td>2016-10</td>\n",
       "    </tr>\n",
       "    <tr>\n",
       "      <th>8026</th>\n",
       "      <td>30055600</td>\n",
       "      <td>2016-10-28</td>\n",
       "      <td>450.0</td>\n",
       "      <td>[Other]</td>\n",
       "      <td>[NodeJS]</td>\n",
       "      <td>2016-10</td>\n",
       "    </tr>\n",
       "    <tr>\n",
       "      <th>34353</th>\n",
       "      <td>30009478</td>\n",
       "      <td>2010-03-19</td>\n",
       "      <td>500.0</td>\n",
       "      <td>[Java, JavaBean, Spring, Hibernate]</td>\n",
       "      <td>[]</td>\n",
       "      <td>2010-03</td>\n",
       "    </tr>\n",
       "    <tr>\n",
       "      <th>34045</th>\n",
       "      <td>30010281</td>\n",
       "      <td>2010-03-16</td>\n",
       "      <td>500.0</td>\n",
       "      <td>[]</td>\n",
       "      <td>[]</td>\n",
       "      <td>2010-03</td>\n",
       "    </tr>\n",
       "    <tr>\n",
       "      <th>36058</th>\n",
       "      <td>30006059</td>\n",
       "      <td>2009-02-24</td>\n",
       "      <td>750.0</td>\n",
       "      <td>[Java, JSP, Java Application, SQL]</td>\n",
       "      <td>[]</td>\n",
       "      <td>2009-02</td>\n",
       "    </tr>\n",
       "    <tr>\n",
       "      <th>36110</th>\n",
       "      <td>30005963</td>\n",
       "      <td>2009-02-13</td>\n",
       "      <td>325.0</td>\n",
       "      <td>[Java, EJB 3, Hibernate]</td>\n",
       "      <td>[]</td>\n",
       "      <td>2009-02</td>\n",
       "    </tr>\n",
       "    <tr>\n",
       "      <th>29343</th>\n",
       "      <td>30021757</td>\n",
       "      <td>2009-09-16</td>\n",
       "      <td>1250.0</td>\n",
       "      <td>[]</td>\n",
       "      <td>[]</td>\n",
       "      <td>2009-09</td>\n",
       "    </tr>\n",
       "    <tr>\n",
       "      <th>35228</th>\n",
       "      <td>30007398</td>\n",
       "      <td>2009-09-08</td>\n",
       "      <td>300.0</td>\n",
       "      <td>[Java, Struts]</td>\n",
       "      <td>[]</td>\n",
       "      <td>2009-09</td>\n",
       "    </tr>\n",
       "  </tbody>\n",
       "</table>\n",
       "</div>"
      ],
      "text/plain": [
       "       challengeId       date  prizes  \\\n",
       "29164     30022082 2010-05-21   750.0   \n",
       "33765     30011050 2010-05-04   800.0   \n",
       "4982      30050970 2015-07-30     1.0   \n",
       "4836      30050747 2015-07-09  1300.0   \n",
       "36571     30005312 2008-10-01  1250.0   \n",
       "36500     30005422 2008-10-23   100.0   \n",
       "1146      30045542 2014-09-02   250.0   \n",
       "1175      30045578 2014-09-03   250.0   \n",
       "31237     30016793 2011-04-04   500.0   \n",
       "30933     30017209 2011-04-18   300.0   \n",
       "39878     30000434 2006-12-12  1200.0   \n",
       "39880     30000432 2006-12-12  1200.0   \n",
       "7805      30055265 2016-10-14   800.0   \n",
       "8026      30055600 2016-10-28   450.0   \n",
       "34353     30009478 2010-03-19   500.0   \n",
       "34045     30010281 2010-03-16   500.0   \n",
       "36058     30006059 2009-02-24   750.0   \n",
       "36110     30005963 2009-02-13   325.0   \n",
       "29343     30021757 2009-09-16  1250.0   \n",
       "35228     30007398 2009-09-08   300.0   \n",
       "\n",
       "                                       technologies platforms      per  \n",
       "29164                                            []        []  2010-05  \n",
       "33765                                [C#, .NET 3.5]        []  2010-05  \n",
       "4982                                             []        []  2015-07  \n",
       "4836                                             []        []  2015-07  \n",
       "36571  [.NET, C#, Windows Communication Foundation]        []  2008-10  \n",
       "36500                                        [Flex]        []  2008-10  \n",
       "1146                                        [HTML5]    [HTML]  2014-09  \n",
       "1175        [PostgreSQL, Node.js, Angular.js (1.0)]  [NodeJS]  2014-09  \n",
       "31237      [J2EE, Java, Spring, Hibernate, IBM DB2]        []  2011-04  \n",
       "30933                                            []        []  2011-04  \n",
       "39878                                    [.NET, C#]        []  2006-12  \n",
       "39880                                    [.NET, C#]        []  2006-12  \n",
       "7805                             [HTML, JavaScript]    [HTML]  2016-10  \n",
       "8026                                        [Other]  [NodeJS]  2016-10  \n",
       "34353           [Java, JavaBean, Spring, Hibernate]        []  2010-03  \n",
       "34045                                            []        []  2010-03  \n",
       "36058            [Java, JSP, Java Application, SQL]        []  2009-02  \n",
       "36110                      [Java, EJB 3, Hibernate]        []  2009-02  \n",
       "29343                                            []        []  2009-09  \n",
       "35228                                [Java, Struts]        []  2009-09  "
      ]
     },
     "execution_count": 98,
     "metadata": {},
     "output_type": "execute_result"
    }
   ],
   "source": [
    "pd.concat(neg_list)"
   ]
  },
  {
   "cell_type": "code",
   "execution_count": 7,
   "metadata": {
    "ExecuteTime": {
     "end_time": "2019-10-02T03:36:03.162449Z",
     "start_time": "2019-10-02T03:36:03.106449Z"
    }
   },
   "outputs": [],
   "source": [
    "from sklearn.preprocessing import OneHotEncoder"
   ]
  },
  {
   "cell_type": "code",
   "execution_count": 8,
   "metadata": {
    "ExecuteTime": {
     "end_time": "2019-10-02T03:36:12.535256Z",
     "start_time": "2019-10-02T03:36:12.457255Z"
    }
   },
   "outputs": [
    {
     "data": {
      "text/plain": [
       "OneHotEncoder(categorical_features=None, categories='auto', drop=None,\n",
       "              dtype=<class 'numpy.float64'>, handle_unknown='error',\n",
       "              n_values=None, sparse=True)"
      ]
     },
     "execution_count": 8,
     "metadata": {},
     "output_type": "execute_result"
    }
   ],
   "source": [
    "chag_encoder = OneHotEncoder(categories='auto', handle_unknown='error')\n",
    "chag_encoder.fit(regs_df[['challengeId']])"
   ]
  },
  {
   "cell_type": "code",
   "execution_count": 9,
   "metadata": {
    "ExecuteTime": {
     "end_time": "2019-10-02T03:36:45.119496Z",
     "start_time": "2019-10-02T03:36:45.042498Z"
    }
   },
   "outputs": [
    {
     "data": {
      "text/html": [
       "<div>\n",
       "<style scoped>\n",
       "    .dataframe tbody tr th:only-of-type {\n",
       "        vertical-align: middle;\n",
       "    }\n",
       "\n",
       "    .dataframe tbody tr th {\n",
       "        vertical-align: top;\n",
       "    }\n",
       "\n",
       "    .dataframe thead th {\n",
       "        text-align: right;\n",
       "    }\n",
       "</style>\n",
       "<table border=\"1\" class=\"dataframe\">\n",
       "  <thead>\n",
       "    <tr style=\"text-align: right;\">\n",
       "      <th></th>\n",
       "      <th>challengeId</th>\n",
       "      <th>registant</th>\n",
       "      <th>date</th>\n",
       "    </tr>\n",
       "  </thead>\n",
       "  <tbody>\n",
       "    <tr>\n",
       "      <th>109963</th>\n",
       "      <td>30052023</td>\n",
       "      <td>naeem95m</td>\n",
       "      <td>2016-01-16</td>\n",
       "    </tr>\n",
       "    <tr>\n",
       "      <th>274846</th>\n",
       "      <td>30067807</td>\n",
       "      <td>feiyusk</td>\n",
       "      <td>2018-07-12</td>\n",
       "    </tr>\n",
       "    <tr>\n",
       "      <th>100732</th>\n",
       "      <td>30051596</td>\n",
       "      <td>m-v-kachalov</td>\n",
       "      <td>2015-10-02</td>\n",
       "    </tr>\n",
       "    <tr>\n",
       "      <th>423947</th>\n",
       "      <td>30025000</td>\n",
       "      <td>caru</td>\n",
       "      <td>2011-12-12</td>\n",
       "    </tr>\n",
       "    <tr>\n",
       "      <th>355629</th>\n",
       "      <td>30034436</td>\n",
       "      <td>lanchongyizu</td>\n",
       "      <td>2014-01-29</td>\n",
       "    </tr>\n",
       "  </tbody>\n",
       "</table>\n",
       "</div>"
      ],
      "text/plain": [
       "        challengeId     registant        date\n",
       "109963     30052023      naeem95m  2016-01-16\n",
       "274846     30067807       feiyusk  2018-07-12\n",
       "100732     30051596  m-v-kachalov  2015-10-02\n",
       "423947     30025000          caru  2011-12-12\n",
       "355629     30034436  lanchongyizu  2014-01-29"
      ]
     },
     "execution_count": 9,
     "metadata": {},
     "output_type": "execute_result"
    }
   ],
   "source": [
    "batch_df = regs_df.sample(n=5)\n",
    "batch_df.head()"
   ]
  },
  {
   "cell_type": "code",
   "execution_count": 22,
   "metadata": {
    "ExecuteTime": {
     "end_time": "2019-10-02T03:42:24.598517Z",
     "start_time": "2019-10-02T03:42:24.537515Z"
    }
   },
   "outputs": [
    {
     "data": {
      "text/plain": [
       "<5x39916 sparse matrix of type '<class 'numpy.float64'>'\n",
       "\twith 5 stored elements in Compressed Sparse Row format>"
      ]
     },
     "execution_count": 22,
     "metadata": {},
     "output_type": "execute_result"
    }
   ],
   "source": [
    "chag_vector = chag_encoder.transform(batch_df[['challengeId']])\n",
    "chag_vector"
   ]
  },
  {
   "cell_type": "code",
   "execution_count": 23,
   "metadata": {
    "ExecuteTime": {
     "end_time": "2019-10-02T03:42:29.178085Z",
     "start_time": "2019-10-02T03:42:29.121083Z"
    }
   },
   "outputs": [
    {
     "data": {
      "text/plain": [
       "array([1., 1., 1., 1., 1.])"
      ]
     },
     "execution_count": 23,
     "metadata": {},
     "output_type": "execute_result"
    }
   ],
   "source": [
    "chag_vector.data"
   ]
  },
  {
   "cell_type": "code",
   "execution_count": 19,
   "metadata": {
    "ExecuteTime": {
     "end_time": "2019-10-02T03:41:50.476409Z",
     "start_time": "2019-10-02T03:41:50.417439Z"
    }
   },
   "outputs": [
    {
     "data": {
      "text/plain": [
       "(5, 79832)"
      ]
     },
     "execution_count": 19,
     "metadata": {},
     "output_type": "execute_result"
    }
   ],
   "source": [
    "chag_vector = sp.hstack([chag_vector, chag_vector])\n",
    "chag_vector.shape"
   ]
  },
  {
   "cell_type": "code",
   "execution_count": 20,
   "metadata": {
    "ExecuteTime": {
     "end_time": "2019-10-02T03:41:56.300179Z",
     "start_time": "2019-10-02T03:41:56.242179Z"
    }
   },
   "outputs": [
    {
     "data": {
      "text/plain": [
       "<5x79832 sparse matrix of type '<class 'numpy.float64'>'\n",
       "\twith 10 stored elements in COOrdinate format>"
      ]
     },
     "execution_count": 20,
     "metadata": {},
     "output_type": "execute_result"
    }
   ],
   "source": [
    "chag_vector"
   ]
  },
  {
   "cell_type": "code",
   "execution_count": 25,
   "metadata": {
    "ExecuteTime": {
     "end_time": "2019-10-02T03:44:39.275113Z",
     "start_time": "2019-10-02T03:44:39.218112Z"
    }
   },
   "outputs": [
    {
     "data": {
      "text/plain": [
       "array([27291, 38361, 26998, 12074, 16488])"
      ]
     },
     "execution_count": 25,
     "metadata": {},
     "output_type": "execute_result"
    }
   ],
   "source": [
    "cols = chag_vector.indices\n",
    "cols"
   ]
  },
  {
   "cell_type": "code",
   "execution_count": 31,
   "metadata": {
    "ExecuteTime": {
     "end_time": "2019-10-02T03:49:16.374234Z",
     "start_time": "2019-10-02T03:49:16.313230Z"
    }
   },
   "outputs": [
    {
     "data": {
      "text/plain": [
       "array([[30052023],\n",
       "       [30052023],\n",
       "       [30067807],\n",
       "       [30067807],\n",
       "       [30051596],\n",
       "       [30051596],\n",
       "       [30025000],\n",
       "       [30025000],\n",
       "       [30034436],\n",
       "       [30034436]], dtype=int64)"
      ]
     },
     "execution_count": 31,
     "metadata": {},
     "output_type": "execute_result"
    }
   ],
   "source": [
    "batch_df[['challengeId']].values.repeat(2, axis=0)"
   ]
  },
  {
   "cell_type": "code",
   "execution_count": 34,
   "metadata": {
    "ExecuteTime": {
     "end_time": "2019-10-02T03:50:39.459216Z",
     "start_time": "2019-10-02T03:50:39.401216Z"
    }
   },
   "outputs": [
    {
     "data": {
      "text/plain": [
       "109963        naeem95m\n",
       "109963        naeem95m\n",
       "274846         feiyusk\n",
       "274846         feiyusk\n",
       "100732    m-v-kachalov\n",
       "100732    m-v-kachalov\n",
       "423947            caru\n",
       "423947            caru\n",
       "355629    lanchongyizu\n",
       "355629    lanchongyizu\n",
       "Name: registant, dtype: object"
      ]
     },
     "execution_count": 34,
     "metadata": {},
     "output_type": "execute_result"
    }
   ],
   "source": [
    "batch_df['registant'].repeat(2)"
   ]
  }
 ],
 "metadata": {
  "kernelspec": {
   "display_name": "recommender",
   "language": "python",
   "name": "recommender"
  },
  "language_info": {
   "codemirror_mode": {
    "name": "ipython",
    "version": 3
   },
   "file_extension": ".py",
   "mimetype": "text/x-python",
   "name": "python",
   "nbconvert_exporter": "python",
   "pygments_lexer": "ipython3",
   "version": "3.6.8"
  }
 },
 "nbformat": 4,
 "nbformat_minor": 2
}
