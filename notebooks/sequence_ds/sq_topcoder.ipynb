{
 "cells": [
  {
   "cell_type": "code",
   "execution_count": 1,
   "metadata": {
    "ExecuteTime": {
     "end_time": "2019-10-09T08:10:33.270111Z",
     "start_time": "2019-10-09T08:10:33.011022Z"
    }
   },
   "outputs": [],
   "source": [
    "%reload_ext autoreload\n",
    "%autoreload 2\n",
    "%matplotlib inline"
   ]
  },
  {
   "cell_type": "code",
   "execution_count": 2,
   "metadata": {
    "ExecuteTime": {
     "end_time": "2019-10-09T08:10:33.348019Z",
     "start_time": "2019-10-09T08:10:33.305017Z"
    }
   },
   "outputs": [
    {
     "name": "stdout",
     "output_type": "stream",
     "text": [
      "C:\\Projects\\python\\recommender\n"
     ]
    }
   ],
   "source": [
    "%cd ../../"
   ]
  },
  {
   "cell_type": "code",
   "execution_count": 3,
   "metadata": {
    "ExecuteTime": {
     "end_time": "2019-10-09T08:10:34.035944Z",
     "start_time": "2019-10-09T08:10:33.720878Z"
    }
   },
   "outputs": [],
   "source": [
    "from pathlib import Path\n",
    "\n",
    "import numpy as np\n",
    "import pandas as pd\n",
    "import scipy.sparse as sp"
   ]
  },
  {
   "cell_type": "code",
   "execution_count": 4,
   "metadata": {
    "ExecuteTime": {
     "end_time": "2019-10-09T08:10:34.131877Z",
     "start_time": "2019-10-09T08:10:34.088876Z"
    }
   },
   "outputs": [],
   "source": [
    "REGS_PATH = Path(\"./inputs/topcoder/regs.csv\")\n",
    "CHA_PATH = Path(\"./inputs/topcoder/challenge_sm.csv\")\n",
    "regs_min = 4\n",
    "cha_min = 4"
   ]
  },
  {
   "cell_type": "code",
   "execution_count": 5,
   "metadata": {
    "ExecuteTime": {
     "end_time": "2019-10-09T08:10:34.851787Z",
     "start_time": "2019-10-09T08:10:34.529758Z"
    }
   },
   "outputs": [
    {
     "data": {
      "text/html": [
       "<div>\n",
       "<style scoped>\n",
       "    .dataframe tbody tr th:only-of-type {\n",
       "        vertical-align: middle;\n",
       "    }\n",
       "\n",
       "    .dataframe tbody tr th {\n",
       "        vertical-align: top;\n",
       "    }\n",
       "\n",
       "    .dataframe thead th {\n",
       "        text-align: right;\n",
       "    }\n",
       "</style>\n",
       "<table border=\"1\" class=\"dataframe\">\n",
       "  <thead>\n",
       "    <tr style=\"text-align: right;\">\n",
       "      <th></th>\n",
       "      <th>challengeId</th>\n",
       "      <th>registant</th>\n",
       "      <th>date</th>\n",
       "    </tr>\n",
       "  </thead>\n",
       "  <tbody>\n",
       "    <tr>\n",
       "      <th>0</th>\n",
       "      <td>30044052</td>\n",
       "      <td>phead</td>\n",
       "      <td>2014-07-09</td>\n",
       "    </tr>\n",
       "    <tr>\n",
       "      <th>1</th>\n",
       "      <td>30044052</td>\n",
       "      <td>lovefreya</td>\n",
       "      <td>2014-07-09</td>\n",
       "    </tr>\n",
       "    <tr>\n",
       "      <th>2</th>\n",
       "      <td>30044052</td>\n",
       "      <td>TMALBONPH</td>\n",
       "      <td>2014-07-09</td>\n",
       "    </tr>\n",
       "    <tr>\n",
       "      <th>3</th>\n",
       "      <td>30044052</td>\n",
       "      <td>daga_sumit</td>\n",
       "      <td>2014-07-09</td>\n",
       "    </tr>\n",
       "    <tr>\n",
       "      <th>4</th>\n",
       "      <td>30044052</td>\n",
       "      <td>abcivashritt</td>\n",
       "      <td>2014-07-09</td>\n",
       "    </tr>\n",
       "  </tbody>\n",
       "</table>\n",
       "</div>"
      ],
      "text/plain": [
       "   challengeId     registant        date\n",
       "0     30044052         phead  2014-07-09\n",
       "1     30044052     lovefreya  2014-07-09\n",
       "2     30044052     TMALBONPH  2014-07-09\n",
       "3     30044052    daga_sumit  2014-07-09\n",
       "4     30044052  abcivashritt  2014-07-09"
      ]
     },
     "execution_count": 5,
     "metadata": {},
     "output_type": "execute_result"
    }
   ],
   "source": [
    "regs_df = pd.read_csv(REGS_PATH)\n",
    "regs_df.head()"
   ]
  },
  {
   "cell_type": "markdown",
   "metadata": {},
   "source": [
    "## Add Challenge DataFrame"
   ]
  },
  {
   "cell_type": "code",
   "execution_count": 6,
   "metadata": {
    "ExecuteTime": {
     "end_time": "2019-10-09T08:10:37.675805Z",
     "start_time": "2019-10-09T08:10:37.624742Z"
    }
   },
   "outputs": [],
   "source": [
    "from ast import literal_eval"
   ]
  },
  {
   "cell_type": "code",
   "execution_count": 7,
   "metadata": {
    "ExecuteTime": {
     "end_time": "2019-10-09T08:10:38.724968Z",
     "start_time": "2019-10-09T08:10:38.008968Z"
    }
   },
   "outputs": [
    {
     "data": {
      "text/html": [
       "<div>\n",
       "<style scoped>\n",
       "    .dataframe tbody tr th:only-of-type {\n",
       "        vertical-align: middle;\n",
       "    }\n",
       "\n",
       "    .dataframe tbody tr th {\n",
       "        vertical-align: top;\n",
       "    }\n",
       "\n",
       "    .dataframe thead th {\n",
       "        text-align: right;\n",
       "    }\n",
       "</style>\n",
       "<table border=\"1\" class=\"dataframe\">\n",
       "  <thead>\n",
       "    <tr style=\"text-align: right;\">\n",
       "      <th></th>\n",
       "      <th>challengeId</th>\n",
       "      <th>date</th>\n",
       "      <th>prizes</th>\n",
       "      <th>technologies</th>\n",
       "      <th>platforms</th>\n",
       "    </tr>\n",
       "  </thead>\n",
       "  <tbody>\n",
       "    <tr>\n",
       "      <th>0</th>\n",
       "      <td>30044052</td>\n",
       "      <td>2014-07-09</td>\n",
       "      <td>1800.0</td>\n",
       "      <td>[HTML]</td>\n",
       "      <td>[HTML]</td>\n",
       "    </tr>\n",
       "    <tr>\n",
       "      <th>1</th>\n",
       "      <td>30044053</td>\n",
       "      <td>2014-07-09</td>\n",
       "      <td>1250.0</td>\n",
       "      <td>[Salesforce, Apex, Visualforce]</td>\n",
       "      <td>[Force.com, Salesforce.com]</td>\n",
       "    </tr>\n",
       "    <tr>\n",
       "      <th>2</th>\n",
       "      <td>30044054</td>\n",
       "      <td>2014-07-09</td>\n",
       "      <td>400.0</td>\n",
       "      <td>[Java, MySQL, REST]</td>\n",
       "      <td>[AWS]</td>\n",
       "    </tr>\n",
       "    <tr>\n",
       "      <th>3</th>\n",
       "      <td>30044055</td>\n",
       "      <td>2014-07-09</td>\n",
       "      <td>400.0</td>\n",
       "      <td>[iOS]</td>\n",
       "      <td>[iOS]</td>\n",
       "    </tr>\n",
       "    <tr>\n",
       "      <th>4</th>\n",
       "      <td>30044056</td>\n",
       "      <td>2014-07-09</td>\n",
       "      <td>400.0</td>\n",
       "      <td>[iOS]</td>\n",
       "      <td>[iOS]</td>\n",
       "    </tr>\n",
       "  </tbody>\n",
       "</table>\n",
       "</div>"
      ],
      "text/plain": [
       "   challengeId        date  prizes                     technologies  \\\n",
       "0     30044052  2014-07-09  1800.0                           [HTML]   \n",
       "1     30044053  2014-07-09  1250.0  [Salesforce, Apex, Visualforce]   \n",
       "2     30044054  2014-07-09   400.0              [Java, MySQL, REST]   \n",
       "3     30044055  2014-07-09   400.0                            [iOS]   \n",
       "4     30044056  2014-07-09   400.0                            [iOS]   \n",
       "\n",
       "                     platforms  \n",
       "0                       [HTML]  \n",
       "1  [Force.com, Salesforce.com]  \n",
       "2                        [AWS]  \n",
       "3                        [iOS]  \n",
       "4                        [iOS]  "
      ]
     },
     "execution_count": 7,
     "metadata": {},
     "output_type": "execute_result"
    }
   ],
   "source": [
    "attr_df = pd.read_csv(\"./inputs/topcoder/challenge.csv\",\n",
    "                      converters={\n",
    "                          'technologies': literal_eval,\n",
    "                          'platforms': literal_eval\n",
    "                      })\n",
    "attr_df.head()"
   ]
  },
  {
   "cell_type": "code",
   "execution_count": 8,
   "metadata": {
    "ExecuteTime": {
     "end_time": "2019-10-09T08:10:40.349819Z",
     "start_time": "2019-10-09T08:10:40.297820Z"
    }
   },
   "outputs": [
    {
     "data": {
      "text/plain": [
       "(610025, 1)"
      ]
     },
     "execution_count": 8,
     "metadata": {},
     "output_type": "execute_result"
    }
   ],
   "source": [
    "chag_df = regs_df[['challengeId']]\n",
    "chag_df.shape"
   ]
  },
  {
   "cell_type": "code",
   "execution_count": 9,
   "metadata": {
    "ExecuteTime": {
     "end_time": "2019-10-09T08:10:41.125842Z",
     "start_time": "2019-10-09T08:10:41.048845Z"
    }
   },
   "outputs": [
    {
     "data": {
      "text/plain": [
       "(39916, 1)"
      ]
     },
     "execution_count": 9,
     "metadata": {},
     "output_type": "execute_result"
    }
   ],
   "source": [
    "chag_df = chag_df.drop_duplicates(subset=['challengeId'])\n",
    "chag_df.shape"
   ]
  },
  {
   "cell_type": "code",
   "execution_count": 10,
   "metadata": {
    "ExecuteTime": {
     "end_time": "2019-10-09T08:10:44.370353Z",
     "start_time": "2019-10-09T08:10:44.290355Z"
    }
   },
   "outputs": [
    {
     "data": {
      "text/html": [
       "<div>\n",
       "<style scoped>\n",
       "    .dataframe tbody tr th:only-of-type {\n",
       "        vertical-align: middle;\n",
       "    }\n",
       "\n",
       "    .dataframe tbody tr th {\n",
       "        vertical-align: top;\n",
       "    }\n",
       "\n",
       "    .dataframe thead th {\n",
       "        text-align: right;\n",
       "    }\n",
       "</style>\n",
       "<table border=\"1\" class=\"dataframe\">\n",
       "  <thead>\n",
       "    <tr style=\"text-align: right;\">\n",
       "      <th></th>\n",
       "      <th>challengeId</th>\n",
       "      <th>date</th>\n",
       "      <th>prizes</th>\n",
       "      <th>technologies</th>\n",
       "      <th>platforms</th>\n",
       "    </tr>\n",
       "  </thead>\n",
       "  <tbody>\n",
       "    <tr>\n",
       "      <th>0</th>\n",
       "      <td>30044052</td>\n",
       "      <td>2014-07-09</td>\n",
       "      <td>1800.0</td>\n",
       "      <td>[HTML]</td>\n",
       "      <td>[HTML]</td>\n",
       "    </tr>\n",
       "    <tr>\n",
       "      <th>1</th>\n",
       "      <td>30044053</td>\n",
       "      <td>2014-07-09</td>\n",
       "      <td>1250.0</td>\n",
       "      <td>[Salesforce, Apex, Visualforce]</td>\n",
       "      <td>[Force.com, Salesforce.com]</td>\n",
       "    </tr>\n",
       "    <tr>\n",
       "      <th>2</th>\n",
       "      <td>30044054</td>\n",
       "      <td>2014-07-09</td>\n",
       "      <td>400.0</td>\n",
       "      <td>[Java, MySQL, REST]</td>\n",
       "      <td>[AWS]</td>\n",
       "    </tr>\n",
       "    <tr>\n",
       "      <th>3</th>\n",
       "      <td>30044055</td>\n",
       "      <td>2014-07-09</td>\n",
       "      <td>400.0</td>\n",
       "      <td>[iOS]</td>\n",
       "      <td>[iOS]</td>\n",
       "    </tr>\n",
       "    <tr>\n",
       "      <th>4</th>\n",
       "      <td>30044056</td>\n",
       "      <td>2014-07-09</td>\n",
       "      <td>400.0</td>\n",
       "      <td>[iOS]</td>\n",
       "      <td>[iOS]</td>\n",
       "    </tr>\n",
       "  </tbody>\n",
       "</table>\n",
       "</div>"
      ],
      "text/plain": [
       "   challengeId        date  prizes                     technologies  \\\n",
       "0     30044052  2014-07-09  1800.0                           [HTML]   \n",
       "1     30044053  2014-07-09  1250.0  [Salesforce, Apex, Visualforce]   \n",
       "2     30044054  2014-07-09   400.0              [Java, MySQL, REST]   \n",
       "3     30044055  2014-07-09   400.0                            [iOS]   \n",
       "4     30044056  2014-07-09   400.0                            [iOS]   \n",
       "\n",
       "                     platforms  \n",
       "0                       [HTML]  \n",
       "1  [Force.com, Salesforce.com]  \n",
       "2                        [AWS]  \n",
       "3                        [iOS]  \n",
       "4                        [iOS]  "
      ]
     },
     "execution_count": 10,
     "metadata": {},
     "output_type": "execute_result"
    }
   ],
   "source": [
    "chag_df = pd.merge(left=chag_df, right=attr_df, how='inner', on='challengeId')\n",
    "chag_df.head()"
   ]
  },
  {
   "cell_type": "code",
   "execution_count": 11,
   "metadata": {
    "ExecuteTime": {
     "end_time": "2019-10-09T08:10:44.942058Z",
     "start_time": "2019-10-09T08:10:44.881090Z"
    },
    "scrolled": true
   },
   "outputs": [
    {
     "data": {
      "text/html": [
       "<div>\n",
       "<style scoped>\n",
       "    .dataframe tbody tr th:only-of-type {\n",
       "        vertical-align: middle;\n",
       "    }\n",
       "\n",
       "    .dataframe tbody tr th {\n",
       "        vertical-align: top;\n",
       "    }\n",
       "\n",
       "    .dataframe thead th {\n",
       "        text-align: right;\n",
       "    }\n",
       "</style>\n",
       "<table border=\"1\" class=\"dataframe\">\n",
       "  <thead>\n",
       "    <tr style=\"text-align: right;\">\n",
       "      <th></th>\n",
       "      <th>challengeId</th>\n",
       "      <th>date</th>\n",
       "      <th>prizes</th>\n",
       "      <th>technologies</th>\n",
       "      <th>platforms</th>\n",
       "      <th>per</th>\n",
       "    </tr>\n",
       "  </thead>\n",
       "  <tbody>\n",
       "    <tr>\n",
       "      <th>0</th>\n",
       "      <td>30044052</td>\n",
       "      <td>2014-07-09</td>\n",
       "      <td>1800.0</td>\n",
       "      <td>[HTML]</td>\n",
       "      <td>[HTML]</td>\n",
       "      <td>2014-07</td>\n",
       "    </tr>\n",
       "    <tr>\n",
       "      <th>1</th>\n",
       "      <td>30044053</td>\n",
       "      <td>2014-07-09</td>\n",
       "      <td>1250.0</td>\n",
       "      <td>[Salesforce, Apex, Visualforce]</td>\n",
       "      <td>[Force.com, Salesforce.com]</td>\n",
       "      <td>2014-07</td>\n",
       "    </tr>\n",
       "    <tr>\n",
       "      <th>2</th>\n",
       "      <td>30044054</td>\n",
       "      <td>2014-07-09</td>\n",
       "      <td>400.0</td>\n",
       "      <td>[Java, MySQL, REST]</td>\n",
       "      <td>[AWS]</td>\n",
       "      <td>2014-07</td>\n",
       "    </tr>\n",
       "    <tr>\n",
       "      <th>3</th>\n",
       "      <td>30044055</td>\n",
       "      <td>2014-07-09</td>\n",
       "      <td>400.0</td>\n",
       "      <td>[iOS]</td>\n",
       "      <td>[iOS]</td>\n",
       "      <td>2014-07</td>\n",
       "    </tr>\n",
       "    <tr>\n",
       "      <th>4</th>\n",
       "      <td>30044056</td>\n",
       "      <td>2014-07-09</td>\n",
       "      <td>400.0</td>\n",
       "      <td>[iOS]</td>\n",
       "      <td>[iOS]</td>\n",
       "      <td>2014-07</td>\n",
       "    </tr>\n",
       "  </tbody>\n",
       "</table>\n",
       "</div>"
      ],
      "text/plain": [
       "   challengeId        date  prizes                     technologies  \\\n",
       "0     30044052  2014-07-09  1800.0                           [HTML]   \n",
       "1     30044053  2014-07-09  1250.0  [Salesforce, Apex, Visualforce]   \n",
       "2     30044054  2014-07-09   400.0              [Java, MySQL, REST]   \n",
       "3     30044055  2014-07-09   400.0                            [iOS]   \n",
       "4     30044056  2014-07-09   400.0                            [iOS]   \n",
       "\n",
       "                     platforms      per  \n",
       "0                       [HTML]  2014-07  \n",
       "1  [Force.com, Salesforce.com]  2014-07  \n",
       "2                        [AWS]  2014-07  \n",
       "3                        [iOS]  2014-07  \n",
       "4                        [iOS]  2014-07  "
      ]
     },
     "execution_count": 11,
     "metadata": {},
     "output_type": "execute_result"
    }
   ],
   "source": [
    "chag_df['per'] = chag_df.date.str[:7]\n",
    "chag_df.head()"
   ]
  },
  {
   "cell_type": "code",
   "execution_count": 13,
   "metadata": {
    "ExecuteTime": {
     "end_time": "2019-10-09T07:22:01.868640Z",
     "start_time": "2019-10-09T07:22:01.822641Z"
    }
   },
   "outputs": [
    {
     "data": {
      "text/plain": [
       "Period('2005-01', 'M')"
      ]
     },
     "execution_count": 13,
     "metadata": {},
     "output_type": "execute_result"
    }
   ],
   "source": [
    "pd.Period(value='2005-1')"
   ]
  },
  {
   "cell_type": "code",
   "execution_count": 14,
   "metadata": {
    "ExecuteTime": {
     "end_time": "2019-10-09T07:22:03.743288Z",
     "start_time": "2019-10-09T07:22:03.695289Z"
    }
   },
   "outputs": [
    {
     "data": {
      "text/plain": [
       "Timestamp('2005-01-01 00:00:00')"
      ]
     },
     "execution_count": 14,
     "metadata": {},
     "output_type": "execute_result"
    }
   ],
   "source": [
    "pd.Timestamp('2005-01-01 00:00:00')"
   ]
  },
  {
   "cell_type": "code",
   "execution_count": 15,
   "metadata": {
    "ExecuteTime": {
     "end_time": "2019-10-09T07:22:03.989665Z",
     "start_time": "2019-10-09T07:22:03.942666Z"
    }
   },
   "outputs": [
    {
     "data": {
      "text/plain": [
       "Timestamp('2014-07-09 00:00:00')"
      ]
     },
     "execution_count": 15,
     "metadata": {},
     "output_type": "execute_result"
    }
   ],
   "source": [
    "chag_df['date'][0]"
   ]
  },
  {
   "cell_type": "code",
   "execution_count": 12,
   "metadata": {
    "ExecuteTime": {
     "end_time": "2019-10-09T08:11:14.577300Z",
     "start_time": "2019-10-09T08:11:14.517227Z"
    }
   },
   "outputs": [],
   "source": [
    "chag_df.loc[-1] = (-1, '2005-01-01', 0, [], [], '2005-01')"
   ]
  },
  {
   "cell_type": "code",
   "execution_count": 13,
   "metadata": {
    "ExecuteTime": {
     "end_time": "2019-10-09T08:11:17.994655Z",
     "start_time": "2019-10-09T08:11:17.928625Z"
    }
   },
   "outputs": [
    {
     "data": {
      "text/html": [
       "<div>\n",
       "<style scoped>\n",
       "    .dataframe tbody tr th:only-of-type {\n",
       "        vertical-align: middle;\n",
       "    }\n",
       "\n",
       "    .dataframe tbody tr th {\n",
       "        vertical-align: top;\n",
       "    }\n",
       "\n",
       "    .dataframe thead th {\n",
       "        text-align: right;\n",
       "    }\n",
       "</style>\n",
       "<table border=\"1\" class=\"dataframe\">\n",
       "  <thead>\n",
       "    <tr style=\"text-align: right;\">\n",
       "      <th></th>\n",
       "      <th>challengeId</th>\n",
       "      <th>date</th>\n",
       "      <th>prizes</th>\n",
       "      <th>technologies</th>\n",
       "      <th>platforms</th>\n",
       "      <th>per</th>\n",
       "    </tr>\n",
       "  </thead>\n",
       "  <tbody>\n",
       "    <tr>\n",
       "      <th>-1</th>\n",
       "      <td>-1</td>\n",
       "      <td>2005-01-01</td>\n",
       "      <td>0.0</td>\n",
       "      <td>[]</td>\n",
       "      <td>[]</td>\n",
       "      <td>2005-01</td>\n",
       "    </tr>\n",
       "    <tr>\n",
       "      <th>0</th>\n",
       "      <td>30044052</td>\n",
       "      <td>2014-07-09</td>\n",
       "      <td>1800.0</td>\n",
       "      <td>[HTML]</td>\n",
       "      <td>[HTML]</td>\n",
       "      <td>2014-07</td>\n",
       "    </tr>\n",
       "    <tr>\n",
       "      <th>1</th>\n",
       "      <td>30044053</td>\n",
       "      <td>2014-07-09</td>\n",
       "      <td>1250.0</td>\n",
       "      <td>[Salesforce, Apex, Visualforce]</td>\n",
       "      <td>[Force.com, Salesforce.com]</td>\n",
       "      <td>2014-07</td>\n",
       "    </tr>\n",
       "    <tr>\n",
       "      <th>2</th>\n",
       "      <td>30044054</td>\n",
       "      <td>2014-07-09</td>\n",
       "      <td>400.0</td>\n",
       "      <td>[Java, MySQL, REST]</td>\n",
       "      <td>[AWS]</td>\n",
       "      <td>2014-07</td>\n",
       "    </tr>\n",
       "    <tr>\n",
       "      <th>3</th>\n",
       "      <td>30044055</td>\n",
       "      <td>2014-07-09</td>\n",
       "      <td>400.0</td>\n",
       "      <td>[iOS]</td>\n",
       "      <td>[iOS]</td>\n",
       "      <td>2014-07</td>\n",
       "    </tr>\n",
       "  </tbody>\n",
       "</table>\n",
       "</div>"
      ],
      "text/plain": [
       "    challengeId        date  prizes                     technologies  \\\n",
       "-1           -1  2005-01-01     0.0                               []   \n",
       " 0     30044052  2014-07-09  1800.0                           [HTML]   \n",
       " 1     30044053  2014-07-09  1250.0  [Salesforce, Apex, Visualforce]   \n",
       " 2     30044054  2014-07-09   400.0              [Java, MySQL, REST]   \n",
       " 3     30044055  2014-07-09   400.0                            [iOS]   \n",
       "\n",
       "                      platforms      per  \n",
       "-1                           []  2005-01  \n",
       " 0                       [HTML]  2014-07  \n",
       " 1  [Force.com, Salesforce.com]  2014-07  \n",
       " 2                        [AWS]  2014-07  \n",
       " 3                        [iOS]  2014-07  "
      ]
     },
     "execution_count": 13,
     "metadata": {},
     "output_type": "execute_result"
    }
   ],
   "source": [
    "chag_df = chag_df.sort_index()\n",
    "chag_df.head()"
   ]
  },
  {
   "cell_type": "markdown",
   "metadata": {},
   "source": [
    "## Encode for period"
   ]
  },
  {
   "cell_type": "code",
   "execution_count": 16,
   "metadata": {
    "ExecuteTime": {
     "end_time": "2019-10-09T07:22:04.844375Z",
     "start_time": "2019-10-09T07:22:04.486376Z"
    }
   },
   "outputs": [],
   "source": [
    "from sklearn.preprocessing import OrdinalEncoder"
   ]
  },
  {
   "cell_type": "code",
   "execution_count": 20,
   "metadata": {
    "ExecuteTime": {
     "end_time": "2019-10-09T07:56:58.580453Z",
     "start_time": "2019-10-09T07:56:58.504423Z"
    }
   },
   "outputs": [
    {
     "data": {
      "text/html": [
       "<div>\n",
       "<style scoped>\n",
       "    .dataframe tbody tr th:only-of-type {\n",
       "        vertical-align: middle;\n",
       "    }\n",
       "\n",
       "    .dataframe tbody tr th {\n",
       "        vertical-align: top;\n",
       "    }\n",
       "\n",
       "    .dataframe thead th {\n",
       "        text-align: right;\n",
       "    }\n",
       "</style>\n",
       "<table border=\"1\" class=\"dataframe\">\n",
       "  <thead>\n",
       "    <tr style=\"text-align: right;\">\n",
       "      <th></th>\n",
       "      <th>challengeId</th>\n",
       "      <th>date</th>\n",
       "      <th>prizes</th>\n",
       "      <th>technologies</th>\n",
       "      <th>platforms</th>\n",
       "      <th>per</th>\n",
       "    </tr>\n",
       "  </thead>\n",
       "  <tbody>\n",
       "    <tr>\n",
       "      <th>-1</th>\n",
       "      <td>-1</td>\n",
       "      <td>2005-01-01</td>\n",
       "      <td>0.0</td>\n",
       "      <td>[]</td>\n",
       "      <td>[]</td>\n",
       "      <td>2005-01</td>\n",
       "    </tr>\n",
       "    <tr>\n",
       "      <th>31190</th>\n",
       "      <td>30000000</td>\n",
       "      <td>2006-10-20</td>\n",
       "      <td>0.0</td>\n",
       "      <td>[]</td>\n",
       "      <td>[]</td>\n",
       "      <td>2006-10</td>\n",
       "    </tr>\n",
       "    <tr>\n",
       "      <th>31189</th>\n",
       "      <td>30000002</td>\n",
       "      <td>2006-10-20</td>\n",
       "      <td>0.0</td>\n",
       "      <td>[]</td>\n",
       "      <td>[]</td>\n",
       "      <td>2006-10</td>\n",
       "    </tr>\n",
       "    <tr>\n",
       "      <th>31188</th>\n",
       "      <td>30000018</td>\n",
       "      <td>2006-10-30</td>\n",
       "      <td>0.0</td>\n",
       "      <td>[]</td>\n",
       "      <td>[]</td>\n",
       "      <td>2006-10</td>\n",
       "    </tr>\n",
       "    <tr>\n",
       "      <th>31139</th>\n",
       "      <td>30000136</td>\n",
       "      <td>2006-11-16</td>\n",
       "      <td>0.0</td>\n",
       "      <td>[.NET, C#]</td>\n",
       "      <td>[]</td>\n",
       "      <td>2006-11</td>\n",
       "    </tr>\n",
       "  </tbody>\n",
       "</table>\n",
       "</div>"
      ],
      "text/plain": [
       "        challengeId        date  prizes technologies platforms      per\n",
       "-1               -1  2005-01-01     0.0           []        []  2005-01\n",
       " 31190     30000000  2006-10-20     0.0           []        []  2006-10\n",
       " 31189     30000002  2006-10-20     0.0           []        []  2006-10\n",
       " 31188     30000018  2006-10-30     0.0           []        []  2006-10\n",
       " 31139     30000136  2006-11-16     0.0   [.NET, C#]        []  2006-11"
      ]
     },
     "execution_count": 20,
     "metadata": {},
     "output_type": "execute_result"
    }
   ],
   "source": [
    "chag_df = chag_df.sort_values(by=['per'])\n",
    "chag_df.head()"
   ]
  },
  {
   "cell_type": "code",
   "execution_count": 18,
   "metadata": {
    "ExecuteTime": {
     "end_time": "2019-10-09T07:22:05.507409Z",
     "start_time": "2019-10-09T07:22:05.363376Z"
    }
   },
   "outputs": [
    {
     "data": {
      "text/plain": [
       "OrdinalEncoder(categories='auto', dtype=<class 'numpy.float64'>)"
      ]
     },
     "execution_count": 18,
     "metadata": {},
     "output_type": "execute_result"
    }
   ],
   "source": [
    "period_encoder = OrdinalEncoder(categories='auto')\n",
    "period_encoder.fit(chag_df[['per']])"
   ]
  },
  {
   "cell_type": "code",
   "execution_count": 19,
   "metadata": {
    "ExecuteTime": {
     "end_time": "2019-10-09T07:22:07.104553Z",
     "start_time": "2019-10-09T07:22:07.039583Z"
    }
   },
   "outputs": [
    {
     "data": {
      "text/html": [
       "<div>\n",
       "<style scoped>\n",
       "    .dataframe tbody tr th:only-of-type {\n",
       "        vertical-align: middle;\n",
       "    }\n",
       "\n",
       "    .dataframe tbody tr th {\n",
       "        vertical-align: top;\n",
       "    }\n",
       "\n",
       "    .dataframe thead th {\n",
       "        text-align: right;\n",
       "    }\n",
       "</style>\n",
       "<table border=\"1\" class=\"dataframe\">\n",
       "  <thead>\n",
       "    <tr style=\"text-align: right;\">\n",
       "      <th></th>\n",
       "      <th>challengeId</th>\n",
       "      <th>date</th>\n",
       "      <th>prizes</th>\n",
       "      <th>technologies</th>\n",
       "      <th>platforms</th>\n",
       "      <th>per</th>\n",
       "    </tr>\n",
       "  </thead>\n",
       "  <tbody>\n",
       "    <tr>\n",
       "      <th>21498</th>\n",
       "      <td>30038341</td>\n",
       "      <td>2013-01-24</td>\n",
       "      <td>350.0</td>\n",
       "      <td>[]</td>\n",
       "      <td>[]</td>\n",
       "      <td>2013-01</td>\n",
       "    </tr>\n",
       "    <tr>\n",
       "      <th>8366</th>\n",
       "      <td>30056177</td>\n",
       "      <td>2017-01-16</td>\n",
       "      <td>1000.0</td>\n",
       "      <td>[Other]</td>\n",
       "      <td>[Other]</td>\n",
       "      <td>2017-01</td>\n",
       "    </tr>\n",
       "    <tr>\n",
       "      <th>9270</th>\n",
       "      <td>30057354</td>\n",
       "      <td>2017-11-01</td>\n",
       "      <td>9000.0</td>\n",
       "      <td>[]</td>\n",
       "      <td>[]</td>\n",
       "      <td>2017-11</td>\n",
       "    </tr>\n",
       "  </tbody>\n",
       "</table>\n",
       "</div>"
      ],
      "text/plain": [
       "       challengeId       date  prizes technologies platforms      per\n",
       "21498     30038341 2013-01-24   350.0           []        []  2013-01\n",
       "8366      30056177 2017-01-16  1000.0      [Other]   [Other]  2017-01\n",
       "9270      30057354 2017-11-01  9000.0           []        []  2017-11"
      ]
     },
     "execution_count": 19,
     "metadata": {},
     "output_type": "execute_result"
    }
   ],
   "source": [
    "batch_df = chag_df.sample(n=3)\n",
    "batch_df.head()"
   ]
  },
  {
   "cell_type": "code",
   "execution_count": 20,
   "metadata": {
    "ExecuteTime": {
     "end_time": "2019-10-09T07:22:07.428842Z",
     "start_time": "2019-10-09T07:22:07.366842Z"
    }
   },
   "outputs": [
    {
     "data": {
      "text/html": [
       "<div>\n",
       "<style scoped>\n",
       "    .dataframe tbody tr th:only-of-type {\n",
       "        vertical-align: middle;\n",
       "    }\n",
       "\n",
       "    .dataframe tbody tr th {\n",
       "        vertical-align: top;\n",
       "    }\n",
       "\n",
       "    .dataframe thead th {\n",
       "        text-align: right;\n",
       "    }\n",
       "</style>\n",
       "<table border=\"1\" class=\"dataframe\">\n",
       "  <thead>\n",
       "    <tr style=\"text-align: right;\">\n",
       "      <th></th>\n",
       "      <th>challengeId</th>\n",
       "      <th>date</th>\n",
       "      <th>prizes</th>\n",
       "      <th>technologies</th>\n",
       "      <th>platforms</th>\n",
       "      <th>per</th>\n",
       "    </tr>\n",
       "  </thead>\n",
       "  <tbody>\n",
       "    <tr>\n",
       "      <th>31190</th>\n",
       "      <td>30000000</td>\n",
       "      <td>2006-10-20</td>\n",
       "      <td>0.0</td>\n",
       "      <td>[]</td>\n",
       "      <td>[]</td>\n",
       "      <td>2006-10</td>\n",
       "    </tr>\n",
       "    <tr>\n",
       "      <th>31189</th>\n",
       "      <td>30000002</td>\n",
       "      <td>2006-10-20</td>\n",
       "      <td>0.0</td>\n",
       "      <td>[]</td>\n",
       "      <td>[]</td>\n",
       "      <td>2006-10</td>\n",
       "    </tr>\n",
       "    <tr>\n",
       "      <th>31188</th>\n",
       "      <td>30000018</td>\n",
       "      <td>2006-10-30</td>\n",
       "      <td>0.0</td>\n",
       "      <td>[]</td>\n",
       "      <td>[]</td>\n",
       "      <td>2006-10</td>\n",
       "    </tr>\n",
       "    <tr>\n",
       "      <th>31187</th>\n",
       "      <td>30000030</td>\n",
       "      <td>2006-11-04</td>\n",
       "      <td>0.0</td>\n",
       "      <td>[Java, HTTP, JSF]</td>\n",
       "      <td>[]</td>\n",
       "      <td>2006-11</td>\n",
       "    </tr>\n",
       "    <tr>\n",
       "      <th>31095</th>\n",
       "      <td>30000196</td>\n",
       "      <td>2006-11-23</td>\n",
       "      <td>0.0</td>\n",
       "      <td>[Java]</td>\n",
       "      <td>[]</td>\n",
       "      <td>2006-11</td>\n",
       "    </tr>\n",
       "  </tbody>\n",
       "</table>\n",
       "</div>"
      ],
      "text/plain": [
       "       challengeId       date  prizes       technologies platforms      per\n",
       "31190     30000000 2006-10-20     0.0                 []        []  2006-10\n",
       "31189     30000002 2006-10-20     0.0                 []        []  2006-10\n",
       "31188     30000018 2006-10-30     0.0                 []        []  2006-10\n",
       "31187     30000030 2006-11-04     0.0  [Java, HTTP, JSF]        []  2006-11\n",
       "31095     30000196 2006-11-23     0.0             [Java]        []  2006-11"
      ]
     },
     "execution_count": 20,
     "metadata": {},
     "output_type": "execute_result"
    }
   ],
   "source": [
    "chag_df.head()"
   ]
  },
  {
   "cell_type": "code",
   "execution_count": 21,
   "metadata": {
    "ExecuteTime": {
     "end_time": "2019-10-09T07:22:08.027451Z",
     "start_time": "2019-10-09T07:22:07.967450Z"
    }
   },
   "outputs": [
    {
     "data": {
      "text/plain": [
       "array([[0.],\n",
       "       [0.],\n",
       "       [0.],\n",
       "       [1.],\n",
       "       [1.]])"
      ]
     },
     "execution_count": 21,
     "metadata": {},
     "output_type": "execute_result"
    }
   ],
   "source": [
    "period_encoder.transform(chag_df.head()[['per']])"
   ]
  },
  {
   "cell_type": "markdown",
   "metadata": {},
   "source": [
    "## Encode for technologies"
   ]
  },
  {
   "cell_type": "code",
   "execution_count": 22,
   "metadata": {
    "ExecuteTime": {
     "end_time": "2019-10-09T07:22:10.219032Z",
     "start_time": "2019-10-09T07:22:10.151006Z"
    }
   },
   "outputs": [],
   "source": [
    "from sklearn.preprocessing import MultiLabelBinarizer"
   ]
  },
  {
   "cell_type": "code",
   "execution_count": 23,
   "metadata": {
    "ExecuteTime": {
     "end_time": "2019-10-09T07:22:10.488002Z",
     "start_time": "2019-10-09T07:22:10.423003Z"
    }
   },
   "outputs": [
    {
     "data": {
      "text/plain": [
       "MultiLabelBinarizer(classes=None, sparse_output=True)"
      ]
     },
     "execution_count": 23,
     "metadata": {},
     "output_type": "execute_result"
    }
   ],
   "source": [
    "tech_bin = MultiLabelBinarizer(sparse_output=True)\n",
    "tech_bin.fit(chag_df['technologies'])"
   ]
  },
  {
   "cell_type": "code",
   "execution_count": 24,
   "metadata": {
    "ExecuteTime": {
     "end_time": "2019-10-09T07:22:10.695003Z",
     "start_time": "2019-10-09T07:22:10.631032Z"
    }
   },
   "outputs": [
    {
     "data": {
      "text/html": [
       "<div>\n",
       "<style scoped>\n",
       "    .dataframe tbody tr th:only-of-type {\n",
       "        vertical-align: middle;\n",
       "    }\n",
       "\n",
       "    .dataframe tbody tr th {\n",
       "        vertical-align: top;\n",
       "    }\n",
       "\n",
       "    .dataframe thead th {\n",
       "        text-align: right;\n",
       "    }\n",
       "</style>\n",
       "<table border=\"1\" class=\"dataframe\">\n",
       "  <thead>\n",
       "    <tr style=\"text-align: right;\">\n",
       "      <th></th>\n",
       "      <th>challengeId</th>\n",
       "      <th>date</th>\n",
       "      <th>prizes</th>\n",
       "      <th>technologies</th>\n",
       "      <th>platforms</th>\n",
       "      <th>per</th>\n",
       "    </tr>\n",
       "  </thead>\n",
       "  <tbody>\n",
       "    <tr>\n",
       "      <th>396</th>\n",
       "      <td>30044593</td>\n",
       "      <td>2014-07-28</td>\n",
       "      <td>150.0</td>\n",
       "      <td>[HTML, JavaScript, Node.js]</td>\n",
       "      <td>[NodeJS]</td>\n",
       "      <td>2014-07</td>\n",
       "    </tr>\n",
       "    <tr>\n",
       "      <th>13192</th>\n",
       "      <td>30062149</td>\n",
       "      <td>2018-01-18</td>\n",
       "      <td>5.0</td>\n",
       "      <td>[Other]</td>\n",
       "      <td>[Other]</td>\n",
       "      <td>2018-01</td>\n",
       "    </tr>\n",
       "    <tr>\n",
       "      <th>10934</th>\n",
       "      <td>30059505</td>\n",
       "      <td>2017-09-22</td>\n",
       "      <td>20.0</td>\n",
       "      <td>[]</td>\n",
       "      <td>[]</td>\n",
       "      <td>2017-09</td>\n",
       "    </tr>\n",
       "    <tr>\n",
       "      <th>35958</th>\n",
       "      <td>30006200</td>\n",
       "      <td>2009-03-19</td>\n",
       "      <td>600.0</td>\n",
       "      <td>[Web Services, Flex]</td>\n",
       "      <td>[]</td>\n",
       "      <td>2009-03</td>\n",
       "    </tr>\n",
       "    <tr>\n",
       "      <th>19773</th>\n",
       "      <td>30041980</td>\n",
       "      <td>2014-04-17</td>\n",
       "      <td>1500.0</td>\n",
       "      <td>[]</td>\n",
       "      <td>[]</td>\n",
       "      <td>2014-04</td>\n",
       "    </tr>\n",
       "  </tbody>\n",
       "</table>\n",
       "</div>"
      ],
      "text/plain": [
       "       challengeId       date  prizes                 technologies platforms  \\\n",
       "396       30044593 2014-07-28   150.0  [HTML, JavaScript, Node.js]  [NodeJS]   \n",
       "13192     30062149 2018-01-18     5.0                      [Other]   [Other]   \n",
       "10934     30059505 2017-09-22    20.0                           []        []   \n",
       "35958     30006200 2009-03-19   600.0         [Web Services, Flex]        []   \n",
       "19773     30041980 2014-04-17  1500.0                           []        []   \n",
       "\n",
       "           per  \n",
       "396    2014-07  \n",
       "13192  2018-01  \n",
       "10934  2017-09  \n",
       "35958  2009-03  \n",
       "19773  2014-04  "
      ]
     },
     "execution_count": 24,
     "metadata": {},
     "output_type": "execute_result"
    }
   ],
   "source": [
    "batch_df = chag_df.sample(n=10)\n",
    "batch_df.head()"
   ]
  },
  {
   "cell_type": "code",
   "execution_count": 25,
   "metadata": {
    "ExecuteTime": {
     "end_time": "2019-10-09T07:22:10.885035Z",
     "start_time": "2019-10-09T07:22:10.831032Z"
    }
   },
   "outputs": [
    {
     "data": {
      "text/plain": [
       "<20x216 sparse matrix of type '<class 'numpy.int32'>'\n",
       "\twith 20 stored elements in Compressed Sparse Row format>"
      ]
     },
     "execution_count": 25,
     "metadata": {},
     "output_type": "execute_result"
    }
   ],
   "source": [
    "tech_bin.transform(batch_df['technologies'].repeat(2))"
   ]
  },
  {
   "cell_type": "markdown",
   "metadata": {},
   "source": [
    "## Preprocess Registers Dataframe"
   ]
  },
  {
   "cell_type": "code",
   "execution_count": 14,
   "metadata": {
    "ExecuteTime": {
     "end_time": "2019-10-09T08:11:37.378073Z",
     "start_time": "2019-10-09T08:11:37.097045Z"
    }
   },
   "outputs": [
    {
     "data": {
      "text/html": [
       "<div>\n",
       "<style scoped>\n",
       "    .dataframe tbody tr th:only-of-type {\n",
       "        vertical-align: middle;\n",
       "    }\n",
       "\n",
       "    .dataframe tbody tr th {\n",
       "        vertical-align: top;\n",
       "    }\n",
       "\n",
       "    .dataframe thead th {\n",
       "        text-align: right;\n",
       "    }\n",
       "</style>\n",
       "<table border=\"1\" class=\"dataframe\">\n",
       "  <thead>\n",
       "    <tr style=\"text-align: right;\">\n",
       "      <th></th>\n",
       "      <th>challengeId</th>\n",
       "      <th>registant</th>\n",
       "      <th>date</th>\n",
       "    </tr>\n",
       "  </thead>\n",
       "  <tbody>\n",
       "    <tr>\n",
       "      <th>0</th>\n",
       "      <td>30044052</td>\n",
       "      <td>phead</td>\n",
       "      <td>2014-07-09</td>\n",
       "    </tr>\n",
       "    <tr>\n",
       "      <th>1</th>\n",
       "      <td>30044052</td>\n",
       "      <td>lovefreya</td>\n",
       "      <td>2014-07-09</td>\n",
       "    </tr>\n",
       "    <tr>\n",
       "      <th>2</th>\n",
       "      <td>30044052</td>\n",
       "      <td>TMALBONPH</td>\n",
       "      <td>2014-07-09</td>\n",
       "    </tr>\n",
       "    <tr>\n",
       "      <th>3</th>\n",
       "      <td>30044052</td>\n",
       "      <td>daga_sumit</td>\n",
       "      <td>2014-07-09</td>\n",
       "    </tr>\n",
       "    <tr>\n",
       "      <th>4</th>\n",
       "      <td>30044052</td>\n",
       "      <td>abcivashritt</td>\n",
       "      <td>2014-07-09</td>\n",
       "    </tr>\n",
       "  </tbody>\n",
       "</table>\n",
       "</div>"
      ],
      "text/plain": [
       "   challengeId     registant        date\n",
       "0     30044052         phead  2014-07-09\n",
       "1     30044052     lovefreya  2014-07-09\n",
       "2     30044052     TMALBONPH  2014-07-09\n",
       "3     30044052    daga_sumit  2014-07-09\n",
       "4     30044052  abcivashritt  2014-07-09"
      ]
     },
     "execution_count": 14,
     "metadata": {},
     "output_type": "execute_result"
    }
   ],
   "source": [
    "regs_df = pd.read_csv(REGS_PATH)\n",
    "regs_df.head()"
   ]
  },
  {
   "cell_type": "code",
   "execution_count": 15,
   "metadata": {
    "ExecuteTime": {
     "end_time": "2019-10-09T08:11:37.508043Z",
     "start_time": "2019-10-09T08:11:37.380075Z"
    }
   },
   "outputs": [
    {
     "data": {
      "text/plain": [
       "sunbinbrother    7451\n",
       "poundinc_tc      6992\n",
       "woodjhon         6398\n",
       "luckvin          6039\n",
       "Schpotsky        5757\n",
       "Name: registant, dtype: int64"
      ]
     },
     "execution_count": 15,
     "metadata": {},
     "output_type": "execute_result"
    }
   ],
   "source": [
    "regs_counts = regs_df['registant'].value_counts()\n",
    "regs_counts.head()"
   ]
  },
  {
   "cell_type": "code",
   "execution_count": 16,
   "metadata": {
    "ExecuteTime": {
     "end_time": "2019-10-09T08:11:37.591068Z",
     "start_time": "2019-10-09T08:11:37.510043Z"
    }
   },
   "outputs": [
    {
     "data": {
      "text/plain": [
       "(60017,)"
      ]
     },
     "execution_count": 16,
     "metadata": {},
     "output_type": "execute_result"
    }
   ],
   "source": [
    "regs_counts.shape"
   ]
  },
  {
   "cell_type": "code",
   "execution_count": 17,
   "metadata": {
    "ExecuteTime": {
     "end_time": "2019-10-09T08:11:37.707571Z",
     "start_time": "2019-10-09T08:11:37.641543Z"
    }
   },
   "outputs": [
    {
     "data": {
      "text/plain": [
       "(9894,)"
      ]
     },
     "execution_count": 17,
     "metadata": {},
     "output_type": "execute_result"
    }
   ],
   "source": [
    "regs_counts = regs_counts[regs_counts >= 4]\n",
    "regs_counts.shape"
   ]
  },
  {
   "cell_type": "code",
   "execution_count": 18,
   "metadata": {
    "ExecuteTime": {
     "end_time": "2019-10-09T08:11:37.840510Z",
     "start_time": "2019-10-09T08:11:37.792510Z"
    }
   },
   "outputs": [
    {
     "data": {
      "text/plain": [
       "(610025, 3)"
      ]
     },
     "execution_count": 18,
     "metadata": {},
     "output_type": "execute_result"
    }
   ],
   "source": [
    "regs_df.shape"
   ]
  },
  {
   "cell_type": "code",
   "execution_count": 19,
   "metadata": {
    "ExecuteTime": {
     "end_time": "2019-10-09T08:11:39.612319Z",
     "start_time": "2019-10-09T08:11:39.521291Z"
    }
   },
   "outputs": [
    {
     "data": {
      "text/plain": [
       "(544568, 3)"
      ]
     },
     "execution_count": 19,
     "metadata": {},
     "output_type": "execute_result"
    }
   ],
   "source": [
    "regs_df = regs_df[regs_df['registant'].isin(regs_counts.index)]\n",
    "regs_df.shape"
   ]
  },
  {
   "cell_type": "code",
   "execution_count": 20,
   "metadata": {
    "ExecuteTime": {
     "end_time": "2019-10-09T08:11:39.870885Z",
     "start_time": "2019-10-09T08:11:39.704870Z"
    }
   },
   "outputs": [
    {
     "data": {
      "text/html": [
       "<div>\n",
       "<style scoped>\n",
       "    .dataframe tbody tr th:only-of-type {\n",
       "        vertical-align: middle;\n",
       "    }\n",
       "\n",
       "    .dataframe tbody tr th {\n",
       "        vertical-align: top;\n",
       "    }\n",
       "\n",
       "    .dataframe thead th {\n",
       "        text-align: right;\n",
       "    }\n",
       "</style>\n",
       "<table border=\"1\" class=\"dataframe\">\n",
       "  <thead>\n",
       "    <tr style=\"text-align: right;\">\n",
       "      <th></th>\n",
       "      <th>challengeId</th>\n",
       "      <th>registant</th>\n",
       "      <th>date</th>\n",
       "      <th>period</th>\n",
       "    </tr>\n",
       "  </thead>\n",
       "  <tbody>\n",
       "    <tr>\n",
       "      <th>0</th>\n",
       "      <td>30044052</td>\n",
       "      <td>phead</td>\n",
       "      <td>2014-07-09</td>\n",
       "      <td>2014-07</td>\n",
       "    </tr>\n",
       "    <tr>\n",
       "      <th>1</th>\n",
       "      <td>30044052</td>\n",
       "      <td>lovefreya</td>\n",
       "      <td>2014-07-09</td>\n",
       "      <td>2014-07</td>\n",
       "    </tr>\n",
       "    <tr>\n",
       "      <th>2</th>\n",
       "      <td>30044052</td>\n",
       "      <td>TMALBONPH</td>\n",
       "      <td>2014-07-09</td>\n",
       "      <td>2014-07</td>\n",
       "    </tr>\n",
       "    <tr>\n",
       "      <th>3</th>\n",
       "      <td>30044052</td>\n",
       "      <td>daga_sumit</td>\n",
       "      <td>2014-07-09</td>\n",
       "      <td>2014-07</td>\n",
       "    </tr>\n",
       "    <tr>\n",
       "      <th>4</th>\n",
       "      <td>30044052</td>\n",
       "      <td>abcivashritt</td>\n",
       "      <td>2014-07-09</td>\n",
       "      <td>2014-07</td>\n",
       "    </tr>\n",
       "  </tbody>\n",
       "</table>\n",
       "</div>"
      ],
      "text/plain": [
       "   challengeId     registant        date   period\n",
       "0     30044052         phead  2014-07-09  2014-07\n",
       "1     30044052     lovefreya  2014-07-09  2014-07\n",
       "2     30044052     TMALBONPH  2014-07-09  2014-07\n",
       "3     30044052    daga_sumit  2014-07-09  2014-07\n",
       "4     30044052  abcivashritt  2014-07-09  2014-07"
      ]
     },
     "execution_count": 20,
     "metadata": {},
     "output_type": "execute_result"
    }
   ],
   "source": [
    "regs_df['period'] = regs_df['date'].str[:7]\n",
    "regs_df.head()"
   ]
  },
  {
   "cell_type": "code",
   "execution_count": 21,
   "metadata": {
    "ExecuteTime": {
     "end_time": "2019-10-09T08:11:40.814994Z",
     "start_time": "2019-10-09T08:11:40.504966Z"
    }
   },
   "outputs": [
    {
     "data": {
      "text/html": [
       "<div>\n",
       "<style scoped>\n",
       "    .dataframe tbody tr th:only-of-type {\n",
       "        vertical-align: middle;\n",
       "    }\n",
       "\n",
       "    .dataframe tbody tr th {\n",
       "        vertical-align: top;\n",
       "    }\n",
       "\n",
       "    .dataframe thead th {\n",
       "        text-align: right;\n",
       "    }\n",
       "</style>\n",
       "<table border=\"1\" class=\"dataframe\">\n",
       "  <thead>\n",
       "    <tr style=\"text-align: right;\">\n",
       "      <th></th>\n",
       "      <th>challengeId</th>\n",
       "      <th>registant</th>\n",
       "      <th>date</th>\n",
       "      <th>period</th>\n",
       "    </tr>\n",
       "  </thead>\n",
       "  <tbody>\n",
       "    <tr>\n",
       "      <th>446754</th>\n",
       "      <td>30022003</td>\n",
       "      <td>(acm)zhupeijun</td>\n",
       "      <td>2010-03-17</td>\n",
       "      <td>2010-03</td>\n",
       "    </tr>\n",
       "    <tr>\n",
       "      <th>10253</th>\n",
       "      <td>30045145</td>\n",
       "      <td>(acm)zhupeijun</td>\n",
       "      <td>2014-08-19</td>\n",
       "      <td>2014-08</td>\n",
       "    </tr>\n",
       "    <tr>\n",
       "      <th>16217</th>\n",
       "      <td>30045639</td>\n",
       "      <td>(acm)zhupeijun</td>\n",
       "      <td>2014-09-05</td>\n",
       "      <td>2014-09</td>\n",
       "    </tr>\n",
       "    <tr>\n",
       "      <th>16674</th>\n",
       "      <td>30045678</td>\n",
       "      <td>(acm)zhupeijun</td>\n",
       "      <td>2014-09-08</td>\n",
       "      <td>2014-09</td>\n",
       "    </tr>\n",
       "    <tr>\n",
       "      <th>482515</th>\n",
       "      <td>30000149</td>\n",
       "      <td>-Neo-</td>\n",
       "      <td>2006-11-16</td>\n",
       "      <td>2006-11</td>\n",
       "    </tr>\n",
       "  </tbody>\n",
       "</table>\n",
       "</div>"
      ],
      "text/plain": [
       "        challengeId       registant        date   period\n",
       "446754     30022003  (acm)zhupeijun  2010-03-17  2010-03\n",
       "10253      30045145  (acm)zhupeijun  2014-08-19  2014-08\n",
       "16217      30045639  (acm)zhupeijun  2014-09-05  2014-09\n",
       "16674      30045678  (acm)zhupeijun  2014-09-08  2014-09\n",
       "482515     30000149           -Neo-  2006-11-16  2006-11"
      ]
     },
     "execution_count": 21,
     "metadata": {},
     "output_type": "execute_result"
    }
   ],
   "source": [
    "regs_df = regs_df.sort_values(by=['registant', 'date'])\n",
    "regs_df.head()"
   ]
  },
  {
   "cell_type": "code",
   "execution_count": 22,
   "metadata": {
    "ExecuteTime": {
     "end_time": "2019-10-09T08:11:41.314079Z",
     "start_time": "2019-10-09T08:11:41.249082Z"
    }
   },
   "outputs": [
    {
     "data": {
      "text/html": [
       "<div>\n",
       "<style scoped>\n",
       "    .dataframe tbody tr th:only-of-type {\n",
       "        vertical-align: middle;\n",
       "    }\n",
       "\n",
       "    .dataframe tbody tr th {\n",
       "        vertical-align: top;\n",
       "    }\n",
       "\n",
       "    .dataframe thead th {\n",
       "        text-align: right;\n",
       "    }\n",
       "</style>\n",
       "<table border=\"1\" class=\"dataframe\">\n",
       "  <thead>\n",
       "    <tr style=\"text-align: right;\">\n",
       "      <th></th>\n",
       "      <th>challengeId</th>\n",
       "      <th>registant</th>\n",
       "      <th>date</th>\n",
       "      <th>period</th>\n",
       "      <th>previousId</th>\n",
       "      <th>prevPeriod</th>\n",
       "    </tr>\n",
       "  </thead>\n",
       "  <tbody>\n",
       "    <tr>\n",
       "      <th>446754</th>\n",
       "      <td>30022003</td>\n",
       "      <td>(acm)zhupeijun</td>\n",
       "      <td>2010-03-17</td>\n",
       "      <td>2010-03</td>\n",
       "      <td>30022003</td>\n",
       "      <td>2010-03</td>\n",
       "    </tr>\n",
       "    <tr>\n",
       "      <th>10253</th>\n",
       "      <td>30045145</td>\n",
       "      <td>(acm)zhupeijun</td>\n",
       "      <td>2014-08-19</td>\n",
       "      <td>2014-08</td>\n",
       "      <td>30045145</td>\n",
       "      <td>2014-08</td>\n",
       "    </tr>\n",
       "    <tr>\n",
       "      <th>16217</th>\n",
       "      <td>30045639</td>\n",
       "      <td>(acm)zhupeijun</td>\n",
       "      <td>2014-09-05</td>\n",
       "      <td>2014-09</td>\n",
       "      <td>30045639</td>\n",
       "      <td>2014-09</td>\n",
       "    </tr>\n",
       "    <tr>\n",
       "      <th>16674</th>\n",
       "      <td>30045678</td>\n",
       "      <td>(acm)zhupeijun</td>\n",
       "      <td>2014-09-08</td>\n",
       "      <td>2014-09</td>\n",
       "      <td>30045678</td>\n",
       "      <td>2014-09</td>\n",
       "    </tr>\n",
       "    <tr>\n",
       "      <th>482515</th>\n",
       "      <td>30000149</td>\n",
       "      <td>-Neo-</td>\n",
       "      <td>2006-11-16</td>\n",
       "      <td>2006-11</td>\n",
       "      <td>30000149</td>\n",
       "      <td>2006-11</td>\n",
       "    </tr>\n",
       "  </tbody>\n",
       "</table>\n",
       "</div>"
      ],
      "text/plain": [
       "        challengeId       registant        date   period  previousId  \\\n",
       "446754     30022003  (acm)zhupeijun  2010-03-17  2010-03    30022003   \n",
       "10253      30045145  (acm)zhupeijun  2014-08-19  2014-08    30045145   \n",
       "16217      30045639  (acm)zhupeijun  2014-09-05  2014-09    30045639   \n",
       "16674      30045678  (acm)zhupeijun  2014-09-08  2014-09    30045678   \n",
       "482515     30000149           -Neo-  2006-11-16  2006-11    30000149   \n",
       "\n",
       "       prevPeriod  \n",
       "446754    2010-03  \n",
       "10253     2014-08  \n",
       "16217     2014-09  \n",
       "16674     2014-09  \n",
       "482515    2006-11  "
      ]
     },
     "execution_count": 22,
     "metadata": {},
     "output_type": "execute_result"
    }
   ],
   "source": [
    "regs_df['previousId'] = regs_df['challengeId']\n",
    "regs_df['prevPeriod'] = regs_df['period']\n",
    "regs_df.head()"
   ]
  },
  {
   "cell_type": "code",
   "execution_count": 23,
   "metadata": {
    "ExecuteTime": {
     "end_time": "2019-10-09T08:11:45.197814Z",
     "start_time": "2019-10-09T08:11:45.129782Z"
    }
   },
   "outputs": [
    {
     "data": {
      "text/html": [
       "<div>\n",
       "<style scoped>\n",
       "    .dataframe tbody tr th:only-of-type {\n",
       "        vertical-align: middle;\n",
       "    }\n",
       "\n",
       "    .dataframe tbody tr th {\n",
       "        vertical-align: top;\n",
       "    }\n",
       "\n",
       "    .dataframe thead th {\n",
       "        text-align: right;\n",
       "    }\n",
       "</style>\n",
       "<table border=\"1\" class=\"dataframe\">\n",
       "  <thead>\n",
       "    <tr style=\"text-align: right;\">\n",
       "      <th></th>\n",
       "      <th>challengeId</th>\n",
       "      <th>registant</th>\n",
       "      <th>date</th>\n",
       "      <th>period</th>\n",
       "      <th>previousId</th>\n",
       "      <th>prevPeriod</th>\n",
       "    </tr>\n",
       "  </thead>\n",
       "  <tbody>\n",
       "    <tr>\n",
       "      <th>446754</th>\n",
       "      <td>30022003</td>\n",
       "      <td>(acm)zhupeijun</td>\n",
       "      <td>2010-03-17</td>\n",
       "      <td>2010-03</td>\n",
       "      <td>0</td>\n",
       "      <td>2010-03</td>\n",
       "    </tr>\n",
       "    <tr>\n",
       "      <th>10253</th>\n",
       "      <td>30045145</td>\n",
       "      <td>(acm)zhupeijun</td>\n",
       "      <td>2014-08-19</td>\n",
       "      <td>2014-08</td>\n",
       "      <td>30022003</td>\n",
       "      <td>2014-08</td>\n",
       "    </tr>\n",
       "    <tr>\n",
       "      <th>16217</th>\n",
       "      <td>30045639</td>\n",
       "      <td>(acm)zhupeijun</td>\n",
       "      <td>2014-09-05</td>\n",
       "      <td>2014-09</td>\n",
       "      <td>30045145</td>\n",
       "      <td>2014-09</td>\n",
       "    </tr>\n",
       "    <tr>\n",
       "      <th>16674</th>\n",
       "      <td>30045678</td>\n",
       "      <td>(acm)zhupeijun</td>\n",
       "      <td>2014-09-08</td>\n",
       "      <td>2014-09</td>\n",
       "      <td>30045639</td>\n",
       "      <td>2014-09</td>\n",
       "    </tr>\n",
       "    <tr>\n",
       "      <th>482515</th>\n",
       "      <td>30000149</td>\n",
       "      <td>-Neo-</td>\n",
       "      <td>2006-11-16</td>\n",
       "      <td>2006-11</td>\n",
       "      <td>30045678</td>\n",
       "      <td>2006-11</td>\n",
       "    </tr>\n",
       "  </tbody>\n",
       "</table>\n",
       "</div>"
      ],
      "text/plain": [
       "        challengeId       registant        date   period  previousId  \\\n",
       "446754     30022003  (acm)zhupeijun  2010-03-17  2010-03           0   \n",
       "10253      30045145  (acm)zhupeijun  2014-08-19  2014-08    30022003   \n",
       "16217      30045639  (acm)zhupeijun  2014-09-05  2014-09    30045145   \n",
       "16674      30045678  (acm)zhupeijun  2014-09-08  2014-09    30045639   \n",
       "482515     30000149           -Neo-  2006-11-16  2006-11    30045678   \n",
       "\n",
       "       prevPeriod  \n",
       "446754    2010-03  \n",
       "10253     2014-08  \n",
       "16217     2014-09  \n",
       "16674     2014-09  \n",
       "482515    2006-11  "
      ]
     },
     "execution_count": 23,
     "metadata": {},
     "output_type": "execute_result"
    }
   ],
   "source": [
    "regs_df['previousId'] = regs_df['previousId'].shift(\n",
    "    periods=1).fillna(0).astype('int64')\n",
    "regs_df.head()"
   ]
  },
  {
   "cell_type": "code",
   "execution_count": 24,
   "metadata": {
    "ExecuteTime": {
     "end_time": "2019-10-09T08:11:47.005141Z",
     "start_time": "2019-10-09T08:11:46.832871Z"
    }
   },
   "outputs": [
    {
     "data": {
      "text/html": [
       "<div>\n",
       "<style scoped>\n",
       "    .dataframe tbody tr th:only-of-type {\n",
       "        vertical-align: middle;\n",
       "    }\n",
       "\n",
       "    .dataframe tbody tr th {\n",
       "        vertical-align: top;\n",
       "    }\n",
       "\n",
       "    .dataframe thead th {\n",
       "        text-align: right;\n",
       "    }\n",
       "</style>\n",
       "<table border=\"1\" class=\"dataframe\">\n",
       "  <thead>\n",
       "    <tr style=\"text-align: right;\">\n",
       "      <th></th>\n",
       "      <th>challengeId</th>\n",
       "      <th>registant</th>\n",
       "      <th>date</th>\n",
       "      <th>period</th>\n",
       "      <th>previousId</th>\n",
       "      <th>prevPeriod</th>\n",
       "    </tr>\n",
       "  </thead>\n",
       "  <tbody>\n",
       "    <tr>\n",
       "      <th>446754</th>\n",
       "      <td>30022003</td>\n",
       "      <td>(acm)zhupeijun</td>\n",
       "      <td>2010-03-17</td>\n",
       "      <td>2010-03</td>\n",
       "      <td>0</td>\n",
       "      <td>2005-01</td>\n",
       "    </tr>\n",
       "    <tr>\n",
       "      <th>10253</th>\n",
       "      <td>30045145</td>\n",
       "      <td>(acm)zhupeijun</td>\n",
       "      <td>2014-08-19</td>\n",
       "      <td>2014-08</td>\n",
       "      <td>30022003</td>\n",
       "      <td>2010-03</td>\n",
       "    </tr>\n",
       "    <tr>\n",
       "      <th>16217</th>\n",
       "      <td>30045639</td>\n",
       "      <td>(acm)zhupeijun</td>\n",
       "      <td>2014-09-05</td>\n",
       "      <td>2014-09</td>\n",
       "      <td>30045145</td>\n",
       "      <td>2014-08</td>\n",
       "    </tr>\n",
       "    <tr>\n",
       "      <th>16674</th>\n",
       "      <td>30045678</td>\n",
       "      <td>(acm)zhupeijun</td>\n",
       "      <td>2014-09-08</td>\n",
       "      <td>2014-09</td>\n",
       "      <td>30045639</td>\n",
       "      <td>2014-09</td>\n",
       "    </tr>\n",
       "    <tr>\n",
       "      <th>482515</th>\n",
       "      <td>30000149</td>\n",
       "      <td>-Neo-</td>\n",
       "      <td>2006-11-16</td>\n",
       "      <td>2006-11</td>\n",
       "      <td>30045678</td>\n",
       "      <td>2014-09</td>\n",
       "    </tr>\n",
       "  </tbody>\n",
       "</table>\n",
       "</div>"
      ],
      "text/plain": [
       "        challengeId       registant        date   period  previousId  \\\n",
       "446754     30022003  (acm)zhupeijun  2010-03-17  2010-03           0   \n",
       "10253      30045145  (acm)zhupeijun  2014-08-19  2014-08    30022003   \n",
       "16217      30045639  (acm)zhupeijun  2014-09-05  2014-09    30045145   \n",
       "16674      30045678  (acm)zhupeijun  2014-09-08  2014-09    30045639   \n",
       "482515     30000149           -Neo-  2006-11-16  2006-11    30045678   \n",
       "\n",
       "       prevPeriod  \n",
       "446754    2005-01  \n",
       "10253     2010-03  \n",
       "16217     2014-08  \n",
       "16674     2014-09  \n",
       "482515    2014-09  "
      ]
     },
     "execution_count": 24,
     "metadata": {},
     "output_type": "execute_result"
    }
   ],
   "source": [
    "regs_df['prevPeriod'] = regs_df['prevPeriod'].shift(periods=1).fillna('2005-01')\n",
    "regs_df.head()"
   ]
  },
  {
   "cell_type": "code",
   "execution_count": 25,
   "metadata": {
    "ExecuteTime": {
     "end_time": "2019-10-09T08:11:56.870377Z",
     "start_time": "2019-10-09T08:11:56.776387Z"
    }
   },
   "outputs": [
    {
     "data": {
      "text/plain": [
       "446754    False\n",
       "10253      True\n",
       "16217      True\n",
       "16674      True\n",
       "482515    False\n",
       "dtype: bool"
      ]
     },
     "execution_count": 25,
     "metadata": {},
     "output_type": "execute_result"
    }
   ],
   "source": [
    "first_mask = regs_df.duplicated(subset=['registant'], keep='first')\n",
    "first_mask.head()"
   ]
  },
  {
   "cell_type": "code",
   "execution_count": 26,
   "metadata": {
    "ExecuteTime": {
     "end_time": "2019-10-09T08:11:57.448423Z",
     "start_time": "2019-10-09T08:11:57.305393Z"
    }
   },
   "outputs": [
    {
     "data": {
      "text/html": [
       "<div>\n",
       "<style scoped>\n",
       "    .dataframe tbody tr th:only-of-type {\n",
       "        vertical-align: middle;\n",
       "    }\n",
       "\n",
       "    .dataframe tbody tr th {\n",
       "        vertical-align: top;\n",
       "    }\n",
       "\n",
       "    .dataframe thead th {\n",
       "        text-align: right;\n",
       "    }\n",
       "</style>\n",
       "<table border=\"1\" class=\"dataframe\">\n",
       "  <thead>\n",
       "    <tr style=\"text-align: right;\">\n",
       "      <th></th>\n",
       "      <th>challengeId</th>\n",
       "      <th>registant</th>\n",
       "      <th>date</th>\n",
       "      <th>period</th>\n",
       "      <th>previousId</th>\n",
       "      <th>prevPeriod</th>\n",
       "    </tr>\n",
       "  </thead>\n",
       "  <tbody>\n",
       "    <tr>\n",
       "      <th>446754</th>\n",
       "      <td>30022003</td>\n",
       "      <td>(acm)zhupeijun</td>\n",
       "      <td>2010-03-17</td>\n",
       "      <td>2010-03</td>\n",
       "      <td>-1</td>\n",
       "      <td>2005-01</td>\n",
       "    </tr>\n",
       "    <tr>\n",
       "      <th>482515</th>\n",
       "      <td>30000149</td>\n",
       "      <td>-Neo-</td>\n",
       "      <td>2006-11-16</td>\n",
       "      <td>2006-11</td>\n",
       "      <td>-1</td>\n",
       "      <td>2014-09</td>\n",
       "    </tr>\n",
       "    <tr>\n",
       "      <th>166877</th>\n",
       "      <td>30055022</td>\n",
       "      <td>-_-33</td>\n",
       "      <td>2016-08-19</td>\n",
       "      <td>2016-08</td>\n",
       "      <td>-1</td>\n",
       "      <td>2007-08</td>\n",
       "    </tr>\n",
       "    <tr>\n",
       "      <th>588599</th>\n",
       "      <td>30003421</td>\n",
       "      <td>-jacob-</td>\n",
       "      <td>2008-01-24</td>\n",
       "      <td>2008-01</td>\n",
       "      <td>-1</td>\n",
       "      <td>2016-12</td>\n",
       "    </tr>\n",
       "    <tr>\n",
       "      <th>588099</th>\n",
       "      <td>30003490</td>\n",
       "      <td>-kotenok-</td>\n",
       "      <td>2008-01-31</td>\n",
       "      <td>2008-01</td>\n",
       "      <td>-1</td>\n",
       "      <td>2014-07</td>\n",
       "    </tr>\n",
       "  </tbody>\n",
       "</table>\n",
       "</div>"
      ],
      "text/plain": [
       "        challengeId       registant        date   period  previousId  \\\n",
       "446754     30022003  (acm)zhupeijun  2010-03-17  2010-03          -1   \n",
       "482515     30000149           -Neo-  2006-11-16  2006-11          -1   \n",
       "166877     30055022           -_-33  2016-08-19  2016-08          -1   \n",
       "588599     30003421         -jacob-  2008-01-24  2008-01          -1   \n",
       "588099     30003490       -kotenok-  2008-01-31  2008-01          -1   \n",
       "\n",
       "       prevPeriod  \n",
       "446754    2005-01  \n",
       "482515    2014-09  \n",
       "166877    2007-08  \n",
       "588599    2016-12  \n",
       "588099    2014-07  "
      ]
     },
     "execution_count": 26,
     "metadata": {},
     "output_type": "execute_result"
    }
   ],
   "source": [
    "regs_df['previousId'] = regs_df['previousId'].where(first_mask, -1)\n",
    "regs_df[~first_mask].head()"
   ]
  },
  {
   "cell_type": "markdown",
   "metadata": {},
   "source": [
    "## Batch collate function"
   ]
  },
  {
   "cell_type": "code",
   "execution_count": 36,
   "metadata": {
    "ExecuteTime": {
     "end_time": "2019-10-09T08:15:20.810437Z",
     "start_time": "2019-10-09T08:15:20.746434Z"
    }
   },
   "outputs": [
    {
     "data": {
      "text/html": [
       "<div>\n",
       "<style scoped>\n",
       "    .dataframe tbody tr th:only-of-type {\n",
       "        vertical-align: middle;\n",
       "    }\n",
       "\n",
       "    .dataframe tbody tr th {\n",
       "        vertical-align: top;\n",
       "    }\n",
       "\n",
       "    .dataframe thead th {\n",
       "        text-align: right;\n",
       "    }\n",
       "</style>\n",
       "<table border=\"1\" class=\"dataframe\">\n",
       "  <thead>\n",
       "    <tr style=\"text-align: right;\">\n",
       "      <th></th>\n",
       "      <th>challengeId</th>\n",
       "      <th>registant</th>\n",
       "      <th>date</th>\n",
       "      <th>period</th>\n",
       "      <th>previousId</th>\n",
       "      <th>prevPeriod</th>\n",
       "    </tr>\n",
       "  </thead>\n",
       "  <tbody>\n",
       "    <tr>\n",
       "      <th>344253</th>\n",
       "      <td>30035744</td>\n",
       "      <td>gwiwik</td>\n",
       "      <td>2013-09-18</td>\n",
       "      <td>2013-09</td>\n",
       "      <td>30035551</td>\n",
       "      <td>2013-09</td>\n",
       "    </tr>\n",
       "    <tr>\n",
       "      <th>514674</th>\n",
       "      <td>30012744</td>\n",
       "      <td>sparemax</td>\n",
       "      <td>2010-07-09</td>\n",
       "      <td>2010-07</td>\n",
       "      <td>30012746</td>\n",
       "      <td>2010-07</td>\n",
       "    </tr>\n",
       "    <tr>\n",
       "      <th>515460</th>\n",
       "      <td>30012542</td>\n",
       "      <td>azukun</td>\n",
       "      <td>2010-08-03</td>\n",
       "      <td>2010-08</td>\n",
       "      <td>30013718</td>\n",
       "      <td>2010-08</td>\n",
       "    </tr>\n",
       "    <tr>\n",
       "      <th>219230</th>\n",
       "      <td>30059401</td>\n",
       "      <td>solokop</td>\n",
       "      <td>2017-09-18</td>\n",
       "      <td>2017-09</td>\n",
       "      <td>30059397</td>\n",
       "      <td>2017-09</td>\n",
       "    </tr>\n",
       "    <tr>\n",
       "      <th>312526</th>\n",
       "      <td>30041080</td>\n",
       "      <td>testXuSanping</td>\n",
       "      <td>2014-03-07</td>\n",
       "      <td>2014-03</td>\n",
       "      <td>30041101</td>\n",
       "      <td>2014-03</td>\n",
       "    </tr>\n",
       "  </tbody>\n",
       "</table>\n",
       "</div>"
      ],
      "text/plain": [
       "        challengeId      registant        date   period  previousId prevPeriod\n",
       "344253     30035744         gwiwik  2013-09-18  2013-09    30035551    2013-09\n",
       "514674     30012744       sparemax  2010-07-09  2010-07    30012746    2010-07\n",
       "515460     30012542         azukun  2010-08-03  2010-08    30013718    2010-08\n",
       "219230     30059401        solokop  2017-09-18  2017-09    30059397    2017-09\n",
       "312526     30041080  testXuSanping  2014-03-07  2014-03    30041101    2014-03"
      ]
     },
     "execution_count": 36,
     "metadata": {},
     "output_type": "execute_result"
    }
   ],
   "source": [
    "batch_df = regs_df.sample(n=200)\n",
    "batch_df.head()"
   ]
  },
  {
   "cell_type": "code",
   "execution_count": 39,
   "metadata": {
    "ExecuteTime": {
     "end_time": "2019-10-09T08:15:45.023007Z",
     "start_time": "2019-10-09T08:15:44.969006Z"
    }
   },
   "outputs": [
    {
     "data": {
      "text/html": [
       "<div>\n",
       "<style scoped>\n",
       "    .dataframe tbody tr th:only-of-type {\n",
       "        vertical-align: middle;\n",
       "    }\n",
       "\n",
       "    .dataframe tbody tr th {\n",
       "        vertical-align: top;\n",
       "    }\n",
       "\n",
       "    .dataframe thead th {\n",
       "        text-align: right;\n",
       "    }\n",
       "</style>\n",
       "<table border=\"1\" class=\"dataframe\">\n",
       "  <thead>\n",
       "    <tr style=\"text-align: right;\">\n",
       "      <th></th>\n",
       "      <th>challengeId</th>\n",
       "      <th>registant</th>\n",
       "      <th>date</th>\n",
       "      <th>period</th>\n",
       "      <th>previousId</th>\n",
       "      <th>prevPeriod</th>\n",
       "    </tr>\n",
       "  </thead>\n",
       "  <tbody>\n",
       "    <tr>\n",
       "      <th>482626</th>\n",
       "      <td>30000143</td>\n",
       "      <td>singlewood</td>\n",
       "      <td>2006-11-16</td>\n",
       "      <td>2006-11</td>\n",
       "      <td>-1</td>\n",
       "      <td>2010-03</td>\n",
       "    </tr>\n",
       "    <tr>\n",
       "      <th>608521</th>\n",
       "      <td>30000621</td>\n",
       "      <td>_NT_</td>\n",
       "      <td>2007-01-11</td>\n",
       "      <td>2007-01</td>\n",
       "      <td>30000578</td>\n",
       "      <td>2007-01</td>\n",
       "    </tr>\n",
       "    <tr>\n",
       "      <th>602737</th>\n",
       "      <td>30001496</td>\n",
       "      <td>knuthocean</td>\n",
       "      <td>2007-04-24</td>\n",
       "      <td>2007-04</td>\n",
       "      <td>30001467</td>\n",
       "      <td>2007-04</td>\n",
       "    </tr>\n",
       "    <tr>\n",
       "      <th>597470</th>\n",
       "      <td>30002173</td>\n",
       "      <td>CDDB</td>\n",
       "      <td>2007-07-27</td>\n",
       "      <td>2007-07</td>\n",
       "      <td>30002071</td>\n",
       "      <td>2007-07</td>\n",
       "    </tr>\n",
       "    <tr>\n",
       "      <th>596971</th>\n",
       "      <td>30002240</td>\n",
       "      <td>StargateKeeper</td>\n",
       "      <td>2007-08-06</td>\n",
       "      <td>2007-08</td>\n",
       "      <td>30002241</td>\n",
       "      <td>2007-08</td>\n",
       "    </tr>\n",
       "  </tbody>\n",
       "</table>\n",
       "</div>"
      ],
      "text/plain": [
       "        challengeId       registant        date   period  previousId  \\\n",
       "482626     30000143      singlewood  2006-11-16  2006-11          -1   \n",
       "608521     30000621            _NT_  2007-01-11  2007-01    30000578   \n",
       "602737     30001496      knuthocean  2007-04-24  2007-04    30001467   \n",
       "597470     30002173            CDDB  2007-07-27  2007-07    30002071   \n",
       "596971     30002240  StargateKeeper  2007-08-06  2007-08    30002241   \n",
       "\n",
       "       prevPeriod  \n",
       "482626    2010-03  \n",
       "608521    2007-01  \n",
       "602737    2007-04  \n",
       "597470    2007-07  \n",
       "596971    2007-08  "
      ]
     },
     "execution_count": 39,
     "metadata": {},
     "output_type": "execute_result"
    }
   ],
   "source": [
    "batch_df = batch_df.sort_values(by=['period'])\n",
    "batch_df.head()"
   ]
  },
  {
   "cell_type": "code",
   "execution_count": 38,
   "metadata": {
    "ExecuteTime": {
     "end_time": "2019-10-09T08:15:41.344259Z",
     "start_time": "2019-10-09T08:15:41.289263Z"
    }
   },
   "outputs": [
    {
     "data": {
      "text/html": [
       "<div>\n",
       "<style scoped>\n",
       "    .dataframe tbody tr th:only-of-type {\n",
       "        vertical-align: middle;\n",
       "    }\n",
       "\n",
       "    .dataframe tbody tr th {\n",
       "        vertical-align: top;\n",
       "    }\n",
       "\n",
       "    .dataframe thead th {\n",
       "        text-align: right;\n",
       "    }\n",
       "</style>\n",
       "<table border=\"1\" class=\"dataframe\">\n",
       "  <thead>\n",
       "    <tr style=\"text-align: right;\">\n",
       "      <th></th>\n",
       "      <th>challengeId</th>\n",
       "      <th>registant</th>\n",
       "      <th>date</th>\n",
       "      <th>period</th>\n",
       "      <th>previousId</th>\n",
       "      <th>prevPeriod</th>\n",
       "    </tr>\n",
       "  </thead>\n",
       "  <tbody>\n",
       "    <tr>\n",
       "      <th>482626</th>\n",
       "      <td>30000143</td>\n",
       "      <td>singlewood</td>\n",
       "      <td>2006-11-16</td>\n",
       "      <td>2006-11</td>\n",
       "      <td>-1</td>\n",
       "      <td>2010-03</td>\n",
       "    </tr>\n",
       "    <tr>\n",
       "      <th>582256</th>\n",
       "      <td>30004416</td>\n",
       "      <td>prettyangels</td>\n",
       "      <td>2008-05-06</td>\n",
       "      <td>2008-05</td>\n",
       "      <td>-1</td>\n",
       "      <td>2018-08</td>\n",
       "    </tr>\n",
       "    <tr>\n",
       "      <th>506955</th>\n",
       "      <td>30013984</td>\n",
       "      <td>dljg718</td>\n",
       "      <td>2010-08-30</td>\n",
       "      <td>2010-08</td>\n",
       "      <td>-1</td>\n",
       "      <td>2013-04</td>\n",
       "    </tr>\n",
       "    <tr>\n",
       "      <th>448303</th>\n",
       "      <td>30021858</td>\n",
       "      <td>bargisy</td>\n",
       "      <td>2009-12-16</td>\n",
       "      <td>2009-12</td>\n",
       "      <td>-1</td>\n",
       "      <td>2007-10</td>\n",
       "    </tr>\n",
       "    <tr>\n",
       "      <th>395517</th>\n",
       "      <td>30029234</td>\n",
       "      <td>weligamage</td>\n",
       "      <td>2012-08-08</td>\n",
       "      <td>2012-08</td>\n",
       "      <td>-1</td>\n",
       "      <td>2010-07</td>\n",
       "    </tr>\n",
       "  </tbody>\n",
       "</table>\n",
       "</div>"
      ],
      "text/plain": [
       "        challengeId     registant        date   period  previousId prevPeriod\n",
       "482626     30000143    singlewood  2006-11-16  2006-11          -1    2010-03\n",
       "582256     30004416  prettyangels  2008-05-06  2008-05          -1    2018-08\n",
       "506955     30013984       dljg718  2010-08-30  2010-08          -1    2013-04\n",
       "448303     30021858       bargisy  2009-12-16  2009-12          -1    2007-10\n",
       "395517     30029234    weligamage  2012-08-08  2012-08          -1    2010-07"
      ]
     },
     "execution_count": 38,
     "metadata": {},
     "output_type": "execute_result"
    }
   ],
   "source": [
    "batch_df = batch_df.sort_values(by=['previousId'])\n",
    "batch_df.head()"
   ]
  },
  {
   "cell_type": "code",
   "execution_count": 41,
   "metadata": {
    "ExecuteTime": {
     "end_time": "2019-10-09T08:16:16.452153Z",
     "start_time": "2019-10-09T08:16:16.385157Z"
    },
    "scrolled": true
   },
   "outputs": [
    {
     "data": {
      "text/html": [
       "<div>\n",
       "<style scoped>\n",
       "    .dataframe tbody tr th:only-of-type {\n",
       "        vertical-align: middle;\n",
       "    }\n",
       "\n",
       "    .dataframe tbody tr th {\n",
       "        vertical-align: top;\n",
       "    }\n",
       "\n",
       "    .dataframe thead th {\n",
       "        text-align: right;\n",
       "    }\n",
       "</style>\n",
       "<table border=\"1\" class=\"dataframe\">\n",
       "  <thead>\n",
       "    <tr style=\"text-align: right;\">\n",
       "      <th></th>\n",
       "      <th>previousId</th>\n",
       "      <th>challengeId</th>\n",
       "      <th>date</th>\n",
       "      <th>prizes</th>\n",
       "      <th>technologies</th>\n",
       "      <th>platforms</th>\n",
       "      <th>per</th>\n",
       "    </tr>\n",
       "  </thead>\n",
       "  <tbody>\n",
       "    <tr>\n",
       "      <th>0</th>\n",
       "      <td>-1</td>\n",
       "      <td>-1</td>\n",
       "      <td>2005-01-01</td>\n",
       "      <td>0.0</td>\n",
       "      <td>[]</td>\n",
       "      <td>[]</td>\n",
       "      <td>2005-01</td>\n",
       "    </tr>\n",
       "    <tr>\n",
       "      <th>1</th>\n",
       "      <td>30000578</td>\n",
       "      <td>30000578</td>\n",
       "      <td>2007-01-05</td>\n",
       "      <td>800.0</td>\n",
       "      <td>[.NET, C#]</td>\n",
       "      <td>[]</td>\n",
       "      <td>2007-01</td>\n",
       "    </tr>\n",
       "    <tr>\n",
       "      <th>2</th>\n",
       "      <td>30001467</td>\n",
       "      <td>30001467</td>\n",
       "      <td>2007-04-20</td>\n",
       "      <td>500.0</td>\n",
       "      <td>[Java]</td>\n",
       "      <td>[]</td>\n",
       "      <td>2007-04</td>\n",
       "    </tr>\n",
       "    <tr>\n",
       "      <th>3</th>\n",
       "      <td>30002071</td>\n",
       "      <td>30002071</td>\n",
       "      <td>2007-07-13</td>\n",
       "      <td>700.0</td>\n",
       "      <td>[Java, XML]</td>\n",
       "      <td>[]</td>\n",
       "      <td>2007-07</td>\n",
       "    </tr>\n",
       "    <tr>\n",
       "      <th>4</th>\n",
       "      <td>30002241</td>\n",
       "      <td>30002241</td>\n",
       "      <td>2007-08-06</td>\n",
       "      <td>400.0</td>\n",
       "      <td>[Java]</td>\n",
       "      <td>[]</td>\n",
       "      <td>2007-08</td>\n",
       "    </tr>\n",
       "  </tbody>\n",
       "</table>\n",
       "</div>"
      ],
      "text/plain": [
       "   previousId  challengeId        date  prizes technologies platforms      per\n",
       "0          -1           -1  2005-01-01     0.0           []        []  2005-01\n",
       "1    30000578     30000578  2007-01-05   800.0   [.NET, C#]        []  2007-01\n",
       "2    30001467     30001467  2007-04-20   500.0       [Java]        []  2007-04\n",
       "3    30002071     30002071  2007-07-13   700.0  [Java, XML]        []  2007-07\n",
       "4    30002241     30002241  2007-08-06   400.0       [Java]        []  2007-08"
      ]
     },
     "execution_count": 41,
     "metadata": {},
     "output_type": "execute_result"
    }
   ],
   "source": [
    "prev_feat_df = pd.merge(left=batch_df[['previousId']],\n",
    "                        right=chag_df,\n",
    "                        how='left',\n",
    "                        left_on=['previousId'],\n",
    "                        right_on=['challengeId'])\n",
    "prev_feat_df.head()"
   ]
  },
  {
   "cell_type": "code",
   "execution_count": 42,
   "metadata": {
    "ExecuteTime": {
     "end_time": "2019-10-09T08:16:33.289644Z",
     "start_time": "2019-10-09T08:16:33.240645Z"
    }
   },
   "outputs": [
    {
     "data": {
      "text/plain": [
       "(200, 7)"
      ]
     },
     "execution_count": 42,
     "metadata": {},
     "output_type": "execute_result"
    }
   ],
   "source": [
    "prev_feat_df.shape"
   ]
  },
  {
   "cell_type": "code",
   "execution_count": 34,
   "metadata": {
    "ExecuteTime": {
     "end_time": "2019-10-09T08:13:53.594716Z",
     "start_time": "2019-10-09T08:13:53.536745Z"
    }
   },
   "outputs": [
    {
     "data": {
      "text/html": [
       "<div>\n",
       "<style scoped>\n",
       "    .dataframe tbody tr th:only-of-type {\n",
       "        vertical-align: middle;\n",
       "    }\n",
       "\n",
       "    .dataframe tbody tr th {\n",
       "        vertical-align: top;\n",
       "    }\n",
       "\n",
       "    .dataframe thead th {\n",
       "        text-align: right;\n",
       "    }\n",
       "</style>\n",
       "<table border=\"1\" class=\"dataframe\">\n",
       "  <thead>\n",
       "    <tr style=\"text-align: right;\">\n",
       "      <th></th>\n",
       "      <th>previousId</th>\n",
       "      <th>challengeId</th>\n",
       "      <th>date</th>\n",
       "      <th>prizes</th>\n",
       "      <th>technologies</th>\n",
       "      <th>platforms</th>\n",
       "      <th>per</th>\n",
       "    </tr>\n",
       "  </thead>\n",
       "  <tbody>\n",
       "    <tr>\n",
       "      <th>0</th>\n",
       "      <td>-1</td>\n",
       "      <td>-1</td>\n",
       "      <td>2005-01-01</td>\n",
       "      <td>0.0</td>\n",
       "      <td>[]</td>\n",
       "      <td>[]</td>\n",
       "      <td>2005-01</td>\n",
       "    </tr>\n",
       "    <tr>\n",
       "      <th>1</th>\n",
       "      <td>-1</td>\n",
       "      <td>-1</td>\n",
       "      <td>2005-01-01</td>\n",
       "      <td>0.0</td>\n",
       "      <td>[]</td>\n",
       "      <td>[]</td>\n",
       "      <td>2005-01</td>\n",
       "    </tr>\n",
       "    <tr>\n",
       "      <th>2</th>\n",
       "      <td>-1</td>\n",
       "      <td>-1</td>\n",
       "      <td>2005-01-01</td>\n",
       "      <td>0.0</td>\n",
       "      <td>[]</td>\n",
       "      <td>[]</td>\n",
       "      <td>2005-01</td>\n",
       "    </tr>\n",
       "    <tr>\n",
       "      <th>3</th>\n",
       "      <td>-1</td>\n",
       "      <td>-1</td>\n",
       "      <td>2005-01-01</td>\n",
       "      <td>0.0</td>\n",
       "      <td>[]</td>\n",
       "      <td>[]</td>\n",
       "      <td>2005-01</td>\n",
       "    </tr>\n",
       "    <tr>\n",
       "      <th>4</th>\n",
       "      <td>-1</td>\n",
       "      <td>-1</td>\n",
       "      <td>2005-01-01</td>\n",
       "      <td>0.0</td>\n",
       "      <td>[]</td>\n",
       "      <td>[]</td>\n",
       "      <td>2005-01</td>\n",
       "    </tr>\n",
       "  </tbody>\n",
       "</table>\n",
       "</div>"
      ],
      "text/plain": [
       "   previousId  challengeId        date  prizes technologies platforms      per\n",
       "0          -1           -1  2005-01-01     0.0           []        []  2005-01\n",
       "1          -1           -1  2005-01-01     0.0           []        []  2005-01\n",
       "2          -1           -1  2005-01-01     0.0           []        []  2005-01\n",
       "3          -1           -1  2005-01-01     0.0           []        []  2005-01\n",
       "4          -1           -1  2005-01-01     0.0           []        []  2005-01"
      ]
     },
     "execution_count": 34,
     "metadata": {},
     "output_type": "execute_result"
    }
   ],
   "source": [
    "prev_feat_df = prev_feat_df.sort_values(by=['per', 'challengeId'])\n",
    "prev_feat_df.head()"
   ]
  },
  {
   "cell_type": "code",
   "execution_count": 43,
   "metadata": {
    "ExecuteTime": {
     "end_time": "2019-10-09T08:03:05.645883Z",
     "start_time": "2019-10-09T08:03:05.576876Z"
    }
   },
   "outputs": [
    {
     "data": {
      "text/html": [
       "<div>\n",
       "<style scoped>\n",
       "    .dataframe tbody tr th:only-of-type {\n",
       "        vertical-align: middle;\n",
       "    }\n",
       "\n",
       "    .dataframe tbody tr th {\n",
       "        vertical-align: top;\n",
       "    }\n",
       "\n",
       "    .dataframe thead th {\n",
       "        text-align: right;\n",
       "    }\n",
       "</style>\n",
       "<table border=\"1\" class=\"dataframe\">\n",
       "  <thead>\n",
       "    <tr style=\"text-align: right;\">\n",
       "      <th></th>\n",
       "      <th>challengeId</th>\n",
       "      <th>date</th>\n",
       "      <th>prizes</th>\n",
       "      <th>technologies</th>\n",
       "      <th>platforms</th>\n",
       "      <th>per</th>\n",
       "    </tr>\n",
       "  </thead>\n",
       "  <tbody>\n",
       "    <tr>\n",
       "      <th>0</th>\n",
       "      <td>30000579</td>\n",
       "      <td>2007-01-05</td>\n",
       "      <td>800.0</td>\n",
       "      <td>[.NET, C#]</td>\n",
       "      <td>[]</td>\n",
       "      <td>2007-01</td>\n",
       "    </tr>\n",
       "    <tr>\n",
       "      <th>1</th>\n",
       "      <td>30000581</td>\n",
       "      <td>2007-01-03</td>\n",
       "      <td>1400.0</td>\n",
       "      <td>[.NET, C#, WinForms Controls]</td>\n",
       "      <td>[]</td>\n",
       "      <td>2007-01</td>\n",
       "    </tr>\n",
       "    <tr>\n",
       "      <th>2</th>\n",
       "      <td>30001211</td>\n",
       "      <td>2007-03-22</td>\n",
       "      <td>800.0</td>\n",
       "      <td>[Java]</td>\n",
       "      <td>[]</td>\n",
       "      <td>2007-03</td>\n",
       "    </tr>\n",
       "    <tr>\n",
       "      <th>3</th>\n",
       "      <td>30001952</td>\n",
       "      <td>2007-06-21</td>\n",
       "      <td>500.0</td>\n",
       "      <td>[Java, JDBC]</td>\n",
       "      <td>[]</td>\n",
       "      <td>2007-06</td>\n",
       "    </tr>\n",
       "    <tr>\n",
       "      <th>4</th>\n",
       "      <td>30001966</td>\n",
       "      <td>2007-06-28</td>\n",
       "      <td>500.0</td>\n",
       "      <td>[Java, JSP, HTML, HTTP, Custom Tag, JSF, JavaS...</td>\n",
       "      <td>[]</td>\n",
       "      <td>2007-06</td>\n",
       "    </tr>\n",
       "  </tbody>\n",
       "</table>\n",
       "</div>"
      ],
      "text/plain": [
       "   challengeId        date  prizes  \\\n",
       "0     30000579  2007-01-05   800.0   \n",
       "1     30000581  2007-01-03  1400.0   \n",
       "2     30001211  2007-03-22   800.0   \n",
       "3     30001952  2007-06-21   500.0   \n",
       "4     30001966  2007-06-28   500.0   \n",
       "\n",
       "                                        technologies platforms      per  \n",
       "0                                         [.NET, C#]        []  2007-01  \n",
       "1                      [.NET, C#, WinForms Controls]        []  2007-01  \n",
       "2                                             [Java]        []  2007-03  \n",
       "3                                       [Java, JDBC]        []  2007-06  \n",
       "4  [Java, JSP, HTML, HTTP, Custom Tag, JSF, JavaS...        []  2007-06  "
      ]
     },
     "execution_count": 43,
     "metadata": {},
     "output_type": "execute_result"
    }
   ],
   "source": [
    "pos_feat_df = pd.merge(left=batch_df[['challengeId']],\n",
    "                       right=chag_df,\n",
    "                       how='inner',\n",
    "                       on=['challengeId'])\n",
    "pos_feat_df.head()"
   ]
  },
  {
   "cell_type": "code",
   "execution_count": 44,
   "metadata": {
    "ExecuteTime": {
     "end_time": "2019-10-09T08:03:59.589794Z",
     "start_time": "2019-10-09T08:03:59.537745Z"
    }
   },
   "outputs": [
    {
     "data": {
      "text/plain": [
       "2007-01    2\n",
       "2007-03    1\n",
       "2007-06    2\n",
       "2007-08    2\n",
       "2008-01    1\n",
       "Name: period, dtype: int64"
      ]
     },
     "execution_count": 44,
     "metadata": {},
     "output_type": "execute_result"
    }
   ],
   "source": [
    "per_counts = batch_df['period'].value_counts().sort_index()\n",
    "per_counts.head()"
   ]
  },
  {
   "cell_type": "code",
   "execution_count": 47,
   "metadata": {
    "ExecuteTime": {
     "end_time": "2019-10-09T08:04:51.936041Z",
     "start_time": "2019-10-09T08:04:51.585010Z"
    }
   },
   "outputs": [
    {
     "data": {
      "text/html": [
       "<div>\n",
       "<style scoped>\n",
       "    .dataframe tbody tr th:only-of-type {\n",
       "        vertical-align: middle;\n",
       "    }\n",
       "\n",
       "    .dataframe tbody tr th {\n",
       "        vertical-align: top;\n",
       "    }\n",
       "\n",
       "    .dataframe thead th {\n",
       "        text-align: right;\n",
       "    }\n",
       "</style>\n",
       "<table border=\"1\" class=\"dataframe\">\n",
       "  <thead>\n",
       "    <tr style=\"text-align: right;\">\n",
       "      <th></th>\n",
       "      <th>challengeId</th>\n",
       "      <th>date</th>\n",
       "      <th>prizes</th>\n",
       "      <th>technologies</th>\n",
       "      <th>platforms</th>\n",
       "      <th>per</th>\n",
       "    </tr>\n",
       "  </thead>\n",
       "  <tbody>\n",
       "    <tr>\n",
       "      <th>39759</th>\n",
       "      <td>30000614</td>\n",
       "      <td>2007-01-11</td>\n",
       "      <td>0.0</td>\n",
       "      <td>[Java, JDBC]</td>\n",
       "      <td>[]</td>\n",
       "      <td>2007-01</td>\n",
       "    </tr>\n",
       "    <tr>\n",
       "      <th>39784</th>\n",
       "      <td>30000580</td>\n",
       "      <td>2007-01-03</td>\n",
       "      <td>1400.0</td>\n",
       "      <td>[.NET, C#, WinForms Controls]</td>\n",
       "      <td>[]</td>\n",
       "      <td>2007-01</td>\n",
       "    </tr>\n",
       "    <tr>\n",
       "      <th>39683</th>\n",
       "      <td>30000751</td>\n",
       "      <td>2007-01-27</td>\n",
       "      <td>500.0</td>\n",
       "      <td>[.NET, C#]</td>\n",
       "      <td>[]</td>\n",
       "      <td>2007-01</td>\n",
       "    </tr>\n",
       "    <tr>\n",
       "      <th>39766</th>\n",
       "      <td>30000600</td>\n",
       "      <td>2007-01-05</td>\n",
       "      <td>0.0</td>\n",
       "      <td>[.NET]</td>\n",
       "      <td>[]</td>\n",
       "      <td>2007-01</td>\n",
       "    </tr>\n",
       "    <tr>\n",
       "      <th>39417</th>\n",
       "      <td>30001204</td>\n",
       "      <td>2007-03-23</td>\n",
       "      <td>0.0</td>\n",
       "      <td>[XSL, C#, .NET 2.0, SQL Server, ADO.NET]</td>\n",
       "      <td>[]</td>\n",
       "      <td>2007-03</td>\n",
       "    </tr>\n",
       "  </tbody>\n",
       "</table>\n",
       "</div>"
      ],
      "text/plain": [
       "       challengeId        date  prizes  \\\n",
       "39759     30000614  2007-01-11     0.0   \n",
       "39784     30000580  2007-01-03  1400.0   \n",
       "39683     30000751  2007-01-27   500.0   \n",
       "39766     30000600  2007-01-05     0.0   \n",
       "39417     30001204  2007-03-23     0.0   \n",
       "\n",
       "                                   technologies platforms      per  \n",
       "39759                              [Java, JDBC]        []  2007-01  \n",
       "39784             [.NET, C#, WinForms Controls]        []  2007-01  \n",
       "39683                                [.NET, C#]        []  2007-01  \n",
       "39766                                    [.NET]        []  2007-01  \n",
       "39417  [XSL, C#, .NET 2.0, SQL Server, ADO.NET]        []  2007-03  "
      ]
     },
     "execution_count": 47,
     "metadata": {},
     "output_type": "execute_result"
    }
   ],
   "source": [
    "neg_list = [\n",
    "    chag_df[chag_df['per'] == per].sample(n=per_counts[per] *\n",
    "                                             2,\n",
    "                                             replace=True)\n",
    "    for per in per_counts.index\n",
    "]\n",
    "neg_df = pd.concat(neg_list)\n",
    "neg_df.head()"
   ]
  },
  {
   "cell_type": "code",
   "execution_count": 46,
   "metadata": {
    "ExecuteTime": {
     "end_time": "2019-10-09T07:22:30.970648Z",
     "start_time": "2019-10-09T07:22:30.918648Z"
    }
   },
   "outputs": [],
   "source": [
    "from sklearn.preprocessing import OneHotEncoder"
   ]
  },
  {
   "cell_type": "code",
   "execution_count": 47,
   "metadata": {
    "ExecuteTime": {
     "end_time": "2019-10-09T07:22:31.571615Z",
     "start_time": "2019-10-09T07:22:31.487617Z"
    }
   },
   "outputs": [
    {
     "data": {
      "text/plain": [
       "OneHotEncoder(categorical_features=None, categories='auto', drop=None,\n",
       "              dtype=<class 'numpy.float64'>, handle_unknown='error',\n",
       "              n_values=None, sparse=True)"
      ]
     },
     "execution_count": 47,
     "metadata": {},
     "output_type": "execute_result"
    }
   ],
   "source": [
    "chag_encoder = OneHotEncoder(categories='auto', handle_unknown='error')\n",
    "chag_encoder.fit(regs_df[['challengeId']])"
   ]
  },
  {
   "cell_type": "code",
   "execution_count": 48,
   "metadata": {
    "ExecuteTime": {
     "end_time": "2019-10-09T07:22:32.264390Z",
     "start_time": "2019-10-09T07:22:32.191390Z"
    }
   },
   "outputs": [
    {
     "data": {
      "text/html": [
       "<div>\n",
       "<style scoped>\n",
       "    .dataframe tbody tr th:only-of-type {\n",
       "        vertical-align: middle;\n",
       "    }\n",
       "\n",
       "    .dataframe tbody tr th {\n",
       "        vertical-align: top;\n",
       "    }\n",
       "\n",
       "    .dataframe thead th {\n",
       "        text-align: right;\n",
       "    }\n",
       "</style>\n",
       "<table border=\"1\" class=\"dataframe\">\n",
       "  <thead>\n",
       "    <tr style=\"text-align: right;\">\n",
       "      <th></th>\n",
       "      <th>challengeId</th>\n",
       "      <th>registant</th>\n",
       "      <th>date</th>\n",
       "      <th>period</th>\n",
       "      <th>previousId</th>\n",
       "      <th>prevPeriod</th>\n",
       "    </tr>\n",
       "  </thead>\n",
       "  <tbody>\n",
       "    <tr>\n",
       "      <th>143249</th>\n",
       "      <td>30053784</td>\n",
       "      <td>sac11</td>\n",
       "      <td>2016-04-16</td>\n",
       "      <td>2016-04</td>\n",
       "      <td>30053134</td>\n",
       "      <td>2016-04</td>\n",
       "    </tr>\n",
       "    <tr>\n",
       "      <th>539839</th>\n",
       "      <td>30008431</td>\n",
       "      <td>googlesmkm</td>\n",
       "      <td>2009-11-17</td>\n",
       "      <td>2009-11</td>\n",
       "      <td>30008371</td>\n",
       "      <td>2009-11</td>\n",
       "    </tr>\n",
       "    <tr>\n",
       "      <th>195180</th>\n",
       "      <td>30056740</td>\n",
       "      <td>krisjen</td>\n",
       "      <td>2017-03-23</td>\n",
       "      <td>2017-03</td>\n",
       "      <td>30056136</td>\n",
       "      <td>2017-01</td>\n",
       "    </tr>\n",
       "    <tr>\n",
       "      <th>268074</th>\n",
       "      <td>30066204</td>\n",
       "      <td>linuxuser</td>\n",
       "      <td>2018-06-09</td>\n",
       "      <td>2018-06</td>\n",
       "      <td>30066106</td>\n",
       "      <td>2018-06</td>\n",
       "    </tr>\n",
       "    <tr>\n",
       "      <th>166460</th>\n",
       "      <td>30055011</td>\n",
       "      <td>DaraK</td>\n",
       "      <td>2016-08-15</td>\n",
       "      <td>2016-08</td>\n",
       "      <td>30054986</td>\n",
       "      <td>2016-08</td>\n",
       "    </tr>\n",
       "  </tbody>\n",
       "</table>\n",
       "</div>"
      ],
      "text/plain": [
       "        challengeId   registant       date   period  previousId prevPeriod\n",
       "143249     30053784       sac11 2016-04-16  2016-04    30053134    2016-04\n",
       "539839     30008431  googlesmkm 2009-11-17  2009-11    30008371    2009-11\n",
       "195180     30056740     krisjen 2017-03-23  2017-03    30056136    2017-01\n",
       "268074     30066204   linuxuser 2018-06-09  2018-06    30066106    2018-06\n",
       "166460     30055011       DaraK 2016-08-15  2016-08    30054986    2016-08"
      ]
     },
     "execution_count": 48,
     "metadata": {},
     "output_type": "execute_result"
    }
   ],
   "source": [
    "batch_df = regs_df.sample(n=5)\n",
    "batch_df.head()"
   ]
  },
  {
   "cell_type": "code",
   "execution_count": 75,
   "metadata": {
    "ExecuteTime": {
     "end_time": "2019-10-09T07:41:54.737628Z",
     "start_time": "2019-10-09T07:41:54.679616Z"
    }
   },
   "outputs": [
    {
     "data": {
      "text/plain": [
       "(200, 6)"
      ]
     },
     "execution_count": 75,
     "metadata": {},
     "output_type": "execute_result"
    }
   ],
   "source": [
    "batch_df.shape"
   ]
  },
  {
   "cell_type": "code",
   "execution_count": 76,
   "metadata": {
    "ExecuteTime": {
     "end_time": "2019-10-09T07:41:57.201975Z",
     "start_time": "2019-10-09T07:41:57.135975Z"
    }
   },
   "outputs": [
    {
     "data": {
      "text/html": [
       "<div>\n",
       "<style scoped>\n",
       "    .dataframe tbody tr th:only-of-type {\n",
       "        vertical-align: middle;\n",
       "    }\n",
       "\n",
       "    .dataframe tbody tr th {\n",
       "        vertical-align: top;\n",
       "    }\n",
       "\n",
       "    .dataframe thead th {\n",
       "        text-align: right;\n",
       "    }\n",
       "</style>\n",
       "<table border=\"1\" class=\"dataframe\">\n",
       "  <thead>\n",
       "    <tr style=\"text-align: right;\">\n",
       "      <th></th>\n",
       "      <th>challengeId</th>\n",
       "      <th>registant</th>\n",
       "      <th>date</th>\n",
       "      <th>period</th>\n",
       "      <th>previousId</th>\n",
       "      <th>prevPeriod</th>\n",
       "    </tr>\n",
       "  </thead>\n",
       "  <tbody>\n",
       "    <tr>\n",
       "      <th>608687</th>\n",
       "      <td>30000598</td>\n",
       "      <td>DanLazar</td>\n",
       "      <td>2007-01-05</td>\n",
       "      <td>2007-01</td>\n",
       "      <td>-1</td>\n",
       "      <td>2013-09</td>\n",
       "    </tr>\n",
       "    <tr>\n",
       "      <th>598584</th>\n",
       "      <td>30002010</td>\n",
       "      <td>A20</td>\n",
       "      <td>2007-07-05</td>\n",
       "      <td>2007-07</td>\n",
       "      <td>30002011</td>\n",
       "      <td>2007-07</td>\n",
       "    </tr>\n",
       "    <tr>\n",
       "      <th>598622</th>\n",
       "      <td>30002004</td>\n",
       "      <td>wang_liang</td>\n",
       "      <td>2007-07-05</td>\n",
       "      <td>2007-07</td>\n",
       "      <td>30001978</td>\n",
       "      <td>2007-06</td>\n",
       "    </tr>\n",
       "    <tr>\n",
       "      <th>597049</th>\n",
       "      <td>30002223</td>\n",
       "      <td>kurtrips</td>\n",
       "      <td>2007-08-03</td>\n",
       "      <td>2007-08</td>\n",
       "      <td>30002181</td>\n",
       "      <td>2007-07</td>\n",
       "    </tr>\n",
       "    <tr>\n",
       "      <th>588651</th>\n",
       "      <td>30003411</td>\n",
       "      <td>amit_pundir</td>\n",
       "      <td>2008-01-22</td>\n",
       "      <td>2008-01</td>\n",
       "      <td>30003403</td>\n",
       "      <td>2008-01</td>\n",
       "    </tr>\n",
       "  </tbody>\n",
       "</table>\n",
       "</div>"
      ],
      "text/plain": [
       "        challengeId    registant       date   period  previousId prevPeriod\n",
       "608687     30000598     DanLazar 2007-01-05  2007-01          -1    2013-09\n",
       "598584     30002010          A20 2007-07-05  2007-07    30002011    2007-07\n",
       "598622     30002004   wang_liang 2007-07-05  2007-07    30001978    2007-06\n",
       "597049     30002223     kurtrips 2007-08-03  2007-08    30002181    2007-07\n",
       "588651     30003411  amit_pundir 2008-01-22  2008-01    30003403    2008-01"
      ]
     },
     "execution_count": 76,
     "metadata": {},
     "output_type": "execute_result"
    }
   ],
   "source": [
    "batch_df = batch_df.sort_values(by=['period'])\n",
    "batch_df.head()"
   ]
  },
  {
   "cell_type": "code",
   "execution_count": 82,
   "metadata": {
    "ExecuteTime": {
     "end_time": "2019-10-09T07:47:08.094357Z",
     "start_time": "2019-10-09T07:47:08.017358Z"
    }
   },
   "outputs": [
    {
     "name": "stdout",
     "output_type": "stream",
     "text": [
      "Get\n"
     ]
    },
    {
     "ename": "TypeError",
     "evalue": "Cannot compare type Period with type list",
     "output_type": "error",
     "traceback": [
      "\u001b[1;31m---------------------------------------------------------------------------\u001b[0m",
      "\u001b[1;31mTypeError\u001b[0m                                 Traceback (most recent call last)",
      "\u001b[1;32m<ipython-input-82-670a9497ba9a>\u001b[0m in \u001b[0;36m<module>\u001b[1;34m\u001b[0m\n\u001b[0;32m      5\u001b[0m                         right_on=['challengeId'])\n\u001b[0;32m      6\u001b[0m \u001b[0mprint\u001b[0m\u001b[1;33m(\u001b[0m\u001b[1;34m\"Get\"\u001b[0m\u001b[1;33m)\u001b[0m\u001b[1;33m\u001b[0m\u001b[1;33m\u001b[0m\u001b[0m\n\u001b[1;32m----> 7\u001b[1;33m \u001b[0mprev_feat_df\u001b[0m \u001b[1;33m=\u001b[0m \u001b[0mprev_feat_df\u001b[0m\u001b[1;33m.\u001b[0m\u001b[0msort_values\u001b[0m\u001b[1;33m(\u001b[0m\u001b[0mby\u001b[0m\u001b[1;33m=\u001b[0m\u001b[1;33m[\u001b[0m\u001b[1;34m'per'\u001b[0m\u001b[1;33m]\u001b[0m\u001b[1;33m)\u001b[0m\u001b[1;33m\u001b[0m\u001b[1;33m\u001b[0m\u001b[0m\n\u001b[0m\u001b[0;32m      8\u001b[0m \u001b[0mprint\u001b[0m\u001b[1;33m(\u001b[0m\u001b[1;34m\"Get\"\u001b[0m\u001b[1;33m)\u001b[0m\u001b[1;33m\u001b[0m\u001b[1;33m\u001b[0m\u001b[0m\n\u001b[0;32m      9\u001b[0m \u001b[0mprev_feat_df\u001b[0m\u001b[1;33m.\u001b[0m\u001b[0mhead\u001b[0m\u001b[1;33m(\u001b[0m\u001b[1;33m)\u001b[0m\u001b[1;33m\u001b[0m\u001b[1;33m\u001b[0m\u001b[0m\n",
      "\u001b[1;32mc:\\projects\\python\\recommender\\.venv\\lib\\site-packages\\pandas\\core\\frame.py\u001b[0m in \u001b[0;36msort_values\u001b[1;34m(self, by, axis, ascending, inplace, kind, na_position)\u001b[0m\n\u001b[0;32m   4723\u001b[0m \u001b[1;33m\u001b[0m\u001b[0m\n\u001b[0;32m   4724\u001b[0m             indexer = nargsort(k, kind=kind, ascending=ascending,\n\u001b[1;32m-> 4725\u001b[1;33m                                na_position=na_position)\n\u001b[0m\u001b[0;32m   4726\u001b[0m \u001b[1;33m\u001b[0m\u001b[0m\n\u001b[0;32m   4727\u001b[0m         new_data = self._data.take(indexer,\n",
      "\u001b[1;32mc:\\projects\\python\\recommender\\.venv\\lib\\site-packages\\pandas\\core\\sorting.py\u001b[0m in \u001b[0;36mnargsort\u001b[1;34m(items, kind, ascending, na_position)\u001b[0m\n\u001b[0;32m    271\u001b[0m         \u001b[0mnon_nans\u001b[0m \u001b[1;33m=\u001b[0m \u001b[0mnon_nans\u001b[0m\u001b[1;33m[\u001b[0m\u001b[1;33m:\u001b[0m\u001b[1;33m:\u001b[0m\u001b[1;33m-\u001b[0m\u001b[1;36m1\u001b[0m\u001b[1;33m]\u001b[0m\u001b[1;33m\u001b[0m\u001b[1;33m\u001b[0m\u001b[0m\n\u001b[0;32m    272\u001b[0m         \u001b[0mnon_nan_idx\u001b[0m \u001b[1;33m=\u001b[0m \u001b[0mnon_nan_idx\u001b[0m\u001b[1;33m[\u001b[0m\u001b[1;33m:\u001b[0m\u001b[1;33m:\u001b[0m\u001b[1;33m-\u001b[0m\u001b[1;36m1\u001b[0m\u001b[1;33m]\u001b[0m\u001b[1;33m\u001b[0m\u001b[1;33m\u001b[0m\u001b[0m\n\u001b[1;32m--> 273\u001b[1;33m     \u001b[0mindexer\u001b[0m \u001b[1;33m=\u001b[0m \u001b[0mnon_nan_idx\u001b[0m\u001b[1;33m[\u001b[0m\u001b[0mnon_nans\u001b[0m\u001b[1;33m.\u001b[0m\u001b[0margsort\u001b[0m\u001b[1;33m(\u001b[0m\u001b[0mkind\u001b[0m\u001b[1;33m=\u001b[0m\u001b[0mkind\u001b[0m\u001b[1;33m)\u001b[0m\u001b[1;33m]\u001b[0m\u001b[1;33m\u001b[0m\u001b[1;33m\u001b[0m\u001b[0m\n\u001b[0m\u001b[0;32m    274\u001b[0m     \u001b[1;32mif\u001b[0m \u001b[1;32mnot\u001b[0m \u001b[0mascending\u001b[0m\u001b[1;33m:\u001b[0m\u001b[1;33m\u001b[0m\u001b[1;33m\u001b[0m\u001b[0m\n\u001b[0;32m    275\u001b[0m         \u001b[0mindexer\u001b[0m \u001b[1;33m=\u001b[0m \u001b[0mindexer\u001b[0m\u001b[1;33m[\u001b[0m\u001b[1;33m:\u001b[0m\u001b[1;33m:\u001b[0m\u001b[1;33m-\u001b[0m\u001b[1;36m1\u001b[0m\u001b[1;33m]\u001b[0m\u001b[1;33m\u001b[0m\u001b[1;33m\u001b[0m\u001b[0m\n",
      "\u001b[1;32mpandas\\_libs\\tslibs\\period.pyx\u001b[0m in \u001b[0;36mpandas._libs.tslibs.period._Period.__richcmp__\u001b[1;34m()\u001b[0m\n",
      "\u001b[1;31mTypeError\u001b[0m: Cannot compare type Period with type list"
     ]
    }
   ],
   "source": [
    "prev_feat_df = pd.merge(left=batch_df[['previousId']],\n",
    "                        right=chag_df,\n",
    "                        how='inner',\n",
    "                        left_on=['previousId'],\n",
    "                        right_on=['challengeId'])\n",
    "print(\"Get\")\n",
    "prev_feat_df = prev_feat_df.sort_values(by=['per'])\n",
    "print(\"Get\")\n",
    "prev_feat_df.head()"
   ]
  },
  {
   "cell_type": "code",
   "execution_count": 66,
   "metadata": {
    "ExecuteTime": {
     "end_time": "2019-10-09T07:28:31.428493Z",
     "start_time": "2019-10-09T07:28:31.367496Z"
    }
   },
   "outputs": [
    {
     "data": {
      "text/plain": [
       "2009-11    1\n",
       "2016-04    1\n",
       "2016-08    1\n",
       "2017-03    1\n",
       "2018-06    1\n",
       "Freq: M, Name: period, dtype: int64"
      ]
     },
     "execution_count": 66,
     "metadata": {},
     "output_type": "execute_result"
    }
   ],
   "source": [
    "per_counts = batch_df['period'].value_counts().sort_index()\n",
    "per_counts.head()"
   ]
  },
  {
   "cell_type": "code",
   "execution_count": 67,
   "metadata": {
    "ExecuteTime": {
     "end_time": "2019-10-09T07:28:40.186349Z",
     "start_time": "2019-10-09T07:28:40.111350Z"
    }
   },
   "outputs": [
    {
     "data": {
      "text/html": [
       "<div>\n",
       "<style scoped>\n",
       "    .dataframe tbody tr th:only-of-type {\n",
       "        vertical-align: middle;\n",
       "    }\n",
       "\n",
       "    .dataframe tbody tr th {\n",
       "        vertical-align: top;\n",
       "    }\n",
       "\n",
       "    .dataframe thead th {\n",
       "        text-align: right;\n",
       "    }\n",
       "</style>\n",
       "<table border=\"1\" class=\"dataframe\">\n",
       "  <thead>\n",
       "    <tr style=\"text-align: right;\">\n",
       "      <th></th>\n",
       "      <th>challengeId</th>\n",
       "      <th>date</th>\n",
       "      <th>prizes</th>\n",
       "      <th>technologies</th>\n",
       "      <th>platforms</th>\n",
       "      <th>per</th>\n",
       "    </tr>\n",
       "  </thead>\n",
       "  <tbody>\n",
       "    <tr>\n",
       "      <th>34838</th>\n",
       "      <td>30008328</td>\n",
       "      <td>2009-11-13</td>\n",
       "      <td>650.0</td>\n",
       "      <td>[.NET 3.5]</td>\n",
       "      <td>[]</td>\n",
       "      <td>2009-11</td>\n",
       "    </tr>\n",
       "    <tr>\n",
       "      <th>6708</th>\n",
       "      <td>30053593</td>\n",
       "      <td>2016-04-01</td>\n",
       "      <td>0.0</td>\n",
       "      <td>[Apex, Visualforce, Force.com Sites]</td>\n",
       "      <td>[Force.com, Salesforce.com]</td>\n",
       "      <td>2016-04</td>\n",
       "    </tr>\n",
       "    <tr>\n",
       "      <th>7559</th>\n",
       "      <td>30054911</td>\n",
       "      <td>2016-08-04</td>\n",
       "      <td>1400.0</td>\n",
       "      <td>[CSS, HTML5]</td>\n",
       "      <td>[HTML]</td>\n",
       "      <td>2016-08</td>\n",
       "    </tr>\n",
       "    <tr>\n",
       "      <th>8762</th>\n",
       "      <td>30056704</td>\n",
       "      <td>2017-03-29</td>\n",
       "      <td>1700.0</td>\n",
       "      <td>[]</td>\n",
       "      <td>[]</td>\n",
       "      <td>2017-03</td>\n",
       "    </tr>\n",
       "    <tr>\n",
       "      <th>16092</th>\n",
       "      <td>30066177</td>\n",
       "      <td>2018-06-08</td>\n",
       "      <td>300.0</td>\n",
       "      <td>[Android]</td>\n",
       "      <td>[Android]</td>\n",
       "      <td>2018-06</td>\n",
       "    </tr>\n",
       "  </tbody>\n",
       "</table>\n",
       "</div>"
      ],
      "text/plain": [
       "       challengeId       date  prizes                          technologies  \\\n",
       "34838     30008328 2009-11-13   650.0                            [.NET 3.5]   \n",
       "6708      30053593 2016-04-01     0.0  [Apex, Visualforce, Force.com Sites]   \n",
       "7559      30054911 2016-08-04  1400.0                          [CSS, HTML5]   \n",
       "8762      30056704 2017-03-29  1700.0                                    []   \n",
       "16092     30066177 2018-06-08   300.0                             [Android]   \n",
       "\n",
       "                         platforms      per  \n",
       "34838                           []  2009-11  \n",
       "6708   [Force.com, Salesforce.com]  2016-04  \n",
       "7559                        [HTML]  2016-08  \n",
       "8762                            []  2017-03  \n",
       "16092                    [Android]  2018-06  "
      ]
     },
     "execution_count": 67,
     "metadata": {},
     "output_type": "execute_result"
    }
   ],
   "source": [
    "neg_list = [\n",
    "    chag_df[chag_df['per'] == per].sample(n=per_counts[per])\n",
    "    for per in per_counts.index\n",
    "]\n",
    "neg_df = pd.concat(neg_list)\n",
    "neg_df.head()"
   ]
  },
  {
   "cell_type": "code",
   "execution_count": 49,
   "metadata": {
    "ExecuteTime": {
     "end_time": "2019-10-09T07:22:34.268601Z",
     "start_time": "2019-10-09T07:22:34.207598Z"
    }
   },
   "outputs": [
    {
     "data": {
      "text/plain": [
       "<5x38394 sparse matrix of type '<class 'numpy.float64'>'\n",
       "\twith 5 stored elements in Compressed Sparse Row format>"
      ]
     },
     "execution_count": 49,
     "metadata": {},
     "output_type": "execute_result"
    }
   ],
   "source": [
    "chag_vector = chag_encoder.transform(batch_df[['challengeId']])\n",
    "chag_vector"
   ]
  },
  {
   "cell_type": "code",
   "execution_count": 50,
   "metadata": {
    "ExecuteTime": {
     "end_time": "2019-10-09T07:22:34.765184Z",
     "start_time": "2019-10-09T07:22:34.711176Z"
    }
   },
   "outputs": [
    {
     "data": {
      "text/plain": [
       "array([1., 1., 1., 1., 1.])"
      ]
     },
     "execution_count": 50,
     "metadata": {},
     "output_type": "execute_result"
    }
   ],
   "source": [
    "chag_vector.data"
   ]
  },
  {
   "cell_type": "code",
   "execution_count": 51,
   "metadata": {
    "ExecuteTime": {
     "end_time": "2019-10-09T07:22:35.166152Z",
     "start_time": "2019-10-09T07:22:35.111154Z"
    }
   },
   "outputs": [
    {
     "data": {
      "text/plain": [
       "(5, 76788)"
      ]
     },
     "execution_count": 51,
     "metadata": {},
     "output_type": "execute_result"
    }
   ],
   "source": [
    "chag_vector = sp.hstack([chag_vector, chag_vector])\n",
    "chag_vector.shape"
   ]
  },
  {
   "cell_type": "code",
   "execution_count": 52,
   "metadata": {
    "ExecuteTime": {
     "end_time": "2019-10-09T07:22:38.521006Z",
     "start_time": "2019-10-09T07:22:38.462998Z"
    }
   },
   "outputs": [
    {
     "data": {
      "text/plain": [
       "<5x76788 sparse matrix of type '<class 'numpy.float64'>'\n",
       "\twith 10 stored elements in COOrdinate format>"
      ]
     },
     "execution_count": 52,
     "metadata": {},
     "output_type": "execute_result"
    }
   ],
   "source": [
    "chag_vector"
   ]
  },
  {
   "cell_type": "code",
   "execution_count": 53,
   "metadata": {
    "ExecuteTime": {
     "end_time": "2019-10-09T07:22:39.032320Z",
     "start_time": "2019-10-09T07:22:38.903353Z"
    }
   },
   "outputs": [
    {
     "ename": "AttributeError",
     "evalue": "indices not found",
     "output_type": "error",
     "traceback": [
      "\u001b[1;31m---------------------------------------------------------------------------\u001b[0m",
      "\u001b[1;31mAttributeError\u001b[0m                            Traceback (most recent call last)",
      "\u001b[1;32m<ipython-input-53-a7ea73ac30b8>\u001b[0m in \u001b[0;36m<module>\u001b[1;34m\u001b[0m\n\u001b[1;32m----> 1\u001b[1;33m \u001b[0mcols\u001b[0m \u001b[1;33m=\u001b[0m \u001b[0mchag_vector\u001b[0m\u001b[1;33m.\u001b[0m\u001b[0mindices\u001b[0m\u001b[1;33m\u001b[0m\u001b[1;33m\u001b[0m\u001b[0m\n\u001b[0m\u001b[0;32m      2\u001b[0m \u001b[0mcols\u001b[0m\u001b[1;33m\u001b[0m\u001b[1;33m\u001b[0m\u001b[0m\n",
      "\u001b[1;32mc:\\projects\\python\\recommender\\.venv\\lib\\site-packages\\scipy\\sparse\\base.py\u001b[0m in \u001b[0;36m__getattr__\u001b[1;34m(self, attr)\u001b[0m\n\u001b[0;32m    686\u001b[0m             \u001b[1;32mreturn\u001b[0m \u001b[0mself\u001b[0m\u001b[1;33m.\u001b[0m\u001b[0mgetnnz\u001b[0m\u001b[1;33m(\u001b[0m\u001b[1;33m)\u001b[0m\u001b[1;33m\u001b[0m\u001b[1;33m\u001b[0m\u001b[0m\n\u001b[0;32m    687\u001b[0m         \u001b[1;32melse\u001b[0m\u001b[1;33m:\u001b[0m\u001b[1;33m\u001b[0m\u001b[1;33m\u001b[0m\u001b[0m\n\u001b[1;32m--> 688\u001b[1;33m             \u001b[1;32mraise\u001b[0m \u001b[0mAttributeError\u001b[0m\u001b[1;33m(\u001b[0m\u001b[0mattr\u001b[0m \u001b[1;33m+\u001b[0m \u001b[1;34m\" not found\"\u001b[0m\u001b[1;33m)\u001b[0m\u001b[1;33m\u001b[0m\u001b[1;33m\u001b[0m\u001b[0m\n\u001b[0m\u001b[0;32m    689\u001b[0m \u001b[1;33m\u001b[0m\u001b[0m\n\u001b[0;32m    690\u001b[0m     \u001b[1;32mdef\u001b[0m \u001b[0mtranspose\u001b[0m\u001b[1;33m(\u001b[0m\u001b[0mself\u001b[0m\u001b[1;33m,\u001b[0m \u001b[0maxes\u001b[0m\u001b[1;33m=\u001b[0m\u001b[1;32mNone\u001b[0m\u001b[1;33m,\u001b[0m \u001b[0mcopy\u001b[0m\u001b[1;33m=\u001b[0m\u001b[1;32mFalse\u001b[0m\u001b[1;33m)\u001b[0m\u001b[1;33m:\u001b[0m\u001b[1;33m\u001b[0m\u001b[1;33m\u001b[0m\u001b[0m\n",
      "\u001b[1;31mAttributeError\u001b[0m: indices not found"
     ]
    }
   ],
   "source": [
    "cols = chag_vector.indices\n",
    "cols"
   ]
  },
  {
   "cell_type": "code",
   "execution_count": 54,
   "metadata": {
    "ExecuteTime": {
     "end_time": "2019-10-09T07:22:39.408743Z",
     "start_time": "2019-10-09T07:22:39.352741Z"
    }
   },
   "outputs": [
    {
     "data": {
      "text/plain": [
       "array([[30053784],\n",
       "       [30053784],\n",
       "       [30008431],\n",
       "       [30008431],\n",
       "       [30056740],\n",
       "       [30056740],\n",
       "       [30066204],\n",
       "       [30066204],\n",
       "       [30055011],\n",
       "       [30055011]], dtype=int64)"
      ]
     },
     "execution_count": 54,
     "metadata": {},
     "output_type": "execute_result"
    }
   ],
   "source": [
    "batch_df[['challengeId']].values.repeat(2, axis=0)"
   ]
  },
  {
   "cell_type": "code",
   "execution_count": 34,
   "metadata": {
    "ExecuteTime": {
     "end_time": "2019-10-02T03:50:39.459216Z",
     "start_time": "2019-10-02T03:50:39.401216Z"
    }
   },
   "outputs": [
    {
     "data": {
      "text/plain": [
       "109963        naeem95m\n",
       "109963        naeem95m\n",
       "274846         feiyusk\n",
       "274846         feiyusk\n",
       "100732    m-v-kachalov\n",
       "100732    m-v-kachalov\n",
       "423947            caru\n",
       "423947            caru\n",
       "355629    lanchongyizu\n",
       "355629    lanchongyizu\n",
       "Name: registant, dtype: object"
      ]
     },
     "execution_count": 34,
     "metadata": {},
     "output_type": "execute_result"
    }
   ],
   "source": [
    "batch_df['registant'].repeat(2)"
   ]
  }
 ],
 "metadata": {
  "kernelspec": {
   "display_name": "recommender",
   "language": "python",
   "name": "recommender"
  },
  "language_info": {
   "codemirror_mode": {
    "name": "ipython",
    "version": 3
   },
   "file_extension": ".py",
   "mimetype": "text/x-python",
   "name": "python",
   "nbconvert_exporter": "python",
   "pygments_lexer": "ipython3",
   "version": "3.6.8"
  }
 },
 "nbformat": 4,
 "nbformat_minor": 2
}
