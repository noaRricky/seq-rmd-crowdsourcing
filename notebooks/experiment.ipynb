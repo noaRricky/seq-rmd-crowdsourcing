{
 "cells": [
  {
   "cell_type": "code",
   "execution_count": 1,
   "metadata": {
    "ExecuteTime": {
     "end_time": "2019-09-12T03:01:14.642586Z",
     "start_time": "2019-09-12T03:01:14.333258Z"
    }
   },
   "outputs": [],
   "source": [
    "%reload_ext autoreload\n",
    "%autoreload 2\n",
    "%matplotlib inline"
   ]
  },
  {
   "cell_type": "code",
   "execution_count": 2,
   "metadata": {
    "ExecuteTime": {
     "end_time": "2019-09-12T03:01:15.846253Z",
     "start_time": "2019-09-12T03:01:15.376415Z"
    }
   },
   "outputs": [],
   "source": [
    "from functools import partial\n",
    "\n",
    "import numpy as np\n",
    "import pandas as pd\n",
    "import torch as T\n",
    "import torch.optim as optim"
   ]
  },
  {
   "cell_type": "code",
   "execution_count": 3,
   "metadata": {
    "ExecuteTime": {
     "end_time": "2019-09-12T03:01:16.462250Z",
     "start_time": "2019-09-12T03:01:16.408426Z"
    }
   },
   "outputs": [
    {
     "name": "stdout",
     "output_type": "stream",
     "text": [
      "C:\\Projects\\python\\recommender\n"
     ]
    }
   ],
   "source": [
    "cd .."
   ]
  },
  {
   "cell_type": "code",
   "execution_count": 4,
   "metadata": {
    "ExecuteTime": {
     "end_time": "2019-09-12T03:01:18.861182Z",
     "start_time": "2019-09-12T03:01:17.160263Z"
    }
   },
   "outputs": [],
   "source": [
    "from datasets import TorchMovielen10k, TorchTopcoder, DataBunch\n",
    "from models import FMLearner, TorchFM, TorchHrmFM, TorchPrmeFM, TorchTransFM\n",
    "from models.fm_learner import simple_loss, trans_loss"
   ]
  },
  {
   "cell_type": "markdown",
   "metadata": {},
   "source": [
    "### Datasets Settings"
   ]
  },
  {
   "cell_type": "code",
   "execution_count": 5,
   "metadata": {
    "ExecuteTime": {
     "end_time": "2019-09-12T03:01:22.404175Z",
     "start_time": "2019-09-12T03:01:22.078867Z"
    }
   },
   "outputs": [],
   "source": [
    "DEVICE = T.cuda.current_device()\n",
    "BATCH = 1200\n",
    "SHUFFLE = True\n",
    "WORKERS = 0"
   ]
  },
  {
   "cell_type": "code",
   "execution_count": 6,
   "metadata": {
    "ExecuteTime": {
     "end_time": "2019-09-12T03:01:23.150398Z",
     "start_time": "2019-09-12T03:01:22.760461Z"
    }
   },
   "outputs": [
    {
     "name": "stderr",
     "output_type": "stream",
     "text": [
      "2019-09-12 11:01:22,911 - C:\\Projects\\python\\recommender\\utils.py - INFO - Read dataset in ./inputs/ml-100k/u.data\n",
      "2019-09-12 11:01:22,911 - C:\\Projects\\python\\recommender\\utils.py - INFO - Read dataset in ./inputs/ml-100k/u.data\n",
      "2019-09-12 11:01:22,911 - C:\\Projects\\python\\recommender\\utils.py - INFO - Read dataset in ./inputs/ml-100k/u.data\n",
      "WARNING: Logging before flag parsing goes to stderr.\n",
      "I0912 11:01:22.911924  1112 torch_movielen.py:58] Read dataset in ./inputs/ml-100k/u.data\n",
      "2019-09-12 11:01:22,927 - C:\\Projects\\python\\recommender\\utils.py - INFO - Original user size: 943\n",
      "2019-09-12 11:01:22,927 - C:\\Projects\\python\\recommender\\utils.py - INFO - Original user size: 943\n",
      "2019-09-12 11:01:22,927 - C:\\Projects\\python\\recommender\\utils.py - INFO - Original user size: 943\n",
      "I0912 11:01:22.927881  1112 torch_movielen.py:62] Original user size: 943\n",
      "2019-09-12 11:01:22,933 - C:\\Projects\\python\\recommender\\utils.py - INFO - Original item size: 1682\n",
      "2019-09-12 11:01:22,933 - C:\\Projects\\python\\recommender\\utils.py - INFO - Original item size: 1682\n",
      "2019-09-12 11:01:22,933 - C:\\Projects\\python\\recommender\\utils.py - INFO - Original item size: 1682\n",
      "I0912 11:01:22.933837  1112 torch_movielen.py:63] Original item size: 1682\n",
      "2019-09-12 11:01:22,940 - C:\\Projects\\python\\recommender\\utils.py - INFO - Filter user size: 943\n",
      "2019-09-12 11:01:22,940 - C:\\Projects\\python\\recommender\\utils.py - INFO - Filter user size: 943\n",
      "2019-09-12 11:01:22,940 - C:\\Projects\\python\\recommender\\utils.py - INFO - Filter user size: 943\n",
      "I0912 11:01:22.940818  1112 torch_movielen.py:69] Filter user size: 943\n",
      "2019-09-12 11:01:22,946 - C:\\Projects\\python\\recommender\\utils.py - INFO - Filter item size: 1413\n",
      "2019-09-12 11:01:22,946 - C:\\Projects\\python\\recommender\\utils.py - INFO - Filter item size: 1413\n",
      "2019-09-12 11:01:22,946 - C:\\Projects\\python\\recommender\\utils.py - INFO - Filter item size: 1413\n",
      "I0912 11:01:22.946817  1112 torch_movielen.py:70] Filter item size: 1413\n",
      "c:\\projects\\python\\recommender\\.venv\\lib\\site-packages\\pandas\\core\\generic.py:8682: SettingWithCopyWarning: \n",
      "A value is trying to be set on a copy of a slice from a DataFrame\n",
      "\n",
      "See the caveats in the documentation: http://pandas.pydata.org/pandas-docs/stable/indexing.html#indexing-view-versus-copy\n",
      "  self._update_inplace(new_data)\n",
      "C:\\Projects\\python\\recommender\\datasets\\torch_movielen.py:24: SettingWithCopyWarning: \n",
      "A value is trying to be set on a copy of a slice from a DataFrame\n",
      "\n",
      "See the caveats in the documentation: http://pandas.pydata.org/pandas-docs/stable/indexing.html#indexing-view-versus-copy\n",
      "  self._read_data_csv(data_path, user_min, item_min)\n"
     ]
    }
   ],
   "source": [
    "movie_db = TorchMovielen10k(data_path=\"./inputs/ml-100k/u.data\")"
   ]
  },
  {
   "cell_type": "code",
   "execution_count": 7,
   "metadata": {
    "ExecuteTime": {
     "end_time": "2019-09-12T03:01:26.087129Z",
     "start_time": "2019-09-12T03:01:25.960375Z"
    }
   },
   "outputs": [],
   "source": [
    "movie_db.config_db(batch_size=BATCH,\n",
    "                   shuffle=SHUFFLE,\n",
    "                   num_workers=WORKERS,\n",
    "                   device=DEVICE)"
   ]
  },
  {
   "cell_type": "markdown",
   "metadata": {},
   "source": [
    "### Config model"
   ]
  },
  {
   "cell_type": "code",
   "execution_count": 8,
   "metadata": {
    "ExecuteTime": {
     "end_time": "2019-09-12T03:01:27.191105Z",
     "start_time": "2019-09-12T03:01:27.072353Z"
    }
   },
   "outputs": [],
   "source": [
    "feat_dim = movie_db.feat_dim\n",
    "NUM_DIM = 124\n",
    "INIT_MEAN = 1"
   ]
  },
  {
   "cell_type": "code",
   "execution_count": 9,
   "metadata": {
    "ExecuteTime": {
     "end_time": "2019-09-12T03:01:27.734831Z",
     "start_time": "2019-09-12T03:01:27.608230Z"
    }
   },
   "outputs": [],
   "source": [
    "fm_model = TorchFM(feature_dim=feat_dim, num_dim=NUM_DIM, init_mean=INIT_MEAN)"
   ]
  },
  {
   "cell_type": "markdown",
   "metadata": {},
   "source": [
    "### Create criterion"
   ]
  },
  {
   "cell_type": "code",
   "execution_count": 10,
   "metadata": {
    "ExecuteTime": {
     "end_time": "2019-09-12T03:01:29.844443Z",
     "start_time": "2019-09-12T03:01:29.727620Z"
    }
   },
   "outputs": [],
   "source": [
    "# regst setting\n",
    "LINEAR_REG = 1\n",
    "EMB_REG = 1"
   ]
  },
  {
   "cell_type": "code",
   "execution_count": 11,
   "metadata": {
    "ExecuteTime": {
     "end_time": "2019-09-12T03:01:30.367775Z",
     "start_time": "2019-09-12T03:01:30.248124Z"
    }
   },
   "outputs": [
    {
     "data": {
      "text/plain": [
       "functools.partial(<function simple_loss at 0x000001AA6A850378>, 1, 1)"
      ]
     },
     "execution_count": 11,
     "metadata": {},
     "output_type": "execute_result"
    }
   ],
   "source": [
    "simple_loss_callback = partial(simple_loss, LINEAR_REG, EMB_REG)\n",
    "simple_loss_callback"
   ]
  },
  {
   "cell_type": "markdown",
   "metadata": {},
   "source": [
    "### Create optimizer"
   ]
  },
  {
   "cell_type": "code",
   "execution_count": 12,
   "metadata": {
    "ExecuteTime": {
     "end_time": "2019-09-12T03:01:31.304876Z",
     "start_time": "2019-09-12T03:01:31.185130Z"
    }
   },
   "outputs": [],
   "source": [
    "LEARNING_RATE = 0.001\n",
    "DECAY_FREQ = 1000\n",
    "DECAY_GAMMA = 1"
   ]
  },
  {
   "cell_type": "code",
   "execution_count": 13,
   "metadata": {
    "ExecuteTime": {
     "end_time": "2019-09-12T03:01:33.284773Z",
     "start_time": "2019-09-12T03:01:33.168085Z"
    }
   },
   "outputs": [],
   "source": [
    "adam_opt = optim.Adam(fm_model.parameters(), lr=LEARNING_RATE)\n",
    "schedular = optim.lr_scheduler.StepLR(adam_opt, step_size=1000, gamma=DECAY_GAMMA)"
   ]
  },
  {
   "cell_type": "code",
   "execution_count": 14,
   "metadata": {
    "ExecuteTime": {
     "end_time": "2019-09-12T03:01:36.044286Z",
     "start_time": "2019-09-12T03:01:33.624151Z"
    }
   },
   "outputs": [
    {
     "data": {
      "text/plain": [
       "<models.fm_learner.FMLearner at 0x1aa6a8e0550>"
      ]
     },
     "execution_count": 14,
     "metadata": {},
     "output_type": "execute_result"
    }
   ],
   "source": [
    "fm_learner = FMLearner(fm_model, adam_opt, schedular, movie_db)\n",
    "fm_learner"
   ]
  },
  {
   "cell_type": "code",
   "execution_count": 16,
   "metadata": {
    "ExecuteTime": {
     "end_time": "2019-09-12T03:03:34.940740Z",
     "start_time": "2019-09-12T03:03:15.416466Z"
    }
   },
   "outputs": [
    {
     "name": "stderr",
     "output_type": "stream",
     "text": [
      "\r",
      "  0%|                                                                                                                                                                                          | 0/1 [00:00<?, ?it/s]"
     ]
    },
    {
     "name": "stdout",
     "output_type": "stream",
     "text": [
      "Epoch: 0\n",
      "Epoch 0 step 0: training loss: 173676.9300677166\n",
      "Epoch 0 step 1: training loss: 173692.0360299736\n",
      "Epoch 0 step 2: training loss: 172970.4643560509\n",
      "Epoch 0 step 3: training loss: 171930.73986165793\n",
      "Epoch 0 step 4: training loss: 171626.50870173992\n",
      "Epoch 0 step 5: training loss: 171400.6234150797\n",
      "Epoch 0 step 6: training loss: 170829.69956044471\n",
      "Epoch 0 step 7: training loss: 169919.6318466643\n",
      "Epoch 0 step 8: training loss: 170182.89578743622\n",
      "Epoch 0 step 9: training loss: 169783.82539182692\n",
      "Epoch 0 step 10: training loss: 169463.91613374345\n",
      "Epoch 0 step 11: training loss: 169631.98646157497\n",
      "Epoch 0 step 12: training loss: 168254.66129824377\n",
      "Epoch 0 step 13: training loss: 168834.73228242598\n",
      "Epoch 0 step 14: training loss: 168272.73576621377\n",
      "Epoch 0 step 15: training loss: 167564.71810885606\n",
      "Epoch 0 step 16: training loss: 167653.3140840673\n",
      "Epoch 0 step 17: training loss: 167371.21773820912\n",
      "Epoch 0 step 18: training loss: 166551.52635611556\n",
      "Epoch 0 step 19: training loss: 166767.17498644828\n",
      "Epoch 0 step 20: training loss: 166692.28778519493\n",
      "Epoch 0 step 21: training loss: 165597.74416818275\n",
      "Epoch 0 step 22: training loss: 165847.62316008902\n",
      "Epoch 0 step 23: training loss: 165528.44102312252\n",
      "Epoch 0 step 24: training loss: 164688.8135228028\n",
      "Epoch 0 step 25: training loss: 164425.29661307053\n",
      "Epoch 0 step 26: training loss: 164518.30557679667\n",
      "Epoch 0 step 27: training loss: 164198.79189375363\n",
      "Epoch 0 step 28: training loss: 164200.7460125007\n",
      "Epoch 0 step 29: training loss: 163629.66984270932\n",
      "Epoch 0 step 30: training loss: 163169.3868539613\n",
      "Epoch 0 step 31: training loss: 162241.67532150768\n",
      "Epoch 0 step 32: training loss: 163170.18247545284\n",
      "Epoch 0 step 33: training loss: 162483.22327083113\n",
      "Epoch 0 step 34: training loss: 162643.96252293471\n",
      "Epoch 0 step 35: training loss: 161400.06477867308\n",
      "Epoch 0 step 36: training loss: 161154.19774248902\n",
      "Epoch 0 step 37: training loss: 160945.0311518508\n",
      "Epoch 0 step 38: training loss: 160999.0743816281\n",
      "Epoch 0 step 39: training loss: 160619.90386899043\n",
      "Epoch 0 step 40: training loss: 160424.11946984095\n",
      "Epoch 0 step 41: training loss: 160173.7770509632\n",
      "Epoch 0 step 42: training loss: 159246.9687530731\n",
      "Epoch 0 step 43: training loss: 159279.63793652505\n",
      "Epoch 0 step 44: training loss: 159745.29208767074\n",
      "Epoch 0 step 45: training loss: 159030.49015790178\n",
      "Epoch 0 step 46: training loss: 159038.9092248566\n",
      "Epoch 0 step 47: training loss: 158712.77110774\n",
      "Epoch 0 step 48: training loss: 157118.1112912904\n",
      "Epoch 0 step 49: training loss: 157709.6095581693\n",
      "Epoch 0 step 50: training loss: 157623.96091262292\n",
      "Epoch 0 step 51: training loss: 156580.92076457752\n",
      "Epoch 0 step 52: training loss: 157211.6273860273\n",
      "Epoch 0 step 53: training loss: 157258.82667840552\n",
      "Epoch 0 step 54: training loss: 156503.85679935958\n",
      "Epoch 0 step 55: training loss: 155790.76743893744\n",
      "Epoch 0 step 56: training loss: 155491.8107137372\n",
      "Epoch 0 step 57: training loss: 154757.94253254565\n",
      "Epoch 0 step 58: training loss: 154749.31586055702\n",
      "Epoch 0 step 59: training loss: 154599.7745724041\n",
      "Epoch 0 step 60: training loss: 154920.8636975541\n",
      "Epoch 0 step 61: training loss: 154249.65253053003\n",
      "Epoch 0 step 62: training loss: 154481.37387318068\n",
      "Epoch 0 step 63: training loss: 152967.65642306054\n",
      "Epoch 0 step 64: training loss: 153613.29229661377\n",
      "Epoch 0 step 65: training loss: 153254.03489492892\n",
      "Epoch 0 step 66: training loss: 153427.10479586272\n",
      "Epoch 0 step 67: training loss: 152843.82105984972\n",
      "Epoch 0 step 68: training loss: 153093.96301581647\n",
      "Epoch 0 step 69: training loss: 152750.64949389413\n",
      "Epoch 0 step 70: training loss: 152786.44389719464\n",
      "Epoch 0 step 71: training loss: 151872.1328533048\n",
      "Epoch 0 step 72: training loss: 151202.043965347\n",
      "Epoch 0 step 73: training loss: 150775.1288418934\n",
      "Epoch 0 step 74: training loss: 151014.70402373004\n",
      "Epoch 0 step 75: training loss: 150387.76484708436\n",
      "Epoch 0 step 76: training loss: 150465.58038753513\n",
      "Epoch 0 step 77: training loss: 150483.2758495624\n",
      "Epoch 0 step 78: training loss: 149655.2017698438\n",
      "Epoch 0 step 79: training loss: 150807.547928269\n",
      "Epoch 0 step 80: training loss: 149248.94257434536\n",
      "Epoch 0 step 81: training loss: 141293.33133320886\n",
      "Epoch 0: train loss 160380.20440062004, train accuarcy 0.3922348618507385\n",
      "Epoch 0: valid loss 146858.02440176668, valid accuarcy 0.4422057271003723\n"
     ]
    },
    {
     "name": "stderr",
     "output_type": "stream",
     "text": [
      "100%|██████████████████████████████████████████████████████████████████████████████████████████████████████████████████████████████████████████████████████████████████████████████████| 1/1 [00:19<00:00, 19.39s/it]\n"
     ]
    }
   ],
   "source": [
    "fm_learner.fit(epoch=1, loss_callback=simple_loss_callback)"
   ]
  },
  {
   "cell_type": "code",
   "execution_count": null,
   "metadata": {},
   "outputs": [],
   "source": []
  }
 ],
 "metadata": {
  "kernelspec": {
   "display_name": "recommender",
   "language": "python",
   "name": "recommender"
  },
  "language_info": {
   "codemirror_mode": {
    "name": "ipython",
    "version": 3
   },
   "file_extension": ".py",
   "mimetype": "text/x-python",
   "name": "python",
   "nbconvert_exporter": "python",
   "pygments_lexer": "ipython3",
   "version": "3.6.8"
  }
 },
 "nbformat": 4,
 "nbformat_minor": 2
}
