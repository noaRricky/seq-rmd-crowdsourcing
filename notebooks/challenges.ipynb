{
 "cells": [
  {
   "cell_type": "code",
   "execution_count": 1,
   "metadata": {
    "ExecuteTime": {
     "end_time": "2019-09-09T08:14:21.221044Z",
     "start_time": "2019-09-09T08:14:20.964662Z"
    }
   },
   "outputs": [],
   "source": [
    "%reload_ext autoreload\n",
    "%autoreload 2\n",
    "%matplotlib inline"
   ]
  },
  {
   "cell_type": "code",
   "execution_count": 2,
   "metadata": {
    "ExecuteTime": {
     "end_time": "2019-09-09T08:14:21.259942Z",
     "start_time": "2019-09-09T08:14:21.221952Z"
    }
   },
   "outputs": [
    {
     "name": "stdout",
     "output_type": "stream",
     "text": [
      "C:\\Projects\\python\\recommender\n"
     ]
    }
   ],
   "source": [
    "cd .."
   ]
  },
  {
   "cell_type": "code",
   "execution_count": 3,
   "metadata": {
    "ExecuteTime": {
     "end_time": "2019-09-09T08:14:21.548108Z",
     "start_time": "2019-09-09T08:14:21.261859Z"
    }
   },
   "outputs": [],
   "source": [
    "from pathlib import Path\n",
    "import json\n",
    "\n",
    "import numpy as np\n",
    "import pandas as pd"
   ]
  },
  {
   "cell_type": "code",
   "execution_count": 4,
   "metadata": {
    "ExecuteTime": {
     "end_time": "2019-09-09T08:14:22.488658Z",
     "start_time": "2019-09-09T08:14:22.447675Z"
    }
   },
   "outputs": [],
   "source": [
    "from utils import build_logger\n",
    "\n",
    "logger = build_logger()"
   ]
  },
  {
   "cell_type": "code",
   "execution_count": 5,
   "metadata": {
    "ExecuteTime": {
     "end_time": "2019-09-09T08:14:23.129851Z",
     "start_time": "2019-09-09T08:14:23.087964Z"
    }
   },
   "outputs": [],
   "source": [
    "REGS_PATH = Path(\"./inputs/topcoder/regs.csv\")\n",
    "CHA_PATH = Path(\"./inputs/topcoder/challenge_sm.csv\")\n",
    "regs_min = 4\n",
    "cha_min = 4"
   ]
  },
  {
   "cell_type": "code",
   "execution_count": 6,
   "metadata": {
    "ExecuteTime": {
     "end_time": "2019-09-09T08:14:23.909818Z",
     "start_time": "2019-09-09T08:14:23.591617Z"
    }
   },
   "outputs": [
    {
     "data": {
      "text/html": [
       "<div>\n",
       "<style scoped>\n",
       "    .dataframe tbody tr th:only-of-type {\n",
       "        vertical-align: middle;\n",
       "    }\n",
       "\n",
       "    .dataframe tbody tr th {\n",
       "        vertical-align: top;\n",
       "    }\n",
       "\n",
       "    .dataframe thead th {\n",
       "        text-align: right;\n",
       "    }\n",
       "</style>\n",
       "<table border=\"1\" class=\"dataframe\">\n",
       "  <thead>\n",
       "    <tr style=\"text-align: right;\">\n",
       "      <th></th>\n",
       "      <th>challengeId</th>\n",
       "      <th>registant</th>\n",
       "      <th>date</th>\n",
       "    </tr>\n",
       "  </thead>\n",
       "  <tbody>\n",
       "    <tr>\n",
       "      <th>0</th>\n",
       "      <td>30044052</td>\n",
       "      <td>phead</td>\n",
       "      <td>2014-07-09</td>\n",
       "    </tr>\n",
       "    <tr>\n",
       "      <th>1</th>\n",
       "      <td>30044052</td>\n",
       "      <td>lovefreya</td>\n",
       "      <td>2014-07-09</td>\n",
       "    </tr>\n",
       "    <tr>\n",
       "      <th>2</th>\n",
       "      <td>30044052</td>\n",
       "      <td>TMALBONPH</td>\n",
       "      <td>2014-07-09</td>\n",
       "    </tr>\n",
       "    <tr>\n",
       "      <th>3</th>\n",
       "      <td>30044052</td>\n",
       "      <td>daga_sumit</td>\n",
       "      <td>2014-07-09</td>\n",
       "    </tr>\n",
       "    <tr>\n",
       "      <th>4</th>\n",
       "      <td>30044052</td>\n",
       "      <td>abcivashritt</td>\n",
       "      <td>2014-07-09</td>\n",
       "    </tr>\n",
       "  </tbody>\n",
       "</table>\n",
       "</div>"
      ],
      "text/plain": [
       "   challengeId     registant        date\n",
       "0     30044052         phead  2014-07-09\n",
       "1     30044052     lovefreya  2014-07-09\n",
       "2     30044052     TMALBONPH  2014-07-09\n",
       "3     30044052    daga_sumit  2014-07-09\n",
       "4     30044052  abcivashritt  2014-07-09"
      ]
     },
     "execution_count": 6,
     "metadata": {},
     "output_type": "execute_result"
    }
   ],
   "source": [
    "regs_df = pd.read_csv(REGS_PATH)\n",
    "regs_df.head()"
   ]
  },
  {
   "cell_type": "code",
   "execution_count": 7,
   "metadata": {
    "ExecuteTime": {
     "end_time": "2019-09-09T08:14:24.163094Z",
     "start_time": "2019-09-09T08:14:24.000524Z"
    }
   },
   "outputs": [
    {
     "data": {
      "text/html": [
       "<div>\n",
       "<style scoped>\n",
       "    .dataframe tbody tr th:only-of-type {\n",
       "        vertical-align: middle;\n",
       "    }\n",
       "\n",
       "    .dataframe tbody tr th {\n",
       "        vertical-align: top;\n",
       "    }\n",
       "\n",
       "    .dataframe thead th {\n",
       "        text-align: right;\n",
       "    }\n",
       "</style>\n",
       "<table border=\"1\" class=\"dataframe\">\n",
       "  <thead>\n",
       "    <tr style=\"text-align: right;\">\n",
       "      <th></th>\n",
       "      <th>challengeId</th>\n",
       "      <th>registant</th>\n",
       "      <th>date</th>\n",
       "    </tr>\n",
       "  </thead>\n",
       "  <tbody>\n",
       "    <tr>\n",
       "      <th>0</th>\n",
       "      <td>30044052</td>\n",
       "      <td>phead</td>\n",
       "      <td>2014-07-09</td>\n",
       "    </tr>\n",
       "    <tr>\n",
       "      <th>1</th>\n",
       "      <td>30044052</td>\n",
       "      <td>lovefreya</td>\n",
       "      <td>2014-07-09</td>\n",
       "    </tr>\n",
       "    <tr>\n",
       "      <th>2</th>\n",
       "      <td>30044052</td>\n",
       "      <td>TMALBONPH</td>\n",
       "      <td>2014-07-09</td>\n",
       "    </tr>\n",
       "    <tr>\n",
       "      <th>3</th>\n",
       "      <td>30044052</td>\n",
       "      <td>daga_sumit</td>\n",
       "      <td>2014-07-09</td>\n",
       "    </tr>\n",
       "    <tr>\n",
       "      <th>4</th>\n",
       "      <td>30044052</td>\n",
       "      <td>abcivashritt</td>\n",
       "      <td>2014-07-09</td>\n",
       "    </tr>\n",
       "  </tbody>\n",
       "</table>\n",
       "</div>"
      ],
      "text/plain": [
       "   challengeId     registant       date\n",
       "0     30044052         phead 2014-07-09\n",
       "1     30044052     lovefreya 2014-07-09\n",
       "2     30044052     TMALBONPH 2014-07-09\n",
       "3     30044052    daga_sumit 2014-07-09\n",
       "4     30044052  abcivashritt 2014-07-09"
      ]
     },
     "execution_count": 7,
     "metadata": {},
     "output_type": "execute_result"
    }
   ],
   "source": [
    "regs_df['date'] = pd.to_datetime(regs_df['date'], infer_datetime_format=True)\n",
    "regs_df.head()"
   ]
  },
  {
   "cell_type": "code",
   "execution_count": 8,
   "metadata": {
    "ExecuteTime": {
     "end_time": "2019-09-09T08:14:25.047722Z",
     "start_time": "2019-09-09T08:14:24.991873Z"
    }
   },
   "outputs": [
    {
     "data": {
      "text/plain": [
       "0   2014-07-09\n",
       "1   2014-07-09\n",
       "2   2014-07-09\n",
       "3   2014-07-09\n",
       "4   2014-07-09\n",
       "Name: date, dtype: datetime64[ns]"
      ]
     },
     "execution_count": 8,
     "metadata": {},
     "output_type": "execute_result"
    }
   ],
   "source": [
    "regs_df.date.head()"
   ]
  },
  {
   "cell_type": "code",
   "execution_count": 9,
   "metadata": {
    "ExecuteTime": {
     "end_time": "2019-09-09T08:14:25.609221Z",
     "start_time": "2019-09-09T08:14:25.560352Z"
    }
   },
   "outputs": [
    {
     "name": "stderr",
     "output_type": "stream",
     "text": [
      "2019-09-09 16:14:25,604 - C:\\Projects\\python\\recommender\\utils.py - INFO - Read dataset in inputs\\topcoder\\regs.csv\n",
      "2019-09-09 16:14:25,605 - C:\\Projects\\python\\recommender\\utils.py - INFO - Original regs shape: (610025, 3)\n"
     ]
    }
   ],
   "source": [
    "logger.info(f\"Read dataset in {REGS_PATH}\")\n",
    "logger.info(f\"Original regs shape: {regs_df.shape}\")"
   ]
  },
  {
   "cell_type": "code",
   "execution_count": 10,
   "metadata": {
    "ExecuteTime": {
     "end_time": "2019-09-09T08:14:26.176793Z",
     "start_time": "2019-09-09T08:14:26.047051Z"
    }
   },
   "outputs": [],
   "source": [
    "regs_counts = regs_df.registant.value_counts()\n",
    "chag_counts = regs_df.challengeId.value_counts()"
   ]
  },
  {
   "cell_type": "code",
   "execution_count": 11,
   "metadata": {
    "ExecuteTime": {
     "end_time": "2019-09-09T08:14:26.631489Z",
     "start_time": "2019-09-09T08:14:26.583617Z"
    }
   },
   "outputs": [
    {
     "name": "stderr",
     "output_type": "stream",
     "text": [
      "2019-09-09 16:14:26,626 - C:\\Projects\\python\\recommender\\utils.py - INFO - Original registants size: 60017\n",
      "2019-09-09 16:14:26,627 - C:\\Projects\\python\\recommender\\utils.py - INFO - Original challenge size: 39916\n"
     ]
    }
   ],
   "source": [
    "logger.info(f\"Original registants size: {regs_counts.size}\")\n",
    "logger.info(f\"Original challenge size: {chag_counts.size}\")"
   ]
  },
  {
   "cell_type": "code",
   "execution_count": 12,
   "metadata": {
    "ExecuteTime": {
     "end_time": "2019-09-09T08:14:27.096339Z",
     "start_time": "2019-09-09T08:14:27.047377Z"
    }
   },
   "outputs": [],
   "source": [
    "regs_counts = regs_counts[regs_counts >= regs_min]\n",
    "chag_counts = chag_counts[chag_counts >= cha_min]"
   ]
  },
  {
   "cell_type": "code",
   "execution_count": 13,
   "metadata": {
    "ExecuteTime": {
     "end_time": "2019-09-09T08:14:27.468274Z",
     "start_time": "2019-09-09T08:14:27.423371Z"
    }
   },
   "outputs": [
    {
     "name": "stderr",
     "output_type": "stream",
     "text": [
      "2019-09-09 16:14:27,463 - C:\\Projects\\python\\recommender\\utils.py - INFO - Filter registant size: 9894\n",
      "2019-09-09 16:14:27,464 - C:\\Projects\\python\\recommender\\utils.py - INFO - Filter challenge size: 29494\n"
     ]
    }
   ],
   "source": [
    "logger.info(f\"Filter registant size: {regs_counts.size}\")\n",
    "logger.info(f\"Filter challenge size: {chag_counts.size}\")"
   ]
  },
  {
   "cell_type": "code",
   "execution_count": 14,
   "metadata": {
    "ExecuteTime": {
     "end_time": "2019-09-09T08:14:27.928114Z",
     "start_time": "2019-09-09T08:14:27.808343Z"
    }
   },
   "outputs": [],
   "source": [
    "# Remove sparse item\n",
    "regs_df = regs_df[regs_df.registant.isin(regs_counts.index)]\n",
    "regs_df = regs_df[regs_df.challengeId.isin(chag_counts.index)]"
   ]
  },
  {
   "cell_type": "code",
   "execution_count": 15,
   "metadata": {
    "ExecuteTime": {
     "end_time": "2019-09-09T08:14:28.278114Z",
     "start_time": "2019-09-09T08:14:28.231212Z"
    }
   },
   "outputs": [
    {
     "name": "stderr",
     "output_type": "stream",
     "text": [
      "2019-09-09 16:14:28,275 - C:\\Projects\\python\\recommender\\utils.py - INFO - Filter dataframe shape: (533229, 3)\n"
     ]
    }
   ],
   "source": [
    "logger.info(f\"Filter dataframe shape: {regs_df.shape}\")"
   ]
  },
  {
   "cell_type": "code",
   "execution_count": 16,
   "metadata": {
    "ExecuteTime": {
     "end_time": "2019-09-09T08:14:28.837622Z",
     "start_time": "2019-09-09T08:14:28.623162Z"
    }
   },
   "outputs": [
    {
     "data": {
      "text/html": [
       "<div>\n",
       "<style scoped>\n",
       "    .dataframe tbody tr th:only-of-type {\n",
       "        vertical-align: middle;\n",
       "    }\n",
       "\n",
       "    .dataframe tbody tr th {\n",
       "        vertical-align: top;\n",
       "    }\n",
       "\n",
       "    .dataframe thead th {\n",
       "        text-align: right;\n",
       "    }\n",
       "</style>\n",
       "<table border=\"1\" class=\"dataframe\">\n",
       "  <thead>\n",
       "    <tr style=\"text-align: right;\">\n",
       "      <th></th>\n",
       "      <th>challengeId</th>\n",
       "      <th>registant</th>\n",
       "      <th>date</th>\n",
       "    </tr>\n",
       "  </thead>\n",
       "  <tbody>\n",
       "    <tr>\n",
       "      <th>446754</th>\n",
       "      <td>30022003</td>\n",
       "      <td>(acm)zhupeijun</td>\n",
       "      <td>2010-03-17</td>\n",
       "    </tr>\n",
       "    <tr>\n",
       "      <th>10253</th>\n",
       "      <td>30045145</td>\n",
       "      <td>(acm)zhupeijun</td>\n",
       "      <td>2014-08-19</td>\n",
       "    </tr>\n",
       "    <tr>\n",
       "      <th>16217</th>\n",
       "      <td>30045639</td>\n",
       "      <td>(acm)zhupeijun</td>\n",
       "      <td>2014-09-05</td>\n",
       "    </tr>\n",
       "    <tr>\n",
       "      <th>16674</th>\n",
       "      <td>30045678</td>\n",
       "      <td>(acm)zhupeijun</td>\n",
       "      <td>2014-09-08</td>\n",
       "    </tr>\n",
       "    <tr>\n",
       "      <th>482515</th>\n",
       "      <td>30000149</td>\n",
       "      <td>-Neo-</td>\n",
       "      <td>2006-11-16</td>\n",
       "    </tr>\n",
       "  </tbody>\n",
       "</table>\n",
       "</div>"
      ],
      "text/plain": [
       "        challengeId       registant       date\n",
       "446754     30022003  (acm)zhupeijun 2010-03-17\n",
       "10253      30045145  (acm)zhupeijun 2014-08-19\n",
       "16217      30045639  (acm)zhupeijun 2014-09-05\n",
       "16674      30045678  (acm)zhupeijun 2014-09-08\n",
       "482515     30000149           -Neo- 2006-11-16"
      ]
     },
     "execution_count": 16,
     "metadata": {},
     "output_type": "execute_result"
    }
   ],
   "source": [
    "# sort datafrome by registant\n",
    "regs_df = regs_df.sort_values(by=['registant', 'date'])\n",
    "regs_df.head()"
   ]
  },
  {
   "cell_type": "code",
   "execution_count": 17,
   "metadata": {
    "ExecuteTime": {
     "end_time": "2019-09-09T08:14:29.099888Z",
     "start_time": "2019-09-09T08:14:29.048054Z"
    }
   },
   "outputs": [
    {
     "data": {
      "text/html": [
       "<div>\n",
       "<style scoped>\n",
       "    .dataframe tbody tr th:only-of-type {\n",
       "        vertical-align: middle;\n",
       "    }\n",
       "\n",
       "    .dataframe tbody tr th {\n",
       "        vertical-align: top;\n",
       "    }\n",
       "\n",
       "    .dataframe thead th {\n",
       "        text-align: right;\n",
       "    }\n",
       "</style>\n",
       "<table border=\"1\" class=\"dataframe\">\n",
       "  <thead>\n",
       "    <tr style=\"text-align: right;\">\n",
       "      <th></th>\n",
       "      <th>challengeId</th>\n",
       "      <th>registant</th>\n",
       "      <th>date</th>\n",
       "      <th>previousId</th>\n",
       "    </tr>\n",
       "  </thead>\n",
       "  <tbody>\n",
       "    <tr>\n",
       "      <th>446754</th>\n",
       "      <td>30022003</td>\n",
       "      <td>(acm)zhupeijun</td>\n",
       "      <td>2010-03-17</td>\n",
       "      <td>30022003</td>\n",
       "    </tr>\n",
       "    <tr>\n",
       "      <th>10253</th>\n",
       "      <td>30045145</td>\n",
       "      <td>(acm)zhupeijun</td>\n",
       "      <td>2014-08-19</td>\n",
       "      <td>30045145</td>\n",
       "    </tr>\n",
       "    <tr>\n",
       "      <th>16217</th>\n",
       "      <td>30045639</td>\n",
       "      <td>(acm)zhupeijun</td>\n",
       "      <td>2014-09-05</td>\n",
       "      <td>30045639</td>\n",
       "    </tr>\n",
       "    <tr>\n",
       "      <th>16674</th>\n",
       "      <td>30045678</td>\n",
       "      <td>(acm)zhupeijun</td>\n",
       "      <td>2014-09-08</td>\n",
       "      <td>30045678</td>\n",
       "    </tr>\n",
       "    <tr>\n",
       "      <th>482515</th>\n",
       "      <td>30000149</td>\n",
       "      <td>-Neo-</td>\n",
       "      <td>2006-11-16</td>\n",
       "      <td>30000149</td>\n",
       "    </tr>\n",
       "  </tbody>\n",
       "</table>\n",
       "</div>"
      ],
      "text/plain": [
       "        challengeId       registant       date  previousId\n",
       "446754     30022003  (acm)zhupeijun 2010-03-17    30022003\n",
       "10253      30045145  (acm)zhupeijun 2014-08-19    30045145\n",
       "16217      30045639  (acm)zhupeijun 2014-09-05    30045639\n",
       "16674      30045678  (acm)zhupeijun 2014-09-08    30045678\n",
       "482515     30000149           -Neo- 2006-11-16    30000149"
      ]
     },
     "execution_count": 17,
     "metadata": {},
     "output_type": "execute_result"
    }
   ],
   "source": [
    "regs_df['previousId'] = regs_df['challengeId']\n",
    "regs_df.head()"
   ]
  },
  {
   "cell_type": "code",
   "execution_count": 18,
   "metadata": {
    "ExecuteTime": {
     "end_time": "2019-09-09T08:14:29.553703Z",
     "start_time": "2019-09-09T08:14:29.487881Z"
    }
   },
   "outputs": [
    {
     "data": {
      "text/html": [
       "<div>\n",
       "<style scoped>\n",
       "    .dataframe tbody tr th:only-of-type {\n",
       "        vertical-align: middle;\n",
       "    }\n",
       "\n",
       "    .dataframe tbody tr th {\n",
       "        vertical-align: top;\n",
       "    }\n",
       "\n",
       "    .dataframe thead th {\n",
       "        text-align: right;\n",
       "    }\n",
       "</style>\n",
       "<table border=\"1\" class=\"dataframe\">\n",
       "  <thead>\n",
       "    <tr style=\"text-align: right;\">\n",
       "      <th></th>\n",
       "      <th>challengeId</th>\n",
       "      <th>registant</th>\n",
       "      <th>date</th>\n",
       "      <th>previousId</th>\n",
       "    </tr>\n",
       "  </thead>\n",
       "  <tbody>\n",
       "    <tr>\n",
       "      <th>446754</th>\n",
       "      <td>30022003</td>\n",
       "      <td>(acm)zhupeijun</td>\n",
       "      <td>2010-03-17</td>\n",
       "      <td>0</td>\n",
       "    </tr>\n",
       "    <tr>\n",
       "      <th>10253</th>\n",
       "      <td>30045145</td>\n",
       "      <td>(acm)zhupeijun</td>\n",
       "      <td>2014-08-19</td>\n",
       "      <td>30022003</td>\n",
       "    </tr>\n",
       "    <tr>\n",
       "      <th>16217</th>\n",
       "      <td>30045639</td>\n",
       "      <td>(acm)zhupeijun</td>\n",
       "      <td>2014-09-05</td>\n",
       "      <td>30045145</td>\n",
       "    </tr>\n",
       "    <tr>\n",
       "      <th>16674</th>\n",
       "      <td>30045678</td>\n",
       "      <td>(acm)zhupeijun</td>\n",
       "      <td>2014-09-08</td>\n",
       "      <td>30045639</td>\n",
       "    </tr>\n",
       "    <tr>\n",
       "      <th>482515</th>\n",
       "      <td>30000149</td>\n",
       "      <td>-Neo-</td>\n",
       "      <td>2006-11-16</td>\n",
       "      <td>30045678</td>\n",
       "    </tr>\n",
       "  </tbody>\n",
       "</table>\n",
       "</div>"
      ],
      "text/plain": [
       "        challengeId       registant       date  previousId\n",
       "446754     30022003  (acm)zhupeijun 2010-03-17           0\n",
       "10253      30045145  (acm)zhupeijun 2014-08-19    30022003\n",
       "16217      30045639  (acm)zhupeijun 2014-09-05    30045145\n",
       "16674      30045678  (acm)zhupeijun 2014-09-08    30045639\n",
       "482515     30000149           -Neo- 2006-11-16    30045678"
      ]
     },
     "execution_count": 18,
     "metadata": {},
     "output_type": "execute_result"
    }
   ],
   "source": [
    "regs_df['previousId'] = regs_df['previousId'].shift(periods=1).fillna(0).astype('int64')\n",
    "regs_df.head()"
   ]
  },
  {
   "cell_type": "code",
   "execution_count": 19,
   "metadata": {
    "ExecuteTime": {
     "end_time": "2019-09-09T08:14:30.085253Z",
     "start_time": "2019-09-09T08:14:29.863845Z"
    }
   },
   "outputs": [
    {
     "data": {
      "text/plain": [
       "446754     True\n",
       "10253     False\n",
       "16217     False\n",
       "16674     False\n",
       "482515     True\n",
       "dtype: bool"
      ]
     },
     "execution_count": 19,
     "metadata": {},
     "output_type": "execute_result"
    }
   ],
   "source": [
    "# Set first item non for each user\n",
    "regs_df = regs_df.sort_values(by=['registant', 'date'])\n",
    "first_mask = ~regs_df.duplicated(subset=['registant'], keep='first')\n",
    "first_mask.head()"
   ]
  },
  {
   "cell_type": "code",
   "execution_count": 20,
   "metadata": {
    "ExecuteTime": {
     "end_time": "2019-09-09T08:14:30.348573Z",
     "start_time": "2019-09-09T08:14:30.271783Z"
    }
   },
   "outputs": [
    {
     "name": "stderr",
     "output_type": "stream",
     "text": [
      "c:\\projects\\python\\recommender\\.venv\\lib\\site-packages\\ipykernel_launcher.py:1: SettingWithCopyWarning: \n",
      "A value is trying to be set on a copy of a slice from a DataFrame\n",
      "\n",
      "See the caveats in the documentation: http://pandas.pydata.org/pandas-docs/stable/indexing.html#indexing-view-versus-copy\n",
      "  \"\"\"Entry point for launching an IPython kernel.\n"
     ]
    },
    {
     "data": {
      "text/html": [
       "<div>\n",
       "<style scoped>\n",
       "    .dataframe tbody tr th:only-of-type {\n",
       "        vertical-align: middle;\n",
       "    }\n",
       "\n",
       "    .dataframe tbody tr th {\n",
       "        vertical-align: top;\n",
       "    }\n",
       "\n",
       "    .dataframe thead th {\n",
       "        text-align: right;\n",
       "    }\n",
       "</style>\n",
       "<table border=\"1\" class=\"dataframe\">\n",
       "  <thead>\n",
       "    <tr style=\"text-align: right;\">\n",
       "      <th></th>\n",
       "      <th>challengeId</th>\n",
       "      <th>registant</th>\n",
       "      <th>date</th>\n",
       "      <th>previousId</th>\n",
       "    </tr>\n",
       "  </thead>\n",
       "  <tbody>\n",
       "    <tr>\n",
       "      <th>446754</th>\n",
       "      <td>30022003</td>\n",
       "      <td>(acm)zhupeijun</td>\n",
       "      <td>2010-03-17</td>\n",
       "      <td>-1</td>\n",
       "    </tr>\n",
       "    <tr>\n",
       "      <th>10253</th>\n",
       "      <td>30045145</td>\n",
       "      <td>(acm)zhupeijun</td>\n",
       "      <td>2014-08-19</td>\n",
       "      <td>30022003</td>\n",
       "    </tr>\n",
       "    <tr>\n",
       "      <th>16217</th>\n",
       "      <td>30045639</td>\n",
       "      <td>(acm)zhupeijun</td>\n",
       "      <td>2014-09-05</td>\n",
       "      <td>30045145</td>\n",
       "    </tr>\n",
       "    <tr>\n",
       "      <th>16674</th>\n",
       "      <td>30045678</td>\n",
       "      <td>(acm)zhupeijun</td>\n",
       "      <td>2014-09-08</td>\n",
       "      <td>30045639</td>\n",
       "    </tr>\n",
       "    <tr>\n",
       "      <th>482515</th>\n",
       "      <td>30000149</td>\n",
       "      <td>-Neo-</td>\n",
       "      <td>2006-11-16</td>\n",
       "      <td>-1</td>\n",
       "    </tr>\n",
       "  </tbody>\n",
       "</table>\n",
       "</div>"
      ],
      "text/plain": [
       "        challengeId       registant       date  previousId\n",
       "446754     30022003  (acm)zhupeijun 2010-03-17          -1\n",
       "10253      30045145  (acm)zhupeijun 2014-08-19    30022003\n",
       "16217      30045639  (acm)zhupeijun 2014-09-05    30045145\n",
       "16674      30045678  (acm)zhupeijun 2014-09-08    30045639\n",
       "482515     30000149           -Neo- 2006-11-16          -1"
      ]
     },
     "execution_count": 20,
     "metadata": {},
     "output_type": "execute_result"
    }
   ],
   "source": [
    "regs_df['previousId'][first_mask] = -1\n",
    "regs_df.head()"
   ]
  },
  {
   "cell_type": "markdown",
   "metadata": {},
   "source": [
    "### Add Encoder for Preprocessing"
   ]
  },
  {
   "cell_type": "code",
   "execution_count": 21,
   "metadata": {
    "ExecuteTime": {
     "end_time": "2019-09-09T08:14:32.223573Z",
     "start_time": "2019-09-09T08:14:31.855550Z"
    }
   },
   "outputs": [],
   "source": [
    "from sklearn.preprocessing import OneHotEncoder"
   ]
  },
  {
   "cell_type": "code",
   "execution_count": 22,
   "metadata": {
    "ExecuteTime": {
     "end_time": "2019-09-09T08:14:32.637457Z",
     "start_time": "2019-09-09T08:14:32.583574Z"
    }
   },
   "outputs": [],
   "source": [
    "challenge_encoder = OneHotEncoder(categories='auto', handle_unknown='ignore')\n",
    "registant_encoder = OneHotEncoder(categories='auto', handle_unknown='error')"
   ]
  },
  {
   "cell_type": "code",
   "execution_count": 23,
   "metadata": {
    "ExecuteTime": {
     "end_time": "2019-09-09T08:14:33.192961Z",
     "start_time": "2019-09-09T08:14:33.087227Z"
    }
   },
   "outputs": [
    {
     "data": {
      "text/plain": [
       "OneHotEncoder(categorical_features=None, categories='auto', drop=None,\n",
       "              dtype=<class 'numpy.float64'>, handle_unknown='error',\n",
       "              n_values=None, sparse=True)"
      ]
     },
     "execution_count": 23,
     "metadata": {},
     "output_type": "execute_result"
    }
   ],
   "source": [
    "challenge_encoder.fit(regs_df[['challengeId']])\n",
    "registant_encoder.fit(regs_df[['registant']])"
   ]
  },
  {
   "cell_type": "markdown",
   "metadata": {},
   "source": [
    "### Split Dataset to Train and Valid Dateset"
   ]
  },
  {
   "cell_type": "code",
   "execution_count": 24,
   "metadata": {
    "ExecuteTime": {
     "end_time": "2019-09-09T08:14:34.951259Z",
     "start_time": "2019-09-09T08:14:34.839543Z"
    }
   },
   "outputs": [
    {
     "data": {
      "text/html": [
       "<div>\n",
       "<style scoped>\n",
       "    .dataframe tbody tr th:only-of-type {\n",
       "        vertical-align: middle;\n",
       "    }\n",
       "\n",
       "    .dataframe tbody tr th {\n",
       "        vertical-align: top;\n",
       "    }\n",
       "\n",
       "    .dataframe thead th {\n",
       "        text-align: right;\n",
       "    }\n",
       "</style>\n",
       "<table border=\"1\" class=\"dataframe\">\n",
       "  <thead>\n",
       "    <tr style=\"text-align: right;\">\n",
       "      <th></th>\n",
       "      <th>challengeId</th>\n",
       "      <th>registant</th>\n",
       "      <th>date</th>\n",
       "      <th>previousId</th>\n",
       "    </tr>\n",
       "  </thead>\n",
       "  <tbody>\n",
       "    <tr>\n",
       "      <th>482993</th>\n",
       "      <td>30000030</td>\n",
       "      <td>fastprogrammer</td>\n",
       "      <td>2006-11-04</td>\n",
       "      <td>-1</td>\n",
       "    </tr>\n",
       "    <tr>\n",
       "      <th>482998</th>\n",
       "      <td>30000030</td>\n",
       "      <td>fabrizyo</td>\n",
       "      <td>2006-11-04</td>\n",
       "      <td>-1</td>\n",
       "    </tr>\n",
       "    <tr>\n",
       "      <th>482997</th>\n",
       "      <td>30000030</td>\n",
       "      <td>chaosbreeze</td>\n",
       "      <td>2006-11-04</td>\n",
       "      <td>-1</td>\n",
       "    </tr>\n",
       "    <tr>\n",
       "      <th>482992</th>\n",
       "      <td>30000030</td>\n",
       "      <td>j2ee.solutions</td>\n",
       "      <td>2006-11-04</td>\n",
       "      <td>-1</td>\n",
       "    </tr>\n",
       "    <tr>\n",
       "      <th>482991</th>\n",
       "      <td>30000030</td>\n",
       "      <td>sharper</td>\n",
       "      <td>2006-11-04</td>\n",
       "      <td>-1</td>\n",
       "    </tr>\n",
       "  </tbody>\n",
       "</table>\n",
       "</div>"
      ],
      "text/plain": [
       "        challengeId       registant       date  previousId\n",
       "482993     30000030  fastprogrammer 2006-11-04          -1\n",
       "482998     30000030        fabrizyo 2006-11-04          -1\n",
       "482997     30000030     chaosbreeze 2006-11-04          -1\n",
       "482992     30000030  j2ee.solutions 2006-11-04          -1\n",
       "482991     30000030         sharper 2006-11-04          -1"
      ]
     },
     "execution_count": 24,
     "metadata": {},
     "output_type": "execute_result"
    }
   ],
   "source": [
    "regs_df = regs_df.sort_values(by=['date'])\n",
    "regs_df.head()"
   ]
  },
  {
   "cell_type": "code",
   "execution_count": 27,
   "metadata": {
    "ExecuteTime": {
     "end_time": "2019-09-09T08:14:52.328880Z",
     "start_time": "2019-09-09T08:14:52.207200Z"
    }
   },
   "outputs": [],
   "source": [
    "last_mask = regs_df.duplicated(subset=['registant'], keep='last')\n",
    "remain_df = regs_df[last_mask]\n",
    "test_df = regs_df[~last_mask]"
   ]
  },
  {
   "cell_type": "code",
   "execution_count": 28,
   "metadata": {
    "ExecuteTime": {
     "end_time": "2019-09-09T08:14:52.772688Z",
     "start_time": "2019-09-09T08:14:52.711878Z"
    }
   },
   "outputs": [
    {
     "data": {
      "text/html": [
       "<div>\n",
       "<style scoped>\n",
       "    .dataframe tbody tr th:only-of-type {\n",
       "        vertical-align: middle;\n",
       "    }\n",
       "\n",
       "    .dataframe tbody tr th {\n",
       "        vertical-align: top;\n",
       "    }\n",
       "\n",
       "    .dataframe thead th {\n",
       "        text-align: right;\n",
       "    }\n",
       "</style>\n",
       "<table border=\"1\" class=\"dataframe\">\n",
       "  <thead>\n",
       "    <tr style=\"text-align: right;\">\n",
       "      <th></th>\n",
       "      <th>challengeId</th>\n",
       "      <th>registant</th>\n",
       "      <th>date</th>\n",
       "      <th>previousId</th>\n",
       "    </tr>\n",
       "  </thead>\n",
       "  <tbody>\n",
       "    <tr>\n",
       "      <th>482018</th>\n",
       "      <td>30000217</td>\n",
       "      <td>yuhai</td>\n",
       "      <td>2006-11-29</td>\n",
       "      <td>30000198</td>\n",
       "    </tr>\n",
       "    <tr>\n",
       "      <th>481976</th>\n",
       "      <td>30000229</td>\n",
       "      <td>kosmo73</td>\n",
       "      <td>2006-11-30</td>\n",
       "      <td>30000142</td>\n",
       "    </tr>\n",
       "    <tr>\n",
       "      <th>481988</th>\n",
       "      <td>30000227</td>\n",
       "      <td>artpro</td>\n",
       "      <td>2006-11-30</td>\n",
       "      <td>30000201</td>\n",
       "    </tr>\n",
       "    <tr>\n",
       "      <th>609964</th>\n",
       "      <td>30000396</td>\n",
       "      <td>despot</td>\n",
       "      <td>2006-12-07</td>\n",
       "      <td>30000231</td>\n",
       "    </tr>\n",
       "    <tr>\n",
       "      <th>609788</th>\n",
       "      <td>30000435</td>\n",
       "      <td>andreicsibi</td>\n",
       "      <td>2006-12-13</td>\n",
       "      <td>30000262</td>\n",
       "    </tr>\n",
       "  </tbody>\n",
       "</table>\n",
       "</div>"
      ],
      "text/plain": [
       "        challengeId    registant       date  previousId\n",
       "482018     30000217        yuhai 2006-11-29    30000198\n",
       "481976     30000229      kosmo73 2006-11-30    30000142\n",
       "481988     30000227       artpro 2006-11-30    30000201\n",
       "609964     30000396       despot 2006-12-07    30000231\n",
       "609788     30000435  andreicsibi 2006-12-13    30000262"
      ]
     },
     "execution_count": 28,
     "metadata": {},
     "output_type": "execute_result"
    }
   ],
   "source": [
    "test_df.head()"
   ]
  },
  {
   "cell_type": "code",
   "execution_count": 29,
   "metadata": {
    "ExecuteTime": {
     "end_time": "2019-09-09T08:14:56.865744Z",
     "start_time": "2019-09-09T08:14:56.752048Z"
    }
   },
   "outputs": [
    {
     "name": "stdout",
     "output_type": "stream",
     "text": [
      "(513594, 4)\n",
      "(9806, 4)\n"
     ]
    }
   ],
   "source": [
    "last_mask = remain_df.duplicated(subset=['registant'], keep='last')\n",
    "train_df = remain_df[last_mask]\n",
    "valid_df = remain_df[~last_mask]\n",
    "\n",
    "print(train_df.shape)\n",
    "print(valid_df.shape)"
   ]
  },
  {
   "cell_type": "code",
   "execution_count": 30,
   "metadata": {
    "ExecuteTime": {
     "end_time": "2019-09-09T08:14:57.334521Z",
     "start_time": "2019-09-09T08:14:57.271658Z"
    }
   },
   "outputs": [
    {
     "data": {
      "text/html": [
       "<div>\n",
       "<style scoped>\n",
       "    .dataframe tbody tr th:only-of-type {\n",
       "        vertical-align: middle;\n",
       "    }\n",
       "\n",
       "    .dataframe tbody tr th {\n",
       "        vertical-align: top;\n",
       "    }\n",
       "\n",
       "    .dataframe thead th {\n",
       "        text-align: right;\n",
       "    }\n",
       "</style>\n",
       "<table border=\"1\" class=\"dataframe\">\n",
       "  <thead>\n",
       "    <tr style=\"text-align: right;\">\n",
       "      <th></th>\n",
       "      <th>challengeId</th>\n",
       "      <th>registant</th>\n",
       "      <th>date</th>\n",
       "      <th>previousId</th>\n",
       "    </tr>\n",
       "  </thead>\n",
       "  <tbody>\n",
       "    <tr>\n",
       "      <th>482233</th>\n",
       "      <td>30000198</td>\n",
       "      <td>yuhai</td>\n",
       "      <td>2006-11-23</td>\n",
       "      <td>30000145</td>\n",
       "    </tr>\n",
       "    <tr>\n",
       "      <th>482318</th>\n",
       "      <td>30000186</td>\n",
       "      <td>nirmal_mehta</td>\n",
       "      <td>2006-11-23</td>\n",
       "      <td>30000153</td>\n",
       "    </tr>\n",
       "    <tr>\n",
       "      <th>482156</th>\n",
       "      <td>30000203</td>\n",
       "      <td>Chuande</td>\n",
       "      <td>2006-11-23</td>\n",
       "      <td>30000145</td>\n",
       "    </tr>\n",
       "    <tr>\n",
       "      <th>482091</th>\n",
       "      <td>30000208</td>\n",
       "      <td>artpro</td>\n",
       "      <td>2006-11-23</td>\n",
       "      <td>30000144</td>\n",
       "    </tr>\n",
       "    <tr>\n",
       "      <th>482140</th>\n",
       "      <td>30000204</td>\n",
       "      <td>biaochen</td>\n",
       "      <td>2006-11-23</td>\n",
       "      <td>30000143</td>\n",
       "    </tr>\n",
       "  </tbody>\n",
       "</table>\n",
       "</div>"
      ],
      "text/plain": [
       "        challengeId     registant       date  previousId\n",
       "482233     30000198         yuhai 2006-11-23    30000145\n",
       "482318     30000186  nirmal_mehta 2006-11-23    30000153\n",
       "482156     30000203       Chuande 2006-11-23    30000145\n",
       "482091     30000208        artpro 2006-11-23    30000144\n",
       "482140     30000204      biaochen 2006-11-23    30000143"
      ]
     },
     "execution_count": 30,
     "metadata": {},
     "output_type": "execute_result"
    }
   ],
   "source": [
    "valid_df.head()"
   ]
  },
  {
   "cell_type": "code",
   "execution_count": 31,
   "metadata": {
    "ExecuteTime": {
     "end_time": "2019-09-09T08:15:00.607740Z",
     "start_time": "2019-09-09T08:15:00.540917Z"
    }
   },
   "outputs": [
    {
     "data": {
      "text/html": [
       "<div>\n",
       "<style scoped>\n",
       "    .dataframe tbody tr th:only-of-type {\n",
       "        vertical-align: middle;\n",
       "    }\n",
       "\n",
       "    .dataframe tbody tr th {\n",
       "        vertical-align: top;\n",
       "    }\n",
       "\n",
       "    .dataframe thead th {\n",
       "        text-align: right;\n",
       "    }\n",
       "</style>\n",
       "<table border=\"1\" class=\"dataframe\">\n",
       "  <thead>\n",
       "    <tr style=\"text-align: right;\">\n",
       "      <th></th>\n",
       "      <th>challengeId</th>\n",
       "      <th>registant</th>\n",
       "      <th>date</th>\n",
       "      <th>previousId</th>\n",
       "    </tr>\n",
       "  </thead>\n",
       "  <tbody>\n",
       "    <tr>\n",
       "      <th>482993</th>\n",
       "      <td>30000030</td>\n",
       "      <td>fastprogrammer</td>\n",
       "      <td>2006-11-04</td>\n",
       "      <td>-1</td>\n",
       "    </tr>\n",
       "    <tr>\n",
       "      <th>482998</th>\n",
       "      <td>30000030</td>\n",
       "      <td>fabrizyo</td>\n",
       "      <td>2006-11-04</td>\n",
       "      <td>-1</td>\n",
       "    </tr>\n",
       "    <tr>\n",
       "      <th>482997</th>\n",
       "      <td>30000030</td>\n",
       "      <td>chaosbreeze</td>\n",
       "      <td>2006-11-04</td>\n",
       "      <td>-1</td>\n",
       "    </tr>\n",
       "    <tr>\n",
       "      <th>482992</th>\n",
       "      <td>30000030</td>\n",
       "      <td>j2ee.solutions</td>\n",
       "      <td>2006-11-04</td>\n",
       "      <td>-1</td>\n",
       "    </tr>\n",
       "    <tr>\n",
       "      <th>482991</th>\n",
       "      <td>30000030</td>\n",
       "      <td>sharper</td>\n",
       "      <td>2006-11-04</td>\n",
       "      <td>-1</td>\n",
       "    </tr>\n",
       "  </tbody>\n",
       "</table>\n",
       "</div>"
      ],
      "text/plain": [
       "        challengeId       registant       date  previousId\n",
       "482993     30000030  fastprogrammer 2006-11-04          -1\n",
       "482998     30000030        fabrizyo 2006-11-04          -1\n",
       "482997     30000030     chaosbreeze 2006-11-04          -1\n",
       "482992     30000030  j2ee.solutions 2006-11-04          -1\n",
       "482991     30000030         sharper 2006-11-04          -1"
      ]
     },
     "execution_count": 31,
     "metadata": {},
     "output_type": "execute_result"
    }
   ],
   "source": [
    "train_df.head()"
   ]
  },
  {
   "cell_type": "code",
   "execution_count": 42,
   "metadata": {
    "ExecuteTime": {
     "end_time": "2019-09-09T08:22:56.229203Z",
     "start_time": "2019-09-09T08:22:56.159386Z"
    }
   },
   "outputs": [
    {
     "ename": "ValueError",
     "evalue": "'a' must be 1-dimensional or an integer",
     "output_type": "error",
     "traceback": [
      "\u001b[1;31m---------------------------------------------------------------------------\u001b[0m",
      "\u001b[1;31mTypeError\u001b[0m                                 Traceback (most recent call last)",
      "\u001b[1;32mmtrand.pyx\u001b[0m in \u001b[0;36mmtrand.RandomState.choice\u001b[1;34m()\u001b[0m\n",
      "\u001b[1;31mTypeError\u001b[0m: 'str' object cannot be interpreted as an integer",
      "\nDuring handling of the above exception, another exception occurred:\n",
      "\u001b[1;31mValueError\u001b[0m                                Traceback (most recent call last)",
      "\u001b[1;32m<ipython-input-42-71cefab1da83>\u001b[0m in \u001b[0;36m<module>\u001b[1;34m\u001b[0m\n\u001b[1;32m----> 1\u001b[1;33m \u001b[0mnp\u001b[0m\u001b[1;33m.\u001b[0m\u001b[0mrandom\u001b[0m\u001b[1;33m.\u001b[0m\u001b[0mchoice\u001b[0m\u001b[1;33m(\u001b[0m\u001b[0mregistant_encoder\u001b[0m\u001b[1;33m.\u001b[0m\u001b[0mcategories\u001b[0m\u001b[1;33m[\u001b[0m\u001b[1;36m0\u001b[0m\u001b[1;33m]\u001b[0m\u001b[1;33m,\u001b[0m \u001b[0msize\u001b[0m\u001b[1;33m=\u001b[0m\u001b[1;36m5\u001b[0m\u001b[1;33m)\u001b[0m\u001b[1;33m\u001b[0m\u001b[1;33m\u001b[0m\u001b[0m\n\u001b[0m",
      "\u001b[1;32mmtrand.pyx\u001b[0m in \u001b[0;36mmtrand.RandomState.choice\u001b[1;34m()\u001b[0m\n",
      "\u001b[1;31mValueError\u001b[0m: 'a' must be 1-dimensional or an integer"
     ]
    }
   ],
   "source": [
    "np.random.choice(registant_encoder.categories_[0], size=5)"
   ]
  },
  {
   "cell_type": "markdown",
   "metadata": {},
   "source": [
    "## Handle Challenge Dataframe"
   ]
  },
  {
   "cell_type": "code",
   "execution_count": 61,
   "metadata": {
    "ExecuteTime": {
     "end_time": "2019-09-09T12:16:26.563442Z",
     "start_time": "2019-09-09T12:16:26.497055Z"
    }
   },
   "outputs": [],
   "source": [
    "from ast import literal_eval"
   ]
  },
  {
   "cell_type": "code",
   "execution_count": 62,
   "metadata": {
    "ExecuteTime": {
     "end_time": "2019-09-09T12:16:28.042032Z",
     "start_time": "2019-09-09T12:16:27.265546Z"
    }
   },
   "outputs": [
    {
     "data": {
      "text/html": [
       "<div>\n",
       "<style scoped>\n",
       "    .dataframe tbody tr th:only-of-type {\n",
       "        vertical-align: middle;\n",
       "    }\n",
       "\n",
       "    .dataframe tbody tr th {\n",
       "        vertical-align: top;\n",
       "    }\n",
       "\n",
       "    .dataframe thead th {\n",
       "        text-align: right;\n",
       "    }\n",
       "</style>\n",
       "<table border=\"1\" class=\"dataframe\">\n",
       "  <thead>\n",
       "    <tr style=\"text-align: right;\">\n",
       "      <th></th>\n",
       "      <th>challengeId</th>\n",
       "      <th>date</th>\n",
       "      <th>prizes</th>\n",
       "      <th>technologies</th>\n",
       "      <th>platforms</th>\n",
       "    </tr>\n",
       "  </thead>\n",
       "  <tbody>\n",
       "    <tr>\n",
       "      <th>0</th>\n",
       "      <td>30044052</td>\n",
       "      <td>2014-07-09</td>\n",
       "      <td>1800.0</td>\n",
       "      <td>[HTML]</td>\n",
       "      <td>[HTML]</td>\n",
       "    </tr>\n",
       "    <tr>\n",
       "      <th>1</th>\n",
       "      <td>30044053</td>\n",
       "      <td>2014-07-09</td>\n",
       "      <td>1250.0</td>\n",
       "      <td>[Salesforce, Apex, Visualforce]</td>\n",
       "      <td>[Force.com, Salesforce.com]</td>\n",
       "    </tr>\n",
       "    <tr>\n",
       "      <th>2</th>\n",
       "      <td>30044054</td>\n",
       "      <td>2014-07-09</td>\n",
       "      <td>400.0</td>\n",
       "      <td>[Java, MySQL, REST]</td>\n",
       "      <td>[AWS]</td>\n",
       "    </tr>\n",
       "    <tr>\n",
       "      <th>3</th>\n",
       "      <td>30044055</td>\n",
       "      <td>2014-07-09</td>\n",
       "      <td>400.0</td>\n",
       "      <td>[iOS]</td>\n",
       "      <td>[iOS]</td>\n",
       "    </tr>\n",
       "    <tr>\n",
       "      <th>4</th>\n",
       "      <td>30044056</td>\n",
       "      <td>2014-07-09</td>\n",
       "      <td>400.0</td>\n",
       "      <td>[iOS]</td>\n",
       "      <td>[iOS]</td>\n",
       "    </tr>\n",
       "  </tbody>\n",
       "</table>\n",
       "</div>"
      ],
      "text/plain": [
       "   challengeId        date  prizes                     technologies  \\\n",
       "0     30044052  2014-07-09  1800.0                           [HTML]   \n",
       "1     30044053  2014-07-09  1250.0  [Salesforce, Apex, Visualforce]   \n",
       "2     30044054  2014-07-09   400.0              [Java, MySQL, REST]   \n",
       "3     30044055  2014-07-09   400.0                            [iOS]   \n",
       "4     30044056  2014-07-09   400.0                            [iOS]   \n",
       "\n",
       "                     platforms  \n",
       "0                       [HTML]  \n",
       "1  [Force.com, Salesforce.com]  \n",
       "2                        [AWS]  \n",
       "3                        [iOS]  \n",
       "4                        [iOS]  "
      ]
     },
     "execution_count": 62,
     "metadata": {},
     "output_type": "execute_result"
    }
   ],
   "source": [
    "chag_df = pd.read_csv(\"./inputs/topcoder/challenge.csv\",\n",
    "                      infer_datetime_format=True,\n",
    "                      converters={\n",
    "                          'technologies': literal_eval,\n",
    "                          'platforms': literal_eval\n",
    "                      })\n",
    "chag_df.head()"
   ]
  },
  {
   "cell_type": "code",
   "execution_count": 63,
   "metadata": {
    "ExecuteTime": {
     "end_time": "2019-09-09T12:16:28.901417Z",
     "start_time": "2019-09-09T12:16:28.817637Z"
    },
    "scrolled": true
   },
   "outputs": [
    {
     "name": "stdout",
     "output_type": "stream",
     "text": [
      "<class 'pandas.core.frame.DataFrame'>\n",
      "RangeIndex: 52880 entries, 0 to 52879\n",
      "Data columns (total 5 columns):\n",
      "challengeId     52880 non-null int64\n",
      "date            52880 non-null datetime64[ns]\n",
      "prizes          52880 non-null float64\n",
      "technologies    52880 non-null object\n",
      "platforms       52880 non-null object\n",
      "dtypes: datetime64[ns](1), float64(1), int64(1), object(2)\n",
      "memory usage: 2.0+ MB\n"
     ]
    }
   ],
   "source": [
    "chag_df['date'] = pd.to_datetime(chag_df['date'], infer_datetime_format=True)\n",
    "chag_df.info()"
   ]
  },
  {
   "cell_type": "code",
   "execution_count": 72,
   "metadata": {
    "ExecuteTime": {
     "end_time": "2019-09-09T12:21:10.662990Z",
     "start_time": "2019-09-09T12:21:10.587220Z"
    }
   },
   "outputs": [
    {
     "data": {
      "text/html": [
       "<div>\n",
       "<style scoped>\n",
       "    .dataframe tbody tr th:only-of-type {\n",
       "        vertical-align: middle;\n",
       "    }\n",
       "\n",
       "    .dataframe tbody tr th {\n",
       "        vertical-align: top;\n",
       "    }\n",
       "\n",
       "    .dataframe thead th {\n",
       "        text-align: right;\n",
       "    }\n",
       "</style>\n",
       "<table border=\"1\" class=\"dataframe\">\n",
       "  <thead>\n",
       "    <tr style=\"text-align: right;\">\n",
       "      <th></th>\n",
       "      <th>date</th>\n",
       "      <th>prizes</th>\n",
       "      <th>technologies</th>\n",
       "      <th>platforms</th>\n",
       "    </tr>\n",
       "    <tr>\n",
       "      <th>challengeId</th>\n",
       "      <th></th>\n",
       "      <th></th>\n",
       "      <th></th>\n",
       "      <th></th>\n",
       "    </tr>\n",
       "  </thead>\n",
       "  <tbody>\n",
       "    <tr>\n",
       "      <th>30044052</th>\n",
       "      <td>2014-07-09</td>\n",
       "      <td>1800.0</td>\n",
       "      <td>[HTML]</td>\n",
       "      <td>[HTML]</td>\n",
       "    </tr>\n",
       "    <tr>\n",
       "      <th>30044053</th>\n",
       "      <td>2014-07-09</td>\n",
       "      <td>1250.0</td>\n",
       "      <td>[Salesforce, Apex, Visualforce]</td>\n",
       "      <td>[Force.com, Salesforce.com]</td>\n",
       "    </tr>\n",
       "    <tr>\n",
       "      <th>30044054</th>\n",
       "      <td>2014-07-09</td>\n",
       "      <td>400.0</td>\n",
       "      <td>[Java, MySQL, REST]</td>\n",
       "      <td>[AWS]</td>\n",
       "    </tr>\n",
       "    <tr>\n",
       "      <th>30044055</th>\n",
       "      <td>2014-07-09</td>\n",
       "      <td>400.0</td>\n",
       "      <td>[iOS]</td>\n",
       "      <td>[iOS]</td>\n",
       "    </tr>\n",
       "    <tr>\n",
       "      <th>30044056</th>\n",
       "      <td>2014-07-09</td>\n",
       "      <td>400.0</td>\n",
       "      <td>[iOS]</td>\n",
       "      <td>[iOS]</td>\n",
       "    </tr>\n",
       "  </tbody>\n",
       "</table>\n",
       "</div>"
      ],
      "text/plain": [
       "                  date  prizes                     technologies  \\\n",
       "challengeId                                                       \n",
       "30044052    2014-07-09  1800.0                           [HTML]   \n",
       "30044053    2014-07-09  1250.0  [Salesforce, Apex, Visualforce]   \n",
       "30044054    2014-07-09   400.0              [Java, MySQL, REST]   \n",
       "30044055    2014-07-09   400.0                            [iOS]   \n",
       "30044056    2014-07-09   400.0                            [iOS]   \n",
       "\n",
       "                               platforms  \n",
       "challengeId                               \n",
       "30044052                          [HTML]  \n",
       "30044053     [Force.com, Salesforce.com]  \n",
       "30044054                           [AWS]  \n",
       "30044055                           [iOS]  \n",
       "30044056                           [iOS]  "
      ]
     },
     "execution_count": 72,
     "metadata": {},
     "output_type": "execute_result"
    }
   ],
   "source": [
    "chag_df = chag_df.set_index('challengeId')\n",
    "chag_df.head()"
   ]
  },
  {
   "cell_type": "code",
   "execution_count": 76,
   "metadata": {
    "ExecuteTime": {
     "end_time": "2019-09-09T12:21:42.229234Z",
     "start_time": "2019-09-09T12:21:42.159450Z"
    }
   },
   "outputs": [
    {
     "data": {
      "text/plain": [
       "date            2014-07-09 00:00:00\n",
       "prizes                         1800\n",
       "technologies                 [HTML]\n",
       "platforms                    [HTML]\n",
       "Name: 30044052, dtype: object"
      ]
     },
     "execution_count": 76,
     "metadata": {},
     "output_type": "execute_result"
    }
   ],
   "source": [
    "chag_df.loc[30044052]"
   ]
  },
  {
   "cell_type": "code",
   "execution_count": 75,
   "metadata": {
    "ExecuteTime": {
     "end_time": "2019-09-09T12:21:33.709303Z",
     "start_time": "2019-09-09T12:21:33.639492Z"
    }
   },
   "outputs": [
    {
     "data": {
      "text/html": [
       "<div>\n",
       "<style scoped>\n",
       "    .dataframe tbody tr th:only-of-type {\n",
       "        vertical-align: middle;\n",
       "    }\n",
       "\n",
       "    .dataframe tbody tr th {\n",
       "        vertical-align: top;\n",
       "    }\n",
       "\n",
       "    .dataframe thead th {\n",
       "        text-align: right;\n",
       "    }\n",
       "</style>\n",
       "<table border=\"1\" class=\"dataframe\">\n",
       "  <thead>\n",
       "    <tr style=\"text-align: right;\">\n",
       "      <th></th>\n",
       "      <th>date</th>\n",
       "      <th>prizes</th>\n",
       "      <th>technologies</th>\n",
       "      <th>platforms</th>\n",
       "    </tr>\n",
       "    <tr>\n",
       "      <th>challengeId</th>\n",
       "      <th></th>\n",
       "      <th></th>\n",
       "      <th></th>\n",
       "      <th></th>\n",
       "    </tr>\n",
       "  </thead>\n",
       "  <tbody>\n",
       "    <tr>\n",
       "      <th>30044052</th>\n",
       "      <td>2014-07-09</td>\n",
       "      <td>1800.0</td>\n",
       "      <td>[HTML]</td>\n",
       "      <td>[HTML]</td>\n",
       "    </tr>\n",
       "    <tr>\n",
       "      <th>30044053</th>\n",
       "      <td>2014-07-09</td>\n",
       "      <td>1250.0</td>\n",
       "      <td>[Salesforce, Apex, Visualforce]</td>\n",
       "      <td>[Force.com, Salesforce.com]</td>\n",
       "    </tr>\n",
       "    <tr>\n",
       "      <th>30044054</th>\n",
       "      <td>2014-07-09</td>\n",
       "      <td>400.0</td>\n",
       "      <td>[Java, MySQL, REST]</td>\n",
       "      <td>[AWS]</td>\n",
       "    </tr>\n",
       "    <tr>\n",
       "      <th>30044055</th>\n",
       "      <td>2014-07-09</td>\n",
       "      <td>400.0</td>\n",
       "      <td>[iOS]</td>\n",
       "      <td>[iOS]</td>\n",
       "    </tr>\n",
       "    <tr>\n",
       "      <th>30044056</th>\n",
       "      <td>2014-07-09</td>\n",
       "      <td>400.0</td>\n",
       "      <td>[iOS]</td>\n",
       "      <td>[iOS]</td>\n",
       "    </tr>\n",
       "  </tbody>\n",
       "</table>\n",
       "</div>"
      ],
      "text/plain": [
       "                  date  prizes                     technologies  \\\n",
       "challengeId                                                       \n",
       "30044052    2014-07-09  1800.0                           [HTML]   \n",
       "30044053    2014-07-09  1250.0  [Salesforce, Apex, Visualforce]   \n",
       "30044054    2014-07-09   400.0              [Java, MySQL, REST]   \n",
       "30044055    2014-07-09   400.0                            [iOS]   \n",
       "30044056    2014-07-09   400.0                            [iOS]   \n",
       "\n",
       "                               platforms  \n",
       "challengeId                               \n",
       "30044052                          [HTML]  \n",
       "30044053     [Force.com, Salesforce.com]  \n",
       "30044054                           [AWS]  \n",
       "30044055                           [iOS]  \n",
       "30044056                           [iOS]  "
      ]
     },
     "execution_count": 75,
     "metadata": {},
     "output_type": "execute_result"
    }
   ],
   "source": [
    "chag_df.head()"
   ]
  },
  {
   "cell_type": "code",
   "execution_count": 51,
   "metadata": {
    "ExecuteTime": {
     "end_time": "2019-09-09T06:53:33.604343Z",
     "start_time": "2019-09-09T06:53:33.543532Z"
    }
   },
   "outputs": [],
   "source": [
    "from sklearn.preprocessing import MultiLabelBinarizer"
   ]
  },
  {
   "cell_type": "code",
   "execution_count": 52,
   "metadata": {
    "ExecuteTime": {
     "end_time": "2019-09-09T06:53:34.235654Z",
     "start_time": "2019-09-09T06:53:34.175841Z"
    }
   },
   "outputs": [],
   "source": [
    "tech_binarizer = MultiLabelBinarizer(sparse_output=True)\n",
    "plat_binarizer = MultiLabelBinarizer(sparse_output=True)"
   ]
  },
  {
   "cell_type": "code",
   "execution_count": 53,
   "metadata": {
    "ExecuteTime": {
     "end_time": "2019-09-09T06:54:10.963487Z",
     "start_time": "2019-09-09T06:54:10.881194Z"
    }
   },
   "outputs": [
    {
     "data": {
      "text/plain": [
       "MultiLabelBinarizer(classes=None, sparse_output=True)"
      ]
     },
     "execution_count": 53,
     "metadata": {},
     "output_type": "execute_result"
    }
   ],
   "source": [
    "tech_binarizer.fit(chag_df['technologies'].tolist())\n",
    "plat_binarizer.fit(chag_df['platforms'].tolist())"
   ]
  },
  {
   "cell_type": "code",
   "execution_count": 58,
   "metadata": {
    "ExecuteTime": {
     "end_time": "2019-09-09T06:55:46.481101Z",
     "start_time": "2019-09-09T06:55:46.415729Z"
    }
   },
   "outputs": [
    {
     "data": {
      "text/plain": [
       "0                         [HTML]\n",
       "1    [Force.com, Salesforce.com]\n",
       "2                          [AWS]\n",
       "3                          [iOS]\n",
       "4                          [iOS]\n",
       "Name: platforms, dtype: object"
      ]
     },
     "execution_count": 58,
     "metadata": {},
     "output_type": "execute_result"
    }
   ],
   "source": [
    "chag_df['platforms'].head()"
   ]
  },
  {
   "cell_type": "code",
   "execution_count": 56,
   "metadata": {
    "ExecuteTime": {
     "end_time": "2019-09-09T06:55:13.333571Z",
     "start_time": "2019-09-09T06:55:13.272193Z"
    }
   },
   "outputs": [],
   "source": [
    "r = plat_binarizer.transform(chag_df['platforms'].head())"
   ]
  },
  {
   "cell_type": "code",
   "execution_count": 57,
   "metadata": {
    "ExecuteTime": {
     "end_time": "2019-09-09T06:55:21.580949Z",
     "start_time": "2019-09-09T06:55:21.519115Z"
    }
   },
   "outputs": [
    {
     "data": {
      "text/plain": [
       "array([[0, 0, 0, 0, 0, 0, 0, 0, 0, 0, 0, 0, 0, 0, 0, 0, 0, 1, 0, 0, 0, 0,\n",
       "        0, 0, 0, 0, 0, 0, 0, 0, 0, 0],\n",
       "       [0, 0, 0, 0, 0, 0, 0, 0, 0, 0, 0, 0, 1, 0, 0, 0, 0, 0, 0, 0, 0, 0,\n",
       "        0, 0, 0, 0, 0, 1, 0, 0, 0, 0],\n",
       "       [1, 0, 0, 0, 0, 0, 0, 0, 0, 0, 0, 0, 0, 0, 0, 0, 0, 0, 0, 0, 0, 0,\n",
       "        0, 0, 0, 0, 0, 0, 0, 0, 0, 0],\n",
       "       [0, 0, 0, 0, 0, 0, 0, 0, 0, 0, 0, 0, 0, 0, 0, 0, 0, 0, 0, 0, 0, 0,\n",
       "        0, 0, 0, 0, 0, 0, 0, 0, 0, 1],\n",
       "       [0, 0, 0, 0, 0, 0, 0, 0, 0, 0, 0, 0, 0, 0, 0, 0, 0, 0, 0, 0, 0, 0,\n",
       "        0, 0, 0, 0, 0, 0, 0, 0, 0, 1]])"
      ]
     },
     "execution_count": 57,
     "metadata": {},
     "output_type": "execute_result"
    }
   ],
   "source": [
    "r.toarray()"
   ]
  },
  {
   "cell_type": "code",
   "execution_count": 59,
   "metadata": {
    "ExecuteTime": {
     "end_time": "2019-09-09T06:56:57.585760Z",
     "start_time": "2019-09-09T06:56:57.519902Z"
    }
   },
   "outputs": [
    {
     "data": {
      "text/plain": [
       "<5x219 sparse matrix of type '<class 'numpy.int32'>'\n",
       "\twith 9 stored elements in Compressed Sparse Row format>"
      ]
     },
     "execution_count": 59,
     "metadata": {},
     "output_type": "execute_result"
    }
   ],
   "source": [
    "# Convert Technologies\n",
    "r = tech_binarizer.transform(chag_df['technologies'].head())\n",
    "r"
   ]
  },
  {
   "cell_type": "code",
   "execution_count": 60,
   "metadata": {
    "ExecuteTime": {
     "end_time": "2019-09-09T06:57:01.579789Z",
     "start_time": "2019-09-09T06:57:01.518986Z"
    }
   },
   "outputs": [
    {
     "data": {
      "text/plain": [
       "array([[0, 0, 0, ..., 0, 0, 0],\n",
       "       [0, 0, 0, ..., 0, 0, 0],\n",
       "       [0, 0, 0, ..., 0, 0, 0],\n",
       "       [0, 0, 0, ..., 0, 0, 0],\n",
       "       [0, 0, 0, ..., 0, 0, 0]])"
      ]
     },
     "execution_count": 60,
     "metadata": {},
     "output_type": "execute_result"
    }
   ],
   "source": [
    "r.toarray()"
   ]
  }
 ],
 "metadata": {
  "kernelspec": {
   "display_name": "recommender",
   "language": "python",
   "name": "recommender"
  },
  "language_info": {
   "codemirror_mode": {
    "name": "ipython",
    "version": 3
   },
   "file_extension": ".py",
   "mimetype": "text/x-python",
   "name": "python",
   "nbconvert_exporter": "python",
   "pygments_lexer": "ipython3",
   "version": "3.6.8"
  }
 },
 "nbformat": 4,
 "nbformat_minor": 4
}
