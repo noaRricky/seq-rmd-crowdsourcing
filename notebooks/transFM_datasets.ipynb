{
 "cells": [
  {
   "cell_type": "code",
   "execution_count": 1,
   "metadata": {
    "ExecuteTime": {
     "end_time": "2019-07-09T13:15:49.854851Z",
     "start_time": "2019-07-09T13:15:49.591435Z"
    }
   },
   "outputs": [],
   "source": [
    "%reload_ext autoreload\n",
    "%autoreload 2\n",
    "%matplotlib inline"
   ]
  },
  {
   "cell_type": "code",
   "execution_count": 2,
   "metadata": {
    "ExecuteTime": {
     "end_time": "2019-07-09T13:15:50.167623Z",
     "start_time": "2019-07-09T13:15:49.857917Z"
    }
   },
   "outputs": [],
   "source": [
    "import pandas as pd\n",
    "import scipy.sparse as sp\n",
    "import numpy as np\n",
    "from collections import defaultdict\n",
    "from typing import Dict, List\n",
    "import copy\n",
    "import os"
   ]
  },
  {
   "cell_type": "code",
   "execution_count": 3,
   "metadata": {
    "ExecuteTime": {
     "end_time": "2019-07-09T13:15:50.404227Z",
     "start_time": "2019-07-09T13:15:50.257552Z"
    }
   },
   "outputs": [
    {
     "data": {
      "text/html": [
       "<div>\n",
       "<style scoped>\n",
       "    .dataframe tbody tr th:only-of-type {\n",
       "        vertical-align: middle;\n",
       "    }\n",
       "\n",
       "    .dataframe tbody tr th {\n",
       "        vertical-align: top;\n",
       "    }\n",
       "\n",
       "    .dataframe thead th {\n",
       "        text-align: right;\n",
       "    }\n",
       "</style>\n",
       "<table border=\"1\" class=\"dataframe\">\n",
       "  <thead>\n",
       "    <tr style=\"text-align: right;\">\n",
       "      <th></th>\n",
       "      <th>user_id</th>\n",
       "      <th>item_id</th>\n",
       "      <th>rating</th>\n",
       "      <th>time</th>\n",
       "    </tr>\n",
       "  </thead>\n",
       "  <tbody>\n",
       "    <tr>\n",
       "      <th>0</th>\n",
       "      <td>196</td>\n",
       "      <td>242</td>\n",
       "      <td>3</td>\n",
       "      <td>881250949</td>\n",
       "    </tr>\n",
       "    <tr>\n",
       "      <th>1</th>\n",
       "      <td>186</td>\n",
       "      <td>302</td>\n",
       "      <td>3</td>\n",
       "      <td>891717742</td>\n",
       "    </tr>\n",
       "    <tr>\n",
       "      <th>2</th>\n",
       "      <td>22</td>\n",
       "      <td>377</td>\n",
       "      <td>1</td>\n",
       "      <td>878887116</td>\n",
       "    </tr>\n",
       "    <tr>\n",
       "      <th>3</th>\n",
       "      <td>244</td>\n",
       "      <td>51</td>\n",
       "      <td>2</td>\n",
       "      <td>880606923</td>\n",
       "    </tr>\n",
       "    <tr>\n",
       "      <th>4</th>\n",
       "      <td>166</td>\n",
       "      <td>346</td>\n",
       "      <td>1</td>\n",
       "      <td>886397596</td>\n",
       "    </tr>\n",
       "  </tbody>\n",
       "</table>\n",
       "</div>"
      ],
      "text/plain": [
       "   user_id  item_id  rating       time\n",
       "0      196      242       3  881250949\n",
       "1      186      302       3  891717742\n",
       "2       22      377       1  878887116\n",
       "3      244       51       2  880606923\n",
       "4      166      346       1  886397596"
      ]
     },
     "execution_count": 3,
     "metadata": {},
     "output_type": "execute_result"
    }
   ],
   "source": [
    "user_min = 5\n",
    "item_min = 5\n",
    "\n",
    "df = pd.read_csv(\"../inputs/ml-100k/u.data\",\n",
    "                 header=None,\n",
    "                 sep=\"\\t\",\n",
    "                 names=[\"user_id\", \"item_id\", \"rating\", \"time\"])\n",
    "df.head()"
   ]
  },
  {
   "cell_type": "code",
   "execution_count": 4,
   "metadata": {
    "ExecuteTime": {
     "end_time": "2019-07-09T13:15:50.978795Z",
     "start_time": "2019-07-09T13:15:50.913937Z"
    }
   },
   "outputs": [
    {
     "name": "stdout",
     "output_type": "stream",
     "text": [
      "First pass\n",
      "num_users = 943\n",
      "num_items = 1682\n",
      "df_shape  = (100000, 4)\n"
     ]
    }
   ],
   "source": [
    "print('First pass')\n",
    "print('num_users = {}'.format(df[\"user_id\"].unique().size))\n",
    "print('num_items = {}'.format(df[\"item_id\"].unique().size))\n",
    "print('df_shape  = {}'.format(df.shape))"
   ]
  },
  {
   "cell_type": "code",
   "execution_count": 5,
   "metadata": {
    "ExecuteTime": {
     "end_time": "2019-07-09T13:15:51.536459Z",
     "start_time": "2019-07-09T13:15:51.473597Z"
    }
   },
   "outputs": [
    {
     "data": {
      "text/plain": [
       "405    737\n",
       "655    685\n",
       "13     636\n",
       "450    540\n",
       "276    518\n",
       "Name: user_id, dtype: int64"
      ]
     },
     "execution_count": 5,
     "metadata": {},
     "output_type": "execute_result"
    }
   ],
   "source": [
    "user_counts = df[\"user_id\"].value_counts()\n",
    "user_counts.head()"
   ]
  },
  {
   "cell_type": "code",
   "execution_count": 6,
   "metadata": {
    "ExecuteTime": {
     "end_time": "2019-07-09T13:15:52.192876Z",
     "start_time": "2019-07-09T13:15:52.129018Z"
    }
   },
   "outputs": [
    {
     "data": {
      "text/plain": [
       "50     583\n",
       "258    509\n",
       "100    508\n",
       "181    507\n",
       "294    485\n",
       "Name: item_id, dtype: int64"
      ]
     },
     "execution_count": 6,
     "metadata": {},
     "output_type": "execute_result"
    }
   ],
   "source": [
    "item_counts = df[\"item_id\"].value_counts()\n",
    "item_counts.head()"
   ]
  },
  {
   "cell_type": "code",
   "execution_count": 7,
   "metadata": {
    "ExecuteTime": {
     "end_time": "2019-07-09T13:15:52.829194Z",
     "start_time": "2019-07-09T13:15:52.769354Z"
    }
   },
   "outputs": [
    {
     "data": {
      "text/plain": [
       "1663    1\n",
       "1507    1\n",
       "1201    1\n",
       "1603    1\n",
       "1577    1\n",
       "Name: item_id, dtype: int64"
      ]
     },
     "execution_count": 7,
     "metadata": {},
     "output_type": "execute_result"
    }
   ],
   "source": [
    "item_counts.sort_values().head()"
   ]
  },
  {
   "cell_type": "code",
   "execution_count": 8,
   "metadata": {
    "ExecuteTime": {
     "end_time": "2019-07-09T13:15:57.339709Z",
     "start_time": "2019-07-09T13:15:53.401457Z"
    }
   },
   "outputs": [],
   "source": [
    "df = df[df.apply(\n",
    "    lambda x: user_counts[x['user_id']] >= user_min, axis=1)]\n",
    "df = df[df.apply(\n",
    "    lambda x: item_counts[x['item_id']] >= item_min, axis=1)]"
   ]
  },
  {
   "cell_type": "code",
   "execution_count": 9,
   "metadata": {
    "ExecuteTime": {
     "end_time": "2019-07-09T13:15:58.703385Z",
     "start_time": "2019-07-09T13:15:58.641572Z"
    }
   },
   "outputs": [
    {
     "name": "stdout",
     "output_type": "stream",
     "text": [
      "Second pass\n",
      "num_users = 943\n",
      "num_items = 1349\n",
      "df_shape  = (99287, 4)\n"
     ]
    }
   ],
   "source": [
    "print('Second pass')\n",
    "print('num_users = {}'.format(df[\"user_id\"].unique().size))\n",
    "print('num_items = {}'.format(df[\"item_id\"].unique().size))\n",
    "print('df_shape  = {}'.format(df.shape))"
   ]
  },
  {
   "cell_type": "code",
   "execution_count": 10,
   "metadata": {
    "ExecuteTime": {
     "end_time": "2019-07-09T13:15:59.219856Z",
     "start_time": "2019-07-09T13:15:59.137051Z"
    }
   },
   "outputs": [
    {
     "name": "stdout",
     "output_type": "stream",
     "text": [
      "Normalizing temporal values...\n"
     ]
    }
   ],
   "source": [
    "print(\"Normalizing temporal values...\")\n",
    "mean_time = df[\"time\"].mean()\n",
    "std_time = df[\"time\"].std()\n",
    "df[\"time\"] = (df[\"time\"] - mean_time) / std_time"
   ]
  },
  {
   "cell_type": "code",
   "execution_count": 11,
   "metadata": {
    "ExecuteTime": {
     "end_time": "2019-07-09T13:15:59.778994Z",
     "start_time": "2019-07-09T13:15:59.722138Z"
    }
   },
   "outputs": [
    {
     "name": "stdout",
     "output_type": "stream",
     "text": [
      "Constructing datasets ...\n"
     ]
    }
   ],
   "source": [
    "print(\"Constructing datasets ...\")\n",
    "training_set = defaultdict(list)"
   ]
  },
  {
   "cell_type": "code",
   "execution_count": 12,
   "metadata": {
    "ExecuteTime": {
     "end_time": "2019-07-09T13:16:00.509402Z",
     "start_time": "2019-07-09T13:16:00.449464Z"
    }
   },
   "outputs": [],
   "source": [
    "num_users = 1\n",
    "num_items = 1\n",
    "item_to_idx = {}\n",
    "user_to_idx = {}\n",
    "idx_to_item = {}\n",
    "idx_to_user = {}"
   ]
  },
  {
   "cell_type": "code",
   "execution_count": 13,
   "metadata": {
    "ExecuteTime": {
     "end_time": "2019-07-09T13:16:01.734173Z",
     "start_time": "2019-07-09T13:16:01.521496Z"
    }
   },
   "outputs": [],
   "source": [
    "for row in df.itertuples():\n",
    "    # New item\n",
    "    if row.item_id not in item_to_idx:\n",
    "        item_to_idx[row.item_id] = num_items\n",
    "        idx_to_item[num_items] = row.item_id\n",
    "        num_items += 1\n",
    "\n",
    "    # New user\n",
    "    if row.user_id not in user_to_idx:\n",
    "        user_to_idx[row.user_id] = num_users\n",
    "        idx_to_user[num_users] = row.user_id\n",
    "        num_users += 1\n",
    "\n",
    "    # Converts all ratings to positive implicit feedback\n",
    "    training_set[user_to_idx[row.user_id]].append(\n",
    "        (item_to_idx[row.item_id], row.time))\n",
    "\n",
    "for user in training_set:\n",
    "    training_set[user].sort(key=lambda x: x[1])"
   ]
  },
  {
   "cell_type": "code",
   "execution_count": 14,
   "metadata": {
    "ExecuteTime": {
     "end_time": "2019-07-09T13:16:03.217109Z",
     "start_time": "2019-07-09T13:16:03.156299Z"
    }
   },
   "outputs": [
    {
     "data": {
      "text/plain": [
       "[(1, -0.42407753863047365),\n",
       " (290, -0.42407753863047365),\n",
       " (490, -0.42407753863047365),\n",
       " (381, -0.42406406001501273)]"
      ]
     },
     "execution_count": 14,
     "metadata": {},
     "output_type": "execute_result"
    }
   ],
   "source": [
    "training_set[1][:4]"
   ]
  },
  {
   "cell_type": "code",
   "execution_count": 15,
   "metadata": {
    "ExecuteTime": {
     "end_time": "2019-07-09T13:16:04.170998Z",
     "start_time": "2019-07-09T13:16:04.113176Z"
    }
   },
   "outputs": [
    {
     "data": {
      "text/plain": [
       "list"
      ]
     },
     "execution_count": 15,
     "metadata": {},
     "output_type": "execute_result"
    }
   ],
   "source": [
    "type(training_set[1])"
   ]
  },
  {
   "cell_type": "code",
   "execution_count": 16,
   "metadata": {
    "ExecuteTime": {
     "end_time": "2019-07-09T13:16:05.003400Z",
     "start_time": "2019-07-09T13:16:04.945552Z"
    }
   },
   "outputs": [],
   "source": [
    "training_times = {}\n",
    "val_set = {}\n",
    "val_times = {}\n",
    "test_set = {}\n",
    "test_times = {}"
   ]
  },
  {
   "cell_type": "code",
   "execution_count": 17,
   "metadata": {
    "ExecuteTime": {
     "end_time": "2019-07-09T13:16:09.430942Z",
     "start_time": "2019-07-09T13:16:09.137808Z"
    }
   },
   "outputs": [],
   "source": [
    "# Map from user to set of items for easy lookup\n",
    "item_set_per_user = {}\n",
    "for user in training_set:\n",
    "    if len(training_set[user]) < 3:\n",
    "        # Reviewed < 3 items, insert dummy values\n",
    "        test_set[user] = (-1, -1)\n",
    "        test_times[user] = (-1, -1)\n",
    "        val_set[user] = (-1, -1)\n",
    "        val_times[user] = (-1, -1)\n",
    "    else:\n",
    "        test_item, test_time = training_set[user].pop()\n",
    "        val_item, val_time = training_set[user].pop()\n",
    "        last_item, last_time = training_set[user][-1]\n",
    "        test_set[user] = (test_item, val_item)\n",
    "        test_times[user] = (test_time, val_time)\n",
    "        val_set[user] = (val_item, last_item)\n",
    "        val_times[user] = (val_time, last_time)\n",
    "\n",
    "    # Separate timestamps and create item set\n",
    "    training_times[user] = copy.deepcopy(training_set[user])\n",
    "    training_set[user] = list(map(lambda x: x[0], training_set[user]))\n",
    "    item_set_per_user[user] = set(training_set[user])\n",
    "\n",
    "num_train_events = 0\n",
    "for user in training_set:\n",
    "    num_train_events += len(training_set[user])"
   ]
  },
  {
   "cell_type": "code",
   "execution_count": 18,
   "metadata": {
    "ExecuteTime": {
     "end_time": "2019-07-09T13:16:09.949436Z",
     "start_time": "2019-07-09T13:16:09.889624Z"
    },
    "scrolled": false
   },
   "outputs": [
    {
     "data": {
      "text/plain": [
       "[(1, -0.42407753863047365),\n",
       " (290, -0.42407753863047365),\n",
       " (490, -0.42407753863047365),\n",
       " (381, -0.42406406001501273)]"
      ]
     },
     "execution_count": 18,
     "metadata": {},
     "output_type": "execute_result"
    }
   ],
   "source": [
    "training_times[1][:4]"
   ]
  },
  {
   "cell_type": "code",
   "execution_count": 20,
   "metadata": {
    "ExecuteTime": {
     "end_time": "2019-07-09T13:16:20.508318Z",
     "start_time": "2019-07-09T13:16:20.449477Z"
    }
   },
   "outputs": [
    {
     "data": {
      "text/plain": [
       "[1, 290, 490, 381]"
      ]
     },
     "execution_count": 20,
     "metadata": {},
     "output_type": "execute_result"
    }
   ],
   "source": [
    "training_set[1][:4]"
   ]
  },
  {
   "cell_type": "code",
   "execution_count": 23,
   "metadata": {
    "ExecuteTime": {
     "end_time": "2019-07-09T13:16:53.124279Z",
     "start_time": "2019-07-09T13:16:53.065436Z"
    }
   },
   "outputs": [
    {
     "data": {
      "text/plain": [
       "[1, 644, 390, 521]"
      ]
     },
     "execution_count": 23,
     "metadata": {},
     "output_type": "execute_result"
    }
   ],
   "source": [
    "list(item_set_per_user[1])[:4]"
   ]
  },
  {
   "cell_type": "code",
   "execution_count": 24,
   "metadata": {
    "ExecuteTime": {
     "end_time": "2019-07-09T13:17:08.970264Z",
     "start_time": "2019-07-09T13:17:08.905413Z"
    }
   },
   "outputs": [
    {
     "data": {
      "text/html": [
       "<div>\n",
       "<style scoped>\n",
       "    .dataframe tbody tr th:only-of-type {\n",
       "        vertical-align: middle;\n",
       "    }\n",
       "\n",
       "    .dataframe tbody tr th {\n",
       "        vertical-align: top;\n",
       "    }\n",
       "\n",
       "    .dataframe thead th {\n",
       "        text-align: right;\n",
       "    }\n",
       "</style>\n",
       "<table border=\"1\" class=\"dataframe\">\n",
       "  <thead>\n",
       "    <tr style=\"text-align: right;\">\n",
       "      <th></th>\n",
       "      <th>id</th>\n",
       "      <th>age</th>\n",
       "      <th>gender</th>\n",
       "      <th>occupation</th>\n",
       "      <th>zipCode</th>\n",
       "    </tr>\n",
       "  </thead>\n",
       "  <tbody>\n",
       "    <tr>\n",
       "      <th>0</th>\n",
       "      <td>1</td>\n",
       "      <td>24</td>\n",
       "      <td>M</td>\n",
       "      <td>technician</td>\n",
       "      <td>85711</td>\n",
       "    </tr>\n",
       "    <tr>\n",
       "      <th>1</th>\n",
       "      <td>2</td>\n",
       "      <td>53</td>\n",
       "      <td>F</td>\n",
       "      <td>other</td>\n",
       "      <td>94043</td>\n",
       "    </tr>\n",
       "    <tr>\n",
       "      <th>2</th>\n",
       "      <td>3</td>\n",
       "      <td>23</td>\n",
       "      <td>M</td>\n",
       "      <td>writer</td>\n",
       "      <td>32067</td>\n",
       "    </tr>\n",
       "    <tr>\n",
       "      <th>3</th>\n",
       "      <td>4</td>\n",
       "      <td>24</td>\n",
       "      <td>M</td>\n",
       "      <td>technician</td>\n",
       "      <td>43537</td>\n",
       "    </tr>\n",
       "    <tr>\n",
       "      <th>4</th>\n",
       "      <td>5</td>\n",
       "      <td>33</td>\n",
       "      <td>F</td>\n",
       "      <td>other</td>\n",
       "      <td>15213</td>\n",
       "    </tr>\n",
       "  </tbody>\n",
       "</table>\n",
       "</div>"
      ],
      "text/plain": [
       "   id  age gender  occupation zipCode\n",
       "0   1   24      M  technician   85711\n",
       "1   2   53      F       other   94043\n",
       "2   3   23      M      writer   32067\n",
       "3   4   24      M  technician   43537\n",
       "4   5   33      F       other   15213"
      ]
     },
     "execution_count": 24,
     "metadata": {},
     "output_type": "execute_result"
    }
   ],
   "source": [
    "user_df = pd.read_csv('../inputs/ml-100k/u.user', header=None, sep='|', names=['id','age', 'gender', 'occupation', 'zipCode'])\n",
    "user_df.head()"
   ]
  },
  {
   "cell_type": "code",
   "execution_count": 25,
   "metadata": {
    "ExecuteTime": {
     "end_time": "2019-07-09T13:17:17.330400Z",
     "start_time": "2019-07-09T13:17:17.265574Z"
    },
    "scrolled": true
   },
   "outputs": [
    {
     "data": {
      "text/html": [
       "<div>\n",
       "<style scoped>\n",
       "    .dataframe tbody tr th:only-of-type {\n",
       "        vertical-align: middle;\n",
       "    }\n",
       "\n",
       "    .dataframe tbody tr th {\n",
       "        vertical-align: top;\n",
       "    }\n",
       "\n",
       "    .dataframe thead th {\n",
       "        text-align: right;\n",
       "    }\n",
       "</style>\n",
       "<table border=\"1\" class=\"dataframe\">\n",
       "  <thead>\n",
       "    <tr style=\"text-align: right;\">\n",
       "      <th></th>\n",
       "      <th>age</th>\n",
       "      <th>gender</th>\n",
       "      <th>occupation</th>\n",
       "      <th>zipCode</th>\n",
       "    </tr>\n",
       "    <tr>\n",
       "      <th>id</th>\n",
       "      <th></th>\n",
       "      <th></th>\n",
       "      <th></th>\n",
       "      <th></th>\n",
       "    </tr>\n",
       "  </thead>\n",
       "  <tbody>\n",
       "    <tr>\n",
       "      <th>1</th>\n",
       "      <td>24</td>\n",
       "      <td>M</td>\n",
       "      <td>technician</td>\n",
       "      <td>85711</td>\n",
       "    </tr>\n",
       "    <tr>\n",
       "      <th>2</th>\n",
       "      <td>53</td>\n",
       "      <td>F</td>\n",
       "      <td>other</td>\n",
       "      <td>94043</td>\n",
       "    </tr>\n",
       "    <tr>\n",
       "      <th>3</th>\n",
       "      <td>23</td>\n",
       "      <td>M</td>\n",
       "      <td>writer</td>\n",
       "      <td>32067</td>\n",
       "    </tr>\n",
       "    <tr>\n",
       "      <th>4</th>\n",
       "      <td>24</td>\n",
       "      <td>M</td>\n",
       "      <td>technician</td>\n",
       "      <td>43537</td>\n",
       "    </tr>\n",
       "    <tr>\n",
       "      <th>5</th>\n",
       "      <td>33</td>\n",
       "      <td>F</td>\n",
       "      <td>other</td>\n",
       "      <td>15213</td>\n",
       "    </tr>\n",
       "  </tbody>\n",
       "</table>\n",
       "</div>"
      ],
      "text/plain": [
       "    age gender  occupation zipCode\n",
       "id                                \n",
       "1    24      M  technician   85711\n",
       "2    53      F       other   94043\n",
       "3    23      M      writer   32067\n",
       "4    24      M  technician   43537\n",
       "5    33      F       other   15213"
      ]
     },
     "execution_count": 25,
     "metadata": {},
     "output_type": "execute_result"
    }
   ],
   "source": [
    "user_df = user_df.set_index('id')\n",
    "user_df.head()"
   ]
  },
  {
   "cell_type": "code",
   "execution_count": 26,
   "metadata": {
    "ExecuteTime": {
     "end_time": "2019-07-09T13:21:16.665237Z",
     "start_time": "2019-07-09T13:21:16.601412Z"
    }
   },
   "outputs": [
    {
     "data": {
      "text/plain": [
       "[196, 186, 22, 244]"
      ]
     },
     "execution_count": 26,
     "metadata": {},
     "output_type": "execute_result"
    }
   ],
   "source": [
    "orig_user_indices = []\n",
    "for i in range(1, num_users):\n",
    "    orig_user_indices.append(idx_to_user[i])\n",
    "orig_user_indices[:4]"
   ]
  },
  {
   "cell_type": "code",
   "execution_count": 29,
   "metadata": {
    "ExecuteTime": {
     "end_time": "2019-07-09T13:25:46.714665Z",
     "start_time": "2019-07-09T13:25:46.641859Z"
    }
   },
   "outputs": [],
   "source": [
    "user_feats = user_df.loc[orig_user_indices].values"
   ]
  },
  {
   "cell_type": "code",
   "execution_count": null,
   "metadata": {},
   "outputs": [],
   "source": [
    "item_df = pd.read_csv('../inputs/ml-100k/u.item', sep='|', names=['id', 'title', 'date', 'url', 'unkown', 'action', ])"
   ]
  },
  {
   "cell_type": "code",
   "execution_count": 30,
   "metadata": {
    "ExecuteTime": {
     "end_time": "2019-07-09T13:30:55.850643Z",
     "start_time": "2019-07-09T13:30:55.785816Z"
    }
   },
   "outputs": [],
   "source": [
    "user_one_hot = sp.identity(num_users - 1).tocsr()\n",
    "item_one_hot = sp.identity(num_items - 1).tocsr()"
   ]
  },
  {
   "cell_type": "code",
   "execution_count": 31,
   "metadata": {
    "ExecuteTime": {
     "end_time": "2019-07-09T13:31:30.810240Z",
     "start_time": "2019-07-09T13:31:30.745379Z"
    }
   },
   "outputs": [],
   "source": [
    "# Sparse training matrices\n",
    "train_rows = []\n",
    "train_cols = []\n",
    "train_vals = []\n",
    "train_prev_vals = []\n",
    "train_times = []\n",
    "train_prev_times = []"
   ]
  },
  {
   "cell_type": "code",
   "execution_count": 35,
   "metadata": {
    "ExecuteTime": {
     "end_time": "2019-07-09T13:35:55.413663Z",
     "start_time": "2019-07-09T13:35:55.265434Z"
    }
   },
   "outputs": [],
   "source": [
    "for user in training_set:\n",
    "    for i in range(1, len(training_set[user])):\n",
    "        item = training_set[user][i]\n",
    "        item_prev = training_set[user][i - 1]\n",
    "        item_time = training_times[user][i]\n",
    "        item_prev_time = training_times[user][i - 1]\n",
    "        train_rows.append(user)\n",
    "        train_cols.append(item)\n",
    "        train_vals.append(1)\n",
    "        train_prev_vals.append(item_prev)\n",
    "        train_times.append(item_time[1])\n",
    "        train_prev_times.append(item_prev_time[1])"
   ]
  },
  {
   "cell_type": "code",
   "execution_count": 36,
   "metadata": {
    "ExecuteTime": {
     "end_time": "2019-07-09T13:45:55.426345Z",
     "start_time": "2019-07-09T13:45:55.288622Z"
    }
   },
   "outputs": [],
   "source": [
    "sp_train = sp.coo_matrix((train_vals, (train_rows, train_cols)),\n",
    "                         shape=(num_users, num_items))\n",
    "sp_train_prev = sp.coo_matrix((train_prev_vals, (train_rows, train_cols)),\n",
    "                              shape=(num_users, num_items))\n",
    "sp_train_times = sp.coo_matrix((train_times, (train_rows, train_cols)),\n",
    "                               shape=(num_users, num_items))\n",
    "sp_train_prev_times = sp.coo_matrix(\n",
    "    (train_prev_times, (train_rows, train_cols)), shape=(num_users, num_items))"
   ]
  },
  {
   "cell_type": "code",
   "execution_count": 41,
   "metadata": {
    "ExecuteTime": {
     "end_time": "2019-07-09T13:53:37.440501Z",
     "start_time": "2019-07-09T13:53:37.376646Z"
    }
   },
   "outputs": [],
   "source": [
    "user_indices = sp_train.row - 1\n",
    "prev_indices = sp_train_prev.data - 1\n",
    "pos_indices = sp_train.col - 1\n",
    "neg_indices = np.random.randint(1, sp_train.shape[1], size=len(sp_train.row), dtype=np.int32) - 1"
   ]
  },
  {
   "cell_type": "code",
   "execution_count": 44,
   "metadata": {
    "ExecuteTime": {
     "end_time": "2019-07-09T14:01:21.055069Z",
     "start_time": "2019-07-09T14:01:20.984255Z"
    }
   },
   "outputs": [],
   "source": [
    "# generate neg data\n",
    "data_range_list = np.arange(num_items)\n",
    "neg_data = data_range_list[~np.isin(data_range_list, pos_indices)]\n",
    "neg_indices = np.random.choice(neg_data, size=len(sp_train.row))"
   ]
  },
  {
   "cell_type": "code",
   "execution_count": 45,
   "metadata": {
    "ExecuteTime": {
     "end_time": "2019-07-09T14:01:26.689297Z",
     "start_time": "2019-07-09T14:01:26.623473Z"
    }
   },
   "outputs": [
    {
     "data": {
      "text/plain": [
       "(96458,)"
      ]
     },
     "execution_count": 45,
     "metadata": {},
     "output_type": "execute_result"
    }
   ],
   "source": [
    "neg_indices.shape"
   ]
  }
 ],
 "metadata": {
  "kernelspec": {
   "display_name": "recommender",
   "language": "python",
   "name": "recommender"
  },
  "language_info": {
   "codemirror_mode": {
    "name": "ipython",
    "version": 3
   },
   "file_extension": ".py",
   "mimetype": "text/x-python",
   "name": "python",
   "nbconvert_exporter": "python",
   "pygments_lexer": "ipython3",
   "version": "3.6.8"
  }
 },
 "nbformat": 4,
 "nbformat_minor": 2
}
