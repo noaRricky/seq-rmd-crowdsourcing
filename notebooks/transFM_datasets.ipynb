{
 "cells": [
  {
   "cell_type": "code",
   "execution_count": 3,
   "metadata": {
    "ExecuteTime": {
     "end_time": "2019-06-28T16:14:01.230090Z",
     "start_time": "2019-06-28T16:14:01.072848Z"
    }
   },
   "outputs": [],
   "source": [
    "%reload_ext autoreload\n",
    "%autoreload 2\n",
    "%matplotlib inline"
   ]
  },
  {
   "cell_type": "code",
   "execution_count": 5,
   "metadata": {
    "ExecuteTime": {
     "end_time": "2019-06-28T16:14:58.485903Z",
     "start_time": "2019-06-28T16:14:57.690077Z"
    }
   },
   "outputs": [
    {
     "ename": "ModuleNotFoundError",
     "evalue": "No module named 'scipy'",
     "output_type": "error",
     "traceback": [
      "\u001b[1;31m----------------------------------------------------\u001b[0m",
      "\u001b[1;31mModuleNotFoundError\u001b[0mTraceback (most recent call last)",
      "\u001b[1;32m<ipython-input-5-0b245a59ccab>\u001b[0m in \u001b[0;36m<module>\u001b[1;34m\u001b[0m\n\u001b[0;32m      1\u001b[0m \u001b[1;32mimport\u001b[0m \u001b[0mpandas\u001b[0m \u001b[1;32mas\u001b[0m \u001b[0mpd\u001b[0m\u001b[1;33m\u001b[0m\u001b[1;33m\u001b[0m\u001b[0m\n\u001b[1;32m----> 2\u001b[1;33m \u001b[1;32mimport\u001b[0m \u001b[0mscipy\u001b[0m\u001b[1;33m.\u001b[0m\u001b[0msparse\u001b[0m \u001b[1;32mas\u001b[0m \u001b[0msp\u001b[0m\u001b[1;33m\u001b[0m\u001b[1;33m\u001b[0m\u001b[0m\n\u001b[0m\u001b[0;32m      3\u001b[0m \u001b[1;32mimport\u001b[0m \u001b[0mnumpy\u001b[0m \u001b[1;32mas\u001b[0m \u001b[0mnp\u001b[0m\u001b[1;33m\u001b[0m\u001b[1;33m\u001b[0m\u001b[0m\n\u001b[0;32m      4\u001b[0m \u001b[1;32mfrom\u001b[0m \u001b[0mcollections\u001b[0m \u001b[1;32mimport\u001b[0m \u001b[0mdefaultdict\u001b[0m\u001b[1;33m\u001b[0m\u001b[1;33m\u001b[0m\u001b[0m\n\u001b[0;32m      5\u001b[0m \u001b[1;32mfrom\u001b[0m \u001b[0mtyping\u001b[0m \u001b[1;32mimport\u001b[0m \u001b[0mDict\u001b[0m\u001b[1;33m,\u001b[0m \u001b[0mList\u001b[0m\u001b[1;33m\u001b[0m\u001b[1;33m\u001b[0m\u001b[0m\n",
      "\u001b[1;31mModuleNotFoundError\u001b[0m: No module named 'scipy'"
     ]
    }
   ],
   "source": [
    "import pandas as pd\n",
    "import scipy.sparse as sp\n",
    "import numpy as np\n",
    "from collections import defaultdict\n",
    "from typing import Dict, List\n",
    "import copy\n",
    "import os"
   ]
  },
  {
   "cell_type": "code",
   "execution_count": 3,
   "metadata": {
    "ExecuteTime": {
     "end_time": "2019-06-28T16:04:31.815858Z",
     "start_time": "2019-06-28T16:04:31.676232Z"
    }
   },
   "outputs": [
    {
     "data": {
      "text/html": [
       "<div>\n",
       "<style scoped>\n",
       "    .dataframe tbody tr th:only-of-type {\n",
       "        vertical-align: middle;\n",
       "    }\n",
       "\n",
       "    .dataframe tbody tr th {\n",
       "        vertical-align: top;\n",
       "    }\n",
       "\n",
       "    .dataframe thead th {\n",
       "        text-align: right;\n",
       "    }\n",
       "</style>\n",
       "<table border=\"1\" class=\"dataframe\">\n",
       "  <thead>\n",
       "    <tr style=\"text-align: right;\">\n",
       "      <th></th>\n",
       "      <th>user_id</th>\n",
       "      <th>item_id</th>\n",
       "      <th>rating</th>\n",
       "      <th>time</th>\n",
       "    </tr>\n",
       "  </thead>\n",
       "  <tbody>\n",
       "    <tr>\n",
       "      <th>0</th>\n",
       "      <td>196</td>\n",
       "      <td>242</td>\n",
       "      <td>3</td>\n",
       "      <td>881250949</td>\n",
       "    </tr>\n",
       "    <tr>\n",
       "      <th>1</th>\n",
       "      <td>186</td>\n",
       "      <td>302</td>\n",
       "      <td>3</td>\n",
       "      <td>891717742</td>\n",
       "    </tr>\n",
       "    <tr>\n",
       "      <th>2</th>\n",
       "      <td>22</td>\n",
       "      <td>377</td>\n",
       "      <td>1</td>\n",
       "      <td>878887116</td>\n",
       "    </tr>\n",
       "    <tr>\n",
       "      <th>3</th>\n",
       "      <td>244</td>\n",
       "      <td>51</td>\n",
       "      <td>2</td>\n",
       "      <td>880606923</td>\n",
       "    </tr>\n",
       "    <tr>\n",
       "      <th>4</th>\n",
       "      <td>166</td>\n",
       "      <td>346</td>\n",
       "      <td>1</td>\n",
       "      <td>886397596</td>\n",
       "    </tr>\n",
       "  </tbody>\n",
       "</table>\n",
       "</div>"
      ],
      "text/plain": [
       "   user_id  item_id  rating       time\n",
       "0      196      242       3  881250949\n",
       "1      186      302       3  891717742\n",
       "2       22      377       1  878887116\n",
       "3      244       51       2  880606923\n",
       "4      166      346       1  886397596"
      ]
     },
     "execution_count": 3,
     "metadata": {},
     "output_type": "execute_result"
    }
   ],
   "source": [
    "user_min = 5\n",
    "item_min = 5\n",
    "\n",
    "df = pd.read_csv(\"../inputs/ml-100k/u.data\",\n",
    "                 header=None,\n",
    "                 sep=\"\\t\",\n",
    "                 names=[\"user_id\", \"item_id\", \"rating\", \"time\"])\n",
    "df.head()"
   ]
  },
  {
   "cell_type": "code",
   "execution_count": 4,
   "metadata": {
    "ExecuteTime": {
     "end_time": "2019-06-28T16:04:34.526231Z",
     "start_time": "2019-06-28T16:04:34.444655Z"
    }
   },
   "outputs": [
    {
     "name": "stdout",
     "output_type": "stream",
     "text": [
      "First pass\n",
      "num_users = 943\n",
      "num_items = 1682\n",
      "df_shape  = (100000, 4)\n"
     ]
    }
   ],
   "source": [
    "print('First pass')\n",
    "print('num_users = {}'.format(df[\"user_id\"].unique().size))\n",
    "print('num_items = {}'.format(df[\"item_id\"].unique().size))\n",
    "print('df_shape  = {}'.format(df.shape))"
   ]
  },
  {
   "cell_type": "code",
   "execution_count": 5,
   "metadata": {
    "ExecuteTime": {
     "end_time": "2019-06-28T16:04:35.388324Z",
     "start_time": "2019-06-28T16:04:35.306498Z"
    }
   },
   "outputs": [
    {
     "data": {
      "text/plain": [
       "405    737\n",
       "655    685\n",
       "13     636\n",
       "450    540\n",
       "276    518\n",
       "Name: user_id, dtype: int64"
      ]
     },
     "execution_count": 5,
     "metadata": {},
     "output_type": "execute_result"
    }
   ],
   "source": [
    "user_counts = df[\"user_id\"].value_counts()\n",
    "user_counts.head()"
   ]
  },
  {
   "cell_type": "code",
   "execution_count": 6,
   "metadata": {
    "ExecuteTime": {
     "end_time": "2019-06-28T16:04:37.982095Z",
     "start_time": "2019-06-28T16:04:37.899309Z"
    }
   },
   "outputs": [
    {
     "data": {
      "text/plain": [
       "50     583\n",
       "258    509\n",
       "100    508\n",
       "181    507\n",
       "294    485\n",
       "Name: item_id, dtype: int64"
      ]
     },
     "execution_count": 6,
     "metadata": {},
     "output_type": "execute_result"
    }
   ],
   "source": [
    "item_counts = df[\"item_id\"].value_counts()\n",
    "item_counts.head()"
   ]
  },
  {
   "cell_type": "code",
   "execution_count": 7,
   "metadata": {
    "ExecuteTime": {
     "end_time": "2019-06-28T16:04:40.757504Z",
     "start_time": "2019-06-28T16:04:40.681695Z"
    }
   },
   "outputs": [],
   "source": [
    "df = df[df[\"user_id\"] >= user_min]\n",
    "df = df[df[\"item_id\"] >= item_min]"
   ]
  },
  {
   "cell_type": "code",
   "execution_count": 8,
   "metadata": {
    "ExecuteTime": {
     "end_time": "2019-06-28T16:04:41.586068Z",
     "start_time": "2019-06-28T16:04:41.503324Z"
    }
   },
   "outputs": [
    {
     "name": "stdout",
     "output_type": "stream",
     "text": [
      "Second pass\n",
      "num_users = 939\n",
      "num_items = 1678\n",
      "df_shape  = (98711, 4)\n"
     ]
    }
   ],
   "source": [
    "print('Second pass')\n",
    "print('num_users = {}'.format(df[\"user_id\"].unique().size))\n",
    "print('num_items = {}'.format(df[\"item_id\"].unique().size))\n",
    "print('df_shape  = {}'.format(df.shape))"
   ]
  },
  {
   "cell_type": "code",
   "execution_count": 9,
   "metadata": {
    "ExecuteTime": {
     "end_time": "2019-06-28T16:04:43.756898Z",
     "start_time": "2019-06-28T16:04:43.649186Z"
    }
   },
   "outputs": [
    {
     "name": "stdout",
     "output_type": "stream",
     "text": [
      "Normalizing temporal values...\n"
     ]
    }
   ],
   "source": [
    "print(\"Normalizing temporal values...\")\n",
    "mean_time = df[\"time\"].mean()\n",
    "std_time = df[\"time\"].std()\n",
    "df[\"time\"] = (df[\"time\"] - mean_time) / std_time"
   ]
  },
  {
   "cell_type": "code",
   "execution_count": 10,
   "metadata": {
    "ExecuteTime": {
     "end_time": "2019-06-28T16:04:45.129590Z",
     "start_time": "2019-06-28T16:04:45.060770Z"
    }
   },
   "outputs": [
    {
     "name": "stdout",
     "output_type": "stream",
     "text": [
      "Constructing datasets ...\n"
     ]
    }
   ],
   "source": [
    "print(\"Constructing datasets ...\")\n",
    "training_set: Dict[int, List] = defaultdict(list)"
   ]
  },
  {
   "cell_type": "code",
   "execution_count": 11,
   "metadata": {
    "ExecuteTime": {
     "end_time": "2019-06-28T16:04:53.506012Z",
     "start_time": "2019-06-28T16:04:53.428215Z"
    }
   },
   "outputs": [],
   "source": [
    "num_users = 1\n",
    "num_items = 1\n",
    "item_to_idx: Dict[int, int] = {}\n",
    "user_to_idx: Dict[int, int] = {}\n",
    "idx_to_item: Dict[int, int] = {}\n",
    "idx_to_user: Dict[int, int] = {}"
   ]
  },
  {
   "cell_type": "code",
   "execution_count": 12,
   "metadata": {
    "ExecuteTime": {
     "end_time": "2019-06-28T16:05:00.286428Z",
     "start_time": "2019-06-28T16:04:59.964821Z"
    }
   },
   "outputs": [],
   "source": [
    "for row in df.itertuples():\n",
    "    # New item\n",
    "    if row.item_id not in item_to_idx:\n",
    "        item_to_idx[row.item_id] = num_items\n",
    "        idx_to_item[num_items] = row.item_id\n",
    "        num_items += 1\n",
    "\n",
    "    # New user\n",
    "    if row.user_id not in user_to_idx:\n",
    "        user_to_idx[row.user_id] = num_users\n",
    "        idx_to_user[num_users] = row.user_id\n",
    "        num_users += 1\n",
    "\n",
    "    # Converts all ratings to positive implicit feedback\n",
    "    training_set[user_to_idx[row.user_id]].append(\n",
    "        (item_to_idx[row.item_id], row.time))\n",
    "\n",
    "for user in training_set:\n",
    "    training_set[user].sort(key=lambda x: x[1])"
   ]
  },
  {
   "cell_type": "code",
   "execution_count": 16,
   "metadata": {
    "ExecuteTime": {
     "end_time": "2019-06-28T16:07:45.976905Z",
     "start_time": "2019-06-28T16:07:45.896120Z"
    }
   },
   "outputs": [
    {
     "data": {
      "text/plain": [
       "[(1, -0.42953650834330054),\n",
       " (282, -0.42953650834330054),\n",
       " (485, -0.42953650834330054),\n",
       " (373, -0.42952301844949925),\n",
       " (745, -0.42951852181823214),\n",
       " (460, -0.4295001605738915),\n",
       " (732, -0.4294756164615586),\n",
       " (11, -0.4294188464918115),\n",
       " (665, -0.4294143498605444),\n",
       " (1037, -0.42940666811546313),\n",
       " (643, -0.42939542653729534),\n",
       " (370, -0.429390555186756),\n",
       " (176, -0.429390555186756),\n",
       " (382, -0.4293858711958528),\n",
       " (658, -0.4293858711958528),\n",
       " (506, -0.4293858711958528),\n",
       " (425, -0.42937837681040764),\n",
       " (82, -0.42937837681040764),\n",
       " (322, -0.42937331810023216),\n",
       " (218, -0.42937331810023216),\n",
       " (314, -0.42937331810023216),\n",
       " (417, -0.4293691961882373),\n",
       " (91, -0.4293690088286012),\n",
       " (520, -0.42936526163587857),\n",
       " (481, -0.4293613270835199),\n",
       " (542, -0.4293562683733444),\n",
       " (284, -0.4293562683733444),\n",
       " (295, -0.42934821190899086),\n",
       " (85, -0.4293480245493547),\n",
       " (426, -0.4293480245493547),\n",
       " (358, -0.4293480245493547),\n",
       " (826, -0.4293364082519147),\n",
       " (432, -0.4293364082519147),\n",
       " (626, -0.4293291012261057),\n",
       " (650, -0.4293227309984773),\n",
       " (997, -0.42931898380575473),\n",
       " (938, -0.4293156113323044),\n",
       " (356, -0.4293073675083147),\n",
       " (515, -0.42928244867670956)]"
      ]
     },
     "execution_count": 16,
     "metadata": {},
     "output_type": "execute_result"
    }
   ],
   "source": [
    "training_set[1]"
   ]
  }
 ],
 "metadata": {
  "kernelspec": {
   "display_name": "recommender",
   "language": "python",
   "name": "recommender"
  },
  "language_info": {
   "codemirror_mode": {
    "name": "ipython",
    "version": 3
   },
   "file_extension": ".py",
   "mimetype": "text/x-python",
   "name": "python",
   "nbconvert_exporter": "python",
   "pygments_lexer": "ipython3",
   "version": "3.6.8"
  }
 },
 "nbformat": 4,
 "nbformat_minor": 2
}
