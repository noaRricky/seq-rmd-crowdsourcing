{
 "cells": [
  {
   "cell_type": "code",
   "execution_count": 1,
   "metadata": {
    "ExecuteTime": {
     "end_time": "2019-10-01T06:45:29.662492Z",
     "start_time": "2019-10-01T06:45:29.222564Z"
    }
   },
   "outputs": [],
   "source": [
    "%reload_ext autoreload\n",
    "%autoreload 2\n",
    "%matplotlib inline"
   ]
  },
  {
   "cell_type": "code",
   "execution_count": 2,
   "metadata": {
    "ExecuteTime": {
     "end_time": "2019-10-01T06:45:57.035740Z",
     "start_time": "2019-10-01T06:45:56.462514Z"
    }
   },
   "outputs": [],
   "source": [
    "import json\n",
    "\n",
    "import numpy as np\n",
    "import pandas as pd"
   ]
  },
  {
   "cell_type": "code",
   "execution_count": 3,
   "metadata": {
    "ExecuteTime": {
     "end_time": "2019-10-01T06:46:04.894864Z",
     "start_time": "2019-10-01T06:46:04.843865Z"
    }
   },
   "outputs": [
    {
     "name": "stdout",
     "output_type": "stream",
     "text": [
      "C:\\Projects\\python\\recommender\n"
     ]
    }
   ],
   "source": [
    "%cd ../../"
   ]
  },
  {
   "cell_type": "markdown",
   "metadata": {},
   "source": [
    "## Read json data\n",
    "\n",
    "- Read question\n",
    "- Read answer"
   ]
  },
  {
   "cell_type": "code",
   "execution_count": 4,
   "metadata": {
    "ExecuteTime": {
     "end_time": "2019-10-01T06:48:20.100729Z",
     "start_time": "2019-10-01T06:48:16.117716Z"
    }
   },
   "outputs": [
    {
     "data": {
      "text/plain": [
       "610769"
      ]
     },
     "execution_count": 4,
     "metadata": {},
     "output_type": "execute_result"
    }
   ],
   "source": [
    "questions = []\n",
    "\n",
    "with open(\"./inputs/stackoverflow/question.json\", mode='r', encoding='utf8') as fp:\n",
    "    for line in fp:\n",
    "        data = json.loads(line)\n",
    "        questions.append({\n",
    "            'questionId': data['questionId'],\n",
    "            'href': data['href']\n",
    "        })\n",
    "        \n",
    "len(questions)"
   ]
  },
  {
   "cell_type": "code",
   "execution_count": 5,
   "metadata": {
    "ExecuteTime": {
     "end_time": "2019-10-01T06:50:12.520904Z",
     "start_time": "2019-10-01T06:50:10.883015Z"
    }
   },
   "outputs": [
    {
     "data": {
      "text/plain": [
       "325247"
      ]
     },
     "execution_count": 5,
     "metadata": {},
     "output_type": "execute_result"
    }
   ],
   "source": [
    "answers = []\n",
    "\n",
    "with open(\"./inputs/stackoverflow/answer.json\", mode='r', encoding='utf') as fp:\n",
    "    for line in fp:\n",
    "        data = json.loads(line)\n",
    "        answers.append({\n",
    "            'questionId': data['queID'],\n",
    "            'answerId': data['ansID']\n",
    "        })\n",
    "        \n",
    "len(answers)"
   ]
  },
  {
   "cell_type": "markdown",
   "metadata": {},
   "source": [
    "## Generate dataframe"
   ]
  },
  {
   "cell_type": "code",
   "execution_count": 6,
   "metadata": {
    "ExecuteTime": {
     "end_time": "2019-10-01T06:50:37.910888Z",
     "start_time": "2019-10-01T06:50:37.252947Z"
    }
   },
   "outputs": [
    {
     "data": {
      "text/html": [
       "<div>\n",
       "<style scoped>\n",
       "    .dataframe tbody tr th:only-of-type {\n",
       "        vertical-align: middle;\n",
       "    }\n",
       "\n",
       "    .dataframe tbody tr th {\n",
       "        vertical-align: top;\n",
       "    }\n",
       "\n",
       "    .dataframe thead th {\n",
       "        text-align: right;\n",
       "    }\n",
       "</style>\n",
       "<table border=\"1\" class=\"dataframe\">\n",
       "  <thead>\n",
       "    <tr style=\"text-align: right;\">\n",
       "      <th></th>\n",
       "      <th>href</th>\n",
       "      <th>questionId</th>\n",
       "    </tr>\n",
       "  </thead>\n",
       "  <tbody>\n",
       "    <tr>\n",
       "      <th>0</th>\n",
       "      <td>/questions/57986702/c-sharp-get-mouse-button-i...</td>\n",
       "      <td>57986702</td>\n",
       "    </tr>\n",
       "    <tr>\n",
       "      <th>1</th>\n",
       "      <td>/questions/57986699/how-to-find-the-optimal-pa...</td>\n",
       "      <td>57986699</td>\n",
       "    </tr>\n",
       "    <tr>\n",
       "      <th>2</th>\n",
       "      <td>/questions/57986698/todays-date-filter-showing...</td>\n",
       "      <td>57986698</td>\n",
       "    </tr>\n",
       "    <tr>\n",
       "      <th>3</th>\n",
       "      <td>/questions/57986696/javascript-function-not-sh...</td>\n",
       "      <td>57986696</td>\n",
       "    </tr>\n",
       "    <tr>\n",
       "      <th>4</th>\n",
       "      <td>/questions/57986692/price-options-for-daily-we...</td>\n",
       "      <td>57986692</td>\n",
       "    </tr>\n",
       "  </tbody>\n",
       "</table>\n",
       "</div>"
      ],
      "text/plain": [
       "                                                href questionId\n",
       "0  /questions/57986702/c-sharp-get-mouse-button-i...   57986702\n",
       "1  /questions/57986699/how-to-find-the-optimal-pa...   57986699\n",
       "2  /questions/57986698/todays-date-filter-showing...   57986698\n",
       "3  /questions/57986696/javascript-function-not-sh...   57986696\n",
       "4  /questions/57986692/price-options-for-daily-we...   57986692"
      ]
     },
     "execution_count": 6,
     "metadata": {},
     "output_type": "execute_result"
    }
   ],
   "source": [
    "que_df = pd.DataFrame(questions)\n",
    "que_df.head()"
   ]
  },
  {
   "cell_type": "code",
   "execution_count": 7,
   "metadata": {
    "ExecuteTime": {
     "end_time": "2019-10-01T06:51:04.244386Z",
     "start_time": "2019-10-01T06:51:03.956853Z"
    }
   },
   "outputs": [
    {
     "data": {
      "text/html": [
       "<div>\n",
       "<style scoped>\n",
       "    .dataframe tbody tr th:only-of-type {\n",
       "        vertical-align: middle;\n",
       "    }\n",
       "\n",
       "    .dataframe tbody tr th {\n",
       "        vertical-align: top;\n",
       "    }\n",
       "\n",
       "    .dataframe thead th {\n",
       "        text-align: right;\n",
       "    }\n",
       "</style>\n",
       "<table border=\"1\" class=\"dataframe\">\n",
       "  <thead>\n",
       "    <tr style=\"text-align: right;\">\n",
       "      <th></th>\n",
       "      <th>answerId</th>\n",
       "      <th>questionId</th>\n",
       "    </tr>\n",
       "  </thead>\n",
       "  <tbody>\n",
       "    <tr>\n",
       "      <th>0</th>\n",
       "      <td>57984385</td>\n",
       "      <td>57983805</td>\n",
       "    </tr>\n",
       "    <tr>\n",
       "      <th>1</th>\n",
       "      <td>57983913</td>\n",
       "      <td>57982932</td>\n",
       "    </tr>\n",
       "    <tr>\n",
       "      <th>2</th>\n",
       "      <td>57983137</td>\n",
       "      <td>57982804</td>\n",
       "    </tr>\n",
       "    <tr>\n",
       "      <th>3</th>\n",
       "      <td>57984007</td>\n",
       "      <td>57982804</td>\n",
       "    </tr>\n",
       "    <tr>\n",
       "      <th>4</th>\n",
       "      <td>57982656</td>\n",
       "      <td>57982521</td>\n",
       "    </tr>\n",
       "  </tbody>\n",
       "</table>\n",
       "</div>"
      ],
      "text/plain": [
       "   answerId questionId\n",
       "0  57984385   57983805\n",
       "1  57983913   57982932\n",
       "2  57983137   57982804\n",
       "3  57984007   57982804\n",
       "4  57982656   57982521"
      ]
     },
     "execution_count": 7,
     "metadata": {},
     "output_type": "execute_result"
    }
   ],
   "source": [
    "ans_df = pd.DataFrame(answers)\n",
    "ans_df.head()"
   ]
  },
  {
   "cell_type": "markdown",
   "metadata": {},
   "source": [
    "## Generate not crawl questions"
   ]
  },
  {
   "cell_type": "code",
   "execution_count": 9,
   "metadata": {
    "ExecuteTime": {
     "end_time": "2019-10-01T06:55:25.693749Z",
     "start_time": "2019-10-01T06:55:25.645755Z"
    }
   },
   "outputs": [
    {
     "data": {
      "text/plain": [
       "(325247,)"
      ]
     },
     "execution_count": 9,
     "metadata": {},
     "output_type": "execute_result"
    }
   ],
   "source": [
    "que_id_series = ans_df.questionId\n",
    "que_id_series.shape"
   ]
  },
  {
   "cell_type": "code",
   "execution_count": 10,
   "metadata": {
    "ExecuteTime": {
     "end_time": "2019-10-01T06:55:30.248577Z",
     "start_time": "2019-10-01T06:55:30.157005Z"
    }
   },
   "outputs": [
    {
     "data": {
      "text/plain": [
       "(213306,)"
      ]
     },
     "execution_count": 10,
     "metadata": {},
     "output_type": "execute_result"
    }
   ],
   "source": [
    "que_id_series = que_id_series.unique()\n",
    "que_id_series.shape"
   ]
  },
  {
   "cell_type": "code",
   "execution_count": 11,
   "metadata": {
    "ExecuteTime": {
     "end_time": "2019-10-01T06:56:25.740994Z",
     "start_time": "2019-10-01T06:56:25.492964Z"
    }
   },
   "outputs": [
    {
     "data": {
      "text/plain": [
       "(211123, 2)"
      ]
     },
     "execution_count": 11,
     "metadata": {},
     "output_type": "execute_result"
    }
   ],
   "source": [
    "que_df[que_df['questionId'].isin(que_id_series)].shape"
   ]
  },
  {
   "cell_type": "code",
   "execution_count": 12,
   "metadata": {
    "ExecuteTime": {
     "end_time": "2019-10-01T06:58:02.444464Z",
     "start_time": "2019-10-01T06:58:02.221495Z"
    }
   },
   "outputs": [
    {
     "data": {
      "text/plain": [
       "(399646, 2)"
      ]
     },
     "execution_count": 12,
     "metadata": {},
     "output_type": "execute_result"
    }
   ],
   "source": [
    "not_crawl_df = que_df[~que_df['questionId'].isin(que_id_series)]\n",
    "not_crawl_df.shape"
   ]
  },
  {
   "cell_type": "code",
   "execution_count": 13,
   "metadata": {
    "ExecuteTime": {
     "end_time": "2019-10-01T06:58:24.243900Z",
     "start_time": "2019-10-01T06:58:23.260901Z"
    }
   },
   "outputs": [],
   "source": [
    "not_crawl_df.to_csv(\"./inputs/stackoverflow/crawl.csv\", index=False)"
   ]
  },
  {
   "cell_type": "code",
   "execution_count": null,
   "metadata": {},
   "outputs": [],
   "source": []
  }
 ],
 "metadata": {
  "kernelspec": {
   "display_name": "recommender",
   "language": "python",
   "name": "recommender"
  },
  "language_info": {
   "codemirror_mode": {
    "name": "ipython",
    "version": 3
   },
   "file_extension": ".py",
   "mimetype": "text/x-python",
   "name": "python",
   "nbconvert_exporter": "python",
   "pygments_lexer": "ipython3",
   "version": "3.6.8"
  }
 },
 "nbformat": 4,
 "nbformat_minor": 2
}
