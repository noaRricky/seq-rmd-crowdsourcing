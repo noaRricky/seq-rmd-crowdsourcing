{
 "cells": [
  {
   "cell_type": "code",
   "execution_count": 2,
   "metadata": {
    "ExecuteTime": {
     "end_time": "2019-09-23T08:19:23.654994Z",
     "start_time": "2019-09-23T08:19:23.392938Z"
    }
   },
   "outputs": [],
   "source": [
    "%reload_ext autoreload\n",
    "%autoreload 2\n",
    "%matplotlib inline"
   ]
  },
  {
   "cell_type": "code",
   "execution_count": 3,
   "metadata": {
    "ExecuteTime": {
     "end_time": "2019-09-23T08:19:24.461905Z",
     "start_time": "2019-09-23T08:19:24.151896Z"
    }
   },
   "outputs": [],
   "source": [
    "import json\n",
    "import re\n",
    "\n",
    "import numpy as np\n",
    "import pandas as pd\n",
    "import scipy.sparse as sp"
   ]
  },
  {
   "cell_type": "code",
   "execution_count": 4,
   "metadata": {
    "ExecuteTime": {
     "end_time": "2019-09-23T08:19:24.980833Z",
     "start_time": "2019-09-23T08:19:24.936834Z"
    }
   },
   "outputs": [
    {
     "name": "stdout",
     "output_type": "stream",
     "text": [
      "C:\\Projects\\python\\recommender\n"
     ]
    }
   ],
   "source": [
    "%cd ../../"
   ]
  },
  {
   "cell_type": "code",
   "execution_count": 5,
   "metadata": {
    "ExecuteTime": {
     "end_time": "2019-09-23T08:19:25.882300Z",
     "start_time": "2019-09-23T08:19:25.839301Z"
    }
   },
   "outputs": [],
   "source": [
    "DATA_BASE_PATH = './inputs/stackoverflow/'"
   ]
  },
  {
   "cell_type": "markdown",
   "metadata": {},
   "source": [
    "## Generate Question Dataframe"
   ]
  },
  {
   "cell_type": "code",
   "execution_count": 11,
   "metadata": {
    "ExecuteTime": {
     "end_time": "2019-09-23T02:05:11.732728Z",
     "start_time": "2019-09-23T02:05:07.756697Z"
    }
   },
   "outputs": [
    {
     "data": {
      "text/plain": [
       "610769"
      ]
     },
     "execution_count": 11,
     "metadata": {},
     "output_type": "execute_result"
    }
   ],
   "source": [
    "questions = []\n",
    "\n",
    "with open(\"./inputs/stackoverflow/question.json\", mode='r', encoding='utf8') as fp:\n",
    "    for line in fp:\n",
    "        data = json.loads(line)\n",
    "        questions.append({\n",
    "            'votes': data['votes'],\n",
    "            'answers': data['answers'],\n",
    "            'views': data['views'],\n",
    "            'questionId': data['questionId'],\n",
    "            'tags': data['tags'],\n",
    "            'time': data['time'],\n",
    "            'userId': data['userId'],\n",
    "            'userName': data['userName'],\n",
    "            'reputation': data['reputation']\n",
    "        })\n",
    "\n",
    "len(questions)"
   ]
  },
  {
   "cell_type": "code",
   "execution_count": 12,
   "metadata": {
    "ExecuteTime": {
     "end_time": "2019-09-23T02:05:42.236363Z",
     "start_time": "2019-09-23T02:05:41.221741Z"
    }
   },
   "outputs": [
    {
     "data": {
      "text/html": [
       "<div>\n",
       "<style scoped>\n",
       "    .dataframe tbody tr th:only-of-type {\n",
       "        vertical-align: middle;\n",
       "    }\n",
       "\n",
       "    .dataframe tbody tr th {\n",
       "        vertical-align: top;\n",
       "    }\n",
       "\n",
       "    .dataframe thead th {\n",
       "        text-align: right;\n",
       "    }\n",
       "</style>\n",
       "<table border=\"1\" class=\"dataframe\">\n",
       "  <thead>\n",
       "    <tr style=\"text-align: right;\">\n",
       "      <th></th>\n",
       "      <th>answers</th>\n",
       "      <th>questionId</th>\n",
       "      <th>reputation</th>\n",
       "      <th>tags</th>\n",
       "      <th>time</th>\n",
       "      <th>userId</th>\n",
       "      <th>userName</th>\n",
       "      <th>views</th>\n",
       "      <th>votes</th>\n",
       "    </tr>\n",
       "  </thead>\n",
       "  <tbody>\n",
       "    <tr>\n",
       "      <th>0</th>\n",
       "      <td>0</td>\n",
       "      <td>57986702</td>\n",
       "      <td>1</td>\n",
       "      <td>t-cñ t-windows t-user32</td>\n",
       "      <td>2019-09-18 06:55:05Z</td>\n",
       "      <td>12083331</td>\n",
       "      <td>alic</td>\n",
       "      <td>3 views</td>\n",
       "      <td>0</td>\n",
       "    </tr>\n",
       "    <tr>\n",
       "      <th>1</th>\n",
       "      <td>0</td>\n",
       "      <td>57986699</td>\n",
       "      <td>1</td>\n",
       "      <td>t-python t-graph</td>\n",
       "      <td>2019-09-18 06:54:54Z</td>\n",
       "      <td>12083319</td>\n",
       "      <td>fullmetal-alchem%c3%acst</td>\n",
       "      <td>4 views</td>\n",
       "      <td>0</td>\n",
       "    </tr>\n",
       "    <tr>\n",
       "      <th>2</th>\n",
       "      <td>0</td>\n",
       "      <td>57986698</td>\n",
       "      <td>37</td>\n",
       "      <td>t-google-bigquery t-tableau</td>\n",
       "      <td>2019-09-18 06:54:53Z</td>\n",
       "      <td>9203730</td>\n",
       "      <td>nikhil-boorla</td>\n",
       "      <td>3 views</td>\n",
       "      <td>0</td>\n",
       "    </tr>\n",
       "    <tr>\n",
       "      <th>3</th>\n",
       "      <td>0</td>\n",
       "      <td>57986696</td>\n",
       "      <td>558</td>\n",
       "      <td>t-javascript t-arrays</td>\n",
       "      <td>2019-09-18 06:54:45Z</td>\n",
       "      <td>1088949</td>\n",
       "      <td>kristina-bressler</td>\n",
       "      <td>15 views</td>\n",
       "      <td>0</td>\n",
       "    </tr>\n",
       "    <tr>\n",
       "      <th>4</th>\n",
       "      <td>0</td>\n",
       "      <td>57986692</td>\n",
       "      <td>31</td>\n",
       "      <td>t-javascript t-php t-jquery t-jquery-ui t-java...</td>\n",
       "      <td>2019-09-18 06:54:06Z</td>\n",
       "      <td>11977154</td>\n",
       "      <td>zain-shabir</td>\n",
       "      <td>11 views</td>\n",
       "      <td>0</td>\n",
       "    </tr>\n",
       "  </tbody>\n",
       "</table>\n",
       "</div>"
      ],
      "text/plain": [
       "  answers questionId reputation  \\\n",
       "0       0   57986702          1   \n",
       "1       0   57986699          1   \n",
       "2       0   57986698         37   \n",
       "3       0   57986696        558   \n",
       "4       0   57986692         31   \n",
       "\n",
       "                                                tags                  time  \\\n",
       "0                            t-cñ t-windows t-user32  2019-09-18 06:55:05Z   \n",
       "1                                   t-python t-graph  2019-09-18 06:54:54Z   \n",
       "2                        t-google-bigquery t-tableau  2019-09-18 06:54:53Z   \n",
       "3                              t-javascript t-arrays  2019-09-18 06:54:45Z   \n",
       "4  t-javascript t-php t-jquery t-jquery-ui t-java...  2019-09-18 06:54:06Z   \n",
       "\n",
       "     userId                  userName     views votes  \n",
       "0  12083331                      alic   3 views     0  \n",
       "1  12083319  fullmetal-alchem%c3%acst   4 views     0  \n",
       "2   9203730             nikhil-boorla   3 views     0  \n",
       "3   1088949         kristina-bressler  15 views     0  \n",
       "4  11977154               zain-shabir  11 views     0  "
      ]
     },
     "execution_count": 12,
     "metadata": {},
     "output_type": "execute_result"
    }
   ],
   "source": [
    "ques_df = pd.DataFrame(questions)\n",
    "ques_df.head()"
   ]
  },
  {
   "cell_type": "code",
   "execution_count": 13,
   "metadata": {
    "ExecuteTime": {
     "end_time": "2019-09-23T02:05:56.698242Z",
     "start_time": "2019-09-23T02:05:56.645246Z"
    }
   },
   "outputs": [
    {
     "data": {
      "text/plain": [
       "Index(['answers', 'questionId', 'reputation', 'tags', 'time', 'userId',\n",
       "       'userName', 'views', 'votes'],\n",
       "      dtype='object')"
      ]
     },
     "execution_count": 13,
     "metadata": {},
     "output_type": "execute_result"
    }
   ],
   "source": [
    "ques_df.columns"
   ]
  },
  {
   "cell_type": "code",
   "execution_count": 14,
   "metadata": {
    "ExecuteTime": {
     "end_time": "2019-09-23T02:12:46.973771Z",
     "start_time": "2019-09-23T02:12:46.811782Z"
    },
    "scrolled": true
   },
   "outputs": [
    {
     "data": {
      "text/html": [
       "<div>\n",
       "<style scoped>\n",
       "    .dataframe tbody tr th:only-of-type {\n",
       "        vertical-align: middle;\n",
       "    }\n",
       "\n",
       "    .dataframe tbody tr th {\n",
       "        vertical-align: top;\n",
       "    }\n",
       "\n",
       "    .dataframe thead th {\n",
       "        text-align: right;\n",
       "    }\n",
       "</style>\n",
       "<table border=\"1\" class=\"dataframe\">\n",
       "  <thead>\n",
       "    <tr style=\"text-align: right;\">\n",
       "      <th></th>\n",
       "      <th>questionId</th>\n",
       "      <th>answers</th>\n",
       "      <th>reputation</th>\n",
       "      <th>tags</th>\n",
       "      <th>views</th>\n",
       "      <th>time</th>\n",
       "      <th>userId</th>\n",
       "      <th>userName</th>\n",
       "      <th>votes</th>\n",
       "    </tr>\n",
       "  </thead>\n",
       "  <tbody>\n",
       "    <tr>\n",
       "      <th>0</th>\n",
       "      <td>57986702</td>\n",
       "      <td>0</td>\n",
       "      <td>1</td>\n",
       "      <td>t-cñ t-windows t-user32</td>\n",
       "      <td>3 views</td>\n",
       "      <td>2019-09-18 06:55:05Z</td>\n",
       "      <td>12083331</td>\n",
       "      <td>alic</td>\n",
       "      <td>0</td>\n",
       "    </tr>\n",
       "    <tr>\n",
       "      <th>1</th>\n",
       "      <td>57986699</td>\n",
       "      <td>0</td>\n",
       "      <td>1</td>\n",
       "      <td>t-python t-graph</td>\n",
       "      <td>4 views</td>\n",
       "      <td>2019-09-18 06:54:54Z</td>\n",
       "      <td>12083319</td>\n",
       "      <td>fullmetal-alchem%c3%acst</td>\n",
       "      <td>0</td>\n",
       "    </tr>\n",
       "    <tr>\n",
       "      <th>2</th>\n",
       "      <td>57986698</td>\n",
       "      <td>0</td>\n",
       "      <td>37</td>\n",
       "      <td>t-google-bigquery t-tableau</td>\n",
       "      <td>3 views</td>\n",
       "      <td>2019-09-18 06:54:53Z</td>\n",
       "      <td>9203730</td>\n",
       "      <td>nikhil-boorla</td>\n",
       "      <td>0</td>\n",
       "    </tr>\n",
       "    <tr>\n",
       "      <th>3</th>\n",
       "      <td>57986696</td>\n",
       "      <td>0</td>\n",
       "      <td>558</td>\n",
       "      <td>t-javascript t-arrays</td>\n",
       "      <td>15 views</td>\n",
       "      <td>2019-09-18 06:54:45Z</td>\n",
       "      <td>1088949</td>\n",
       "      <td>kristina-bressler</td>\n",
       "      <td>0</td>\n",
       "    </tr>\n",
       "    <tr>\n",
       "      <th>4</th>\n",
       "      <td>57986692</td>\n",
       "      <td>0</td>\n",
       "      <td>31</td>\n",
       "      <td>t-javascript t-php t-jquery t-jquery-ui t-java...</td>\n",
       "      <td>11 views</td>\n",
       "      <td>2019-09-18 06:54:06Z</td>\n",
       "      <td>11977154</td>\n",
       "      <td>zain-shabir</td>\n",
       "      <td>0</td>\n",
       "    </tr>\n",
       "  </tbody>\n",
       "</table>\n",
       "</div>"
      ],
      "text/plain": [
       "  questionId answers reputation  \\\n",
       "0   57986702       0          1   \n",
       "1   57986699       0          1   \n",
       "2   57986698       0         37   \n",
       "3   57986696       0        558   \n",
       "4   57986692       0         31   \n",
       "\n",
       "                                                tags     views  \\\n",
       "0                            t-cñ t-windows t-user32   3 views   \n",
       "1                                   t-python t-graph   4 views   \n",
       "2                        t-google-bigquery t-tableau   3 views   \n",
       "3                              t-javascript t-arrays  15 views   \n",
       "4  t-javascript t-php t-jquery t-jquery-ui t-java...  11 views   \n",
       "\n",
       "                   time    userId                  userName votes  \n",
       "0  2019-09-18 06:55:05Z  12083331                      alic     0  \n",
       "1  2019-09-18 06:54:54Z  12083319  fullmetal-alchem%c3%acst     0  \n",
       "2  2019-09-18 06:54:53Z   9203730             nikhil-boorla     0  \n",
       "3  2019-09-18 06:54:45Z   1088949         kristina-bressler     0  \n",
       "4  2019-09-18 06:54:06Z  11977154               zain-shabir     0  "
      ]
     },
     "execution_count": 14,
     "metadata": {},
     "output_type": "execute_result"
    }
   ],
   "source": [
    "ques_df = ques_df[[\n",
    "    'questionId', 'answers', 'reputation', 'tags', 'views', 'time', 'userId',\n",
    "    'userName', 'votes'\n",
    "]]\n",
    "ques_df.head()"
   ]
  },
  {
   "cell_type": "code",
   "execution_count": 49,
   "metadata": {
    "ExecuteTime": {
     "end_time": "2019-09-23T02:52:08.224957Z",
     "start_time": "2019-09-23T02:52:08.046367Z"
    }
   },
   "outputs": [],
   "source": [
    "# ques_df['reputation'] = ques_df['reputation'].str.replace(',', '')\n",
    "# ques_df['reputation'] = ques_df['reputation'].str.replace('k', '000')\n",
    "# ques_df['reputation'] = ques_df['reputation'].str.replace('\\.', '')\n",
    "# ques_df['views'] = ques_df['views'].str[:-6]"
   ]
  },
  {
   "cell_type": "code",
   "execution_count": 53,
   "metadata": {
    "ExecuteTime": {
     "end_time": "2019-09-23T02:55:30.178274Z",
     "start_time": "2019-09-23T02:55:30.126273Z"
    }
   },
   "outputs": [],
   "source": [
    "# ques_df['questionId'] = ques_df['questionId'].astype('int32')\n",
    "# ques_df['answers'] = ques_df['answers'].astype('int32')\n",
    "# ques_df['reputation'] = ques_df['reputation'].astype('int32')\n",
    "# ques_df['views'] = ques_df['views'].astype('int32')\n",
    "ques_df['votes'] = ques_df['votes'].astype('int32')"
   ]
  },
  {
   "cell_type": "code",
   "execution_count": 54,
   "metadata": {
    "ExecuteTime": {
     "end_time": "2019-09-23T02:55:37.185207Z",
     "start_time": "2019-09-23T02:55:37.133178Z"
    }
   },
   "outputs": [
    {
     "data": {
      "text/plain": [
       "questionId     int32\n",
       "answers        int32\n",
       "reputation     int32\n",
       "tags          object\n",
       "views          int32\n",
       "time          object\n",
       "userId        object\n",
       "userName      object\n",
       "votes          int32\n",
       "dtype: object"
      ]
     },
     "execution_count": 54,
     "metadata": {},
     "output_type": "execute_result"
    }
   ],
   "source": [
    "ques_df.dtypes"
   ]
  },
  {
   "cell_type": "code",
   "execution_count": 55,
   "metadata": {
    "ExecuteTime": {
     "end_time": "2019-09-23T02:55:54.080677Z",
     "start_time": "2019-09-23T02:55:50.597585Z"
    }
   },
   "outputs": [],
   "source": [
    "ques_df.to_csv(DATA_BASE_PATH + 'question.csv', index=False)"
   ]
  },
  {
   "cell_type": "markdown",
   "metadata": {},
   "source": [
    "## Generate Answer Dataframe"
   ]
  },
  {
   "cell_type": "code",
   "execution_count": 18,
   "metadata": {
    "ExecuteTime": {
     "end_time": "2019-09-23T02:18:36.856837Z",
     "start_time": "2019-09-23T02:18:35.324867Z"
    }
   },
   "outputs": [
    {
     "data": {
      "text/plain": [
       "325247"
      ]
     },
     "execution_count": 18,
     "metadata": {},
     "output_type": "execute_result"
    }
   ],
   "source": [
    "answers = []\n",
    "\n",
    "with open('./inputs/stackoverflow/answer.json', mode='r', encoding='utf8') as fp:\n",
    "    for line in fp:\n",
    "        data = json.loads(line)\n",
    "        answers.append({\n",
    "            'questionId': data['queID'],\n",
    "            'answerId': data['ansID'],\n",
    "            'userId': data['userID'],\n",
    "            'userName': data['userName'],\n",
    "            'time': data['time'],\n",
    "            'vote': data['vote'],\n",
    "            'score': data['score']\n",
    "        })\n",
    "        \n",
    "len(answers)"
   ]
  },
  {
   "cell_type": "code",
   "execution_count": 19,
   "metadata": {
    "ExecuteTime": {
     "end_time": "2019-09-23T02:24:06.465251Z",
     "start_time": "2019-09-23T02:24:06.319163Z"
    }
   },
   "outputs": [],
   "source": [
    "for ans in answers:\n",
    "    score = ans['score']\n",
    "    if score[-1] == 'k':\n",
    "        num = float(score[0:-1])\n",
    "        num *= 1000\n",
    "        ans['score'] = str(score)"
   ]
  },
  {
   "cell_type": "code",
   "execution_count": 30,
   "metadata": {
    "ExecuteTime": {
     "end_time": "2019-09-23T02:30:29.166434Z",
     "start_time": "2019-09-23T02:30:29.117435Z"
    }
   },
   "outputs": [
    {
     "name": "stdout",
     "output_type": "stream",
     "text": [
      "111000\n"
     ]
    }
   ],
   "source": [
    "s = '11.1k'\n",
    "s = re.sub(r'k', '000', s)\n",
    "s = re.sub(r'\\.', '', s)\n",
    "print(s)"
   ]
  },
  {
   "cell_type": "code",
   "execution_count": 31,
   "metadata": {
    "ExecuteTime": {
     "end_time": "2019-09-23T02:34:07.042544Z",
     "start_time": "2019-09-23T02:34:06.300890Z"
    }
   },
   "outputs": [],
   "source": [
    "for ans in answers:\n",
    "    score = ans['score']\n",
    "    score = re.sub(r'k', '000', score)\n",
    "    score = re.sub(r'\\.', '', score)\n",
    "    score = re.sub(r',', '', score)\n",
    "    ans['score'] = score"
   ]
  },
  {
   "cell_type": "code",
   "execution_count": 32,
   "metadata": {
    "ExecuteTime": {
     "end_time": "2019-09-23T02:34:09.024753Z",
     "start_time": "2019-09-23T02:34:08.565744Z"
    }
   },
   "outputs": [
    {
     "data": {
      "text/html": [
       "<div>\n",
       "<style scoped>\n",
       "    .dataframe tbody tr th:only-of-type {\n",
       "        vertical-align: middle;\n",
       "    }\n",
       "\n",
       "    .dataframe tbody tr th {\n",
       "        vertical-align: top;\n",
       "    }\n",
       "\n",
       "    .dataframe thead th {\n",
       "        text-align: right;\n",
       "    }\n",
       "</style>\n",
       "<table border=\"1\" class=\"dataframe\">\n",
       "  <thead>\n",
       "    <tr style=\"text-align: right;\">\n",
       "      <th></th>\n",
       "      <th>answerId</th>\n",
       "      <th>questionId</th>\n",
       "      <th>score</th>\n",
       "      <th>time</th>\n",
       "      <th>userId</th>\n",
       "      <th>userName</th>\n",
       "      <th>vote</th>\n",
       "    </tr>\n",
       "  </thead>\n",
       "  <tbody>\n",
       "    <tr>\n",
       "      <th>0</th>\n",
       "      <td>57984385</td>\n",
       "      <td>57983805</td>\n",
       "      <td>661</td>\n",
       "      <td>2019-09-18 02:50:28Z</td>\n",
       "      <td>3148642</td>\n",
       "      <td>casper</td>\n",
       "      <td>0</td>\n",
       "    </tr>\n",
       "    <tr>\n",
       "      <th>1</th>\n",
       "      <td>57983913</td>\n",
       "      <td>57982932</td>\n",
       "      <td>159000</td>\n",
       "      <td>2019-09-18 01:40:10Z</td>\n",
       "      <td>463319</td>\n",
       "      <td>twisty</td>\n",
       "      <td>0</td>\n",
       "    </tr>\n",
       "    <tr>\n",
       "      <th>2</th>\n",
       "      <td>57983137</td>\n",
       "      <td>57982804</td>\n",
       "      <td>44</td>\n",
       "      <td>2019-09-17 23:22:56Z</td>\n",
       "      <td>1388032</td>\n",
       "      <td>korzhyk</td>\n",
       "      <td>0</td>\n",
       "    </tr>\n",
       "    <tr>\n",
       "      <th>3</th>\n",
       "      <td>57984007</td>\n",
       "      <td>57982804</td>\n",
       "      <td>8</td>\n",
       "      <td>2019-09-18 01:54:52Z</td>\n",
       "      <td>11237189</td>\n",
       "      <td>danial-dehvan</td>\n",
       "      <td>0</td>\n",
       "    </tr>\n",
       "    <tr>\n",
       "      <th>4</th>\n",
       "      <td>57982656</td>\n",
       "      <td>57982521</td>\n",
       "      <td>257000</td>\n",
       "      <td>2019-09-17 22:10:21Z</td>\n",
       "      <td>132438</td>\n",
       "      <td>felipe-hoffa</td>\n",
       "      <td>0</td>\n",
       "    </tr>\n",
       "  </tbody>\n",
       "</table>\n",
       "</div>"
      ],
      "text/plain": [
       "   answerId questionId   score                  time    userId       userName  \\\n",
       "0  57984385   57983805     661  2019-09-18 02:50:28Z   3148642         casper   \n",
       "1  57983913   57982932  159000  2019-09-18 01:40:10Z    463319         twisty   \n",
       "2  57983137   57982804      44  2019-09-17 23:22:56Z   1388032        korzhyk   \n",
       "3  57984007   57982804       8  2019-09-18 01:54:52Z  11237189  danial-dehvan   \n",
       "4  57982656   57982521  257000  2019-09-17 22:10:21Z    132438   felipe-hoffa   \n",
       "\n",
       "  vote  \n",
       "0    0  \n",
       "1    0  \n",
       "2    0  \n",
       "3    0  \n",
       "4    0  "
      ]
     },
     "execution_count": 32,
     "metadata": {},
     "output_type": "execute_result"
    }
   ],
   "source": [
    "ans_df = pd.DataFrame(answers)\n",
    "ans_df.head()"
   ]
  },
  {
   "cell_type": "code",
   "execution_count": 36,
   "metadata": {
    "ExecuteTime": {
     "end_time": "2019-09-23T02:35:51.433900Z",
     "start_time": "2019-09-23T02:35:51.380901Z"
    }
   },
   "outputs": [],
   "source": [
    "ans_df['score'] = ans_df['score'].astype('int32')"
   ]
  },
  {
   "cell_type": "code",
   "execution_count": 34,
   "metadata": {
    "ExecuteTime": {
     "end_time": "2019-09-23T02:35:28.997593Z",
     "start_time": "2019-09-23T02:35:28.885255Z"
    }
   },
   "outputs": [],
   "source": [
    "ans_df['vote'] = ans_df['vote'].astype('int32')"
   ]
  },
  {
   "cell_type": "code",
   "execution_count": 37,
   "metadata": {
    "ExecuteTime": {
     "end_time": "2019-09-23T02:35:54.807311Z",
     "start_time": "2019-09-23T02:35:54.757284Z"
    }
   },
   "outputs": [
    {
     "data": {
      "text/plain": [
       "answerId      object\n",
       "questionId    object\n",
       "score          int32\n",
       "time          object\n",
       "userId        object\n",
       "userName      object\n",
       "vote           int32\n",
       "dtype: object"
      ]
     },
     "execution_count": 37,
     "metadata": {},
     "output_type": "execute_result"
    }
   ],
   "source": [
    "ans_df.dtypes"
   ]
  },
  {
   "cell_type": "code",
   "execution_count": 38,
   "metadata": {
    "ExecuteTime": {
     "end_time": "2019-09-23T02:36:05.182401Z",
     "start_time": "2019-09-23T02:36:05.029398Z"
    }
   },
   "outputs": [
    {
     "name": "stdout",
     "output_type": "stream",
     "text": [
      "<class 'pandas.core.frame.DataFrame'>\n",
      "RangeIndex: 325247 entries, 0 to 325246\n",
      "Data columns (total 7 columns):\n",
      "answerId      325247 non-null object\n",
      "questionId    325247 non-null object\n",
      "score         325247 non-null int32\n",
      "time          325247 non-null object\n",
      "userId        325247 non-null object\n",
      "userName      325247 non-null object\n",
      "vote          325247 non-null int32\n",
      "dtypes: int32(2), object(5)\n",
      "memory usage: 14.9+ MB\n"
     ]
    }
   ],
   "source": [
    "ans_df.info()"
   ]
  },
  {
   "cell_type": "code",
   "execution_count": 39,
   "metadata": {
    "ExecuteTime": {
     "end_time": "2019-09-23T02:36:44.871557Z",
     "start_time": "2019-09-23T02:36:43.693515Z"
    }
   },
   "outputs": [],
   "source": [
    "ans_df.to_csv(\"./inputs/stackoverflow/answer.csv\", index=False)"
   ]
  },
  {
   "cell_type": "markdown",
   "metadata": {},
   "source": [
    "## Generate User Dataframe"
   ]
  },
  {
   "cell_type": "code",
   "execution_count": 73,
   "metadata": {
    "ExecuteTime": {
     "end_time": "2019-09-23T03:32:14.836338Z",
     "start_time": "2019-09-23T03:32:14.774336Z"
    }
   },
   "outputs": [
    {
     "data": {
      "text/html": [
       "<div>\n",
       "<style scoped>\n",
       "    .dataframe tbody tr th:only-of-type {\n",
       "        vertical-align: middle;\n",
       "    }\n",
       "\n",
       "    .dataframe tbody tr th {\n",
       "        vertical-align: top;\n",
       "    }\n",
       "\n",
       "    .dataframe thead th {\n",
       "        text-align: right;\n",
       "    }\n",
       "</style>\n",
       "<table border=\"1\" class=\"dataframe\">\n",
       "  <thead>\n",
       "    <tr style=\"text-align: right;\">\n",
       "      <th></th>\n",
       "      <th>userId</th>\n",
       "      <th>userName</th>\n",
       "      <th>score</th>\n",
       "    </tr>\n",
       "  </thead>\n",
       "  <tbody>\n",
       "    <tr>\n",
       "      <th>0</th>\n",
       "      <td>3148642</td>\n",
       "      <td>casper</td>\n",
       "      <td>661</td>\n",
       "    </tr>\n",
       "    <tr>\n",
       "      <th>1</th>\n",
       "      <td>463319</td>\n",
       "      <td>twisty</td>\n",
       "      <td>159000</td>\n",
       "    </tr>\n",
       "    <tr>\n",
       "      <th>2</th>\n",
       "      <td>1388032</td>\n",
       "      <td>korzhyk</td>\n",
       "      <td>44</td>\n",
       "    </tr>\n",
       "    <tr>\n",
       "      <th>3</th>\n",
       "      <td>11237189</td>\n",
       "      <td>danial-dehvan</td>\n",
       "      <td>8</td>\n",
       "    </tr>\n",
       "    <tr>\n",
       "      <th>4</th>\n",
       "      <td>132438</td>\n",
       "      <td>felipe-hoffa</td>\n",
       "      <td>257000</td>\n",
       "    </tr>\n",
       "  </tbody>\n",
       "</table>\n",
       "</div>"
      ],
      "text/plain": [
       "     userId       userName   score\n",
       "0   3148642         casper     661\n",
       "1    463319         twisty  159000\n",
       "2   1388032        korzhyk      44\n",
       "3  11237189  danial-dehvan       8\n",
       "4    132438   felipe-hoffa  257000"
      ]
     },
     "execution_count": 73,
     "metadata": {},
     "output_type": "execute_result"
    }
   ],
   "source": [
    "user_df = ans_df[['userId', 'userName', 'score']]\n",
    "user_df.head()"
   ]
  },
  {
   "cell_type": "code",
   "execution_count": 74,
   "metadata": {
    "ExecuteTime": {
     "end_time": "2019-09-23T03:32:17.667560Z",
     "start_time": "2019-09-23T03:32:17.614044Z"
    }
   },
   "outputs": [
    {
     "data": {
      "text/plain": [
       "(325247, 3)"
      ]
     },
     "execution_count": 74,
     "metadata": {},
     "output_type": "execute_result"
    }
   ],
   "source": [
    "user_df.shape"
   ]
  },
  {
   "cell_type": "code",
   "execution_count": 75,
   "metadata": {
    "ExecuteTime": {
     "end_time": "2019-09-23T03:32:23.333213Z",
     "start_time": "2019-09-23T03:32:23.254212Z"
    }
   },
   "outputs": [
    {
     "data": {
      "text/plain": [
       "(96700, 3)"
      ]
     },
     "execution_count": 75,
     "metadata": {},
     "output_type": "execute_result"
    }
   ],
   "source": [
    "user_df = user_df.drop_duplicates(subset=['userId'])\n",
    "user_df.shape"
   ]
  },
  {
   "cell_type": "code",
   "execution_count": 76,
   "metadata": {
    "ExecuteTime": {
     "end_time": "2019-09-23T03:33:15.821804Z",
     "start_time": "2019-09-23T03:33:15.533733Z"
    }
   },
   "outputs": [],
   "source": [
    "user_df.to_csv(\"./inputs/stackoverflow/user.csv\", index=False)"
   ]
  },
  {
   "cell_type": "markdown",
   "metadata": {},
   "source": [
    "### Drop user info in question dataframe"
   ]
  },
  {
   "cell_type": "code",
   "execution_count": 10,
   "metadata": {
    "ExecuteTime": {
     "end_time": "2019-09-23T07:04:07.450093Z",
     "start_time": "2019-09-23T07:04:07.366064Z"
    }
   },
   "outputs": [
    {
     "data": {
      "text/html": [
       "<div>\n",
       "<style scoped>\n",
       "    .dataframe tbody tr th:only-of-type {\n",
       "        vertical-align: middle;\n",
       "    }\n",
       "\n",
       "    .dataframe tbody tr th {\n",
       "        vertical-align: top;\n",
       "    }\n",
       "\n",
       "    .dataframe thead th {\n",
       "        text-align: right;\n",
       "    }\n",
       "</style>\n",
       "<table border=\"1\" class=\"dataframe\">\n",
       "  <thead>\n",
       "    <tr style=\"text-align: right;\">\n",
       "      <th></th>\n",
       "      <th>questionId</th>\n",
       "      <th>answers</th>\n",
       "      <th>tags</th>\n",
       "      <th>views</th>\n",
       "      <th>time</th>\n",
       "      <th>userId</th>\n",
       "      <th>votes</th>\n",
       "    </tr>\n",
       "  </thead>\n",
       "  <tbody>\n",
       "    <tr>\n",
       "      <th>0</th>\n",
       "      <td>57986702</td>\n",
       "      <td>0</td>\n",
       "      <td>t-cñ t-windows t-user32</td>\n",
       "      <td>3</td>\n",
       "      <td>2019-09-18 06:55:05Z</td>\n",
       "      <td>12083331</td>\n",
       "      <td>0</td>\n",
       "    </tr>\n",
       "    <tr>\n",
       "      <th>1</th>\n",
       "      <td>57986699</td>\n",
       "      <td>0</td>\n",
       "      <td>t-python t-graph</td>\n",
       "      <td>4</td>\n",
       "      <td>2019-09-18 06:54:54Z</td>\n",
       "      <td>12083319</td>\n",
       "      <td>0</td>\n",
       "    </tr>\n",
       "    <tr>\n",
       "      <th>2</th>\n",
       "      <td>57986698</td>\n",
       "      <td>0</td>\n",
       "      <td>t-google-bigquery t-tableau</td>\n",
       "      <td>3</td>\n",
       "      <td>2019-09-18 06:54:53Z</td>\n",
       "      <td>9203730</td>\n",
       "      <td>0</td>\n",
       "    </tr>\n",
       "    <tr>\n",
       "      <th>3</th>\n",
       "      <td>57986696</td>\n",
       "      <td>0</td>\n",
       "      <td>t-javascript t-arrays</td>\n",
       "      <td>15</td>\n",
       "      <td>2019-09-18 06:54:45Z</td>\n",
       "      <td>1088949</td>\n",
       "      <td>0</td>\n",
       "    </tr>\n",
       "    <tr>\n",
       "      <th>4</th>\n",
       "      <td>57986692</td>\n",
       "      <td>0</td>\n",
       "      <td>t-javascript t-php t-jquery t-jquery-ui t-java...</td>\n",
       "      <td>11</td>\n",
       "      <td>2019-09-18 06:54:06Z</td>\n",
       "      <td>11977154</td>\n",
       "      <td>0</td>\n",
       "    </tr>\n",
       "  </tbody>\n",
       "</table>\n",
       "</div>"
      ],
      "text/plain": [
       "   questionId  answers                                               tags  \\\n",
       "0    57986702        0                            t-cñ t-windows t-user32   \n",
       "1    57986699        0                                   t-python t-graph   \n",
       "2    57986698        0                        t-google-bigquery t-tableau   \n",
       "3    57986696        0                              t-javascript t-arrays   \n",
       "4    57986692        0  t-javascript t-php t-jquery t-jquery-ui t-java...   \n",
       "\n",
       "   views                  time    userId  votes  \n",
       "0      3  2019-09-18 06:55:05Z  12083331      0  \n",
       "1      4  2019-09-18 06:54:54Z  12083319      0  \n",
       "2      3  2019-09-18 06:54:53Z   9203730      0  \n",
       "3     15  2019-09-18 06:54:45Z   1088949      0  \n",
       "4     11  2019-09-18 06:54:06Z  11977154      0  "
      ]
     },
     "execution_count": 10,
     "metadata": {},
     "output_type": "execute_result"
    }
   ],
   "source": [
    "ques_df = ques_df.drop(columns=['userName', 'reputation'])\n",
    "ques_df.head()"
   ]
  },
  {
   "cell_type": "code",
   "execution_count": 12,
   "metadata": {
    "ExecuteTime": {
     "end_time": "2019-09-23T07:05:42.229114Z",
     "start_time": "2019-09-23T07:05:42.146084Z"
    }
   },
   "outputs": [
    {
     "data": {
      "text/html": [
       "<div>\n",
       "<style scoped>\n",
       "    .dataframe tbody tr th:only-of-type {\n",
       "        vertical-align: middle;\n",
       "    }\n",
       "\n",
       "    .dataframe tbody tr th {\n",
       "        vertical-align: top;\n",
       "    }\n",
       "\n",
       "    .dataframe thead th {\n",
       "        text-align: right;\n",
       "    }\n",
       "</style>\n",
       "<table border=\"1\" class=\"dataframe\">\n",
       "  <thead>\n",
       "    <tr style=\"text-align: right;\">\n",
       "      <th></th>\n",
       "      <th>questionId</th>\n",
       "      <th>userId</th>\n",
       "      <th>answers</th>\n",
       "      <th>tags</th>\n",
       "      <th>views</th>\n",
       "      <th>time</th>\n",
       "      <th>votes</th>\n",
       "    </tr>\n",
       "  </thead>\n",
       "  <tbody>\n",
       "    <tr>\n",
       "      <th>0</th>\n",
       "      <td>57986702</td>\n",
       "      <td>12083331</td>\n",
       "      <td>0</td>\n",
       "      <td>t-cñ t-windows t-user32</td>\n",
       "      <td>3</td>\n",
       "      <td>2019-09-18 06:55:05Z</td>\n",
       "      <td>0</td>\n",
       "    </tr>\n",
       "    <tr>\n",
       "      <th>1</th>\n",
       "      <td>57986699</td>\n",
       "      <td>12083319</td>\n",
       "      <td>0</td>\n",
       "      <td>t-python t-graph</td>\n",
       "      <td>4</td>\n",
       "      <td>2019-09-18 06:54:54Z</td>\n",
       "      <td>0</td>\n",
       "    </tr>\n",
       "    <tr>\n",
       "      <th>2</th>\n",
       "      <td>57986698</td>\n",
       "      <td>9203730</td>\n",
       "      <td>0</td>\n",
       "      <td>t-google-bigquery t-tableau</td>\n",
       "      <td>3</td>\n",
       "      <td>2019-09-18 06:54:53Z</td>\n",
       "      <td>0</td>\n",
       "    </tr>\n",
       "    <tr>\n",
       "      <th>3</th>\n",
       "      <td>57986696</td>\n",
       "      <td>1088949</td>\n",
       "      <td>0</td>\n",
       "      <td>t-javascript t-arrays</td>\n",
       "      <td>15</td>\n",
       "      <td>2019-09-18 06:54:45Z</td>\n",
       "      <td>0</td>\n",
       "    </tr>\n",
       "    <tr>\n",
       "      <th>4</th>\n",
       "      <td>57986692</td>\n",
       "      <td>11977154</td>\n",
       "      <td>0</td>\n",
       "      <td>t-javascript t-php t-jquery t-jquery-ui t-java...</td>\n",
       "      <td>11</td>\n",
       "      <td>2019-09-18 06:54:06Z</td>\n",
       "      <td>0</td>\n",
       "    </tr>\n",
       "  </tbody>\n",
       "</table>\n",
       "</div>"
      ],
      "text/plain": [
       "   questionId    userId  answers  \\\n",
       "0    57986702  12083331        0   \n",
       "1    57986699  12083319        0   \n",
       "2    57986698   9203730        0   \n",
       "3    57986696   1088949        0   \n",
       "4    57986692  11977154        0   \n",
       "\n",
       "                                                tags  views  \\\n",
       "0                            t-cñ t-windows t-user32      3   \n",
       "1                                   t-python t-graph      4   \n",
       "2                        t-google-bigquery t-tableau      3   \n",
       "3                              t-javascript t-arrays     15   \n",
       "4  t-javascript t-php t-jquery t-jquery-ui t-java...     11   \n",
       "\n",
       "                   time  votes  \n",
       "0  2019-09-18 06:55:05Z      0  \n",
       "1  2019-09-18 06:54:54Z      0  \n",
       "2  2019-09-18 06:54:53Z      0  \n",
       "3  2019-09-18 06:54:45Z      0  \n",
       "4  2019-09-18 06:54:06Z      0  "
      ]
     },
     "execution_count": 12,
     "metadata": {},
     "output_type": "execute_result"
    }
   ],
   "source": [
    "ques_df = ques_df[['questionId',  'userId', 'answers', 'tags', 'views', 'time', 'votes']]\n",
    "ques_df.head()"
   ]
  },
  {
   "cell_type": "code",
   "execution_count": 14,
   "metadata": {
    "ExecuteTime": {
     "end_time": "2019-09-23T07:06:55.682356Z",
     "start_time": "2019-09-23T07:06:55.569357Z"
    }
   },
   "outputs": [
    {
     "data": {
      "text/html": [
       "<div>\n",
       "<style scoped>\n",
       "    .dataframe tbody tr th:only-of-type {\n",
       "        vertical-align: middle;\n",
       "    }\n",
       "\n",
       "    .dataframe tbody tr th {\n",
       "        vertical-align: top;\n",
       "    }\n",
       "\n",
       "    .dataframe thead th {\n",
       "        text-align: right;\n",
       "    }\n",
       "</style>\n",
       "<table border=\"1\" class=\"dataframe\">\n",
       "  <thead>\n",
       "    <tr style=\"text-align: right;\">\n",
       "      <th></th>\n",
       "      <th>questionId</th>\n",
       "      <th>askUserId</th>\n",
       "      <th>answers</th>\n",
       "      <th>tags</th>\n",
       "      <th>views</th>\n",
       "      <th>time</th>\n",
       "      <th>votes</th>\n",
       "    </tr>\n",
       "  </thead>\n",
       "  <tbody>\n",
       "    <tr>\n",
       "      <th>0</th>\n",
       "      <td>57986702</td>\n",
       "      <td>12083331</td>\n",
       "      <td>0</td>\n",
       "      <td>t-cñ t-windows t-user32</td>\n",
       "      <td>3</td>\n",
       "      <td>2019-09-18 06:55:05Z</td>\n",
       "      <td>0</td>\n",
       "    </tr>\n",
       "    <tr>\n",
       "      <th>1</th>\n",
       "      <td>57986699</td>\n",
       "      <td>12083319</td>\n",
       "      <td>0</td>\n",
       "      <td>t-python t-graph</td>\n",
       "      <td>4</td>\n",
       "      <td>2019-09-18 06:54:54Z</td>\n",
       "      <td>0</td>\n",
       "    </tr>\n",
       "    <tr>\n",
       "      <th>2</th>\n",
       "      <td>57986698</td>\n",
       "      <td>9203730</td>\n",
       "      <td>0</td>\n",
       "      <td>t-google-bigquery t-tableau</td>\n",
       "      <td>3</td>\n",
       "      <td>2019-09-18 06:54:53Z</td>\n",
       "      <td>0</td>\n",
       "    </tr>\n",
       "    <tr>\n",
       "      <th>3</th>\n",
       "      <td>57986696</td>\n",
       "      <td>1088949</td>\n",
       "      <td>0</td>\n",
       "      <td>t-javascript t-arrays</td>\n",
       "      <td>15</td>\n",
       "      <td>2019-09-18 06:54:45Z</td>\n",
       "      <td>0</td>\n",
       "    </tr>\n",
       "    <tr>\n",
       "      <th>4</th>\n",
       "      <td>57986692</td>\n",
       "      <td>11977154</td>\n",
       "      <td>0</td>\n",
       "      <td>t-javascript t-php t-jquery t-jquery-ui t-java...</td>\n",
       "      <td>11</td>\n",
       "      <td>2019-09-18 06:54:06Z</td>\n",
       "      <td>0</td>\n",
       "    </tr>\n",
       "  </tbody>\n",
       "</table>\n",
       "</div>"
      ],
      "text/plain": [
       "   questionId  askUserId  answers  \\\n",
       "0    57986702   12083331        0   \n",
       "1    57986699   12083319        0   \n",
       "2    57986698    9203730        0   \n",
       "3    57986696    1088949        0   \n",
       "4    57986692   11977154        0   \n",
       "\n",
       "                                                tags  views  \\\n",
       "0                            t-cñ t-windows t-user32      3   \n",
       "1                                   t-python t-graph      4   \n",
       "2                        t-google-bigquery t-tableau      3   \n",
       "3                              t-javascript t-arrays     15   \n",
       "4  t-javascript t-php t-jquery t-jquery-ui t-java...     11   \n",
       "\n",
       "                   time  votes  \n",
       "0  2019-09-18 06:55:05Z      0  \n",
       "1  2019-09-18 06:54:54Z      0  \n",
       "2  2019-09-18 06:54:53Z      0  \n",
       "3  2019-09-18 06:54:45Z      0  \n",
       "4  2019-09-18 06:54:06Z      0  "
      ]
     },
     "execution_count": 14,
     "metadata": {},
     "output_type": "execute_result"
    }
   ],
   "source": [
    "ques_df = ques_df.rename(columns={'userId': 'askUserId'})\n",
    "ques_df.head()"
   ]
  },
  {
   "cell_type": "code",
   "execution_count": 36,
   "metadata": {
    "ExecuteTime": {
     "end_time": "2019-09-23T07:19:10.892692Z",
     "start_time": "2019-09-23T07:19:10.786693Z"
    }
   },
   "outputs": [
    {
     "data": {
      "text/html": [
       "<div>\n",
       "<style scoped>\n",
       "    .dataframe tbody tr th:only-of-type {\n",
       "        vertical-align: middle;\n",
       "    }\n",
       "\n",
       "    .dataframe tbody tr th {\n",
       "        vertical-align: top;\n",
       "    }\n",
       "\n",
       "    .dataframe thead th {\n",
       "        text-align: right;\n",
       "    }\n",
       "</style>\n",
       "<table border=\"1\" class=\"dataframe\">\n",
       "  <thead>\n",
       "    <tr style=\"text-align: right;\">\n",
       "      <th></th>\n",
       "      <th>questionId</th>\n",
       "      <th>askUserId</th>\n",
       "      <th>answers</th>\n",
       "      <th>tags</th>\n",
       "      <th>views</th>\n",
       "      <th>time</th>\n",
       "      <th>questionVote</th>\n",
       "    </tr>\n",
       "  </thead>\n",
       "  <tbody>\n",
       "    <tr>\n",
       "      <th>0</th>\n",
       "      <td>57986702</td>\n",
       "      <td>12083331</td>\n",
       "      <td>0</td>\n",
       "      <td>t-cñ t-windows t-user32</td>\n",
       "      <td>3</td>\n",
       "      <td>2019-09-18 06:55:05Z</td>\n",
       "      <td>0</td>\n",
       "    </tr>\n",
       "    <tr>\n",
       "      <th>1</th>\n",
       "      <td>57986699</td>\n",
       "      <td>12083319</td>\n",
       "      <td>0</td>\n",
       "      <td>t-python t-graph</td>\n",
       "      <td>4</td>\n",
       "      <td>2019-09-18 06:54:54Z</td>\n",
       "      <td>0</td>\n",
       "    </tr>\n",
       "    <tr>\n",
       "      <th>2</th>\n",
       "      <td>57986698</td>\n",
       "      <td>9203730</td>\n",
       "      <td>0</td>\n",
       "      <td>t-google-bigquery t-tableau</td>\n",
       "      <td>3</td>\n",
       "      <td>2019-09-18 06:54:53Z</td>\n",
       "      <td>0</td>\n",
       "    </tr>\n",
       "    <tr>\n",
       "      <th>3</th>\n",
       "      <td>57986696</td>\n",
       "      <td>1088949</td>\n",
       "      <td>0</td>\n",
       "      <td>t-javascript t-arrays</td>\n",
       "      <td>15</td>\n",
       "      <td>2019-09-18 06:54:45Z</td>\n",
       "      <td>0</td>\n",
       "    </tr>\n",
       "    <tr>\n",
       "      <th>4</th>\n",
       "      <td>57986692</td>\n",
       "      <td>11977154</td>\n",
       "      <td>0</td>\n",
       "      <td>t-javascript t-php t-jquery t-jquery-ui t-java...</td>\n",
       "      <td>11</td>\n",
       "      <td>2019-09-18 06:54:06Z</td>\n",
       "      <td>0</td>\n",
       "    </tr>\n",
       "  </tbody>\n",
       "</table>\n",
       "</div>"
      ],
      "text/plain": [
       "   questionId  askUserId  answers  \\\n",
       "0    57986702   12083331        0   \n",
       "1    57986699   12083319        0   \n",
       "2    57986698    9203730        0   \n",
       "3    57986696    1088949        0   \n",
       "4    57986692   11977154        0   \n",
       "\n",
       "                                                tags  views  \\\n",
       "0                            t-cñ t-windows t-user32      3   \n",
       "1                                   t-python t-graph      4   \n",
       "2                        t-google-bigquery t-tableau      3   \n",
       "3                              t-javascript t-arrays     15   \n",
       "4  t-javascript t-php t-jquery t-jquery-ui t-java...     11   \n",
       "\n",
       "                   time  questionVote  \n",
       "0  2019-09-18 06:55:05Z             0  \n",
       "1  2019-09-18 06:54:54Z             0  \n",
       "2  2019-09-18 06:54:53Z             0  \n",
       "3  2019-09-18 06:54:45Z             0  \n",
       "4  2019-09-18 06:54:06Z             0  "
      ]
     },
     "execution_count": 36,
     "metadata": {},
     "output_type": "execute_result"
    }
   ],
   "source": [
    "ques_df = ques_df.rename(columns={'votes': 'questionVote'})\n",
    "ques_df.head()"
   ]
  },
  {
   "cell_type": "code",
   "execution_count": 37,
   "metadata": {
    "ExecuteTime": {
     "end_time": "2019-09-23T07:19:16.835674Z",
     "start_time": "2019-09-23T07:19:13.586583Z"
    }
   },
   "outputs": [],
   "source": [
    "# Save dataframe\n",
    "ques_df.to_csv(\"./inputs/stackoverflow/question.csv\", index=False)"
   ]
  },
  {
   "cell_type": "markdown",
   "metadata": {},
   "source": [
    "### Drop user information in answer dataframe"
   ]
  },
  {
   "cell_type": "code",
   "execution_count": 22,
   "metadata": {
    "ExecuteTime": {
     "end_time": "2019-09-23T07:13:42.279067Z",
     "start_time": "2019-09-23T07:13:42.226049Z"
    }
   },
   "outputs": [
    {
     "data": {
      "text/html": [
       "<div>\n",
       "<style scoped>\n",
       "    .dataframe tbody tr th:only-of-type {\n",
       "        vertical-align: middle;\n",
       "    }\n",
       "\n",
       "    .dataframe tbody tr th {\n",
       "        vertical-align: top;\n",
       "    }\n",
       "\n",
       "    .dataframe thead th {\n",
       "        text-align: right;\n",
       "    }\n",
       "</style>\n",
       "<table border=\"1\" class=\"dataframe\">\n",
       "  <thead>\n",
       "    <tr style=\"text-align: right;\">\n",
       "      <th></th>\n",
       "      <th>questionId</th>\n",
       "      <th>score</th>\n",
       "      <th>time</th>\n",
       "      <th>userId</th>\n",
       "      <th>userName</th>\n",
       "      <th>vote</th>\n",
       "    </tr>\n",
       "  </thead>\n",
       "  <tbody>\n",
       "    <tr>\n",
       "      <th>0</th>\n",
       "      <td>57983805</td>\n",
       "      <td>661</td>\n",
       "      <td>2019-09-18 02:50:28Z</td>\n",
       "      <td>3148642</td>\n",
       "      <td>casper</td>\n",
       "      <td>0</td>\n",
       "    </tr>\n",
       "    <tr>\n",
       "      <th>1</th>\n",
       "      <td>57982932</td>\n",
       "      <td>159000</td>\n",
       "      <td>2019-09-18 01:40:10Z</td>\n",
       "      <td>463319</td>\n",
       "      <td>twisty</td>\n",
       "      <td>0</td>\n",
       "    </tr>\n",
       "    <tr>\n",
       "      <th>2</th>\n",
       "      <td>57982804</td>\n",
       "      <td>44</td>\n",
       "      <td>2019-09-17 23:22:56Z</td>\n",
       "      <td>1388032</td>\n",
       "      <td>korzhyk</td>\n",
       "      <td>0</td>\n",
       "    </tr>\n",
       "    <tr>\n",
       "      <th>3</th>\n",
       "      <td>57982804</td>\n",
       "      <td>8</td>\n",
       "      <td>2019-09-18 01:54:52Z</td>\n",
       "      <td>11237189</td>\n",
       "      <td>danial-dehvan</td>\n",
       "      <td>0</td>\n",
       "    </tr>\n",
       "    <tr>\n",
       "      <th>4</th>\n",
       "      <td>57982521</td>\n",
       "      <td>257000</td>\n",
       "      <td>2019-09-17 22:10:21Z</td>\n",
       "      <td>132438</td>\n",
       "      <td>felipe-hoffa</td>\n",
       "      <td>0</td>\n",
       "    </tr>\n",
       "  </tbody>\n",
       "</table>\n",
       "</div>"
      ],
      "text/plain": [
       "   questionId   score                  time    userId       userName  vote\n",
       "0    57983805     661  2019-09-18 02:50:28Z   3148642         casper     0\n",
       "1    57982932  159000  2019-09-18 01:40:10Z    463319         twisty     0\n",
       "2    57982804      44  2019-09-17 23:22:56Z   1388032        korzhyk     0\n",
       "3    57982804       8  2019-09-18 01:54:52Z  11237189  danial-dehvan     0\n",
       "4    57982521  257000  2019-09-17 22:10:21Z    132438   felipe-hoffa     0"
      ]
     },
     "execution_count": 22,
     "metadata": {},
     "output_type": "execute_result"
    }
   ],
   "source": [
    "ans_df.head()"
   ]
  },
  {
   "cell_type": "code",
   "execution_count": 23,
   "metadata": {
    "ExecuteTime": {
     "end_time": "2019-09-23T07:14:08.056161Z",
     "start_time": "2019-09-23T07:14:07.985187Z"
    }
   },
   "outputs": [
    {
     "data": {
      "text/html": [
       "<div>\n",
       "<style scoped>\n",
       "    .dataframe tbody tr th:only-of-type {\n",
       "        vertical-align: middle;\n",
       "    }\n",
       "\n",
       "    .dataframe tbody tr th {\n",
       "        vertical-align: top;\n",
       "    }\n",
       "\n",
       "    .dataframe thead th {\n",
       "        text-align: right;\n",
       "    }\n",
       "</style>\n",
       "<table border=\"1\" class=\"dataframe\">\n",
       "  <thead>\n",
       "    <tr style=\"text-align: right;\">\n",
       "      <th></th>\n",
       "      <th>questionId</th>\n",
       "      <th>time</th>\n",
       "      <th>userId</th>\n",
       "      <th>vote</th>\n",
       "    </tr>\n",
       "  </thead>\n",
       "  <tbody>\n",
       "    <tr>\n",
       "      <th>0</th>\n",
       "      <td>57983805</td>\n",
       "      <td>2019-09-18 02:50:28Z</td>\n",
       "      <td>3148642</td>\n",
       "      <td>0</td>\n",
       "    </tr>\n",
       "    <tr>\n",
       "      <th>1</th>\n",
       "      <td>57982932</td>\n",
       "      <td>2019-09-18 01:40:10Z</td>\n",
       "      <td>463319</td>\n",
       "      <td>0</td>\n",
       "    </tr>\n",
       "    <tr>\n",
       "      <th>2</th>\n",
       "      <td>57982804</td>\n",
       "      <td>2019-09-17 23:22:56Z</td>\n",
       "      <td>1388032</td>\n",
       "      <td>0</td>\n",
       "    </tr>\n",
       "    <tr>\n",
       "      <th>3</th>\n",
       "      <td>57982804</td>\n",
       "      <td>2019-09-18 01:54:52Z</td>\n",
       "      <td>11237189</td>\n",
       "      <td>0</td>\n",
       "    </tr>\n",
       "    <tr>\n",
       "      <th>4</th>\n",
       "      <td>57982521</td>\n",
       "      <td>2019-09-17 22:10:21Z</td>\n",
       "      <td>132438</td>\n",
       "      <td>0</td>\n",
       "    </tr>\n",
       "  </tbody>\n",
       "</table>\n",
       "</div>"
      ],
      "text/plain": [
       "   questionId                  time    userId  vote\n",
       "0    57983805  2019-09-18 02:50:28Z   3148642     0\n",
       "1    57982932  2019-09-18 01:40:10Z    463319     0\n",
       "2    57982804  2019-09-17 23:22:56Z   1388032     0\n",
       "3    57982804  2019-09-18 01:54:52Z  11237189     0\n",
       "4    57982521  2019-09-17 22:10:21Z    132438     0"
      ]
     },
     "execution_count": 23,
     "metadata": {},
     "output_type": "execute_result"
    }
   ],
   "source": [
    "ans_df = ans_df.drop(columns=['score', 'userName'])\n",
    "ans_df.head()"
   ]
  },
  {
   "cell_type": "code",
   "execution_count": 24,
   "metadata": {
    "ExecuteTime": {
     "end_time": "2019-09-23T07:14:47.578472Z",
     "start_time": "2019-09-23T07:14:47.497443Z"
    }
   },
   "outputs": [
    {
     "name": "stdout",
     "output_type": "stream",
     "text": [
      "<class 'pandas.core.frame.DataFrame'>\n",
      "RangeIndex: 325247 entries, 0 to 325246\n",
      "Data columns (total 4 columns):\n",
      "questionId    325247 non-null int64\n",
      "time          325247 non-null object\n",
      "userId        325247 non-null int64\n",
      "vote          325247 non-null int64\n",
      "dtypes: int64(3), object(1)\n",
      "memory usage: 9.9+ MB\n"
     ]
    }
   ],
   "source": [
    "ans_df.info()"
   ]
  },
  {
   "cell_type": "code",
   "execution_count": 33,
   "metadata": {
    "ExecuteTime": {
     "end_time": "2019-09-23T07:18:11.974049Z",
     "start_time": "2019-09-23T07:18:11.905021Z"
    }
   },
   "outputs": [
    {
     "data": {
      "text/html": [
       "<div>\n",
       "<style scoped>\n",
       "    .dataframe tbody tr th:only-of-type {\n",
       "        vertical-align: middle;\n",
       "    }\n",
       "\n",
       "    .dataframe tbody tr th {\n",
       "        vertical-align: top;\n",
       "    }\n",
       "\n",
       "    .dataframe thead th {\n",
       "        text-align: right;\n",
       "    }\n",
       "</style>\n",
       "<table border=\"1\" class=\"dataframe\">\n",
       "  <thead>\n",
       "    <tr style=\"text-align: right;\">\n",
       "      <th></th>\n",
       "      <th>questionId</th>\n",
       "      <th>time</th>\n",
       "      <th>userId</th>\n",
       "      <th>answerVote</th>\n",
       "    </tr>\n",
       "  </thead>\n",
       "  <tbody>\n",
       "    <tr>\n",
       "      <th>0</th>\n",
       "      <td>57983805</td>\n",
       "      <td>2019-09-18 02:50:28Z</td>\n",
       "      <td>3148642</td>\n",
       "      <td>0</td>\n",
       "    </tr>\n",
       "    <tr>\n",
       "      <th>1</th>\n",
       "      <td>57982932</td>\n",
       "      <td>2019-09-18 01:40:10Z</td>\n",
       "      <td>463319</td>\n",
       "      <td>0</td>\n",
       "    </tr>\n",
       "    <tr>\n",
       "      <th>2</th>\n",
       "      <td>57982804</td>\n",
       "      <td>2019-09-17 23:22:56Z</td>\n",
       "      <td>1388032</td>\n",
       "      <td>0</td>\n",
       "    </tr>\n",
       "    <tr>\n",
       "      <th>3</th>\n",
       "      <td>57982804</td>\n",
       "      <td>2019-09-18 01:54:52Z</td>\n",
       "      <td>11237189</td>\n",
       "      <td>0</td>\n",
       "    </tr>\n",
       "    <tr>\n",
       "      <th>4</th>\n",
       "      <td>57982521</td>\n",
       "      <td>2019-09-17 22:10:21Z</td>\n",
       "      <td>132438</td>\n",
       "      <td>0</td>\n",
       "    </tr>\n",
       "  </tbody>\n",
       "</table>\n",
       "</div>"
      ],
      "text/plain": [
       "   questionId                  time    userId  answerVote\n",
       "0    57983805  2019-09-18 02:50:28Z   3148642           0\n",
       "1    57982932  2019-09-18 01:40:10Z    463319           0\n",
       "2    57982804  2019-09-17 23:22:56Z   1388032           0\n",
       "3    57982804  2019-09-18 01:54:52Z  11237189           0\n",
       "4    57982521  2019-09-17 22:10:21Z    132438           0"
      ]
     },
     "execution_count": 33,
     "metadata": {},
     "output_type": "execute_result"
    }
   ],
   "source": [
    "ans_df = ans_df.rename(columns={'vote': 'answerVote'})\n",
    "ans_df.head()"
   ]
  },
  {
   "cell_type": "code",
   "execution_count": 38,
   "metadata": {
    "ExecuteTime": {
     "end_time": "2019-09-23T07:19:21.482740Z",
     "start_time": "2019-09-23T07:19:20.392650Z"
    }
   },
   "outputs": [],
   "source": [
    "ans_df.to_csv(\"./inputs/stackoverflow/answer.csv\", index=False)"
   ]
  },
  {
   "cell_type": "markdown",
   "metadata": {},
   "source": [
    "## Generate Item Dataframe"
   ]
  },
  {
   "cell_type": "code",
   "execution_count": 39,
   "metadata": {
    "ExecuteTime": {
     "end_time": "2019-09-23T07:19:24.213008Z",
     "start_time": "2019-09-23T07:19:23.184917Z"
    }
   },
   "outputs": [],
   "source": [
    "ques_df = pd.read_csv(\"./inputs/stackoverflow/question.csv\")\n",
    "ans_df = pd.read_csv(\"./inputs/stackoverflow/answer.csv\")"
   ]
  },
  {
   "cell_type": "code",
   "execution_count": 40,
   "metadata": {
    "ExecuteTime": {
     "end_time": "2019-09-23T07:19:24.709424Z",
     "start_time": "2019-09-23T07:19:24.657424Z"
    }
   },
   "outputs": [
    {
     "data": {
      "text/html": [
       "<div>\n",
       "<style scoped>\n",
       "    .dataframe tbody tr th:only-of-type {\n",
       "        vertical-align: middle;\n",
       "    }\n",
       "\n",
       "    .dataframe tbody tr th {\n",
       "        vertical-align: top;\n",
       "    }\n",
       "\n",
       "    .dataframe thead th {\n",
       "        text-align: right;\n",
       "    }\n",
       "</style>\n",
       "<table border=\"1\" class=\"dataframe\">\n",
       "  <thead>\n",
       "    <tr style=\"text-align: right;\">\n",
       "      <th></th>\n",
       "      <th>questionId</th>\n",
       "      <th>askUserId</th>\n",
       "      <th>answers</th>\n",
       "      <th>tags</th>\n",
       "      <th>views</th>\n",
       "      <th>time</th>\n",
       "      <th>questionVote</th>\n",
       "    </tr>\n",
       "  </thead>\n",
       "  <tbody>\n",
       "    <tr>\n",
       "      <th>0</th>\n",
       "      <td>57986702</td>\n",
       "      <td>12083331</td>\n",
       "      <td>0</td>\n",
       "      <td>t-cñ t-windows t-user32</td>\n",
       "      <td>3</td>\n",
       "      <td>2019-09-18 06:55:05Z</td>\n",
       "      <td>0</td>\n",
       "    </tr>\n",
       "    <tr>\n",
       "      <th>1</th>\n",
       "      <td>57986699</td>\n",
       "      <td>12083319</td>\n",
       "      <td>0</td>\n",
       "      <td>t-python t-graph</td>\n",
       "      <td>4</td>\n",
       "      <td>2019-09-18 06:54:54Z</td>\n",
       "      <td>0</td>\n",
       "    </tr>\n",
       "    <tr>\n",
       "      <th>2</th>\n",
       "      <td>57986698</td>\n",
       "      <td>9203730</td>\n",
       "      <td>0</td>\n",
       "      <td>t-google-bigquery t-tableau</td>\n",
       "      <td>3</td>\n",
       "      <td>2019-09-18 06:54:53Z</td>\n",
       "      <td>0</td>\n",
       "    </tr>\n",
       "    <tr>\n",
       "      <th>3</th>\n",
       "      <td>57986696</td>\n",
       "      <td>1088949</td>\n",
       "      <td>0</td>\n",
       "      <td>t-javascript t-arrays</td>\n",
       "      <td>15</td>\n",
       "      <td>2019-09-18 06:54:45Z</td>\n",
       "      <td>0</td>\n",
       "    </tr>\n",
       "    <tr>\n",
       "      <th>4</th>\n",
       "      <td>57986692</td>\n",
       "      <td>11977154</td>\n",
       "      <td>0</td>\n",
       "      <td>t-javascript t-php t-jquery t-jquery-ui t-java...</td>\n",
       "      <td>11</td>\n",
       "      <td>2019-09-18 06:54:06Z</td>\n",
       "      <td>0</td>\n",
       "    </tr>\n",
       "  </tbody>\n",
       "</table>\n",
       "</div>"
      ],
      "text/plain": [
       "   questionId  askUserId  answers  \\\n",
       "0    57986702   12083331        0   \n",
       "1    57986699   12083319        0   \n",
       "2    57986698    9203730        0   \n",
       "3    57986696    1088949        0   \n",
       "4    57986692   11977154        0   \n",
       "\n",
       "                                                tags  views  \\\n",
       "0                            t-cñ t-windows t-user32      3   \n",
       "1                                   t-python t-graph      4   \n",
       "2                        t-google-bigquery t-tableau      3   \n",
       "3                              t-javascript t-arrays     15   \n",
       "4  t-javascript t-php t-jquery t-jquery-ui t-java...     11   \n",
       "\n",
       "                   time  questionVote  \n",
       "0  2019-09-18 06:55:05Z             0  \n",
       "1  2019-09-18 06:54:54Z             0  \n",
       "2  2019-09-18 06:54:53Z             0  \n",
       "3  2019-09-18 06:54:45Z             0  \n",
       "4  2019-09-18 06:54:06Z             0  "
      ]
     },
     "execution_count": 40,
     "metadata": {},
     "output_type": "execute_result"
    }
   ],
   "source": [
    "ques_df.head()"
   ]
  },
  {
   "cell_type": "code",
   "execution_count": 41,
   "metadata": {
    "ExecuteTime": {
     "end_time": "2019-09-23T07:19:31.295780Z",
     "start_time": "2019-09-23T07:19:31.152751Z"
    }
   },
   "outputs": [
    {
     "name": "stdout",
     "output_type": "stream",
     "text": [
      "<class 'pandas.core.frame.DataFrame'>\n",
      "RangeIndex: 610769 entries, 0 to 610768\n",
      "Data columns (total 7 columns):\n",
      "questionId      610769 non-null int64\n",
      "askUserId       610769 non-null int64\n",
      "answers         610769 non-null int64\n",
      "tags            610769 non-null object\n",
      "views           610769 non-null int64\n",
      "time            610769 non-null object\n",
      "questionVote    610769 non-null int64\n",
      "dtypes: int64(5), object(2)\n",
      "memory usage: 32.6+ MB\n"
     ]
    }
   ],
   "source": [
    "ques_df.info()"
   ]
  },
  {
   "cell_type": "code",
   "execution_count": 42,
   "metadata": {
    "ExecuteTime": {
     "end_time": "2019-09-23T07:19:31.779055Z",
     "start_time": "2019-09-23T07:19:31.731024Z"
    }
   },
   "outputs": [
    {
     "data": {
      "text/html": [
       "<div>\n",
       "<style scoped>\n",
       "    .dataframe tbody tr th:only-of-type {\n",
       "        vertical-align: middle;\n",
       "    }\n",
       "\n",
       "    .dataframe tbody tr th {\n",
       "        vertical-align: top;\n",
       "    }\n",
       "\n",
       "    .dataframe thead th {\n",
       "        text-align: right;\n",
       "    }\n",
       "</style>\n",
       "<table border=\"1\" class=\"dataframe\">\n",
       "  <thead>\n",
       "    <tr style=\"text-align: right;\">\n",
       "      <th></th>\n",
       "      <th>questionId</th>\n",
       "      <th>time</th>\n",
       "      <th>userId</th>\n",
       "      <th>answerVote</th>\n",
       "    </tr>\n",
       "  </thead>\n",
       "  <tbody>\n",
       "    <tr>\n",
       "      <th>0</th>\n",
       "      <td>57983805</td>\n",
       "      <td>2019-09-18 02:50:28Z</td>\n",
       "      <td>3148642</td>\n",
       "      <td>0</td>\n",
       "    </tr>\n",
       "    <tr>\n",
       "      <th>1</th>\n",
       "      <td>57982932</td>\n",
       "      <td>2019-09-18 01:40:10Z</td>\n",
       "      <td>463319</td>\n",
       "      <td>0</td>\n",
       "    </tr>\n",
       "    <tr>\n",
       "      <th>2</th>\n",
       "      <td>57982804</td>\n",
       "      <td>2019-09-17 23:22:56Z</td>\n",
       "      <td>1388032</td>\n",
       "      <td>0</td>\n",
       "    </tr>\n",
       "    <tr>\n",
       "      <th>3</th>\n",
       "      <td>57982804</td>\n",
       "      <td>2019-09-18 01:54:52Z</td>\n",
       "      <td>11237189</td>\n",
       "      <td>0</td>\n",
       "    </tr>\n",
       "    <tr>\n",
       "      <th>4</th>\n",
       "      <td>57982521</td>\n",
       "      <td>2019-09-17 22:10:21Z</td>\n",
       "      <td>132438</td>\n",
       "      <td>0</td>\n",
       "    </tr>\n",
       "  </tbody>\n",
       "</table>\n",
       "</div>"
      ],
      "text/plain": [
       "   questionId                  time    userId  answerVote\n",
       "0    57983805  2019-09-18 02:50:28Z   3148642           0\n",
       "1    57982932  2019-09-18 01:40:10Z    463319           0\n",
       "2    57982804  2019-09-17 23:22:56Z   1388032           0\n",
       "3    57982804  2019-09-18 01:54:52Z  11237189           0\n",
       "4    57982521  2019-09-17 22:10:21Z    132438           0"
      ]
     },
     "execution_count": 42,
     "metadata": {},
     "output_type": "execute_result"
    }
   ],
   "source": [
    "ans_df.head()"
   ]
  },
  {
   "cell_type": "code",
   "execution_count": 43,
   "metadata": {
    "ExecuteTime": {
     "end_time": "2019-09-23T07:19:33.770183Z",
     "start_time": "2019-09-23T07:19:33.689183Z"
    }
   },
   "outputs": [
    {
     "name": "stdout",
     "output_type": "stream",
     "text": [
      "<class 'pandas.core.frame.DataFrame'>\n",
      "RangeIndex: 325247 entries, 0 to 325246\n",
      "Data columns (total 4 columns):\n",
      "questionId    325247 non-null int64\n",
      "time          325247 non-null object\n",
      "userId        325247 non-null int64\n",
      "answerVote    325247 non-null int64\n",
      "dtypes: int64(3), object(1)\n",
      "memory usage: 9.9+ MB\n"
     ]
    }
   ],
   "source": [
    "ans_df.info()"
   ]
  },
  {
   "cell_type": "code",
   "execution_count": 44,
   "metadata": {
    "ExecuteTime": {
     "end_time": "2019-09-23T07:20:47.396050Z",
     "start_time": "2019-09-23T07:20:47.106022Z"
    }
   },
   "outputs": [
    {
     "data": {
      "text/html": [
       "<div>\n",
       "<style scoped>\n",
       "    .dataframe tbody tr th:only-of-type {\n",
       "        vertical-align: middle;\n",
       "    }\n",
       "\n",
       "    .dataframe tbody tr th {\n",
       "        vertical-align: top;\n",
       "    }\n",
       "\n",
       "    .dataframe thead th {\n",
       "        text-align: right;\n",
       "    }\n",
       "</style>\n",
       "<table border=\"1\" class=\"dataframe\">\n",
       "  <thead>\n",
       "    <tr style=\"text-align: right;\">\n",
       "      <th></th>\n",
       "      <th>questionId</th>\n",
       "      <th>time</th>\n",
       "      <th>userId</th>\n",
       "      <th>answerVote</th>\n",
       "      <th>answers</th>\n",
       "      <th>tags</th>\n",
       "      <th>views</th>\n",
       "      <th>questionVote</th>\n",
       "    </tr>\n",
       "  </thead>\n",
       "  <tbody>\n",
       "    <tr>\n",
       "      <th>0</th>\n",
       "      <td>57983805</td>\n",
       "      <td>2019-09-18 02:50:28Z</td>\n",
       "      <td>3148642</td>\n",
       "      <td>0</td>\n",
       "      <td>1</td>\n",
       "      <td>t-javascript t-arrays t-set t-theory</td>\n",
       "      <td>26</td>\n",
       "      <td>-4</td>\n",
       "    </tr>\n",
       "    <tr>\n",
       "      <th>1</th>\n",
       "      <td>57982932</td>\n",
       "      <td>2019-09-18 01:40:10Z</td>\n",
       "      <td>463319</td>\n",
       "      <td>0</td>\n",
       "      <td>1</td>\n",
       "      <td>t-jquery t-aspûnet t-ajax t-model-view-controller</td>\n",
       "      <td>16</td>\n",
       "      <td>0</td>\n",
       "    </tr>\n",
       "    <tr>\n",
       "      <th>2</th>\n",
       "      <td>57982804</td>\n",
       "      <td>2019-09-17 23:22:56Z</td>\n",
       "      <td>1388032</td>\n",
       "      <td>0</td>\n",
       "      <td>2</td>\n",
       "      <td>t-javascript t-nodeûjs t-express t-post t-get</td>\n",
       "      <td>32</td>\n",
       "      <td>0</td>\n",
       "    </tr>\n",
       "    <tr>\n",
       "      <th>3</th>\n",
       "      <td>57982804</td>\n",
       "      <td>2019-09-18 01:54:52Z</td>\n",
       "      <td>11237189</td>\n",
       "      <td>0</td>\n",
       "      <td>2</td>\n",
       "      <td>t-javascript t-nodeûjs t-express t-post t-get</td>\n",
       "      <td>32</td>\n",
       "      <td>0</td>\n",
       "    </tr>\n",
       "    <tr>\n",
       "      <th>4</th>\n",
       "      <td>57982521</td>\n",
       "      <td>2019-09-17 22:10:21Z</td>\n",
       "      <td>132438</td>\n",
       "      <td>0</td>\n",
       "      <td>1</td>\n",
       "      <td>t-google-bigquery</td>\n",
       "      <td>17</td>\n",
       "      <td>0</td>\n",
       "    </tr>\n",
       "  </tbody>\n",
       "</table>\n",
       "</div>"
      ],
      "text/plain": [
       "   questionId                  time    userId  answerVote  answers  \\\n",
       "0    57983805  2019-09-18 02:50:28Z   3148642           0        1   \n",
       "1    57982932  2019-09-18 01:40:10Z    463319           0        1   \n",
       "2    57982804  2019-09-17 23:22:56Z   1388032           0        2   \n",
       "3    57982804  2019-09-18 01:54:52Z  11237189           0        2   \n",
       "4    57982521  2019-09-17 22:10:21Z    132438           0        1   \n",
       "\n",
       "                                                tags  views  questionVote  \n",
       "0               t-javascript t-arrays t-set t-theory     26            -4  \n",
       "1  t-jquery t-aspûnet t-ajax t-model-view-controller     16             0  \n",
       "2      t-javascript t-nodeûjs t-express t-post t-get     32             0  \n",
       "3      t-javascript t-nodeûjs t-express t-post t-get     32             0  \n",
       "4                                  t-google-bigquery     17             0  "
      ]
     },
     "execution_count": 44,
     "metadata": {},
     "output_type": "execute_result"
    }
   ],
   "source": [
    "item_df = pd.merge(\n",
    "    left=ans_df,\n",
    "    right=ques_df[['questionId', 'answers', 'tags', 'views', 'questionVote']],\n",
    "    on='questionId',\n",
    "    how='inner')\n",
    "item_df.head()"
   ]
  },
  {
   "cell_type": "code",
   "execution_count": 45,
   "metadata": {
    "ExecuteTime": {
     "end_time": "2019-09-23T07:20:51.833859Z",
     "start_time": "2019-09-23T07:20:51.784889Z"
    }
   },
   "outputs": [
    {
     "data": {
      "text/plain": [
       "(299845, 8)"
      ]
     },
     "execution_count": 45,
     "metadata": {},
     "output_type": "execute_result"
    }
   ],
   "source": [
    "item_df.shape"
   ]
  },
  {
   "cell_type": "code",
   "execution_count": 47,
   "metadata": {
    "ExecuteTime": {
     "end_time": "2019-09-23T07:22:16.091942Z",
     "start_time": "2019-09-23T07:22:15.985879Z"
    }
   },
   "outputs": [
    {
     "data": {
      "text/html": [
       "<div>\n",
       "<style scoped>\n",
       "    .dataframe tbody tr th:only-of-type {\n",
       "        vertical-align: middle;\n",
       "    }\n",
       "\n",
       "    .dataframe tbody tr th {\n",
       "        vertical-align: top;\n",
       "    }\n",
       "\n",
       "    .dataframe thead th {\n",
       "        text-align: right;\n",
       "    }\n",
       "</style>\n",
       "<table border=\"1\" class=\"dataframe\">\n",
       "  <thead>\n",
       "    <tr style=\"text-align: right;\">\n",
       "      <th></th>\n",
       "      <th>questionId</th>\n",
       "      <th>userId</th>\n",
       "      <th>time</th>\n",
       "      <th>answerVote</th>\n",
       "      <th>answers</th>\n",
       "      <th>tags</th>\n",
       "      <th>views</th>\n",
       "      <th>questionVote</th>\n",
       "    </tr>\n",
       "  </thead>\n",
       "  <tbody>\n",
       "    <tr>\n",
       "      <th>0</th>\n",
       "      <td>57983805</td>\n",
       "      <td>3148642</td>\n",
       "      <td>2019-09-18 02:50:28Z</td>\n",
       "      <td>0</td>\n",
       "      <td>1</td>\n",
       "      <td>t-javascript t-arrays t-set t-theory</td>\n",
       "      <td>26</td>\n",
       "      <td>-4</td>\n",
       "    </tr>\n",
       "    <tr>\n",
       "      <th>1</th>\n",
       "      <td>57982932</td>\n",
       "      <td>463319</td>\n",
       "      <td>2019-09-18 01:40:10Z</td>\n",
       "      <td>0</td>\n",
       "      <td>1</td>\n",
       "      <td>t-jquery t-aspûnet t-ajax t-model-view-controller</td>\n",
       "      <td>16</td>\n",
       "      <td>0</td>\n",
       "    </tr>\n",
       "    <tr>\n",
       "      <th>2</th>\n",
       "      <td>57982804</td>\n",
       "      <td>1388032</td>\n",
       "      <td>2019-09-17 23:22:56Z</td>\n",
       "      <td>0</td>\n",
       "      <td>2</td>\n",
       "      <td>t-javascript t-nodeûjs t-express t-post t-get</td>\n",
       "      <td>32</td>\n",
       "      <td>0</td>\n",
       "    </tr>\n",
       "    <tr>\n",
       "      <th>3</th>\n",
       "      <td>57982804</td>\n",
       "      <td>11237189</td>\n",
       "      <td>2019-09-18 01:54:52Z</td>\n",
       "      <td>0</td>\n",
       "      <td>2</td>\n",
       "      <td>t-javascript t-nodeûjs t-express t-post t-get</td>\n",
       "      <td>32</td>\n",
       "      <td>0</td>\n",
       "    </tr>\n",
       "    <tr>\n",
       "      <th>4</th>\n",
       "      <td>57982521</td>\n",
       "      <td>132438</td>\n",
       "      <td>2019-09-17 22:10:21Z</td>\n",
       "      <td>0</td>\n",
       "      <td>1</td>\n",
       "      <td>t-google-bigquery</td>\n",
       "      <td>17</td>\n",
       "      <td>0</td>\n",
       "    </tr>\n",
       "  </tbody>\n",
       "</table>\n",
       "</div>"
      ],
      "text/plain": [
       "   questionId    userId                  time  answerVote  answers  \\\n",
       "0    57983805   3148642  2019-09-18 02:50:28Z           0        1   \n",
       "1    57982932    463319  2019-09-18 01:40:10Z           0        1   \n",
       "2    57982804   1388032  2019-09-17 23:22:56Z           0        2   \n",
       "3    57982804  11237189  2019-09-18 01:54:52Z           0        2   \n",
       "4    57982521    132438  2019-09-17 22:10:21Z           0        1   \n",
       "\n",
       "                                                tags  views  questionVote  \n",
       "0               t-javascript t-arrays t-set t-theory     26            -4  \n",
       "1  t-jquery t-aspûnet t-ajax t-model-view-controller     16             0  \n",
       "2      t-javascript t-nodeûjs t-express t-post t-get     32             0  \n",
       "3      t-javascript t-nodeûjs t-express t-post t-get     32             0  \n",
       "4                                  t-google-bigquery     17             0  "
      ]
     },
     "execution_count": 47,
     "metadata": {},
     "output_type": "execute_result"
    }
   ],
   "source": [
    "item_df = item_df[[\n",
    "    'questionId', 'userId', 'time', 'answerVote', 'answers', 'tags', 'views',\n",
    "    'questionVote'\n",
    "]]\n",
    "item_df.head()"
   ]
  },
  {
   "cell_type": "code",
   "execution_count": 48,
   "metadata": {
    "ExecuteTime": {
     "end_time": "2019-09-23T07:22:49.535568Z",
     "start_time": "2019-09-23T07:22:47.683474Z"
    }
   },
   "outputs": [],
   "source": [
    "item_df.to_csv(\"./inputs/stackoverflow/item.csv\", index=False)"
   ]
  },
  {
   "cell_type": "markdown",
   "metadata": {},
   "source": [
    "## Preprocess Item Dataframe"
   ]
  },
  {
   "cell_type": "code",
   "execution_count": 187,
   "metadata": {
    "ExecuteTime": {
     "end_time": "2019-09-23T09:16:04.341584Z",
     "start_time": "2019-09-23T09:16:03.923297Z"
    }
   },
   "outputs": [
    {
     "data": {
      "text/html": [
       "<div>\n",
       "<style scoped>\n",
       "    .dataframe tbody tr th:only-of-type {\n",
       "        vertical-align: middle;\n",
       "    }\n",
       "\n",
       "    .dataframe tbody tr th {\n",
       "        vertical-align: top;\n",
       "    }\n",
       "\n",
       "    .dataframe thead th {\n",
       "        text-align: right;\n",
       "    }\n",
       "</style>\n",
       "<table border=\"1\" class=\"dataframe\">\n",
       "  <thead>\n",
       "    <tr style=\"text-align: right;\">\n",
       "      <th></th>\n",
       "      <th>questionId</th>\n",
       "      <th>userId</th>\n",
       "      <th>time</th>\n",
       "      <th>answerVote</th>\n",
       "      <th>answers</th>\n",
       "      <th>tags</th>\n",
       "      <th>views</th>\n",
       "      <th>questionVote</th>\n",
       "    </tr>\n",
       "  </thead>\n",
       "  <tbody>\n",
       "    <tr>\n",
       "      <th>0</th>\n",
       "      <td>57983805</td>\n",
       "      <td>3148642</td>\n",
       "      <td>2019-09-18 02:50:28Z</td>\n",
       "      <td>0</td>\n",
       "      <td>1</td>\n",
       "      <td>t-javascript t-arrays t-set t-theory</td>\n",
       "      <td>26</td>\n",
       "      <td>-4</td>\n",
       "    </tr>\n",
       "    <tr>\n",
       "      <th>1</th>\n",
       "      <td>57982932</td>\n",
       "      <td>463319</td>\n",
       "      <td>2019-09-18 01:40:10Z</td>\n",
       "      <td>0</td>\n",
       "      <td>1</td>\n",
       "      <td>t-jquery t-aspûnet t-ajax t-model-view-controller</td>\n",
       "      <td>16</td>\n",
       "      <td>0</td>\n",
       "    </tr>\n",
       "    <tr>\n",
       "      <th>2</th>\n",
       "      <td>57982804</td>\n",
       "      <td>1388032</td>\n",
       "      <td>2019-09-17 23:22:56Z</td>\n",
       "      <td>0</td>\n",
       "      <td>2</td>\n",
       "      <td>t-javascript t-nodeûjs t-express t-post t-get</td>\n",
       "      <td>32</td>\n",
       "      <td>0</td>\n",
       "    </tr>\n",
       "    <tr>\n",
       "      <th>3</th>\n",
       "      <td>57982804</td>\n",
       "      <td>11237189</td>\n",
       "      <td>2019-09-18 01:54:52Z</td>\n",
       "      <td>0</td>\n",
       "      <td>2</td>\n",
       "      <td>t-javascript t-nodeûjs t-express t-post t-get</td>\n",
       "      <td>32</td>\n",
       "      <td>0</td>\n",
       "    </tr>\n",
       "    <tr>\n",
       "      <th>4</th>\n",
       "      <td>57982521</td>\n",
       "      <td>132438</td>\n",
       "      <td>2019-09-17 22:10:21Z</td>\n",
       "      <td>0</td>\n",
       "      <td>1</td>\n",
       "      <td>t-google-bigquery</td>\n",
       "      <td>17</td>\n",
       "      <td>0</td>\n",
       "    </tr>\n",
       "  </tbody>\n",
       "</table>\n",
       "</div>"
      ],
      "text/plain": [
       "   questionId    userId                  time  answerVote  answers  \\\n",
       "0    57983805   3148642  2019-09-18 02:50:28Z           0        1   \n",
       "1    57982932    463319  2019-09-18 01:40:10Z           0        1   \n",
       "2    57982804   1388032  2019-09-17 23:22:56Z           0        2   \n",
       "3    57982804  11237189  2019-09-18 01:54:52Z           0        2   \n",
       "4    57982521    132438  2019-09-17 22:10:21Z           0        1   \n",
       "\n",
       "                                                tags  views  questionVote  \n",
       "0               t-javascript t-arrays t-set t-theory     26            -4  \n",
       "1  t-jquery t-aspûnet t-ajax t-model-view-controller     16             0  \n",
       "2      t-javascript t-nodeûjs t-express t-post t-get     32             0  \n",
       "3      t-javascript t-nodeûjs t-express t-post t-get     32             0  \n",
       "4                                  t-google-bigquery     17             0  "
      ]
     },
     "execution_count": 187,
     "metadata": {},
     "output_type": "execute_result"
    }
   ],
   "source": [
    "item_df = pd.read_csv(\"./inputs/stackoverflow/item.csv\")\n",
    "item_df.head()"
   ]
  },
  {
   "cell_type": "code",
   "execution_count": 188,
   "metadata": {
    "ExecuteTime": {
     "end_time": "2019-09-23T09:16:05.629828Z",
     "start_time": "2019-09-23T09:16:04.778248Z"
    }
   },
   "outputs": [
    {
     "data": {
      "text/plain": [
       "questionId               int64\n",
       "userId                   int64\n",
       "time            datetime64[ns]\n",
       "answerVote               int64\n",
       "answers                  int64\n",
       "tags                    object\n",
       "views                    int64\n",
       "questionVote             int64\n",
       "dtype: object"
      ]
     },
     "execution_count": 188,
     "metadata": {},
     "output_type": "execute_result"
    }
   ],
   "source": [
    "item_df['time'] = pd.to_datetime(item_df['time'], infer_datetime_format=True)\n",
    "item_df.dtypes"
   ]
  },
  {
   "cell_type": "code",
   "execution_count": 189,
   "metadata": {
    "ExecuteTime": {
     "end_time": "2019-09-23T09:16:05.732823Z",
     "start_time": "2019-09-23T09:16:05.631796Z"
    }
   },
   "outputs": [
    {
     "data": {
      "text/plain": [
       "questionId      False\n",
       "userId          False\n",
       "time            False\n",
       "answerVote      False\n",
       "answers         False\n",
       "tags            False\n",
       "views           False\n",
       "questionVote    False\n",
       "dtype: bool"
      ]
     },
     "execution_count": 189,
     "metadata": {},
     "output_type": "execute_result"
    }
   ],
   "source": [
    "item_df.isna().any()"
   ]
  },
  {
   "cell_type": "code",
   "execution_count": 190,
   "metadata": {
    "ExecuteTime": {
     "end_time": "2019-09-23T09:16:05.790794Z",
     "start_time": "2019-09-23T09:16:05.734791Z"
    }
   },
   "outputs": [
    {
     "name": "stdout",
     "output_type": "stream",
     "text": [
      "Raw dataframe shape: (299845, 8)\n"
     ]
    }
   ],
   "source": [
    "print(f\"Raw dataframe shape: {item_df.shape}\")"
   ]
  },
  {
   "cell_type": "code",
   "execution_count": 191,
   "metadata": {
    "ExecuteTime": {
     "end_time": "2019-09-23T09:16:05.866795Z",
     "start_time": "2019-09-23T09:16:05.793795Z"
    }
   },
   "outputs": [
    {
     "data": {
      "text/plain": [
       "1144035    1843\n",
       "2901002     778\n",
       "3732271     774\n",
       "3962914     688\n",
       "67579       596\n",
       "Name: userId, dtype: int64"
      ]
     },
     "execution_count": 191,
     "metadata": {},
     "output_type": "execute_result"
    }
   ],
   "source": [
    "user_counts = item_df['userId'].value_counts()\n",
    "user_counts.head()"
   ]
  },
  {
   "cell_type": "code",
   "execution_count": 192,
   "metadata": {
    "ExecuteTime": {
     "end_time": "2019-09-23T09:16:05.926796Z",
     "start_time": "2019-09-23T09:16:05.867829Z"
    }
   },
   "outputs": [
    {
     "name": "stdout",
     "output_type": "stream",
     "text": [
      "Original user size: 75572\n"
     ]
    }
   ],
   "source": [
    "print(f\"Original user size: {user_counts.size}\")"
   ]
  },
  {
   "cell_type": "code",
   "execution_count": 193,
   "metadata": {
    "ExecuteTime": {
     "end_time": "2019-09-23T09:16:05.985792Z",
     "start_time": "2019-09-23T09:16:05.928792Z"
    }
   },
   "outputs": [
    {
     "name": "stdout",
     "output_type": "stream",
     "text": [
      "Filtered user size: 14795\n"
     ]
    }
   ],
   "source": [
    "user_counts = user_counts[user_counts >= 4]\n",
    "print(f\"Filtered user size: {user_counts.size}\")"
   ]
  },
  {
   "cell_type": "code",
   "execution_count": 194,
   "metadata": {
    "ExecuteTime": {
     "end_time": "2019-09-23T09:16:06.066821Z",
     "start_time": "2019-09-23T09:16:05.988793Z"
    }
   },
   "outputs": [
    {
     "name": "stdout",
     "output_type": "stream",
     "text": [
      "Filtered item dataframe shape: (217223, 8)\n"
     ]
    }
   ],
   "source": [
    "item_df = item_df[item_df['userId'].isin(user_counts.index)]\n",
    "print(f\"Filtered item dataframe shape: {item_df.shape}\")"
   ]
  },
  {
   "cell_type": "code",
   "execution_count": 195,
   "metadata": {
    "ExecuteTime": {
     "end_time": "2019-09-23T09:16:06.592004Z",
     "start_time": "2019-09-23T09:16:06.530963Z"
    }
   },
   "outputs": [
    {
     "data": {
      "text/html": [
       "<div>\n",
       "<style scoped>\n",
       "    .dataframe tbody tr th:only-of-type {\n",
       "        vertical-align: middle;\n",
       "    }\n",
       "\n",
       "    .dataframe tbody tr th {\n",
       "        vertical-align: top;\n",
       "    }\n",
       "\n",
       "    .dataframe thead th {\n",
       "        text-align: right;\n",
       "    }\n",
       "</style>\n",
       "<table border=\"1\" class=\"dataframe\">\n",
       "  <thead>\n",
       "    <tr style=\"text-align: right;\">\n",
       "      <th></th>\n",
       "      <th>questionId</th>\n",
       "      <th>userId</th>\n",
       "      <th>time</th>\n",
       "      <th>answerVote</th>\n",
       "      <th>answers</th>\n",
       "      <th>tags</th>\n",
       "      <th>views</th>\n",
       "      <th>questionVote</th>\n",
       "    </tr>\n",
       "  </thead>\n",
       "  <tbody>\n",
       "    <tr>\n",
       "      <th>0</th>\n",
       "      <td>57983805</td>\n",
       "      <td>3148642</td>\n",
       "      <td>2019-09-18 02:50:28</td>\n",
       "      <td>0</td>\n",
       "      <td>1</td>\n",
       "      <td>t-javascript t-arrays t-set t-theory</td>\n",
       "      <td>26</td>\n",
       "      <td>-4</td>\n",
       "    </tr>\n",
       "    <tr>\n",
       "      <th>1</th>\n",
       "      <td>57982932</td>\n",
       "      <td>463319</td>\n",
       "      <td>2019-09-18 01:40:10</td>\n",
       "      <td>0</td>\n",
       "      <td>1</td>\n",
       "      <td>t-jquery t-aspûnet t-ajax t-model-view-controller</td>\n",
       "      <td>16</td>\n",
       "      <td>0</td>\n",
       "    </tr>\n",
       "    <tr>\n",
       "      <th>4</th>\n",
       "      <td>57982521</td>\n",
       "      <td>132438</td>\n",
       "      <td>2019-09-17 22:10:21</td>\n",
       "      <td>0</td>\n",
       "      <td>1</td>\n",
       "      <td>t-google-bigquery</td>\n",
       "      <td>17</td>\n",
       "      <td>0</td>\n",
       "    </tr>\n",
       "    <tr>\n",
       "      <th>6</th>\n",
       "      <td>57982535</td>\n",
       "      <td>2801913</td>\n",
       "      <td>2019-09-17 22:21:28</td>\n",
       "      <td>0</td>\n",
       "      <td>2</td>\n",
       "      <td>t-bash</td>\n",
       "      <td>22</td>\n",
       "      <td>1</td>\n",
       "    </tr>\n",
       "    <tr>\n",
       "      <th>8</th>\n",
       "      <td>57982539</td>\n",
       "      <td>2585865</td>\n",
       "      <td>2019-09-17 22:06:26</td>\n",
       "      <td>0</td>\n",
       "      <td>2</td>\n",
       "      <td>t-java t-android t-backup t-database-restore</td>\n",
       "      <td>24</td>\n",
       "      <td>0</td>\n",
       "    </tr>\n",
       "  </tbody>\n",
       "</table>\n",
       "</div>"
      ],
      "text/plain": [
       "   questionId   userId                time  answerVote  answers  \\\n",
       "0    57983805  3148642 2019-09-18 02:50:28           0        1   \n",
       "1    57982932   463319 2019-09-18 01:40:10           0        1   \n",
       "4    57982521   132438 2019-09-17 22:10:21           0        1   \n",
       "6    57982535  2801913 2019-09-17 22:21:28           0        2   \n",
       "8    57982539  2585865 2019-09-17 22:06:26           0        2   \n",
       "\n",
       "                                                tags  views  questionVote  \n",
       "0               t-javascript t-arrays t-set t-theory     26            -4  \n",
       "1  t-jquery t-aspûnet t-ajax t-model-view-controller     16             0  \n",
       "4                                  t-google-bigquery     17             0  \n",
       "6                                             t-bash     22             1  \n",
       "8       t-java t-android t-backup t-database-restore     24             0  "
      ]
     },
     "execution_count": 195,
     "metadata": {},
     "output_type": "execute_result"
    }
   ],
   "source": [
    "item_df.head()"
   ]
  },
  {
   "cell_type": "markdown",
   "metadata": {},
   "source": [
    "### Generate question dataframe"
   ]
  },
  {
   "cell_type": "code",
   "execution_count": 196,
   "metadata": {
    "ExecuteTime": {
     "end_time": "2019-09-23T09:16:09.093028Z",
     "start_time": "2019-09-23T09:16:09.033962Z"
    }
   },
   "outputs": [],
   "source": [
    "ques_cols = ['questionId', 'tags', 'answers', 'views', 'questionVote']"
   ]
  },
  {
   "cell_type": "code",
   "execution_count": 197,
   "metadata": {
    "ExecuteTime": {
     "end_time": "2019-09-23T09:16:09.638203Z",
     "start_time": "2019-09-23T09:16:09.563206Z"
    }
   },
   "outputs": [
    {
     "data": {
      "text/html": [
       "<div>\n",
       "<style scoped>\n",
       "    .dataframe tbody tr th:only-of-type {\n",
       "        vertical-align: middle;\n",
       "    }\n",
       "\n",
       "    .dataframe tbody tr th {\n",
       "        vertical-align: top;\n",
       "    }\n",
       "\n",
       "    .dataframe thead th {\n",
       "        text-align: right;\n",
       "    }\n",
       "</style>\n",
       "<table border=\"1\" class=\"dataframe\">\n",
       "  <thead>\n",
       "    <tr style=\"text-align: right;\">\n",
       "      <th></th>\n",
       "      <th>questionId</th>\n",
       "      <th>tags</th>\n",
       "      <th>answers</th>\n",
       "      <th>views</th>\n",
       "      <th>questionVote</th>\n",
       "    </tr>\n",
       "  </thead>\n",
       "  <tbody>\n",
       "    <tr>\n",
       "      <th>0</th>\n",
       "      <td>57983805</td>\n",
       "      <td>t-javascript t-arrays t-set t-theory</td>\n",
       "      <td>1</td>\n",
       "      <td>26</td>\n",
       "      <td>-4</td>\n",
       "    </tr>\n",
       "    <tr>\n",
       "      <th>1</th>\n",
       "      <td>57982932</td>\n",
       "      <td>t-jquery t-aspûnet t-ajax t-model-view-controller</td>\n",
       "      <td>1</td>\n",
       "      <td>16</td>\n",
       "      <td>0</td>\n",
       "    </tr>\n",
       "    <tr>\n",
       "      <th>4</th>\n",
       "      <td>57982521</td>\n",
       "      <td>t-google-bigquery</td>\n",
       "      <td>1</td>\n",
       "      <td>17</td>\n",
       "      <td>0</td>\n",
       "    </tr>\n",
       "    <tr>\n",
       "      <th>6</th>\n",
       "      <td>57982535</td>\n",
       "      <td>t-bash</td>\n",
       "      <td>2</td>\n",
       "      <td>22</td>\n",
       "      <td>1</td>\n",
       "    </tr>\n",
       "    <tr>\n",
       "      <th>8</th>\n",
       "      <td>57982539</td>\n",
       "      <td>t-java t-android t-backup t-database-restore</td>\n",
       "      <td>2</td>\n",
       "      <td>24</td>\n",
       "      <td>0</td>\n",
       "    </tr>\n",
       "  </tbody>\n",
       "</table>\n",
       "</div>"
      ],
      "text/plain": [
       "   questionId                                               tags  answers  \\\n",
       "0    57983805               t-javascript t-arrays t-set t-theory        1   \n",
       "1    57982932  t-jquery t-aspûnet t-ajax t-model-view-controller        1   \n",
       "4    57982521                                  t-google-bigquery        1   \n",
       "6    57982535                                             t-bash        2   \n",
       "8    57982539       t-java t-android t-backup t-database-restore        2   \n",
       "\n",
       "   views  questionVote  \n",
       "0     26            -4  \n",
       "1     16             0  \n",
       "4     17             0  \n",
       "6     22             1  \n",
       "8     24             0  "
      ]
     },
     "execution_count": 197,
     "metadata": {},
     "output_type": "execute_result"
    }
   ],
   "source": [
    "ques_df = item_df[ques_cols]\n",
    "ques_df.head()"
   ]
  },
  {
   "cell_type": "code",
   "execution_count": 198,
   "metadata": {
    "ExecuteTime": {
     "end_time": "2019-09-23T09:16:09.897767Z",
     "start_time": "2019-09-23T09:16:09.818767Z"
    }
   },
   "outputs": [
    {
     "name": "stdout",
     "output_type": "stream",
     "text": [
      "Raw question dataframe shape: (217223, 5)\n",
      "Filtered question dataframe shape: (159371, 5)\n"
     ]
    }
   ],
   "source": [
    "print(f\"Raw question dataframe shape: {ques_df.shape}\")\n",
    "ques_df = ques_df.drop_duplicates(subset=['questionId'])\n",
    "print(f\"Filtered question dataframe shape: {ques_df.shape}\")"
   ]
  },
  {
   "cell_type": "code",
   "execution_count": 199,
   "metadata": {
    "ExecuteTime": {
     "end_time": "2019-09-23T09:16:10.453761Z",
     "start_time": "2019-09-23T09:16:10.226191Z"
    }
   },
   "outputs": [
    {
     "data": {
      "text/plain": [
       "questionId      0\n",
       "tags             \n",
       "answers         0\n",
       "views           0\n",
       "questionVote    0\n",
       "Name: -1, dtype: object"
      ]
     },
     "execution_count": 199,
     "metadata": {},
     "output_type": "execute_result"
    }
   ],
   "source": [
    "ques_df.loc[-1] = [0, '', 0, 0, 0]\n",
    "ques_df.loc[-1]"
   ]
  },
  {
   "cell_type": "code",
   "execution_count": 200,
   "metadata": {
    "ExecuteTime": {
     "end_time": "2019-09-23T09:16:11.928772Z",
     "start_time": "2019-09-23T09:16:11.778745Z"
    }
   },
   "outputs": [
    {
     "data": {
      "text/html": [
       "<div>\n",
       "<style scoped>\n",
       "    .dataframe tbody tr th:only-of-type {\n",
       "        vertical-align: middle;\n",
       "    }\n",
       "\n",
       "    .dataframe tbody tr th {\n",
       "        vertical-align: top;\n",
       "    }\n",
       "\n",
       "    .dataframe thead th {\n",
       "        text-align: right;\n",
       "    }\n",
       "</style>\n",
       "<table border=\"1\" class=\"dataframe\">\n",
       "  <thead>\n",
       "    <tr style=\"text-align: right;\">\n",
       "      <th></th>\n",
       "      <th>questionId</th>\n",
       "      <th>tags</th>\n",
       "      <th>answers</th>\n",
       "      <th>views</th>\n",
       "      <th>questionVote</th>\n",
       "    </tr>\n",
       "  </thead>\n",
       "  <tbody>\n",
       "    <tr>\n",
       "      <th>0</th>\n",
       "      <td>57983805</td>\n",
       "      <td>[t-javascript, t-arrays, t-set, t-theory]</td>\n",
       "      <td>1</td>\n",
       "      <td>26</td>\n",
       "      <td>-4</td>\n",
       "    </tr>\n",
       "    <tr>\n",
       "      <th>1</th>\n",
       "      <td>57982932</td>\n",
       "      <td>[t-jquery, t-aspûnet, t-ajax, t-model-view-con...</td>\n",
       "      <td>1</td>\n",
       "      <td>16</td>\n",
       "      <td>0</td>\n",
       "    </tr>\n",
       "    <tr>\n",
       "      <th>4</th>\n",
       "      <td>57982521</td>\n",
       "      <td>[t-google-bigquery]</td>\n",
       "      <td>1</td>\n",
       "      <td>17</td>\n",
       "      <td>0</td>\n",
       "    </tr>\n",
       "    <tr>\n",
       "      <th>6</th>\n",
       "      <td>57982535</td>\n",
       "      <td>[t-bash]</td>\n",
       "      <td>2</td>\n",
       "      <td>22</td>\n",
       "      <td>1</td>\n",
       "    </tr>\n",
       "    <tr>\n",
       "      <th>8</th>\n",
       "      <td>57982539</td>\n",
       "      <td>[t-java, t-android, t-backup, t-database-restore]</td>\n",
       "      <td>2</td>\n",
       "      <td>24</td>\n",
       "      <td>0</td>\n",
       "    </tr>\n",
       "  </tbody>\n",
       "</table>\n",
       "</div>"
      ],
      "text/plain": [
       "   questionId                                               tags  answers  \\\n",
       "0    57983805          [t-javascript, t-arrays, t-set, t-theory]        1   \n",
       "1    57982932  [t-jquery, t-aspûnet, t-ajax, t-model-view-con...        1   \n",
       "4    57982521                                [t-google-bigquery]        1   \n",
       "6    57982535                                           [t-bash]        2   \n",
       "8    57982539  [t-java, t-android, t-backup, t-database-restore]        2   \n",
       "\n",
       "   views  questionVote  \n",
       "0     26            -4  \n",
       "1     16             0  \n",
       "4     17             0  \n",
       "6     22             1  \n",
       "8     24             0  "
      ]
     },
     "execution_count": 200,
     "metadata": {},
     "output_type": "execute_result"
    }
   ],
   "source": [
    "ques_df['tags'] = ques_df['tags'].str.split(' ')\n",
    "ques_df.head()"
   ]
  },
  {
   "cell_type": "code",
   "execution_count": 201,
   "metadata": {
    "ExecuteTime": {
     "end_time": "2019-09-23T09:16:12.027743Z",
     "start_time": "2019-09-23T09:16:11.970743Z"
    }
   },
   "outputs": [
    {
     "data": {
      "text/plain": [
       "questionId       0\n",
       "tags            []\n",
       "answers          0\n",
       "views            0\n",
       "questionVote     0\n",
       "Name: -1, dtype: object"
      ]
     },
     "execution_count": 201,
     "metadata": {},
     "output_type": "execute_result"
    }
   ],
   "source": [
    "ques_df.loc[-1]"
   ]
  },
  {
   "cell_type": "code",
   "execution_count": 202,
   "metadata": {
    "ExecuteTime": {
     "end_time": "2019-09-23T09:16:12.205660Z",
     "start_time": "2019-09-23T09:16:12.138598Z"
    }
   },
   "outputs": [
    {
     "data": {
      "text/plain": [
       "questionId       int64\n",
       "tags            object\n",
       "answers          int64\n",
       "views            int64\n",
       "questionVote     int64\n",
       "dtype: object"
      ]
     },
     "execution_count": 202,
     "metadata": {},
     "output_type": "execute_result"
    }
   ],
   "source": [
    "ques_df.dtypes"
   ]
  },
  {
   "cell_type": "code",
   "execution_count": 203,
   "metadata": {
    "ExecuteTime": {
     "end_time": "2019-09-23T09:16:14.245815Z",
     "start_time": "2019-09-23T09:16:14.171817Z"
    }
   },
   "outputs": [
    {
     "data": {
      "text/plain": [
       "questionId      False\n",
       "tags            False\n",
       "answers         False\n",
       "views           False\n",
       "questionVote    False\n",
       "dtype: bool"
      ]
     },
     "execution_count": 203,
     "metadata": {},
     "output_type": "execute_result"
    }
   ],
   "source": [
    "ques_df.isna().any()"
   ]
  },
  {
   "cell_type": "markdown",
   "metadata": {},
   "source": [
    "#### Drop question information columns"
   ]
  },
  {
   "cell_type": "code",
   "execution_count": 204,
   "metadata": {
    "ExecuteTime": {
     "end_time": "2019-09-23T09:16:15.259489Z",
     "start_time": "2019-09-23T09:16:15.194952Z"
    }
   },
   "outputs": [
    {
     "data": {
      "text/html": [
       "<div>\n",
       "<style scoped>\n",
       "    .dataframe tbody tr th:only-of-type {\n",
       "        vertical-align: middle;\n",
       "    }\n",
       "\n",
       "    .dataframe tbody tr th {\n",
       "        vertical-align: top;\n",
       "    }\n",
       "\n",
       "    .dataframe thead th {\n",
       "        text-align: right;\n",
       "    }\n",
       "</style>\n",
       "<table border=\"1\" class=\"dataframe\">\n",
       "  <thead>\n",
       "    <tr style=\"text-align: right;\">\n",
       "      <th></th>\n",
       "      <th>questionId</th>\n",
       "      <th>userId</th>\n",
       "      <th>time</th>\n",
       "      <th>answerVote</th>\n",
       "    </tr>\n",
       "  </thead>\n",
       "  <tbody>\n",
       "    <tr>\n",
       "      <th>0</th>\n",
       "      <td>57983805</td>\n",
       "      <td>3148642</td>\n",
       "      <td>2019-09-18 02:50:28</td>\n",
       "      <td>0</td>\n",
       "    </tr>\n",
       "    <tr>\n",
       "      <th>1</th>\n",
       "      <td>57982932</td>\n",
       "      <td>463319</td>\n",
       "      <td>2019-09-18 01:40:10</td>\n",
       "      <td>0</td>\n",
       "    </tr>\n",
       "    <tr>\n",
       "      <th>4</th>\n",
       "      <td>57982521</td>\n",
       "      <td>132438</td>\n",
       "      <td>2019-09-17 22:10:21</td>\n",
       "      <td>0</td>\n",
       "    </tr>\n",
       "    <tr>\n",
       "      <th>6</th>\n",
       "      <td>57982535</td>\n",
       "      <td>2801913</td>\n",
       "      <td>2019-09-17 22:21:28</td>\n",
       "      <td>0</td>\n",
       "    </tr>\n",
       "    <tr>\n",
       "      <th>8</th>\n",
       "      <td>57982539</td>\n",
       "      <td>2585865</td>\n",
       "      <td>2019-09-17 22:06:26</td>\n",
       "      <td>0</td>\n",
       "    </tr>\n",
       "  </tbody>\n",
       "</table>\n",
       "</div>"
      ],
      "text/plain": [
       "   questionId   userId                time  answerVote\n",
       "0    57983805  3148642 2019-09-18 02:50:28           0\n",
       "1    57982932   463319 2019-09-18 01:40:10           0\n",
       "4    57982521   132438 2019-09-17 22:10:21           0\n",
       "6    57982535  2801913 2019-09-17 22:21:28           0\n",
       "8    57982539  2585865 2019-09-17 22:06:26           0"
      ]
     },
     "execution_count": 204,
     "metadata": {},
     "output_type": "execute_result"
    }
   ],
   "source": [
    "item_df = item_df[['questionId', 'userId', 'time', 'answerVote']]\n",
    "item_df.head()"
   ]
  },
  {
   "cell_type": "code",
   "execution_count": 205,
   "metadata": {
    "ExecuteTime": {
     "end_time": "2019-09-23T09:16:16.737393Z",
     "start_time": "2019-09-23T09:16:16.666405Z"
    }
   },
   "outputs": [
    {
     "data": {
      "text/plain": [
       "questionId    False\n",
       "userId        False\n",
       "time          False\n",
       "answerVote    False\n",
       "dtype: bool"
      ]
     },
     "execution_count": 205,
     "metadata": {},
     "output_type": "execute_result"
    }
   ],
   "source": [
    "item_df.isna().any()"
   ]
  },
  {
   "cell_type": "markdown",
   "metadata": {},
   "source": [
    "### Generate previous columns"
   ]
  },
  {
   "cell_type": "code",
   "execution_count": 206,
   "metadata": {
    "ExecuteTime": {
     "end_time": "2019-09-23T09:16:17.785755Z",
     "start_time": "2019-09-23T09:16:17.730663Z"
    }
   },
   "outputs": [],
   "source": [
    "prev_cols = ['prevQuesId', 'answerVote']"
   ]
  },
  {
   "cell_type": "code",
   "execution_count": 207,
   "metadata": {
    "ExecuteTime": {
     "end_time": "2019-09-23T09:16:20.101085Z",
     "start_time": "2019-09-23T09:16:19.884085Z"
    }
   },
   "outputs": [
    {
     "data": {
      "text/html": [
       "<div>\n",
       "<style scoped>\n",
       "    .dataframe tbody tr th:only-of-type {\n",
       "        vertical-align: middle;\n",
       "    }\n",
       "\n",
       "    .dataframe tbody tr th {\n",
       "        vertical-align: top;\n",
       "    }\n",
       "\n",
       "    .dataframe thead th {\n",
       "        text-align: right;\n",
       "    }\n",
       "</style>\n",
       "<table border=\"1\" class=\"dataframe\">\n",
       "  <thead>\n",
       "    <tr style=\"text-align: right;\">\n",
       "      <th></th>\n",
       "      <th>questionId</th>\n",
       "      <th>userId</th>\n",
       "      <th>time</th>\n",
       "      <th>answerVote</th>\n",
       "      <th>prevQuesId</th>\n",
       "    </tr>\n",
       "  </thead>\n",
       "  <tbody>\n",
       "    <tr>\n",
       "      <th>0</th>\n",
       "      <td>57983805</td>\n",
       "      <td>3148642</td>\n",
       "      <td>2019-09-18 02:50:28</td>\n",
       "      <td>0</td>\n",
       "      <td>57983805</td>\n",
       "    </tr>\n",
       "    <tr>\n",
       "      <th>1</th>\n",
       "      <td>57982932</td>\n",
       "      <td>463319</td>\n",
       "      <td>2019-09-18 01:40:10</td>\n",
       "      <td>0</td>\n",
       "      <td>57982932</td>\n",
       "    </tr>\n",
       "    <tr>\n",
       "      <th>4</th>\n",
       "      <td>57982521</td>\n",
       "      <td>132438</td>\n",
       "      <td>2019-09-17 22:10:21</td>\n",
       "      <td>0</td>\n",
       "      <td>57982521</td>\n",
       "    </tr>\n",
       "    <tr>\n",
       "      <th>6</th>\n",
       "      <td>57982535</td>\n",
       "      <td>2801913</td>\n",
       "      <td>2019-09-17 22:21:28</td>\n",
       "      <td>0</td>\n",
       "      <td>57982535</td>\n",
       "    </tr>\n",
       "    <tr>\n",
       "      <th>8</th>\n",
       "      <td>57982539</td>\n",
       "      <td>2585865</td>\n",
       "      <td>2019-09-17 22:06:26</td>\n",
       "      <td>0</td>\n",
       "      <td>57982539</td>\n",
       "    </tr>\n",
       "  </tbody>\n",
       "</table>\n",
       "</div>"
      ],
      "text/plain": [
       "   questionId   userId                time  answerVote  prevQuesId\n",
       "0    57983805  3148642 2019-09-18 02:50:28           0    57983805\n",
       "1    57982932   463319 2019-09-18 01:40:10           0    57982932\n",
       "4    57982521   132438 2019-09-17 22:10:21           0    57982521\n",
       "6    57982535  2801913 2019-09-17 22:21:28           0    57982535\n",
       "8    57982539  2585865 2019-09-17 22:06:26           0    57982539"
      ]
     },
     "execution_count": 207,
     "metadata": {},
     "output_type": "execute_result"
    }
   ],
   "source": [
    "item_df['prevQuesId'] = item_df['questionId']\n",
    "item_df.head()"
   ]
  },
  {
   "cell_type": "code",
   "execution_count": 208,
   "metadata": {
    "ExecuteTime": {
     "end_time": "2019-09-23T09:16:40.567411Z",
     "start_time": "2019-09-23T09:16:40.379486Z"
    }
   },
   "outputs": [
    {
     "data": {
      "text/html": [
       "<div>\n",
       "<style scoped>\n",
       "    .dataframe tbody tr th:only-of-type {\n",
       "        vertical-align: middle;\n",
       "    }\n",
       "\n",
       "    .dataframe tbody tr th {\n",
       "        vertical-align: top;\n",
       "    }\n",
       "\n",
       "    .dataframe thead th {\n",
       "        text-align: right;\n",
       "    }\n",
       "</style>\n",
       "<table border=\"1\" class=\"dataframe\">\n",
       "  <thead>\n",
       "    <tr style=\"text-align: right;\">\n",
       "      <th></th>\n",
       "      <th>questionId</th>\n",
       "      <th>userId</th>\n",
       "      <th>time</th>\n",
       "      <th>answerVote</th>\n",
       "      <th>prevQuesId</th>\n",
       "    </tr>\n",
       "  </thead>\n",
       "  <tbody>\n",
       "    <tr>\n",
       "      <th>244989</th>\n",
       "      <td>57281293</td>\n",
       "      <td>188</td>\n",
       "      <td>2019-07-31 01:23:36</td>\n",
       "      <td>0</td>\n",
       "      <td>57281293</td>\n",
       "    </tr>\n",
       "    <tr>\n",
       "      <th>242860</th>\n",
       "      <td>57287038</td>\n",
       "      <td>188</td>\n",
       "      <td>2019-07-31 09:21:25</td>\n",
       "      <td>0</td>\n",
       "      <td>57287038</td>\n",
       "    </tr>\n",
       "    <tr>\n",
       "      <th>243945</th>\n",
       "      <td>57285932</td>\n",
       "      <td>188</td>\n",
       "      <td>2019-07-31 09:31:43</td>\n",
       "      <td>1</td>\n",
       "      <td>57285932</td>\n",
       "    </tr>\n",
       "    <tr>\n",
       "      <th>238254</th>\n",
       "      <td>57300817</td>\n",
       "      <td>188</td>\n",
       "      <td>2019-08-01 01:50:28</td>\n",
       "      <td>0</td>\n",
       "      <td>57300817</td>\n",
       "    </tr>\n",
       "    <tr>\n",
       "      <th>238306</th>\n",
       "      <td>57300846</td>\n",
       "      <td>188</td>\n",
       "      <td>2019-08-01 01:53:09</td>\n",
       "      <td>2</td>\n",
       "      <td>57300846</td>\n",
       "    </tr>\n",
       "  </tbody>\n",
       "</table>\n",
       "</div>"
      ],
      "text/plain": [
       "        questionId  userId                time  answerVote  prevQuesId\n",
       "244989    57281293     188 2019-07-31 01:23:36           0    57281293\n",
       "242860    57287038     188 2019-07-31 09:21:25           0    57287038\n",
       "243945    57285932     188 2019-07-31 09:31:43           1    57285932\n",
       "238254    57300817     188 2019-08-01 01:50:28           0    57300817\n",
       "238306    57300846     188 2019-08-01 01:53:09           2    57300846"
      ]
     },
     "execution_count": 208,
     "metadata": {},
     "output_type": "execute_result"
    }
   ],
   "source": [
    "item_df = item_df.sort_values(by=['userId', 'time'])\n",
    "item_df.head()"
   ]
  },
  {
   "cell_type": "code",
   "execution_count": 209,
   "metadata": {
    "ExecuteTime": {
     "end_time": "2019-09-23T09:16:49.942763Z",
     "start_time": "2019-09-23T09:16:49.866761Z"
    }
   },
   "outputs": [
    {
     "data": {
      "text/html": [
       "<div>\n",
       "<style scoped>\n",
       "    .dataframe tbody tr th:only-of-type {\n",
       "        vertical-align: middle;\n",
       "    }\n",
       "\n",
       "    .dataframe tbody tr th {\n",
       "        vertical-align: top;\n",
       "    }\n",
       "\n",
       "    .dataframe thead th {\n",
       "        text-align: right;\n",
       "    }\n",
       "</style>\n",
       "<table border=\"1\" class=\"dataframe\">\n",
       "  <thead>\n",
       "    <tr style=\"text-align: right;\">\n",
       "      <th></th>\n",
       "      <th>questionId</th>\n",
       "      <th>userId</th>\n",
       "      <th>time</th>\n",
       "      <th>answerVote</th>\n",
       "      <th>prevQuesId</th>\n",
       "    </tr>\n",
       "  </thead>\n",
       "  <tbody>\n",
       "    <tr>\n",
       "      <th>244989</th>\n",
       "      <td>57281293</td>\n",
       "      <td>188</td>\n",
       "      <td>2019-07-31 01:23:36</td>\n",
       "      <td>0</td>\n",
       "      <td>0</td>\n",
       "    </tr>\n",
       "    <tr>\n",
       "      <th>242860</th>\n",
       "      <td>57287038</td>\n",
       "      <td>188</td>\n",
       "      <td>2019-07-31 09:21:25</td>\n",
       "      <td>0</td>\n",
       "      <td>57281293</td>\n",
       "    </tr>\n",
       "    <tr>\n",
       "      <th>243945</th>\n",
       "      <td>57285932</td>\n",
       "      <td>188</td>\n",
       "      <td>2019-07-31 09:31:43</td>\n",
       "      <td>0</td>\n",
       "      <td>57287038</td>\n",
       "    </tr>\n",
       "    <tr>\n",
       "      <th>238254</th>\n",
       "      <td>57300817</td>\n",
       "      <td>188</td>\n",
       "      <td>2019-08-01 01:50:28</td>\n",
       "      <td>1</td>\n",
       "      <td>57285932</td>\n",
       "    </tr>\n",
       "    <tr>\n",
       "      <th>238306</th>\n",
       "      <td>57300846</td>\n",
       "      <td>188</td>\n",
       "      <td>2019-08-01 01:53:09</td>\n",
       "      <td>0</td>\n",
       "      <td>57300817</td>\n",
       "    </tr>\n",
       "  </tbody>\n",
       "</table>\n",
       "</div>"
      ],
      "text/plain": [
       "        questionId  userId                time  answerVote  prevQuesId\n",
       "244989    57281293     188 2019-07-31 01:23:36           0           0\n",
       "242860    57287038     188 2019-07-31 09:21:25           0    57281293\n",
       "243945    57285932     188 2019-07-31 09:31:43           0    57287038\n",
       "238254    57300817     188 2019-08-01 01:50:28           1    57285932\n",
       "238306    57300846     188 2019-08-01 01:53:09           0    57300817"
      ]
     },
     "execution_count": 209,
     "metadata": {},
     "output_type": "execute_result"
    }
   ],
   "source": [
    "item_df[prev_cols] = item_df[prev_cols].shift(periods=1, fill_value=0)\n",
    "item_df.head()"
   ]
  },
  {
   "cell_type": "code",
   "execution_count": 210,
   "metadata": {
    "ExecuteTime": {
     "end_time": "2019-09-23T09:17:26.791784Z",
     "start_time": "2019-09-23T09:17:26.722811Z"
    }
   },
   "outputs": [
    {
     "data": {
      "text/plain": [
       "244989    False\n",
       "242860     True\n",
       "243945     True\n",
       "238254     True\n",
       "238306     True\n",
       "dtype: bool"
      ]
     },
     "execution_count": 210,
     "metadata": {},
     "output_type": "execute_result"
    }
   ],
   "source": [
    "first_mask = item_df.duplicated(subset=['userId'], keep='first')\n",
    "first_mask.head()"
   ]
  },
  {
   "cell_type": "code",
   "execution_count": 211,
   "metadata": {
    "ExecuteTime": {
     "end_time": "2019-09-23T09:17:29.728636Z",
     "start_time": "2019-09-23T09:17:29.611310Z"
    }
   },
   "outputs": [
    {
     "data": {
      "text/html": [
       "<div>\n",
       "<style scoped>\n",
       "    .dataframe tbody tr th:only-of-type {\n",
       "        vertical-align: middle;\n",
       "    }\n",
       "\n",
       "    .dataframe tbody tr th {\n",
       "        vertical-align: top;\n",
       "    }\n",
       "\n",
       "    .dataframe thead th {\n",
       "        text-align: right;\n",
       "    }\n",
       "</style>\n",
       "<table border=\"1\" class=\"dataframe\">\n",
       "  <thead>\n",
       "    <tr style=\"text-align: right;\">\n",
       "      <th></th>\n",
       "      <th>questionId</th>\n",
       "      <th>userId</th>\n",
       "      <th>time</th>\n",
       "      <th>answerVote</th>\n",
       "      <th>prevQuesId</th>\n",
       "    </tr>\n",
       "  </thead>\n",
       "  <tbody>\n",
       "    <tr>\n",
       "      <th>244989</th>\n",
       "      <td>57281293</td>\n",
       "      <td>188</td>\n",
       "      <td>2019-07-31 01:23:36</td>\n",
       "      <td>0</td>\n",
       "      <td>0</td>\n",
       "    </tr>\n",
       "    <tr>\n",
       "      <th>240777</th>\n",
       "      <td>57295065</td>\n",
       "      <td>267</td>\n",
       "      <td>2019-07-31 16:54:16</td>\n",
       "      <td>0</td>\n",
       "      <td>0</td>\n",
       "    </tr>\n",
       "    <tr>\n",
       "      <th>214253</th>\n",
       "      <td>57367403</td>\n",
       "      <td>371</td>\n",
       "      <td>2019-08-06 00:40:40</td>\n",
       "      <td>0</td>\n",
       "      <td>0</td>\n",
       "    </tr>\n",
       "    <tr>\n",
       "      <th>291056</th>\n",
       "      <td>57155514</td>\n",
       "      <td>476</td>\n",
       "      <td>2019-07-23 01:29:31</td>\n",
       "      <td>0</td>\n",
       "      <td>0</td>\n",
       "    </tr>\n",
       "    <tr>\n",
       "      <th>298146</th>\n",
       "      <td>57133744</td>\n",
       "      <td>967</td>\n",
       "      <td>2019-07-22 09:21:06</td>\n",
       "      <td>0</td>\n",
       "      <td>0</td>\n",
       "    </tr>\n",
       "  </tbody>\n",
       "</table>\n",
       "</div>"
      ],
      "text/plain": [
       "        questionId  userId                time  answerVote  prevQuesId\n",
       "244989    57281293     188 2019-07-31 01:23:36           0           0\n",
       "240777    57295065     267 2019-07-31 16:54:16           0           0\n",
       "214253    57367403     371 2019-08-06 00:40:40           0           0\n",
       "291056    57155514     476 2019-07-23 01:29:31           0           0\n",
       "298146    57133744     967 2019-07-22 09:21:06           0           0"
      ]
     },
     "execution_count": 211,
     "metadata": {},
     "output_type": "execute_result"
    }
   ],
   "source": [
    "item_df[prev_cols] = item_df[prev_cols].where(first_mask, 0)\n",
    "item_df[~first_mask].head()"
   ]
  },
  {
   "cell_type": "code",
   "execution_count": 212,
   "metadata": {
    "ExecuteTime": {
     "end_time": "2019-09-23T09:17:32.033225Z",
     "start_time": "2019-09-23T09:17:31.971216Z"
    }
   },
   "outputs": [
    {
     "data": {
      "text/html": [
       "<div>\n",
       "<style scoped>\n",
       "    .dataframe tbody tr th:only-of-type {\n",
       "        vertical-align: middle;\n",
       "    }\n",
       "\n",
       "    .dataframe tbody tr th {\n",
       "        vertical-align: top;\n",
       "    }\n",
       "\n",
       "    .dataframe thead th {\n",
       "        text-align: right;\n",
       "    }\n",
       "</style>\n",
       "<table border=\"1\" class=\"dataframe\">\n",
       "  <thead>\n",
       "    <tr style=\"text-align: right;\">\n",
       "      <th></th>\n",
       "      <th>questionId</th>\n",
       "      <th>userId</th>\n",
       "      <th>time</th>\n",
       "      <th>answerVote</th>\n",
       "      <th>prevQuesId</th>\n",
       "    </tr>\n",
       "  </thead>\n",
       "  <tbody>\n",
       "    <tr>\n",
       "      <th>244989</th>\n",
       "      <td>57281293</td>\n",
       "      <td>188</td>\n",
       "      <td>2019-07-31 01:23:36</td>\n",
       "      <td>0</td>\n",
       "      <td>0</td>\n",
       "    </tr>\n",
       "    <tr>\n",
       "      <th>242860</th>\n",
       "      <td>57287038</td>\n",
       "      <td>188</td>\n",
       "      <td>2019-07-31 09:21:25</td>\n",
       "      <td>0</td>\n",
       "      <td>57281293</td>\n",
       "    </tr>\n",
       "    <tr>\n",
       "      <th>243945</th>\n",
       "      <td>57285932</td>\n",
       "      <td>188</td>\n",
       "      <td>2019-07-31 09:31:43</td>\n",
       "      <td>0</td>\n",
       "      <td>57287038</td>\n",
       "    </tr>\n",
       "    <tr>\n",
       "      <th>238254</th>\n",
       "      <td>57300817</td>\n",
       "      <td>188</td>\n",
       "      <td>2019-08-01 01:50:28</td>\n",
       "      <td>1</td>\n",
       "      <td>57285932</td>\n",
       "    </tr>\n",
       "    <tr>\n",
       "      <th>238306</th>\n",
       "      <td>57300846</td>\n",
       "      <td>188</td>\n",
       "      <td>2019-08-01 01:53:09</td>\n",
       "      <td>0</td>\n",
       "      <td>57300817</td>\n",
       "    </tr>\n",
       "  </tbody>\n",
       "</table>\n",
       "</div>"
      ],
      "text/plain": [
       "        questionId  userId                time  answerVote  prevQuesId\n",
       "244989    57281293     188 2019-07-31 01:23:36           0           0\n",
       "242860    57287038     188 2019-07-31 09:21:25           0    57281293\n",
       "243945    57285932     188 2019-07-31 09:31:43           0    57287038\n",
       "238254    57300817     188 2019-08-01 01:50:28           1    57285932\n",
       "238306    57300846     188 2019-08-01 01:53:09           0    57300817"
      ]
     },
     "execution_count": 212,
     "metadata": {},
     "output_type": "execute_result"
    }
   ],
   "source": [
    "item_df.head()"
   ]
  },
  {
   "cell_type": "code",
   "execution_count": 213,
   "metadata": {
    "ExecuteTime": {
     "end_time": "2019-09-23T09:17:35.294593Z",
     "start_time": "2019-09-23T09:17:35.234576Z"
    },
    "scrolled": true
   },
   "outputs": [
    {
     "data": {
      "text/html": [
       "<div>\n",
       "<style scoped>\n",
       "    .dataframe tbody tr th:only-of-type {\n",
       "        vertical-align: middle;\n",
       "    }\n",
       "\n",
       "    .dataframe tbody tr th {\n",
       "        vertical-align: top;\n",
       "    }\n",
       "\n",
       "    .dataframe thead th {\n",
       "        text-align: right;\n",
       "    }\n",
       "</style>\n",
       "<table border=\"1\" class=\"dataframe\">\n",
       "  <thead>\n",
       "    <tr style=\"text-align: right;\">\n",
       "      <th></th>\n",
       "      <th>questionId</th>\n",
       "      <th>userId</th>\n",
       "      <th>time</th>\n",
       "      <th>answerVote</th>\n",
       "      <th>prevQuesId</th>\n",
       "    </tr>\n",
       "  </thead>\n",
       "  <tbody>\n",
       "  </tbody>\n",
       "</table>\n",
       "</div>"
      ],
      "text/plain": [
       "Empty DataFrame\n",
       "Columns: [questionId, userId, time, answerVote, prevQuesId]\n",
       "Index: []"
      ]
     },
     "execution_count": 213,
     "metadata": {},
     "output_type": "execute_result"
    }
   ],
   "source": [
    "item_df[item_df['answerVote'].isna()]"
   ]
  },
  {
   "cell_type": "code",
   "execution_count": 214,
   "metadata": {
    "ExecuteTime": {
     "end_time": "2019-09-23T11:53:38.695049Z",
     "start_time": "2019-09-23T11:53:38.633074Z"
    }
   },
   "outputs": [
    {
     "data": {
      "text/plain": [
       "questionId             int64\n",
       "userId                 int64\n",
       "time          datetime64[ns]\n",
       "answerVote             int64\n",
       "prevQuesId             int64\n",
       "dtype: object"
      ]
     },
     "execution_count": 214,
     "metadata": {},
     "output_type": "execute_result"
    }
   ],
   "source": [
    "item_df.dtypes"
   ]
  },
  {
   "cell_type": "code",
   "execution_count": 177,
   "metadata": {
    "ExecuteTime": {
     "end_time": "2019-09-23T08:54:28.335152Z",
     "start_time": "2019-09-23T08:54:28.275155Z"
    }
   },
   "outputs": [
    {
     "data": {
      "text/plain": [
       "questionId             int64\n",
       "userId                 int64\n",
       "time          datetime64[ns]\n",
       "answerVote             int64\n",
       "prevQuesId             int64\n",
       "dtype: object"
      ]
     },
     "execution_count": 177,
     "metadata": {},
     "output_type": "execute_result"
    }
   ],
   "source": [
    "item_df[prev_cols] = item_df[prev_cols].astype('int64')\n",
    "item_df.dtypes"
   ]
  },
  {
   "cell_type": "code",
   "execution_count": 216,
   "metadata": {
    "ExecuteTime": {
     "end_time": "2019-09-23T13:54:55.142372Z",
     "start_time": "2019-09-23T13:54:55.070337Z"
    }
   },
   "outputs": [
    {
     "data": {
      "text/html": [
       "<div>\n",
       "<style scoped>\n",
       "    .dataframe tbody tr th:only-of-type {\n",
       "        vertical-align: middle;\n",
       "    }\n",
       "\n",
       "    .dataframe tbody tr th {\n",
       "        vertical-align: top;\n",
       "    }\n",
       "\n",
       "    .dataframe thead th {\n",
       "        text-align: right;\n",
       "    }\n",
       "</style>\n",
       "<table border=\"1\" class=\"dataframe\">\n",
       "  <thead>\n",
       "    <tr style=\"text-align: right;\">\n",
       "      <th></th>\n",
       "      <th>questionId</th>\n",
       "      <th>tags</th>\n",
       "      <th>answers</th>\n",
       "      <th>views</th>\n",
       "      <th>questionVote</th>\n",
       "    </tr>\n",
       "  </thead>\n",
       "  <tbody>\n",
       "    <tr>\n",
       "      <th>0</th>\n",
       "      <td>57983805</td>\n",
       "      <td>[t-javascript, t-arrays, t-set, t-theory]</td>\n",
       "      <td>1</td>\n",
       "      <td>26</td>\n",
       "      <td>-4</td>\n",
       "    </tr>\n",
       "    <tr>\n",
       "      <th>1</th>\n",
       "      <td>57982932</td>\n",
       "      <td>[t-jquery, t-aspûnet, t-ajax, t-model-view-con...</td>\n",
       "      <td>1</td>\n",
       "      <td>16</td>\n",
       "      <td>0</td>\n",
       "    </tr>\n",
       "    <tr>\n",
       "      <th>4</th>\n",
       "      <td>57982521</td>\n",
       "      <td>[t-google-bigquery]</td>\n",
       "      <td>1</td>\n",
       "      <td>17</td>\n",
       "      <td>0</td>\n",
       "    </tr>\n",
       "    <tr>\n",
       "      <th>6</th>\n",
       "      <td>57982535</td>\n",
       "      <td>[t-bash]</td>\n",
       "      <td>2</td>\n",
       "      <td>22</td>\n",
       "      <td>1</td>\n",
       "    </tr>\n",
       "    <tr>\n",
       "      <th>8</th>\n",
       "      <td>57982539</td>\n",
       "      <td>[t-java, t-android, t-backup, t-database-restore]</td>\n",
       "      <td>2</td>\n",
       "      <td>24</td>\n",
       "      <td>0</td>\n",
       "    </tr>\n",
       "  </tbody>\n",
       "</table>\n",
       "</div>"
      ],
      "text/plain": [
       "   questionId                                               tags  answers  \\\n",
       "0    57983805          [t-javascript, t-arrays, t-set, t-theory]        1   \n",
       "1    57982932  [t-jquery, t-aspûnet, t-ajax, t-model-view-con...        1   \n",
       "4    57982521                                [t-google-bigquery]        1   \n",
       "6    57982535                                           [t-bash]        2   \n",
       "8    57982539  [t-java, t-android, t-backup, t-database-restore]        2   \n",
       "\n",
       "   views  questionVote  \n",
       "0     26            -4  \n",
       "1     16             0  \n",
       "4     17             0  \n",
       "6     22             1  \n",
       "8     24             0  "
      ]
     },
     "execution_count": 216,
     "metadata": {},
     "output_type": "execute_result"
    }
   ],
   "source": [
    "ques_df.head()"
   ]
  },
  {
   "cell_type": "code",
   "execution_count": 218,
   "metadata": {
    "ExecuteTime": {
     "end_time": "2019-09-23T13:55:35.332628Z",
     "start_time": "2019-09-23T13:55:35.269629Z"
    }
   },
   "outputs": [
    {
     "data": {
      "text/html": [
       "<div>\n",
       "<style scoped>\n",
       "    .dataframe tbody tr th:only-of-type {\n",
       "        vertical-align: middle;\n",
       "    }\n",
       "\n",
       "    .dataframe tbody tr th {\n",
       "        vertical-align: top;\n",
       "    }\n",
       "\n",
       "    .dataframe thead th {\n",
       "        text-align: right;\n",
       "    }\n",
       "</style>\n",
       "<table border=\"1\" class=\"dataframe\">\n",
       "  <thead>\n",
       "    <tr style=\"text-align: right;\">\n",
       "      <th></th>\n",
       "      <th>questionId</th>\n",
       "    </tr>\n",
       "  </thead>\n",
       "  <tbody>\n",
       "    <tr>\n",
       "      <th>0</th>\n",
       "      <td>57983805</td>\n",
       "    </tr>\n",
       "    <tr>\n",
       "      <th>1</th>\n",
       "      <td>57982932</td>\n",
       "    </tr>\n",
       "  </tbody>\n",
       "</table>\n",
       "</div>"
      ],
      "text/plain": [
       "   questionId\n",
       "0    57983805\n",
       "1    57982932"
      ]
     },
     "execution_count": 218,
     "metadata": {},
     "output_type": "execute_result"
    }
   ],
   "source": [
    "part_df = ques_df.iloc[0:2][['questionId']]\n",
    "part_df.head()"
   ]
  },
  {
   "cell_type": "code",
   "execution_count": 219,
   "metadata": {
    "ExecuteTime": {
     "end_time": "2019-09-23T13:56:00.855527Z",
     "start_time": "2019-09-23T13:56:00.309526Z"
    }
   },
   "outputs": [
    {
     "data": {
      "text/html": [
       "<div>\n",
       "<style scoped>\n",
       "    .dataframe tbody tr th:only-of-type {\n",
       "        vertical-align: middle;\n",
       "    }\n",
       "\n",
       "    .dataframe tbody tr th {\n",
       "        vertical-align: top;\n",
       "    }\n",
       "\n",
       "    .dataframe thead th {\n",
       "        text-align: right;\n",
       "    }\n",
       "</style>\n",
       "<table border=\"1\" class=\"dataframe\">\n",
       "  <thead>\n",
       "    <tr style=\"text-align: right;\">\n",
       "      <th></th>\n",
       "      <th>questionId</th>\n",
       "    </tr>\n",
       "  </thead>\n",
       "  <tbody>\n",
       "    <tr>\n",
       "      <th>0</th>\n",
       "      <td>57983805</td>\n",
       "    </tr>\n",
       "    <tr>\n",
       "      <th>1</th>\n",
       "      <td>57982932</td>\n",
       "    </tr>\n",
       "    <tr>\n",
       "      <th>2</th>\n",
       "      <td>57982932</td>\n",
       "    </tr>\n",
       "  </tbody>\n",
       "</table>\n",
       "</div>"
      ],
      "text/plain": [
       "   questionId\n",
       "0    57983805\n",
       "1    57982932\n",
       "2    57982932"
      ]
     },
     "execution_count": 219,
     "metadata": {},
     "output_type": "execute_result"
    }
   ],
   "source": [
    "part_df.loc[2] = 57982932\n",
    "part_df.head()"
   ]
  },
  {
   "cell_type": "code",
   "execution_count": 221,
   "metadata": {
    "ExecuteTime": {
     "end_time": "2019-09-23T13:56:44.201027Z",
     "start_time": "2019-09-23T13:56:44.092997Z"
    }
   },
   "outputs": [
    {
     "data": {
      "text/html": [
       "<div>\n",
       "<style scoped>\n",
       "    .dataframe tbody tr th:only-of-type {\n",
       "        vertical-align: middle;\n",
       "    }\n",
       "\n",
       "    .dataframe tbody tr th {\n",
       "        vertical-align: top;\n",
       "    }\n",
       "\n",
       "    .dataframe thead th {\n",
       "        text-align: right;\n",
       "    }\n",
       "</style>\n",
       "<table border=\"1\" class=\"dataframe\">\n",
       "  <thead>\n",
       "    <tr style=\"text-align: right;\">\n",
       "      <th></th>\n",
       "      <th>questionId</th>\n",
       "      <th>tags</th>\n",
       "      <th>answers</th>\n",
       "      <th>views</th>\n",
       "      <th>questionVote</th>\n",
       "    </tr>\n",
       "  </thead>\n",
       "  <tbody>\n",
       "    <tr>\n",
       "      <th>0</th>\n",
       "      <td>57983805</td>\n",
       "      <td>[t-javascript, t-arrays, t-set, t-theory]</td>\n",
       "      <td>1</td>\n",
       "      <td>26</td>\n",
       "      <td>-4</td>\n",
       "    </tr>\n",
       "    <tr>\n",
       "      <th>1</th>\n",
       "      <td>57982932</td>\n",
       "      <td>[t-jquery, t-aspûnet, t-ajax, t-model-view-con...</td>\n",
       "      <td>1</td>\n",
       "      <td>16</td>\n",
       "      <td>0</td>\n",
       "    </tr>\n",
       "    <tr>\n",
       "      <th>2</th>\n",
       "      <td>57982932</td>\n",
       "      <td>[t-jquery, t-aspûnet, t-ajax, t-model-view-con...</td>\n",
       "      <td>1</td>\n",
       "      <td>16</td>\n",
       "      <td>0</td>\n",
       "    </tr>\n",
       "  </tbody>\n",
       "</table>\n",
       "</div>"
      ],
      "text/plain": [
       "   questionId                                               tags  answers  \\\n",
       "0    57983805          [t-javascript, t-arrays, t-set, t-theory]        1   \n",
       "1    57982932  [t-jquery, t-aspûnet, t-ajax, t-model-view-con...        1   \n",
       "2    57982932  [t-jquery, t-aspûnet, t-ajax, t-model-view-con...        1   \n",
       "\n",
       "   views  questionVote  \n",
       "0     26            -4  \n",
       "1     16             0  \n",
       "2     16             0  "
      ]
     },
     "execution_count": 221,
     "metadata": {},
     "output_type": "execute_result"
    }
   ],
   "source": [
    "pd.merge(left=part_df, right=ques_df, on='questionId', how='inner')"
   ]
  },
  {
   "cell_type": "markdown",
   "metadata": {},
   "source": [
    "### Add Encoder"
   ]
  },
  {
   "cell_type": "code",
   "execution_count": 179,
   "metadata": {
    "ExecuteTime": {
     "end_time": "2019-09-23T08:55:48.022749Z",
     "start_time": "2019-09-23T08:55:47.954749Z"
    }
   },
   "outputs": [],
   "source": [
    "from sklearn.preprocessing import OneHotEncoder, MultiLabelBinarizer, MinMaxScaler"
   ]
  },
  {
   "cell_type": "code",
   "execution_count": 184,
   "metadata": {
    "ExecuteTime": {
     "end_time": "2019-09-23T09:01:25.052041Z",
     "start_time": "2019-09-23T09:01:24.994041Z"
    }
   },
   "outputs": [],
   "source": [
    "conts_name = ['answers', 'views', 'questionVote']"
   ]
  },
  {
   "cell_type": "code",
   "execution_count": 183,
   "metadata": {
    "ExecuteTime": {
     "end_time": "2019-09-23T08:59:49.643587Z",
     "start_time": "2019-09-23T08:59:49.586571Z"
    }
   },
   "outputs": [],
   "source": [
    "question_encoder = OneHotEncoder(categories='auto', handle_unknown='ignore')\n",
    "user_encoder = OneHotEncoder(categories='auto', handle_unknown='error')\n",
    "ans_vote_scaler = MinMaxScaler(feature_range=(0, 1))\n",
    "conts_scaler = MinMaxScaler(feature_range=(0, 1))\n",
    "tags_binzer = MultiLabelBinarizer(sparse_output=True)"
   ]
  },
  {
   "cell_type": "code",
   "execution_count": 185,
   "metadata": {
    "ExecuteTime": {
     "end_time": "2019-09-23T09:02:12.598333Z",
     "start_time": "2019-09-23T09:02:12.491289Z"
    }
   },
   "outputs": [
    {
     "data": {
      "text/plain": [
       "MultiLabelBinarizer(classes=None, sparse_output=True)"
      ]
     },
     "execution_count": 185,
     "metadata": {},
     "output_type": "execute_result"
    }
   ],
   "source": [
    "question_encoder.fit(item_df[['questionId']])\n",
    "user_encoder.fit(item_df[['userId']])\n",
    "ans_vote_scaler.fit(item_df[['answerVote']])\n",
    "conts_scaler.fit(ques_df[conts_name])\n",
    "tags_binzer.fit(ques_df[['tags']])"
   ]
  },
  {
   "cell_type": "code",
   "execution_count": null,
   "metadata": {},
   "outputs": [],
   "source": []
  }
 ],
 "metadata": {
  "kernelspec": {
   "display_name": "recommender",
   "language": "python",
   "name": "recommender"
  },
  "language_info": {
   "codemirror_mode": {
    "name": "ipython",
    "version": 3
   },
   "file_extension": ".py",
   "mimetype": "text/x-python",
   "name": "python",
   "nbconvert_exporter": "python",
   "pygments_lexer": "ipython3",
   "version": "3.6.8"
  }
 },
 "nbformat": 4,
 "nbformat_minor": 2
}
