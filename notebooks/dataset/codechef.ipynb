{
 "cells": [
  {
   "cell_type": "code",
   "execution_count": 1,
   "metadata": {
    "ExecuteTime": {
     "end_time": "2019-09-21T13:22:01.096253Z",
     "start_time": "2019-09-21T13:22:00.654815Z"
    }
   },
   "outputs": [],
   "source": [
    "%reload_ext autoreload\n",
    "%autoreload 2\n",
    "%matplotlib inline"
   ]
  },
  {
   "cell_type": "code",
   "execution_count": 18,
   "metadata": {
    "ExecuteTime": {
     "end_time": "2019-09-21T13:43:26.128728Z",
     "start_time": "2019-09-21T13:43:26.082650Z"
    }
   },
   "outputs": [],
   "source": [
    "import json\n",
    "\n",
    "import numpy as np\n",
    "import pandas as pd"
   ]
  },
  {
   "cell_type": "code",
   "execution_count": 3,
   "metadata": {
    "ExecuteTime": {
     "end_time": "2019-09-21T13:22:20.855620Z",
     "start_time": "2019-09-21T13:22:20.808591Z"
    }
   },
   "outputs": [
    {
     "name": "stdout",
     "output_type": "stream",
     "text": [
      "C:\\Projects\\python\\recommender\n"
     ]
    }
   ],
   "source": [
    "%cd ../.."
   ]
  },
  {
   "cell_type": "markdown",
   "metadata": {},
   "source": [
    "## Handle Menu Dataframe"
   ]
  },
  {
   "cell_type": "code",
   "execution_count": 7,
   "metadata": {
    "ExecuteTime": {
     "end_time": "2019-09-21T13:24:07.578677Z",
     "start_time": "2019-09-21T13:24:07.505626Z"
    }
   },
   "outputs": [
    {
     "data": {
      "text/html": [
       "<div>\n",
       "<style scoped>\n",
       "    .dataframe tbody tr th:only-of-type {\n",
       "        vertical-align: middle;\n",
       "    }\n",
       "\n",
       "    .dataframe tbody tr th {\n",
       "        vertical-align: top;\n",
       "    }\n",
       "\n",
       "    .dataframe thead th {\n",
       "        text-align: right;\n",
       "    }\n",
       "</style>\n",
       "<table border=\"1\" class=\"dataframe\">\n",
       "  <thead>\n",
       "    <tr style=\"text-align: right;\">\n",
       "      <th></th>\n",
       "      <th>code</th>\n",
       "      <th>end</th>\n",
       "      <th>name</th>\n",
       "      <th>start</th>\n",
       "    </tr>\n",
       "  </thead>\n",
       "  <tbody>\n",
       "    <tr>\n",
       "      <th>0</th>\n",
       "      <td>SGHC2019</td>\n",
       "      <td>2019-09-23T22:00:00+05:30</td>\n",
       "      <td>Samsung Hiring Challenge</td>\n",
       "      <td>2019-09-13T19:00:00+05:30</td>\n",
       "    </tr>\n",
       "    <tr>\n",
       "      <th>1</th>\n",
       "      <td>INOIPRAC</td>\n",
       "      <td>2020-01-05T00:00:00+05:30</td>\n",
       "      <td>INOI Practice Contest</td>\n",
       "      <td>2016-01-05T00:00:00+05:30</td>\n",
       "    </tr>\n",
       "    <tr>\n",
       "      <th>2</th>\n",
       "      <td>ZCOPRAC</td>\n",
       "      <td>2020-01-05T00:00:00+05:30</td>\n",
       "      <td>ZCO Practice Contest</td>\n",
       "      <td>2015-11-05T00:00:00+05:30</td>\n",
       "    </tr>\n",
       "    <tr>\n",
       "      <th>3</th>\n",
       "      <td>COOK110</td>\n",
       "      <td>2019-09-23T00:00:00+05:30</td>\n",
       "      <td>September Mega Cook-Off 2019</td>\n",
       "      <td>2019-09-22T21:30:00+05:30</td>\n",
       "    </tr>\n",
       "    <tr>\n",
       "      <th>4</th>\n",
       "      <td>LTIME76</td>\n",
       "      <td>2019-09-28T22:30:00+05:30</td>\n",
       "      <td>September Lunchtime 2019</td>\n",
       "      <td>2019-09-28T19:30:00+05:30</td>\n",
       "    </tr>\n",
       "    <tr>\n",
       "      <th>5</th>\n",
       "      <td>OCT19</td>\n",
       "      <td>2019-10-14T15:00:00+05:30</td>\n",
       "      <td>October Challenge 2019</td>\n",
       "      <td>2019-10-04T15:00:00+05:30</td>\n",
       "    </tr>\n",
       "    <tr>\n",
       "      <th>6</th>\n",
       "      <td>UEM22019</td>\n",
       "      <td>2019-11-02T23:30:00+05:30</td>\n",
       "      <td>UEM CODESTORM 2.0</td>\n",
       "      <td>2019-11-02T20:30:00+05:30</td>\n",
       "    </tr>\n",
       "    <tr>\n",
       "      <th>7</th>\n",
       "      <td>BIT22019</td>\n",
       "      <td>2019-09-20T23:30:00+05:30</td>\n",
       "      <td>Biteration #2 (Rated for Division 2)</td>\n",
       "      <td>2019-09-20T21:00:00+05:30</td>\n",
       "    </tr>\n",
       "    <tr>\n",
       "      <th>8</th>\n",
       "      <td>CCWI2019</td>\n",
       "      <td>2019-09-18T21:00:00+05:30</td>\n",
       "      <td>Clash Credenz 2019 Wildcard</td>\n",
       "      <td>2019-09-18T19:00:00+05:30</td>\n",
       "    </tr>\n",
       "    <tr>\n",
       "      <th>9</th>\n",
       "      <td>SEPT19</td>\n",
       "      <td>2019-09-16T15:00:00+05:30</td>\n",
       "      <td>September Challenge 2019</td>\n",
       "      <td>2019-09-06T15:00:00+05:30</td>\n",
       "    </tr>\n",
       "    <tr>\n",
       "      <th>10</th>\n",
       "      <td>AIOL2019</td>\n",
       "      <td>2019-09-08T08:00:00+05:30</td>\n",
       "      <td>IEM AI Olympiad</td>\n",
       "      <td>2019-09-07T20:00:00+05:30</td>\n",
       "    </tr>\n",
       "    <tr>\n",
       "      <th>11</th>\n",
       "      <td>COZI2019</td>\n",
       "      <td>2019-09-08T00:00:00+05:30</td>\n",
       "      <td>CODEZILLA</td>\n",
       "      <td>2019-09-07T21:00:00+05:30</td>\n",
       "    </tr>\n",
       "    <tr>\n",
       "      <th>12</th>\n",
       "      <td>INQU2019</td>\n",
       "      <td>2019-09-07T01:00:00+05:30</td>\n",
       "      <td>Insomnia Qualifier 2019</td>\n",
       "      <td>2019-09-06T21:30:00+05:30</td>\n",
       "    </tr>\n",
       "    <tr>\n",
       "      <th>13</th>\n",
       "      <td>ALCM2019</td>\n",
       "      <td>2019-09-02T00:00:00+05:30</td>\n",
       "      <td>ALCoding Club</td>\n",
       "      <td>2019-09-01T21:00:00+05:30</td>\n",
       "    </tr>\n",
       "    <tr>\n",
       "      <th>14</th>\n",
       "      <td>LTIME75</td>\n",
       "      <td>2019-08-31T23:00:00+05:30</td>\n",
       "      <td>August Lunchtime 2019</td>\n",
       "      <td>2019-08-31T20:00:00+05:30</td>\n",
       "    </tr>\n",
       "    <tr>\n",
       "      <th>15</th>\n",
       "      <td>COHA2019</td>\n",
       "      <td>2019-08-31T12:30:00+05:30</td>\n",
       "      <td>CodeHard</td>\n",
       "      <td>2019-08-31T10:30:00+05:30</td>\n",
       "    </tr>\n",
       "    <tr>\n",
       "      <th>16</th>\n",
       "      <td>CYAU2019</td>\n",
       "      <td>2019-08-25T00:00:00+05:30</td>\n",
       "      <td>Cypher August</td>\n",
       "      <td>2019-08-24T21:00:00+05:30</td>\n",
       "    </tr>\n",
       "    <tr>\n",
       "      <th>17</th>\n",
       "      <td>ENAU2019</td>\n",
       "      <td>2019-08-24T22:30:00+05:30</td>\n",
       "      <td>Encoding Aug'19</td>\n",
       "      <td>2019-08-24T19:30:00+05:30</td>\n",
       "    </tr>\n",
       "    <tr>\n",
       "      <th>18</th>\n",
       "      <td>COOK109</td>\n",
       "      <td>2019-08-19T00:00:00+05:30</td>\n",
       "      <td>August Cook-Off 2019</td>\n",
       "      <td>2019-08-18T21:30:00+05:30</td>\n",
       "    </tr>\n",
       "    <tr>\n",
       "      <th>19</th>\n",
       "      <td>DEER2019</td>\n",
       "      <td>2019-08-18T08:00:00+05:30</td>\n",
       "      <td>DeCipher</td>\n",
       "      <td>2019-08-17T20:00:00+05:30</td>\n",
       "    </tr>\n",
       "    <tr>\n",
       "      <th>20</th>\n",
       "      <td>PCJ2019</td>\n",
       "      <td>2019-08-17T21:30:00+05:30</td>\n",
       "      <td>ProCon Junior</td>\n",
       "      <td>2019-08-17T18:30:00+05:30</td>\n",
       "    </tr>\n",
       "    <tr>\n",
       "      <th>21</th>\n",
       "      <td>JCWR2019</td>\n",
       "      <td>2019-08-15T23:10:00+05:30</td>\n",
       "      <td>Just Coding Wildcard Round</td>\n",
       "      <td>2019-08-15T21:00:00+05:30</td>\n",
       "    </tr>\n",
       "    <tr>\n",
       "      <th>22</th>\n",
       "      <td>AUG19</td>\n",
       "      <td>2019-08-12T15:00:00+05:30</td>\n",
       "      <td>August Challenge 2019</td>\n",
       "      <td>2019-08-02T15:00:00+05:30</td>\n",
       "    </tr>\n",
       "    <tr>\n",
       "      <th>23</th>\n",
       "      <td>KPM32019</td>\n",
       "      <td>2019-08-04T21:30:00+05:30</td>\n",
       "      <td>Ketek[i] Power Match 3</td>\n",
       "      <td>2019-08-04T20:00:00+05:30</td>\n",
       "    </tr>\n",
       "    <tr>\n",
       "      <th>24</th>\n",
       "      <td>LTIME74</td>\n",
       "      <td>2019-07-27T22:30:00+05:30</td>\n",
       "      <td>July Lunchtime 2019 (Unrated for Division-1)</td>\n",
       "      <td>2019-07-27T19:30:00+05:30</td>\n",
       "    </tr>\n",
       "    <tr>\n",
       "      <th>25</th>\n",
       "      <td>COOK108</td>\n",
       "      <td>2019-07-22T00:00:00+05:30</td>\n",
       "      <td>July Cook-Off 2019</td>\n",
       "      <td>2019-07-21T21:30:00+05:30</td>\n",
       "    </tr>\n",
       "    <tr>\n",
       "      <th>26</th>\n",
       "      <td>KPM22019</td>\n",
       "      <td>2019-07-20T22:00:00+05:30</td>\n",
       "      <td>Keteki PowerMatch 2</td>\n",
       "      <td>2019-07-20T20:00:00+05:30</td>\n",
       "    </tr>\n",
       "    <tr>\n",
       "      <th>27</th>\n",
       "      <td>JULY19</td>\n",
       "      <td>2019-07-15T15:00:00+05:30</td>\n",
       "      <td>July Challenge 2019</td>\n",
       "      <td>2019-07-05T15:00:00+05:30</td>\n",
       "    </tr>\n",
       "    <tr>\n",
       "      <th>28</th>\n",
       "      <td>KQ162019</td>\n",
       "      <td>2019-06-30T21:00:00+05:30</td>\n",
       "      <td>Keteki Power Match</td>\n",
       "      <td>2019-06-30T20:00:00+05:30</td>\n",
       "    </tr>\n",
       "    <tr>\n",
       "      <th>29</th>\n",
       "      <td>LTIME73</td>\n",
       "      <td>2019-06-29T22:30:00+05:30</td>\n",
       "      <td>June Lunchtime 2019</td>\n",
       "      <td>2019-06-29T19:30:00+05:30</td>\n",
       "    </tr>\n",
       "    <tr>\n",
       "      <th>...</th>\n",
       "      <td>...</td>\n",
       "      <td>...</td>\n",
       "      <td>...</td>\n",
       "      <td>...</td>\n",
       "    </tr>\n",
       "    <tr>\n",
       "      <th>1083</th>\n",
       "      <td>QCJAM10</td>\n",
       "      <td>2010-01-31T19:45:00+05:30</td>\n",
       "      <td>Quark 2010</td>\n",
       "      <td>2010-01-31T14:00:00+05:30</td>\n",
       "    </tr>\n",
       "    <tr>\n",
       "      <th>1084</th>\n",
       "      <td>SNONLINE</td>\n",
       "      <td>2010-01-25T02:30:00+05:30</td>\n",
       "      <td>Online Team Contest</td>\n",
       "      <td>2010-01-24T21:30:00+05:30</td>\n",
       "    </tr>\n",
       "    <tr>\n",
       "      <th>1085</th>\n",
       "      <td>TV10CAT3</td>\n",
       "      <td>2010-01-25T00:30:00+05:30</td>\n",
       "      <td>Technovanza</td>\n",
       "      <td>2010-01-24T22:00:00+05:30</td>\n",
       "    </tr>\n",
       "    <tr>\n",
       "      <th>1086</th>\n",
       "      <td>ENC2010</td>\n",
       "      <td>2010-01-24T22:00:00+05:30</td>\n",
       "      <td>Encoder 2010</td>\n",
       "      <td>2010-01-24T14:00:00+05:30</td>\n",
       "    </tr>\n",
       "    <tr>\n",
       "      <th>1087</th>\n",
       "      <td>TV10CAT2</td>\n",
       "      <td>2010-01-17T23:00:00+05:30</td>\n",
       "      <td>Technovanza</td>\n",
       "      <td>2010-01-17T21:00:00+05:30</td>\n",
       "    </tr>\n",
       "    <tr>\n",
       "      <th>1088</th>\n",
       "      <td>JAN10</td>\n",
       "      <td>2010-01-15T15:00:00+05:30</td>\n",
       "      <td>January 2010 (Contest XII)</td>\n",
       "      <td>2010-01-01T15:00:00+05:30</td>\n",
       "    </tr>\n",
       "    <tr>\n",
       "      <th>1089</th>\n",
       "      <td>TV10CAT1</td>\n",
       "      <td>2010-01-13T23:00:00+05:30</td>\n",
       "      <td>Technovanza 2010 Round 1</td>\n",
       "      <td>2010-01-13T21:00:00+05:30</td>\n",
       "    </tr>\n",
       "    <tr>\n",
       "      <th>1090</th>\n",
       "      <td>SNONSITE</td>\n",
       "      <td>2010-01-10T15:45:00+05:30</td>\n",
       "      <td>Snackdown Onsite Final</td>\n",
       "      <td>2010-01-10T11:45:00+05:30</td>\n",
       "    </tr>\n",
       "    <tr>\n",
       "      <th>1091</th>\n",
       "      <td>RESNKDWN</td>\n",
       "      <td>2009-12-20T19:00:00+05:30</td>\n",
       "      <td>Codechef Campus ReSnackdown</td>\n",
       "      <td>2009-12-20T16:00:00+05:30</td>\n",
       "    </tr>\n",
       "    <tr>\n",
       "      <th>1092</th>\n",
       "      <td>RESNKTST</td>\n",
       "      <td>2009-12-17T21:00:00+05:30</td>\n",
       "      <td>Resnackdown Practice Run</td>\n",
       "      <td>2009-12-17T19:45:00+05:30</td>\n",
       "    </tr>\n",
       "    <tr>\n",
       "      <th>1093</th>\n",
       "      <td>DEC09</td>\n",
       "      <td>2009-12-11T15:00:00+05:30</td>\n",
       "      <td>December 2009 (Contest XI)</td>\n",
       "      <td>2009-12-01T15:00:00+05:30</td>\n",
       "    </tr>\n",
       "    <tr>\n",
       "      <th>1094</th>\n",
       "      <td>SNACKDWN</td>\n",
       "      <td>2009-11-22T00:00:00+05:30</td>\n",
       "      <td>Codechef Campus Snackdown</td>\n",
       "      <td>2009-11-21T19:00:00+05:30</td>\n",
       "    </tr>\n",
       "    <tr>\n",
       "      <th>1095</th>\n",
       "      <td>SNACKTST</td>\n",
       "      <td>2009-11-19T22:00:00+05:30</td>\n",
       "      <td>Snackdown Test</td>\n",
       "      <td>2009-11-19T20:00:00+05:30</td>\n",
       "    </tr>\n",
       "    <tr>\n",
       "      <th>1096</th>\n",
       "      <td>NOV09</td>\n",
       "      <td>2009-11-11T15:00:00+05:30</td>\n",
       "      <td>November 2009 (Contest X)</td>\n",
       "      <td>2009-11-01T15:00:00+05:30</td>\n",
       "    </tr>\n",
       "    <tr>\n",
       "      <th>1097</th>\n",
       "      <td>CB109</td>\n",
       "      <td>2009-10-28T18:00:00+05:30</td>\n",
       "      <td>Code Baker</td>\n",
       "      <td>2009-10-27T18:00:00+05:30</td>\n",
       "    </tr>\n",
       "    <tr>\n",
       "      <th>1098</th>\n",
       "      <td>KNCO209</td>\n",
       "      <td>2009-10-25T21:00:00+05:30</td>\n",
       "      <td>Knight Coders Round 2</td>\n",
       "      <td>2009-10-24T21:00:00+05:30</td>\n",
       "    </tr>\n",
       "    <tr>\n",
       "      <th>1099</th>\n",
       "      <td>INS09</td>\n",
       "      <td>2009-10-25T19:30:00+05:30</td>\n",
       "      <td>Inscription 2009</td>\n",
       "      <td>2009-10-25T14:30:00+05:30</td>\n",
       "    </tr>\n",
       "    <tr>\n",
       "      <th>1100</th>\n",
       "      <td>OCT09</td>\n",
       "      <td>2009-10-11T15:00:00+05:30</td>\n",
       "      <td>October 2009 (Contest IX)</td>\n",
       "      <td>2009-10-01T15:00:00+05:30</td>\n",
       "    </tr>\n",
       "    <tr>\n",
       "      <th>1101</th>\n",
       "      <td>NSIT091</td>\n",
       "      <td>2009-10-11T00:00:00+05:30</td>\n",
       "      <td>NSIT Contest 1</td>\n",
       "      <td>2009-10-10T00:00:00+05:30</td>\n",
       "    </tr>\n",
       "    <tr>\n",
       "      <th>1102</th>\n",
       "      <td>SEP09</td>\n",
       "      <td>2009-09-11T15:00:00+05:30</td>\n",
       "      <td>September 2009 (Contest VIII)</td>\n",
       "      <td>2009-09-01T15:00:00+05:30</td>\n",
       "    </tr>\n",
       "    <tr>\n",
       "      <th>1103</th>\n",
       "      <td>AUGMINI</td>\n",
       "      <td>2009-08-24T15:00:00+05:30</td>\n",
       "      <td>August Mini Challenge 2009 (Contest VII)</td>\n",
       "      <td>2009-08-22T15:00:00+05:30</td>\n",
       "    </tr>\n",
       "    <tr>\n",
       "      <th>1104</th>\n",
       "      <td>AUG09</td>\n",
       "      <td>2009-08-11T15:00:00+05:30</td>\n",
       "      <td>August 2009 (Contest VI)</td>\n",
       "      <td>2009-08-01T15:00:00+05:30</td>\n",
       "    </tr>\n",
       "    <tr>\n",
       "      <th>1105</th>\n",
       "      <td>JULY09</td>\n",
       "      <td>2009-07-13T15:00:00+05:30</td>\n",
       "      <td>July 2009 (Contest V)</td>\n",
       "      <td>2009-07-01T15:00:00+05:30</td>\n",
       "    </tr>\n",
       "    <tr>\n",
       "      <th>1106</th>\n",
       "      <td>MAYGAMER</td>\n",
       "      <td>2009-06-15T00:00:00+05:30</td>\n",
       "      <td>May Gamers Challenge</td>\n",
       "      <td>2009-05-15T00:00:00+05:30</td>\n",
       "    </tr>\n",
       "    <tr>\n",
       "      <th>1107</th>\n",
       "      <td>JUNE09</td>\n",
       "      <td>2009-06-11T15:00:00+05:30</td>\n",
       "      <td>June 2009 (Contest IV)</td>\n",
       "      <td>2009-06-01T15:00:00+05:30</td>\n",
       "    </tr>\n",
       "    <tr>\n",
       "      <th>1108</th>\n",
       "      <td>MAY09</td>\n",
       "      <td>2009-05-11T15:00:00+05:30</td>\n",
       "      <td>May 2009 (Contest III)</td>\n",
       "      <td>2009-05-01T15:00:00+05:30</td>\n",
       "    </tr>\n",
       "    <tr>\n",
       "      <th>1109</th>\n",
       "      <td>APRIL09</td>\n",
       "      <td>2009-04-15T15:00:00+05:30</td>\n",
       "      <td>April 2009 (Contest II)</td>\n",
       "      <td>2009-04-01T15:00:00+05:30</td>\n",
       "    </tr>\n",
       "    <tr>\n",
       "      <th>1110</th>\n",
       "      <td>INSOM2</td>\n",
       "      <td>2009-03-22T09:00:00+05:30</td>\n",
       "      <td>IIT Roorkee Insomnia - Thought Round</td>\n",
       "      <td>2009-03-21T21:00:00+05:30</td>\n",
       "    </tr>\n",
       "    <tr>\n",
       "      <th>1111</th>\n",
       "      <td>INSOM1</td>\n",
       "      <td>2009-03-20T20:00:00+05:30</td>\n",
       "      <td>IIT Roorkee Insomnia - Speed Round</td>\n",
       "      <td>2009-03-20T16:00:00+05:30</td>\n",
       "    </tr>\n",
       "    <tr>\n",
       "      <th>1112</th>\n",
       "      <td>MARCH09</td>\n",
       "      <td>2009-03-15T00:00:00+05:30</td>\n",
       "      <td>March 2009 (Contest I)</td>\n",
       "      <td>2009-02-28T22:00:00+05:30</td>\n",
       "    </tr>\n",
       "  </tbody>\n",
       "</table>\n",
       "<p>1113 rows × 4 columns</p>\n",
       "</div>"
      ],
      "text/plain": [
       "          code                        end  \\\n",
       "0     SGHC2019  2019-09-23T22:00:00+05:30   \n",
       "1     INOIPRAC  2020-01-05T00:00:00+05:30   \n",
       "2      ZCOPRAC  2020-01-05T00:00:00+05:30   \n",
       "3      COOK110  2019-09-23T00:00:00+05:30   \n",
       "4      LTIME76  2019-09-28T22:30:00+05:30   \n",
       "5        OCT19  2019-10-14T15:00:00+05:30   \n",
       "6     UEM22019  2019-11-02T23:30:00+05:30   \n",
       "7     BIT22019  2019-09-20T23:30:00+05:30   \n",
       "8     CCWI2019  2019-09-18T21:00:00+05:30   \n",
       "9       SEPT19  2019-09-16T15:00:00+05:30   \n",
       "10    AIOL2019  2019-09-08T08:00:00+05:30   \n",
       "11    COZI2019  2019-09-08T00:00:00+05:30   \n",
       "12    INQU2019  2019-09-07T01:00:00+05:30   \n",
       "13    ALCM2019  2019-09-02T00:00:00+05:30   \n",
       "14     LTIME75  2019-08-31T23:00:00+05:30   \n",
       "15    COHA2019  2019-08-31T12:30:00+05:30   \n",
       "16    CYAU2019  2019-08-25T00:00:00+05:30   \n",
       "17    ENAU2019  2019-08-24T22:30:00+05:30   \n",
       "18     COOK109  2019-08-19T00:00:00+05:30   \n",
       "19    DEER2019  2019-08-18T08:00:00+05:30   \n",
       "20     PCJ2019  2019-08-17T21:30:00+05:30   \n",
       "21    JCWR2019  2019-08-15T23:10:00+05:30   \n",
       "22       AUG19  2019-08-12T15:00:00+05:30   \n",
       "23    KPM32019  2019-08-04T21:30:00+05:30   \n",
       "24     LTIME74  2019-07-27T22:30:00+05:30   \n",
       "25     COOK108  2019-07-22T00:00:00+05:30   \n",
       "26    KPM22019  2019-07-20T22:00:00+05:30   \n",
       "27      JULY19  2019-07-15T15:00:00+05:30   \n",
       "28    KQ162019  2019-06-30T21:00:00+05:30   \n",
       "29     LTIME73  2019-06-29T22:30:00+05:30   \n",
       "...        ...                        ...   \n",
       "1083   QCJAM10  2010-01-31T19:45:00+05:30   \n",
       "1084  SNONLINE  2010-01-25T02:30:00+05:30   \n",
       "1085  TV10CAT3  2010-01-25T00:30:00+05:30   \n",
       "1086   ENC2010  2010-01-24T22:00:00+05:30   \n",
       "1087  TV10CAT2  2010-01-17T23:00:00+05:30   \n",
       "1088     JAN10  2010-01-15T15:00:00+05:30   \n",
       "1089  TV10CAT1  2010-01-13T23:00:00+05:30   \n",
       "1090  SNONSITE  2010-01-10T15:45:00+05:30   \n",
       "1091  RESNKDWN  2009-12-20T19:00:00+05:30   \n",
       "1092  RESNKTST  2009-12-17T21:00:00+05:30   \n",
       "1093     DEC09  2009-12-11T15:00:00+05:30   \n",
       "1094  SNACKDWN  2009-11-22T00:00:00+05:30   \n",
       "1095  SNACKTST  2009-11-19T22:00:00+05:30   \n",
       "1096     NOV09  2009-11-11T15:00:00+05:30   \n",
       "1097     CB109  2009-10-28T18:00:00+05:30   \n",
       "1098   KNCO209  2009-10-25T21:00:00+05:30   \n",
       "1099     INS09  2009-10-25T19:30:00+05:30   \n",
       "1100     OCT09  2009-10-11T15:00:00+05:30   \n",
       "1101   NSIT091  2009-10-11T00:00:00+05:30   \n",
       "1102     SEP09  2009-09-11T15:00:00+05:30   \n",
       "1103   AUGMINI  2009-08-24T15:00:00+05:30   \n",
       "1104     AUG09  2009-08-11T15:00:00+05:30   \n",
       "1105    JULY09  2009-07-13T15:00:00+05:30   \n",
       "1106  MAYGAMER  2009-06-15T00:00:00+05:30   \n",
       "1107    JUNE09  2009-06-11T15:00:00+05:30   \n",
       "1108     MAY09  2009-05-11T15:00:00+05:30   \n",
       "1109   APRIL09  2009-04-15T15:00:00+05:30   \n",
       "1110    INSOM2  2009-03-22T09:00:00+05:30   \n",
       "1111    INSOM1  2009-03-20T20:00:00+05:30   \n",
       "1112   MARCH09  2009-03-15T00:00:00+05:30   \n",
       "\n",
       "                                              name                      start  \n",
       "0                         Samsung Hiring Challenge  2019-09-13T19:00:00+05:30  \n",
       "1                            INOI Practice Contest  2016-01-05T00:00:00+05:30  \n",
       "2                             ZCO Practice Contest  2015-11-05T00:00:00+05:30  \n",
       "3                     September Mega Cook-Off 2019  2019-09-22T21:30:00+05:30  \n",
       "4                         September Lunchtime 2019  2019-09-28T19:30:00+05:30  \n",
       "5                           October Challenge 2019  2019-10-04T15:00:00+05:30  \n",
       "6                                UEM CODESTORM 2.0  2019-11-02T20:30:00+05:30  \n",
       "7             Biteration #2 (Rated for Division 2)  2019-09-20T21:00:00+05:30  \n",
       "8                      Clash Credenz 2019 Wildcard  2019-09-18T19:00:00+05:30  \n",
       "9                         September Challenge 2019  2019-09-06T15:00:00+05:30  \n",
       "10                                 IEM AI Olympiad  2019-09-07T20:00:00+05:30  \n",
       "11                                       CODEZILLA  2019-09-07T21:00:00+05:30  \n",
       "12                         Insomnia Qualifier 2019  2019-09-06T21:30:00+05:30  \n",
       "13                                   ALCoding Club  2019-09-01T21:00:00+05:30  \n",
       "14                           August Lunchtime 2019  2019-08-31T20:00:00+05:30  \n",
       "15                                        CodeHard  2019-08-31T10:30:00+05:30  \n",
       "16                                   Cypher August  2019-08-24T21:00:00+05:30  \n",
       "17                                 Encoding Aug'19  2019-08-24T19:30:00+05:30  \n",
       "18                            August Cook-Off 2019  2019-08-18T21:30:00+05:30  \n",
       "19                                        DeCipher  2019-08-17T20:00:00+05:30  \n",
       "20                                   ProCon Junior  2019-08-17T18:30:00+05:30  \n",
       "21                      Just Coding Wildcard Round  2019-08-15T21:00:00+05:30  \n",
       "22                           August Challenge 2019  2019-08-02T15:00:00+05:30  \n",
       "23                          Ketek[i] Power Match 3  2019-08-04T20:00:00+05:30  \n",
       "24    July Lunchtime 2019 (Unrated for Division-1)  2019-07-27T19:30:00+05:30  \n",
       "25                              July Cook-Off 2019  2019-07-21T21:30:00+05:30  \n",
       "26                             Keteki PowerMatch 2  2019-07-20T20:00:00+05:30  \n",
       "27                             July Challenge 2019  2019-07-05T15:00:00+05:30  \n",
       "28                              Keteki Power Match  2019-06-30T20:00:00+05:30  \n",
       "29                             June Lunchtime 2019  2019-06-29T19:30:00+05:30  \n",
       "...                                            ...                        ...  \n",
       "1083                                    Quark 2010  2010-01-31T14:00:00+05:30  \n",
       "1084                           Online Team Contest  2010-01-24T21:30:00+05:30  \n",
       "1085                                   Technovanza  2010-01-24T22:00:00+05:30  \n",
       "1086                                  Encoder 2010  2010-01-24T14:00:00+05:30  \n",
       "1087                                   Technovanza  2010-01-17T21:00:00+05:30  \n",
       "1088                    January 2010 (Contest XII)  2010-01-01T15:00:00+05:30  \n",
       "1089                      Technovanza 2010 Round 1  2010-01-13T21:00:00+05:30  \n",
       "1090                        Snackdown Onsite Final  2010-01-10T11:45:00+05:30  \n",
       "1091                   Codechef Campus ReSnackdown  2009-12-20T16:00:00+05:30  \n",
       "1092                      Resnackdown Practice Run  2009-12-17T19:45:00+05:30  \n",
       "1093                    December 2009 (Contest XI)  2009-12-01T15:00:00+05:30  \n",
       "1094                     Codechef Campus Snackdown  2009-11-21T19:00:00+05:30  \n",
       "1095                                Snackdown Test  2009-11-19T20:00:00+05:30  \n",
       "1096                     November 2009 (Contest X)  2009-11-01T15:00:00+05:30  \n",
       "1097                                    Code Baker  2009-10-27T18:00:00+05:30  \n",
       "1098                         Knight Coders Round 2  2009-10-24T21:00:00+05:30  \n",
       "1099                              Inscription 2009  2009-10-25T14:30:00+05:30  \n",
       "1100                     October 2009 (Contest IX)  2009-10-01T15:00:00+05:30  \n",
       "1101                                NSIT Contest 1  2009-10-10T00:00:00+05:30  \n",
       "1102                 September 2009 (Contest VIII)  2009-09-01T15:00:00+05:30  \n",
       "1103      August Mini Challenge 2009 (Contest VII)  2009-08-22T15:00:00+05:30  \n",
       "1104                      August 2009 (Contest VI)  2009-08-01T15:00:00+05:30  \n",
       "1105                         July 2009 (Contest V)  2009-07-01T15:00:00+05:30  \n",
       "1106                          May Gamers Challenge  2009-05-15T00:00:00+05:30  \n",
       "1107                        June 2009 (Contest IV)  2009-06-01T15:00:00+05:30  \n",
       "1108                        May 2009 (Contest III)  2009-05-01T15:00:00+05:30  \n",
       "1109                       April 2009 (Contest II)  2009-04-01T15:00:00+05:30  \n",
       "1110          IIT Roorkee Insomnia - Thought Round  2009-03-21T21:00:00+05:30  \n",
       "1111            IIT Roorkee Insomnia - Speed Round  2009-03-20T16:00:00+05:30  \n",
       "1112                        March 2009 (Contest I)  2009-02-28T22:00:00+05:30  \n",
       "\n",
       "[1113 rows x 4 columns]"
      ]
     },
     "execution_count": 7,
     "metadata": {},
     "output_type": "execute_result"
    }
   ],
   "source": [
    "menu_df = pd.read_json(\"./inputs/codechef/ccmenu.json\")\n",
    "menu_df"
   ]
  },
  {
   "cell_type": "code",
   "execution_count": 8,
   "metadata": {
    "ExecuteTime": {
     "end_time": "2019-09-21T13:25:19.628374Z",
     "start_time": "2019-09-21T13:25:19.576377Z"
    }
   },
   "outputs": [],
   "source": [
    "# change data type\n",
    "str_cols = ['code', 'name']\n",
    "time_cols = ['start', 'end']\n",
    "cols = ['code', 'name', 'start', 'end']"
   ]
  },
  {
   "cell_type": "code",
   "execution_count": 9,
   "metadata": {
    "ExecuteTime": {
     "end_time": "2019-09-21T13:25:32.952623Z",
     "start_time": "2019-09-21T13:25:32.897909Z"
    }
   },
   "outputs": [
    {
     "data": {
      "text/html": [
       "<div>\n",
       "<style scoped>\n",
       "    .dataframe tbody tr th:only-of-type {\n",
       "        vertical-align: middle;\n",
       "    }\n",
       "\n",
       "    .dataframe tbody tr th {\n",
       "        vertical-align: top;\n",
       "    }\n",
       "\n",
       "    .dataframe thead th {\n",
       "        text-align: right;\n",
       "    }\n",
       "</style>\n",
       "<table border=\"1\" class=\"dataframe\">\n",
       "  <thead>\n",
       "    <tr style=\"text-align: right;\">\n",
       "      <th></th>\n",
       "      <th>code</th>\n",
       "      <th>name</th>\n",
       "      <th>start</th>\n",
       "      <th>end</th>\n",
       "    </tr>\n",
       "  </thead>\n",
       "  <tbody>\n",
       "    <tr>\n",
       "      <th>0</th>\n",
       "      <td>SGHC2019</td>\n",
       "      <td>Samsung Hiring Challenge</td>\n",
       "      <td>2019-09-13T19:00:00+05:30</td>\n",
       "      <td>2019-09-23T22:00:00+05:30</td>\n",
       "    </tr>\n",
       "    <tr>\n",
       "      <th>1</th>\n",
       "      <td>INOIPRAC</td>\n",
       "      <td>INOI Practice Contest</td>\n",
       "      <td>2016-01-05T00:00:00+05:30</td>\n",
       "      <td>2020-01-05T00:00:00+05:30</td>\n",
       "    </tr>\n",
       "    <tr>\n",
       "      <th>2</th>\n",
       "      <td>ZCOPRAC</td>\n",
       "      <td>ZCO Practice Contest</td>\n",
       "      <td>2015-11-05T00:00:00+05:30</td>\n",
       "      <td>2020-01-05T00:00:00+05:30</td>\n",
       "    </tr>\n",
       "    <tr>\n",
       "      <th>3</th>\n",
       "      <td>COOK110</td>\n",
       "      <td>September Mega Cook-Off 2019</td>\n",
       "      <td>2019-09-22T21:30:00+05:30</td>\n",
       "      <td>2019-09-23T00:00:00+05:30</td>\n",
       "    </tr>\n",
       "    <tr>\n",
       "      <th>4</th>\n",
       "      <td>LTIME76</td>\n",
       "      <td>September Lunchtime 2019</td>\n",
       "      <td>2019-09-28T19:30:00+05:30</td>\n",
       "      <td>2019-09-28T22:30:00+05:30</td>\n",
       "    </tr>\n",
       "  </tbody>\n",
       "</table>\n",
       "</div>"
      ],
      "text/plain": [
       "       code                          name                      start  \\\n",
       "0  SGHC2019      Samsung Hiring Challenge  2019-09-13T19:00:00+05:30   \n",
       "1  INOIPRAC         INOI Practice Contest  2016-01-05T00:00:00+05:30   \n",
       "2   ZCOPRAC          ZCO Practice Contest  2015-11-05T00:00:00+05:30   \n",
       "3   COOK110  September Mega Cook-Off 2019  2019-09-22T21:30:00+05:30   \n",
       "4   LTIME76      September Lunchtime 2019  2019-09-28T19:30:00+05:30   \n",
       "\n",
       "                         end  \n",
       "0  2019-09-23T22:00:00+05:30  \n",
       "1  2020-01-05T00:00:00+05:30  \n",
       "2  2020-01-05T00:00:00+05:30  \n",
       "3  2019-09-23T00:00:00+05:30  \n",
       "4  2019-09-28T22:30:00+05:30  "
      ]
     },
     "execution_count": 9,
     "metadata": {},
     "output_type": "execute_result"
    }
   ],
   "source": [
    "menu_df = menu_df[cols]\n",
    "menu_df.head()"
   ]
  },
  {
   "cell_type": "code",
   "execution_count": 14,
   "metadata": {
    "ExecuteTime": {
     "end_time": "2019-09-21T13:33:29.083006Z",
     "start_time": "2019-09-21T13:33:28.984993Z"
    }
   },
   "outputs": [
    {
     "data": {
      "text/html": [
       "<div>\n",
       "<style scoped>\n",
       "    .dataframe tbody tr th:only-of-type {\n",
       "        vertical-align: middle;\n",
       "    }\n",
       "\n",
       "    .dataframe tbody tr th {\n",
       "        vertical-align: top;\n",
       "    }\n",
       "\n",
       "    .dataframe thead th {\n",
       "        text-align: right;\n",
       "    }\n",
       "</style>\n",
       "<table border=\"1\" class=\"dataframe\">\n",
       "  <thead>\n",
       "    <tr style=\"text-align: right;\">\n",
       "      <th></th>\n",
       "      <th>code</th>\n",
       "      <th>name</th>\n",
       "      <th>start</th>\n",
       "      <th>end</th>\n",
       "    </tr>\n",
       "  </thead>\n",
       "  <tbody>\n",
       "    <tr>\n",
       "      <th>0</th>\n",
       "      <td>SGHC2019</td>\n",
       "      <td>Samsung Hiring Challenge</td>\n",
       "      <td>2019-09-13</td>\n",
       "      <td>2019-09-23</td>\n",
       "    </tr>\n",
       "    <tr>\n",
       "      <th>1</th>\n",
       "      <td>INOIPRAC</td>\n",
       "      <td>INOI Practice Contest</td>\n",
       "      <td>2016-01-05</td>\n",
       "      <td>2020-01-05</td>\n",
       "    </tr>\n",
       "    <tr>\n",
       "      <th>2</th>\n",
       "      <td>ZCOPRAC</td>\n",
       "      <td>ZCO Practice Contest</td>\n",
       "      <td>2015-11-05</td>\n",
       "      <td>2020-01-05</td>\n",
       "    </tr>\n",
       "    <tr>\n",
       "      <th>3</th>\n",
       "      <td>COOK110</td>\n",
       "      <td>September Mega Cook-Off 2019</td>\n",
       "      <td>2019-09-22</td>\n",
       "      <td>2019-09-23</td>\n",
       "    </tr>\n",
       "    <tr>\n",
       "      <th>4</th>\n",
       "      <td>LTIME76</td>\n",
       "      <td>September Lunchtime 2019</td>\n",
       "      <td>2019-09-28</td>\n",
       "      <td>2019-09-28</td>\n",
       "    </tr>\n",
       "  </tbody>\n",
       "</table>\n",
       "</div>"
      ],
      "text/plain": [
       "       code                          name       start         end\n",
       "0  SGHC2019      Samsung Hiring Challenge  2019-09-13  2019-09-23\n",
       "1  INOIPRAC         INOI Practice Contest  2016-01-05  2020-01-05\n",
       "2   ZCOPRAC          ZCO Practice Contest  2015-11-05  2020-01-05\n",
       "3   COOK110  September Mega Cook-Off 2019  2019-09-22  2019-09-23\n",
       "4   LTIME76      September Lunchtime 2019  2019-09-28  2019-09-28"
      ]
     },
     "execution_count": 14,
     "metadata": {},
     "output_type": "execute_result"
    }
   ],
   "source": [
    "# change datetime cols\n",
    "menu_df['start'] = menu_df['start'].str[:10]\n",
    "menu_df['end'] = menu_df['end'].str[:10]\n",
    "menu_df.head()"
   ]
  },
  {
   "cell_type": "code",
   "execution_count": 17,
   "metadata": {
    "ExecuteTime": {
     "end_time": "2019-09-21T13:35:14.268326Z",
     "start_time": "2019-09-21T13:35:14.209288Z"
    }
   },
   "outputs": [
    {
     "data": {
      "text/plain": [
       "code             object\n",
       "name             object\n",
       "start    datetime64[ns]\n",
       "end      datetime64[ns]\n",
       "dtype: object"
      ]
     },
     "execution_count": 17,
     "metadata": {},
     "output_type": "execute_result"
    }
   ],
   "source": [
    "menu_df['start'] = pd.to_datetime(menu_df['start'], infer_datetime_format=True)\n",
    "menu_df['end'] = pd.to_datetime(menu_df['end'], infer_datetime_format=True)\n",
    "menu_df.dtypes"
   ]
  },
  {
   "cell_type": "markdown",
   "metadata": {},
   "source": [
    "## Handle Context DataFrame"
   ]
  },
  {
   "cell_type": "code",
   "execution_count": 19,
   "metadata": {
    "ExecuteTime": {
     "end_time": "2019-09-21T13:44:06.689646Z",
     "start_time": "2019-09-21T13:44:06.625550Z"
    }
   },
   "outputs": [],
   "source": [
    "with open(\"./inputs/codechef/cccontext.json\", mode='r', encoding='utf8') as fp:\n",
    "    data = json.load(fp)\n"
   ]
  },
  {
   "cell_type": "code",
   "execution_count": 22,
   "metadata": {
    "ExecuteTime": {
     "end_time": "2019-09-21T13:54:03.497534Z",
     "start_time": "2019-09-21T13:54:03.440530Z"
    }
   },
   "outputs": [
    {
     "data": {
      "text/plain": [
       "[{'contest': 'INTL2019',\n",
       "  'user': 'FAKEBIN',\n",
       "  'type': '0',\n",
       "  'submissions': '293',\n",
       "  'accuracy': 35.3,\n",
       "  'category': 'main'},\n",
       " {'contest': 'INTL2019',\n",
       "  'user': 'TRAIERR',\n",
       "  'type': '0',\n",
       "  'submissions': '15',\n",
       "  'accuracy': 35.29,\n",
       "  'category': 'main'},\n",
       " {'contest': 'INTL2019',\n",
       "  'user': 'PRIMESET',\n",
       "  'type': '0',\n",
       "  'submissions': '66',\n",
       "  'accuracy': 9.55,\n",
       "  'category': 'main'},\n",
       " {'contest': 'INTL2019',\n",
       "  'user': 'CHFEDR',\n",
       "  'type': '0',\n",
       "  'submissions': '32',\n",
       "  'accuracy': 18.5,\n",
       "  'category': 'main'},\n",
       " {'contest': 'INTL2019',\n",
       "  'user': 'CHEFDR',\n",
       "  'type': '0',\n",
       "  'submissions': '162',\n",
       "  'accuracy': 22.16,\n",
       "  'category': 'main'},\n",
       " {'contest': 'INTL2019',\n",
       "  'user': 'CHEFJOU',\n",
       "  'type': '0',\n",
       "  'submissions': '26',\n",
       "  'accuracy': 25,\n",
       "  'category': 'main'},\n",
       " {'contest': 'DRI22019',\n",
       "  'user': 'GOODBAD2',\n",
       "  'type': '0',\n",
       "  'submissions': '21',\n",
       "  'accuracy': 11.93,\n",
       "  'category': 'main'},\n",
       " {'contest': 'DRI22019',\n",
       "  'user': 'NFAR',\n",
       "  'type': '0',\n",
       "  'submissions': '14',\n",
       "  'accuracy': 32.56,\n",
       "  'category': 'main'},\n",
       " {'contest': 'DRI22019',\n",
       "  'user': 'LIT13',\n",
       "  'type': '0',\n",
       "  'submissions': '18',\n",
       "  'accuracy': 4.84,\n",
       "  'category': 'main'},\n",
       " {'contest': 'DRI22019',\n",
       "  'user': 'ZMAGIC',\n",
       "  'type': '0',\n",
       "  'submissions': '30',\n",
       "  'accuracy': 16.85,\n",
       "  'category': 'main'}]"
      ]
     },
     "execution_count": 22,
     "metadata": {},
     "output_type": "execute_result"
    }
   ],
   "source": [
    "cts = []\n",
    "\n",
    "for item in data:\n",
    "    competiters = item['competiters']\n",
    "    if len(competiters) == 0:\n",
    "        continue\n",
    "    for person in competiters.values():\n",
    "        cts.append({\n",
    "            'contest': item['code'],\n",
    "            'user': person['code'],\n",
    "            'type': person['type'],\n",
    "            'submissions': person['successful_submissions'],\n",
    "            'accuracy': person['accuracy'],\n",
    "            'category': person['category_name']\n",
    "        })\n",
    "        \n",
    "cts[:10]"
   ]
  },
  {
   "cell_type": "code",
   "execution_count": 23,
   "metadata": {
    "ExecuteTime": {
     "end_time": "2019-09-21T13:54:14.352911Z",
     "start_time": "2019-09-21T13:54:14.304909Z"
    }
   },
   "outputs": [
    {
     "data": {
      "text/plain": [
       "6644"
      ]
     },
     "execution_count": 23,
     "metadata": {},
     "output_type": "execute_result"
    }
   ],
   "source": [
    "len(cts)"
   ]
  },
  {
   "cell_type": "code",
   "execution_count": 24,
   "metadata": {
    "ExecuteTime": {
     "end_time": "2019-09-21T13:54:42.416372Z",
     "start_time": "2019-09-21T13:54:42.353373Z"
    }
   },
   "outputs": [
    {
     "data": {
      "text/html": [
       "<div>\n",
       "<style scoped>\n",
       "    .dataframe tbody tr th:only-of-type {\n",
       "        vertical-align: middle;\n",
       "    }\n",
       "\n",
       "    .dataframe tbody tr th {\n",
       "        vertical-align: top;\n",
       "    }\n",
       "\n",
       "    .dataframe thead th {\n",
       "        text-align: right;\n",
       "    }\n",
       "</style>\n",
       "<table border=\"1\" class=\"dataframe\">\n",
       "  <thead>\n",
       "    <tr style=\"text-align: right;\">\n",
       "      <th></th>\n",
       "      <th>accuracy</th>\n",
       "      <th>category</th>\n",
       "      <th>contest</th>\n",
       "      <th>submissions</th>\n",
       "      <th>type</th>\n",
       "      <th>user</th>\n",
       "    </tr>\n",
       "  </thead>\n",
       "  <tbody>\n",
       "    <tr>\n",
       "      <th>0</th>\n",
       "      <td>35.30</td>\n",
       "      <td>main</td>\n",
       "      <td>INTL2019</td>\n",
       "      <td>293</td>\n",
       "      <td>0</td>\n",
       "      <td>FAKEBIN</td>\n",
       "    </tr>\n",
       "    <tr>\n",
       "      <th>1</th>\n",
       "      <td>35.29</td>\n",
       "      <td>main</td>\n",
       "      <td>INTL2019</td>\n",
       "      <td>15</td>\n",
       "      <td>0</td>\n",
       "      <td>TRAIERR</td>\n",
       "    </tr>\n",
       "    <tr>\n",
       "      <th>2</th>\n",
       "      <td>9.55</td>\n",
       "      <td>main</td>\n",
       "      <td>INTL2019</td>\n",
       "      <td>66</td>\n",
       "      <td>0</td>\n",
       "      <td>PRIMESET</td>\n",
       "    </tr>\n",
       "    <tr>\n",
       "      <th>3</th>\n",
       "      <td>18.50</td>\n",
       "      <td>main</td>\n",
       "      <td>INTL2019</td>\n",
       "      <td>32</td>\n",
       "      <td>0</td>\n",
       "      <td>CHFEDR</td>\n",
       "    </tr>\n",
       "    <tr>\n",
       "      <th>4</th>\n",
       "      <td>22.16</td>\n",
       "      <td>main</td>\n",
       "      <td>INTL2019</td>\n",
       "      <td>162</td>\n",
       "      <td>0</td>\n",
       "      <td>CHEFDR</td>\n",
       "    </tr>\n",
       "  </tbody>\n",
       "</table>\n",
       "</div>"
      ],
      "text/plain": [
       "   accuracy category   contest submissions type      user\n",
       "0     35.30     main  INTL2019         293    0   FAKEBIN\n",
       "1     35.29     main  INTL2019          15    0   TRAIERR\n",
       "2      9.55     main  INTL2019          66    0  PRIMESET\n",
       "3     18.50     main  INTL2019          32    0    CHFEDR\n",
       "4     22.16     main  INTL2019         162    0    CHEFDR"
      ]
     },
     "execution_count": 24,
     "metadata": {},
     "output_type": "execute_result"
    }
   ],
   "source": [
    "contest_df = pd.DataFrame(cts)\n",
    "contest_df.head()"
   ]
  },
  {
   "cell_type": "code",
   "execution_count": 25,
   "metadata": {
    "ExecuteTime": {
     "end_time": "2019-09-21T13:55:05.000699Z",
     "start_time": "2019-09-21T13:55:04.952678Z"
    }
   },
   "outputs": [
    {
     "data": {
      "text/plain": [
       "Index(['accuracy', 'category', 'contest', 'submissions', 'type', 'user'], dtype='object')"
      ]
     },
     "execution_count": 25,
     "metadata": {},
     "output_type": "execute_result"
    }
   ],
   "source": [
    "contest_df.columns"
   ]
  },
  {
   "cell_type": "code",
   "execution_count": 26,
   "metadata": {
    "ExecuteTime": {
     "end_time": "2019-09-21T13:55:55.564045Z",
     "start_time": "2019-09-21T13:55:55.498047Z"
    }
   },
   "outputs": [
    {
     "data": {
      "text/html": [
       "<div>\n",
       "<style scoped>\n",
       "    .dataframe tbody tr th:only-of-type {\n",
       "        vertical-align: middle;\n",
       "    }\n",
       "\n",
       "    .dataframe tbody tr th {\n",
       "        vertical-align: top;\n",
       "    }\n",
       "\n",
       "    .dataframe thead th {\n",
       "        text-align: right;\n",
       "    }\n",
       "</style>\n",
       "<table border=\"1\" class=\"dataframe\">\n",
       "  <thead>\n",
       "    <tr style=\"text-align: right;\">\n",
       "      <th></th>\n",
       "      <th>contest</th>\n",
       "      <th>user</th>\n",
       "      <th>accuracy</th>\n",
       "      <th>category</th>\n",
       "      <th>submissions</th>\n",
       "      <th>type</th>\n",
       "    </tr>\n",
       "  </thead>\n",
       "  <tbody>\n",
       "    <tr>\n",
       "      <th>0</th>\n",
       "      <td>INTL2019</td>\n",
       "      <td>FAKEBIN</td>\n",
       "      <td>35.30</td>\n",
       "      <td>main</td>\n",
       "      <td>293</td>\n",
       "      <td>0</td>\n",
       "    </tr>\n",
       "    <tr>\n",
       "      <th>1</th>\n",
       "      <td>INTL2019</td>\n",
       "      <td>TRAIERR</td>\n",
       "      <td>35.29</td>\n",
       "      <td>main</td>\n",
       "      <td>15</td>\n",
       "      <td>0</td>\n",
       "    </tr>\n",
       "    <tr>\n",
       "      <th>2</th>\n",
       "      <td>INTL2019</td>\n",
       "      <td>PRIMESET</td>\n",
       "      <td>9.55</td>\n",
       "      <td>main</td>\n",
       "      <td>66</td>\n",
       "      <td>0</td>\n",
       "    </tr>\n",
       "    <tr>\n",
       "      <th>3</th>\n",
       "      <td>INTL2019</td>\n",
       "      <td>CHFEDR</td>\n",
       "      <td>18.50</td>\n",
       "      <td>main</td>\n",
       "      <td>32</td>\n",
       "      <td>0</td>\n",
       "    </tr>\n",
       "    <tr>\n",
       "      <th>4</th>\n",
       "      <td>INTL2019</td>\n",
       "      <td>CHEFDR</td>\n",
       "      <td>22.16</td>\n",
       "      <td>main</td>\n",
       "      <td>162</td>\n",
       "      <td>0</td>\n",
       "    </tr>\n",
       "  </tbody>\n",
       "</table>\n",
       "</div>"
      ],
      "text/plain": [
       "    contest      user  accuracy category submissions type\n",
       "0  INTL2019   FAKEBIN     35.30     main         293    0\n",
       "1  INTL2019   TRAIERR     35.29     main          15    0\n",
       "2  INTL2019  PRIMESET      9.55     main          66    0\n",
       "3  INTL2019    CHFEDR     18.50     main          32    0\n",
       "4  INTL2019    CHEFDR     22.16     main         162    0"
      ]
     },
     "execution_count": 26,
     "metadata": {},
     "output_type": "execute_result"
    }
   ],
   "source": [
    "contest_df = contest_df[[\n",
    "    'contest', 'user', 'accuracy', 'category', 'submissions', 'type'\n",
    "]]\n",
    "contest_df.head()"
   ]
  },
  {
   "cell_type": "code",
   "execution_count": 27,
   "metadata": {
    "ExecuteTime": {
     "end_time": "2019-09-21T13:56:42.264383Z",
     "start_time": "2019-09-21T13:56:42.209354Z"
    }
   },
   "outputs": [
    {
     "data": {
      "text/html": [
       "<div>\n",
       "<style scoped>\n",
       "    .dataframe tbody tr th:only-of-type {\n",
       "        vertical-align: middle;\n",
       "    }\n",
       "\n",
       "    .dataframe tbody tr th {\n",
       "        vertical-align: top;\n",
       "    }\n",
       "\n",
       "    .dataframe thead th {\n",
       "        text-align: right;\n",
       "    }\n",
       "</style>\n",
       "<table border=\"1\" class=\"dataframe\">\n",
       "  <thead>\n",
       "    <tr style=\"text-align: right;\">\n",
       "      <th></th>\n",
       "      <th>code</th>\n",
       "      <th>start</th>\n",
       "    </tr>\n",
       "  </thead>\n",
       "  <tbody>\n",
       "    <tr>\n",
       "      <th>0</th>\n",
       "      <td>SGHC2019</td>\n",
       "      <td>2019-09-13</td>\n",
       "    </tr>\n",
       "    <tr>\n",
       "      <th>1</th>\n",
       "      <td>INOIPRAC</td>\n",
       "      <td>2016-01-05</td>\n",
       "    </tr>\n",
       "    <tr>\n",
       "      <th>2</th>\n",
       "      <td>ZCOPRAC</td>\n",
       "      <td>2015-11-05</td>\n",
       "    </tr>\n",
       "    <tr>\n",
       "      <th>3</th>\n",
       "      <td>COOK110</td>\n",
       "      <td>2019-09-22</td>\n",
       "    </tr>\n",
       "    <tr>\n",
       "      <th>4</th>\n",
       "      <td>LTIME76</td>\n",
       "      <td>2019-09-28</td>\n",
       "    </tr>\n",
       "  </tbody>\n",
       "</table>\n",
       "</div>"
      ],
      "text/plain": [
       "       code      start\n",
       "0  SGHC2019 2019-09-13\n",
       "1  INOIPRAC 2016-01-05\n",
       "2   ZCOPRAC 2015-11-05\n",
       "3   COOK110 2019-09-22\n",
       "4   LTIME76 2019-09-28"
      ]
     },
     "execution_count": 27,
     "metadata": {},
     "output_type": "execute_result"
    }
   ],
   "source": [
    "menu_df = menu_df[['code', 'start']]\n",
    "menu_df.head()"
   ]
  },
  {
   "cell_type": "code",
   "execution_count": 29,
   "metadata": {
    "ExecuteTime": {
     "end_time": "2019-09-21T13:57:41.403153Z",
     "start_time": "2019-09-21T13:57:41.338126Z"
    }
   },
   "outputs": [
    {
     "data": {
      "text/html": [
       "<div>\n",
       "<style scoped>\n",
       "    .dataframe tbody tr th:only-of-type {\n",
       "        vertical-align: middle;\n",
       "    }\n",
       "\n",
       "    .dataframe tbody tr th {\n",
       "        vertical-align: top;\n",
       "    }\n",
       "\n",
       "    .dataframe thead th {\n",
       "        text-align: right;\n",
       "    }\n",
       "</style>\n",
       "<table border=\"1\" class=\"dataframe\">\n",
       "  <thead>\n",
       "    <tr style=\"text-align: right;\">\n",
       "      <th></th>\n",
       "      <th>contest</th>\n",
       "      <th>user</th>\n",
       "      <th>accuracy</th>\n",
       "      <th>category</th>\n",
       "      <th>submissions</th>\n",
       "      <th>type</th>\n",
       "      <th>code</th>\n",
       "      <th>start</th>\n",
       "    </tr>\n",
       "  </thead>\n",
       "  <tbody>\n",
       "    <tr>\n",
       "      <th>0</th>\n",
       "      <td>INTL2019</td>\n",
       "      <td>FAKEBIN</td>\n",
       "      <td>35.30</td>\n",
       "      <td>main</td>\n",
       "      <td>293</td>\n",
       "      <td>0</td>\n",
       "      <td>INTL2019</td>\n",
       "      <td>2019-04-19</td>\n",
       "    </tr>\n",
       "    <tr>\n",
       "      <th>1</th>\n",
       "      <td>INTL2019</td>\n",
       "      <td>TRAIERR</td>\n",
       "      <td>35.29</td>\n",
       "      <td>main</td>\n",
       "      <td>15</td>\n",
       "      <td>0</td>\n",
       "      <td>INTL2019</td>\n",
       "      <td>2019-04-19</td>\n",
       "    </tr>\n",
       "    <tr>\n",
       "      <th>2</th>\n",
       "      <td>INTL2019</td>\n",
       "      <td>PRIMESET</td>\n",
       "      <td>9.55</td>\n",
       "      <td>main</td>\n",
       "      <td>66</td>\n",
       "      <td>0</td>\n",
       "      <td>INTL2019</td>\n",
       "      <td>2019-04-19</td>\n",
       "    </tr>\n",
       "    <tr>\n",
       "      <th>3</th>\n",
       "      <td>INTL2019</td>\n",
       "      <td>CHFEDR</td>\n",
       "      <td>18.50</td>\n",
       "      <td>main</td>\n",
       "      <td>32</td>\n",
       "      <td>0</td>\n",
       "      <td>INTL2019</td>\n",
       "      <td>2019-04-19</td>\n",
       "    </tr>\n",
       "    <tr>\n",
       "      <th>4</th>\n",
       "      <td>INTL2019</td>\n",
       "      <td>CHEFDR</td>\n",
       "      <td>22.16</td>\n",
       "      <td>main</td>\n",
       "      <td>162</td>\n",
       "      <td>0</td>\n",
       "      <td>INTL2019</td>\n",
       "      <td>2019-04-19</td>\n",
       "    </tr>\n",
       "  </tbody>\n",
       "</table>\n",
       "</div>"
      ],
      "text/plain": [
       "    contest      user  accuracy category submissions type      code      start\n",
       "0  INTL2019   FAKEBIN     35.30     main         293    0  INTL2019 2019-04-19\n",
       "1  INTL2019   TRAIERR     35.29     main          15    0  INTL2019 2019-04-19\n",
       "2  INTL2019  PRIMESET      9.55     main          66    0  INTL2019 2019-04-19\n",
       "3  INTL2019    CHFEDR     18.50     main          32    0  INTL2019 2019-04-19\n",
       "4  INTL2019    CHEFDR     22.16     main         162    0  INTL2019 2019-04-19"
      ]
     },
     "execution_count": 29,
     "metadata": {},
     "output_type": "execute_result"
    }
   ],
   "source": [
    "item_df = pd.merge(left=contest_df,\n",
    "                   right=menu_df,\n",
    "                   left_on='contest',\n",
    "                   right_on='code',\n",
    "                   how='inner')\n",
    "item_df.head()"
   ]
  },
  {
   "cell_type": "code",
   "execution_count": 30,
   "metadata": {
    "ExecuteTime": {
     "end_time": "2019-09-21T13:58:44.131564Z",
     "start_time": "2019-09-21T13:58:44.082531Z"
    }
   },
   "outputs": [
    {
     "data": {
      "text/plain": [
       "Index(['contest', 'user', 'accuracy', 'category', 'submissions', 'type',\n",
       "       'code', 'start'],\n",
       "      dtype='object')"
      ]
     },
     "execution_count": 30,
     "metadata": {},
     "output_type": "execute_result"
    }
   ],
   "source": [
    "item_df.columns"
   ]
  },
  {
   "cell_type": "code",
   "execution_count": 31,
   "metadata": {
    "ExecuteTime": {
     "end_time": "2019-09-21T13:59:16.451594Z",
     "start_time": "2019-09-21T13:59:16.394596Z"
    }
   },
   "outputs": [
    {
     "data": {
      "text/html": [
       "<div>\n",
       "<style scoped>\n",
       "    .dataframe tbody tr th:only-of-type {\n",
       "        vertical-align: middle;\n",
       "    }\n",
       "\n",
       "    .dataframe tbody tr th {\n",
       "        vertical-align: top;\n",
       "    }\n",
       "\n",
       "    .dataframe thead th {\n",
       "        text-align: right;\n",
       "    }\n",
       "</style>\n",
       "<table border=\"1\" class=\"dataframe\">\n",
       "  <thead>\n",
       "    <tr style=\"text-align: right;\">\n",
       "      <th></th>\n",
       "      <th>contest</th>\n",
       "      <th>user</th>\n",
       "      <th>start</th>\n",
       "      <th>accuracy</th>\n",
       "      <th>category</th>\n",
       "      <th>submissions</th>\n",
       "      <th>type</th>\n",
       "    </tr>\n",
       "  </thead>\n",
       "  <tbody>\n",
       "    <tr>\n",
       "      <th>0</th>\n",
       "      <td>INTL2019</td>\n",
       "      <td>FAKEBIN</td>\n",
       "      <td>2019-04-19</td>\n",
       "      <td>35.30</td>\n",
       "      <td>main</td>\n",
       "      <td>293</td>\n",
       "      <td>0</td>\n",
       "    </tr>\n",
       "    <tr>\n",
       "      <th>1</th>\n",
       "      <td>INTL2019</td>\n",
       "      <td>TRAIERR</td>\n",
       "      <td>2019-04-19</td>\n",
       "      <td>35.29</td>\n",
       "      <td>main</td>\n",
       "      <td>15</td>\n",
       "      <td>0</td>\n",
       "    </tr>\n",
       "    <tr>\n",
       "      <th>2</th>\n",
       "      <td>INTL2019</td>\n",
       "      <td>PRIMESET</td>\n",
       "      <td>2019-04-19</td>\n",
       "      <td>9.55</td>\n",
       "      <td>main</td>\n",
       "      <td>66</td>\n",
       "      <td>0</td>\n",
       "    </tr>\n",
       "    <tr>\n",
       "      <th>3</th>\n",
       "      <td>INTL2019</td>\n",
       "      <td>CHFEDR</td>\n",
       "      <td>2019-04-19</td>\n",
       "      <td>18.50</td>\n",
       "      <td>main</td>\n",
       "      <td>32</td>\n",
       "      <td>0</td>\n",
       "    </tr>\n",
       "    <tr>\n",
       "      <th>4</th>\n",
       "      <td>INTL2019</td>\n",
       "      <td>CHEFDR</td>\n",
       "      <td>2019-04-19</td>\n",
       "      <td>22.16</td>\n",
       "      <td>main</td>\n",
       "      <td>162</td>\n",
       "      <td>0</td>\n",
       "    </tr>\n",
       "  </tbody>\n",
       "</table>\n",
       "</div>"
      ],
      "text/plain": [
       "    contest      user      start  accuracy category submissions type\n",
       "0  INTL2019   FAKEBIN 2019-04-19     35.30     main         293    0\n",
       "1  INTL2019   TRAIERR 2019-04-19     35.29     main          15    0\n",
       "2  INTL2019  PRIMESET 2019-04-19      9.55     main          66    0\n",
       "3  INTL2019    CHFEDR 2019-04-19     18.50     main          32    0\n",
       "4  INTL2019    CHEFDR 2019-04-19     22.16     main         162    0"
      ]
     },
     "execution_count": 31,
     "metadata": {},
     "output_type": "execute_result"
    }
   ],
   "source": [
    "item_df = item_df[[\n",
    "    'contest', 'user', 'start', 'accuracy', 'category', 'submissions', 'type'\n",
    "]]\n",
    "item_df.head()"
   ]
  },
  {
   "cell_type": "code",
   "execution_count": 32,
   "metadata": {
    "ExecuteTime": {
     "end_time": "2019-09-21T13:59:37.613356Z",
     "start_time": "2019-09-21T13:59:37.560817Z"
    }
   },
   "outputs": [
    {
     "data": {
      "text/plain": [
       "contest        False\n",
       "user           False\n",
       "start          False\n",
       "accuracy       False\n",
       "category       False\n",
       "submissions    False\n",
       "type           False\n",
       "dtype: bool"
      ]
     },
     "execution_count": 32,
     "metadata": {},
     "output_type": "execute_result"
    }
   ],
   "source": [
    "item_df.isna().any()"
   ]
  },
  {
   "cell_type": "code",
   "execution_count": 33,
   "metadata": {
    "ExecuteTime": {
     "end_time": "2019-09-21T13:59:46.557422Z",
     "start_time": "2019-09-21T13:59:46.505427Z"
    }
   },
   "outputs": [
    {
     "data": {
      "text/plain": [
       "contest                object\n",
       "user                   object\n",
       "start          datetime64[ns]\n",
       "accuracy              float64\n",
       "category               object\n",
       "submissions            object\n",
       "type                   object\n",
       "dtype: object"
      ]
     },
     "execution_count": 33,
     "metadata": {},
     "output_type": "execute_result"
    }
   ],
   "source": [
    "item_df.dtypes"
   ]
  },
  {
   "cell_type": "code",
   "execution_count": 34,
   "metadata": {
    "ExecuteTime": {
     "end_time": "2019-09-21T14:01:04.903592Z",
     "start_time": "2019-09-21T14:01:04.770591Z"
    }
   },
   "outputs": [
    {
     "data": {
      "text/plain": [
       "contest                object\n",
       "user                   object\n",
       "start          datetime64[ns]\n",
       "accuracy              float64\n",
       "category               object\n",
       "submissions             int64\n",
       "type                   object\n",
       "dtype: object"
      ]
     },
     "execution_count": 34,
     "metadata": {},
     "output_type": "execute_result"
    }
   ],
   "source": [
    "item_df['submissions'] = item_df['submissions'].astype('int64')\n",
    "item_df.dtypes"
   ]
  },
  {
   "cell_type": "code",
   "execution_count": 35,
   "metadata": {
    "ExecuteTime": {
     "end_time": "2019-09-21T14:01:29.496333Z",
     "start_time": "2019-09-21T14:01:29.394303Z"
    }
   },
   "outputs": [],
   "source": [
    "# Save result\n",
    "item_df.to_csv(\"./inputs/codechef/item.csv\", index=False)"
   ]
  },
  {
   "cell_type": "markdown",
   "metadata": {},
   "source": [
    "## Preprocessing dataframe"
   ]
  },
  {
   "cell_type": "code",
   "execution_count": 36,
   "metadata": {
    "ExecuteTime": {
     "end_time": "2019-09-21T14:01:59.962377Z",
     "start_time": "2019-09-21T14:01:59.898349Z"
    }
   },
   "outputs": [
    {
     "data": {
      "text/html": [
       "<div>\n",
       "<style scoped>\n",
       "    .dataframe tbody tr th:only-of-type {\n",
       "        vertical-align: middle;\n",
       "    }\n",
       "\n",
       "    .dataframe tbody tr th {\n",
       "        vertical-align: top;\n",
       "    }\n",
       "\n",
       "    .dataframe thead th {\n",
       "        text-align: right;\n",
       "    }\n",
       "</style>\n",
       "<table border=\"1\" class=\"dataframe\">\n",
       "  <thead>\n",
       "    <tr style=\"text-align: right;\">\n",
       "      <th></th>\n",
       "      <th>contest</th>\n",
       "      <th>user</th>\n",
       "      <th>start</th>\n",
       "      <th>accuracy</th>\n",
       "      <th>category</th>\n",
       "      <th>submissions</th>\n",
       "      <th>type</th>\n",
       "    </tr>\n",
       "  </thead>\n",
       "  <tbody>\n",
       "    <tr>\n",
       "      <th>0</th>\n",
       "      <td>INTL2019</td>\n",
       "      <td>FAKEBIN</td>\n",
       "      <td>2019-04-19</td>\n",
       "      <td>35.30</td>\n",
       "      <td>main</td>\n",
       "      <td>293</td>\n",
       "      <td>0</td>\n",
       "    </tr>\n",
       "    <tr>\n",
       "      <th>1</th>\n",
       "      <td>INTL2019</td>\n",
       "      <td>TRAIERR</td>\n",
       "      <td>2019-04-19</td>\n",
       "      <td>35.29</td>\n",
       "      <td>main</td>\n",
       "      <td>15</td>\n",
       "      <td>0</td>\n",
       "    </tr>\n",
       "    <tr>\n",
       "      <th>2</th>\n",
       "      <td>INTL2019</td>\n",
       "      <td>PRIMESET</td>\n",
       "      <td>2019-04-19</td>\n",
       "      <td>9.55</td>\n",
       "      <td>main</td>\n",
       "      <td>66</td>\n",
       "      <td>0</td>\n",
       "    </tr>\n",
       "    <tr>\n",
       "      <th>3</th>\n",
       "      <td>INTL2019</td>\n",
       "      <td>CHFEDR</td>\n",
       "      <td>2019-04-19</td>\n",
       "      <td>18.50</td>\n",
       "      <td>main</td>\n",
       "      <td>32</td>\n",
       "      <td>0</td>\n",
       "    </tr>\n",
       "    <tr>\n",
       "      <th>4</th>\n",
       "      <td>INTL2019</td>\n",
       "      <td>CHEFDR</td>\n",
       "      <td>2019-04-19</td>\n",
       "      <td>22.16</td>\n",
       "      <td>main</td>\n",
       "      <td>162</td>\n",
       "      <td>0</td>\n",
       "    </tr>\n",
       "  </tbody>\n",
       "</table>\n",
       "</div>"
      ],
      "text/plain": [
       "    contest      user       start  accuracy category  submissions  type\n",
       "0  INTL2019   FAKEBIN  2019-04-19     35.30     main          293     0\n",
       "1  INTL2019   TRAIERR  2019-04-19     35.29     main           15     0\n",
       "2  INTL2019  PRIMESET  2019-04-19      9.55     main           66     0\n",
       "3  INTL2019    CHFEDR  2019-04-19     18.50     main           32     0\n",
       "4  INTL2019    CHEFDR  2019-04-19     22.16     main          162     0"
      ]
     },
     "execution_count": 36,
     "metadata": {},
     "output_type": "execute_result"
    }
   ],
   "source": [
    "item_df = pd.read_csv(\"./inputs/codechef/item.csv\")\n",
    "item_df.head()"
   ]
  },
  {
   "cell_type": "code",
   "execution_count": 37,
   "metadata": {
    "ExecuteTime": {
     "end_time": "2019-09-21T14:02:03.632169Z",
     "start_time": "2019-09-21T14:02:03.578168Z"
    }
   },
   "outputs": [
    {
     "name": "stdout",
     "output_type": "stream",
     "text": [
      "<class 'pandas.core.frame.DataFrame'>\n",
      "RangeIndex: 6644 entries, 0 to 6643\n",
      "Data columns (total 7 columns):\n",
      "contest        6644 non-null object\n",
      "user           6644 non-null object\n",
      "start          6644 non-null object\n",
      "accuracy       6644 non-null float64\n",
      "category       6644 non-null object\n",
      "submissions    6644 non-null int64\n",
      "type           6644 non-null int64\n",
      "dtypes: float64(1), int64(2), object(4)\n",
      "memory usage: 363.4+ KB\n"
     ]
    }
   ],
   "source": [
    "item_df.info()"
   ]
  },
  {
   "cell_type": "code",
   "execution_count": 38,
   "metadata": {
    "ExecuteTime": {
     "end_time": "2019-09-21T14:02:42.174145Z",
     "start_time": "2019-09-21T14:02:42.115133Z"
    }
   },
   "outputs": [
    {
     "name": "stdout",
     "output_type": "stream",
     "text": [
      "<class 'pandas.core.frame.DataFrame'>\n",
      "RangeIndex: 6644 entries, 0 to 6643\n",
      "Data columns (total 7 columns):\n",
      "contest        6644 non-null object\n",
      "user           6644 non-null object\n",
      "start          6644 non-null datetime64[ns]\n",
      "accuracy       6644 non-null float64\n",
      "category       6644 non-null object\n",
      "submissions    6644 non-null int64\n",
      "type           6644 non-null int64\n",
      "dtypes: datetime64[ns](1), float64(1), int64(2), object(3)\n",
      "memory usage: 363.4+ KB\n"
     ]
    }
   ],
   "source": [
    "item_df['start'] = pd.to_datetime(item_df['start'], infer_datetime_format=True)\n",
    "item_df.info()"
   ]
  },
  {
   "cell_type": "code",
   "execution_count": 39,
   "metadata": {
    "ExecuteTime": {
     "end_time": "2019-09-21T14:04:08.907941Z",
     "start_time": "2019-09-21T14:04:08.857917Z"
    }
   },
   "outputs": [
    {
     "name": "stdout",
     "output_type": "stream",
     "text": [
      "Original dataframe shape (6644, 7)\n"
     ]
    }
   ],
   "source": [
    "print(f\"Original dataframe shape {item_df.shape}\")"
   ]
  },
  {
   "cell_type": "code",
   "execution_count": 43,
   "metadata": {
    "ExecuteTime": {
     "end_time": "2019-09-21T14:05:54.848182Z",
     "start_time": "2019-09-21T14:05:54.794186Z"
    }
   },
   "outputs": [
    {
     "data": {
      "text/plain": [
       "CHN15E      3\n",
       "KOL15A      3\n",
       "ACM14AM5    3\n",
       "ACM14AM2    3\n",
       "AMR15A      3\n",
       "Name: user, dtype: int64"
      ]
     },
     "execution_count": 43,
     "metadata": {},
     "output_type": "execute_result"
    }
   ],
   "source": [
    "user_counts = item_df['user'].value_counts()\n",
    "user_counts.head()"
   ]
  },
  {
   "cell_type": "code",
   "execution_count": 44,
   "metadata": {
    "ExecuteTime": {
     "end_time": "2019-09-21T14:05:55.689796Z",
     "start_time": "2019-09-21T14:05:55.641826Z"
    }
   },
   "outputs": [
    {
     "name": "stdout",
     "output_type": "stream",
     "text": [
      "User size 6244\n"
     ]
    }
   ],
   "source": [
    "print(f\"User size {user_counts.size}\")"
   ]
  },
  {
   "cell_type": "code",
   "execution_count": 42,
   "metadata": {
    "ExecuteTime": {
     "end_time": "2019-09-21T14:05:12.045310Z",
     "start_time": "2019-09-21T14:05:11.993311Z"
    }
   },
   "outputs": [
    {
     "name": "stdout",
     "output_type": "stream",
     "text": [
      "Filtered user size 0\n"
     ]
    }
   ],
   "source": [
    "user_counts = user_counts[user_counts >= 4]\n",
    "print(f\"Filtered user size {user_counts.size}\")"
   ]
  },
  {
   "cell_type": "code",
   "execution_count": 46,
   "metadata": {
    "ExecuteTime": {
     "end_time": "2019-09-21T14:06:51.130232Z",
     "start_time": "2019-09-21T14:06:51.082230Z"
    }
   },
   "outputs": [
    {
     "data": {
      "text/plain": [
       "GRGUY       1\n",
       "SEAARASU    1\n",
       "CHCINEMA    1\n",
       "PAINTBOX    1\n",
       "INF16L      1\n",
       "Name: user, dtype: int64"
      ]
     },
     "execution_count": 46,
     "metadata": {},
     "output_type": "execute_result"
    }
   ],
   "source": [
    "user_counts.sort_values(ascending=True).head()"
   ]
  }
 ],
 "metadata": {
  "kernelspec": {
   "display_name": "recommender",
   "language": "python",
   "name": "recommender"
  },
  "language_info": {
   "codemirror_mode": {
    "name": "ipython",
    "version": 3
   },
   "file_extension": ".py",
   "mimetype": "text/x-python",
   "name": "python",
   "nbconvert_exporter": "python",
   "pygments_lexer": "ipython3",
   "version": "3.6.8"
  }
 },
 "nbformat": 4,
 "nbformat_minor": 2
}
