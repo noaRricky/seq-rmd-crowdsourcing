{
 "cells": [
  {
   "cell_type": "code",
   "execution_count": 1,
   "metadata": {
    "ExecuteTime": {
     "end_time": "2019-09-19T03:25:56.668272Z",
     "start_time": "2019-09-19T03:25:56.390179Z"
    }
   },
   "outputs": [],
   "source": [
    "%reload_ext autoreload\n",
    "%autoreload 2\n",
    "%matplotlib inline"
   ]
  },
  {
   "cell_type": "code",
   "execution_count": 2,
   "metadata": {
    "ExecuteTime": {
     "end_time": "2019-09-19T03:25:56.711180Z",
     "start_time": "2019-09-19T03:25:56.669180Z"
    }
   },
   "outputs": [
    {
     "name": "stdout",
     "output_type": "stream",
     "text": [
      "C:\\Projects\\python\\recommender\n"
     ]
    }
   ],
   "source": [
    "# Go to root directory\n",
    "%cd ../.."
   ]
  },
  {
   "cell_type": "code",
   "execution_count": 3,
   "metadata": {
    "ExecuteTime": {
     "end_time": "2019-09-19T03:25:58.179238Z",
     "start_time": "2019-09-19T03:25:57.873209Z"
    }
   },
   "outputs": [],
   "source": [
    "import json\n",
    "\n",
    "import numpy as np\n",
    "import pandas as pd"
   ]
  },
  {
   "cell_type": "code",
   "execution_count": 4,
   "metadata": {
    "ExecuteTime": {
     "end_time": "2019-09-19T03:25:59.145211Z",
     "start_time": "2019-09-19T03:25:59.026181Z"
    }
   },
   "outputs": [
    {
     "data": {
      "text/html": [
       "<div>\n",
       "<style scoped>\n",
       "    .dataframe tbody tr th:only-of-type {\n",
       "        vertical-align: middle;\n",
       "    }\n",
       "\n",
       "    .dataframe tbody tr th {\n",
       "        vertical-align: top;\n",
       "    }\n",
       "\n",
       "    .dataframe thead th {\n",
       "        text-align: right;\n",
       "    }\n",
       "</style>\n",
       "<table border=\"1\" class=\"dataframe\">\n",
       "  <thead>\n",
       "    <tr style=\"text-align: right;\">\n",
       "      <th></th>\n",
       "      <th>competitionId</th>\n",
       "      <th>competitionName</th>\n",
       "      <th>competitionTitle</th>\n",
       "      <th>deadline</th>\n",
       "      <th>rewardQuantity</th>\n",
       "      <th>rewardTypeName</th>\n",
       "      <th>totalTeams</th>\n",
       "    </tr>\n",
       "  </thead>\n",
       "  <tbody>\n",
       "    <tr>\n",
       "      <th>0</th>\n",
       "      <td>14774</td>\n",
       "      <td>aptos2019-blindness-detection</td>\n",
       "      <td>APTOS 2019 Blindness Detection</td>\n",
       "      <td>2019-09-07T23:59:00Z</td>\n",
       "      <td>50000.0</td>\n",
       "      <td>USD</td>\n",
       "      <td>2943</td>\n",
       "    </tr>\n",
       "    <tr>\n",
       "      <th>1</th>\n",
       "      <td>15447</td>\n",
       "      <td>ciphertext-challenge-iii</td>\n",
       "      <td>Ciphertext Challenge III</td>\n",
       "      <td>2019-09-05T23:59:00Z</td>\n",
       "      <td>0.0</td>\n",
       "      <td>Swag</td>\n",
       "      <td>103</td>\n",
       "    </tr>\n",
       "    <tr>\n",
       "      <th>2</th>\n",
       "      <td>14652</td>\n",
       "      <td>siim-acr-pneumothorax-segmentation</td>\n",
       "      <td>SIIM-ACR Pneumothorax Segmentation</td>\n",
       "      <td>2019-09-04T23:59:00Z</td>\n",
       "      <td>30000.0</td>\n",
       "      <td>USD</td>\n",
       "      <td>1475</td>\n",
       "    </tr>\n",
       "    <tr>\n",
       "      <th>3</th>\n",
       "      <td>14313</td>\n",
       "      <td>champs-scalar-coupling</td>\n",
       "      <td>Predicting Molecular Properties</td>\n",
       "      <td>2019-08-28T23:59:00Z</td>\n",
       "      <td>30000.0</td>\n",
       "      <td>USD</td>\n",
       "      <td>2749</td>\n",
       "    </tr>\n",
       "    <tr>\n",
       "      <th>4</th>\n",
       "      <td>15062</td>\n",
       "      <td>generative-dog-images</td>\n",
       "      <td>Generative Dog Images</td>\n",
       "      <td>2019-08-28T19:23:00Z</td>\n",
       "      <td>10000.0</td>\n",
       "      <td>USD</td>\n",
       "      <td>927</td>\n",
       "    </tr>\n",
       "  </tbody>\n",
       "</table>\n",
       "</div>"
      ],
      "text/plain": [
       "   competitionId                     competitionName  \\\n",
       "0          14774       aptos2019-blindness-detection   \n",
       "1          15447            ciphertext-challenge-iii   \n",
       "2          14652  siim-acr-pneumothorax-segmentation   \n",
       "3          14313              champs-scalar-coupling   \n",
       "4          15062               generative-dog-images   \n",
       "\n",
       "                     competitionTitle              deadline  rewardQuantity  \\\n",
       "0      APTOS 2019 Blindness Detection  2019-09-07T23:59:00Z         50000.0   \n",
       "1            Ciphertext Challenge III  2019-09-05T23:59:00Z             0.0   \n",
       "2  SIIM-ACR Pneumothorax Segmentation  2019-09-04T23:59:00Z         30000.0   \n",
       "3     Predicting Molecular Properties  2019-08-28T23:59:00Z         30000.0   \n",
       "4               Generative Dog Images  2019-08-28T19:23:00Z         10000.0   \n",
       "\n",
       "  rewardTypeName  totalTeams  \n",
       "0            USD        2943  \n",
       "1           Swag         103  \n",
       "2            USD        1475  \n",
       "3            USD        2749  \n",
       "4            USD         927  "
      ]
     },
     "execution_count": 4,
     "metadata": {},
     "output_type": "execute_result"
    }
   ],
   "source": [
    "comp_df = pd.read_json(\"./inputs/kaggle/competitions.json\")\n",
    "comp_df.head()"
   ]
  },
  {
   "cell_type": "code",
   "execution_count": 18,
   "metadata": {
    "ExecuteTime": {
     "end_time": "2019-09-18T12:36:05.028888Z",
     "start_time": "2019-09-18T12:35:59.583889Z"
    }
   },
   "outputs": [],
   "source": [
    "leaderboard = []\n",
    "with open(\"./inputs/kaggle/leaderboard.json\", mode='r', encoding='utf8') as fp:\n",
    "    leaderboard = json.load(fp)"
   ]
  },
  {
   "cell_type": "markdown",
   "metadata": {},
   "source": [
    "### Generate team dataframe"
   ]
  },
  {
   "cell_type": "code",
   "execution_count": 20,
   "metadata": {
    "ExecuteTime": {
     "end_time": "2019-09-18T12:45:21.797889Z",
     "start_time": "2019-09-18T12:45:21.279889Z"
    },
    "collapsed": true
   },
   "outputs": [
    {
     "data": {
      "text/plain": [
       "[{'competitonId': 14774,\n",
       "  'teamId': 3341991,\n",
       "  'members': 2,\n",
       "  'rank': 1,\n",
       "  'entries': 176,\n",
       "  'score': '0.856139'},\n",
       " {'competitonId': 14774,\n",
       "  'teamId': 3374221,\n",
       "  'members': 5,\n",
       "  'rank': 2,\n",
       "  'entries': 332,\n",
       "  'score': '0.855232'},\n",
       " {'competitonId': 14774,\n",
       "  'teamId': 3353277,\n",
       "  'members': 3,\n",
       "  'rank': 3,\n",
       "  'entries': 203,\n",
       "  'score': '0.850749'},\n",
       " {'competitonId': 14774,\n",
       "  'teamId': 3339442,\n",
       "  'members': 1,\n",
       "  'rank': 4,\n",
       "  'entries': 118,\n",
       "  'score': '0.850352'},\n",
       " {'competitonId': 14774,\n",
       "  'teamId': 3459925,\n",
       "  'members': 3,\n",
       "  'rank': 5,\n",
       "  'entries': 321,\n",
       "  'score': '0.850220'}]"
      ]
     },
     "execution_count": 20,
     "metadata": {},
     "output_type": "execute_result"
    }
   ],
   "source": [
    "comp_team_pair = []\n",
    "\n",
    "for item in leaderboard:\n",
    "    comp_id = item['competitionId']\n",
    "    for team in item['public']:\n",
    "        team_id = team['teamId']\n",
    "        members = len(team['members'])\n",
    "        rank = team['rank']\n",
    "        entries = team['entries']\n",
    "        score = team['score']\n",
    "\n",
    "        comp_team_pair.append({\n",
    "            'competitonId': comp_id,\n",
    "            'teamId': team_id,\n",
    "            'members': members,\n",
    "            'rank': rank,\n",
    "            'entries': entries,\n",
    "            'score': score\n",
    "        })\n",
    "\n",
    "    for team in item['private']:\n",
    "        team_id = team['teamId']\n",
    "        members = len(team['members'])\n",
    "        rank = team['rank']\n",
    "        entries = team['entries']\n",
    "        score = team['score']\n",
    "\n",
    "        comp_team_pair.append({\n",
    "            'competitonId': comp_id,\n",
    "            'teamId': team_id,\n",
    "            'members': members,\n",
    "            'rank': rank,\n",
    "            'entries': entries,\n",
    "            'score': score\n",
    "        })\n",
    "            \n",
    "comp_team_pair[:5]"
   ]
  },
  {
   "cell_type": "code",
   "execution_count": 21,
   "metadata": {
    "ExecuteTime": {
     "end_time": "2019-09-18T12:45:58.031889Z",
     "start_time": "2019-09-18T12:45:56.999891Z"
    }
   },
   "outputs": [
    {
     "data": {
      "text/html": [
       "<div>\n",
       "<style scoped>\n",
       "    .dataframe tbody tr th:only-of-type {\n",
       "        vertical-align: middle;\n",
       "    }\n",
       "\n",
       "    .dataframe tbody tr th {\n",
       "        vertical-align: top;\n",
       "    }\n",
       "\n",
       "    .dataframe thead th {\n",
       "        text-align: right;\n",
       "    }\n",
       "</style>\n",
       "<table border=\"1\" class=\"dataframe\">\n",
       "  <thead>\n",
       "    <tr style=\"text-align: right;\">\n",
       "      <th></th>\n",
       "      <th>competitonId</th>\n",
       "      <th>entries</th>\n",
       "      <th>members</th>\n",
       "      <th>rank</th>\n",
       "      <th>score</th>\n",
       "      <th>teamId</th>\n",
       "    </tr>\n",
       "  </thead>\n",
       "  <tbody>\n",
       "    <tr>\n",
       "      <th>0</th>\n",
       "      <td>14774</td>\n",
       "      <td>176</td>\n",
       "      <td>2</td>\n",
       "      <td>1.0</td>\n",
       "      <td>0.856139</td>\n",
       "      <td>3341991</td>\n",
       "    </tr>\n",
       "    <tr>\n",
       "      <th>1</th>\n",
       "      <td>14774</td>\n",
       "      <td>332</td>\n",
       "      <td>5</td>\n",
       "      <td>2.0</td>\n",
       "      <td>0.855232</td>\n",
       "      <td>3374221</td>\n",
       "    </tr>\n",
       "    <tr>\n",
       "      <th>2</th>\n",
       "      <td>14774</td>\n",
       "      <td>203</td>\n",
       "      <td>3</td>\n",
       "      <td>3.0</td>\n",
       "      <td>0.850749</td>\n",
       "      <td>3353277</td>\n",
       "    </tr>\n",
       "    <tr>\n",
       "      <th>3</th>\n",
       "      <td>14774</td>\n",
       "      <td>118</td>\n",
       "      <td>1</td>\n",
       "      <td>4.0</td>\n",
       "      <td>0.850352</td>\n",
       "      <td>3339442</td>\n",
       "    </tr>\n",
       "    <tr>\n",
       "      <th>4</th>\n",
       "      <td>14774</td>\n",
       "      <td>321</td>\n",
       "      <td>3</td>\n",
       "      <td>5.0</td>\n",
       "      <td>0.850220</td>\n",
       "      <td>3459925</td>\n",
       "    </tr>\n",
       "  </tbody>\n",
       "</table>\n",
       "</div>"
      ],
      "text/plain": [
       "   competitonId  entries  members  rank     score   teamId\n",
       "0         14774      176        2   1.0  0.856139  3341991\n",
       "1         14774      332        5   2.0  0.855232  3374221\n",
       "2         14774      203        3   3.0  0.850749  3353277\n",
       "3         14774      118        1   4.0  0.850352  3339442\n",
       "4         14774      321        3   5.0  0.850220  3459925"
      ]
     },
     "execution_count": 21,
     "metadata": {},
     "output_type": "execute_result"
    }
   ],
   "source": [
    "team_df = pd.DataFrame(comp_team_pair)\n",
    "team_df.head()"
   ]
  },
  {
   "cell_type": "code",
   "execution_count": 25,
   "metadata": {
    "ExecuteTime": {
     "end_time": "2019-09-18T12:49:23.436196Z",
     "start_time": "2019-09-18T12:49:20.480900Z"
    }
   },
   "outputs": [],
   "source": [
    "# Save team dataframe\n",
    "team_df.to_csv(\"./inputs/kaggle/team.csv\", index=False)"
   ]
  },
  {
   "cell_type": "markdown",
   "metadata": {},
   "source": [
    "### Generate person dataframe"
   ]
  },
  {
   "cell_type": "code",
   "execution_count": 30,
   "metadata": {
    "ExecuteTime": {
     "end_time": "2019-09-18T13:00:00.750246Z",
     "start_time": "2019-09-18T13:00:00.121218Z"
    }
   },
   "outputs": [
    {
     "data": {
      "text/plain": [
       "[{'competitonId': 14774,\n",
       "  'teamId': 3341991,\n",
       "  'name': 'victorsd',\n",
       "  'tier': 'grandmaster',\n",
       "  'rank': 1,\n",
       "  'entries': 176,\n",
       "  'score': '0.856139'},\n",
       " {'competitonId': 14774,\n",
       "  'teamId': 3341991,\n",
       "  'name': 'selimsef',\n",
       "  'tier': 'master',\n",
       "  'rank': 1,\n",
       "  'entries': 176,\n",
       "  'score': '0.856139'},\n",
       " {'competitonId': 14774,\n",
       "  'teamId': 3374221,\n",
       "  'name': 'mathormad',\n",
       "  'tier': 'master',\n",
       "  'rank': 2,\n",
       "  'entries': 332,\n",
       "  'score': '0.855232'},\n",
       " {'competitonId': 14774,\n",
       "  'teamId': 3374221,\n",
       "  'name': 'ratthachat',\n",
       "  'tier': 'expert',\n",
       "  'rank': 2,\n",
       "  'entries': 332,\n",
       "  'score': '0.855232'},\n",
       " {'competitonId': 14774,\n",
       "  'teamId': 3374221,\n",
       "  'name': 'prasertsak',\n",
       "  'tier': 'expert',\n",
       "  'rank': 2,\n",
       "  'entries': 332,\n",
       "  'score': '0.855232'}]"
      ]
     },
     "execution_count": 30,
     "metadata": {},
     "output_type": "execute_result"
    }
   ],
   "source": [
    "comp_person_pair = []\n",
    "\n",
    "for item in leaderboard:\n",
    "    comp_id = item['competitionId']\n",
    "    for team in item['public']:\n",
    "        team_id = team['teamId']\n",
    "        rank = team['rank']\n",
    "        entries = team['entries']\n",
    "        score = team['score']\n",
    "        \n",
    "        for m in team['members']:\n",
    "            comp_person_pair.append({\n",
    "                'competitonId': comp_id,\n",
    "                'teamId': team_id,\n",
    "                'name': m['profileUrl'],\n",
    "                'tier': m['tier'],\n",
    "                'rank': rank,\n",
    "                'entries': entries,\n",
    "                'score': score\n",
    "            })\n",
    "    for team in item['private']:\n",
    "        team_id = team['teamId']\n",
    "        rank = team['rank']\n",
    "        entries = team['entries']\n",
    "        score = team['score']\n",
    "        \n",
    "        for m in team['members']:\n",
    "            comp_person_pair.append({\n",
    "                'competitonId': comp_id,\n",
    "                'teamId': team_id,\n",
    "                'name': m['profileUrl'],\n",
    "                'tier': m['tier'],\n",
    "                'rank': rank,\n",
    "                'entries': entries,\n",
    "                'score': score\n",
    "            })\n",
    "            \n",
    "comp_person_pair[:5]"
   ]
  },
  {
   "cell_type": "code",
   "execution_count": 31,
   "metadata": {
    "ExecuteTime": {
     "end_time": "2019-09-18T13:01:05.089216Z",
     "start_time": "2019-09-18T13:01:03.921216Z"
    },
    "scrolled": true
   },
   "outputs": [
    {
     "data": {
      "text/html": [
       "<div>\n",
       "<style scoped>\n",
       "    .dataframe tbody tr th:only-of-type {\n",
       "        vertical-align: middle;\n",
       "    }\n",
       "\n",
       "    .dataframe tbody tr th {\n",
       "        vertical-align: top;\n",
       "    }\n",
       "\n",
       "    .dataframe thead th {\n",
       "        text-align: right;\n",
       "    }\n",
       "</style>\n",
       "<table border=\"1\" class=\"dataframe\">\n",
       "  <thead>\n",
       "    <tr style=\"text-align: right;\">\n",
       "      <th></th>\n",
       "      <th>competitonId</th>\n",
       "      <th>entries</th>\n",
       "      <th>name</th>\n",
       "      <th>rank</th>\n",
       "      <th>score</th>\n",
       "      <th>teamId</th>\n",
       "      <th>tier</th>\n",
       "    </tr>\n",
       "  </thead>\n",
       "  <tbody>\n",
       "    <tr>\n",
       "      <th>0</th>\n",
       "      <td>14774</td>\n",
       "      <td>176</td>\n",
       "      <td>victorsd</td>\n",
       "      <td>1.0</td>\n",
       "      <td>0.856139</td>\n",
       "      <td>3341991</td>\n",
       "      <td>grandmaster</td>\n",
       "    </tr>\n",
       "    <tr>\n",
       "      <th>1</th>\n",
       "      <td>14774</td>\n",
       "      <td>176</td>\n",
       "      <td>selimsef</td>\n",
       "      <td>1.0</td>\n",
       "      <td>0.856139</td>\n",
       "      <td>3341991</td>\n",
       "      <td>master</td>\n",
       "    </tr>\n",
       "    <tr>\n",
       "      <th>2</th>\n",
       "      <td>14774</td>\n",
       "      <td>332</td>\n",
       "      <td>mathormad</td>\n",
       "      <td>2.0</td>\n",
       "      <td>0.855232</td>\n",
       "      <td>3374221</td>\n",
       "      <td>master</td>\n",
       "    </tr>\n",
       "    <tr>\n",
       "      <th>3</th>\n",
       "      <td>14774</td>\n",
       "      <td>332</td>\n",
       "      <td>ratthachat</td>\n",
       "      <td>2.0</td>\n",
       "      <td>0.855232</td>\n",
       "      <td>3374221</td>\n",
       "      <td>expert</td>\n",
       "    </tr>\n",
       "    <tr>\n",
       "      <th>4</th>\n",
       "      <td>14774</td>\n",
       "      <td>332</td>\n",
       "      <td>prasertsak</td>\n",
       "      <td>2.0</td>\n",
       "      <td>0.855232</td>\n",
       "      <td>3374221</td>\n",
       "      <td>expert</td>\n",
       "    </tr>\n",
       "  </tbody>\n",
       "</table>\n",
       "</div>"
      ],
      "text/plain": [
       "   competitonId  entries        name  rank     score   teamId         tier\n",
       "0         14774      176    victorsd   1.0  0.856139  3341991  grandmaster\n",
       "1         14774      176    selimsef   1.0  0.856139  3341991       master\n",
       "2         14774      332   mathormad   2.0  0.855232  3374221       master\n",
       "3         14774      332  ratthachat   2.0  0.855232  3374221       expert\n",
       "4         14774      332  prasertsak   2.0  0.855232  3374221       expert"
      ]
     },
     "execution_count": 31,
     "metadata": {},
     "output_type": "execute_result"
    }
   ],
   "source": [
    "person_df = pd.DataFrame(data=comp_person_pair)\n",
    "person_df.head()"
   ]
  },
  {
   "cell_type": "code",
   "execution_count": 32,
   "metadata": {
    "ExecuteTime": {
     "end_time": "2019-09-18T13:01:27.271312Z",
     "start_time": "2019-09-18T13:01:24.040217Z"
    }
   },
   "outputs": [],
   "source": [
    "person_df.to_csv('./inputs/kaggle/person.csv', index=False)"
   ]
  },
  {
   "cell_type": "markdown",
   "metadata": {},
   "source": [
    "### Overview team dataframe"
   ]
  },
  {
   "cell_type": "code",
   "execution_count": 26,
   "metadata": {
    "ExecuteTime": {
     "end_time": "2019-09-18T12:50:52.328200Z",
     "start_time": "2019-09-18T12:50:52.225172Z"
    }
   },
   "outputs": [
    {
     "data": {
      "text/plain": [
       "3238511    4\n",
       "3249165    4\n",
       "3132230    4\n",
       "3036021    4\n",
       "2272362    4\n",
       "Name: teamId, dtype: int64"
      ]
     },
     "execution_count": 26,
     "metadata": {},
     "output_type": "execute_result"
    }
   ],
   "source": [
    "team_counts = team_df.teamId.value_counts()\n",
    "team_counts.head()"
   ]
  },
  {
   "cell_type": "code",
   "execution_count": 27,
   "metadata": {
    "ExecuteTime": {
     "end_time": "2019-09-18T12:51:09.142171Z",
     "start_time": "2019-09-18T12:51:09.073171Z"
    },
    "scrolled": true
   },
   "outputs": [
    {
     "data": {
      "text/plain": [
       "55928     2\n",
       "119769    2\n",
       "111573    2\n",
       "113620    2\n",
       "99283     2\n",
       "Name: teamId, dtype: int64"
      ]
     },
     "execution_count": 27,
     "metadata": {},
     "output_type": "execute_result"
    }
   ],
   "source": [
    "team_counts.sort_values().head()"
   ]
  },
  {
   "cell_type": "code",
   "execution_count": 29,
   "metadata": {
    "ExecuteTime": {
     "end_time": "2019-09-18T12:51:52.977170Z",
     "start_time": "2019-09-18T12:51:52.928170Z"
    }
   },
   "outputs": [
    {
     "data": {
      "text/plain": [
       "281794"
      ]
     },
     "execution_count": 29,
     "metadata": {},
     "output_type": "execute_result"
    }
   ],
   "source": [
    "team_counts.size"
   ]
  },
  {
   "cell_type": "code",
   "execution_count": 28,
   "metadata": {
    "ExecuteTime": {
     "end_time": "2019-09-18T12:51:39.138172Z",
     "start_time": "2019-09-18T12:51:39.088171Z"
    }
   },
   "outputs": [
    {
     "data": {
      "text/plain": [
       "21832"
      ]
     },
     "execution_count": 28,
     "metadata": {},
     "output_type": "execute_result"
    }
   ],
   "source": [
    "team_counts[team_counts >= 4].size"
   ]
  },
  {
   "cell_type": "markdown",
   "metadata": {},
   "source": [
    "### Overview person dataframe"
   ]
  },
  {
   "cell_type": "code",
   "execution_count": 5,
   "metadata": {
    "ExecuteTime": {
     "end_time": "2019-09-19T03:26:35.702210Z",
     "start_time": "2019-09-19T03:26:35.107181Z"
    }
   },
   "outputs": [
    {
     "data": {
      "text/html": [
       "<div>\n",
       "<style scoped>\n",
       "    .dataframe tbody tr th:only-of-type {\n",
       "        vertical-align: middle;\n",
       "    }\n",
       "\n",
       "    .dataframe tbody tr th {\n",
       "        vertical-align: top;\n",
       "    }\n",
       "\n",
       "    .dataframe thead th {\n",
       "        text-align: right;\n",
       "    }\n",
       "</style>\n",
       "<table border=\"1\" class=\"dataframe\">\n",
       "  <thead>\n",
       "    <tr style=\"text-align: right;\">\n",
       "      <th></th>\n",
       "      <th>competitionId</th>\n",
       "      <th>entries</th>\n",
       "      <th>name</th>\n",
       "      <th>rank</th>\n",
       "      <th>score</th>\n",
       "      <th>teamId</th>\n",
       "      <th>tier</th>\n",
       "    </tr>\n",
       "  </thead>\n",
       "  <tbody>\n",
       "    <tr>\n",
       "      <th>0</th>\n",
       "      <td>14774</td>\n",
       "      <td>176</td>\n",
       "      <td>victorsd</td>\n",
       "      <td>1.0</td>\n",
       "      <td>0.856139</td>\n",
       "      <td>3341991</td>\n",
       "      <td>grandmaster</td>\n",
       "    </tr>\n",
       "    <tr>\n",
       "      <th>1</th>\n",
       "      <td>14774</td>\n",
       "      <td>176</td>\n",
       "      <td>selimsef</td>\n",
       "      <td>1.0</td>\n",
       "      <td>0.856139</td>\n",
       "      <td>3341991</td>\n",
       "      <td>master</td>\n",
       "    </tr>\n",
       "    <tr>\n",
       "      <th>2</th>\n",
       "      <td>14774</td>\n",
       "      <td>332</td>\n",
       "      <td>mathormad</td>\n",
       "      <td>2.0</td>\n",
       "      <td>0.855232</td>\n",
       "      <td>3374221</td>\n",
       "      <td>master</td>\n",
       "    </tr>\n",
       "    <tr>\n",
       "      <th>3</th>\n",
       "      <td>14774</td>\n",
       "      <td>332</td>\n",
       "      <td>ratthachat</td>\n",
       "      <td>2.0</td>\n",
       "      <td>0.855232</td>\n",
       "      <td>3374221</td>\n",
       "      <td>expert</td>\n",
       "    </tr>\n",
       "    <tr>\n",
       "      <th>4</th>\n",
       "      <td>14774</td>\n",
       "      <td>332</td>\n",
       "      <td>prasertsak</td>\n",
       "      <td>2.0</td>\n",
       "      <td>0.855232</td>\n",
       "      <td>3374221</td>\n",
       "      <td>expert</td>\n",
       "    </tr>\n",
       "  </tbody>\n",
       "</table>\n",
       "</div>"
      ],
      "text/plain": [
       "   competitionId  entries        name  rank     score   teamId         tier\n",
       "0          14774      176    victorsd   1.0  0.856139  3341991  grandmaster\n",
       "1          14774      176    selimsef   1.0  0.856139  3341991       master\n",
       "2          14774      332   mathormad   2.0  0.855232  3374221       master\n",
       "3          14774      332  ratthachat   2.0  0.855232  3374221       expert\n",
       "4          14774      332  prasertsak   2.0  0.855232  3374221       expert"
      ]
     },
     "execution_count": 5,
     "metadata": {},
     "output_type": "execute_result"
    }
   ],
   "source": [
    "person_df = pd.read_csv(\"./inputs/kaggle/person.csv\")\n",
    "person_df.head()"
   ]
  },
  {
   "cell_type": "code",
   "execution_count": 6,
   "metadata": {
    "ExecuteTime": {
     "end_time": "2019-09-19T03:26:47.927182Z",
     "start_time": "2019-09-19T03:26:47.873181Z"
    },
    "scrolled": false
   },
   "outputs": [
    {
     "data": {
      "text/plain": [
       "False"
      ]
     },
     "execution_count": 6,
     "metadata": {},
     "output_type": "execute_result"
    }
   ],
   "source": [
    "person_df['score'].isna().any()"
   ]
  },
  {
   "cell_type": "code",
   "execution_count": 7,
   "metadata": {
    "ExecuteTime": {
     "end_time": "2019-09-19T03:26:51.901179Z",
     "start_time": "2019-09-19T03:26:51.833182Z"
    },
    "scrolled": true
   },
   "outputs": [
    {
     "data": {
      "text/plain": [
       "False"
      ]
     },
     "execution_count": 7,
     "metadata": {},
     "output_type": "execute_result"
    }
   ],
   "source": [
    "person_df['score'] = person_df['score'].fillna(0)\n",
    "person_df['score'].isna().any()"
   ]
  },
  {
   "cell_type": "code",
   "execution_count": 8,
   "metadata": {
    "ExecuteTime": {
     "end_time": "2019-09-19T03:26:57.029209Z",
     "start_time": "2019-09-19T03:26:56.970180Z"
    }
   },
   "outputs": [
    {
     "data": {
      "text/html": [
       "<div>\n",
       "<style scoped>\n",
       "    .dataframe tbody tr th:only-of-type {\n",
       "        vertical-align: middle;\n",
       "    }\n",
       "\n",
       "    .dataframe tbody tr th {\n",
       "        vertical-align: top;\n",
       "    }\n",
       "\n",
       "    .dataframe thead th {\n",
       "        text-align: right;\n",
       "    }\n",
       "</style>\n",
       "<table border=\"1\" class=\"dataframe\">\n",
       "  <thead>\n",
       "    <tr style=\"text-align: right;\">\n",
       "      <th></th>\n",
       "      <th>competitionId</th>\n",
       "      <th>entries</th>\n",
       "      <th>name</th>\n",
       "      <th>rank</th>\n",
       "      <th>score</th>\n",
       "      <th>teamId</th>\n",
       "      <th>tier</th>\n",
       "    </tr>\n",
       "  </thead>\n",
       "  <tbody>\n",
       "    <tr>\n",
       "      <th>0</th>\n",
       "      <td>14774</td>\n",
       "      <td>176</td>\n",
       "      <td>victorsd</td>\n",
       "      <td>1.0</td>\n",
       "      <td>0.856139</td>\n",
       "      <td>3341991</td>\n",
       "      <td>grandmaster</td>\n",
       "    </tr>\n",
       "    <tr>\n",
       "      <th>1</th>\n",
       "      <td>14774</td>\n",
       "      <td>176</td>\n",
       "      <td>selimsef</td>\n",
       "      <td>1.0</td>\n",
       "      <td>0.856139</td>\n",
       "      <td>3341991</td>\n",
       "      <td>master</td>\n",
       "    </tr>\n",
       "    <tr>\n",
       "      <th>2</th>\n",
       "      <td>14774</td>\n",
       "      <td>332</td>\n",
       "      <td>mathormad</td>\n",
       "      <td>2.0</td>\n",
       "      <td>0.855232</td>\n",
       "      <td>3374221</td>\n",
       "      <td>master</td>\n",
       "    </tr>\n",
       "    <tr>\n",
       "      <th>3</th>\n",
       "      <td>14774</td>\n",
       "      <td>332</td>\n",
       "      <td>ratthachat</td>\n",
       "      <td>2.0</td>\n",
       "      <td>0.855232</td>\n",
       "      <td>3374221</td>\n",
       "      <td>expert</td>\n",
       "    </tr>\n",
       "    <tr>\n",
       "      <th>4</th>\n",
       "      <td>14774</td>\n",
       "      <td>332</td>\n",
       "      <td>prasertsak</td>\n",
       "      <td>2.0</td>\n",
       "      <td>0.855232</td>\n",
       "      <td>3374221</td>\n",
       "      <td>expert</td>\n",
       "    </tr>\n",
       "  </tbody>\n",
       "</table>\n",
       "</div>"
      ],
      "text/plain": [
       "   competitionId  entries        name  rank     score   teamId         tier\n",
       "0          14774      176    victorsd   1.0  0.856139  3341991  grandmaster\n",
       "1          14774      176    selimsef   1.0  0.856139  3341991       master\n",
       "2          14774      332   mathormad   2.0  0.855232  3374221       master\n",
       "3          14774      332  ratthachat   2.0  0.855232  3374221       expert\n",
       "4          14774      332  prasertsak   2.0  0.855232  3374221       expert"
      ]
     },
     "execution_count": 8,
     "metadata": {},
     "output_type": "execute_result"
    }
   ],
   "source": [
    "person_df['score'] = person_df['score'].astype('float64')\n",
    "person_df.head()"
   ]
  },
  {
   "cell_type": "code",
   "execution_count": 9,
   "metadata": {
    "ExecuteTime": {
     "end_time": "2019-09-19T03:27:05.453183Z",
     "start_time": "2019-09-19T03:27:05.401181Z"
    }
   },
   "outputs": [
    {
     "data": {
      "text/plain": [
       "(844, 7)"
      ]
     },
     "execution_count": 9,
     "metadata": {},
     "output_type": "execute_result"
    }
   ],
   "source": [
    "person_df[person_df['rank'].isna()].shape"
   ]
  },
  {
   "cell_type": "code",
   "execution_count": 10,
   "metadata": {
    "ExecuteTime": {
     "end_time": "2019-09-19T03:27:10.794185Z",
     "start_time": "2019-09-19T03:27:10.746211Z"
    }
   },
   "outputs": [
    {
     "data": {
      "text/plain": [
       "(693084, 7)"
      ]
     },
     "execution_count": 10,
     "metadata": {},
     "output_type": "execute_result"
    }
   ],
   "source": [
    "person_df.shape"
   ]
  },
  {
   "cell_type": "code",
   "execution_count": 13,
   "metadata": {
    "ExecuteTime": {
     "end_time": "2019-09-19T03:28:26.408194Z",
     "start_time": "2019-09-19T03:28:26.355181Z"
    }
   },
   "outputs": [
    {
     "data": {
      "text/html": [
       "<div>\n",
       "<style scoped>\n",
       "    .dataframe tbody tr th:only-of-type {\n",
       "        vertical-align: middle;\n",
       "    }\n",
       "\n",
       "    .dataframe tbody tr th {\n",
       "        vertical-align: top;\n",
       "    }\n",
       "\n",
       "    .dataframe thead th {\n",
       "        text-align: right;\n",
       "    }\n",
       "</style>\n",
       "<table border=\"1\" class=\"dataframe\">\n",
       "  <thead>\n",
       "    <tr style=\"text-align: right;\">\n",
       "      <th></th>\n",
       "      <th>competitionId</th>\n",
       "      <th>deadline</th>\n",
       "      <th>rewardQuantity</th>\n",
       "    </tr>\n",
       "  </thead>\n",
       "  <tbody>\n",
       "    <tr>\n",
       "      <th>0</th>\n",
       "      <td>14774</td>\n",
       "      <td>2019-09-07T23:59:00Z</td>\n",
       "      <td>50000.0</td>\n",
       "    </tr>\n",
       "    <tr>\n",
       "      <th>1</th>\n",
       "      <td>15447</td>\n",
       "      <td>2019-09-05T23:59:00Z</td>\n",
       "      <td>0.0</td>\n",
       "    </tr>\n",
       "    <tr>\n",
       "      <th>2</th>\n",
       "      <td>14652</td>\n",
       "      <td>2019-09-04T23:59:00Z</td>\n",
       "      <td>30000.0</td>\n",
       "    </tr>\n",
       "    <tr>\n",
       "      <th>3</th>\n",
       "      <td>14313</td>\n",
       "      <td>2019-08-28T23:59:00Z</td>\n",
       "      <td>30000.0</td>\n",
       "    </tr>\n",
       "    <tr>\n",
       "      <th>4</th>\n",
       "      <td>15062</td>\n",
       "      <td>2019-08-28T19:23:00Z</td>\n",
       "      <td>10000.0</td>\n",
       "    </tr>\n",
       "  </tbody>\n",
       "</table>\n",
       "</div>"
      ],
      "text/plain": [
       "   competitionId              deadline  rewardQuantity\n",
       "0          14774  2019-09-07T23:59:00Z         50000.0\n",
       "1          15447  2019-09-05T23:59:00Z             0.0\n",
       "2          14652  2019-09-04T23:59:00Z         30000.0\n",
       "3          14313  2019-08-28T23:59:00Z         30000.0\n",
       "4          15062  2019-08-28T19:23:00Z         10000.0"
      ]
     },
     "execution_count": 13,
     "metadata": {},
     "output_type": "execute_result"
    }
   ],
   "source": [
    "# Get competition dataframe part information\n",
    "com_part = comp_df[['competitionId', 'deadline', 'rewardQuantity']]\n",
    "com_part.head()"
   ]
  },
  {
   "cell_type": "code",
   "execution_count": 14,
   "metadata": {
    "ExecuteTime": {
     "end_time": "2019-09-19T03:28:32.510212Z",
     "start_time": "2019-09-19T03:28:32.457190Z"
    }
   },
   "outputs": [
    {
     "data": {
      "text/plain": [
       "Index(['competitionId', 'deadline', 'rewardQuantity'], dtype='object')"
      ]
     },
     "execution_count": 14,
     "metadata": {},
     "output_type": "execute_result"
    }
   ],
   "source": [
    "com_part.columns"
   ]
  },
  {
   "cell_type": "markdown",
   "metadata": {},
   "source": [
    "### Generate item dataframe and preprocess\n",
    "\n",
    "Preprocessing contains following operations:\n",
    "\n",
    "- fill score nan value to 0\n",
    "- remove duplicate competitionId and name row"
   ]
  },
  {
   "cell_type": "code",
   "execution_count": 15,
   "metadata": {
    "ExecuteTime": {
     "end_time": "2019-09-19T03:28:43.365180Z",
     "start_time": "2019-09-19T03:28:43.105210Z"
    }
   },
   "outputs": [
    {
     "data": {
      "text/html": [
       "<div>\n",
       "<style scoped>\n",
       "    .dataframe tbody tr th:only-of-type {\n",
       "        vertical-align: middle;\n",
       "    }\n",
       "\n",
       "    .dataframe tbody tr th {\n",
       "        vertical-align: top;\n",
       "    }\n",
       "\n",
       "    .dataframe thead th {\n",
       "        text-align: right;\n",
       "    }\n",
       "</style>\n",
       "<table border=\"1\" class=\"dataframe\">\n",
       "  <thead>\n",
       "    <tr style=\"text-align: right;\">\n",
       "      <th></th>\n",
       "      <th>competitionId</th>\n",
       "      <th>deadline</th>\n",
       "      <th>rewardQuantity</th>\n",
       "      <th>entries</th>\n",
       "      <th>name</th>\n",
       "      <th>rank</th>\n",
       "      <th>score</th>\n",
       "      <th>teamId</th>\n",
       "      <th>tier</th>\n",
       "    </tr>\n",
       "  </thead>\n",
       "  <tbody>\n",
       "    <tr>\n",
       "      <th>0</th>\n",
       "      <td>14774</td>\n",
       "      <td>2019-09-07T23:59:00Z</td>\n",
       "      <td>50000.0</td>\n",
       "      <td>176</td>\n",
       "      <td>victorsd</td>\n",
       "      <td>1.0</td>\n",
       "      <td>0.856139</td>\n",
       "      <td>3341991</td>\n",
       "      <td>grandmaster</td>\n",
       "    </tr>\n",
       "    <tr>\n",
       "      <th>1</th>\n",
       "      <td>14774</td>\n",
       "      <td>2019-09-07T23:59:00Z</td>\n",
       "      <td>50000.0</td>\n",
       "      <td>176</td>\n",
       "      <td>selimsef</td>\n",
       "      <td>1.0</td>\n",
       "      <td>0.856139</td>\n",
       "      <td>3341991</td>\n",
       "      <td>master</td>\n",
       "    </tr>\n",
       "    <tr>\n",
       "      <th>2</th>\n",
       "      <td>14774</td>\n",
       "      <td>2019-09-07T23:59:00Z</td>\n",
       "      <td>50000.0</td>\n",
       "      <td>332</td>\n",
       "      <td>mathormad</td>\n",
       "      <td>2.0</td>\n",
       "      <td>0.855232</td>\n",
       "      <td>3374221</td>\n",
       "      <td>master</td>\n",
       "    </tr>\n",
       "    <tr>\n",
       "      <th>3</th>\n",
       "      <td>14774</td>\n",
       "      <td>2019-09-07T23:59:00Z</td>\n",
       "      <td>50000.0</td>\n",
       "      <td>332</td>\n",
       "      <td>ratthachat</td>\n",
       "      <td>2.0</td>\n",
       "      <td>0.855232</td>\n",
       "      <td>3374221</td>\n",
       "      <td>expert</td>\n",
       "    </tr>\n",
       "    <tr>\n",
       "      <th>4</th>\n",
       "      <td>14774</td>\n",
       "      <td>2019-09-07T23:59:00Z</td>\n",
       "      <td>50000.0</td>\n",
       "      <td>332</td>\n",
       "      <td>prasertsak</td>\n",
       "      <td>2.0</td>\n",
       "      <td>0.855232</td>\n",
       "      <td>3374221</td>\n",
       "      <td>expert</td>\n",
       "    </tr>\n",
       "  </tbody>\n",
       "</table>\n",
       "</div>"
      ],
      "text/plain": [
       "   competitionId              deadline  rewardQuantity  entries        name  \\\n",
       "0          14774  2019-09-07T23:59:00Z         50000.0      176    victorsd   \n",
       "1          14774  2019-09-07T23:59:00Z         50000.0      176    selimsef   \n",
       "2          14774  2019-09-07T23:59:00Z         50000.0      332   mathormad   \n",
       "3          14774  2019-09-07T23:59:00Z         50000.0      332  ratthachat   \n",
       "4          14774  2019-09-07T23:59:00Z         50000.0      332  prasertsak   \n",
       "\n",
       "   rank     score   teamId         tier  \n",
       "0   1.0  0.856139  3341991  grandmaster  \n",
       "1   1.0  0.856139  3341991       master  \n",
       "2   2.0  0.855232  3374221       master  \n",
       "3   2.0  0.855232  3374221       expert  \n",
       "4   2.0  0.855232  3374221       expert  "
      ]
     },
     "execution_count": 15,
     "metadata": {},
     "output_type": "execute_result"
    }
   ],
   "source": [
    "item_df = pd.merge(left=com_part, right=person_df, how='inner', on='competitionId')\n",
    "item_df.head()"
   ]
  },
  {
   "cell_type": "markdown",
   "metadata": {},
   "source": [
    "#### Remove duplicated data"
   ]
  },
  {
   "cell_type": "code",
   "execution_count": 16,
   "metadata": {
    "ExecuteTime": {
     "end_time": "2019-09-19T03:28:54.152204Z",
     "start_time": "2019-09-19T03:28:53.514210Z"
    }
   },
   "outputs": [
    {
     "data": {
      "text/html": [
       "<div>\n",
       "<style scoped>\n",
       "    .dataframe tbody tr th:only-of-type {\n",
       "        vertical-align: middle;\n",
       "    }\n",
       "\n",
       "    .dataframe tbody tr th {\n",
       "        vertical-align: top;\n",
       "    }\n",
       "\n",
       "    .dataframe thead th {\n",
       "        text-align: right;\n",
       "    }\n",
       "</style>\n",
       "<table border=\"1\" class=\"dataframe\">\n",
       "  <thead>\n",
       "    <tr style=\"text-align: right;\">\n",
       "      <th></th>\n",
       "      <th>competitionId</th>\n",
       "      <th>deadline</th>\n",
       "      <th>rewardQuantity</th>\n",
       "      <th>entries</th>\n",
       "      <th>name</th>\n",
       "      <th>rank</th>\n",
       "      <th>score</th>\n",
       "      <th>teamId</th>\n",
       "      <th>tier</th>\n",
       "    </tr>\n",
       "  </thead>\n",
       "  <tbody>\n",
       "    <tr>\n",
       "      <th>472250</th>\n",
       "      <td>6392</td>\n",
       "      <td>2017-06-29T23:59:00Z</td>\n",
       "      <td>25000.0</td>\n",
       "      <td>20</td>\n",
       "      <td>Atishj</td>\n",
       "      <td>1813.0</td>\n",
       "      <td>0.32326</td>\n",
       "      <td>649770</td>\n",
       "      <td>novice</td>\n",
       "    </tr>\n",
       "    <tr>\n",
       "      <th>475968</th>\n",
       "      <td>6392</td>\n",
       "      <td>2017-06-29T23:59:00Z</td>\n",
       "      <td>25000.0</td>\n",
       "      <td>20</td>\n",
       "      <td>Atishj</td>\n",
       "      <td>1862.0</td>\n",
       "      <td>0.32624</td>\n",
       "      <td>649770</td>\n",
       "      <td>novice</td>\n",
       "    </tr>\n",
       "    <tr>\n",
       "      <th>589489</th>\n",
       "      <td>4852</td>\n",
       "      <td>2016-04-18T23:59:00Z</td>\n",
       "      <td>30000.0</td>\n",
       "      <td>3</td>\n",
       "      <td>CVxTz</td>\n",
       "      <td>1778.0</td>\n",
       "      <td>0.46338</td>\n",
       "      <td>275941</td>\n",
       "      <td>expert</td>\n",
       "    </tr>\n",
       "    <tr>\n",
       "      <th>592747</th>\n",
       "      <td>4852</td>\n",
       "      <td>2016-04-18T23:59:00Z</td>\n",
       "      <td>30000.0</td>\n",
       "      <td>3</td>\n",
       "      <td>CVxTz</td>\n",
       "      <td>1753.0</td>\n",
       "      <td>0.46184</td>\n",
       "      <td>275941</td>\n",
       "      <td>expert</td>\n",
       "    </tr>\n",
       "    <tr>\n",
       "      <th>554000</th>\n",
       "      <td>5174</td>\n",
       "      <td>2016-07-11T23:59:00Z</td>\n",
       "      <td>20000.0</td>\n",
       "      <td>56</td>\n",
       "      <td>CVxTz</td>\n",
       "      <td>34.0</td>\n",
       "      <td>0.93153</td>\n",
       "      <td>331480</td>\n",
       "      <td>expert</td>\n",
       "    </tr>\n",
       "  </tbody>\n",
       "</table>\n",
       "</div>"
      ],
      "text/plain": [
       "        competitionId              deadline  rewardQuantity  entries    name  \\\n",
       "472250           6392  2017-06-29T23:59:00Z         25000.0       20  Atishj   \n",
       "475968           6392  2017-06-29T23:59:00Z         25000.0       20  Atishj   \n",
       "589489           4852  2016-04-18T23:59:00Z         30000.0        3   CVxTz   \n",
       "592747           4852  2016-04-18T23:59:00Z         30000.0        3   CVxTz   \n",
       "554000           5174  2016-07-11T23:59:00Z         20000.0       56   CVxTz   \n",
       "\n",
       "          rank    score  teamId    tier  \n",
       "472250  1813.0  0.32326  649770  novice  \n",
       "475968  1862.0  0.32624  649770  novice  \n",
       "589489  1778.0  0.46338  275941  expert  \n",
       "592747  1753.0  0.46184  275941  expert  \n",
       "554000    34.0  0.93153  331480  expert  "
      ]
     },
     "execution_count": 16,
     "metadata": {},
     "output_type": "execute_result"
    }
   ],
   "source": [
    "item_df = item_df.sort_values(by=['name', 'competitionId'])\n",
    "item_df.head()"
   ]
  },
  {
   "cell_type": "code",
   "execution_count": 17,
   "metadata": {
    "ExecuteTime": {
     "end_time": "2019-09-19T03:29:02.495180Z",
     "start_time": "2019-09-19T03:29:02.307181Z"
    }
   },
   "outputs": [
    {
     "data": {
      "text/plain": [
       "472250    False\n",
       "475968     True\n",
       "589489    False\n",
       "592747     True\n",
       "554000    False\n",
       "dtype: bool"
      ]
     },
     "execution_count": 17,
     "metadata": {},
     "output_type": "execute_result"
    }
   ],
   "source": [
    "item_dup_mask = item_df.duplicated(subset=['name', 'competitionId'], keep='first')\n",
    "item_dup_mask.head()"
   ]
  },
  {
   "cell_type": "code",
   "execution_count": 18,
   "metadata": {
    "ExecuteTime": {
     "end_time": "2019-09-19T03:29:05.860181Z",
     "start_time": "2019-09-19T03:29:05.768179Z"
    }
   },
   "outputs": [
    {
     "data": {
      "text/html": [
       "<div>\n",
       "<style scoped>\n",
       "    .dataframe tbody tr th:only-of-type {\n",
       "        vertical-align: middle;\n",
       "    }\n",
       "\n",
       "    .dataframe tbody tr th {\n",
       "        vertical-align: top;\n",
       "    }\n",
       "\n",
       "    .dataframe thead th {\n",
       "        text-align: right;\n",
       "    }\n",
       "</style>\n",
       "<table border=\"1\" class=\"dataframe\">\n",
       "  <thead>\n",
       "    <tr style=\"text-align: right;\">\n",
       "      <th></th>\n",
       "      <th>competitionId</th>\n",
       "      <th>deadline</th>\n",
       "      <th>rewardQuantity</th>\n",
       "      <th>entries</th>\n",
       "      <th>name</th>\n",
       "      <th>rank</th>\n",
       "      <th>score</th>\n",
       "      <th>teamId</th>\n",
       "      <th>tier</th>\n",
       "    </tr>\n",
       "  </thead>\n",
       "  <tbody>\n",
       "    <tr>\n",
       "      <th>475968</th>\n",
       "      <td>6392</td>\n",
       "      <td>2017-06-29T23:59:00Z</td>\n",
       "      <td>25000.0</td>\n",
       "      <td>20</td>\n",
       "      <td>Atishj</td>\n",
       "      <td>1862.0</td>\n",
       "      <td>0.32624</td>\n",
       "      <td>649770</td>\n",
       "      <td>novice</td>\n",
       "    </tr>\n",
       "    <tr>\n",
       "      <th>592747</th>\n",
       "      <td>4852</td>\n",
       "      <td>2016-04-18T23:59:00Z</td>\n",
       "      <td>30000.0</td>\n",
       "      <td>3</td>\n",
       "      <td>CVxTz</td>\n",
       "      <td>1753.0</td>\n",
       "      <td>0.46184</td>\n",
       "      <td>275941</td>\n",
       "      <td>expert</td>\n",
       "    </tr>\n",
       "    <tr>\n",
       "      <th>554627</th>\n",
       "      <td>5174</td>\n",
       "      <td>2016-07-11T23:59:00Z</td>\n",
       "      <td>20000.0</td>\n",
       "      <td>56</td>\n",
       "      <td>CVxTz</td>\n",
       "      <td>34.0</td>\n",
       "      <td>0.93114</td>\n",
       "      <td>331480</td>\n",
       "      <td>expert</td>\n",
       "    </tr>\n",
       "    <tr>\n",
       "      <th>534581</th>\n",
       "      <td>5261</td>\n",
       "      <td>2016-09-19T23:59:00Z</td>\n",
       "      <td>50000.0</td>\n",
       "      <td>14</td>\n",
       "      <td>CVxTz</td>\n",
       "      <td>389.0</td>\n",
       "      <td>0.99168</td>\n",
       "      <td>366212</td>\n",
       "      <td>expert</td>\n",
       "    </tr>\n",
       "    <tr>\n",
       "      <th>521892</th>\n",
       "      <td>5325</td>\n",
       "      <td>2016-12-12T23:59:00Z</td>\n",
       "      <td>1.0</td>\n",
       "      <td>89</td>\n",
       "      <td>CVxTz</td>\n",
       "      <td>27.0</td>\n",
       "      <td>1112.12520</td>\n",
       "      <td>391400</td>\n",
       "      <td>expert</td>\n",
       "    </tr>\n",
       "  </tbody>\n",
       "</table>\n",
       "</div>"
      ],
      "text/plain": [
       "        competitionId              deadline  rewardQuantity  entries    name  \\\n",
       "475968           6392  2017-06-29T23:59:00Z         25000.0       20  Atishj   \n",
       "592747           4852  2016-04-18T23:59:00Z         30000.0        3   CVxTz   \n",
       "554627           5174  2016-07-11T23:59:00Z         20000.0       56   CVxTz   \n",
       "534581           5261  2016-09-19T23:59:00Z         50000.0       14   CVxTz   \n",
       "521892           5325  2016-12-12T23:59:00Z             1.0       89   CVxTz   \n",
       "\n",
       "          rank       score  teamId    tier  \n",
       "475968  1862.0     0.32624  649770  novice  \n",
       "592747  1753.0     0.46184  275941  expert  \n",
       "554627    34.0     0.93114  331480  expert  \n",
       "534581   389.0     0.99168  366212  expert  \n",
       "521892    27.0  1112.12520  391400  expert  "
      ]
     },
     "execution_count": 18,
     "metadata": {},
     "output_type": "execute_result"
    }
   ],
   "source": [
    "item_df = item_df[item_dup_mask]\n",
    "item_df.head()"
   ]
  },
  {
   "cell_type": "code",
   "execution_count": 19,
   "metadata": {
    "ExecuteTime": {
     "end_time": "2019-09-19T03:29:10.798212Z",
     "start_time": "2019-09-19T03:29:10.481180Z"
    }
   },
   "outputs": [
    {
     "data": {
      "text/plain": [
       "competitionId                   int64\n",
       "deadline          datetime64[ns, UTC]\n",
       "rewardQuantity                float64\n",
       "entries                         int64\n",
       "name                           object\n",
       "rank                          float64\n",
       "score                         float64\n",
       "teamId                          int64\n",
       "tier                           object\n",
       "dtype: object"
      ]
     },
     "execution_count": 19,
     "metadata": {},
     "output_type": "execute_result"
    }
   ],
   "source": [
    "item_df['deadline'] = pd.to_datetime(item_df['deadline'], infer_datetime_format=True)\n",
    "item_df.dtypes"
   ]
  },
  {
   "cell_type": "code",
   "execution_count": 20,
   "metadata": {
    "ExecuteTime": {
     "end_time": "2019-09-19T03:30:16.309189Z",
     "start_time": "2019-09-19T03:30:16.225181Z"
    }
   },
   "outputs": [
    {
     "data": {
      "text/html": [
       "<div>\n",
       "<style scoped>\n",
       "    .dataframe tbody tr th:only-of-type {\n",
       "        vertical-align: middle;\n",
       "    }\n",
       "\n",
       "    .dataframe tbody tr th {\n",
       "        vertical-align: top;\n",
       "    }\n",
       "\n",
       "    .dataframe thead th {\n",
       "        text-align: right;\n",
       "    }\n",
       "</style>\n",
       "<table border=\"1\" class=\"dataframe\">\n",
       "  <thead>\n",
       "    <tr style=\"text-align: right;\">\n",
       "      <th></th>\n",
       "      <th>name</th>\n",
       "      <th>competitionId</th>\n",
       "      <th>deadline</th>\n",
       "      <th>entries</th>\n",
       "      <th>rank</th>\n",
       "      <th>score</th>\n",
       "      <th>rewardQuantity</th>\n",
       "      <th>teamId</th>\n",
       "      <th>tier</th>\n",
       "    </tr>\n",
       "  </thead>\n",
       "  <tbody>\n",
       "    <tr>\n",
       "      <th>475968</th>\n",
       "      <td>Atishj</td>\n",
       "      <td>6392</td>\n",
       "      <td>2017-06-29 23:59:00+00:00</td>\n",
       "      <td>20</td>\n",
       "      <td>1862.0</td>\n",
       "      <td>0.32624</td>\n",
       "      <td>25000.0</td>\n",
       "      <td>649770</td>\n",
       "      <td>novice</td>\n",
       "    </tr>\n",
       "    <tr>\n",
       "      <th>592747</th>\n",
       "      <td>CVxTz</td>\n",
       "      <td>4852</td>\n",
       "      <td>2016-04-18 23:59:00+00:00</td>\n",
       "      <td>3</td>\n",
       "      <td>1753.0</td>\n",
       "      <td>0.46184</td>\n",
       "      <td>30000.0</td>\n",
       "      <td>275941</td>\n",
       "      <td>expert</td>\n",
       "    </tr>\n",
       "    <tr>\n",
       "      <th>554627</th>\n",
       "      <td>CVxTz</td>\n",
       "      <td>5174</td>\n",
       "      <td>2016-07-11 23:59:00+00:00</td>\n",
       "      <td>56</td>\n",
       "      <td>34.0</td>\n",
       "      <td>0.93114</td>\n",
       "      <td>20000.0</td>\n",
       "      <td>331480</td>\n",
       "      <td>expert</td>\n",
       "    </tr>\n",
       "    <tr>\n",
       "      <th>534581</th>\n",
       "      <td>CVxTz</td>\n",
       "      <td>5261</td>\n",
       "      <td>2016-09-19 23:59:00+00:00</td>\n",
       "      <td>14</td>\n",
       "      <td>389.0</td>\n",
       "      <td>0.99168</td>\n",
       "      <td>50000.0</td>\n",
       "      <td>366212</td>\n",
       "      <td>expert</td>\n",
       "    </tr>\n",
       "    <tr>\n",
       "      <th>521892</th>\n",
       "      <td>CVxTz</td>\n",
       "      <td>5325</td>\n",
       "      <td>2016-12-12 23:59:00+00:00</td>\n",
       "      <td>89</td>\n",
       "      <td>27.0</td>\n",
       "      <td>1112.12520</td>\n",
       "      <td>1.0</td>\n",
       "      <td>391400</td>\n",
       "      <td>expert</td>\n",
       "    </tr>\n",
       "  </tbody>\n",
       "</table>\n",
       "</div>"
      ],
      "text/plain": [
       "          name  competitionId                  deadline  entries    rank  \\\n",
       "475968  Atishj           6392 2017-06-29 23:59:00+00:00       20  1862.0   \n",
       "592747   CVxTz           4852 2016-04-18 23:59:00+00:00        3  1753.0   \n",
       "554627   CVxTz           5174 2016-07-11 23:59:00+00:00       56    34.0   \n",
       "534581   CVxTz           5261 2016-09-19 23:59:00+00:00       14   389.0   \n",
       "521892   CVxTz           5325 2016-12-12 23:59:00+00:00       89    27.0   \n",
       "\n",
       "             score  rewardQuantity  teamId    tier  \n",
       "475968     0.32624         25000.0  649770  novice  \n",
       "592747     0.46184         30000.0  275941  expert  \n",
       "554627     0.93114         20000.0  331480  expert  \n",
       "534581     0.99168         50000.0  366212  expert  \n",
       "521892  1112.12520             1.0  391400  expert  "
      ]
     },
     "execution_count": 20,
     "metadata": {},
     "output_type": "execute_result"
    }
   ],
   "source": [
    "### Change columns order\n",
    "item_df = item_df[[\n",
    "    'name', 'competitionId', 'deadline', 'entries', 'rank', 'score',\n",
    "    'rewardQuantity', 'teamId', 'tier'\n",
    "]]\n",
    "item_df.head()"
   ]
  },
  {
   "cell_type": "code",
   "execution_count": 21,
   "metadata": {
    "ExecuteTime": {
     "end_time": "2019-09-19T03:30:27.187273Z",
     "start_time": "2019-09-19T03:30:22.409211Z"
    }
   },
   "outputs": [],
   "source": [
    "item_df.to_csv(\"./inputs/kaggle/item.csv\", index=False)"
   ]
  },
  {
   "cell_type": "markdown",
   "metadata": {},
   "source": [
    "## DataFrame preprocessing"
   ]
  },
  {
   "cell_type": "code",
   "execution_count": 71,
   "metadata": {
    "ExecuteTime": {
     "end_time": "2019-09-19T07:54:32.183427Z",
     "start_time": "2019-09-19T07:54:31.595395Z"
    }
   },
   "outputs": [
    {
     "data": {
      "text/html": [
       "<div>\n",
       "<style scoped>\n",
       "    .dataframe tbody tr th:only-of-type {\n",
       "        vertical-align: middle;\n",
       "    }\n",
       "\n",
       "    .dataframe tbody tr th {\n",
       "        vertical-align: top;\n",
       "    }\n",
       "\n",
       "    .dataframe thead th {\n",
       "        text-align: right;\n",
       "    }\n",
       "</style>\n",
       "<table border=\"1\" class=\"dataframe\">\n",
       "  <thead>\n",
       "    <tr style=\"text-align: right;\">\n",
       "      <th></th>\n",
       "      <th>name</th>\n",
       "      <th>competitionId</th>\n",
       "      <th>deadline</th>\n",
       "      <th>entries</th>\n",
       "      <th>rank</th>\n",
       "      <th>score</th>\n",
       "      <th>rewardQuantity</th>\n",
       "      <th>teamId</th>\n",
       "      <th>tier</th>\n",
       "    </tr>\n",
       "  </thead>\n",
       "  <tbody>\n",
       "    <tr>\n",
       "      <th>0</th>\n",
       "      <td>Atishj</td>\n",
       "      <td>6392</td>\n",
       "      <td>2017-06-29 23:59:00+00:00</td>\n",
       "      <td>20</td>\n",
       "      <td>1862.0</td>\n",
       "      <td>0.32624</td>\n",
       "      <td>25000.0</td>\n",
       "      <td>649770</td>\n",
       "      <td>novice</td>\n",
       "    </tr>\n",
       "    <tr>\n",
       "      <th>1</th>\n",
       "      <td>CVxTz</td>\n",
       "      <td>4852</td>\n",
       "      <td>2016-04-18 23:59:00+00:00</td>\n",
       "      <td>3</td>\n",
       "      <td>1753.0</td>\n",
       "      <td>0.46184</td>\n",
       "      <td>30000.0</td>\n",
       "      <td>275941</td>\n",
       "      <td>expert</td>\n",
       "    </tr>\n",
       "    <tr>\n",
       "      <th>2</th>\n",
       "      <td>CVxTz</td>\n",
       "      <td>5174</td>\n",
       "      <td>2016-07-11 23:59:00+00:00</td>\n",
       "      <td>56</td>\n",
       "      <td>34.0</td>\n",
       "      <td>0.93114</td>\n",
       "      <td>20000.0</td>\n",
       "      <td>331480</td>\n",
       "      <td>expert</td>\n",
       "    </tr>\n",
       "    <tr>\n",
       "      <th>3</th>\n",
       "      <td>CVxTz</td>\n",
       "      <td>5261</td>\n",
       "      <td>2016-09-19 23:59:00+00:00</td>\n",
       "      <td>14</td>\n",
       "      <td>389.0</td>\n",
       "      <td>0.99168</td>\n",
       "      <td>50000.0</td>\n",
       "      <td>366212</td>\n",
       "      <td>expert</td>\n",
       "    </tr>\n",
       "    <tr>\n",
       "      <th>4</th>\n",
       "      <td>CVxTz</td>\n",
       "      <td>5325</td>\n",
       "      <td>2016-12-12 23:59:00+00:00</td>\n",
       "      <td>89</td>\n",
       "      <td>27.0</td>\n",
       "      <td>1112.12520</td>\n",
       "      <td>1.0</td>\n",
       "      <td>391400</td>\n",
       "      <td>expert</td>\n",
       "    </tr>\n",
       "  </tbody>\n",
       "</table>\n",
       "</div>"
      ],
      "text/plain": [
       "     name  competitionId                   deadline  entries    rank  \\\n",
       "0  Atishj           6392  2017-06-29 23:59:00+00:00       20  1862.0   \n",
       "1   CVxTz           4852  2016-04-18 23:59:00+00:00        3  1753.0   \n",
       "2   CVxTz           5174  2016-07-11 23:59:00+00:00       56    34.0   \n",
       "3   CVxTz           5261  2016-09-19 23:59:00+00:00       14   389.0   \n",
       "4   CVxTz           5325  2016-12-12 23:59:00+00:00       89    27.0   \n",
       "\n",
       "        score  rewardQuantity  teamId    tier  \n",
       "0     0.32624         25000.0  649770  novice  \n",
       "1     0.46184         30000.0  275941  expert  \n",
       "2     0.93114         20000.0  331480  expert  \n",
       "3     0.99168         50000.0  366212  expert  \n",
       "4  1112.12520             1.0  391400  expert  "
      ]
     },
     "execution_count": 71,
     "metadata": {},
     "output_type": "execute_result"
    }
   ],
   "source": [
    "item_df = pd.read_csv(\"./inputs/kaggle/item.csv\")\n",
    "item_df.head()"
   ]
  },
  {
   "cell_type": "code",
   "execution_count": 72,
   "metadata": {
    "ExecuteTime": {
     "end_time": "2019-09-19T07:54:32.960428Z",
     "start_time": "2019-09-19T07:54:32.795397Z"
    },
    "scrolled": true
   },
   "outputs": [
    {
     "name": "stdout",
     "output_type": "stream",
     "text": [
      "<class 'pandas.core.frame.DataFrame'>\n",
      "RangeIndex: 476244 entries, 0 to 476243\n",
      "Data columns (total 9 columns):\n",
      "name              476244 non-null object\n",
      "competitionId     476244 non-null int64\n",
      "deadline          476244 non-null object\n",
      "entries           476244 non-null int64\n",
      "rank              475615 non-null float64\n",
      "score             476244 non-null float64\n",
      "rewardQuantity    430559 non-null float64\n",
      "teamId            476244 non-null int64\n",
      "tier              476244 non-null object\n",
      "dtypes: float64(3), int64(3), object(3)\n",
      "memory usage: 32.7+ MB\n"
     ]
    }
   ],
   "source": [
    "item_df.info()"
   ]
  },
  {
   "cell_type": "code",
   "execution_count": 73,
   "metadata": {
    "ExecuteTime": {
     "end_time": "2019-09-19T07:54:33.820397Z",
     "start_time": "2019-09-19T07:54:33.739395Z"
    }
   },
   "outputs": [
    {
     "data": {
      "text/html": [
       "<div>\n",
       "<style scoped>\n",
       "    .dataframe tbody tr th:only-of-type {\n",
       "        vertical-align: middle;\n",
       "    }\n",
       "\n",
       "    .dataframe tbody tr th {\n",
       "        vertical-align: top;\n",
       "    }\n",
       "\n",
       "    .dataframe thead th {\n",
       "        text-align: right;\n",
       "    }\n",
       "</style>\n",
       "<table border=\"1\" class=\"dataframe\">\n",
       "  <thead>\n",
       "    <tr style=\"text-align: right;\">\n",
       "      <th></th>\n",
       "      <th>name</th>\n",
       "      <th>competitionId</th>\n",
       "      <th>deadline</th>\n",
       "      <th>rank</th>\n",
       "      <th>score</th>\n",
       "      <th>tier</th>\n",
       "    </tr>\n",
       "  </thead>\n",
       "  <tbody>\n",
       "    <tr>\n",
       "      <th>0</th>\n",
       "      <td>Atishj</td>\n",
       "      <td>6392</td>\n",
       "      <td>2017-06-29 23:59:00+00:00</td>\n",
       "      <td>1862.0</td>\n",
       "      <td>0.32624</td>\n",
       "      <td>novice</td>\n",
       "    </tr>\n",
       "    <tr>\n",
       "      <th>1</th>\n",
       "      <td>CVxTz</td>\n",
       "      <td>4852</td>\n",
       "      <td>2016-04-18 23:59:00+00:00</td>\n",
       "      <td>1753.0</td>\n",
       "      <td>0.46184</td>\n",
       "      <td>expert</td>\n",
       "    </tr>\n",
       "    <tr>\n",
       "      <th>2</th>\n",
       "      <td>CVxTz</td>\n",
       "      <td>5174</td>\n",
       "      <td>2016-07-11 23:59:00+00:00</td>\n",
       "      <td>34.0</td>\n",
       "      <td>0.93114</td>\n",
       "      <td>expert</td>\n",
       "    </tr>\n",
       "    <tr>\n",
       "      <th>3</th>\n",
       "      <td>CVxTz</td>\n",
       "      <td>5261</td>\n",
       "      <td>2016-09-19 23:59:00+00:00</td>\n",
       "      <td>389.0</td>\n",
       "      <td>0.99168</td>\n",
       "      <td>expert</td>\n",
       "    </tr>\n",
       "    <tr>\n",
       "      <th>4</th>\n",
       "      <td>CVxTz</td>\n",
       "      <td>5325</td>\n",
       "      <td>2016-12-12 23:59:00+00:00</td>\n",
       "      <td>27.0</td>\n",
       "      <td>1112.12520</td>\n",
       "      <td>expert</td>\n",
       "    </tr>\n",
       "  </tbody>\n",
       "</table>\n",
       "</div>"
      ],
      "text/plain": [
       "     name  competitionId                   deadline    rank       score  \\\n",
       "0  Atishj           6392  2017-06-29 23:59:00+00:00  1862.0     0.32624   \n",
       "1   CVxTz           4852  2016-04-18 23:59:00+00:00  1753.0     0.46184   \n",
       "2   CVxTz           5174  2016-07-11 23:59:00+00:00    34.0     0.93114   \n",
       "3   CVxTz           5261  2016-09-19 23:59:00+00:00   389.0     0.99168   \n",
       "4   CVxTz           5325  2016-12-12 23:59:00+00:00    27.0  1112.12520   \n",
       "\n",
       "     tier  \n",
       "0  novice  \n",
       "1  expert  \n",
       "2  expert  \n",
       "3  expert  \n",
       "4  expert  "
      ]
     },
     "execution_count": 73,
     "metadata": {},
     "output_type": "execute_result"
    }
   ],
   "source": [
    "item_df = item_df[['name', 'competitionId', 'deadline', 'rank', 'score', 'tier']]\n",
    "item_df.head()"
   ]
  },
  {
   "cell_type": "code",
   "execution_count": 74,
   "metadata": {
    "ExecuteTime": {
     "end_time": "2019-09-19T07:54:35.917395Z",
     "start_time": "2019-09-19T07:54:35.524396Z"
    }
   },
   "outputs": [
    {
     "data": {
      "text/plain": [
       "name                          object\n",
       "competitionId                  int64\n",
       "deadline         datetime64[ns, UTC]\n",
       "rank                         float64\n",
       "score                        float64\n",
       "tier                          object\n",
       "dtype: object"
      ]
     },
     "execution_count": 74,
     "metadata": {},
     "output_type": "execute_result"
    }
   ],
   "source": [
    "item_df['deadline'] = pd.to_datetime(item_df['deadline'],\n",
    "                                     infer_datetime_format=True)\n",
    "item_df.dtypes"
   ]
  },
  {
   "cell_type": "code",
   "execution_count": 75,
   "metadata": {
    "ExecuteTime": {
     "end_time": "2019-09-19T07:54:36.602425Z",
     "start_time": "2019-09-19T07:54:36.475396Z"
    }
   },
   "outputs": [
    {
     "data": {
      "text/plain": [
       "name             False\n",
       "competitionId    False\n",
       "deadline         False\n",
       "rank              True\n",
       "score            False\n",
       "tier             False\n",
       "dtype: bool"
      ]
     },
     "execution_count": 75,
     "metadata": {},
     "output_type": "execute_result"
    }
   ],
   "source": [
    "item_df.isna().any()"
   ]
  },
  {
   "cell_type": "code",
   "execution_count": 76,
   "metadata": {
    "ExecuteTime": {
     "end_time": "2019-09-19T07:54:37.222394Z",
     "start_time": "2019-09-19T07:54:37.163405Z"
    }
   },
   "outputs": [
    {
     "name": "stdout",
     "output_type": "stream",
     "text": [
      "Previous item shape (476244, 6)\n"
     ]
    }
   ],
   "source": [
    "print(f\"Previous item shape {item_df.shape}\")"
   ]
  },
  {
   "cell_type": "code",
   "execution_count": 77,
   "metadata": {
    "ExecuteTime": {
     "end_time": "2019-09-19T07:54:39.968394Z",
     "start_time": "2019-09-19T07:54:39.794397Z"
    }
   },
   "outputs": [
    {
     "name": "stdout",
     "output_type": "stream",
     "text": [
      "Drop nan value shape: (475615, 6)\n"
     ]
    }
   ],
   "source": [
    "item_df = item_df.dropna()\n",
    "print(f\"Drop nan value shape: {item_df.shape}\")"
   ]
  },
  {
   "cell_type": "code",
   "execution_count": 78,
   "metadata": {
    "ExecuteTime": {
     "end_time": "2019-09-19T07:54:40.574419Z",
     "start_time": "2019-09-19T07:54:40.395398Z"
    }
   },
   "outputs": [
    {
     "name": "stdout",
     "output_type": "stream",
     "text": [
      "competition number 326\n",
      "competitor  number 151504\n"
     ]
    }
   ],
   "source": [
    "comp_counts = item_df['competitionId'].value_counts()\n",
    "name_counts = item_df['name'].value_counts()\n",
    "\n",
    "print(f\"competition number {comp_counts.size}\")\n",
    "print(f\"competitor  number {name_counts.size}\")"
   ]
  },
  {
   "cell_type": "code",
   "execution_count": 79,
   "metadata": {
    "ExecuteTime": {
     "end_time": "2019-09-19T07:54:41.120422Z",
     "start_time": "2019-09-19T07:54:41.058396Z"
    }
   },
   "outputs": [
    {
     "data": {
      "text/plain": [
       "3525     7\n",
       "3194    13\n",
       "3077    15\n",
       "2408    25\n",
       "2549    27\n",
       "Name: competitionId, dtype: int64"
      ]
     },
     "execution_count": 79,
     "metadata": {},
     "output_type": "execute_result"
    }
   ],
   "source": [
    "comp_counts.sort_values().head()"
   ]
  },
  {
   "cell_type": "code",
   "execution_count": 80,
   "metadata": {
    "ExecuteTime": {
     "end_time": "2019-09-19T07:54:41.660394Z",
     "start_time": "2019-09-19T07:54:41.578397Z"
    }
   },
   "outputs": [
    {
     "name": "stdout",
     "output_type": "stream",
     "text": [
      "filter competitor number 30870\n"
     ]
    }
   ],
   "source": [
    "name_counts = name_counts[name_counts>=4]\n",
    "print(f\"filter competitor number {name_counts.size}\")"
   ]
  },
  {
   "cell_type": "code",
   "execution_count": 81,
   "metadata": {
    "ExecuteTime": {
     "end_time": "2019-09-19T07:54:42.221424Z",
     "start_time": "2019-09-19T07:54:42.115395Z"
    }
   },
   "outputs": [
    {
     "data": {
      "text/plain": [
       "(319868, 6)"
      ]
     },
     "execution_count": 81,
     "metadata": {},
     "output_type": "execute_result"
    }
   ],
   "source": [
    "item_df = item_df[item_df['name'].isin(name_counts.index)]\n",
    "item_df.shape"
   ]
  },
  {
   "cell_type": "code",
   "execution_count": 82,
   "metadata": {
    "ExecuteTime": {
     "end_time": "2019-09-19T07:54:44.038398Z",
     "start_time": "2019-09-19T07:54:43.859396Z"
    }
   },
   "outputs": [
    {
     "data": {
      "text/html": [
       "<div>\n",
       "<style scoped>\n",
       "    .dataframe tbody tr th:only-of-type {\n",
       "        vertical-align: middle;\n",
       "    }\n",
       "\n",
       "    .dataframe tbody tr th {\n",
       "        vertical-align: top;\n",
       "    }\n",
       "\n",
       "    .dataframe thead th {\n",
       "        text-align: right;\n",
       "    }\n",
       "</style>\n",
       "<table border=\"1\" class=\"dataframe\">\n",
       "  <thead>\n",
       "    <tr style=\"text-align: right;\">\n",
       "      <th></th>\n",
       "      <th>name</th>\n",
       "      <th>competitionId</th>\n",
       "      <th>deadline</th>\n",
       "      <th>rank</th>\n",
       "      <th>score</th>\n",
       "      <th>tier</th>\n",
       "    </tr>\n",
       "  </thead>\n",
       "  <tbody>\n",
       "    <tr>\n",
       "      <th>1</th>\n",
       "      <td>CVxTz</td>\n",
       "      <td>4852</td>\n",
       "      <td>2016-04-18 23:59:00+00:00</td>\n",
       "      <td>1753.0</td>\n",
       "      <td>0.46184</td>\n",
       "      <td>expert</td>\n",
       "    </tr>\n",
       "    <tr>\n",
       "      <th>2</th>\n",
       "      <td>CVxTz</td>\n",
       "      <td>5174</td>\n",
       "      <td>2016-07-11 23:59:00+00:00</td>\n",
       "      <td>34.0</td>\n",
       "      <td>0.93114</td>\n",
       "      <td>expert</td>\n",
       "    </tr>\n",
       "    <tr>\n",
       "      <th>5</th>\n",
       "      <td>CVxTz</td>\n",
       "      <td>5340</td>\n",
       "      <td>2016-09-05 23:59:00+00:00</td>\n",
       "      <td>111.0</td>\n",
       "      <td>2.23255</td>\n",
       "      <td>expert</td>\n",
       "    </tr>\n",
       "    <tr>\n",
       "      <th>3</th>\n",
       "      <td>CVxTz</td>\n",
       "      <td>5261</td>\n",
       "      <td>2016-09-19 23:59:00+00:00</td>\n",
       "      <td>389.0</td>\n",
       "      <td>0.99168</td>\n",
       "      <td>expert</td>\n",
       "    </tr>\n",
       "    <tr>\n",
       "      <th>4</th>\n",
       "      <td>CVxTz</td>\n",
       "      <td>5325</td>\n",
       "      <td>2016-12-12 23:59:00+00:00</td>\n",
       "      <td>27.0</td>\n",
       "      <td>1112.12520</td>\n",
       "      <td>expert</td>\n",
       "    </tr>\n",
       "    <tr>\n",
       "      <th>8</th>\n",
       "      <td>CVxTz</td>\n",
       "      <td>5977</td>\n",
       "      <td>2017-01-30 23:59:00+00:00</td>\n",
       "      <td>235.0</td>\n",
       "      <td>35987.14716</td>\n",
       "      <td>expert</td>\n",
       "    </tr>\n",
       "    <tr>\n",
       "      <th>7</th>\n",
       "      <td>CVxTz</td>\n",
       "      <td>5874</td>\n",
       "      <td>2017-03-01 23:59:00+00:00</td>\n",
       "      <td>430.0</td>\n",
       "      <td>0.01790</td>\n",
       "      <td>expert</td>\n",
       "    </tr>\n",
       "    <tr>\n",
       "      <th>6</th>\n",
       "      <td>CVxTz</td>\n",
       "      <td>5590</td>\n",
       "      <td>2017-04-25 23:59:00+00:00</td>\n",
       "      <td>454.0</td>\n",
       "      <td>0.52079</td>\n",
       "      <td>expert</td>\n",
       "    </tr>\n",
       "    <tr>\n",
       "      <th>9</th>\n",
       "      <td>CVxTz</td>\n",
       "      <td>6277</td>\n",
       "      <td>2017-06-06 23:59:00+00:00</td>\n",
       "      <td>73.0</td>\n",
       "      <td>0.14094</td>\n",
       "      <td>expert</td>\n",
       "    </tr>\n",
       "    <tr>\n",
       "      <th>10</th>\n",
       "      <td>CVxTz</td>\n",
       "      <td>6392</td>\n",
       "      <td>2017-06-29 23:59:00+00:00</td>\n",
       "      <td>408.0</td>\n",
       "      <td>0.31650</td>\n",
       "      <td>expert</td>\n",
       "    </tr>\n",
       "  </tbody>\n",
       "</table>\n",
       "</div>"
      ],
      "text/plain": [
       "     name  competitionId                  deadline    rank        score  \\\n",
       "1   CVxTz           4852 2016-04-18 23:59:00+00:00  1753.0      0.46184   \n",
       "2   CVxTz           5174 2016-07-11 23:59:00+00:00    34.0      0.93114   \n",
       "5   CVxTz           5340 2016-09-05 23:59:00+00:00   111.0      2.23255   \n",
       "3   CVxTz           5261 2016-09-19 23:59:00+00:00   389.0      0.99168   \n",
       "4   CVxTz           5325 2016-12-12 23:59:00+00:00    27.0   1112.12520   \n",
       "8   CVxTz           5977 2017-01-30 23:59:00+00:00   235.0  35987.14716   \n",
       "7   CVxTz           5874 2017-03-01 23:59:00+00:00   430.0      0.01790   \n",
       "6   CVxTz           5590 2017-04-25 23:59:00+00:00   454.0      0.52079   \n",
       "9   CVxTz           6277 2017-06-06 23:59:00+00:00    73.0      0.14094   \n",
       "10  CVxTz           6392 2017-06-29 23:59:00+00:00   408.0      0.31650   \n",
       "\n",
       "      tier  \n",
       "1   expert  \n",
       "2   expert  \n",
       "5   expert  \n",
       "3   expert  \n",
       "4   expert  \n",
       "8   expert  \n",
       "7   expert  \n",
       "6   expert  \n",
       "9   expert  \n",
       "10  expert  "
      ]
     },
     "execution_count": 82,
     "metadata": {},
     "output_type": "execute_result"
    }
   ],
   "source": [
    "item_df = item_df.sort_values(by=['name', 'deadline'])\n",
    "item_df.head(10)"
   ]
  },
  {
   "cell_type": "code",
   "execution_count": 83,
   "metadata": {
    "ExecuteTime": {
     "end_time": "2019-09-19T07:54:44.711398Z",
     "start_time": "2019-09-19T07:54:44.643425Z"
    }
   },
   "outputs": [
    {
     "data": {
      "text/html": [
       "<div>\n",
       "<style scoped>\n",
       "    .dataframe tbody tr th:only-of-type {\n",
       "        vertical-align: middle;\n",
       "    }\n",
       "\n",
       "    .dataframe tbody tr th {\n",
       "        vertical-align: top;\n",
       "    }\n",
       "\n",
       "    .dataframe thead th {\n",
       "        text-align: right;\n",
       "    }\n",
       "</style>\n",
       "<table border=\"1\" class=\"dataframe\">\n",
       "  <thead>\n",
       "    <tr style=\"text-align: right;\">\n",
       "      <th></th>\n",
       "      <th>name</th>\n",
       "      <th>competitionId</th>\n",
       "      <th>deadline</th>\n",
       "      <th>rank</th>\n",
       "      <th>score</th>\n",
       "      <th>tier</th>\n",
       "      <th>previousId</th>\n",
       "    </tr>\n",
       "  </thead>\n",
       "  <tbody>\n",
       "    <tr>\n",
       "      <th>1</th>\n",
       "      <td>CVxTz</td>\n",
       "      <td>4852</td>\n",
       "      <td>2016-04-18 23:59:00+00:00</td>\n",
       "      <td>1753.0</td>\n",
       "      <td>0.46184</td>\n",
       "      <td>expert</td>\n",
       "      <td>4852</td>\n",
       "    </tr>\n",
       "    <tr>\n",
       "      <th>2</th>\n",
       "      <td>CVxTz</td>\n",
       "      <td>5174</td>\n",
       "      <td>2016-07-11 23:59:00+00:00</td>\n",
       "      <td>34.0</td>\n",
       "      <td>0.93114</td>\n",
       "      <td>expert</td>\n",
       "      <td>5174</td>\n",
       "    </tr>\n",
       "    <tr>\n",
       "      <th>5</th>\n",
       "      <td>CVxTz</td>\n",
       "      <td>5340</td>\n",
       "      <td>2016-09-05 23:59:00+00:00</td>\n",
       "      <td>111.0</td>\n",
       "      <td>2.23255</td>\n",
       "      <td>expert</td>\n",
       "      <td>5340</td>\n",
       "    </tr>\n",
       "    <tr>\n",
       "      <th>3</th>\n",
       "      <td>CVxTz</td>\n",
       "      <td>5261</td>\n",
       "      <td>2016-09-19 23:59:00+00:00</td>\n",
       "      <td>389.0</td>\n",
       "      <td>0.99168</td>\n",
       "      <td>expert</td>\n",
       "      <td>5261</td>\n",
       "    </tr>\n",
       "    <tr>\n",
       "      <th>4</th>\n",
       "      <td>CVxTz</td>\n",
       "      <td>5325</td>\n",
       "      <td>2016-12-12 23:59:00+00:00</td>\n",
       "      <td>27.0</td>\n",
       "      <td>1112.12520</td>\n",
       "      <td>expert</td>\n",
       "      <td>5325</td>\n",
       "    </tr>\n",
       "  </tbody>\n",
       "</table>\n",
       "</div>"
      ],
      "text/plain": [
       "    name  competitionId                  deadline    rank       score    tier  \\\n",
       "1  CVxTz           4852 2016-04-18 23:59:00+00:00  1753.0     0.46184  expert   \n",
       "2  CVxTz           5174 2016-07-11 23:59:00+00:00    34.0     0.93114  expert   \n",
       "5  CVxTz           5340 2016-09-05 23:59:00+00:00   111.0     2.23255  expert   \n",
       "3  CVxTz           5261 2016-09-19 23:59:00+00:00   389.0     0.99168  expert   \n",
       "4  CVxTz           5325 2016-12-12 23:59:00+00:00    27.0  1112.12520  expert   \n",
       "\n",
       "   previousId  \n",
       "1        4852  \n",
       "2        5174  \n",
       "5        5340  \n",
       "3        5261  \n",
       "4        5325  "
      ]
     },
     "execution_count": 83,
     "metadata": {},
     "output_type": "execute_result"
    }
   ],
   "source": [
    "item_df['previousId'] = item_df['competitionId']\n",
    "item_df.head()"
   ]
  },
  {
   "cell_type": "code",
   "execution_count": 84,
   "metadata": {
    "ExecuteTime": {
     "end_time": "2019-09-19T07:54:48.267413Z",
     "start_time": "2019-09-19T07:54:48.195398Z"
    }
   },
   "outputs": [
    {
     "data": {
      "text/html": [
       "<div>\n",
       "<style scoped>\n",
       "    .dataframe tbody tr th:only-of-type {\n",
       "        vertical-align: middle;\n",
       "    }\n",
       "\n",
       "    .dataframe tbody tr th {\n",
       "        vertical-align: top;\n",
       "    }\n",
       "\n",
       "    .dataframe thead th {\n",
       "        text-align: right;\n",
       "    }\n",
       "</style>\n",
       "<table border=\"1\" class=\"dataframe\">\n",
       "  <thead>\n",
       "    <tr style=\"text-align: right;\">\n",
       "      <th></th>\n",
       "      <th>name</th>\n",
       "      <th>competitionId</th>\n",
       "      <th>deadline</th>\n",
       "      <th>rank</th>\n",
       "      <th>score</th>\n",
       "      <th>tier</th>\n",
       "      <th>previousId</th>\n",
       "    </tr>\n",
       "  </thead>\n",
       "  <tbody>\n",
       "    <tr>\n",
       "      <th>1</th>\n",
       "      <td>CVxTz</td>\n",
       "      <td>4852</td>\n",
       "      <td>2016-04-18 23:59:00+00:00</td>\n",
       "      <td>1753.0</td>\n",
       "      <td>0.46184</td>\n",
       "      <td>expert</td>\n",
       "      <td>0</td>\n",
       "    </tr>\n",
       "    <tr>\n",
       "      <th>2</th>\n",
       "      <td>CVxTz</td>\n",
       "      <td>5174</td>\n",
       "      <td>2016-07-11 23:59:00+00:00</td>\n",
       "      <td>34.0</td>\n",
       "      <td>0.93114</td>\n",
       "      <td>expert</td>\n",
       "      <td>4852</td>\n",
       "    </tr>\n",
       "    <tr>\n",
       "      <th>5</th>\n",
       "      <td>CVxTz</td>\n",
       "      <td>5340</td>\n",
       "      <td>2016-09-05 23:59:00+00:00</td>\n",
       "      <td>111.0</td>\n",
       "      <td>2.23255</td>\n",
       "      <td>expert</td>\n",
       "      <td>5174</td>\n",
       "    </tr>\n",
       "    <tr>\n",
       "      <th>3</th>\n",
       "      <td>CVxTz</td>\n",
       "      <td>5261</td>\n",
       "      <td>2016-09-19 23:59:00+00:00</td>\n",
       "      <td>389.0</td>\n",
       "      <td>0.99168</td>\n",
       "      <td>expert</td>\n",
       "      <td>5340</td>\n",
       "    </tr>\n",
       "    <tr>\n",
       "      <th>4</th>\n",
       "      <td>CVxTz</td>\n",
       "      <td>5325</td>\n",
       "      <td>2016-12-12 23:59:00+00:00</td>\n",
       "      <td>27.0</td>\n",
       "      <td>1112.12520</td>\n",
       "      <td>expert</td>\n",
       "      <td>5261</td>\n",
       "    </tr>\n",
       "  </tbody>\n",
       "</table>\n",
       "</div>"
      ],
      "text/plain": [
       "    name  competitionId                  deadline    rank       score    tier  \\\n",
       "1  CVxTz           4852 2016-04-18 23:59:00+00:00  1753.0     0.46184  expert   \n",
       "2  CVxTz           5174 2016-07-11 23:59:00+00:00    34.0     0.93114  expert   \n",
       "5  CVxTz           5340 2016-09-05 23:59:00+00:00   111.0     2.23255  expert   \n",
       "3  CVxTz           5261 2016-09-19 23:59:00+00:00   389.0     0.99168  expert   \n",
       "4  CVxTz           5325 2016-12-12 23:59:00+00:00    27.0  1112.12520  expert   \n",
       "\n",
       "   previousId  \n",
       "1           0  \n",
       "2        4852  \n",
       "5        5174  \n",
       "3        5340  \n",
       "4        5261  "
      ]
     },
     "execution_count": 84,
     "metadata": {},
     "output_type": "execute_result"
    }
   ],
   "source": [
    "item_df['previousId'] = item_df['previousId'].shift(\n",
    "    periods=1).fillna(0).astype('int64')\n",
    "item_df.head()"
   ]
  },
  {
   "cell_type": "code",
   "execution_count": 85,
   "metadata": {
    "ExecuteTime": {
     "end_time": "2019-09-19T07:54:48.927408Z",
     "start_time": "2019-09-19T07:54:48.843395Z"
    }
   },
   "outputs": [
    {
     "data": {
      "text/html": [
       "<div>\n",
       "<style scoped>\n",
       "    .dataframe tbody tr th:only-of-type {\n",
       "        vertical-align: middle;\n",
       "    }\n",
       "\n",
       "    .dataframe tbody tr th {\n",
       "        vertical-align: top;\n",
       "    }\n",
       "\n",
       "    .dataframe thead th {\n",
       "        text-align: right;\n",
       "    }\n",
       "</style>\n",
       "<table border=\"1\" class=\"dataframe\">\n",
       "  <thead>\n",
       "    <tr style=\"text-align: right;\">\n",
       "      <th></th>\n",
       "      <th>name</th>\n",
       "      <th>competitionId</th>\n",
       "      <th>previousId</th>\n",
       "      <th>deadline</th>\n",
       "      <th>rank</th>\n",
       "      <th>score</th>\n",
       "      <th>tier</th>\n",
       "    </tr>\n",
       "  </thead>\n",
       "  <tbody>\n",
       "    <tr>\n",
       "      <th>1</th>\n",
       "      <td>CVxTz</td>\n",
       "      <td>4852</td>\n",
       "      <td>0</td>\n",
       "      <td>2016-04-18 23:59:00+00:00</td>\n",
       "      <td>1753.0</td>\n",
       "      <td>0.46184</td>\n",
       "      <td>expert</td>\n",
       "    </tr>\n",
       "    <tr>\n",
       "      <th>2</th>\n",
       "      <td>CVxTz</td>\n",
       "      <td>5174</td>\n",
       "      <td>4852</td>\n",
       "      <td>2016-07-11 23:59:00+00:00</td>\n",
       "      <td>34.0</td>\n",
       "      <td>0.93114</td>\n",
       "      <td>expert</td>\n",
       "    </tr>\n",
       "    <tr>\n",
       "      <th>5</th>\n",
       "      <td>CVxTz</td>\n",
       "      <td>5340</td>\n",
       "      <td>5174</td>\n",
       "      <td>2016-09-05 23:59:00+00:00</td>\n",
       "      <td>111.0</td>\n",
       "      <td>2.23255</td>\n",
       "      <td>expert</td>\n",
       "    </tr>\n",
       "    <tr>\n",
       "      <th>3</th>\n",
       "      <td>CVxTz</td>\n",
       "      <td>5261</td>\n",
       "      <td>5340</td>\n",
       "      <td>2016-09-19 23:59:00+00:00</td>\n",
       "      <td>389.0</td>\n",
       "      <td>0.99168</td>\n",
       "      <td>expert</td>\n",
       "    </tr>\n",
       "    <tr>\n",
       "      <th>4</th>\n",
       "      <td>CVxTz</td>\n",
       "      <td>5325</td>\n",
       "      <td>5261</td>\n",
       "      <td>2016-12-12 23:59:00+00:00</td>\n",
       "      <td>27.0</td>\n",
       "      <td>1112.12520</td>\n",
       "      <td>expert</td>\n",
       "    </tr>\n",
       "  </tbody>\n",
       "</table>\n",
       "</div>"
      ],
      "text/plain": [
       "    name  competitionId  previousId                  deadline    rank  \\\n",
       "1  CVxTz           4852           0 2016-04-18 23:59:00+00:00  1753.0   \n",
       "2  CVxTz           5174        4852 2016-07-11 23:59:00+00:00    34.0   \n",
       "5  CVxTz           5340        5174 2016-09-05 23:59:00+00:00   111.0   \n",
       "3  CVxTz           5261        5340 2016-09-19 23:59:00+00:00   389.0   \n",
       "4  CVxTz           5325        5261 2016-12-12 23:59:00+00:00    27.0   \n",
       "\n",
       "        score    tier  \n",
       "1     0.46184  expert  \n",
       "2     0.93114  expert  \n",
       "5     2.23255  expert  \n",
       "3     0.99168  expert  \n",
       "4  1112.12520  expert  "
      ]
     },
     "execution_count": 85,
     "metadata": {},
     "output_type": "execute_result"
    }
   ],
   "source": [
    "# Organzied columns\n",
    "item_df = item_df[[\n",
    "    'name', 'competitionId', 'previousId', 'deadline', 'rank', 'score', 'tier'\n",
    "]]\n",
    "item_df.head()"
   ]
  },
  {
   "cell_type": "code",
   "execution_count": 93,
   "metadata": {
    "ExecuteTime": {
     "end_time": "2019-09-19T07:57:38.427055Z",
     "start_time": "2019-09-19T07:57:38.012055Z"
    }
   },
   "outputs": [
    {
     "data": {
      "text/html": [
       "<div>\n",
       "<style scoped>\n",
       "    .dataframe tbody tr th:only-of-type {\n",
       "        vertical-align: middle;\n",
       "    }\n",
       "\n",
       "    .dataframe tbody tr th {\n",
       "        vertical-align: top;\n",
       "    }\n",
       "\n",
       "    .dataframe thead th {\n",
       "        text-align: right;\n",
       "    }\n",
       "</style>\n",
       "<table border=\"1\" class=\"dataframe\">\n",
       "  <thead>\n",
       "    <tr style=\"text-align: right;\">\n",
       "      <th></th>\n",
       "      <th>name</th>\n",
       "      <th>competitionId</th>\n",
       "      <th>previousId</th>\n",
       "      <th>deadline</th>\n",
       "      <th>rank</th>\n",
       "      <th>score</th>\n",
       "      <th>tier</th>\n",
       "    </tr>\n",
       "  </thead>\n",
       "  <tbody>\n",
       "    <tr>\n",
       "      <th>1</th>\n",
       "      <td>CVxTz</td>\n",
       "      <td>4852</td>\n",
       "      <td>-1</td>\n",
       "      <td>2016-04-18 23:59:00+00:00</td>\n",
       "      <td>1753.0</td>\n",
       "      <td>0.46184</td>\n",
       "      <td>expert</td>\n",
       "    </tr>\n",
       "    <tr>\n",
       "      <th>2</th>\n",
       "      <td>CVxTz</td>\n",
       "      <td>5174</td>\n",
       "      <td>4852</td>\n",
       "      <td>2016-07-11 23:59:00+00:00</td>\n",
       "      <td>34.0</td>\n",
       "      <td>0.93114</td>\n",
       "      <td>expert</td>\n",
       "    </tr>\n",
       "    <tr>\n",
       "      <th>5</th>\n",
       "      <td>CVxTz</td>\n",
       "      <td>5340</td>\n",
       "      <td>5174</td>\n",
       "      <td>2016-09-05 23:59:00+00:00</td>\n",
       "      <td>111.0</td>\n",
       "      <td>2.23255</td>\n",
       "      <td>expert</td>\n",
       "    </tr>\n",
       "    <tr>\n",
       "      <th>3</th>\n",
       "      <td>CVxTz</td>\n",
       "      <td>5261</td>\n",
       "      <td>5340</td>\n",
       "      <td>2016-09-19 23:59:00+00:00</td>\n",
       "      <td>389.0</td>\n",
       "      <td>0.99168</td>\n",
       "      <td>expert</td>\n",
       "    </tr>\n",
       "    <tr>\n",
       "      <th>4</th>\n",
       "      <td>CVxTz</td>\n",
       "      <td>5325</td>\n",
       "      <td>5261</td>\n",
       "      <td>2016-12-12 23:59:00+00:00</td>\n",
       "      <td>27.0</td>\n",
       "      <td>1112.12520</td>\n",
       "      <td>expert</td>\n",
       "    </tr>\n",
       "  </tbody>\n",
       "</table>\n",
       "</div>"
      ],
      "text/plain": [
       "    name  competitionId  previousId                  deadline    rank  \\\n",
       "1  CVxTz           4852          -1 2016-04-18 23:59:00+00:00  1753.0   \n",
       "2  CVxTz           5174        4852 2016-07-11 23:59:00+00:00    34.0   \n",
       "5  CVxTz           5340        5174 2016-09-05 23:59:00+00:00   111.0   \n",
       "3  CVxTz           5261        5340 2016-09-19 23:59:00+00:00   389.0   \n",
       "4  CVxTz           5325        5261 2016-12-12 23:59:00+00:00    27.0   \n",
       "\n",
       "        score    tier  \n",
       "1     0.46184  expert  \n",
       "2     0.93114  expert  \n",
       "5     2.23255  expert  \n",
       "3     0.99168  expert  \n",
       "4  1112.12520  expert  "
      ]
     },
     "execution_count": 93,
     "metadata": {},
     "output_type": "execute_result"
    }
   ],
   "source": [
    "first_mask = item_df.duplicated(subset=['name'], keep='first')\n",
    "item_df['previousId'] = item_df['previousId'].where(first_mask, -1)\n",
    "item_df.head()"
   ]
  },
  {
   "cell_type": "code",
   "execution_count": 96,
   "metadata": {
    "ExecuteTime": {
     "end_time": "2019-09-19T08:00:49.945084Z",
     "start_time": "2019-09-19T08:00:49.868058Z"
    }
   },
   "outputs": [
    {
     "data": {
      "text/html": [
       "<div>\n",
       "<style scoped>\n",
       "    .dataframe tbody tr th:only-of-type {\n",
       "        vertical-align: middle;\n",
       "    }\n",
       "\n",
       "    .dataframe tbody tr th {\n",
       "        vertical-align: top;\n",
       "    }\n",
       "\n",
       "    .dataframe thead th {\n",
       "        text-align: right;\n",
       "    }\n",
       "</style>\n",
       "<table border=\"1\" class=\"dataframe\">\n",
       "  <thead>\n",
       "    <tr style=\"text-align: right;\">\n",
       "      <th></th>\n",
       "      <th>name</th>\n",
       "      <th>competitionId</th>\n",
       "      <th>previousId</th>\n",
       "      <th>deadline</th>\n",
       "      <th>rank</th>\n",
       "      <th>score</th>\n",
       "      <th>tier</th>\n",
       "    </tr>\n",
       "  </thead>\n",
       "  <tbody>\n",
       "    <tr>\n",
       "      <th>1</th>\n",
       "      <td>CVxTz</td>\n",
       "      <td>4852</td>\n",
       "      <td>-1</td>\n",
       "      <td>2016-04-18 23:59:00+00:00</td>\n",
       "      <td>1753.0</td>\n",
       "      <td>0.46184</td>\n",
       "      <td>expert</td>\n",
       "    </tr>\n",
       "    <tr>\n",
       "      <th>2</th>\n",
       "      <td>CVxTz</td>\n",
       "      <td>5174</td>\n",
       "      <td>4852</td>\n",
       "      <td>2016-07-11 23:59:00+00:00</td>\n",
       "      <td>34.0</td>\n",
       "      <td>0.93114</td>\n",
       "      <td>expert</td>\n",
       "    </tr>\n",
       "    <tr>\n",
       "      <th>5</th>\n",
       "      <td>CVxTz</td>\n",
       "      <td>5340</td>\n",
       "      <td>5174</td>\n",
       "      <td>2016-09-05 23:59:00+00:00</td>\n",
       "      <td>111.0</td>\n",
       "      <td>2.23255</td>\n",
       "      <td>expert</td>\n",
       "    </tr>\n",
       "    <tr>\n",
       "      <th>3</th>\n",
       "      <td>CVxTz</td>\n",
       "      <td>5261</td>\n",
       "      <td>5340</td>\n",
       "      <td>2016-09-19 23:59:00+00:00</td>\n",
       "      <td>389.0</td>\n",
       "      <td>0.99168</td>\n",
       "      <td>expert</td>\n",
       "    </tr>\n",
       "    <tr>\n",
       "      <th>4</th>\n",
       "      <td>CVxTz</td>\n",
       "      <td>5325</td>\n",
       "      <td>5261</td>\n",
       "      <td>2016-12-12 23:59:00+00:00</td>\n",
       "      <td>27.0</td>\n",
       "      <td>1112.12520</td>\n",
       "      <td>expert</td>\n",
       "    </tr>\n",
       "  </tbody>\n",
       "</table>\n",
       "</div>"
      ],
      "text/plain": [
       "    name  competitionId  previousId                  deadline    rank  \\\n",
       "1  CVxTz           4852          -1 2016-04-18 23:59:00+00:00  1753.0   \n",
       "2  CVxTz           5174        4852 2016-07-11 23:59:00+00:00    34.0   \n",
       "5  CVxTz           5340        5174 2016-09-05 23:59:00+00:00   111.0   \n",
       "3  CVxTz           5261        5340 2016-09-19 23:59:00+00:00   389.0   \n",
       "4  CVxTz           5325        5261 2016-12-12 23:59:00+00:00    27.0   \n",
       "\n",
       "        score    tier  \n",
       "1     0.46184  expert  \n",
       "2     0.93114  expert  \n",
       "5     2.23255  expert  \n",
       "3     0.99168  expert  \n",
       "4  1112.12520  expert  "
      ]
     },
     "execution_count": 96,
     "metadata": {},
     "output_type": "execute_result"
    }
   ],
   "source": [
    "item_df['score'] = item_df['score'].where(item_df['score'] != np.inf, 0)\n",
    "item_df.head()"
   ]
  },
  {
   "cell_type": "code",
   "execution_count": 97,
   "metadata": {
    "ExecuteTime": {
     "end_time": "2019-09-19T08:01:07.719055Z",
     "start_time": "2019-09-19T08:01:07.643055Z"
    }
   },
   "outputs": [
    {
     "data": {
      "text/html": [
       "<div>\n",
       "<style scoped>\n",
       "    .dataframe tbody tr th:only-of-type {\n",
       "        vertical-align: middle;\n",
       "    }\n",
       "\n",
       "    .dataframe tbody tr th {\n",
       "        vertical-align: top;\n",
       "    }\n",
       "\n",
       "    .dataframe thead th {\n",
       "        text-align: right;\n",
       "    }\n",
       "</style>\n",
       "<table border=\"1\" class=\"dataframe\">\n",
       "  <thead>\n",
       "    <tr style=\"text-align: right;\">\n",
       "      <th></th>\n",
       "      <th>name</th>\n",
       "      <th>competitionId</th>\n",
       "      <th>previousId</th>\n",
       "      <th>deadline</th>\n",
       "      <th>rank</th>\n",
       "      <th>score</th>\n",
       "      <th>tier</th>\n",
       "    </tr>\n",
       "  </thead>\n",
       "  <tbody>\n",
       "  </tbody>\n",
       "</table>\n",
       "</div>"
      ],
      "text/plain": [
       "Empty DataFrame\n",
       "Columns: [name, competitionId, previousId, deadline, rank, score, tier]\n",
       "Index: []"
      ]
     },
     "execution_count": 97,
     "metadata": {},
     "output_type": "execute_result"
    }
   ],
   "source": [
    "item_df[item_df['score'] == np.inf]"
   ]
  },
  {
   "cell_type": "code",
   "execution_count": 98,
   "metadata": {
    "ExecuteTime": {
     "end_time": "2019-09-19T08:01:37.918078Z",
     "start_time": "2019-09-19T08:01:37.859055Z"
    }
   },
   "outputs": [],
   "source": [
    "from sklearn.preprocessing import OneHotEncoder, MinMaxScaler"
   ]
  },
  {
   "cell_type": "code",
   "execution_count": 102,
   "metadata": {
    "ExecuteTime": {
     "end_time": "2019-09-19T08:02:41.865071Z",
     "start_time": "2019-09-19T08:02:41.795055Z"
    }
   },
   "outputs": [],
   "source": [
    "item_encoder = OneHotEncoder(categories='auto', handle_unknown='ignore')\n",
    "user_encoder = OneHotEncoder(categories='auto', handle_unknown='error')\n",
    "cat_encoder = OneHotEncoder(categories='auto', handle_unknown='error')\n",
    "cont_scaler = MinMaxScaler(feature_range=(0, 1))\n",
    "cont_names = ['rank', 'score']\n",
    "cat_names = ['tier']"
   ]
  },
  {
   "cell_type": "code",
   "execution_count": 103,
   "metadata": {
    "ExecuteTime": {
     "end_time": "2019-09-19T08:03:00.938057Z",
     "start_time": "2019-09-19T08:03:00.852056Z"
    }
   },
   "outputs": [
    {
     "data": {
      "text/plain": [
       "OneHotEncoder(categorical_features=None, categories='auto', drop=None,\n",
       "              dtype=<class 'numpy.float64'>, handle_unknown='error',\n",
       "              n_values=None, sparse=True)"
      ]
     },
     "execution_count": 103,
     "metadata": {},
     "output_type": "execute_result"
    }
   ],
   "source": [
    "cont_scaler.fit(item_df[cont_names])\n",
    "cat_encoder.fit(item_df[cat_names])"
   ]
  },
  {
   "cell_type": "code",
   "execution_count": 104,
   "metadata": {
    "ExecuteTime": {
     "end_time": "2019-09-19T08:03:21.243080Z",
     "start_time": "2019-09-19T08:03:21.123055Z"
    }
   },
   "outputs": [
    {
     "data": {
      "text/plain": [
       "OneHotEncoder(categorical_features=None, categories='auto', drop=None,\n",
       "              dtype=<class 'numpy.float64'>, handle_unknown='error',\n",
       "              n_values=None, sparse=True)"
      ]
     },
     "execution_count": 104,
     "metadata": {},
     "output_type": "execute_result"
    }
   ],
   "source": [
    "item_encoder.fit(item_df[['competitionId']])\n",
    "user_encoder.fit(item_df[['name']])"
   ]
  },
  {
   "cell_type": "code",
   "execution_count": 105,
   "metadata": {
    "ExecuteTime": {
     "end_time": "2019-09-19T08:04:18.541055Z",
     "start_time": "2019-09-19T08:04:18.475054Z"
    }
   },
   "outputs": [],
   "source": [
    "import scipy.sparse as sp"
   ]
  },
  {
   "cell_type": "code",
   "execution_count": 109,
   "metadata": {
    "ExecuteTime": {
     "end_time": "2019-09-19T08:07:31.794841Z",
     "start_time": "2019-09-19T08:07:31.723872Z"
    }
   },
   "outputs": [
    {
     "data": {
      "text/plain": [
       "(100, 7)"
      ]
     },
     "execution_count": 109,
     "metadata": {},
     "output_type": "execute_result"
    }
   ],
   "source": [
    "batch = item_df.sample(n=100)\n",
    "batch.shape"
   ]
  },
  {
   "cell_type": "code",
   "execution_count": 114,
   "metadata": {
    "ExecuteTime": {
     "end_time": "2019-09-19T08:12:23.979997Z",
     "start_time": "2019-09-19T08:12:23.899975Z"
    }
   },
   "outputs": [],
   "source": [
    "user_matrix = user_encoder.transform(batch[['name']])\n",
    "item_matrix = item_encoder.transform(batch[['competitionId']])\n",
    "prev_matrix = item_encoder.transform(batch[['previousId']])\n",
    "cat_matrix = cat_encoder.transform(batch[cat_names])\n",
    "cont_matrix = sp.csr_matrix(cont_scaler.transform(batch[cont_names]))"
   ]
  },
  {
   "cell_type": "code",
   "execution_count": 115,
   "metadata": {
    "ExecuteTime": {
     "end_time": "2019-09-19T08:22:04.611362Z",
     "start_time": "2019-09-19T08:22:04.547390Z"
    }
   },
   "outputs": [
    {
     "data": {
      "text/plain": [
       "<100x31530 sparse matrix of type '<class 'numpy.float64'>'\n",
       "\twith 595 stored elements in COOrdinate format>"
      ]
     },
     "execution_count": 115,
     "metadata": {},
     "output_type": "execute_result"
    }
   ],
   "source": [
    "feat_matrix = sp.hstack(\n",
    "    [user_matrix, item_matrix, prev_matrix, cat_matrix, cont_matrix])\n",
    "feat_matrix"
   ]
  },
  {
   "cell_type": "code",
   "execution_count": null,
   "metadata": {},
   "outputs": [],
   "source": []
  }
 ],
 "metadata": {
  "kernelspec": {
   "display_name": "Python 3",
   "language": "python",
   "name": "python3"
  },
  "language_info": {
   "codemirror_mode": {
    "name": "ipython",
    "version": 3
   },
   "file_extension": ".py",
   "mimetype": "text/x-python",
   "name": "python",
   "nbconvert_exporter": "python",
   "pygments_lexer": "ipython3",
   "version": "3.6.8"
  }
 },
 "nbformat": 4,
 "nbformat_minor": 2
}
