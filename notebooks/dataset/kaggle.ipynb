{
 "cells": [
  {
   "cell_type": "code",
   "execution_count": 1,
   "metadata": {
    "ExecuteTime": {
     "end_time": "2019-12-04T08:34:29.198778Z",
     "start_time": "2019-12-04T08:34:28.913751Z"
    }
   },
   "outputs": [],
   "source": [
    "%reload_ext autoreload\n",
    "%autoreload 2\n",
    "%matplotlib inline"
   ]
  },
  {
   "cell_type": "code",
   "execution_count": 2,
   "metadata": {
    "ExecuteTime": {
     "end_time": "2019-12-04T08:34:29.461752Z",
     "start_time": "2019-12-04T08:34:29.423750Z"
    }
   },
   "outputs": [
    {
     "name": "stdout",
     "output_type": "stream",
     "text": [
      "C:\\Projects\\python\\recommender\n"
     ]
    }
   ],
   "source": [
    "# Go to root directory\n",
    "%cd ../.."
   ]
  },
  {
   "cell_type": "code",
   "execution_count": 3,
   "metadata": {
    "ExecuteTime": {
     "end_time": "2019-12-04T08:32:53.590779Z",
     "start_time": "2019-12-04T08:32:53.287750Z"
    }
   },
   "outputs": [],
   "source": [
    "import json\n",
    "\n",
    "import numpy as np\n",
    "import pandas as pd"
   ]
  },
  {
   "cell_type": "code",
   "execution_count": 4,
   "metadata": {
    "ExecuteTime": {
     "end_time": "2019-12-04T08:32:54.571779Z",
     "start_time": "2019-12-04T08:32:54.495751Z"
    }
   },
   "outputs": [
    {
     "data": {
      "text/html": [
       "<div>\n",
       "<style scoped>\n",
       "    .dataframe tbody tr th:only-of-type {\n",
       "        vertical-align: middle;\n",
       "    }\n",
       "\n",
       "    .dataframe tbody tr th {\n",
       "        vertical-align: top;\n",
       "    }\n",
       "\n",
       "    .dataframe thead th {\n",
       "        text-align: right;\n",
       "    }\n",
       "</style>\n",
       "<table border=\"1\" class=\"dataframe\">\n",
       "  <thead>\n",
       "    <tr style=\"text-align: right;\">\n",
       "      <th></th>\n",
       "      <th>competitionId</th>\n",
       "      <th>competitionName</th>\n",
       "      <th>competitionTitle</th>\n",
       "      <th>deadline</th>\n",
       "      <th>rewardQuantity</th>\n",
       "      <th>totalTeams</th>\n",
       "      <th>rewardTypeName</th>\n",
       "    </tr>\n",
       "  </thead>\n",
       "  <tbody>\n",
       "    <tr>\n",
       "      <th>0</th>\n",
       "      <td>14774</td>\n",
       "      <td>aptos2019-blindness-detection</td>\n",
       "      <td>APTOS 2019 Blindness Detection</td>\n",
       "      <td>2019-09-07T23:59:00Z</td>\n",
       "      <td>50000.0</td>\n",
       "      <td>2943</td>\n",
       "      <td>USD</td>\n",
       "    </tr>\n",
       "    <tr>\n",
       "      <th>1</th>\n",
       "      <td>15447</td>\n",
       "      <td>ciphertext-challenge-iii</td>\n",
       "      <td>Ciphertext Challenge III</td>\n",
       "      <td>2019-09-05T23:59:00Z</td>\n",
       "      <td>0.0</td>\n",
       "      <td>103</td>\n",
       "      <td>Swag</td>\n",
       "    </tr>\n",
       "    <tr>\n",
       "      <th>2</th>\n",
       "      <td>14652</td>\n",
       "      <td>siim-acr-pneumothorax-segmentation</td>\n",
       "      <td>SIIM-ACR Pneumothorax Segmentation</td>\n",
       "      <td>2019-09-04T23:59:00Z</td>\n",
       "      <td>30000.0</td>\n",
       "      <td>1475</td>\n",
       "      <td>USD</td>\n",
       "    </tr>\n",
       "    <tr>\n",
       "      <th>3</th>\n",
       "      <td>14313</td>\n",
       "      <td>champs-scalar-coupling</td>\n",
       "      <td>Predicting Molecular Properties</td>\n",
       "      <td>2019-08-28T23:59:00Z</td>\n",
       "      <td>30000.0</td>\n",
       "      <td>2749</td>\n",
       "      <td>USD</td>\n",
       "    </tr>\n",
       "    <tr>\n",
       "      <th>4</th>\n",
       "      <td>15062</td>\n",
       "      <td>generative-dog-images</td>\n",
       "      <td>Generative Dog Images</td>\n",
       "      <td>2019-08-28T19:23:00Z</td>\n",
       "      <td>10000.0</td>\n",
       "      <td>927</td>\n",
       "      <td>USD</td>\n",
       "    </tr>\n",
       "  </tbody>\n",
       "</table>\n",
       "</div>"
      ],
      "text/plain": [
       "   competitionId                     competitionName  \\\n",
       "0          14774       aptos2019-blindness-detection   \n",
       "1          15447            ciphertext-challenge-iii   \n",
       "2          14652  siim-acr-pneumothorax-segmentation   \n",
       "3          14313              champs-scalar-coupling   \n",
       "4          15062               generative-dog-images   \n",
       "\n",
       "                     competitionTitle              deadline  rewardQuantity  \\\n",
       "0      APTOS 2019 Blindness Detection  2019-09-07T23:59:00Z         50000.0   \n",
       "1            Ciphertext Challenge III  2019-09-05T23:59:00Z             0.0   \n",
       "2  SIIM-ACR Pneumothorax Segmentation  2019-09-04T23:59:00Z         30000.0   \n",
       "3     Predicting Molecular Properties  2019-08-28T23:59:00Z         30000.0   \n",
       "4               Generative Dog Images  2019-08-28T19:23:00Z         10000.0   \n",
       "\n",
       "   totalTeams rewardTypeName  \n",
       "0        2943            USD  \n",
       "1         103           Swag  \n",
       "2        1475            USD  \n",
       "3        2749            USD  \n",
       "4         927            USD  "
      ]
     },
     "execution_count": 4,
     "metadata": {},
     "output_type": "execute_result"
    }
   ],
   "source": [
    "comp_df = pd.read_json(\"./inputs/kaggle/competitions.json\")\n",
    "comp_df.head()"
   ]
  },
  {
   "cell_type": "code",
   "execution_count": 18,
   "metadata": {
    "ExecuteTime": {
     "end_time": "2019-09-18T12:36:05.028888Z",
     "start_time": "2019-09-18T12:35:59.583889Z"
    }
   },
   "outputs": [],
   "source": [
    "leaderboard = []\n",
    "with open(\"./inputs/kaggle/leaderboard.json\", mode='r', encoding='utf8') as fp:\n",
    "    leaderboard = json.load(fp)"
   ]
  },
  {
   "cell_type": "markdown",
   "metadata": {},
   "source": [
    "### Generate team dataframe"
   ]
  },
  {
   "cell_type": "code",
   "execution_count": 20,
   "metadata": {
    "ExecuteTime": {
     "end_time": "2019-09-18T12:45:21.797889Z",
     "start_time": "2019-09-18T12:45:21.279889Z"
    },
    "collapsed": true
   },
   "outputs": [
    {
     "data": {
      "text/plain": [
       "[{'competitonId': 14774,\n",
       "  'teamId': 3341991,\n",
       "  'members': 2,\n",
       "  'rank': 1,\n",
       "  'entries': 176,\n",
       "  'score': '0.856139'},\n",
       " {'competitonId': 14774,\n",
       "  'teamId': 3374221,\n",
       "  'members': 5,\n",
       "  'rank': 2,\n",
       "  'entries': 332,\n",
       "  'score': '0.855232'},\n",
       " {'competitonId': 14774,\n",
       "  'teamId': 3353277,\n",
       "  'members': 3,\n",
       "  'rank': 3,\n",
       "  'entries': 203,\n",
       "  'score': '0.850749'},\n",
       " {'competitonId': 14774,\n",
       "  'teamId': 3339442,\n",
       "  'members': 1,\n",
       "  'rank': 4,\n",
       "  'entries': 118,\n",
       "  'score': '0.850352'},\n",
       " {'competitonId': 14774,\n",
       "  'teamId': 3459925,\n",
       "  'members': 3,\n",
       "  'rank': 5,\n",
       "  'entries': 321,\n",
       "  'score': '0.850220'}]"
      ]
     },
     "execution_count": 20,
     "metadata": {},
     "output_type": "execute_result"
    }
   ],
   "source": [
    "comp_team_pair = []\n",
    "\n",
    "for item in leaderboard:\n",
    "    comp_id = item['competitionId']\n",
    "    for team in item['public']:\n",
    "        team_id = team['teamId']\n",
    "        members = len(team['members'])\n",
    "        rank = team['rank']\n",
    "        entries = team['entries']\n",
    "        score = team['score']\n",
    "\n",
    "        comp_team_pair.append({\n",
    "            'competitonId': comp_id,\n",
    "            'teamId': team_id,\n",
    "            'members': members,\n",
    "            'rank': rank,\n",
    "            'entries': entries,\n",
    "            'score': score\n",
    "        })\n",
    "\n",
    "    for team in item['private']:\n",
    "        team_id = team['teamId']\n",
    "        members = len(team['members'])\n",
    "        rank = team['rank']\n",
    "        entries = team['entries']\n",
    "        score = team['score']\n",
    "\n",
    "        comp_team_pair.append({\n",
    "            'competitonId': comp_id,\n",
    "            'teamId': team_id,\n",
    "            'members': members,\n",
    "            'rank': rank,\n",
    "            'entries': entries,\n",
    "            'score': score\n",
    "        })\n",
    "            \n",
    "comp_team_pair[:5]"
   ]
  },
  {
   "cell_type": "code",
   "execution_count": 21,
   "metadata": {
    "ExecuteTime": {
     "end_time": "2019-09-18T12:45:58.031889Z",
     "start_time": "2019-09-18T12:45:56.999891Z"
    }
   },
   "outputs": [
    {
     "data": {
      "text/html": [
       "<div>\n",
       "<style scoped>\n",
       "    .dataframe tbody tr th:only-of-type {\n",
       "        vertical-align: middle;\n",
       "    }\n",
       "\n",
       "    .dataframe tbody tr th {\n",
       "        vertical-align: top;\n",
       "    }\n",
       "\n",
       "    .dataframe thead th {\n",
       "        text-align: right;\n",
       "    }\n",
       "</style>\n",
       "<table border=\"1\" class=\"dataframe\">\n",
       "  <thead>\n",
       "    <tr style=\"text-align: right;\">\n",
       "      <th></th>\n",
       "      <th>competitonId</th>\n",
       "      <th>entries</th>\n",
       "      <th>members</th>\n",
       "      <th>rank</th>\n",
       "      <th>score</th>\n",
       "      <th>teamId</th>\n",
       "    </tr>\n",
       "  </thead>\n",
       "  <tbody>\n",
       "    <tr>\n",
       "      <th>0</th>\n",
       "      <td>14774</td>\n",
       "      <td>176</td>\n",
       "      <td>2</td>\n",
       "      <td>1.0</td>\n",
       "      <td>0.856139</td>\n",
       "      <td>3341991</td>\n",
       "    </tr>\n",
       "    <tr>\n",
       "      <th>1</th>\n",
       "      <td>14774</td>\n",
       "      <td>332</td>\n",
       "      <td>5</td>\n",
       "      <td>2.0</td>\n",
       "      <td>0.855232</td>\n",
       "      <td>3374221</td>\n",
       "    </tr>\n",
       "    <tr>\n",
       "      <th>2</th>\n",
       "      <td>14774</td>\n",
       "      <td>203</td>\n",
       "      <td>3</td>\n",
       "      <td>3.0</td>\n",
       "      <td>0.850749</td>\n",
       "      <td>3353277</td>\n",
       "    </tr>\n",
       "    <tr>\n",
       "      <th>3</th>\n",
       "      <td>14774</td>\n",
       "      <td>118</td>\n",
       "      <td>1</td>\n",
       "      <td>4.0</td>\n",
       "      <td>0.850352</td>\n",
       "      <td>3339442</td>\n",
       "    </tr>\n",
       "    <tr>\n",
       "      <th>4</th>\n",
       "      <td>14774</td>\n",
       "      <td>321</td>\n",
       "      <td>3</td>\n",
       "      <td>5.0</td>\n",
       "      <td>0.850220</td>\n",
       "      <td>3459925</td>\n",
       "    </tr>\n",
       "  </tbody>\n",
       "</table>\n",
       "</div>"
      ],
      "text/plain": [
       "   competitonId  entries  members  rank     score   teamId\n",
       "0         14774      176        2   1.0  0.856139  3341991\n",
       "1         14774      332        5   2.0  0.855232  3374221\n",
       "2         14774      203        3   3.0  0.850749  3353277\n",
       "3         14774      118        1   4.0  0.850352  3339442\n",
       "4         14774      321        3   5.0  0.850220  3459925"
      ]
     },
     "execution_count": 21,
     "metadata": {},
     "output_type": "execute_result"
    }
   ],
   "source": [
    "team_df = pd.DataFrame(comp_team_pair)\n",
    "team_df.head()"
   ]
  },
  {
   "cell_type": "code",
   "execution_count": 25,
   "metadata": {
    "ExecuteTime": {
     "end_time": "2019-09-18T12:49:23.436196Z",
     "start_time": "2019-09-18T12:49:20.480900Z"
    }
   },
   "outputs": [],
   "source": [
    "# Save team dataframe\n",
    "team_df.to_csv(\"./inputs/kaggle/team.csv\", index=False)"
   ]
  },
  {
   "cell_type": "markdown",
   "metadata": {},
   "source": [
    "### Generate person dataframe"
   ]
  },
  {
   "cell_type": "code",
   "execution_count": 30,
   "metadata": {
    "ExecuteTime": {
     "end_time": "2019-09-18T13:00:00.750246Z",
     "start_time": "2019-09-18T13:00:00.121218Z"
    }
   },
   "outputs": [
    {
     "data": {
      "text/plain": [
       "[{'competitonId': 14774,\n",
       "  'teamId': 3341991,\n",
       "  'name': 'victorsd',\n",
       "  'tier': 'grandmaster',\n",
       "  'rank': 1,\n",
       "  'entries': 176,\n",
       "  'score': '0.856139'},\n",
       " {'competitonId': 14774,\n",
       "  'teamId': 3341991,\n",
       "  'name': 'selimsef',\n",
       "  'tier': 'master',\n",
       "  'rank': 1,\n",
       "  'entries': 176,\n",
       "  'score': '0.856139'},\n",
       " {'competitonId': 14774,\n",
       "  'teamId': 3374221,\n",
       "  'name': 'mathormad',\n",
       "  'tier': 'master',\n",
       "  'rank': 2,\n",
       "  'entries': 332,\n",
       "  'score': '0.855232'},\n",
       " {'competitonId': 14774,\n",
       "  'teamId': 3374221,\n",
       "  'name': 'ratthachat',\n",
       "  'tier': 'expert',\n",
       "  'rank': 2,\n",
       "  'entries': 332,\n",
       "  'score': '0.855232'},\n",
       " {'competitonId': 14774,\n",
       "  'teamId': 3374221,\n",
       "  'name': 'prasertsak',\n",
       "  'tier': 'expert',\n",
       "  'rank': 2,\n",
       "  'entries': 332,\n",
       "  'score': '0.855232'}]"
      ]
     },
     "execution_count": 30,
     "metadata": {},
     "output_type": "execute_result"
    }
   ],
   "source": [
    "comp_person_pair = []\n",
    "\n",
    "for item in leaderboard:\n",
    "    comp_id = item['competitionId']\n",
    "    for team in item['public']:\n",
    "        team_id = team['teamId']\n",
    "        rank = team['rank']\n",
    "        entries = team['entries']\n",
    "        score = team['score']\n",
    "        \n",
    "        for m in team['members']:\n",
    "            comp_person_pair.append({\n",
    "                'competitonId': comp_id,\n",
    "                'teamId': team_id,\n",
    "                'name': m['profileUrl'],\n",
    "                'tier': m['tier'],\n",
    "                'rank': rank,\n",
    "                'entries': entries,\n",
    "                'score': score\n",
    "            })\n",
    "    for team in item['private']:\n",
    "        team_id = team['teamId']\n",
    "        rank = team['rank']\n",
    "        entries = team['entries']\n",
    "        score = team['score']\n",
    "        \n",
    "        for m in team['members']:\n",
    "            comp_person_pair.append({\n",
    "                'competitonId': comp_id,\n",
    "                'teamId': team_id,\n",
    "                'name': m['profileUrl'],\n",
    "                'tier': m['tier'],\n",
    "                'rank': rank,\n",
    "                'entries': entries,\n",
    "                'score': score\n",
    "            })\n",
    "            \n",
    "comp_person_pair[:5]"
   ]
  },
  {
   "cell_type": "code",
   "execution_count": 31,
   "metadata": {
    "ExecuteTime": {
     "end_time": "2019-09-18T13:01:05.089216Z",
     "start_time": "2019-09-18T13:01:03.921216Z"
    },
    "scrolled": true
   },
   "outputs": [
    {
     "data": {
      "text/html": [
       "<div>\n",
       "<style scoped>\n",
       "    .dataframe tbody tr th:only-of-type {\n",
       "        vertical-align: middle;\n",
       "    }\n",
       "\n",
       "    .dataframe tbody tr th {\n",
       "        vertical-align: top;\n",
       "    }\n",
       "\n",
       "    .dataframe thead th {\n",
       "        text-align: right;\n",
       "    }\n",
       "</style>\n",
       "<table border=\"1\" class=\"dataframe\">\n",
       "  <thead>\n",
       "    <tr style=\"text-align: right;\">\n",
       "      <th></th>\n",
       "      <th>competitonId</th>\n",
       "      <th>entries</th>\n",
       "      <th>name</th>\n",
       "      <th>rank</th>\n",
       "      <th>score</th>\n",
       "      <th>teamId</th>\n",
       "      <th>tier</th>\n",
       "    </tr>\n",
       "  </thead>\n",
       "  <tbody>\n",
       "    <tr>\n",
       "      <th>0</th>\n",
       "      <td>14774</td>\n",
       "      <td>176</td>\n",
       "      <td>victorsd</td>\n",
       "      <td>1.0</td>\n",
       "      <td>0.856139</td>\n",
       "      <td>3341991</td>\n",
       "      <td>grandmaster</td>\n",
       "    </tr>\n",
       "    <tr>\n",
       "      <th>1</th>\n",
       "      <td>14774</td>\n",
       "      <td>176</td>\n",
       "      <td>selimsef</td>\n",
       "      <td>1.0</td>\n",
       "      <td>0.856139</td>\n",
       "      <td>3341991</td>\n",
       "      <td>master</td>\n",
       "    </tr>\n",
       "    <tr>\n",
       "      <th>2</th>\n",
       "      <td>14774</td>\n",
       "      <td>332</td>\n",
       "      <td>mathormad</td>\n",
       "      <td>2.0</td>\n",
       "      <td>0.855232</td>\n",
       "      <td>3374221</td>\n",
       "      <td>master</td>\n",
       "    </tr>\n",
       "    <tr>\n",
       "      <th>3</th>\n",
       "      <td>14774</td>\n",
       "      <td>332</td>\n",
       "      <td>ratthachat</td>\n",
       "      <td>2.0</td>\n",
       "      <td>0.855232</td>\n",
       "      <td>3374221</td>\n",
       "      <td>expert</td>\n",
       "    </tr>\n",
       "    <tr>\n",
       "      <th>4</th>\n",
       "      <td>14774</td>\n",
       "      <td>332</td>\n",
       "      <td>prasertsak</td>\n",
       "      <td>2.0</td>\n",
       "      <td>0.855232</td>\n",
       "      <td>3374221</td>\n",
       "      <td>expert</td>\n",
       "    </tr>\n",
       "  </tbody>\n",
       "</table>\n",
       "</div>"
      ],
      "text/plain": [
       "   competitonId  entries        name  rank     score   teamId         tier\n",
       "0         14774      176    victorsd   1.0  0.856139  3341991  grandmaster\n",
       "1         14774      176    selimsef   1.0  0.856139  3341991       master\n",
       "2         14774      332   mathormad   2.0  0.855232  3374221       master\n",
       "3         14774      332  ratthachat   2.0  0.855232  3374221       expert\n",
       "4         14774      332  prasertsak   2.0  0.855232  3374221       expert"
      ]
     },
     "execution_count": 31,
     "metadata": {},
     "output_type": "execute_result"
    }
   ],
   "source": [
    "person_df = pd.DataFrame(data=comp_person_pair)\n",
    "person_df.head()"
   ]
  },
  {
   "cell_type": "code",
   "execution_count": 32,
   "metadata": {
    "ExecuteTime": {
     "end_time": "2019-09-18T13:01:27.271312Z",
     "start_time": "2019-09-18T13:01:24.040217Z"
    }
   },
   "outputs": [],
   "source": [
    "person_df.to_csv('./inputs/kaggle/person.csv', index=False)"
   ]
  },
  {
   "cell_type": "markdown",
   "metadata": {},
   "source": [
    "### Overview team dataframe"
   ]
  },
  {
   "cell_type": "code",
   "execution_count": 26,
   "metadata": {
    "ExecuteTime": {
     "end_time": "2019-09-18T12:50:52.328200Z",
     "start_time": "2019-09-18T12:50:52.225172Z"
    }
   },
   "outputs": [
    {
     "data": {
      "text/plain": [
       "3238511    4\n",
       "3249165    4\n",
       "3132230    4\n",
       "3036021    4\n",
       "2272362    4\n",
       "Name: teamId, dtype: int64"
      ]
     },
     "execution_count": 26,
     "metadata": {},
     "output_type": "execute_result"
    }
   ],
   "source": [
    "team_counts = team_df.teamId.value_counts()\n",
    "team_counts.head()"
   ]
  },
  {
   "cell_type": "code",
   "execution_count": 27,
   "metadata": {
    "ExecuteTime": {
     "end_time": "2019-09-18T12:51:09.142171Z",
     "start_time": "2019-09-18T12:51:09.073171Z"
    },
    "scrolled": true
   },
   "outputs": [
    {
     "data": {
      "text/plain": [
       "55928     2\n",
       "119769    2\n",
       "111573    2\n",
       "113620    2\n",
       "99283     2\n",
       "Name: teamId, dtype: int64"
      ]
     },
     "execution_count": 27,
     "metadata": {},
     "output_type": "execute_result"
    }
   ],
   "source": [
    "team_counts.sort_values().head()"
   ]
  },
  {
   "cell_type": "code",
   "execution_count": 29,
   "metadata": {
    "ExecuteTime": {
     "end_time": "2019-09-18T12:51:52.977170Z",
     "start_time": "2019-09-18T12:51:52.928170Z"
    }
   },
   "outputs": [
    {
     "data": {
      "text/plain": [
       "281794"
      ]
     },
     "execution_count": 29,
     "metadata": {},
     "output_type": "execute_result"
    }
   ],
   "source": [
    "team_counts.size"
   ]
  },
  {
   "cell_type": "code",
   "execution_count": 28,
   "metadata": {
    "ExecuteTime": {
     "end_time": "2019-09-18T12:51:39.138172Z",
     "start_time": "2019-09-18T12:51:39.088171Z"
    }
   },
   "outputs": [
    {
     "data": {
      "text/plain": [
       "21832"
      ]
     },
     "execution_count": 28,
     "metadata": {},
     "output_type": "execute_result"
    }
   ],
   "source": [
    "team_counts[team_counts >= 4].size"
   ]
  },
  {
   "cell_type": "markdown",
   "metadata": {},
   "source": [
    "### Overview person dataframe"
   ]
  },
  {
   "cell_type": "code",
   "execution_count": 5,
   "metadata": {
    "ExecuteTime": {
     "end_time": "2019-12-04T08:33:21.348750Z",
     "start_time": "2019-12-04T08:33:20.865750Z"
    }
   },
   "outputs": [
    {
     "data": {
      "text/html": [
       "<div>\n",
       "<style scoped>\n",
       "    .dataframe tbody tr th:only-of-type {\n",
       "        vertical-align: middle;\n",
       "    }\n",
       "\n",
       "    .dataframe tbody tr th {\n",
       "        vertical-align: top;\n",
       "    }\n",
       "\n",
       "    .dataframe thead th {\n",
       "        text-align: right;\n",
       "    }\n",
       "</style>\n",
       "<table border=\"1\" class=\"dataframe\">\n",
       "  <thead>\n",
       "    <tr style=\"text-align: right;\">\n",
       "      <th></th>\n",
       "      <th>competitionId</th>\n",
       "      <th>entries</th>\n",
       "      <th>name</th>\n",
       "      <th>rank</th>\n",
       "      <th>score</th>\n",
       "      <th>teamId</th>\n",
       "      <th>tier</th>\n",
       "    </tr>\n",
       "  </thead>\n",
       "  <tbody>\n",
       "    <tr>\n",
       "      <th>0</th>\n",
       "      <td>14774</td>\n",
       "      <td>176</td>\n",
       "      <td>victorsd</td>\n",
       "      <td>1.0</td>\n",
       "      <td>0.856139</td>\n",
       "      <td>3341991</td>\n",
       "      <td>grandmaster</td>\n",
       "    </tr>\n",
       "    <tr>\n",
       "      <th>1</th>\n",
       "      <td>14774</td>\n",
       "      <td>176</td>\n",
       "      <td>selimsef</td>\n",
       "      <td>1.0</td>\n",
       "      <td>0.856139</td>\n",
       "      <td>3341991</td>\n",
       "      <td>master</td>\n",
       "    </tr>\n",
       "    <tr>\n",
       "      <th>2</th>\n",
       "      <td>14774</td>\n",
       "      <td>332</td>\n",
       "      <td>mathormad</td>\n",
       "      <td>2.0</td>\n",
       "      <td>0.855232</td>\n",
       "      <td>3374221</td>\n",
       "      <td>master</td>\n",
       "    </tr>\n",
       "    <tr>\n",
       "      <th>3</th>\n",
       "      <td>14774</td>\n",
       "      <td>332</td>\n",
       "      <td>ratthachat</td>\n",
       "      <td>2.0</td>\n",
       "      <td>0.855232</td>\n",
       "      <td>3374221</td>\n",
       "      <td>expert</td>\n",
       "    </tr>\n",
       "    <tr>\n",
       "      <th>4</th>\n",
       "      <td>14774</td>\n",
       "      <td>332</td>\n",
       "      <td>prasertsak</td>\n",
       "      <td>2.0</td>\n",
       "      <td>0.855232</td>\n",
       "      <td>3374221</td>\n",
       "      <td>expert</td>\n",
       "    </tr>\n",
       "  </tbody>\n",
       "</table>\n",
       "</div>"
      ],
      "text/plain": [
       "   competitionId  entries        name  rank     score   teamId         tier\n",
       "0          14774      176    victorsd   1.0  0.856139  3341991  grandmaster\n",
       "1          14774      176    selimsef   1.0  0.856139  3341991       master\n",
       "2          14774      332   mathormad   2.0  0.855232  3374221       master\n",
       "3          14774      332  ratthachat   2.0  0.855232  3374221       expert\n",
       "4          14774      332  prasertsak   2.0  0.855232  3374221       expert"
      ]
     },
     "execution_count": 5,
     "metadata": {},
     "output_type": "execute_result"
    }
   ],
   "source": [
    "person_df = pd.read_csv(\"./inputs/kaggle/person.csv\")\n",
    "person_df.head()"
   ]
  },
  {
   "cell_type": "code",
   "execution_count": 6,
   "metadata": {
    "ExecuteTime": {
     "end_time": "2019-12-04T08:33:23.205773Z",
     "start_time": "2019-12-04T08:33:23.159751Z"
    },
    "scrolled": false
   },
   "outputs": [
    {
     "data": {
      "text/plain": [
       "False"
      ]
     },
     "execution_count": 6,
     "metadata": {},
     "output_type": "execute_result"
    }
   ],
   "source": [
    "person_df['score'].isna().any()"
   ]
  },
  {
   "cell_type": "code",
   "execution_count": 7,
   "metadata": {
    "ExecuteTime": {
     "end_time": "2019-12-04T08:33:24.116754Z",
     "start_time": "2019-12-04T08:33:24.063754Z"
    },
    "scrolled": true
   },
   "outputs": [
    {
     "data": {
      "text/plain": [
       "False"
      ]
     },
     "execution_count": 7,
     "metadata": {},
     "output_type": "execute_result"
    }
   ],
   "source": [
    "person_df['score'] = person_df['score'].fillna(0)\n",
    "person_df['score'].isna().any()"
   ]
  },
  {
   "cell_type": "code",
   "execution_count": 8,
   "metadata": {
    "ExecuteTime": {
     "end_time": "2019-09-19T03:26:57.029209Z",
     "start_time": "2019-09-19T03:26:56.970180Z"
    }
   },
   "outputs": [
    {
     "data": {
      "text/html": [
       "<div>\n",
       "<style scoped>\n",
       "    .dataframe tbody tr th:only-of-type {\n",
       "        vertical-align: middle;\n",
       "    }\n",
       "\n",
       "    .dataframe tbody tr th {\n",
       "        vertical-align: top;\n",
       "    }\n",
       "\n",
       "    .dataframe thead th {\n",
       "        text-align: right;\n",
       "    }\n",
       "</style>\n",
       "<table border=\"1\" class=\"dataframe\">\n",
       "  <thead>\n",
       "    <tr style=\"text-align: right;\">\n",
       "      <th></th>\n",
       "      <th>competitionId</th>\n",
       "      <th>entries</th>\n",
       "      <th>name</th>\n",
       "      <th>rank</th>\n",
       "      <th>score</th>\n",
       "      <th>teamId</th>\n",
       "      <th>tier</th>\n",
       "    </tr>\n",
       "  </thead>\n",
       "  <tbody>\n",
       "    <tr>\n",
       "      <th>0</th>\n",
       "      <td>14774</td>\n",
       "      <td>176</td>\n",
       "      <td>victorsd</td>\n",
       "      <td>1.0</td>\n",
       "      <td>0.856139</td>\n",
       "      <td>3341991</td>\n",
       "      <td>grandmaster</td>\n",
       "    </tr>\n",
       "    <tr>\n",
       "      <th>1</th>\n",
       "      <td>14774</td>\n",
       "      <td>176</td>\n",
       "      <td>selimsef</td>\n",
       "      <td>1.0</td>\n",
       "      <td>0.856139</td>\n",
       "      <td>3341991</td>\n",
       "      <td>master</td>\n",
       "    </tr>\n",
       "    <tr>\n",
       "      <th>2</th>\n",
       "      <td>14774</td>\n",
       "      <td>332</td>\n",
       "      <td>mathormad</td>\n",
       "      <td>2.0</td>\n",
       "      <td>0.855232</td>\n",
       "      <td>3374221</td>\n",
       "      <td>master</td>\n",
       "    </tr>\n",
       "    <tr>\n",
       "      <th>3</th>\n",
       "      <td>14774</td>\n",
       "      <td>332</td>\n",
       "      <td>ratthachat</td>\n",
       "      <td>2.0</td>\n",
       "      <td>0.855232</td>\n",
       "      <td>3374221</td>\n",
       "      <td>expert</td>\n",
       "    </tr>\n",
       "    <tr>\n",
       "      <th>4</th>\n",
       "      <td>14774</td>\n",
       "      <td>332</td>\n",
       "      <td>prasertsak</td>\n",
       "      <td>2.0</td>\n",
       "      <td>0.855232</td>\n",
       "      <td>3374221</td>\n",
       "      <td>expert</td>\n",
       "    </tr>\n",
       "  </tbody>\n",
       "</table>\n",
       "</div>"
      ],
      "text/plain": [
       "   competitionId  entries        name  rank     score   teamId         tier\n",
       "0          14774      176    victorsd   1.0  0.856139  3341991  grandmaster\n",
       "1          14774      176    selimsef   1.0  0.856139  3341991       master\n",
       "2          14774      332   mathormad   2.0  0.855232  3374221       master\n",
       "3          14774      332  ratthachat   2.0  0.855232  3374221       expert\n",
       "4          14774      332  prasertsak   2.0  0.855232  3374221       expert"
      ]
     },
     "execution_count": 8,
     "metadata": {},
     "output_type": "execute_result"
    }
   ],
   "source": [
    "person_df['score'] = person_df['score'].astype('float64')\n",
    "person_df.head()"
   ]
  },
  {
   "cell_type": "code",
   "execution_count": 9,
   "metadata": {
    "ExecuteTime": {
     "end_time": "2019-09-19T03:27:05.453183Z",
     "start_time": "2019-09-19T03:27:05.401181Z"
    }
   },
   "outputs": [
    {
     "data": {
      "text/plain": [
       "(844, 7)"
      ]
     },
     "execution_count": 9,
     "metadata": {},
     "output_type": "execute_result"
    }
   ],
   "source": [
    "person_df[person_df['rank'].isna()].shape"
   ]
  },
  {
   "cell_type": "code",
   "execution_count": 10,
   "metadata": {
    "ExecuteTime": {
     "end_time": "2019-09-19T03:27:10.794185Z",
     "start_time": "2019-09-19T03:27:10.746211Z"
    }
   },
   "outputs": [
    {
     "data": {
      "text/plain": [
       "(693084, 7)"
      ]
     },
     "execution_count": 10,
     "metadata": {},
     "output_type": "execute_result"
    }
   ],
   "source": [
    "person_df.shape"
   ]
  },
  {
   "cell_type": "code",
   "execution_count": 13,
   "metadata": {
    "ExecuteTime": {
     "end_time": "2019-09-19T03:28:26.408194Z",
     "start_time": "2019-09-19T03:28:26.355181Z"
    }
   },
   "outputs": [
    {
     "data": {
      "text/html": [
       "<div>\n",
       "<style scoped>\n",
       "    .dataframe tbody tr th:only-of-type {\n",
       "        vertical-align: middle;\n",
       "    }\n",
       "\n",
       "    .dataframe tbody tr th {\n",
       "        vertical-align: top;\n",
       "    }\n",
       "\n",
       "    .dataframe thead th {\n",
       "        text-align: right;\n",
       "    }\n",
       "</style>\n",
       "<table border=\"1\" class=\"dataframe\">\n",
       "  <thead>\n",
       "    <tr style=\"text-align: right;\">\n",
       "      <th></th>\n",
       "      <th>competitionId</th>\n",
       "      <th>deadline</th>\n",
       "      <th>rewardQuantity</th>\n",
       "    </tr>\n",
       "  </thead>\n",
       "  <tbody>\n",
       "    <tr>\n",
       "      <th>0</th>\n",
       "      <td>14774</td>\n",
       "      <td>2019-09-07T23:59:00Z</td>\n",
       "      <td>50000.0</td>\n",
       "    </tr>\n",
       "    <tr>\n",
       "      <th>1</th>\n",
       "      <td>15447</td>\n",
       "      <td>2019-09-05T23:59:00Z</td>\n",
       "      <td>0.0</td>\n",
       "    </tr>\n",
       "    <tr>\n",
       "      <th>2</th>\n",
       "      <td>14652</td>\n",
       "      <td>2019-09-04T23:59:00Z</td>\n",
       "      <td>30000.0</td>\n",
       "    </tr>\n",
       "    <tr>\n",
       "      <th>3</th>\n",
       "      <td>14313</td>\n",
       "      <td>2019-08-28T23:59:00Z</td>\n",
       "      <td>30000.0</td>\n",
       "    </tr>\n",
       "    <tr>\n",
       "      <th>4</th>\n",
       "      <td>15062</td>\n",
       "      <td>2019-08-28T19:23:00Z</td>\n",
       "      <td>10000.0</td>\n",
       "    </tr>\n",
       "  </tbody>\n",
       "</table>\n",
       "</div>"
      ],
      "text/plain": [
       "   competitionId              deadline  rewardQuantity\n",
       "0          14774  2019-09-07T23:59:00Z         50000.0\n",
       "1          15447  2019-09-05T23:59:00Z             0.0\n",
       "2          14652  2019-09-04T23:59:00Z         30000.0\n",
       "3          14313  2019-08-28T23:59:00Z         30000.0\n",
       "4          15062  2019-08-28T19:23:00Z         10000.0"
      ]
     },
     "execution_count": 13,
     "metadata": {},
     "output_type": "execute_result"
    }
   ],
   "source": [
    "# Get competition dataframe part information\n",
    "com_part = comp_df[['competitionId', 'deadline', 'rewardQuantity']]\n",
    "com_part.head()"
   ]
  },
  {
   "cell_type": "code",
   "execution_count": 14,
   "metadata": {
    "ExecuteTime": {
     "end_time": "2019-09-19T03:28:32.510212Z",
     "start_time": "2019-09-19T03:28:32.457190Z"
    }
   },
   "outputs": [
    {
     "data": {
      "text/plain": [
       "Index(['competitionId', 'deadline', 'rewardQuantity'], dtype='object')"
      ]
     },
     "execution_count": 14,
     "metadata": {},
     "output_type": "execute_result"
    }
   ],
   "source": [
    "com_part.columns"
   ]
  },
  {
   "cell_type": "markdown",
   "metadata": {},
   "source": [
    "### Generate item dataframe and preprocess\n",
    "\n",
    "Preprocessing contains following operations:\n",
    "\n",
    "- fill score nan value to 0\n",
    "- remove duplicate competitionId and name row"
   ]
  },
  {
   "cell_type": "code",
   "execution_count": 15,
   "metadata": {
    "ExecuteTime": {
     "end_time": "2019-09-19T03:28:43.365180Z",
     "start_time": "2019-09-19T03:28:43.105210Z"
    }
   },
   "outputs": [
    {
     "data": {
      "text/html": [
       "<div>\n",
       "<style scoped>\n",
       "    .dataframe tbody tr th:only-of-type {\n",
       "        vertical-align: middle;\n",
       "    }\n",
       "\n",
       "    .dataframe tbody tr th {\n",
       "        vertical-align: top;\n",
       "    }\n",
       "\n",
       "    .dataframe thead th {\n",
       "        text-align: right;\n",
       "    }\n",
       "</style>\n",
       "<table border=\"1\" class=\"dataframe\">\n",
       "  <thead>\n",
       "    <tr style=\"text-align: right;\">\n",
       "      <th></th>\n",
       "      <th>competitionId</th>\n",
       "      <th>deadline</th>\n",
       "      <th>rewardQuantity</th>\n",
       "      <th>entries</th>\n",
       "      <th>name</th>\n",
       "      <th>rank</th>\n",
       "      <th>score</th>\n",
       "      <th>teamId</th>\n",
       "      <th>tier</th>\n",
       "    </tr>\n",
       "  </thead>\n",
       "  <tbody>\n",
       "    <tr>\n",
       "      <th>0</th>\n",
       "      <td>14774</td>\n",
       "      <td>2019-09-07T23:59:00Z</td>\n",
       "      <td>50000.0</td>\n",
       "      <td>176</td>\n",
       "      <td>victorsd</td>\n",
       "      <td>1.0</td>\n",
       "      <td>0.856139</td>\n",
       "      <td>3341991</td>\n",
       "      <td>grandmaster</td>\n",
       "    </tr>\n",
       "    <tr>\n",
       "      <th>1</th>\n",
       "      <td>14774</td>\n",
       "      <td>2019-09-07T23:59:00Z</td>\n",
       "      <td>50000.0</td>\n",
       "      <td>176</td>\n",
       "      <td>selimsef</td>\n",
       "      <td>1.0</td>\n",
       "      <td>0.856139</td>\n",
       "      <td>3341991</td>\n",
       "      <td>master</td>\n",
       "    </tr>\n",
       "    <tr>\n",
       "      <th>2</th>\n",
       "      <td>14774</td>\n",
       "      <td>2019-09-07T23:59:00Z</td>\n",
       "      <td>50000.0</td>\n",
       "      <td>332</td>\n",
       "      <td>mathormad</td>\n",
       "      <td>2.0</td>\n",
       "      <td>0.855232</td>\n",
       "      <td>3374221</td>\n",
       "      <td>master</td>\n",
       "    </tr>\n",
       "    <tr>\n",
       "      <th>3</th>\n",
       "      <td>14774</td>\n",
       "      <td>2019-09-07T23:59:00Z</td>\n",
       "      <td>50000.0</td>\n",
       "      <td>332</td>\n",
       "      <td>ratthachat</td>\n",
       "      <td>2.0</td>\n",
       "      <td>0.855232</td>\n",
       "      <td>3374221</td>\n",
       "      <td>expert</td>\n",
       "    </tr>\n",
       "    <tr>\n",
       "      <th>4</th>\n",
       "      <td>14774</td>\n",
       "      <td>2019-09-07T23:59:00Z</td>\n",
       "      <td>50000.0</td>\n",
       "      <td>332</td>\n",
       "      <td>prasertsak</td>\n",
       "      <td>2.0</td>\n",
       "      <td>0.855232</td>\n",
       "      <td>3374221</td>\n",
       "      <td>expert</td>\n",
       "    </tr>\n",
       "  </tbody>\n",
       "</table>\n",
       "</div>"
      ],
      "text/plain": [
       "   competitionId              deadline  rewardQuantity  entries        name  \\\n",
       "0          14774  2019-09-07T23:59:00Z         50000.0      176    victorsd   \n",
       "1          14774  2019-09-07T23:59:00Z         50000.0      176    selimsef   \n",
       "2          14774  2019-09-07T23:59:00Z         50000.0      332   mathormad   \n",
       "3          14774  2019-09-07T23:59:00Z         50000.0      332  ratthachat   \n",
       "4          14774  2019-09-07T23:59:00Z         50000.0      332  prasertsak   \n",
       "\n",
       "   rank     score   teamId         tier  \n",
       "0   1.0  0.856139  3341991  grandmaster  \n",
       "1   1.0  0.856139  3341991       master  \n",
       "2   2.0  0.855232  3374221       master  \n",
       "3   2.0  0.855232  3374221       expert  \n",
       "4   2.0  0.855232  3374221       expert  "
      ]
     },
     "execution_count": 15,
     "metadata": {},
     "output_type": "execute_result"
    }
   ],
   "source": [
    "item_df = pd.merge(left=com_part, right=person_df, how='inner', on='competitionId')\n",
    "item_df.head()"
   ]
  },
  {
   "cell_type": "markdown",
   "metadata": {},
   "source": [
    "#### Remove duplicated data"
   ]
  },
  {
   "cell_type": "code",
   "execution_count": 16,
   "metadata": {
    "ExecuteTime": {
     "end_time": "2019-09-19T03:28:54.152204Z",
     "start_time": "2019-09-19T03:28:53.514210Z"
    }
   },
   "outputs": [
    {
     "data": {
      "text/html": [
       "<div>\n",
       "<style scoped>\n",
       "    .dataframe tbody tr th:only-of-type {\n",
       "        vertical-align: middle;\n",
       "    }\n",
       "\n",
       "    .dataframe tbody tr th {\n",
       "        vertical-align: top;\n",
       "    }\n",
       "\n",
       "    .dataframe thead th {\n",
       "        text-align: right;\n",
       "    }\n",
       "</style>\n",
       "<table border=\"1\" class=\"dataframe\">\n",
       "  <thead>\n",
       "    <tr style=\"text-align: right;\">\n",
       "      <th></th>\n",
       "      <th>competitionId</th>\n",
       "      <th>deadline</th>\n",
       "      <th>rewardQuantity</th>\n",
       "      <th>entries</th>\n",
       "      <th>name</th>\n",
       "      <th>rank</th>\n",
       "      <th>score</th>\n",
       "      <th>teamId</th>\n",
       "      <th>tier</th>\n",
       "    </tr>\n",
       "  </thead>\n",
       "  <tbody>\n",
       "    <tr>\n",
       "      <th>472250</th>\n",
       "      <td>6392</td>\n",
       "      <td>2017-06-29T23:59:00Z</td>\n",
       "      <td>25000.0</td>\n",
       "      <td>20</td>\n",
       "      <td>Atishj</td>\n",
       "      <td>1813.0</td>\n",
       "      <td>0.32326</td>\n",
       "      <td>649770</td>\n",
       "      <td>novice</td>\n",
       "    </tr>\n",
       "    <tr>\n",
       "      <th>475968</th>\n",
       "      <td>6392</td>\n",
       "      <td>2017-06-29T23:59:00Z</td>\n",
       "      <td>25000.0</td>\n",
       "      <td>20</td>\n",
       "      <td>Atishj</td>\n",
       "      <td>1862.0</td>\n",
       "      <td>0.32624</td>\n",
       "      <td>649770</td>\n",
       "      <td>novice</td>\n",
       "    </tr>\n",
       "    <tr>\n",
       "      <th>589489</th>\n",
       "      <td>4852</td>\n",
       "      <td>2016-04-18T23:59:00Z</td>\n",
       "      <td>30000.0</td>\n",
       "      <td>3</td>\n",
       "      <td>CVxTz</td>\n",
       "      <td>1778.0</td>\n",
       "      <td>0.46338</td>\n",
       "      <td>275941</td>\n",
       "      <td>expert</td>\n",
       "    </tr>\n",
       "    <tr>\n",
       "      <th>592747</th>\n",
       "      <td>4852</td>\n",
       "      <td>2016-04-18T23:59:00Z</td>\n",
       "      <td>30000.0</td>\n",
       "      <td>3</td>\n",
       "      <td>CVxTz</td>\n",
       "      <td>1753.0</td>\n",
       "      <td>0.46184</td>\n",
       "      <td>275941</td>\n",
       "      <td>expert</td>\n",
       "    </tr>\n",
       "    <tr>\n",
       "      <th>554000</th>\n",
       "      <td>5174</td>\n",
       "      <td>2016-07-11T23:59:00Z</td>\n",
       "      <td>20000.0</td>\n",
       "      <td>56</td>\n",
       "      <td>CVxTz</td>\n",
       "      <td>34.0</td>\n",
       "      <td>0.93153</td>\n",
       "      <td>331480</td>\n",
       "      <td>expert</td>\n",
       "    </tr>\n",
       "  </tbody>\n",
       "</table>\n",
       "</div>"
      ],
      "text/plain": [
       "        competitionId              deadline  rewardQuantity  entries    name  \\\n",
       "472250           6392  2017-06-29T23:59:00Z         25000.0       20  Atishj   \n",
       "475968           6392  2017-06-29T23:59:00Z         25000.0       20  Atishj   \n",
       "589489           4852  2016-04-18T23:59:00Z         30000.0        3   CVxTz   \n",
       "592747           4852  2016-04-18T23:59:00Z         30000.0        3   CVxTz   \n",
       "554000           5174  2016-07-11T23:59:00Z         20000.0       56   CVxTz   \n",
       "\n",
       "          rank    score  teamId    tier  \n",
       "472250  1813.0  0.32326  649770  novice  \n",
       "475968  1862.0  0.32624  649770  novice  \n",
       "589489  1778.0  0.46338  275941  expert  \n",
       "592747  1753.0  0.46184  275941  expert  \n",
       "554000    34.0  0.93153  331480  expert  "
      ]
     },
     "execution_count": 16,
     "metadata": {},
     "output_type": "execute_result"
    }
   ],
   "source": [
    "item_df = item_df.sort_values(by=['name', 'competitionId'])\n",
    "item_df.head()"
   ]
  },
  {
   "cell_type": "code",
   "execution_count": 17,
   "metadata": {
    "ExecuteTime": {
     "end_time": "2019-09-19T03:29:02.495180Z",
     "start_time": "2019-09-19T03:29:02.307181Z"
    }
   },
   "outputs": [
    {
     "data": {
      "text/plain": [
       "472250    False\n",
       "475968     True\n",
       "589489    False\n",
       "592747     True\n",
       "554000    False\n",
       "dtype: bool"
      ]
     },
     "execution_count": 17,
     "metadata": {},
     "output_type": "execute_result"
    }
   ],
   "source": [
    "item_dup_mask = item_df.duplicated(subset=['name', 'competitionId'], keep='first')\n",
    "item_dup_mask.head()"
   ]
  },
  {
   "cell_type": "code",
   "execution_count": 18,
   "metadata": {
    "ExecuteTime": {
     "end_time": "2019-09-19T03:29:05.860181Z",
     "start_time": "2019-09-19T03:29:05.768179Z"
    }
   },
   "outputs": [
    {
     "data": {
      "text/html": [
       "<div>\n",
       "<style scoped>\n",
       "    .dataframe tbody tr th:only-of-type {\n",
       "        vertical-align: middle;\n",
       "    }\n",
       "\n",
       "    .dataframe tbody tr th {\n",
       "        vertical-align: top;\n",
       "    }\n",
       "\n",
       "    .dataframe thead th {\n",
       "        text-align: right;\n",
       "    }\n",
       "</style>\n",
       "<table border=\"1\" class=\"dataframe\">\n",
       "  <thead>\n",
       "    <tr style=\"text-align: right;\">\n",
       "      <th></th>\n",
       "      <th>competitionId</th>\n",
       "      <th>deadline</th>\n",
       "      <th>rewardQuantity</th>\n",
       "      <th>entries</th>\n",
       "      <th>name</th>\n",
       "      <th>rank</th>\n",
       "      <th>score</th>\n",
       "      <th>teamId</th>\n",
       "      <th>tier</th>\n",
       "    </tr>\n",
       "  </thead>\n",
       "  <tbody>\n",
       "    <tr>\n",
       "      <th>475968</th>\n",
       "      <td>6392</td>\n",
       "      <td>2017-06-29T23:59:00Z</td>\n",
       "      <td>25000.0</td>\n",
       "      <td>20</td>\n",
       "      <td>Atishj</td>\n",
       "      <td>1862.0</td>\n",
       "      <td>0.32624</td>\n",
       "      <td>649770</td>\n",
       "      <td>novice</td>\n",
       "    </tr>\n",
       "    <tr>\n",
       "      <th>592747</th>\n",
       "      <td>4852</td>\n",
       "      <td>2016-04-18T23:59:00Z</td>\n",
       "      <td>30000.0</td>\n",
       "      <td>3</td>\n",
       "      <td>CVxTz</td>\n",
       "      <td>1753.0</td>\n",
       "      <td>0.46184</td>\n",
       "      <td>275941</td>\n",
       "      <td>expert</td>\n",
       "    </tr>\n",
       "    <tr>\n",
       "      <th>554627</th>\n",
       "      <td>5174</td>\n",
       "      <td>2016-07-11T23:59:00Z</td>\n",
       "      <td>20000.0</td>\n",
       "      <td>56</td>\n",
       "      <td>CVxTz</td>\n",
       "      <td>34.0</td>\n",
       "      <td>0.93114</td>\n",
       "      <td>331480</td>\n",
       "      <td>expert</td>\n",
       "    </tr>\n",
       "    <tr>\n",
       "      <th>534581</th>\n",
       "      <td>5261</td>\n",
       "      <td>2016-09-19T23:59:00Z</td>\n",
       "      <td>50000.0</td>\n",
       "      <td>14</td>\n",
       "      <td>CVxTz</td>\n",
       "      <td>389.0</td>\n",
       "      <td>0.99168</td>\n",
       "      <td>366212</td>\n",
       "      <td>expert</td>\n",
       "    </tr>\n",
       "    <tr>\n",
       "      <th>521892</th>\n",
       "      <td>5325</td>\n",
       "      <td>2016-12-12T23:59:00Z</td>\n",
       "      <td>1.0</td>\n",
       "      <td>89</td>\n",
       "      <td>CVxTz</td>\n",
       "      <td>27.0</td>\n",
       "      <td>1112.12520</td>\n",
       "      <td>391400</td>\n",
       "      <td>expert</td>\n",
       "    </tr>\n",
       "  </tbody>\n",
       "</table>\n",
       "</div>"
      ],
      "text/plain": [
       "        competitionId              deadline  rewardQuantity  entries    name  \\\n",
       "475968           6392  2017-06-29T23:59:00Z         25000.0       20  Atishj   \n",
       "592747           4852  2016-04-18T23:59:00Z         30000.0        3   CVxTz   \n",
       "554627           5174  2016-07-11T23:59:00Z         20000.0       56   CVxTz   \n",
       "534581           5261  2016-09-19T23:59:00Z         50000.0       14   CVxTz   \n",
       "521892           5325  2016-12-12T23:59:00Z             1.0       89   CVxTz   \n",
       "\n",
       "          rank       score  teamId    tier  \n",
       "475968  1862.0     0.32624  649770  novice  \n",
       "592747  1753.0     0.46184  275941  expert  \n",
       "554627    34.0     0.93114  331480  expert  \n",
       "534581   389.0     0.99168  366212  expert  \n",
       "521892    27.0  1112.12520  391400  expert  "
      ]
     },
     "execution_count": 18,
     "metadata": {},
     "output_type": "execute_result"
    }
   ],
   "source": [
    "item_df = item_df[item_dup_mask]\n",
    "item_df.head()"
   ]
  },
  {
   "cell_type": "code",
   "execution_count": 19,
   "metadata": {
    "ExecuteTime": {
     "end_time": "2019-09-19T03:29:10.798212Z",
     "start_time": "2019-09-19T03:29:10.481180Z"
    }
   },
   "outputs": [
    {
     "data": {
      "text/plain": [
       "competitionId                   int64\n",
       "deadline          datetime64[ns, UTC]\n",
       "rewardQuantity                float64\n",
       "entries                         int64\n",
       "name                           object\n",
       "rank                          float64\n",
       "score                         float64\n",
       "teamId                          int64\n",
       "tier                           object\n",
       "dtype: object"
      ]
     },
     "execution_count": 19,
     "metadata": {},
     "output_type": "execute_result"
    }
   ],
   "source": [
    "item_df['deadline'] = pd.to_datetime(item_df['deadline'], infer_datetime_format=True)\n",
    "item_df.dtypes"
   ]
  },
  {
   "cell_type": "code",
   "execution_count": 20,
   "metadata": {
    "ExecuteTime": {
     "end_time": "2019-09-19T03:30:16.309189Z",
     "start_time": "2019-09-19T03:30:16.225181Z"
    }
   },
   "outputs": [
    {
     "data": {
      "text/html": [
       "<div>\n",
       "<style scoped>\n",
       "    .dataframe tbody tr th:only-of-type {\n",
       "        vertical-align: middle;\n",
       "    }\n",
       "\n",
       "    .dataframe tbody tr th {\n",
       "        vertical-align: top;\n",
       "    }\n",
       "\n",
       "    .dataframe thead th {\n",
       "        text-align: right;\n",
       "    }\n",
       "</style>\n",
       "<table border=\"1\" class=\"dataframe\">\n",
       "  <thead>\n",
       "    <tr style=\"text-align: right;\">\n",
       "      <th></th>\n",
       "      <th>name</th>\n",
       "      <th>competitionId</th>\n",
       "      <th>deadline</th>\n",
       "      <th>entries</th>\n",
       "      <th>rank</th>\n",
       "      <th>score</th>\n",
       "      <th>rewardQuantity</th>\n",
       "      <th>teamId</th>\n",
       "      <th>tier</th>\n",
       "    </tr>\n",
       "  </thead>\n",
       "  <tbody>\n",
       "    <tr>\n",
       "      <th>475968</th>\n",
       "      <td>Atishj</td>\n",
       "      <td>6392</td>\n",
       "      <td>2017-06-29 23:59:00+00:00</td>\n",
       "      <td>20</td>\n",
       "      <td>1862.0</td>\n",
       "      <td>0.32624</td>\n",
       "      <td>25000.0</td>\n",
       "      <td>649770</td>\n",
       "      <td>novice</td>\n",
       "    </tr>\n",
       "    <tr>\n",
       "      <th>592747</th>\n",
       "      <td>CVxTz</td>\n",
       "      <td>4852</td>\n",
       "      <td>2016-04-18 23:59:00+00:00</td>\n",
       "      <td>3</td>\n",
       "      <td>1753.0</td>\n",
       "      <td>0.46184</td>\n",
       "      <td>30000.0</td>\n",
       "      <td>275941</td>\n",
       "      <td>expert</td>\n",
       "    </tr>\n",
       "    <tr>\n",
       "      <th>554627</th>\n",
       "      <td>CVxTz</td>\n",
       "      <td>5174</td>\n",
       "      <td>2016-07-11 23:59:00+00:00</td>\n",
       "      <td>56</td>\n",
       "      <td>34.0</td>\n",
       "      <td>0.93114</td>\n",
       "      <td>20000.0</td>\n",
       "      <td>331480</td>\n",
       "      <td>expert</td>\n",
       "    </tr>\n",
       "    <tr>\n",
       "      <th>534581</th>\n",
       "      <td>CVxTz</td>\n",
       "      <td>5261</td>\n",
       "      <td>2016-09-19 23:59:00+00:00</td>\n",
       "      <td>14</td>\n",
       "      <td>389.0</td>\n",
       "      <td>0.99168</td>\n",
       "      <td>50000.0</td>\n",
       "      <td>366212</td>\n",
       "      <td>expert</td>\n",
       "    </tr>\n",
       "    <tr>\n",
       "      <th>521892</th>\n",
       "      <td>CVxTz</td>\n",
       "      <td>5325</td>\n",
       "      <td>2016-12-12 23:59:00+00:00</td>\n",
       "      <td>89</td>\n",
       "      <td>27.0</td>\n",
       "      <td>1112.12520</td>\n",
       "      <td>1.0</td>\n",
       "      <td>391400</td>\n",
       "      <td>expert</td>\n",
       "    </tr>\n",
       "  </tbody>\n",
       "</table>\n",
       "</div>"
      ],
      "text/plain": [
       "          name  competitionId                  deadline  entries    rank  \\\n",
       "475968  Atishj           6392 2017-06-29 23:59:00+00:00       20  1862.0   \n",
       "592747   CVxTz           4852 2016-04-18 23:59:00+00:00        3  1753.0   \n",
       "554627   CVxTz           5174 2016-07-11 23:59:00+00:00       56    34.0   \n",
       "534581   CVxTz           5261 2016-09-19 23:59:00+00:00       14   389.0   \n",
       "521892   CVxTz           5325 2016-12-12 23:59:00+00:00       89    27.0   \n",
       "\n",
       "             score  rewardQuantity  teamId    tier  \n",
       "475968     0.32624         25000.0  649770  novice  \n",
       "592747     0.46184         30000.0  275941  expert  \n",
       "554627     0.93114         20000.0  331480  expert  \n",
       "534581     0.99168         50000.0  366212  expert  \n",
       "521892  1112.12520             1.0  391400  expert  "
      ]
     },
     "execution_count": 20,
     "metadata": {},
     "output_type": "execute_result"
    }
   ],
   "source": [
    "### Change columns order\n",
    "item_df = item_df[[\n",
    "    'name', 'competitionId', 'deadline', 'entries', 'rank', 'score',\n",
    "    'rewardQuantity', 'teamId', 'tier'\n",
    "]]\n",
    "item_df.head()"
   ]
  },
  {
   "cell_type": "code",
   "execution_count": 45,
   "metadata": {
    "ExecuteTime": {
     "end_time": "2019-10-03T01:57:35.428016Z",
     "start_time": "2019-10-03T01:57:35.308045Z"
    }
   },
   "outputs": [
    {
     "data": {
      "text/html": [
       "<div>\n",
       "<style scoped>\n",
       "    .dataframe tbody tr th:only-of-type {\n",
       "        vertical-align: middle;\n",
       "    }\n",
       "\n",
       "    .dataframe tbody tr th {\n",
       "        vertical-align: top;\n",
       "    }\n",
       "\n",
       "    .dataframe thead th {\n",
       "        text-align: right;\n",
       "    }\n",
       "</style>\n",
       "<table border=\"1\" class=\"dataframe\">\n",
       "  <thead>\n",
       "    <tr style=\"text-align: right;\">\n",
       "      <th></th>\n",
       "      <th>name</th>\n",
       "      <th>competitionId</th>\n",
       "      <th>deadline</th>\n",
       "      <th>rank</th>\n",
       "      <th>score</th>\n",
       "      <th>rewardQuantity</th>\n",
       "      <th>tier</th>\n",
       "    </tr>\n",
       "  </thead>\n",
       "  <tbody>\n",
       "    <tr>\n",
       "      <th>0</th>\n",
       "      <td>Atishj</td>\n",
       "      <td>6392</td>\n",
       "      <td>2017-06-29</td>\n",
       "      <td>1862.0</td>\n",
       "      <td>0.32624</td>\n",
       "      <td>25000.0</td>\n",
       "      <td>novice</td>\n",
       "    </tr>\n",
       "    <tr>\n",
       "      <th>1</th>\n",
       "      <td>CVxTz</td>\n",
       "      <td>4852</td>\n",
       "      <td>2016-04-18</td>\n",
       "      <td>1753.0</td>\n",
       "      <td>0.46184</td>\n",
       "      <td>30000.0</td>\n",
       "      <td>expert</td>\n",
       "    </tr>\n",
       "    <tr>\n",
       "      <th>2</th>\n",
       "      <td>CVxTz</td>\n",
       "      <td>5174</td>\n",
       "      <td>2016-07-11</td>\n",
       "      <td>34.0</td>\n",
       "      <td>0.93114</td>\n",
       "      <td>20000.0</td>\n",
       "      <td>expert</td>\n",
       "    </tr>\n",
       "    <tr>\n",
       "      <th>3</th>\n",
       "      <td>CVxTz</td>\n",
       "      <td>5261</td>\n",
       "      <td>2016-09-19</td>\n",
       "      <td>389.0</td>\n",
       "      <td>0.99168</td>\n",
       "      <td>50000.0</td>\n",
       "      <td>expert</td>\n",
       "    </tr>\n",
       "    <tr>\n",
       "      <th>4</th>\n",
       "      <td>CVxTz</td>\n",
       "      <td>5325</td>\n",
       "      <td>2016-12-12</td>\n",
       "      <td>27.0</td>\n",
       "      <td>1112.12520</td>\n",
       "      <td>1.0</td>\n",
       "      <td>expert</td>\n",
       "    </tr>\n",
       "  </tbody>\n",
       "</table>\n",
       "</div>"
      ],
      "text/plain": [
       "     name  competitionId    deadline    rank       score  rewardQuantity  \\\n",
       "0  Atishj           6392  2017-06-29  1862.0     0.32624         25000.0   \n",
       "1   CVxTz           4852  2016-04-18  1753.0     0.46184         30000.0   \n",
       "2   CVxTz           5174  2016-07-11    34.0     0.93114         20000.0   \n",
       "3   CVxTz           5261  2016-09-19   389.0     0.99168         50000.0   \n",
       "4   CVxTz           5325  2016-12-12    27.0  1112.12520             1.0   \n",
       "\n",
       "     tier  \n",
       "0  novice  \n",
       "1  expert  \n",
       "2  expert  \n",
       "3  expert  \n",
       "4  expert  "
      ]
     },
     "execution_count": 45,
     "metadata": {},
     "output_type": "execute_result"
    }
   ],
   "source": [
    "item_df['deadline'] = item_df['deadline'].str[:10]\n",
    "item_df.head()"
   ]
  },
  {
   "cell_type": "code",
   "execution_count": 46,
   "metadata": {
    "ExecuteTime": {
     "end_time": "2019-10-03T01:57:41.058956Z",
     "start_time": "2019-10-03T01:57:38.947895Z"
    }
   },
   "outputs": [],
   "source": [
    "item_df.to_csv(\"./inputs/kaggle/item.csv\", index=False)"
   ]
  },
  {
   "cell_type": "markdown",
   "metadata": {},
   "source": [
    "## DataFrame preprocessing"
   ]
  },
  {
   "cell_type": "code",
   "execution_count": 4,
   "metadata": {
    "ExecuteTime": {
     "end_time": "2019-12-04T08:35:06.607751Z",
     "start_time": "2019-12-04T08:35:06.309750Z"
    }
   },
   "outputs": [],
   "source": [
    "import pandas as pd"
   ]
  },
  {
   "cell_type": "code",
   "execution_count": 5,
   "metadata": {
    "ExecuteTime": {
     "end_time": "2019-12-04T08:35:08.388762Z",
     "start_time": "2019-12-04T08:35:08.000750Z"
    }
   },
   "outputs": [
    {
     "data": {
      "text/html": [
       "<div>\n",
       "<style scoped>\n",
       "    .dataframe tbody tr th:only-of-type {\n",
       "        vertical-align: middle;\n",
       "    }\n",
       "\n",
       "    .dataframe tbody tr th {\n",
       "        vertical-align: top;\n",
       "    }\n",
       "\n",
       "    .dataframe thead th {\n",
       "        text-align: right;\n",
       "    }\n",
       "</style>\n",
       "<table border=\"1\" class=\"dataframe\">\n",
       "  <thead>\n",
       "    <tr style=\"text-align: right;\">\n",
       "      <th></th>\n",
       "      <th>name</th>\n",
       "      <th>competitionId</th>\n",
       "      <th>deadline</th>\n",
       "      <th>rank</th>\n",
       "      <th>score</th>\n",
       "      <th>rewardQuantity</th>\n",
       "      <th>tier</th>\n",
       "    </tr>\n",
       "  </thead>\n",
       "  <tbody>\n",
       "    <tr>\n",
       "      <th>0</th>\n",
       "      <td>Atishj</td>\n",
       "      <td>6392</td>\n",
       "      <td>2017-06-29</td>\n",
       "      <td>1862.0</td>\n",
       "      <td>0.32624</td>\n",
       "      <td>25000.0</td>\n",
       "      <td>novice</td>\n",
       "    </tr>\n",
       "    <tr>\n",
       "      <th>1</th>\n",
       "      <td>CVxTz</td>\n",
       "      <td>4852</td>\n",
       "      <td>2016-04-18</td>\n",
       "      <td>1753.0</td>\n",
       "      <td>0.46184</td>\n",
       "      <td>30000.0</td>\n",
       "      <td>expert</td>\n",
       "    </tr>\n",
       "    <tr>\n",
       "      <th>2</th>\n",
       "      <td>CVxTz</td>\n",
       "      <td>5174</td>\n",
       "      <td>2016-07-11</td>\n",
       "      <td>34.0</td>\n",
       "      <td>0.93114</td>\n",
       "      <td>20000.0</td>\n",
       "      <td>expert</td>\n",
       "    </tr>\n",
       "    <tr>\n",
       "      <th>3</th>\n",
       "      <td>CVxTz</td>\n",
       "      <td>5261</td>\n",
       "      <td>2016-09-19</td>\n",
       "      <td>389.0</td>\n",
       "      <td>0.99168</td>\n",
       "      <td>50000.0</td>\n",
       "      <td>expert</td>\n",
       "    </tr>\n",
       "    <tr>\n",
       "      <th>4</th>\n",
       "      <td>CVxTz</td>\n",
       "      <td>5325</td>\n",
       "      <td>2016-12-12</td>\n",
       "      <td>27.0</td>\n",
       "      <td>1112.12520</td>\n",
       "      <td>1.0</td>\n",
       "      <td>expert</td>\n",
       "    </tr>\n",
       "  </tbody>\n",
       "</table>\n",
       "</div>"
      ],
      "text/plain": [
       "     name  competitionId    deadline    rank       score  rewardQuantity  \\\n",
       "0  Atishj           6392  2017-06-29  1862.0     0.32624         25000.0   \n",
       "1   CVxTz           4852  2016-04-18  1753.0     0.46184         30000.0   \n",
       "2   CVxTz           5174  2016-07-11    34.0     0.93114         20000.0   \n",
       "3   CVxTz           5261  2016-09-19   389.0     0.99168         50000.0   \n",
       "4   CVxTz           5325  2016-12-12    27.0  1112.12520             1.0   \n",
       "\n",
       "     tier  \n",
       "0  novice  \n",
       "1  expert  \n",
       "2  expert  \n",
       "3  expert  \n",
       "4  expert  "
      ]
     },
     "execution_count": 5,
     "metadata": {},
     "output_type": "execute_result"
    }
   ],
   "source": [
    "item_df = pd.read_csv(\"./inputs/kaggle/item.csv\")\n",
    "item_df.head()"
   ]
  },
  {
   "cell_type": "code",
   "execution_count": 6,
   "metadata": {
    "ExecuteTime": {
     "end_time": "2019-12-04T08:35:11.257781Z",
     "start_time": "2019-12-04T08:35:11.159769Z"
    },
    "scrolled": true
   },
   "outputs": [
    {
     "name": "stdout",
     "output_type": "stream",
     "text": [
      "<class 'pandas.core.frame.DataFrame'>\n",
      "RangeIndex: 476244 entries, 0 to 476243\n",
      "Data columns (total 7 columns):\n",
      "name              476244 non-null object\n",
      "competitionId     476244 non-null int64\n",
      "deadline          476244 non-null object\n",
      "rank              475615 non-null float64\n",
      "score             476244 non-null float64\n",
      "rewardQuantity    430559 non-null float64\n",
      "tier              476244 non-null object\n",
      "dtypes: float64(3), int64(1), object(3)\n",
      "memory usage: 25.4+ MB\n"
     ]
    }
   ],
   "source": [
    "item_df.info()"
   ]
  },
  {
   "cell_type": "code",
   "execution_count": 7,
   "metadata": {
    "ExecuteTime": {
     "end_time": "2019-12-04T08:35:46.061764Z",
     "start_time": "2019-12-04T08:35:45.649754Z"
    }
   },
   "outputs": [
    {
     "data": {
      "text/html": [
       "<div>\n",
       "<style scoped>\n",
       "    .dataframe tbody tr th:only-of-type {\n",
       "        vertical-align: middle;\n",
       "    }\n",
       "\n",
       "    .dataframe tbody tr th {\n",
       "        vertical-align: top;\n",
       "    }\n",
       "\n",
       "    .dataframe thead th {\n",
       "        text-align: right;\n",
       "    }\n",
       "</style>\n",
       "<table border=\"1\" class=\"dataframe\">\n",
       "  <thead>\n",
       "    <tr style=\"text-align: right;\">\n",
       "      <th></th>\n",
       "      <th>name</th>\n",
       "      <th>competitionId</th>\n",
       "      <th>deadline</th>\n",
       "      <th>rank</th>\n",
       "      <th>score</th>\n",
       "      <th>rewardQuantity</th>\n",
       "      <th>tier</th>\n",
       "    </tr>\n",
       "  </thead>\n",
       "  <tbody>\n",
       "    <tr>\n",
       "      <th>391558</th>\n",
       "      <td>stevenevangelista</td>\n",
       "      <td>2408</td>\n",
       "      <td>2010-05-25</td>\n",
       "      <td>20.0</td>\n",
       "      <td>3648.0</td>\n",
       "      <td>1000.0</td>\n",
       "      <td>contributor</td>\n",
       "    </tr>\n",
       "    <tr>\n",
       "      <th>421514</th>\n",
       "      <td>tuncyilmaz</td>\n",
       "      <td>2408</td>\n",
       "      <td>2010-05-25</td>\n",
       "      <td>5.0</td>\n",
       "      <td>2492.0</td>\n",
       "      <td>1000.0</td>\n",
       "      <td>contributor</td>\n",
       "    </tr>\n",
       "    <tr>\n",
       "      <th>123525</th>\n",
       "      <td>emreaydogdu</td>\n",
       "      <td>2408</td>\n",
       "      <td>2010-05-25</td>\n",
       "      <td>9.0</td>\n",
       "      <td>2714.0</td>\n",
       "      <td>1000.0</td>\n",
       "      <td>contributor</td>\n",
       "    </tr>\n",
       "    <tr>\n",
       "      <th>146240</th>\n",
       "      <td>gizem863</td>\n",
       "      <td>2408</td>\n",
       "      <td>2010-05-25</td>\n",
       "      <td>16.0</td>\n",
       "      <td>2950.0</td>\n",
       "      <td>1000.0</td>\n",
       "      <td>contributor</td>\n",
       "    </tr>\n",
       "    <tr>\n",
       "      <th>146239</th>\n",
       "      <td>gizem1</td>\n",
       "      <td>2408</td>\n",
       "      <td>2010-05-25</td>\n",
       "      <td>5.0</td>\n",
       "      <td>2492.0</td>\n",
       "      <td>1000.0</td>\n",
       "      <td>contributor</td>\n",
       "    </tr>\n",
       "  </tbody>\n",
       "</table>\n",
       "</div>"
      ],
      "text/plain": [
       "                     name  competitionId    deadline  rank   score  \\\n",
       "391558  stevenevangelista           2408  2010-05-25  20.0  3648.0   \n",
       "421514         tuncyilmaz           2408  2010-05-25   5.0  2492.0   \n",
       "123525        emreaydogdu           2408  2010-05-25   9.0  2714.0   \n",
       "146240           gizem863           2408  2010-05-25  16.0  2950.0   \n",
       "146239             gizem1           2408  2010-05-25   5.0  2492.0   \n",
       "\n",
       "        rewardQuantity         tier  \n",
       "391558          1000.0  contributor  \n",
       "421514          1000.0  contributor  \n",
       "123525          1000.0  contributor  \n",
       "146240          1000.0  contributor  \n",
       "146239          1000.0  contributor  "
      ]
     },
     "execution_count": 7,
     "metadata": {},
     "output_type": "execute_result"
    }
   ],
   "source": [
    "item_df.sort_values(by=['deadline']).head()"
   ]
  },
  {
   "cell_type": "code",
   "execution_count": 8,
   "metadata": {
    "ExecuteTime": {
     "end_time": "2019-12-04T08:36:14.647992Z",
     "start_time": "2019-12-04T08:36:14.198988Z"
    }
   },
   "outputs": [
    {
     "data": {
      "text/html": [
       "<div>\n",
       "<style scoped>\n",
       "    .dataframe tbody tr th:only-of-type {\n",
       "        vertical-align: middle;\n",
       "    }\n",
       "\n",
       "    .dataframe tbody tr th {\n",
       "        vertical-align: top;\n",
       "    }\n",
       "\n",
       "    .dataframe thead th {\n",
       "        text-align: right;\n",
       "    }\n",
       "</style>\n",
       "<table border=\"1\" class=\"dataframe\">\n",
       "  <thead>\n",
       "    <tr style=\"text-align: right;\">\n",
       "      <th></th>\n",
       "      <th>name</th>\n",
       "      <th>competitionId</th>\n",
       "      <th>deadline</th>\n",
       "      <th>rank</th>\n",
       "      <th>score</th>\n",
       "      <th>rewardQuantity</th>\n",
       "      <th>tier</th>\n",
       "    </tr>\n",
       "  </thead>\n",
       "  <tbody>\n",
       "    <tr>\n",
       "      <th>165305</th>\n",
       "      <td>hofmafr</td>\n",
       "      <td>14774</td>\n",
       "      <td>2019-09-07</td>\n",
       "      <td>760.0</td>\n",
       "      <td>0.910538</td>\n",
       "      <td>50000.0</td>\n",
       "      <td>contributor</td>\n",
       "    </tr>\n",
       "    <tr>\n",
       "      <th>165306</th>\n",
       "      <td>hofmafr</td>\n",
       "      <td>14774</td>\n",
       "      <td>2019-09-07</td>\n",
       "      <td>361.0</td>\n",
       "      <td>0.800225</td>\n",
       "      <td>50000.0</td>\n",
       "      <td>contributor</td>\n",
       "    </tr>\n",
       "    <tr>\n",
       "      <th>165307</th>\n",
       "      <td>hofmafr</td>\n",
       "      <td>14774</td>\n",
       "      <td>2019-09-07</td>\n",
       "      <td>760.0</td>\n",
       "      <td>0.910538</td>\n",
       "      <td>50000.0</td>\n",
       "      <td>contributor</td>\n",
       "    </tr>\n",
       "    <tr>\n",
       "      <th>59212</th>\n",
       "      <td>bouille</td>\n",
       "      <td>14774</td>\n",
       "      <td>2019-09-07</td>\n",
       "      <td>2270.0</td>\n",
       "      <td>0.647108</td>\n",
       "      <td>50000.0</td>\n",
       "      <td>novice</td>\n",
       "    </tr>\n",
       "    <tr>\n",
       "      <th>79760</th>\n",
       "      <td>codeworm</td>\n",
       "      <td>14774</td>\n",
       "      <td>2019-09-07</td>\n",
       "      <td>2938.0</td>\n",
       "      <td>-0.037545</td>\n",
       "      <td>50000.0</td>\n",
       "      <td>novice</td>\n",
       "    </tr>\n",
       "  </tbody>\n",
       "</table>\n",
       "</div>"
      ],
      "text/plain": [
       "            name  competitionId    deadline    rank     score  rewardQuantity  \\\n",
       "165305   hofmafr          14774  2019-09-07   760.0  0.910538         50000.0   \n",
       "165306   hofmafr          14774  2019-09-07   361.0  0.800225         50000.0   \n",
       "165307   hofmafr          14774  2019-09-07   760.0  0.910538         50000.0   \n",
       "59212    bouille          14774  2019-09-07  2270.0  0.647108         50000.0   \n",
       "79760   codeworm          14774  2019-09-07  2938.0 -0.037545         50000.0   \n",
       "\n",
       "               tier  \n",
       "165305  contributor  \n",
       "165306  contributor  \n",
       "165307  contributor  \n",
       "59212        novice  \n",
       "79760        novice  "
      ]
     },
     "execution_count": 8,
     "metadata": {},
     "output_type": "execute_result"
    }
   ],
   "source": [
    "item_df.sort_values(by=['deadline']).tail()"
   ]
  },
  {
   "cell_type": "code",
   "execution_count": 9,
   "metadata": {
    "ExecuteTime": {
     "end_time": "2019-12-04T08:38:53.825250Z",
     "start_time": "2019-12-04T08:38:53.639251Z"
    }
   },
   "outputs": [
    {
     "data": {
      "text/plain": [
       "mathurinache     267\n",
       "lucamassaron     239\n",
       "kazanova         224\n",
       "tunguz           216\n",
       "abhishek         209\n",
       "                ... \n",
       "ibon2982           1\n",
       "mazukta26          1\n",
       "jbialogrodzki      1\n",
       "vgcodes            1\n",
       "acehack            1\n",
       "Name: name, Length: 151522, dtype: int64"
      ]
     },
     "execution_count": 9,
     "metadata": {},
     "output_type": "execute_result"
    }
   ],
   "source": [
    "item_df.name.value_counts()"
   ]
  },
  {
   "cell_type": "code",
   "execution_count": 10,
   "metadata": {
    "ExecuteTime": {
     "end_time": "2019-12-04T08:43:08.699212Z",
     "start_time": "2019-12-04T08:43:08.639205Z"
    }
   },
   "outputs": [
    {
     "data": {
      "text/plain": [
       "11000    38227\n",
       "14774    24654\n",
       "14313    23149\n",
       "12500    21987\n",
       "14239    14203\n",
       "         ...  \n",
       "2549        29\n",
       "2408        25\n",
       "3077        20\n",
       "3194        18\n",
       "3525         7\n",
       "Name: competitionId, Length: 326, dtype: int64"
      ]
     },
     "execution_count": 10,
     "metadata": {},
     "output_type": "execute_result"
    }
   ],
   "source": [
    "item_df.competitionId.value_counts()"
   ]
  },
  {
   "cell_type": "code",
   "execution_count": 78,
   "metadata": {
    "ExecuteTime": {
     "end_time": "2019-10-03T02:01:56.522019Z",
     "start_time": "2019-10-03T02:01:56.445017Z"
    }
   },
   "outputs": [
    {
     "data": {
      "text/html": [
       "<div>\n",
       "<style scoped>\n",
       "    .dataframe tbody tr th:only-of-type {\n",
       "        vertical-align: middle;\n",
       "    }\n",
       "\n",
       "    .dataframe tbody tr th {\n",
       "        vertical-align: top;\n",
       "    }\n",
       "\n",
       "    .dataframe thead th {\n",
       "        text-align: right;\n",
       "    }\n",
       "</style>\n",
       "<table border=\"1\" class=\"dataframe\">\n",
       "  <thead>\n",
       "    <tr style=\"text-align: right;\">\n",
       "      <th></th>\n",
       "      <th>name</th>\n",
       "      <th>competitionId</th>\n",
       "      <th>deadline</th>\n",
       "      <th>rank</th>\n",
       "      <th>score</th>\n",
       "      <th>rewardQuantity</th>\n",
       "      <th>tier</th>\n",
       "    </tr>\n",
       "  </thead>\n",
       "  <tbody>\n",
       "    <tr>\n",
       "      <th>0</th>\n",
       "      <td>Atishj</td>\n",
       "      <td>6392</td>\n",
       "      <td>2017-06-29</td>\n",
       "      <td>1862.0</td>\n",
       "      <td>0.32624</td>\n",
       "      <td>25000.0</td>\n",
       "      <td>novice</td>\n",
       "    </tr>\n",
       "    <tr>\n",
       "      <th>1</th>\n",
       "      <td>CVxTz</td>\n",
       "      <td>4852</td>\n",
       "      <td>2016-04-18</td>\n",
       "      <td>1753.0</td>\n",
       "      <td>0.46184</td>\n",
       "      <td>30000.0</td>\n",
       "      <td>expert</td>\n",
       "    </tr>\n",
       "    <tr>\n",
       "      <th>2</th>\n",
       "      <td>CVxTz</td>\n",
       "      <td>5174</td>\n",
       "      <td>2016-07-11</td>\n",
       "      <td>34.0</td>\n",
       "      <td>0.93114</td>\n",
       "      <td>20000.0</td>\n",
       "      <td>expert</td>\n",
       "    </tr>\n",
       "    <tr>\n",
       "      <th>3</th>\n",
       "      <td>CVxTz</td>\n",
       "      <td>5261</td>\n",
       "      <td>2016-09-19</td>\n",
       "      <td>389.0</td>\n",
       "      <td>0.99168</td>\n",
       "      <td>50000.0</td>\n",
       "      <td>expert</td>\n",
       "    </tr>\n",
       "    <tr>\n",
       "      <th>4</th>\n",
       "      <td>CVxTz</td>\n",
       "      <td>5325</td>\n",
       "      <td>2016-12-12</td>\n",
       "      <td>27.0</td>\n",
       "      <td>1112.12520</td>\n",
       "      <td>1.0</td>\n",
       "      <td>expert</td>\n",
       "    </tr>\n",
       "  </tbody>\n",
       "</table>\n",
       "</div>"
      ],
      "text/plain": [
       "     name  competitionId    deadline    rank       score  rewardQuantity  \\\n",
       "0  Atishj           6392  2017-06-29  1862.0     0.32624         25000.0   \n",
       "1   CVxTz           4852  2016-04-18  1753.0     0.46184         30000.0   \n",
       "2   CVxTz           5174  2016-07-11    34.0     0.93114         20000.0   \n",
       "3   CVxTz           5261  2016-09-19   389.0     0.99168         50000.0   \n",
       "4   CVxTz           5325  2016-12-12    27.0  1112.12520             1.0   \n",
       "\n",
       "     tier  \n",
       "0  novice  \n",
       "1  expert  \n",
       "2  expert  \n",
       "3  expert  \n",
       "4  expert  "
      ]
     },
     "execution_count": 78,
     "metadata": {},
     "output_type": "execute_result"
    }
   ],
   "source": [
    "item_df = item_df[[\n",
    "    'name', 'competitionId', 'deadline', 'rank', 'score', 'rewardQuantity',\n",
    "    'tier'\n",
    "]]\n",
    "item_df.head()"
   ]
  },
  {
   "cell_type": "code",
   "execution_count": 79,
   "metadata": {
    "ExecuteTime": {
     "end_time": "2019-10-03T02:02:18.238197Z",
     "start_time": "2019-10-03T02:02:18.108226Z"
    }
   },
   "outputs": [
    {
     "data": {
      "text/html": [
       "<div>\n",
       "<style scoped>\n",
       "    .dataframe tbody tr th:only-of-type {\n",
       "        vertical-align: middle;\n",
       "    }\n",
       "\n",
       "    .dataframe tbody tr th {\n",
       "        vertical-align: top;\n",
       "    }\n",
       "\n",
       "    .dataframe thead th {\n",
       "        text-align: right;\n",
       "    }\n",
       "</style>\n",
       "<table border=\"1\" class=\"dataframe\">\n",
       "  <thead>\n",
       "    <tr style=\"text-align: right;\">\n",
       "      <th></th>\n",
       "      <th>name</th>\n",
       "      <th>competitionId</th>\n",
       "      <th>deadline</th>\n",
       "      <th>rank</th>\n",
       "      <th>score</th>\n",
       "      <th>rewardQuantity</th>\n",
       "      <th>tier</th>\n",
       "      <th>period</th>\n",
       "    </tr>\n",
       "  </thead>\n",
       "  <tbody>\n",
       "    <tr>\n",
       "      <th>0</th>\n",
       "      <td>Atishj</td>\n",
       "      <td>6392</td>\n",
       "      <td>2017-06-29</td>\n",
       "      <td>1862.0</td>\n",
       "      <td>0.32624</td>\n",
       "      <td>25000.0</td>\n",
       "      <td>novice</td>\n",
       "      <td>2017-06</td>\n",
       "    </tr>\n",
       "    <tr>\n",
       "      <th>1</th>\n",
       "      <td>CVxTz</td>\n",
       "      <td>4852</td>\n",
       "      <td>2016-04-18</td>\n",
       "      <td>1753.0</td>\n",
       "      <td>0.46184</td>\n",
       "      <td>30000.0</td>\n",
       "      <td>expert</td>\n",
       "      <td>2016-04</td>\n",
       "    </tr>\n",
       "    <tr>\n",
       "      <th>2</th>\n",
       "      <td>CVxTz</td>\n",
       "      <td>5174</td>\n",
       "      <td>2016-07-11</td>\n",
       "      <td>34.0</td>\n",
       "      <td>0.93114</td>\n",
       "      <td>20000.0</td>\n",
       "      <td>expert</td>\n",
       "      <td>2016-07</td>\n",
       "    </tr>\n",
       "    <tr>\n",
       "      <th>3</th>\n",
       "      <td>CVxTz</td>\n",
       "      <td>5261</td>\n",
       "      <td>2016-09-19</td>\n",
       "      <td>389.0</td>\n",
       "      <td>0.99168</td>\n",
       "      <td>50000.0</td>\n",
       "      <td>expert</td>\n",
       "      <td>2016-09</td>\n",
       "    </tr>\n",
       "    <tr>\n",
       "      <th>4</th>\n",
       "      <td>CVxTz</td>\n",
       "      <td>5325</td>\n",
       "      <td>2016-12-12</td>\n",
       "      <td>27.0</td>\n",
       "      <td>1112.12520</td>\n",
       "      <td>1.0</td>\n",
       "      <td>expert</td>\n",
       "      <td>2016-12</td>\n",
       "    </tr>\n",
       "  </tbody>\n",
       "</table>\n",
       "</div>"
      ],
      "text/plain": [
       "     name  competitionId    deadline    rank       score  rewardQuantity  \\\n",
       "0  Atishj           6392  2017-06-29  1862.0     0.32624         25000.0   \n",
       "1   CVxTz           4852  2016-04-18  1753.0     0.46184         30000.0   \n",
       "2   CVxTz           5174  2016-07-11    34.0     0.93114         20000.0   \n",
       "3   CVxTz           5261  2016-09-19   389.0     0.99168         50000.0   \n",
       "4   CVxTz           5325  2016-12-12    27.0  1112.12520             1.0   \n",
       "\n",
       "     tier   period  \n",
       "0  novice  2017-06  \n",
       "1  expert  2016-04  \n",
       "2  expert  2016-07  \n",
       "3  expert  2016-09  \n",
       "4  expert  2016-12  "
      ]
     },
     "execution_count": 79,
     "metadata": {},
     "output_type": "execute_result"
    }
   ],
   "source": [
    "item_df['period'] = item_df['deadline'].str[:7]\n",
    "item_df.head()"
   ]
  },
  {
   "cell_type": "code",
   "execution_count": 82,
   "metadata": {
    "ExecuteTime": {
     "end_time": "2019-10-03T02:03:34.617528Z",
     "start_time": "2019-10-03T02:03:34.475528Z"
    }
   },
   "outputs": [
    {
     "data": {
      "text/plain": [
       "name                      object\n",
       "competitionId              int64\n",
       "deadline          datetime64[ns]\n",
       "rank                     float64\n",
       "score                    float64\n",
       "rewardQuantity           float64\n",
       "tier                      object\n",
       "period                    object\n",
       "dtype: object"
      ]
     },
     "execution_count": 82,
     "metadata": {},
     "output_type": "execute_result"
    }
   ],
   "source": [
    "item_df['deadline'] = pd.to_datetime(item_df['deadline'])\n",
    "item_df.dtypes"
   ]
  },
  {
   "cell_type": "code",
   "execution_count": 83,
   "metadata": {
    "ExecuteTime": {
     "end_time": "2019-10-03T02:03:36.101977Z",
     "start_time": "2019-10-03T02:03:35.180916Z"
    }
   },
   "outputs": [],
   "source": [
    "item_df[item_df['score'] == np.inf] = 0"
   ]
  },
  {
   "cell_type": "code",
   "execution_count": 84,
   "metadata": {
    "ExecuteTime": {
     "end_time": "2019-10-03T02:03:38.153387Z",
     "start_time": "2019-10-03T02:03:38.028417Z"
    }
   },
   "outputs": [
    {
     "data": {
      "text/plain": [
       "name               object\n",
       "competitionId       int64\n",
       "deadline           object\n",
       "rank              float64\n",
       "score             float64\n",
       "rewardQuantity    float64\n",
       "tier               object\n",
       "period             object\n",
       "dtype: object"
      ]
     },
     "execution_count": 84,
     "metadata": {},
     "output_type": "execute_result"
    }
   ],
   "source": [
    "str_cols = ['name', 'tier']\n",
    "item_df[str_cols] = item_df[str_cols].astype('str')\n",
    "item_df.dtypes"
   ]
  },
  {
   "cell_type": "code",
   "execution_count": 85,
   "metadata": {
    "ExecuteTime": {
     "end_time": "2019-10-03T02:03:38.640653Z",
     "start_time": "2019-10-03T02:03:38.492656Z"
    }
   },
   "outputs": [
    {
     "data": {
      "text/plain": [
       "name              False\n",
       "competitionId     False\n",
       "deadline          False\n",
       "rank               True\n",
       "score             False\n",
       "rewardQuantity     True\n",
       "tier              False\n",
       "period            False\n",
       "dtype: bool"
      ]
     },
     "execution_count": 85,
     "metadata": {},
     "output_type": "execute_result"
    }
   ],
   "source": [
    "item_df.isna().any()"
   ]
  },
  {
   "cell_type": "code",
   "execution_count": 86,
   "metadata": {
    "ExecuteTime": {
     "end_time": "2019-10-03T02:03:40.225495Z",
     "start_time": "2019-10-03T02:03:40.172494Z"
    }
   },
   "outputs": [],
   "source": [
    "item_df['rewardQuantity'] = item_df['rewardQuantity'].where(~item_df['rewardQuantity'].isna(), 0)"
   ]
  },
  {
   "cell_type": "code",
   "execution_count": 87,
   "metadata": {
    "ExecuteTime": {
     "end_time": "2019-10-03T02:03:40.766451Z",
     "start_time": "2019-10-03T02:03:40.627450Z"
    }
   },
   "outputs": [
    {
     "data": {
      "text/plain": [
       "name              False\n",
       "competitionId     False\n",
       "deadline          False\n",
       "rank               True\n",
       "score             False\n",
       "rewardQuantity    False\n",
       "tier              False\n",
       "period            False\n",
       "dtype: bool"
      ]
     },
     "execution_count": 87,
     "metadata": {},
     "output_type": "execute_result"
    }
   ],
   "source": [
    "item_df.isna().any()"
   ]
  },
  {
   "cell_type": "code",
   "execution_count": 88,
   "metadata": {
    "ExecuteTime": {
     "end_time": "2019-10-03T02:03:41.153827Z",
     "start_time": "2019-10-03T02:03:41.108854Z"
    }
   },
   "outputs": [
    {
     "name": "stdout",
     "output_type": "stream",
     "text": [
      "Previous item shape (476244, 8)\n"
     ]
    }
   ],
   "source": [
    "print(f\"Previous item shape {item_df.shape}\")"
   ]
  },
  {
   "cell_type": "code",
   "execution_count": 89,
   "metadata": {
    "ExecuteTime": {
     "end_time": "2019-10-03T02:03:43.541765Z",
     "start_time": "2019-10-03T02:03:43.348792Z"
    }
   },
   "outputs": [
    {
     "name": "stdout",
     "output_type": "stream",
     "text": [
      "Drop nan value shape: (475615, 8)\n"
     ]
    }
   ],
   "source": [
    "item_df = item_df.dropna()\n",
    "print(f\"Drop nan value shape: {item_df.shape}\")"
   ]
  },
  {
   "cell_type": "code",
   "execution_count": 90,
   "metadata": {
    "ExecuteTime": {
     "end_time": "2019-10-03T02:03:54.629044Z",
     "start_time": "2019-10-03T02:03:54.460045Z"
    }
   },
   "outputs": [
    {
     "name": "stdout",
     "output_type": "stream",
     "text": [
      "competition number 327\n",
      "competitor  number 151505\n"
     ]
    }
   ],
   "source": [
    "comp_counts = item_df['competitionId'].value_counts()\n",
    "name_counts = item_df['name'].value_counts()\n",
    "\n",
    "print(f\"competition number {comp_counts.size}\")\n",
    "print(f\"competitor  number {name_counts.size}\")"
   ]
  },
  {
   "cell_type": "code",
   "execution_count": 91,
   "metadata": {
    "ExecuteTime": {
     "end_time": "2019-10-03T02:03:58.584244Z",
     "start_time": "2019-10-03T02:03:58.532242Z"
    }
   },
   "outputs": [
    {
     "data": {
      "text/plain": [
       "0        1\n",
       "3525     7\n",
       "3194    13\n",
       "3077    15\n",
       "2408    25\n",
       "Name: competitionId, dtype: int64"
      ]
     },
     "execution_count": 91,
     "metadata": {},
     "output_type": "execute_result"
    }
   ],
   "source": [
    "comp_counts.sort_values().head()"
   ]
  },
  {
   "cell_type": "code",
   "execution_count": 92,
   "metadata": {
    "ExecuteTime": {
     "end_time": "2019-10-03T02:04:01.674990Z",
     "start_time": "2019-10-03T02:04:01.611987Z"
    }
   },
   "outputs": [
    {
     "name": "stdout",
     "output_type": "stream",
     "text": [
      "filter competitor number 30870\n"
     ]
    }
   ],
   "source": [
    "name_counts = name_counts[name_counts>=4]\n",
    "print(f\"filter competitor number {name_counts.size}\")"
   ]
  },
  {
   "cell_type": "code",
   "execution_count": 93,
   "metadata": {
    "ExecuteTime": {
     "end_time": "2019-10-03T02:04:03.147115Z",
     "start_time": "2019-10-03T02:04:03.044146Z"
    }
   },
   "outputs": [
    {
     "data": {
      "text/plain": [
       "(319867, 8)"
      ]
     },
     "execution_count": 93,
     "metadata": {},
     "output_type": "execute_result"
    }
   ],
   "source": [
    "item_df = item_df[item_df['name'].isin(name_counts.index)]\n",
    "item_df.shape"
   ]
  },
  {
   "cell_type": "code",
   "execution_count": 94,
   "metadata": {
    "ExecuteTime": {
     "end_time": "2019-10-03T02:04:13.144811Z",
     "start_time": "2019-10-03T02:04:13.085812Z"
    }
   },
   "outputs": [
    {
     "data": {
      "text/html": [
       "<div>\n",
       "<style scoped>\n",
       "    .dataframe tbody tr th:only-of-type {\n",
       "        vertical-align: middle;\n",
       "    }\n",
       "\n",
       "    .dataframe tbody tr th {\n",
       "        vertical-align: top;\n",
       "    }\n",
       "\n",
       "    .dataframe thead th {\n",
       "        text-align: right;\n",
       "    }\n",
       "</style>\n",
       "<table border=\"1\" class=\"dataframe\">\n",
       "  <thead>\n",
       "    <tr style=\"text-align: right;\">\n",
       "      <th></th>\n",
       "      <th>competitionId</th>\n",
       "      <th>rewardQuantity</th>\n",
       "      <th>period</th>\n",
       "    </tr>\n",
       "  </thead>\n",
       "  <tbody>\n",
       "    <tr>\n",
       "      <th>1</th>\n",
       "      <td>4852</td>\n",
       "      <td>30000.0</td>\n",
       "      <td>2016-04</td>\n",
       "    </tr>\n",
       "    <tr>\n",
       "      <th>2</th>\n",
       "      <td>5174</td>\n",
       "      <td>20000.0</td>\n",
       "      <td>2016-07</td>\n",
       "    </tr>\n",
       "    <tr>\n",
       "      <th>3</th>\n",
       "      <td>5261</td>\n",
       "      <td>50000.0</td>\n",
       "      <td>2016-09</td>\n",
       "    </tr>\n",
       "    <tr>\n",
       "      <th>4</th>\n",
       "      <td>5325</td>\n",
       "      <td>1.0</td>\n",
       "      <td>2016-12</td>\n",
       "    </tr>\n",
       "    <tr>\n",
       "      <th>5</th>\n",
       "      <td>5340</td>\n",
       "      <td>25000.0</td>\n",
       "      <td>2016-09</td>\n",
       "    </tr>\n",
       "  </tbody>\n",
       "</table>\n",
       "</div>"
      ],
      "text/plain": [
       "   competitionId  rewardQuantity   period\n",
       "1           4852         30000.0  2016-04\n",
       "2           5174         20000.0  2016-07\n",
       "3           5261         50000.0  2016-09\n",
       "4           5325             1.0  2016-12\n",
       "5           5340         25000.0  2016-09"
      ]
     },
     "execution_count": 94,
     "metadata": {},
     "output_type": "execute_result"
    }
   ],
   "source": [
    "comp_cols = ['competitionId', 'rewardQuantity', 'period']\n",
    "comp_df = item_df[comp_cols]\n",
    "comp_df.head()"
   ]
  },
  {
   "cell_type": "code",
   "execution_count": 95,
   "metadata": {
    "ExecuteTime": {
     "end_time": "2019-10-03T02:04:16.169720Z",
     "start_time": "2019-10-03T02:04:16.108693Z"
    }
   },
   "outputs": [
    {
     "data": {
      "text/html": [
       "<div>\n",
       "<style scoped>\n",
       "    .dataframe tbody tr th:only-of-type {\n",
       "        vertical-align: middle;\n",
       "    }\n",
       "\n",
       "    .dataframe tbody tr th {\n",
       "        vertical-align: top;\n",
       "    }\n",
       "\n",
       "    .dataframe thead th {\n",
       "        text-align: right;\n",
       "    }\n",
       "</style>\n",
       "<table border=\"1\" class=\"dataframe\">\n",
       "  <thead>\n",
       "    <tr style=\"text-align: right;\">\n",
       "      <th></th>\n",
       "      <th>competitionId</th>\n",
       "      <th>rewardQuantity</th>\n",
       "      <th>period</th>\n",
       "    </tr>\n",
       "  </thead>\n",
       "  <tbody>\n",
       "    <tr>\n",
       "      <th>1</th>\n",
       "      <td>4852</td>\n",
       "      <td>30000.0</td>\n",
       "      <td>2016-04</td>\n",
       "    </tr>\n",
       "    <tr>\n",
       "      <th>2</th>\n",
       "      <td>5174</td>\n",
       "      <td>20000.0</td>\n",
       "      <td>2016-07</td>\n",
       "    </tr>\n",
       "    <tr>\n",
       "      <th>3</th>\n",
       "      <td>5261</td>\n",
       "      <td>50000.0</td>\n",
       "      <td>2016-09</td>\n",
       "    </tr>\n",
       "    <tr>\n",
       "      <th>4</th>\n",
       "      <td>5325</td>\n",
       "      <td>1.0</td>\n",
       "      <td>2016-12</td>\n",
       "    </tr>\n",
       "    <tr>\n",
       "      <th>5</th>\n",
       "      <td>5340</td>\n",
       "      <td>25000.0</td>\n",
       "      <td>2016-09</td>\n",
       "    </tr>\n",
       "  </tbody>\n",
       "</table>\n",
       "</div>"
      ],
      "text/plain": [
       "   competitionId  rewardQuantity   period\n",
       "1           4852         30000.0  2016-04\n",
       "2           5174         20000.0  2016-07\n",
       "3           5261         50000.0  2016-09\n",
       "4           5325             1.0  2016-12\n",
       "5           5340         25000.0  2016-09"
      ]
     },
     "execution_count": 95,
     "metadata": {},
     "output_type": "execute_result"
    }
   ],
   "source": [
    "comp_df = comp_df.drop_duplicates(subset=['competitionId'], keep='first')\n",
    "comp_df.head()"
   ]
  },
  {
   "cell_type": "code",
   "execution_count": 106,
   "metadata": {
    "ExecuteTime": {
     "end_time": "2019-10-03T02:40:08.188327Z",
     "start_time": "2019-10-03T02:40:08.124318Z"
    }
   },
   "outputs": [
    {
     "data": {
      "text/html": [
       "<div>\n",
       "<style scoped>\n",
       "    .dataframe tbody tr th:only-of-type {\n",
       "        vertical-align: middle;\n",
       "    }\n",
       "\n",
       "    .dataframe tbody tr th {\n",
       "        vertical-align: top;\n",
       "    }\n",
       "\n",
       "    .dataframe thead th {\n",
       "        text-align: right;\n",
       "    }\n",
       "</style>\n",
       "<table border=\"1\" class=\"dataframe\">\n",
       "  <thead>\n",
       "    <tr style=\"text-align: right;\">\n",
       "      <th></th>\n",
       "      <th>competitionId</th>\n",
       "      <th>rewardQuantity</th>\n",
       "      <th>cat</th>\n",
       "    </tr>\n",
       "    <tr>\n",
       "      <th>period</th>\n",
       "      <th></th>\n",
       "      <th></th>\n",
       "      <th></th>\n",
       "    </tr>\n",
       "  </thead>\n",
       "  <tbody>\n",
       "    <tr>\n",
       "      <th>2010-05-01</th>\n",
       "      <td>1</td>\n",
       "      <td>1</td>\n",
       "      <td>1</td>\n",
       "    </tr>\n",
       "    <tr>\n",
       "      <th>2010-06-01</th>\n",
       "      <td>1</td>\n",
       "      <td>1</td>\n",
       "      <td>1</td>\n",
       "    </tr>\n",
       "    <tr>\n",
       "      <th>2010-08-01</th>\n",
       "      <td>1</td>\n",
       "      <td>1</td>\n",
       "      <td>1</td>\n",
       "    </tr>\n",
       "    <tr>\n",
       "      <th>2010-09-01</th>\n",
       "      <td>1</td>\n",
       "      <td>1</td>\n",
       "      <td>1</td>\n",
       "    </tr>\n",
       "    <tr>\n",
       "      <th>2010-10-01</th>\n",
       "      <td>1</td>\n",
       "      <td>1</td>\n",
       "      <td>1</td>\n",
       "    </tr>\n",
       "    <tr>\n",
       "      <th>2010-11-01</th>\n",
       "      <td>2</td>\n",
       "      <td>2</td>\n",
       "      <td>2</td>\n",
       "    </tr>\n",
       "    <tr>\n",
       "      <th>2011-01-01</th>\n",
       "      <td>1</td>\n",
       "      <td>1</td>\n",
       "      <td>1</td>\n",
       "    </tr>\n",
       "    <tr>\n",
       "      <th>2011-02-01</th>\n",
       "      <td>3</td>\n",
       "      <td>3</td>\n",
       "      <td>3</td>\n",
       "    </tr>\n",
       "    <tr>\n",
       "      <th>2011-03-01</th>\n",
       "      <td>1</td>\n",
       "      <td>1</td>\n",
       "      <td>1</td>\n",
       "    </tr>\n",
       "    <tr>\n",
       "      <th>2011-04-01</th>\n",
       "      <td>1</td>\n",
       "      <td>1</td>\n",
       "      <td>1</td>\n",
       "    </tr>\n",
       "    <tr>\n",
       "      <th>2011-05-01</th>\n",
       "      <td>2</td>\n",
       "      <td>2</td>\n",
       "      <td>2</td>\n",
       "    </tr>\n",
       "    <tr>\n",
       "      <th>2011-08-01</th>\n",
       "      <td>1</td>\n",
       "      <td>1</td>\n",
       "      <td>1</td>\n",
       "    </tr>\n",
       "    <tr>\n",
       "      <th>2011-09-01</th>\n",
       "      <td>2</td>\n",
       "      <td>2</td>\n",
       "      <td>2</td>\n",
       "    </tr>\n",
       "    <tr>\n",
       "      <th>2011-10-01</th>\n",
       "      <td>2</td>\n",
       "      <td>2</td>\n",
       "      <td>2</td>\n",
       "    </tr>\n",
       "    <tr>\n",
       "      <th>2011-11-01</th>\n",
       "      <td>1</td>\n",
       "      <td>1</td>\n",
       "      <td>1</td>\n",
       "    </tr>\n",
       "    <tr>\n",
       "      <th>2011-12-01</th>\n",
       "      <td>1</td>\n",
       "      <td>1</td>\n",
       "      <td>1</td>\n",
       "    </tr>\n",
       "    <tr>\n",
       "      <th>2012-01-01</th>\n",
       "      <td>2</td>\n",
       "      <td>2</td>\n",
       "      <td>2</td>\n",
       "    </tr>\n",
       "    <tr>\n",
       "      <th>2012-02-01</th>\n",
       "      <td>1</td>\n",
       "      <td>1</td>\n",
       "      <td>1</td>\n",
       "    </tr>\n",
       "    <tr>\n",
       "      <th>2012-04-01</th>\n",
       "      <td>6</td>\n",
       "      <td>6</td>\n",
       "      <td>6</td>\n",
       "    </tr>\n",
       "    <tr>\n",
       "      <th>2012-06-01</th>\n",
       "      <td>5</td>\n",
       "      <td>5</td>\n",
       "      <td>5</td>\n",
       "    </tr>\n",
       "    <tr>\n",
       "      <th>2012-07-01</th>\n",
       "      <td>3</td>\n",
       "      <td>3</td>\n",
       "      <td>3</td>\n",
       "    </tr>\n",
       "    <tr>\n",
       "      <th>2012-08-01</th>\n",
       "      <td>1</td>\n",
       "      <td>1</td>\n",
       "      <td>1</td>\n",
       "    </tr>\n",
       "    <tr>\n",
       "      <th>2012-09-01</th>\n",
       "      <td>8</td>\n",
       "      <td>8</td>\n",
       "      <td>8</td>\n",
       "    </tr>\n",
       "    <tr>\n",
       "      <th>2012-10-01</th>\n",
       "      <td>3</td>\n",
       "      <td>3</td>\n",
       "      <td>3</td>\n",
       "    </tr>\n",
       "    <tr>\n",
       "      <th>2012-11-01</th>\n",
       "      <td>3</td>\n",
       "      <td>3</td>\n",
       "      <td>3</td>\n",
       "    </tr>\n",
       "    <tr>\n",
       "      <th>2012-12-01</th>\n",
       "      <td>2</td>\n",
       "      <td>2</td>\n",
       "      <td>2</td>\n",
       "    </tr>\n",
       "    <tr>\n",
       "      <th>2013-01-01</th>\n",
       "      <td>1</td>\n",
       "      <td>1</td>\n",
       "      <td>1</td>\n",
       "    </tr>\n",
       "    <tr>\n",
       "      <th>2013-02-01</th>\n",
       "      <td>3</td>\n",
       "      <td>3</td>\n",
       "      <td>3</td>\n",
       "    </tr>\n",
       "    <tr>\n",
       "      <th>2013-03-01</th>\n",
       "      <td>1</td>\n",
       "      <td>1</td>\n",
       "      <td>1</td>\n",
       "    </tr>\n",
       "    <tr>\n",
       "      <th>2013-04-01</th>\n",
       "      <td>7</td>\n",
       "      <td>7</td>\n",
       "      <td>7</td>\n",
       "    </tr>\n",
       "    <tr>\n",
       "      <th>...</th>\n",
       "      <td>...</td>\n",
       "      <td>...</td>\n",
       "      <td>...</td>\n",
       "    </tr>\n",
       "    <tr>\n",
       "      <th>2017-03-01</th>\n",
       "      <td>4</td>\n",
       "      <td>4</td>\n",
       "      <td>4</td>\n",
       "    </tr>\n",
       "    <tr>\n",
       "      <th>2017-04-01</th>\n",
       "      <td>4</td>\n",
       "      <td>4</td>\n",
       "      <td>4</td>\n",
       "    </tr>\n",
       "    <tr>\n",
       "      <th>2017-06-01</th>\n",
       "      <td>5</td>\n",
       "      <td>5</td>\n",
       "      <td>5</td>\n",
       "    </tr>\n",
       "    <tr>\n",
       "      <th>2017-07-01</th>\n",
       "      <td>4</td>\n",
       "      <td>4</td>\n",
       "      <td>4</td>\n",
       "    </tr>\n",
       "    <tr>\n",
       "      <th>2017-08-01</th>\n",
       "      <td>2</td>\n",
       "      <td>2</td>\n",
       "      <td>2</td>\n",
       "    </tr>\n",
       "    <tr>\n",
       "      <th>2017-09-01</th>\n",
       "      <td>2</td>\n",
       "      <td>2</td>\n",
       "      <td>2</td>\n",
       "    </tr>\n",
       "    <tr>\n",
       "      <th>2017-10-01</th>\n",
       "      <td>4</td>\n",
       "      <td>4</td>\n",
       "      <td>4</td>\n",
       "    </tr>\n",
       "    <tr>\n",
       "      <th>2017-11-01</th>\n",
       "      <td>4</td>\n",
       "      <td>4</td>\n",
       "      <td>4</td>\n",
       "    </tr>\n",
       "    <tr>\n",
       "      <th>2017-12-01</th>\n",
       "      <td>5</td>\n",
       "      <td>5</td>\n",
       "      <td>5</td>\n",
       "    </tr>\n",
       "    <tr>\n",
       "      <th>2018-01-01</th>\n",
       "      <td>5</td>\n",
       "      <td>5</td>\n",
       "      <td>5</td>\n",
       "    </tr>\n",
       "    <tr>\n",
       "      <th>2018-02-01</th>\n",
       "      <td>5</td>\n",
       "      <td>5</td>\n",
       "      <td>5</td>\n",
       "    </tr>\n",
       "    <tr>\n",
       "      <th>2018-03-01</th>\n",
       "      <td>2</td>\n",
       "      <td>2</td>\n",
       "      <td>2</td>\n",
       "    </tr>\n",
       "    <tr>\n",
       "      <th>2018-04-01</th>\n",
       "      <td>4</td>\n",
       "      <td>4</td>\n",
       "      <td>4</td>\n",
       "    </tr>\n",
       "    <tr>\n",
       "      <th>2018-05-01</th>\n",
       "      <td>5</td>\n",
       "      <td>5</td>\n",
       "      <td>5</td>\n",
       "    </tr>\n",
       "    <tr>\n",
       "      <th>2018-06-01</th>\n",
       "      <td>3</td>\n",
       "      <td>3</td>\n",
       "      <td>3</td>\n",
       "    </tr>\n",
       "    <tr>\n",
       "      <th>2018-07-01</th>\n",
       "      <td>1</td>\n",
       "      <td>1</td>\n",
       "      <td>1</td>\n",
       "    </tr>\n",
       "    <tr>\n",
       "      <th>2018-08-01</th>\n",
       "      <td>7</td>\n",
       "      <td>7</td>\n",
       "      <td>7</td>\n",
       "    </tr>\n",
       "    <tr>\n",
       "      <th>2018-09-01</th>\n",
       "      <td>7</td>\n",
       "      <td>7</td>\n",
       "      <td>7</td>\n",
       "    </tr>\n",
       "    <tr>\n",
       "      <th>2018-10-01</th>\n",
       "      <td>2</td>\n",
       "      <td>2</td>\n",
       "      <td>2</td>\n",
       "    </tr>\n",
       "    <tr>\n",
       "      <th>2018-11-01</th>\n",
       "      <td>3</td>\n",
       "      <td>3</td>\n",
       "      <td>3</td>\n",
       "    </tr>\n",
       "    <tr>\n",
       "      <th>2018-12-01</th>\n",
       "      <td>2</td>\n",
       "      <td>2</td>\n",
       "      <td>2</td>\n",
       "    </tr>\n",
       "    <tr>\n",
       "      <th>2019-01-01</th>\n",
       "      <td>4</td>\n",
       "      <td>4</td>\n",
       "      <td>4</td>\n",
       "    </tr>\n",
       "    <tr>\n",
       "      <th>2019-02-01</th>\n",
       "      <td>5</td>\n",
       "      <td>5</td>\n",
       "      <td>5</td>\n",
       "    </tr>\n",
       "    <tr>\n",
       "      <th>2019-03-01</th>\n",
       "      <td>3</td>\n",
       "      <td>3</td>\n",
       "      <td>3</td>\n",
       "    </tr>\n",
       "    <tr>\n",
       "      <th>2019-04-01</th>\n",
       "      <td>7</td>\n",
       "      <td>7</td>\n",
       "      <td>7</td>\n",
       "    </tr>\n",
       "    <tr>\n",
       "      <th>2019-05-01</th>\n",
       "      <td>2</td>\n",
       "      <td>2</td>\n",
       "      <td>2</td>\n",
       "    </tr>\n",
       "    <tr>\n",
       "      <th>2019-06-01</th>\n",
       "      <td>9</td>\n",
       "      <td>9</td>\n",
       "      <td>9</td>\n",
       "    </tr>\n",
       "    <tr>\n",
       "      <th>2019-07-01</th>\n",
       "      <td>2</td>\n",
       "      <td>2</td>\n",
       "      <td>2</td>\n",
       "    </tr>\n",
       "    <tr>\n",
       "      <th>2019-08-01</th>\n",
       "      <td>4</td>\n",
       "      <td>4</td>\n",
       "      <td>4</td>\n",
       "    </tr>\n",
       "    <tr>\n",
       "      <th>2019-09-01</th>\n",
       "      <td>3</td>\n",
       "      <td>3</td>\n",
       "      <td>3</td>\n",
       "    </tr>\n",
       "  </tbody>\n",
       "</table>\n",
       "<p>106 rows × 3 columns</p>\n",
       "</div>"
      ],
      "text/plain": [
       "            competitionId  rewardQuantity  cat\n",
       "period                                        \n",
       "2010-05-01              1               1    1\n",
       "2010-06-01              1               1    1\n",
       "2010-08-01              1               1    1\n",
       "2010-09-01              1               1    1\n",
       "2010-10-01              1               1    1\n",
       "2010-11-01              2               2    2\n",
       "2011-01-01              1               1    1\n",
       "2011-02-01              3               3    3\n",
       "2011-03-01              1               1    1\n",
       "2011-04-01              1               1    1\n",
       "2011-05-01              2               2    2\n",
       "2011-08-01              1               1    1\n",
       "2011-09-01              2               2    2\n",
       "2011-10-01              2               2    2\n",
       "2011-11-01              1               1    1\n",
       "2011-12-01              1               1    1\n",
       "2012-01-01              2               2    2\n",
       "2012-02-01              1               1    1\n",
       "2012-04-01              6               6    6\n",
       "2012-06-01              5               5    5\n",
       "2012-07-01              3               3    3\n",
       "2012-08-01              1               1    1\n",
       "2012-09-01              8               8    8\n",
       "2012-10-01              3               3    3\n",
       "2012-11-01              3               3    3\n",
       "2012-12-01              2               2    2\n",
       "2013-01-01              1               1    1\n",
       "2013-02-01              3               3    3\n",
       "2013-03-01              1               1    1\n",
       "2013-04-01              7               7    7\n",
       "...                   ...             ...  ...\n",
       "2017-03-01              4               4    4\n",
       "2017-04-01              4               4    4\n",
       "2017-06-01              5               5    5\n",
       "2017-07-01              4               4    4\n",
       "2017-08-01              2               2    2\n",
       "2017-09-01              2               2    2\n",
       "2017-10-01              4               4    4\n",
       "2017-11-01              4               4    4\n",
       "2017-12-01              5               5    5\n",
       "2018-01-01              5               5    5\n",
       "2018-02-01              5               5    5\n",
       "2018-03-01              2               2    2\n",
       "2018-04-01              4               4    4\n",
       "2018-05-01              5               5    5\n",
       "2018-06-01              3               3    3\n",
       "2018-07-01              1               1    1\n",
       "2018-08-01              7               7    7\n",
       "2018-09-01              7               7    7\n",
       "2018-10-01              2               2    2\n",
       "2018-11-01              3               3    3\n",
       "2018-12-01              2               2    2\n",
       "2019-01-01              4               4    4\n",
       "2019-02-01              5               5    5\n",
       "2019-03-01              3               3    3\n",
       "2019-04-01              7               7    7\n",
       "2019-05-01              2               2    2\n",
       "2019-06-01              9               9    9\n",
       "2019-07-01              2               2    2\n",
       "2019-08-01              4               4    4\n",
       "2019-09-01              3               3    3\n",
       "\n",
       "[106 rows x 3 columns]"
      ]
     },
     "execution_count": 106,
     "metadata": {},
     "output_type": "execute_result"
    }
   ],
   "source": [
    "comp_df.groupby(by=['period']).count()"
   ]
  },
  {
   "cell_type": "code",
   "execution_count": 115,
   "metadata": {
    "ExecuteTime": {
     "end_time": "2019-10-03T02:42:21.034609Z",
     "start_time": "2019-10-03T02:42:20.987610Z"
    }
   },
   "outputs": [
    {
     "data": {
      "text/plain": [
       "DatetimeIndex(['2010-03-31', '2010-09-30', '2011-03-31', '2011-09-30',\n",
       "               '2012-03-31', '2012-09-30', '2013-03-31', '2013-09-30',\n",
       "               '2014-03-31', '2014-09-30', '2015-03-31', '2015-09-30',\n",
       "               '2016-03-31', '2016-09-30', '2017-03-31', '2017-09-30',\n",
       "               '2018-03-31', '2018-09-30', '2019-03-31', '2019-09-30'],\n",
       "              dtype='datetime64[ns]', freq='6M')"
      ]
     },
     "execution_count": 115,
     "metadata": {},
     "output_type": "execute_result"
    }
   ],
   "source": [
    "bins = pd.date_range(start='2010-3-1', end='2019-12-1', freq='6M')\n",
    "bins"
   ]
  },
  {
   "cell_type": "code",
   "execution_count": 112,
   "metadata": {
    "ExecuteTime": {
     "end_time": "2019-10-03T02:42:06.147539Z",
     "start_time": "2019-10-03T02:42:06.098537Z"
    }
   },
   "outputs": [
    {
     "name": "stdout",
     "output_type": "stream",
     "text": [
      "<class 'pandas.core.frame.DataFrame'>\n",
      "Int64Index: 326 entries, 1 to 123813\n",
      "Data columns (total 4 columns):\n",
      "competitionId     326 non-null int64\n",
      "rewardQuantity    326 non-null float64\n",
      "period            326 non-null datetime64[ns]\n",
      "cat               326 non-null category\n",
      "dtypes: category(1), datetime64[ns](1), float64(1), int64(1)\n",
      "memory usage: 11.1 KB\n"
     ]
    }
   ],
   "source": [
    "comp_df['period'] = pd.to_datetime(comp_df['period'])\n",
    "comp_df.info()"
   ]
  },
  {
   "cell_type": "code",
   "execution_count": 116,
   "metadata": {
    "ExecuteTime": {
     "end_time": "2019-10-03T02:42:26.558896Z",
     "start_time": "2019-10-03T02:42:26.500892Z"
    }
   },
   "outputs": [
    {
     "data": {
      "text/html": [
       "<div>\n",
       "<style scoped>\n",
       "    .dataframe tbody tr th:only-of-type {\n",
       "        vertical-align: middle;\n",
       "    }\n",
       "\n",
       "    .dataframe tbody tr th {\n",
       "        vertical-align: top;\n",
       "    }\n",
       "\n",
       "    .dataframe thead th {\n",
       "        text-align: right;\n",
       "    }\n",
       "</style>\n",
       "<table border=\"1\" class=\"dataframe\">\n",
       "  <thead>\n",
       "    <tr style=\"text-align: right;\">\n",
       "      <th></th>\n",
       "      <th>competitionId</th>\n",
       "      <th>rewardQuantity</th>\n",
       "      <th>period</th>\n",
       "      <th>cat</th>\n",
       "    </tr>\n",
       "  </thead>\n",
       "  <tbody>\n",
       "    <tr>\n",
       "      <th>1</th>\n",
       "      <td>4852</td>\n",
       "      <td>30000.0</td>\n",
       "      <td>2016-04-01</td>\n",
       "      <td>(2016-03-31, 2016-09-30]</td>\n",
       "    </tr>\n",
       "    <tr>\n",
       "      <th>2</th>\n",
       "      <td>5174</td>\n",
       "      <td>20000.0</td>\n",
       "      <td>2016-07-01</td>\n",
       "      <td>(2016-03-31, 2016-09-30]</td>\n",
       "    </tr>\n",
       "    <tr>\n",
       "      <th>3</th>\n",
       "      <td>5261</td>\n",
       "      <td>50000.0</td>\n",
       "      <td>2016-09-01</td>\n",
       "      <td>(2016-03-31, 2016-09-30]</td>\n",
       "    </tr>\n",
       "    <tr>\n",
       "      <th>4</th>\n",
       "      <td>5325</td>\n",
       "      <td>1.0</td>\n",
       "      <td>2016-12-01</td>\n",
       "      <td>(2016-09-30, 2017-03-31]</td>\n",
       "    </tr>\n",
       "    <tr>\n",
       "      <th>5</th>\n",
       "      <td>5340</td>\n",
       "      <td>25000.0</td>\n",
       "      <td>2016-09-01</td>\n",
       "      <td>(2016-03-31, 2016-09-30]</td>\n",
       "    </tr>\n",
       "  </tbody>\n",
       "</table>\n",
       "</div>"
      ],
      "text/plain": [
       "   competitionId  rewardQuantity     period                       cat\n",
       "1           4852         30000.0 2016-04-01  (2016-03-31, 2016-09-30]\n",
       "2           5174         20000.0 2016-07-01  (2016-03-31, 2016-09-30]\n",
       "3           5261         50000.0 2016-09-01  (2016-03-31, 2016-09-30]\n",
       "4           5325             1.0 2016-12-01  (2016-09-30, 2017-03-31]\n",
       "5           5340         25000.0 2016-09-01  (2016-03-31, 2016-09-30]"
      ]
     },
     "execution_count": 116,
     "metadata": {},
     "output_type": "execute_result"
    }
   ],
   "source": [
    "comp_df['cat'] = pd.cut(comp_df['period'], bins)\n",
    "comp_df.head()"
   ]
  },
  {
   "cell_type": "code",
   "execution_count": 117,
   "metadata": {
    "ExecuteTime": {
     "end_time": "2019-10-03T02:42:27.443168Z",
     "start_time": "2019-10-03T02:42:27.389158Z"
    }
   },
   "outputs": [
    {
     "data": {
      "text/html": [
       "<div>\n",
       "<style scoped>\n",
       "    .dataframe tbody tr th:only-of-type {\n",
       "        vertical-align: middle;\n",
       "    }\n",
       "\n",
       "    .dataframe tbody tr th {\n",
       "        vertical-align: top;\n",
       "    }\n",
       "\n",
       "    .dataframe thead th {\n",
       "        text-align: right;\n",
       "    }\n",
       "</style>\n",
       "<table border=\"1\" class=\"dataframe\">\n",
       "  <thead>\n",
       "    <tr style=\"text-align: right;\">\n",
       "      <th></th>\n",
       "      <th>competitionId</th>\n",
       "      <th>rewardQuantity</th>\n",
       "      <th>period</th>\n",
       "    </tr>\n",
       "    <tr>\n",
       "      <th>cat</th>\n",
       "      <th></th>\n",
       "      <th></th>\n",
       "      <th></th>\n",
       "    </tr>\n",
       "  </thead>\n",
       "  <tbody>\n",
       "    <tr>\n",
       "      <th>(2010-03-31, 2010-09-30]</th>\n",
       "      <td>4</td>\n",
       "      <td>4</td>\n",
       "      <td>4</td>\n",
       "    </tr>\n",
       "    <tr>\n",
       "      <th>(2010-09-30, 2011-03-31]</th>\n",
       "      <td>8</td>\n",
       "      <td>8</td>\n",
       "      <td>8</td>\n",
       "    </tr>\n",
       "    <tr>\n",
       "      <th>(2011-03-31, 2011-09-30]</th>\n",
       "      <td>6</td>\n",
       "      <td>6</td>\n",
       "      <td>6</td>\n",
       "    </tr>\n",
       "    <tr>\n",
       "      <th>(2011-09-30, 2012-03-31]</th>\n",
       "      <td>7</td>\n",
       "      <td>7</td>\n",
       "      <td>7</td>\n",
       "    </tr>\n",
       "    <tr>\n",
       "      <th>(2012-03-31, 2012-09-30]</th>\n",
       "      <td>23</td>\n",
       "      <td>23</td>\n",
       "      <td>23</td>\n",
       "    </tr>\n",
       "    <tr>\n",
       "      <th>(2012-09-30, 2013-03-31]</th>\n",
       "      <td>13</td>\n",
       "      <td>13</td>\n",
       "      <td>13</td>\n",
       "    </tr>\n",
       "    <tr>\n",
       "      <th>(2013-03-31, 2013-09-30]</th>\n",
       "      <td>23</td>\n",
       "      <td>23</td>\n",
       "      <td>23</td>\n",
       "    </tr>\n",
       "    <tr>\n",
       "      <th>(2013-09-30, 2014-03-31]</th>\n",
       "      <td>17</td>\n",
       "      <td>17</td>\n",
       "      <td>17</td>\n",
       "    </tr>\n",
       "    <tr>\n",
       "      <th>(2014-03-31, 2014-09-30]</th>\n",
       "      <td>20</td>\n",
       "      <td>20</td>\n",
       "      <td>20</td>\n",
       "    </tr>\n",
       "    <tr>\n",
       "      <th>(2014-09-30, 2015-03-31]</th>\n",
       "      <td>13</td>\n",
       "      <td>13</td>\n",
       "      <td>13</td>\n",
       "    </tr>\n",
       "    <tr>\n",
       "      <th>(2015-03-31, 2015-09-30]</th>\n",
       "      <td>25</td>\n",
       "      <td>25</td>\n",
       "      <td>25</td>\n",
       "    </tr>\n",
       "    <tr>\n",
       "      <th>(2015-09-30, 2016-03-31]</th>\n",
       "      <td>19</td>\n",
       "      <td>19</td>\n",
       "      <td>19</td>\n",
       "    </tr>\n",
       "    <tr>\n",
       "      <th>(2016-03-31, 2016-09-30]</th>\n",
       "      <td>17</td>\n",
       "      <td>17</td>\n",
       "      <td>17</td>\n",
       "    </tr>\n",
       "    <tr>\n",
       "      <th>(2016-09-30, 2017-03-31]</th>\n",
       "      <td>16</td>\n",
       "      <td>16</td>\n",
       "      <td>16</td>\n",
       "    </tr>\n",
       "    <tr>\n",
       "      <th>(2017-03-31, 2017-09-30]</th>\n",
       "      <td>17</td>\n",
       "      <td>17</td>\n",
       "      <td>17</td>\n",
       "    </tr>\n",
       "    <tr>\n",
       "      <th>(2017-09-30, 2018-03-31]</th>\n",
       "      <td>25</td>\n",
       "      <td>25</td>\n",
       "      <td>25</td>\n",
       "    </tr>\n",
       "    <tr>\n",
       "      <th>(2018-03-31, 2018-09-30]</th>\n",
       "      <td>27</td>\n",
       "      <td>27</td>\n",
       "      <td>27</td>\n",
       "    </tr>\n",
       "    <tr>\n",
       "      <th>(2018-09-30, 2019-03-31]</th>\n",
       "      <td>19</td>\n",
       "      <td>19</td>\n",
       "      <td>19</td>\n",
       "    </tr>\n",
       "    <tr>\n",
       "      <th>(2019-03-31, 2019-09-30]</th>\n",
       "      <td>27</td>\n",
       "      <td>27</td>\n",
       "      <td>27</td>\n",
       "    </tr>\n",
       "  </tbody>\n",
       "</table>\n",
       "</div>"
      ],
      "text/plain": [
       "                          competitionId  rewardQuantity  period\n",
       "cat                                                            \n",
       "(2010-03-31, 2010-09-30]              4               4       4\n",
       "(2010-09-30, 2011-03-31]              8               8       8\n",
       "(2011-03-31, 2011-09-30]              6               6       6\n",
       "(2011-09-30, 2012-03-31]              7               7       7\n",
       "(2012-03-31, 2012-09-30]             23              23      23\n",
       "(2012-09-30, 2013-03-31]             13              13      13\n",
       "(2013-03-31, 2013-09-30]             23              23      23\n",
       "(2013-09-30, 2014-03-31]             17              17      17\n",
       "(2014-03-31, 2014-09-30]             20              20      20\n",
       "(2014-09-30, 2015-03-31]             13              13      13\n",
       "(2015-03-31, 2015-09-30]             25              25      25\n",
       "(2015-09-30, 2016-03-31]             19              19      19\n",
       "(2016-03-31, 2016-09-30]             17              17      17\n",
       "(2016-09-30, 2017-03-31]             16              16      16\n",
       "(2017-03-31, 2017-09-30]             17              17      17\n",
       "(2017-09-30, 2018-03-31]             25              25      25\n",
       "(2018-03-31, 2018-09-30]             27              27      27\n",
       "(2018-09-30, 2019-03-31]             19              19      19\n",
       "(2019-03-31, 2019-09-30]             27              27      27"
      ]
     },
     "execution_count": 117,
     "metadata": {},
     "output_type": "execute_result"
    }
   ],
   "source": [
    "comp_df.groupby(by=['cat']).count()"
   ]
  },
  {
   "cell_type": "code",
   "execution_count": 21,
   "metadata": {
    "ExecuteTime": {
     "end_time": "2019-09-24T13:20:31.903698Z",
     "start_time": "2019-09-24T13:20:31.642667Z"
    }
   },
   "outputs": [
    {
     "data": {
      "text/html": [
       "<div>\n",
       "<style scoped>\n",
       "    .dataframe tbody tr th:only-of-type {\n",
       "        vertical-align: middle;\n",
       "    }\n",
       "\n",
       "    .dataframe tbody tr th {\n",
       "        vertical-align: top;\n",
       "    }\n",
       "\n",
       "    .dataframe thead th {\n",
       "        text-align: right;\n",
       "    }\n",
       "</style>\n",
       "<table border=\"1\" class=\"dataframe\">\n",
       "  <thead>\n",
       "    <tr style=\"text-align: right;\">\n",
       "      <th></th>\n",
       "      <th>name</th>\n",
       "      <th>competitionId</th>\n",
       "      <th>deadline</th>\n",
       "      <th>rank</th>\n",
       "      <th>score</th>\n",
       "      <th>rewardQuantity</th>\n",
       "      <th>tier</th>\n",
       "    </tr>\n",
       "  </thead>\n",
       "  <tbody>\n",
       "    <tr>\n",
       "      <th>1</th>\n",
       "      <td>CVxTz</td>\n",
       "      <td>4852</td>\n",
       "      <td>2016-04-18 23:59:00+00:00</td>\n",
       "      <td>1753.0</td>\n",
       "      <td>0.46184</td>\n",
       "      <td>30000.0</td>\n",
       "      <td>expert</td>\n",
       "    </tr>\n",
       "    <tr>\n",
       "      <th>2</th>\n",
       "      <td>CVxTz</td>\n",
       "      <td>5174</td>\n",
       "      <td>2016-07-11 23:59:00+00:00</td>\n",
       "      <td>34.0</td>\n",
       "      <td>0.93114</td>\n",
       "      <td>20000.0</td>\n",
       "      <td>expert</td>\n",
       "    </tr>\n",
       "    <tr>\n",
       "      <th>5</th>\n",
       "      <td>CVxTz</td>\n",
       "      <td>5340</td>\n",
       "      <td>2016-09-05 23:59:00+00:00</td>\n",
       "      <td>111.0</td>\n",
       "      <td>2.23255</td>\n",
       "      <td>25000.0</td>\n",
       "      <td>expert</td>\n",
       "    </tr>\n",
       "    <tr>\n",
       "      <th>3</th>\n",
       "      <td>CVxTz</td>\n",
       "      <td>5261</td>\n",
       "      <td>2016-09-19 23:59:00+00:00</td>\n",
       "      <td>389.0</td>\n",
       "      <td>0.99168</td>\n",
       "      <td>50000.0</td>\n",
       "      <td>expert</td>\n",
       "    </tr>\n",
       "    <tr>\n",
       "      <th>4</th>\n",
       "      <td>CVxTz</td>\n",
       "      <td>5325</td>\n",
       "      <td>2016-12-12 23:59:00+00:00</td>\n",
       "      <td>27.0</td>\n",
       "      <td>1112.12520</td>\n",
       "      <td>1.0</td>\n",
       "      <td>expert</td>\n",
       "    </tr>\n",
       "    <tr>\n",
       "      <th>8</th>\n",
       "      <td>CVxTz</td>\n",
       "      <td>5977</td>\n",
       "      <td>2017-01-30 23:59:00+00:00</td>\n",
       "      <td>235.0</td>\n",
       "      <td>35987.14716</td>\n",
       "      <td>0.0</td>\n",
       "      <td>expert</td>\n",
       "    </tr>\n",
       "    <tr>\n",
       "      <th>7</th>\n",
       "      <td>CVxTz</td>\n",
       "      <td>5874</td>\n",
       "      <td>2017-03-01 23:59:00+00:00</td>\n",
       "      <td>430.0</td>\n",
       "      <td>0.01790</td>\n",
       "      <td>100000.0</td>\n",
       "      <td>expert</td>\n",
       "    </tr>\n",
       "    <tr>\n",
       "      <th>6</th>\n",
       "      <td>CVxTz</td>\n",
       "      <td>5590</td>\n",
       "      <td>2017-04-25 23:59:00+00:00</td>\n",
       "      <td>454.0</td>\n",
       "      <td>0.52079</td>\n",
       "      <td>1.0</td>\n",
       "      <td>expert</td>\n",
       "    </tr>\n",
       "    <tr>\n",
       "      <th>9</th>\n",
       "      <td>CVxTz</td>\n",
       "      <td>6277</td>\n",
       "      <td>2017-06-06 23:59:00+00:00</td>\n",
       "      <td>73.0</td>\n",
       "      <td>0.14094</td>\n",
       "      <td>25000.0</td>\n",
       "      <td>expert</td>\n",
       "    </tr>\n",
       "    <tr>\n",
       "      <th>10</th>\n",
       "      <td>CVxTz</td>\n",
       "      <td>6392</td>\n",
       "      <td>2017-06-29 23:59:00+00:00</td>\n",
       "      <td>408.0</td>\n",
       "      <td>0.31650</td>\n",
       "      <td>25000.0</td>\n",
       "      <td>expert</td>\n",
       "    </tr>\n",
       "  </tbody>\n",
       "</table>\n",
       "</div>"
      ],
      "text/plain": [
       "     name  competitionId                   deadline    rank        score  \\\n",
       "1   CVxTz           4852  2016-04-18 23:59:00+00:00  1753.0      0.46184   \n",
       "2   CVxTz           5174  2016-07-11 23:59:00+00:00    34.0      0.93114   \n",
       "5   CVxTz           5340  2016-09-05 23:59:00+00:00   111.0      2.23255   \n",
       "3   CVxTz           5261  2016-09-19 23:59:00+00:00   389.0      0.99168   \n",
       "4   CVxTz           5325  2016-12-12 23:59:00+00:00    27.0   1112.12520   \n",
       "8   CVxTz           5977  2017-01-30 23:59:00+00:00   235.0  35987.14716   \n",
       "7   CVxTz           5874  2017-03-01 23:59:00+00:00   430.0      0.01790   \n",
       "6   CVxTz           5590  2017-04-25 23:59:00+00:00   454.0      0.52079   \n",
       "9   CVxTz           6277  2017-06-06 23:59:00+00:00    73.0      0.14094   \n",
       "10  CVxTz           6392  2017-06-29 23:59:00+00:00   408.0      0.31650   \n",
       "\n",
       "    rewardQuantity    tier  \n",
       "1          30000.0  expert  \n",
       "2          20000.0  expert  \n",
       "5          25000.0  expert  \n",
       "3          50000.0  expert  \n",
       "4              1.0  expert  \n",
       "8              0.0  expert  \n",
       "7         100000.0  expert  \n",
       "6              1.0  expert  \n",
       "9          25000.0  expert  \n",
       "10         25000.0  expert  "
      ]
     },
     "execution_count": 21,
     "metadata": {},
     "output_type": "execute_result"
    }
   ],
   "source": [
    "item_df = item_df.sort_values(by=['name', 'deadline'])\n",
    "item_df.head(10)"
   ]
  },
  {
   "cell_type": "code",
   "execution_count": 22,
   "metadata": {
    "ExecuteTime": {
     "end_time": "2019-09-24T13:20:49.969750Z",
     "start_time": "2019-09-24T13:20:49.922751Z"
    }
   },
   "outputs": [],
   "source": [
    "new_cols = ['previousId', 'previousReward']\n",
    "pre_cols = ['previousId', 'previousReward', 'rank', 'score', 'tier']\n",
    "pre_cont_cols = ['rank', 'score', 'rewardQuantity', 'previousReward']"
   ]
  },
  {
   "cell_type": "code",
   "execution_count": 24,
   "metadata": {
    "ExecuteTime": {
     "end_time": "2019-09-24T13:20:55.376044Z",
     "start_time": "2019-09-24T13:20:55.299038Z"
    }
   },
   "outputs": [
    {
     "data": {
      "text/html": [
       "<div>\n",
       "<style scoped>\n",
       "    .dataframe tbody tr th:only-of-type {\n",
       "        vertical-align: middle;\n",
       "    }\n",
       "\n",
       "    .dataframe tbody tr th {\n",
       "        vertical-align: top;\n",
       "    }\n",
       "\n",
       "    .dataframe thead th {\n",
       "        text-align: right;\n",
       "    }\n",
       "</style>\n",
       "<table border=\"1\" class=\"dataframe\">\n",
       "  <thead>\n",
       "    <tr style=\"text-align: right;\">\n",
       "      <th></th>\n",
       "      <th>1</th>\n",
       "      <th>2</th>\n",
       "      <th>5</th>\n",
       "      <th>3</th>\n",
       "      <th>4</th>\n",
       "    </tr>\n",
       "  </thead>\n",
       "  <tbody>\n",
       "    <tr>\n",
       "      <th>name</th>\n",
       "      <td>CVxTz</td>\n",
       "      <td>CVxTz</td>\n",
       "      <td>CVxTz</td>\n",
       "      <td>CVxTz</td>\n",
       "      <td>CVxTz</td>\n",
       "    </tr>\n",
       "    <tr>\n",
       "      <th>competitionId</th>\n",
       "      <td>4852</td>\n",
       "      <td>5174</td>\n",
       "      <td>5340</td>\n",
       "      <td>5261</td>\n",
       "      <td>5325</td>\n",
       "    </tr>\n",
       "    <tr>\n",
       "      <th>deadline</th>\n",
       "      <td>2016-04-18 23:59:00+00:00</td>\n",
       "      <td>2016-07-11 23:59:00+00:00</td>\n",
       "      <td>2016-09-05 23:59:00+00:00</td>\n",
       "      <td>2016-09-19 23:59:00+00:00</td>\n",
       "      <td>2016-12-12 23:59:00+00:00</td>\n",
       "    </tr>\n",
       "    <tr>\n",
       "      <th>rank</th>\n",
       "      <td>1753</td>\n",
       "      <td>34</td>\n",
       "      <td>111</td>\n",
       "      <td>389</td>\n",
       "      <td>27</td>\n",
       "    </tr>\n",
       "    <tr>\n",
       "      <th>score</th>\n",
       "      <td>0.46184</td>\n",
       "      <td>0.93114</td>\n",
       "      <td>2.23255</td>\n",
       "      <td>0.99168</td>\n",
       "      <td>1112.13</td>\n",
       "    </tr>\n",
       "    <tr>\n",
       "      <th>rewardQuantity</th>\n",
       "      <td>30000</td>\n",
       "      <td>20000</td>\n",
       "      <td>25000</td>\n",
       "      <td>50000</td>\n",
       "      <td>1</td>\n",
       "    </tr>\n",
       "    <tr>\n",
       "      <th>tier</th>\n",
       "      <td>expert</td>\n",
       "      <td>expert</td>\n",
       "      <td>expert</td>\n",
       "      <td>expert</td>\n",
       "      <td>expert</td>\n",
       "    </tr>\n",
       "    <tr>\n",
       "      <th>previousId</th>\n",
       "      <td>4852</td>\n",
       "      <td>5174</td>\n",
       "      <td>5340</td>\n",
       "      <td>5261</td>\n",
       "      <td>5325</td>\n",
       "    </tr>\n",
       "    <tr>\n",
       "      <th>previousReward</th>\n",
       "      <td>30000</td>\n",
       "      <td>20000</td>\n",
       "      <td>25000</td>\n",
       "      <td>50000</td>\n",
       "      <td>1</td>\n",
       "    </tr>\n",
       "  </tbody>\n",
       "</table>\n",
       "</div>"
      ],
      "text/plain": [
       "                                        1                          2  \\\n",
       "name                                CVxTz                      CVxTz   \n",
       "competitionId                        4852                       5174   \n",
       "deadline        2016-04-18 23:59:00+00:00  2016-07-11 23:59:00+00:00   \n",
       "rank                                 1753                         34   \n",
       "score                             0.46184                    0.93114   \n",
       "rewardQuantity                      30000                      20000   \n",
       "tier                               expert                     expert   \n",
       "previousId                           4852                       5174   \n",
       "previousReward                      30000                      20000   \n",
       "\n",
       "                                        5                          3  \\\n",
       "name                                CVxTz                      CVxTz   \n",
       "competitionId                        5340                       5261   \n",
       "deadline        2016-09-05 23:59:00+00:00  2016-09-19 23:59:00+00:00   \n",
       "rank                                  111                        389   \n",
       "score                             2.23255                    0.99168   \n",
       "rewardQuantity                      25000                      50000   \n",
       "tier                               expert                     expert   \n",
       "previousId                           5340                       5261   \n",
       "previousReward                      25000                      50000   \n",
       "\n",
       "                                        4  \n",
       "name                                CVxTz  \n",
       "competitionId                        5325  \n",
       "deadline        2016-12-12 23:59:00+00:00  \n",
       "rank                                   27  \n",
       "score                             1112.13  \n",
       "rewardQuantity                          1  \n",
       "tier                               expert  \n",
       "previousId                           5325  \n",
       "previousReward                          1  "
      ]
     },
     "execution_count": 24,
     "metadata": {},
     "output_type": "execute_result"
    }
   ],
   "source": [
    "item_df[new_cols] = item_df[['competitionId', 'rewardQuantity']]\n",
    "item_df.head().T"
   ]
  },
  {
   "cell_type": "code",
   "execution_count": 25,
   "metadata": {
    "ExecuteTime": {
     "end_time": "2019-09-24T13:21:07.239122Z",
     "start_time": "2019-09-24T13:21:07.147124Z"
    }
   },
   "outputs": [
    {
     "data": {
      "text/html": [
       "<div>\n",
       "<style scoped>\n",
       "    .dataframe tbody tr th:only-of-type {\n",
       "        vertical-align: middle;\n",
       "    }\n",
       "\n",
       "    .dataframe tbody tr th {\n",
       "        vertical-align: top;\n",
       "    }\n",
       "\n",
       "    .dataframe thead th {\n",
       "        text-align: right;\n",
       "    }\n",
       "</style>\n",
       "<table border=\"1\" class=\"dataframe\">\n",
       "  <thead>\n",
       "    <tr style=\"text-align: right;\">\n",
       "      <th></th>\n",
       "      <th>1</th>\n",
       "      <th>2</th>\n",
       "      <th>5</th>\n",
       "      <th>3</th>\n",
       "      <th>4</th>\n",
       "    </tr>\n",
       "  </thead>\n",
       "  <tbody>\n",
       "    <tr>\n",
       "      <th>name</th>\n",
       "      <td>CVxTz</td>\n",
       "      <td>CVxTz</td>\n",
       "      <td>CVxTz</td>\n",
       "      <td>CVxTz</td>\n",
       "      <td>CVxTz</td>\n",
       "    </tr>\n",
       "    <tr>\n",
       "      <th>competitionId</th>\n",
       "      <td>4852</td>\n",
       "      <td>5174</td>\n",
       "      <td>5340</td>\n",
       "      <td>5261</td>\n",
       "      <td>5325</td>\n",
       "    </tr>\n",
       "    <tr>\n",
       "      <th>deadline</th>\n",
       "      <td>2016-04-18 23:59:00+00:00</td>\n",
       "      <td>2016-07-11 23:59:00+00:00</td>\n",
       "      <td>2016-09-05 23:59:00+00:00</td>\n",
       "      <td>2016-09-19 23:59:00+00:00</td>\n",
       "      <td>2016-12-12 23:59:00+00:00</td>\n",
       "    </tr>\n",
       "    <tr>\n",
       "      <th>rank</th>\n",
       "      <td>NaN</td>\n",
       "      <td>1753</td>\n",
       "      <td>34</td>\n",
       "      <td>111</td>\n",
       "      <td>389</td>\n",
       "    </tr>\n",
       "    <tr>\n",
       "      <th>score</th>\n",
       "      <td>NaN</td>\n",
       "      <td>0.46184</td>\n",
       "      <td>0.93114</td>\n",
       "      <td>2.23255</td>\n",
       "      <td>0.99168</td>\n",
       "    </tr>\n",
       "    <tr>\n",
       "      <th>rewardQuantity</th>\n",
       "      <td>30000</td>\n",
       "      <td>20000</td>\n",
       "      <td>25000</td>\n",
       "      <td>50000</td>\n",
       "      <td>1</td>\n",
       "    </tr>\n",
       "    <tr>\n",
       "      <th>tier</th>\n",
       "      <td>NaN</td>\n",
       "      <td>expert</td>\n",
       "      <td>expert</td>\n",
       "      <td>expert</td>\n",
       "      <td>expert</td>\n",
       "    </tr>\n",
       "    <tr>\n",
       "      <th>previousId</th>\n",
       "      <td>NaN</td>\n",
       "      <td>4852</td>\n",
       "      <td>5174</td>\n",
       "      <td>5340</td>\n",
       "      <td>5261</td>\n",
       "    </tr>\n",
       "    <tr>\n",
       "      <th>previousReward</th>\n",
       "      <td>NaN</td>\n",
       "      <td>30000</td>\n",
       "      <td>20000</td>\n",
       "      <td>25000</td>\n",
       "      <td>50000</td>\n",
       "    </tr>\n",
       "  </tbody>\n",
       "</table>\n",
       "</div>"
      ],
      "text/plain": [
       "                                        1                          2  \\\n",
       "name                                CVxTz                      CVxTz   \n",
       "competitionId                        4852                       5174   \n",
       "deadline        2016-04-18 23:59:00+00:00  2016-07-11 23:59:00+00:00   \n",
       "rank                                  NaN                       1753   \n",
       "score                                 NaN                    0.46184   \n",
       "rewardQuantity                      30000                      20000   \n",
       "tier                                  NaN                     expert   \n",
       "previousId                            NaN                       4852   \n",
       "previousReward                        NaN                      30000   \n",
       "\n",
       "                                        5                          3  \\\n",
       "name                                CVxTz                      CVxTz   \n",
       "competitionId                        5340                       5261   \n",
       "deadline        2016-09-05 23:59:00+00:00  2016-09-19 23:59:00+00:00   \n",
       "rank                                   34                        111   \n",
       "score                             0.93114                    2.23255   \n",
       "rewardQuantity                      25000                      50000   \n",
       "tier                               expert                     expert   \n",
       "previousId                           5174                       5340   \n",
       "previousReward                      20000                      25000   \n",
       "\n",
       "                                        4  \n",
       "name                                CVxTz  \n",
       "competitionId                        5325  \n",
       "deadline        2016-12-12 23:59:00+00:00  \n",
       "rank                                  389  \n",
       "score                             0.99168  \n",
       "rewardQuantity                          1  \n",
       "tier                               expert  \n",
       "previousId                           5261  \n",
       "previousReward                      50000  "
      ]
     },
     "execution_count": 25,
     "metadata": {},
     "output_type": "execute_result"
    }
   ],
   "source": [
    "item_df[pre_cols] = item_df[pre_cols].shift(periods=1)\n",
    "item_df.head().T"
   ]
  },
  {
   "cell_type": "code",
   "execution_count": 26,
   "metadata": {
    "ExecuteTime": {
     "end_time": "2019-09-24T13:21:18.682389Z",
     "start_time": "2019-09-24T13:21:18.610377Z"
    }
   },
   "outputs": [
    {
     "data": {
      "text/plain": [
       "novice         125365\n",
       "contributor     92105\n",
       "expert          67910\n",
       "master          26331\n",
       "grandmaster      7875\n",
       "staff             280\n",
       "Name: tier, dtype: int64"
      ]
     },
     "execution_count": 26,
     "metadata": {},
     "output_type": "execute_result"
    }
   ],
   "source": [
    "item_df.tier.value_counts()"
   ]
  },
  {
   "cell_type": "code",
   "execution_count": 28,
   "metadata": {
    "ExecuteTime": {
     "end_time": "2019-09-24T13:21:29.662270Z",
     "start_time": "2019-09-24T13:21:29.419269Z"
    }
   },
   "outputs": [
    {
     "data": {
      "text/html": [
       "<div>\n",
       "<style scoped>\n",
       "    .dataframe tbody tr th:only-of-type {\n",
       "        vertical-align: middle;\n",
       "    }\n",
       "\n",
       "    .dataframe tbody tr th {\n",
       "        vertical-align: top;\n",
       "    }\n",
       "\n",
       "    .dataframe thead th {\n",
       "        text-align: right;\n",
       "    }\n",
       "</style>\n",
       "<table border=\"1\" class=\"dataframe\">\n",
       "  <thead>\n",
       "    <tr style=\"text-align: right;\">\n",
       "      <th></th>\n",
       "      <th>1</th>\n",
       "      <th>2</th>\n",
       "      <th>5</th>\n",
       "      <th>3</th>\n",
       "      <th>4</th>\n",
       "    </tr>\n",
       "  </thead>\n",
       "  <tbody>\n",
       "    <tr>\n",
       "      <th>name</th>\n",
       "      <td>CVxTz</td>\n",
       "      <td>CVxTz</td>\n",
       "      <td>CVxTz</td>\n",
       "      <td>CVxTz</td>\n",
       "      <td>CVxTz</td>\n",
       "    </tr>\n",
       "    <tr>\n",
       "      <th>competitionId</th>\n",
       "      <td>4852</td>\n",
       "      <td>5174</td>\n",
       "      <td>5340</td>\n",
       "      <td>5261</td>\n",
       "      <td>5325</td>\n",
       "    </tr>\n",
       "    <tr>\n",
       "      <th>deadline</th>\n",
       "      <td>2016-04-18 23:59:00+00:00</td>\n",
       "      <td>2016-07-11 23:59:00+00:00</td>\n",
       "      <td>2016-09-05 23:59:00+00:00</td>\n",
       "      <td>2016-09-19 23:59:00+00:00</td>\n",
       "      <td>2016-12-12 23:59:00+00:00</td>\n",
       "    </tr>\n",
       "    <tr>\n",
       "      <th>rank</th>\n",
       "      <td>0</td>\n",
       "      <td>1753</td>\n",
       "      <td>34</td>\n",
       "      <td>111</td>\n",
       "      <td>389</td>\n",
       "    </tr>\n",
       "    <tr>\n",
       "      <th>score</th>\n",
       "      <td>0</td>\n",
       "      <td>0.46184</td>\n",
       "      <td>0.93114</td>\n",
       "      <td>2.23255</td>\n",
       "      <td>0.99168</td>\n",
       "    </tr>\n",
       "    <tr>\n",
       "      <th>rewardQuantity</th>\n",
       "      <td>0</td>\n",
       "      <td>20000</td>\n",
       "      <td>25000</td>\n",
       "      <td>50000</td>\n",
       "      <td>1</td>\n",
       "    </tr>\n",
       "    <tr>\n",
       "      <th>tier</th>\n",
       "      <td>none</td>\n",
       "      <td>expert</td>\n",
       "      <td>expert</td>\n",
       "      <td>expert</td>\n",
       "      <td>expert</td>\n",
       "    </tr>\n",
       "    <tr>\n",
       "      <th>previousId</th>\n",
       "      <td>-1</td>\n",
       "      <td>4852</td>\n",
       "      <td>5174</td>\n",
       "      <td>5340</td>\n",
       "      <td>5261</td>\n",
       "    </tr>\n",
       "    <tr>\n",
       "      <th>previousReward</th>\n",
       "      <td>0</td>\n",
       "      <td>30000</td>\n",
       "      <td>20000</td>\n",
       "      <td>25000</td>\n",
       "      <td>50000</td>\n",
       "    </tr>\n",
       "  </tbody>\n",
       "</table>\n",
       "</div>"
      ],
      "text/plain": [
       "                                        1                          2  \\\n",
       "name                                CVxTz                      CVxTz   \n",
       "competitionId                        4852                       5174   \n",
       "deadline        2016-04-18 23:59:00+00:00  2016-07-11 23:59:00+00:00   \n",
       "rank                                    0                       1753   \n",
       "score                                   0                    0.46184   \n",
       "rewardQuantity                          0                      20000   \n",
       "tier                                 none                     expert   \n",
       "previousId                             -1                       4852   \n",
       "previousReward                          0                      30000   \n",
       "\n",
       "                                        5                          3  \\\n",
       "name                                CVxTz                      CVxTz   \n",
       "competitionId                        5340                       5261   \n",
       "deadline        2016-09-05 23:59:00+00:00  2016-09-19 23:59:00+00:00   \n",
       "rank                                   34                        111   \n",
       "score                             0.93114                    2.23255   \n",
       "rewardQuantity                      25000                      50000   \n",
       "tier                               expert                     expert   \n",
       "previousId                           5174                       5340   \n",
       "previousReward                      20000                      25000   \n",
       "\n",
       "                                        4  \n",
       "name                                CVxTz  \n",
       "competitionId                        5325  \n",
       "deadline        2016-12-12 23:59:00+00:00  \n",
       "rank                                  389  \n",
       "score                             0.99168  \n",
       "rewardQuantity                          1  \n",
       "tier                               expert  \n",
       "previousId                           5261  \n",
       "previousReward                      50000  "
      ]
     },
     "execution_count": 28,
     "metadata": {},
     "output_type": "execute_result"
    }
   ],
   "source": [
    "first_mask = item_df.duplicated(subset=['name'], keep='first')\n",
    "item_df['previousId'] = item_df['previousId'].fillna(-1).astype('int64').where(first_mask, -1)\n",
    "item_df[pre_cont_cols] = item_df[pre_cont_cols].where(first_mask, 0.0)\n",
    "item_df['tier'] = item_df['tier'].where(first_mask, 'none')\n",
    "item_df.head().T"
   ]
  },
  {
   "cell_type": "code",
   "execution_count": 30,
   "metadata": {
    "ExecuteTime": {
     "end_time": "2019-09-24T13:21:58.159557Z",
     "start_time": "2019-09-24T13:21:58.100556Z"
    }
   },
   "outputs": [
    {
     "data": {
      "text/html": [
       "<div>\n",
       "<style scoped>\n",
       "    .dataframe tbody tr th:only-of-type {\n",
       "        vertical-align: middle;\n",
       "    }\n",
       "\n",
       "    .dataframe tbody tr th {\n",
       "        vertical-align: top;\n",
       "    }\n",
       "\n",
       "    .dataframe thead th {\n",
       "        text-align: right;\n",
       "    }\n",
       "</style>\n",
       "<table border=\"1\" class=\"dataframe\">\n",
       "  <thead>\n",
       "    <tr style=\"text-align: right;\">\n",
       "      <th></th>\n",
       "      <th>1</th>\n",
       "      <th>56</th>\n",
       "      <th>64</th>\n",
       "      <th>72</th>\n",
       "      <th>90</th>\n",
       "    </tr>\n",
       "  </thead>\n",
       "  <tbody>\n",
       "    <tr>\n",
       "      <th>name</th>\n",
       "      <td>CVxTz</td>\n",
       "      <td>IHenry</td>\n",
       "      <td>MlTnSf</td>\n",
       "      <td>Sorin1970</td>\n",
       "      <td>a105502518</td>\n",
       "    </tr>\n",
       "    <tr>\n",
       "      <th>competitionId</th>\n",
       "      <td>4852</td>\n",
       "      <td>3338</td>\n",
       "      <td>4487</td>\n",
       "      <td>8311</td>\n",
       "      <td>11000</td>\n",
       "    </tr>\n",
       "    <tr>\n",
       "      <th>deadline</th>\n",
       "      <td>2016-04-18 23:59:00+00:00</td>\n",
       "      <td>2013-07-31 23:59:00+00:00</td>\n",
       "      <td>2015-10-19 23:59:00+00:00</td>\n",
       "      <td>2018-04-01 23:59:00+00:00</td>\n",
       "      <td>2019-06-03 23:59:00+00:00</td>\n",
       "    </tr>\n",
       "    <tr>\n",
       "      <th>rank</th>\n",
       "      <td>0</td>\n",
       "      <td>0</td>\n",
       "      <td>0</td>\n",
       "      <td>0</td>\n",
       "      <td>0</td>\n",
       "    </tr>\n",
       "    <tr>\n",
       "      <th>score</th>\n",
       "      <td>0</td>\n",
       "      <td>0</td>\n",
       "      <td>0</td>\n",
       "      <td>0</td>\n",
       "      <td>0</td>\n",
       "    </tr>\n",
       "    <tr>\n",
       "      <th>rewardQuantity</th>\n",
       "      <td>0</td>\n",
       "      <td>0</td>\n",
       "      <td>0</td>\n",
       "      <td>0</td>\n",
       "      <td>0</td>\n",
       "    </tr>\n",
       "    <tr>\n",
       "      <th>tier</th>\n",
       "      <td>none</td>\n",
       "      <td>none</td>\n",
       "      <td>none</td>\n",
       "      <td>none</td>\n",
       "      <td>none</td>\n",
       "    </tr>\n",
       "    <tr>\n",
       "      <th>previousId</th>\n",
       "      <td>-1</td>\n",
       "      <td>-1</td>\n",
       "      <td>-1</td>\n",
       "      <td>-1</td>\n",
       "      <td>-1</td>\n",
       "    </tr>\n",
       "    <tr>\n",
       "      <th>previousReward</th>\n",
       "      <td>0</td>\n",
       "      <td>0</td>\n",
       "      <td>0</td>\n",
       "      <td>0</td>\n",
       "      <td>0</td>\n",
       "    </tr>\n",
       "  </tbody>\n",
       "</table>\n",
       "</div>"
      ],
      "text/plain": [
       "                                       1                          56  \\\n",
       "name                                CVxTz                     IHenry   \n",
       "competitionId                        4852                       3338   \n",
       "deadline        2016-04-18 23:59:00+00:00  2013-07-31 23:59:00+00:00   \n",
       "rank                                    0                          0   \n",
       "score                                   0                          0   \n",
       "rewardQuantity                          0                          0   \n",
       "tier                                 none                       none   \n",
       "previousId                             -1                         -1   \n",
       "previousReward                          0                          0   \n",
       "\n",
       "                                       64                         72  \\\n",
       "name                               MlTnSf                  Sorin1970   \n",
       "competitionId                        4487                       8311   \n",
       "deadline        2015-10-19 23:59:00+00:00  2018-04-01 23:59:00+00:00   \n",
       "rank                                    0                          0   \n",
       "score                                   0                          0   \n",
       "rewardQuantity                          0                          0   \n",
       "tier                                 none                       none   \n",
       "previousId                             -1                         -1   \n",
       "previousReward                          0                          0   \n",
       "\n",
       "                                       90  \n",
       "name                           a105502518  \n",
       "competitionId                       11000  \n",
       "deadline        2019-06-03 23:59:00+00:00  \n",
       "rank                                    0  \n",
       "score                                   0  \n",
       "rewardQuantity                          0  \n",
       "tier                                 none  \n",
       "previousId                             -1  \n",
       "previousReward                          0  "
      ]
     },
     "execution_count": 30,
     "metadata": {},
     "output_type": "execute_result"
    }
   ],
   "source": [
    "item_df[~first_mask].head().T"
   ]
  },
  {
   "cell_type": "code",
   "execution_count": 31,
   "metadata": {
    "ExecuteTime": {
     "end_time": "2019-09-24T13:22:10.679347Z",
     "start_time": "2019-09-24T13:22:10.514346Z"
    }
   },
   "outputs": [
    {
     "data": {
      "text/html": [
       "<div>\n",
       "<style scoped>\n",
       "    .dataframe tbody tr th:only-of-type {\n",
       "        vertical-align: middle;\n",
       "    }\n",
       "\n",
       "    .dataframe tbody tr th {\n",
       "        vertical-align: top;\n",
       "    }\n",
       "\n",
       "    .dataframe thead th {\n",
       "        text-align: right;\n",
       "    }\n",
       "</style>\n",
       "<table border=\"1\" class=\"dataframe\">\n",
       "  <thead>\n",
       "    <tr style=\"text-align: right;\">\n",
       "      <th></th>\n",
       "      <th>name</th>\n",
       "      <th>competitionId</th>\n",
       "      <th>deadline</th>\n",
       "      <th>rank</th>\n",
       "      <th>score</th>\n",
       "      <th>rewardQuantity</th>\n",
       "      <th>tier</th>\n",
       "      <th>previousId</th>\n",
       "      <th>previousReward</th>\n",
       "    </tr>\n",
       "  </thead>\n",
       "  <tbody>\n",
       "  </tbody>\n",
       "</table>\n",
       "</div>"
      ],
      "text/plain": [
       "Empty DataFrame\n",
       "Columns: [name, competitionId, deadline, rank, score, rewardQuantity, tier, previousId, previousReward]\n",
       "Index: []"
      ]
     },
     "execution_count": 31,
     "metadata": {},
     "output_type": "execute_result"
    }
   ],
   "source": [
    "item_df[item_df['score'] == np.inf] = 0\n",
    "item_df[item_df['score'] == np.inf]"
   ]
  },
  {
   "cell_type": "code",
   "execution_count": 32,
   "metadata": {
    "ExecuteTime": {
     "end_time": "2019-09-24T13:22:12.184273Z",
     "start_time": "2019-09-24T13:22:12.130274Z"
    }
   },
   "outputs": [],
   "source": [
    "item_df['tier'] = item_df['tier'].astype('str')"
   ]
  },
  {
   "cell_type": "code",
   "execution_count": 33,
   "metadata": {
    "ExecuteTime": {
     "end_time": "2019-09-24T13:22:12.695497Z",
     "start_time": "2019-09-24T13:22:12.650493Z"
    }
   },
   "outputs": [
    {
     "data": {
      "text/plain": [
       "name               object\n",
       "competitionId       int64\n",
       "deadline           object\n",
       "rank              float64\n",
       "score             float64\n",
       "rewardQuantity    float64\n",
       "tier               object\n",
       "previousId          int64\n",
       "previousReward    float64\n",
       "dtype: object"
      ]
     },
     "execution_count": 33,
     "metadata": {},
     "output_type": "execute_result"
    }
   ],
   "source": [
    "item_df.dtypes"
   ]
  },
  {
   "cell_type": "code",
   "execution_count": 34,
   "metadata": {
    "ExecuteTime": {
     "end_time": "2019-09-24T13:22:15.594431Z",
     "start_time": "2019-09-24T13:22:14.722449Z"
    }
   },
   "outputs": [],
   "source": [
    "from sklearn.preprocessing import OneHotEncoder, MinMaxScaler"
   ]
  },
  {
   "cell_type": "code",
   "execution_count": 35,
   "metadata": {
    "ExecuteTime": {
     "end_time": "2019-09-24T13:22:15.649351Z",
     "start_time": "2019-09-24T13:22:15.595366Z"
    }
   },
   "outputs": [],
   "source": [
    "item_encoder = OneHotEncoder(categories='auto', handle_unknown='ignore')\n",
    "user_encoder = OneHotEncoder(categories='auto', handle_unknown='error')\n",
    "cat_encoder = OneHotEncoder(categories='auto', handle_unknown='error')\n",
    "cont_scaler = MinMaxScaler(feature_range=(0, 1))\n",
    "reward_scaler = MinMaxScaler(feature_range=(0, 1))\n",
    "cont_names = ['rank', 'score']\n",
    "cat_names = ['tier']"
   ]
  },
  {
   "cell_type": "code",
   "execution_count": 36,
   "metadata": {
    "ExecuteTime": {
     "end_time": "2019-09-24T13:22:16.302162Z",
     "start_time": "2019-09-24T13:22:16.234126Z"
    }
   },
   "outputs": [
    {
     "data": {
      "text/plain": [
       "MinMaxScaler(copy=True, feature_range=(0, 1))"
      ]
     },
     "execution_count": 36,
     "metadata": {},
     "output_type": "execute_result"
    }
   ],
   "source": [
    "cont_scaler.fit(item_df[cont_names])"
   ]
  },
  {
   "cell_type": "code",
   "execution_count": 37,
   "metadata": {
    "ExecuteTime": {
     "end_time": "2019-09-24T13:22:16.607885Z",
     "start_time": "2019-09-24T13:22:16.538882Z"
    },
    "scrolled": true
   },
   "outputs": [
    {
     "data": {
      "text/plain": [
       "OneHotEncoder(categorical_features=None, categories='auto', drop=None,\n",
       "              dtype=<class 'numpy.float64'>, handle_unknown='error',\n",
       "              n_values=None, sparse=True)"
      ]
     },
     "execution_count": 37,
     "metadata": {},
     "output_type": "execute_result"
    }
   ],
   "source": [
    "cat_encoder.fit(item_df[cat_names])"
   ]
  },
  {
   "cell_type": "code",
   "execution_count": 38,
   "metadata": {
    "ExecuteTime": {
     "end_time": "2019-09-24T13:22:16.893798Z",
     "start_time": "2019-09-24T13:22:16.826515Z"
    },
    "scrolled": true
   },
   "outputs": [
    {
     "data": {
      "text/plain": [
       "OneHotEncoder(categorical_features=None, categories='auto', drop=None,\n",
       "              dtype=<class 'numpy.float64'>, handle_unknown='ignore',\n",
       "              n_values=None, sparse=True)"
      ]
     },
     "execution_count": 38,
     "metadata": {},
     "output_type": "execute_result"
    }
   ],
   "source": [
    "item_encoder.fit(item_df[['competitionId']])"
   ]
  },
  {
   "cell_type": "code",
   "execution_count": 39,
   "metadata": {
    "ExecuteTime": {
     "end_time": "2019-09-24T13:22:18.483563Z",
     "start_time": "2019-09-24T13:22:18.418476Z"
    }
   },
   "outputs": [],
   "source": [
    "item_df['name'] = item_df['name'].astype('str')"
   ]
  },
  {
   "cell_type": "code",
   "execution_count": 40,
   "metadata": {
    "ExecuteTime": {
     "end_time": "2019-09-24T13:22:18.780333Z",
     "start_time": "2019-09-24T13:22:18.690333Z"
    }
   },
   "outputs": [
    {
     "data": {
      "text/plain": [
       "OneHotEncoder(categorical_features=None, categories='auto', drop=None,\n",
       "              dtype=<class 'numpy.float64'>, handle_unknown='error',\n",
       "              n_values=None, sparse=True)"
      ]
     },
     "execution_count": 40,
     "metadata": {},
     "output_type": "execute_result"
    }
   ],
   "source": [
    "user_encoder.fit(item_df[['name']])"
   ]
  },
  {
   "cell_type": "code",
   "execution_count": 41,
   "metadata": {
    "ExecuteTime": {
     "end_time": "2019-09-24T13:22:19.153878Z",
     "start_time": "2019-09-24T13:22:19.090854Z"
    }
   },
   "outputs": [
    {
     "data": {
      "text/plain": [
       "MinMaxScaler(copy=True, feature_range=(0, 1))"
      ]
     },
     "execution_count": 41,
     "metadata": {},
     "output_type": "execute_result"
    }
   ],
   "source": [
    "reward_scaler.fit(item_df[['rewardQuantity']])"
   ]
  },
  {
   "cell_type": "code",
   "execution_count": 42,
   "metadata": {
    "ExecuteTime": {
     "end_time": "2019-09-24T13:22:19.449338Z",
     "start_time": "2019-09-24T13:22:19.394305Z"
    }
   },
   "outputs": [
    {
     "data": {
      "text/plain": [
       "326"
      ]
     },
     "execution_count": 42,
     "metadata": {},
     "output_type": "execute_result"
    }
   ],
   "source": [
    "item_encoder.categories_[0].size"
   ]
  },
  {
   "cell_type": "code",
   "execution_count": 43,
   "metadata": {
    "ExecuteTime": {
     "end_time": "2019-09-24T13:22:19.784266Z",
     "start_time": "2019-09-24T13:22:19.723265Z"
    }
   },
   "outputs": [],
   "source": [
    "import scipy.sparse as sp"
   ]
  },
  {
   "cell_type": "code",
   "execution_count": 97,
   "metadata": {
    "ExecuteTime": {
     "end_time": "2019-09-19T13:54:47.617963Z",
     "start_time": "2019-09-19T13:54:47.549954Z"
    }
   },
   "outputs": [
    {
     "data": {
      "text/plain": [
       "(100, 9)"
      ]
     },
     "execution_count": 97,
     "metadata": {},
     "output_type": "execute_result"
    }
   ],
   "source": [
    "batch = item_df.sample(n=100)\n",
    "batch.shape"
   ]
  },
  {
   "cell_type": "code",
   "execution_count": 98,
   "metadata": {
    "ExecuteTime": {
     "end_time": "2019-09-19T13:54:50.663960Z",
     "start_time": "2019-09-19T13:54:50.589976Z"
    }
   },
   "outputs": [],
   "source": [
    "user_matrix = user_encoder.transform(batch[['name']])\n",
    "item_matrix = item_encoder.transform(batch[['competitionId']])\n",
    "prev_matrix = item_encoder.transform(batch[['previousId']])\n",
    "cat_matrix = cat_encoder.transform(batch[cat_names])\n",
    "cont_matrix = sp.csr_matrix(cont_scaler.transform(batch[cont_names]))"
   ]
  },
  {
   "cell_type": "code",
   "execution_count": 99,
   "metadata": {
    "ExecuteTime": {
     "end_time": "2019-09-19T13:54:58.128954Z",
     "start_time": "2019-09-19T13:54:58.061952Z"
    }
   },
   "outputs": [
    {
     "data": {
      "text/plain": [
       "<100x28047 sparse matrix of type '<class 'numpy.float64'>'\n",
       "\twith 732 stored elements in COOrdinate format>"
      ]
     },
     "execution_count": 99,
     "metadata": {},
     "output_type": "execute_result"
    }
   ],
   "source": [
    "feat_matrix = sp.hstack(\n",
    "    [user_matrix, item_matrix, prev_matrix, cat_matrix, cont_matrix])\n",
    "feat_matrix"
   ]
  },
  {
   "cell_type": "code",
   "execution_count": 80,
   "metadata": {
    "ExecuteTime": {
     "end_time": "2019-09-21T08:48:18.581160Z",
     "start_time": "2019-09-21T08:48:18.518178Z"
    }
   },
   "outputs": [
    {
     "data": {
      "text/html": [
       "<div>\n",
       "<style scoped>\n",
       "    .dataframe tbody tr th:only-of-type {\n",
       "        vertical-align: middle;\n",
       "    }\n",
       "\n",
       "    .dataframe tbody tr th {\n",
       "        vertical-align: top;\n",
       "    }\n",
       "\n",
       "    .dataframe thead th {\n",
       "        text-align: right;\n",
       "    }\n",
       "</style>\n",
       "<table border=\"1\" class=\"dataframe\">\n",
       "  <thead>\n",
       "    <tr style=\"text-align: right;\">\n",
       "      <th></th>\n",
       "      <th>competitionId</th>\n",
       "      <th>rewardQuantity</th>\n",
       "    </tr>\n",
       "  </thead>\n",
       "  <tbody>\n",
       "    <tr>\n",
       "      <th>6539</th>\n",
       "      <td>4571</td>\n",
       "      <td>80000.0</td>\n",
       "    </tr>\n",
       "    <tr>\n",
       "      <th>67</th>\n",
       "      <td>9120</td>\n",
       "      <td>70000.0</td>\n",
       "    </tr>\n",
       "    <tr>\n",
       "      <th>9193</th>\n",
       "      <td>3618</td>\n",
       "      <td>70000.0</td>\n",
       "    </tr>\n",
       "    <tr>\n",
       "      <th>31078</th>\n",
       "      <td>6539</td>\n",
       "      <td>0.0</td>\n",
       "    </tr>\n",
       "    <tr>\n",
       "      <th>14173</th>\n",
       "      <td>3163</td>\n",
       "      <td>0.0</td>\n",
       "    </tr>\n",
       "  </tbody>\n",
       "</table>\n",
       "</div>"
      ],
      "text/plain": [
       "       competitionId  rewardQuantity\n",
       "6539            4571         80000.0\n",
       "67              9120         70000.0\n",
       "9193            3618         70000.0\n",
       "31078           6539             0.0\n",
       "14173           3163             0.0"
      ]
     },
     "execution_count": 80,
     "metadata": {},
     "output_type": "execute_result"
    }
   ],
   "source": [
    "neg_df = comp_df.sample(n=100)\n",
    "neg_df.head()"
   ]
  },
  {
   "cell_type": "code",
   "execution_count": null,
   "metadata": {},
   "outputs": [],
   "source": []
  }
 ],
 "metadata": {
  "kernelspec": {
   "display_name": "Python 3",
   "language": "python",
   "name": "python3"
  },
  "language_info": {
   "codemirror_mode": {
    "name": "ipython",
    "version": 3
   },
   "file_extension": ".py",
   "mimetype": "text/x-python",
   "name": "python",
   "nbconvert_exporter": "python",
   "pygments_lexer": "ipython3",
   "version": "3.7.4"
  }
 },
 "nbformat": 4,
 "nbformat_minor": 2
}
