{
 "cells": [
  {
   "cell_type": "code",
   "execution_count": 1,
   "metadata": {
    "ExecuteTime": {
     "end_time": "2019-07-15T08:27:40.094369Z",
     "start_time": "2019-07-15T08:27:39.846667Z"
    }
   },
   "outputs": [],
   "source": [
    "%reload_ext autoreload\n",
    "%autoreload 2\n",
    "%matplotlib inline"
   ]
  },
  {
   "cell_type": "code",
   "execution_count": 2,
   "metadata": {
    "ExecuteTime": {
     "end_time": "2019-07-15T08:27:41.413684Z",
     "start_time": "2019-07-15T08:27:41.135637Z"
    }
   },
   "outputs": [],
   "source": [
    "import pandas as pd\n",
    "import numpy as np"
   ]
  },
  {
   "cell_type": "code",
   "execution_count": 3,
   "metadata": {
    "ExecuteTime": {
     "end_time": "2019-07-15T08:27:42.462366Z",
     "start_time": "2019-07-15T08:27:42.406467Z"
    }
   },
   "outputs": [
    {
     "name": "stdout",
     "output_type": "stream",
     "text": [
      "C:\\Projects\\python\\recommender\n"
     ]
    }
   ],
   "source": [
    "cd .."
   ]
  },
  {
   "cell_type": "code",
   "execution_count": 5,
   "metadata": {
    "ExecuteTime": {
     "end_time": "2019-07-15T08:27:56.629306Z",
     "start_time": "2019-07-15T08:27:56.486689Z"
    }
   },
   "outputs": [],
   "source": [
    "from datasets.torch_movielen import MovelenDataset, TorchMovielen10k"
   ]
  },
  {
   "cell_type": "code",
   "execution_count": 6,
   "metadata": {
    "ExecuteTime": {
     "end_time": "2019-07-15T08:27:59.103769Z",
     "start_time": "2019-07-15T08:27:58.246713Z"
    }
   },
   "outputs": [
    {
     "name": "stderr",
     "output_type": "stream",
     "text": [
      "2019-07-15 16:27:58,417 - C:\\Projects\\python\\recommender\\utils.py - INFO - Read dataset in ./inputs/ml-100k/u.data\n",
      "WARNING: Logging before flag parsing goes to stderr.\n",
      "I0715 16:27:58.417632  7184 torch_movielen.py:45] Read dataset in ./inputs/ml-100k/u.data\n",
      "2019-07-15 16:27:58,427 - C:\\Projects\\python\\recommender\\utils.py - INFO - Original user size: 943\n",
      "I0715 16:27:58.427594  7184 torch_movielen.py:49] Original user size: 943\n",
      "2019-07-15 16:27:58,431 - C:\\Projects\\python\\recommender\\utils.py - INFO - Original item size: 1682\n",
      "I0715 16:27:58.431582  7184 torch_movielen.py:50] Original item size: 1682\n",
      "2019-07-15 16:27:58,436 - C:\\Projects\\python\\recommender\\utils.py - INFO - Filter user size: 943\n",
      "I0715 16:27:58.436569  7184 torch_movielen.py:56] Filter user size: 943\n",
      "2019-07-15 16:27:58,438 - C:\\Projects\\python\\recommender\\utils.py - INFO - Filter item size: 1413\n",
      "I0715 16:27:58.438564  7184 torch_movielen.py:57] Filter item size: 1413\n",
      "c:\\projects\\python\\recommender\\.venv\\lib\\site-packages\\pandas\\core\\generic.py:8682: SettingWithCopyWarning: \n",
      "A value is trying to be set on a copy of a slice from a DataFrame\n",
      "\n",
      "See the caveats in the documentation: http://pandas.pydata.org/pandas-docs/stable/indexing.html#indexing-view-versus-copy\n",
      "  self._update_inplace(new_data)\n",
      "c:\\projects\\python\\recommender\\.venv\\lib\\site-packages\\ipykernel_launcher.py:1: SettingWithCopyWarning: \n",
      "A value is trying to be set on a copy of a slice from a DataFrame\n",
      "\n",
      "See the caveats in the documentation: http://pandas.pydata.org/pandas-docs/stable/indexing.html#indexing-view-versus-copy\n",
      "  \"\"\"Entry point for launching an IPython kernel.\n",
      "C:\\Projects\\python\\recommender\\datasets\\torch_movielen.py:91: SettingWithCopyWarning: \n",
      "A value is trying to be set on a copy of a slice from a DataFrame.\n",
      "Try using .loc[row_indexer,col_indexer] = value instead\n",
      "\n",
      "See the caveats in the documentation: http://pandas.pydata.org/pandas-docs/stable/indexing.html#indexing-view-versus-copy\n",
      "  train_df[cat_names] = data\n",
      "c:\\projects\\python\\recommender\\.venv\\lib\\site-packages\\pandas\\core\\frame.py:3395: SettingWithCopyWarning: \n",
      "A value is trying to be set on a copy of a slice from a DataFrame\n",
      "\n",
      "See the caveats in the documentation: http://pandas.pydata.org/pandas-docs/stable/indexing.html#indexing-view-versus-copy\n",
      "  self.loc._setitem_with_indexer((slice(None), indexer), value)\n",
      "c:\\projects\\python\\recommender\\.venv\\lib\\site-packages\\pandas\\core\\frame.py:3367: SettingWithCopyWarning: \n",
      "A value is trying to be set on a copy of a slice from a DataFrame\n",
      "\n",
      "See the caveats in the documentation: http://pandas.pydata.org/pandas-docs/stable/indexing.html#indexing-view-versus-copy\n",
      "  self._setitem_array(key, value)\n",
      "C:\\Projects\\python\\recommender\\datasets\\torch_movielen.py:94: SettingWithCopyWarning: \n",
      "A value is trying to be set on a copy of a slice from a DataFrame.\n",
      "Try using .loc[row_indexer,col_indexer] = value instead\n",
      "\n",
      "See the caveats in the documentation: http://pandas.pydata.org/pandas-docs/stable/indexing.html#indexing-view-versus-copy\n",
      "  valid_df[cat_names] = data\n",
      "c:\\projects\\python\\recommender\\.venv\\lib\\site-packages\\pandas\\core\\frame.py:3395: SettingWithCopyWarning: \n",
      "A value is trying to be set on a copy of a slice from a DataFrame\n",
      "\n",
      "See the caveats in the documentation: http://pandas.pydata.org/pandas-docs/stable/indexing.html#indexing-view-versus-copy\n",
      "  self.loc._setitem_with_indexer((slice(None), indexer), value)\n",
      "c:\\projects\\python\\recommender\\.venv\\lib\\site-packages\\pandas\\core\\frame.py:3367: SettingWithCopyWarning: \n",
      "A value is trying to be set on a copy of a slice from a DataFrame\n",
      "\n",
      "See the caveats in the documentation: http://pandas.pydata.org/pandas-docs/stable/indexing.html#indexing-view-versus-copy\n",
      "  self._setitem_array(key, value)\n",
      "C:\\Projects\\python\\recommender\\datasets\\torch_movielen.py:97: SettingWithCopyWarning: \n",
      "A value is trying to be set on a copy of a slice from a DataFrame.\n",
      "Try using .loc[row_indexer,col_indexer] = value instead\n",
      "\n",
      "See the caveats in the documentation: http://pandas.pydata.org/pandas-docs/stable/indexing.html#indexing-view-versus-copy\n",
      "  test_df[cat_names] = data\n",
      "c:\\projects\\python\\recommender\\.venv\\lib\\site-packages\\pandas\\core\\frame.py:3395: SettingWithCopyWarning: \n",
      "A value is trying to be set on a copy of a slice from a DataFrame\n",
      "\n",
      "See the caveats in the documentation: http://pandas.pydata.org/pandas-docs/stable/indexing.html#indexing-view-versus-copy\n",
      "  self.loc._setitem_with_indexer((slice(None), indexer), value)\n",
      "c:\\projects\\python\\recommender\\.venv\\lib\\site-packages\\pandas\\core\\frame.py:3367: SettingWithCopyWarning: \n",
      "A value is trying to be set on a copy of a slice from a DataFrame\n",
      "\n",
      "See the caveats in the documentation: http://pandas.pydata.org/pandas-docs/stable/indexing.html#indexing-view-versus-copy\n",
      "  self._setitem_array(key, value)\n"
     ]
    }
   ],
   "source": [
    "movielen = TorchMovielen10k('./inputs/ml-100k/u.data', user_min=4, item_min=4)"
   ]
  },
  {
   "cell_type": "code",
   "execution_count": 7,
   "metadata": {
    "ExecuteTime": {
     "end_time": "2019-07-15T08:28:05.088220Z",
     "start_time": "2019-07-15T08:28:04.942548Z"
    }
   },
   "outputs": [],
   "source": [
    "train_dl = movielen.get_dataloader(dataset_type='train', batch_size=16, num_workers=0)\n",
    "train_it = iter(train_dl)"
   ]
  },
  {
   "cell_type": "code",
   "execution_count": 8,
   "metadata": {
    "ExecuteTime": {
     "end_time": "2019-07-15T08:28:06.554846Z",
     "start_time": "2019-07-15T08:28:06.366862Z"
    }
   },
   "outputs": [],
   "source": [
    "pos_batch, neg_batch = train_it.next()"
   ]
  },
  {
   "cell_type": "code",
   "execution_count": 9,
   "metadata": {
    "ExecuteTime": {
     "end_time": "2019-07-15T08:28:07.347780Z",
     "start_time": "2019-07-15T08:28:07.207070Z"
    }
   },
   "outputs": [],
   "source": [
    "import torch as T\n",
    "import torch.nn as nn"
   ]
  },
  {
   "cell_type": "code",
   "execution_count": 16,
   "metadata": {
    "ExecuteTime": {
     "end_time": "2019-07-15T08:31:20.968208Z",
     "start_time": "2019-07-15T08:31:20.822563Z"
    }
   },
   "outputs": [],
   "source": [
    "cat_dict = movielen.cat_dict\n",
    "pos_names = movielen.pos_cat_names\n",
    "neg_names = movielen.neg_cat_names\n",
    "num_dim = 32"
   ]
  },
  {
   "cell_type": "code",
   "execution_count": 11,
   "metadata": {
    "ExecuteTime": {
     "end_time": "2019-07-15T08:28:30.353302Z",
     "start_time": "2019-07-15T08:28:30.094899Z"
    }
   },
   "outputs": [],
   "source": [
    "from models.torch_fm import TorchFM, FMLearner"
   ]
  },
  {
   "cell_type": "code",
   "execution_count": 12,
   "metadata": {
    "ExecuteTime": {
     "end_time": "2019-07-15T08:28:33.546743Z",
     "start_time": "2019-07-15T08:28:33.382837Z"
    }
   },
   "outputs": [
    {
     "ename": "TypeError",
     "evalue": "new() received an invalid combination of arguments - got (numpy.ndarray, int), but expected one of:\n * (torch.device device)\n * (torch.Storage storage)\n * (Tensor other)\n * (tuple of ints size, torch.device device)\n      didn't match because some of the arguments have invalid types: (\u001b[31;1mnumpy.ndarray\u001b[0m, \u001b[31;1mint\u001b[0m)\n * (object data, torch.device device)\n      didn't match because some of the arguments have invalid types: (\u001b[31;1mnumpy.ndarray\u001b[0m, \u001b[31;1mint\u001b[0m)\n",
     "output_type": "error",
     "traceback": [
      "\u001b[1;31m---------------------------------------------------------------------------\u001b[0m",
      "\u001b[1;31mTypeError\u001b[0m                                 Traceback (most recent call last)",
      "\u001b[1;32m<ipython-input-12-eab7ca5eee80>\u001b[0m in \u001b[0;36m<module>\u001b[1;34m\u001b[0m\n\u001b[1;32m----> 1\u001b[1;33m \u001b[0mmodel\u001b[0m \u001b[1;33m=\u001b[0m \u001b[0mTorchFM\u001b[0m\u001b[1;33m(\u001b[0m\u001b[0mcat_dict\u001b[0m\u001b[1;33m,\u001b[0m \u001b[0mpos_names\u001b[0m\u001b[1;33m,\u001b[0m \u001b[0mneg_names\u001b[0m\u001b[1;33m,\u001b[0m \u001b[0mnum_dim\u001b[0m\u001b[1;33m=\u001b[0m\u001b[1;36m10\u001b[0m\u001b[1;33m)\u001b[0m\u001b[1;33m\u001b[0m\u001b[1;33m\u001b[0m\u001b[0m\n\u001b[0m\u001b[0;32m      2\u001b[0m \u001b[0mmodel\u001b[0m\u001b[1;33m\u001b[0m\u001b[1;33m\u001b[0m\u001b[0m\n",
      "\u001b[1;32mC:\\Projects\\python\\recommender\\models\\torch_fm.py\u001b[0m in \u001b[0;36m__init__\u001b[1;34m(self, cat_dict, pos_cat_names, neg_cat_names, num_dim)\u001b[0m\n\u001b[0;32m     34\u001b[0m             [nn.Embedding(cat_dict[name].size, 1) for name in pos_cat_names])\n\u001b[0;32m     35\u001b[0m         self.emb_factor_layer = nn.ModuleList(\n\u001b[1;32m---> 36\u001b[1;33m             [nn.Embedding(cat_dict[name], num_dim) for name in pos_cat_names])\n\u001b[0m\u001b[0;32m     37\u001b[0m \u001b[1;33m\u001b[0m\u001b[0m\n\u001b[0;32m     38\u001b[0m     \u001b[1;32mdef\u001b[0m \u001b[0mforward\u001b[0m\u001b[1;33m(\u001b[0m\u001b[0mself\u001b[0m\u001b[1;33m,\u001b[0m \u001b[0mpos_batch\u001b[0m\u001b[1;33m,\u001b[0m \u001b[0mneg_batch\u001b[0m\u001b[1;33m)\u001b[0m\u001b[1;33m:\u001b[0m\u001b[1;33m\u001b[0m\u001b[1;33m\u001b[0m\u001b[0m\n",
      "\u001b[1;32mC:\\Projects\\python\\recommender\\models\\torch_fm.py\u001b[0m in \u001b[0;36m<listcomp>\u001b[1;34m(.0)\u001b[0m\n\u001b[0;32m     34\u001b[0m             [nn.Embedding(cat_dict[name].size, 1) for name in pos_cat_names])\n\u001b[0;32m     35\u001b[0m         self.emb_factor_layer = nn.ModuleList(\n\u001b[1;32m---> 36\u001b[1;33m             [nn.Embedding(cat_dict[name], num_dim) for name in pos_cat_names])\n\u001b[0m\u001b[0;32m     37\u001b[0m \u001b[1;33m\u001b[0m\u001b[0m\n\u001b[0;32m     38\u001b[0m     \u001b[1;32mdef\u001b[0m \u001b[0mforward\u001b[0m\u001b[1;33m(\u001b[0m\u001b[0mself\u001b[0m\u001b[1;33m,\u001b[0m \u001b[0mpos_batch\u001b[0m\u001b[1;33m,\u001b[0m \u001b[0mneg_batch\u001b[0m\u001b[1;33m)\u001b[0m\u001b[1;33m:\u001b[0m\u001b[1;33m\u001b[0m\u001b[1;33m\u001b[0m\u001b[0m\n",
      "\u001b[1;32mc:\\projects\\python\\recommender\\.venv\\lib\\site-packages\\torch\\nn\\modules\\sparse.py\u001b[0m in \u001b[0;36m__init__\u001b[1;34m(self, num_embeddings, embedding_dim, padding_idx, max_norm, norm_type, scale_grad_by_freq, sparse, _weight)\u001b[0m\n\u001b[0;32m     97\u001b[0m         \u001b[0mself\u001b[0m\u001b[1;33m.\u001b[0m\u001b[0mscale_grad_by_freq\u001b[0m \u001b[1;33m=\u001b[0m \u001b[0mscale_grad_by_freq\u001b[0m\u001b[1;33m\u001b[0m\u001b[1;33m\u001b[0m\u001b[0m\n\u001b[0;32m     98\u001b[0m         \u001b[1;32mif\u001b[0m \u001b[0m_weight\u001b[0m \u001b[1;32mis\u001b[0m \u001b[1;32mNone\u001b[0m\u001b[1;33m:\u001b[0m\u001b[1;33m\u001b[0m\u001b[1;33m\u001b[0m\u001b[0m\n\u001b[1;32m---> 99\u001b[1;33m             \u001b[0mself\u001b[0m\u001b[1;33m.\u001b[0m\u001b[0mweight\u001b[0m \u001b[1;33m=\u001b[0m \u001b[0mParameter\u001b[0m\u001b[1;33m(\u001b[0m\u001b[0mtorch\u001b[0m\u001b[1;33m.\u001b[0m\u001b[0mTensor\u001b[0m\u001b[1;33m(\u001b[0m\u001b[0mnum_embeddings\u001b[0m\u001b[1;33m,\u001b[0m \u001b[0membedding_dim\u001b[0m\u001b[1;33m)\u001b[0m\u001b[1;33m)\u001b[0m\u001b[1;33m\u001b[0m\u001b[1;33m\u001b[0m\u001b[0m\n\u001b[0m\u001b[0;32m    100\u001b[0m             \u001b[0mself\u001b[0m\u001b[1;33m.\u001b[0m\u001b[0mreset_parameters\u001b[0m\u001b[1;33m(\u001b[0m\u001b[1;33m)\u001b[0m\u001b[1;33m\u001b[0m\u001b[1;33m\u001b[0m\u001b[0m\n\u001b[0;32m    101\u001b[0m         \u001b[1;32melse\u001b[0m\u001b[1;33m:\u001b[0m\u001b[1;33m\u001b[0m\u001b[1;33m\u001b[0m\u001b[0m\n",
      "\u001b[1;31mTypeError\u001b[0m: new() received an invalid combination of arguments - got (numpy.ndarray, int), but expected one of:\n * (torch.device device)\n * (torch.Storage storage)\n * (Tensor other)\n * (tuple of ints size, torch.device device)\n      didn't match because some of the arguments have invalid types: (\u001b[31;1mnumpy.ndarray\u001b[0m, \u001b[31;1mint\u001b[0m)\n * (object data, torch.device device)\n      didn't match because some of the arguments have invalid types: (\u001b[31;1mnumpy.ndarray\u001b[0m, \u001b[31;1mint\u001b[0m)\n"
     ]
    }
   ],
   "source": [
    "model = TorchFM(cat_dict, pos_names, neg_names, num_dim=10)\n",
    "model"
   ]
  },
  {
   "cell_type": "code",
   "execution_count": 17,
   "metadata": {
    "ExecuteTime": {
     "end_time": "2019-07-15T08:31:23.746469Z",
     "start_time": "2019-07-15T08:31:23.599765Z"
    }
   },
   "outputs": [],
   "source": [
    "emb_linear_layer = nn.ModuleList(\n",
    "    [nn.Embedding(cat_dict[name].size, 1) for name in pos_names])\n",
    "emb_factor_layer = nn.ModuleList(\n",
    "    [nn.Embedding(cat_dict[name].size, num_dim) for name in pos_names])"
   ]
  },
  {
   "cell_type": "code",
   "execution_count": null,
   "metadata": {},
   "outputs": [],
   "source": [
    "def compute_linear_term(batch: T.Tensor) -> T.Tensor:\n",
    "    batch_size, _ = batch.shape\n",
    "\n",
    "    linear_list = [\n",
    "        emb(batch[:, i]) for i, emb in enumerate(emb_linear_layer)\n",
    "    ]\n",
    "    linear = T.sum(T.stack(linear_list), dim=0)\n",
    "\n",
    "    return linear"
   ]
  }
 ],
 "metadata": {
  "kernelspec": {
   "display_name": "recommender",
   "language": "python",
   "name": "recommender"
  },
  "language_info": {
   "codemirror_mode": {
    "name": "ipython",
    "version": 3
   },
   "file_extension": ".py",
   "mimetype": "text/x-python",
   "name": "python",
   "nbconvert_exporter": "python",
   "pygments_lexer": "ipython3",
   "version": "3.6.8"
  }
 },
 "nbformat": 4,
 "nbformat_minor": 2
}
