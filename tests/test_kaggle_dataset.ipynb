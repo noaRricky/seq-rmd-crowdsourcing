{
 "cells": [
  {
   "cell_type": "code",
   "execution_count": 1,
   "metadata": {
    "ExecuteTime": {
     "end_time": "2019-09-22T07:03:57.248852Z",
     "start_time": "2019-09-22T07:03:56.806551Z"
    }
   },
   "outputs": [],
   "source": [
    "%reload_ext autoreload\n",
    "%autoreload 2\n",
    "%matplotlib inline"
   ]
  },
  {
   "cell_type": "code",
   "execution_count": 2,
   "metadata": {
    "ExecuteTime": {
     "end_time": "2019-09-22T07:03:58.584027Z",
     "start_time": "2019-09-22T07:03:58.543065Z"
    }
   },
   "outputs": [
    {
     "name": "stdout",
     "output_type": "stream",
     "text": [
      "C:\\Projects\\python\\recommender\n"
     ]
    }
   ],
   "source": [
    "cd .."
   ]
  },
  {
   "cell_type": "code",
   "execution_count": 3,
   "metadata": {
    "ExecuteTime": {
     "end_time": "2019-09-22T07:05:53.055543Z",
     "start_time": "2019-09-22T07:05:52.863515Z"
    }
   },
   "outputs": [],
   "source": [
    "from pathlib import Path\n",
    "\n",
    "import numpy as np\n",
    "import scipy.sparse as sp\n",
    "import pandas as pd\n",
    "import torch as T\n",
    "\n",
    "from datasets import TorchKaggle"
   ]
  },
  {
   "cell_type": "code",
   "execution_count": 6,
   "metadata": {
    "ExecuteTime": {
     "end_time": "2019-09-22T11:40:47.803406Z",
     "start_time": "2019-09-22T11:40:47.684099Z"
    }
   },
   "outputs": [],
   "source": [
    "DEVICE = T.device('cpu')\n",
    "BATCH = 3\n",
    "SHUFFLE = True\n",
    "WORKER_NUM = 0\n",
    "ITEM_PATH = Path(\"./inputs/kaggle/item.csv\")"
   ]
  },
  {
   "cell_type": "code",
   "execution_count": 7,
   "metadata": {
    "ExecuteTime": {
     "end_time": "2019-09-22T11:40:51.185530Z",
     "start_time": "2019-09-22T11:40:49.433480Z"
    }
   },
   "outputs": [
    {
     "name": "stdout",
     "output_type": "stream",
     "text": [
      "Raw dataframe shape (476244, 7)\n",
      "After drop nan shape: (429988, 7)\n",
      "Original comptition size: 292\n",
      "Original competitor size: 140065\n",
      "Filtered competiter size: 27449\n",
      "Filtered dataframe shape: (284806, 7)\n"
     ]
    },
    {
     "data": {
      "text/plain": [
       "<datasets.torch_kaggle.TorchKaggle at 0x1f7814a9668>"
      ]
     },
     "execution_count": 7,
     "metadata": {},
     "output_type": "execute_result"
    }
   ],
   "source": [
    "databunch = TorchKaggle(ITEM_PATH)\n",
    "databunch"
   ]
  },
  {
   "cell_type": "code",
   "execution_count": 8,
   "metadata": {
    "ExecuteTime": {
     "end_time": "2019-09-22T11:41:40.191569Z",
     "start_time": "2019-09-22T11:41:40.050441Z"
    }
   },
   "outputs": [],
   "source": [
    "train_ld = databunch.get_dataloader(ds_type='train')\n",
    "train_it = iter(train_ld)"
   ]
  },
  {
   "cell_type": "code",
   "execution_count": 10,
   "metadata": {
    "ExecuteTime": {
     "end_time": "2019-09-22T11:49:10.108321Z",
     "start_time": "2019-09-22T11:49:09.930325Z"
    }
   },
   "outputs": [],
   "source": [
    "user_tensor, pos_tenosr, neg_tensor = next(train_it)"
   ]
  },
  {
   "cell_type": "code",
   "execution_count": 11,
   "metadata": {
    "ExecuteTime": {
     "end_time": "2019-09-22T11:49:17.644476Z",
     "start_time": "2019-09-22T11:49:17.528499Z"
    }
   },
   "outputs": [
    {
     "data": {
      "text/plain": [
       "torch.Size([32, 28044])"
      ]
     },
     "execution_count": 11,
     "metadata": {},
     "output_type": "execute_result"
    }
   ],
   "source": [
    "pos_tenosr.shape"
   ]
  },
  {
   "cell_type": "code",
   "execution_count": 12,
   "metadata": {
    "ExecuteTime": {
     "end_time": "2019-09-22T11:49:23.890248Z",
     "start_time": "2019-09-22T11:49:23.776247Z"
    }
   },
   "outputs": [
    {
     "data": {
      "text/plain": [
       "28044"
      ]
     },
     "execution_count": 12,
     "metadata": {},
     "output_type": "execute_result"
    }
   ],
   "source": [
    "databunch.feat_dim"
   ]
  }
 ],
 "metadata": {
  "kernelspec": {
   "display_name": "recommender",
   "language": "python",
   "name": "recommender"
  },
  "language_info": {
   "codemirror_mode": {
    "name": "ipython",
    "version": 3
   },
   "file_extension": ".py",
   "mimetype": "text/x-python",
   "name": "python",
   "nbconvert_exporter": "python",
   "pygments_lexer": "ipython3",
   "version": "3.6.8"
  }
 },
 "nbformat": 4,
 "nbformat_minor": 2
}
