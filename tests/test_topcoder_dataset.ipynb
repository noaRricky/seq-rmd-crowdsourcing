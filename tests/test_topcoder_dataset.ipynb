{
 "cells": [
  {
   "cell_type": "code",
   "execution_count": 1,
   "metadata": {
    "ExecuteTime": {
     "end_time": "2019-09-10T01:14:23.608376Z",
     "start_time": "2019-09-10T01:14:23.299143Z"
    },
    "pycharm": {
     "is_executing": false
    }
   },
   "outputs": [],
   "source": [
    "%reload_ext autoreload\n",
    "%autoreload 2\n",
    "%matplotlib inline"
   ]
  },
  {
   "cell_type": "code",
   "execution_count": 2,
   "metadata": {
    "ExecuteTime": {
     "end_time": "2019-09-10T01:14:24.156622Z",
     "start_time": "2019-09-10T01:14:24.116705Z"
    }
   },
   "outputs": [
    {
     "name": "stdout",
     "output_type": "stream",
     "text": [
      "C:\\Projects\\python\\recommender\n"
     ]
    }
   ],
   "source": [
    "cd .."
   ]
  },
  {
   "cell_type": "code",
   "execution_count": 17,
   "metadata": {
    "ExecuteTime": {
     "end_time": "2019-09-10T01:56:52.475490Z",
     "start_time": "2019-09-10T01:56:52.363771Z"
    }
   },
   "outputs": [],
   "source": [
    "from pathlib import Path\n",
    "\n",
    "import numpy as np\n",
    "import scipy.sparse as sp\n",
    "import pandas as pd\n",
    "import torch as T\n",
    "\n",
    "from datasets import TorchTopcoder"
   ]
  },
  {
   "cell_type": "code",
   "execution_count": 4,
   "metadata": {
    "ExecuteTime": {
     "end_time": "2019-09-10T01:14:30.273837Z",
     "start_time": "2019-09-10T01:14:30.156139Z"
    }
   },
   "outputs": [],
   "source": [
    "DEVICE = T.device('cpu')\n",
    "BATCH = 3\n",
    "SHUFFLE = True\n",
    "WORKER_NUM = 0\n",
    "REGS_PATH = Path(\"./inputs/topcoder/regs.csv\")\n",
    "CHAG_PATH = Path(\"./inputs/topcoder/challenge.csv\")"
   ]
  },
  {
   "cell_type": "code",
   "execution_count": 5,
   "metadata": {
    "ExecuteTime": {
     "end_time": "2019-09-10T01:15:06.490265Z",
     "start_time": "2019-09-10T01:15:04.532553Z"
    }
   },
   "outputs": [
    {
     "name": "stderr",
     "output_type": "stream",
     "text": [
      "2019-09-10 09:15:04,969 - C:\\Projects\\python\\recommender\\utils.py - INFO - Read dataset in inputs\\topcoder\\regs.csv\n",
      "2019-09-10 09:15:04,969 - C:\\Projects\\python\\recommender\\utils.py - INFO - Read dataset in inputs\\topcoder\\regs.csv\n",
      "WARNING: Logging before flag parsing goes to stderr.\n",
      "I0910 09:15:04.969359  7596 torch_topcoder.py:68] Read dataset in inputs\\topcoder\\regs.csv\n",
      "2019-09-10 09:15:04,973 - C:\\Projects\\python\\recommender\\utils.py - INFO - Original regs shape: (610025, 3)\n",
      "2019-09-10 09:15:04,973 - C:\\Projects\\python\\recommender\\utils.py - INFO - Original regs shape: (610025, 3)\n",
      "I0910 09:15:04.973351  7596 torch_topcoder.py:69] Original regs shape: (610025, 3)\n",
      "2019-09-10 09:15:05,069 - C:\\Projects\\python\\recommender\\utils.py - INFO - Original registants size: 60017\n",
      "2019-09-10 09:15:05,069 - C:\\Projects\\python\\recommender\\utils.py - INFO - Original registants size: 60017\n",
      "I0910 09:15:05.069129  7596 torch_topcoder.py:74] Original registants size: 60017\n",
      "2019-09-10 09:15:05,073 - C:\\Projects\\python\\recommender\\utils.py - INFO - Original challenges size: 39916\n",
      "2019-09-10 09:15:05,073 - C:\\Projects\\python\\recommender\\utils.py - INFO - Original challenges size: 39916\n",
      "I0910 09:15:05.073083  7596 torch_topcoder.py:75] Original challenges size: 39916\n",
      "2019-09-10 09:15:05,089 - C:\\Projects\\python\\recommender\\utils.py - INFO - Filter registants size: 9894\n",
      "2019-09-10 09:15:05,089 - C:\\Projects\\python\\recommender\\utils.py - INFO - Filter registants size: 9894\n",
      "I0910 09:15:05.089042  7596 torch_topcoder.py:81] Filter registants size: 9894\n",
      "2019-09-10 09:15:05,094 - C:\\Projects\\python\\recommender\\utils.py - INFO - Filter challenges size: 29494\n",
      "2019-09-10 09:15:05,094 - C:\\Projects\\python\\recommender\\utils.py - INFO - Filter challenges size: 29494\n",
      "I0910 09:15:05.094028  7596 torch_topcoder.py:82] Filter challenges size: 29494\n",
      "2019-09-10 09:15:05,169 - C:\\Projects\\python\\recommender\\utils.py - INFO - Filter dataframe shape: (533229, 3)\n",
      "2019-09-10 09:15:05,169 - C:\\Projects\\python\\recommender\\utils.py - INFO - Filter dataframe shape: (533229, 3)\n",
      "I0910 09:15:05.169856  7596 torch_topcoder.py:87] Filter dataframe shape: (533229, 3)\n",
      "C:\\Projects\\python\\recommender\\datasets\\torch_topcoder.py:100: SettingWithCopyWarning: \n",
      "A value is trying to be set on a copy of a slice from a DataFrame\n",
      "\n",
      "See the caveats in the documentation: http://pandas.pydata.org/pandas-docs/stable/indexing.html#indexing-view-versus-copy\n",
      "  regs_df['previousId'][first_mask] = -1\n"
     ]
    },
    {
     "data": {
      "text/plain": [
       "<datasets.torch_topcoder.TorchTopcoder at 0x2739b795b70>"
      ]
     },
     "execution_count": 5,
     "metadata": {},
     "output_type": "execute_result"
    }
   ],
   "source": [
    "databunch = TorchTopcoder(regs_path=REGS_PATH, chag_path=CHAG_PATH)\n",
    "databunch"
   ]
  },
  {
   "cell_type": "code",
   "execution_count": 11,
   "metadata": {
    "ExecuteTime": {
     "end_time": "2019-09-10T01:52:31.719811Z",
     "start_time": "2019-09-10T01:52:31.603125Z"
    }
   },
   "outputs": [
    {
     "data": {
      "text/plain": [
       "69384"
      ]
     },
     "execution_count": 11,
     "metadata": {},
     "output_type": "execute_result"
    }
   ],
   "source": [
    "databunch.feat_dim"
   ]
  },
  {
   "cell_type": "code",
   "execution_count": 12,
   "metadata": {
    "ExecuteTime": {
     "end_time": "2019-09-10T01:53:46.217222Z",
     "start_time": "2019-09-10T01:53:46.083581Z"
    }
   },
   "outputs": [
    {
     "data": {
      "text/html": [
       "<div>\n",
       "<style scoped>\n",
       "    .dataframe tbody tr th:only-of-type {\n",
       "        vertical-align: middle;\n",
       "    }\n",
       "\n",
       "    .dataframe tbody tr th {\n",
       "        vertical-align: top;\n",
       "    }\n",
       "\n",
       "    .dataframe thead th {\n",
       "        text-align: right;\n",
       "    }\n",
       "</style>\n",
       "<table border=\"1\" class=\"dataframe\">\n",
       "  <thead>\n",
       "    <tr style=\"text-align: right;\">\n",
       "      <th></th>\n",
       "      <th>registant</th>\n",
       "      <th>challengeId</th>\n",
       "      <th>previousId</th>\n",
       "    </tr>\n",
       "  </thead>\n",
       "  <tbody>\n",
       "    <tr>\n",
       "      <th>417960</th>\n",
       "      <td>westine</td>\n",
       "      <td>30025697</td>\n",
       "      <td>30018643</td>\n",
       "    </tr>\n",
       "    <tr>\n",
       "      <th>553644</th>\n",
       "      <td>wang_liang</td>\n",
       "      <td>30006898</td>\n",
       "      <td>30006472</td>\n",
       "    </tr>\n",
       "    <tr>\n",
       "      <th>302707</th>\n",
       "      <td>ahmed.seddiq</td>\n",
       "      <td>30042394</td>\n",
       "      <td>30039533</td>\n",
       "    </tr>\n",
       "    <tr>\n",
       "      <th>371797</th>\n",
       "      <td>rtriv</td>\n",
       "      <td>30032197</td>\n",
       "      <td>30032201</td>\n",
       "    </tr>\n",
       "    <tr>\n",
       "      <th>184062</th>\n",
       "      <td>genycopedison</td>\n",
       "      <td>30055866</td>\n",
       "      <td>30055861</td>\n",
       "    </tr>\n",
       "    <tr>\n",
       "      <th>414283</th>\n",
       "      <td>saarixx</td>\n",
       "      <td>30026198</td>\n",
       "      <td>30024075</td>\n",
       "    </tr>\n",
       "    <tr>\n",
       "      <th>466059</th>\n",
       "      <td>arylio</td>\n",
       "      <td>30019790</td>\n",
       "      <td>30023300</td>\n",
       "    </tr>\n",
       "    <tr>\n",
       "      <th>185271</th>\n",
       "      <td>tototpc</td>\n",
       "      <td>30055936</td>\n",
       "      <td>30055716</td>\n",
       "    </tr>\n",
       "    <tr>\n",
       "      <th>181787</th>\n",
       "      <td>blu3fox</td>\n",
       "      <td>30055732</td>\n",
       "      <td>30055725</td>\n",
       "    </tr>\n",
       "    <tr>\n",
       "      <th>494704</th>\n",
       "      <td>winterflame</td>\n",
       "      <td>30015688</td>\n",
       "      <td>30015841</td>\n",
       "    </tr>\n",
       "  </tbody>\n",
       "</table>\n",
       "</div>"
      ],
      "text/plain": [
       "            registant  challengeId  previousId\n",
       "417960        westine     30025697    30018643\n",
       "553644     wang_liang     30006898    30006472\n",
       "302707   ahmed.seddiq     30042394    30039533\n",
       "371797          rtriv     30032197    30032201\n",
       "184062  genycopedison     30055866    30055861\n",
       "414283        saarixx     30026198    30024075\n",
       "466059         arylio     30019790    30023300\n",
       "185271        tototpc     30055936    30055716\n",
       "181787        blu3fox     30055732    30055725\n",
       "494704    winterflame     30015688    30015841"
      ]
     },
     "execution_count": 12,
     "metadata": {},
     "output_type": "execute_result"
    }
   ],
   "source": [
    "batch_df = databunch._df_dict['train'].sample(10)\n",
    "batch_df"
   ]
  },
  {
   "cell_type": "code",
   "execution_count": 15,
   "metadata": {
    "ExecuteTime": {
     "end_time": "2019-09-10T01:56:34.351980Z",
     "start_time": "2019-09-10T01:56:34.235293Z"
    }
   },
   "outputs": [
    {
     "data": {
      "text/plain": [
       "[array([30000030, 30000070, 30000071, ..., 30072066, 30072067, 30072069],\n",
       "       dtype=int64)]"
      ]
     },
     "execution_count": 15,
     "metadata": {},
     "output_type": "execute_result"
    }
   ],
   "source": [
    "chag_encoder = databunch._chag_encoder\n",
    "regs_encoder = databunch._regs_encoder\n",
    "chag_encoder.categories_"
   ]
  },
  {
   "cell_type": "code",
   "execution_count": 19,
   "metadata": {
    "ExecuteTime": {
     "end_time": "2019-09-10T01:57:58.852627Z",
     "start_time": "2019-09-10T01:57:58.730924Z"
    }
   },
   "outputs": [
    {
     "data": {
      "text/html": [
       "<div>\n",
       "<style scoped>\n",
       "    .dataframe tbody tr th:only-of-type {\n",
       "        vertical-align: middle;\n",
       "    }\n",
       "\n",
       "    .dataframe tbody tr th {\n",
       "        vertical-align: top;\n",
       "    }\n",
       "\n",
       "    .dataframe thead th {\n",
       "        text-align: right;\n",
       "    }\n",
       "</style>\n",
       "<table border=\"1\" class=\"dataframe\">\n",
       "  <thead>\n",
       "    <tr style=\"text-align: right;\">\n",
       "      <th></th>\n",
       "      <th>registant</th>\n",
       "      <th>challengeId</th>\n",
       "      <th>previousId</th>\n",
       "      <th>negtiveId</th>\n",
       "    </tr>\n",
       "  </thead>\n",
       "  <tbody>\n",
       "    <tr>\n",
       "      <th>417960</th>\n",
       "      <td>westine</td>\n",
       "      <td>30025697</td>\n",
       "      <td>30018643</td>\n",
       "      <td>30047815</td>\n",
       "    </tr>\n",
       "    <tr>\n",
       "      <th>553644</th>\n",
       "      <td>wang_liang</td>\n",
       "      <td>30006898</td>\n",
       "      <td>30006472</td>\n",
       "      <td>30003021</td>\n",
       "    </tr>\n",
       "    <tr>\n",
       "      <th>302707</th>\n",
       "      <td>ahmed.seddiq</td>\n",
       "      <td>30042394</td>\n",
       "      <td>30039533</td>\n",
       "      <td>30027354</td>\n",
       "    </tr>\n",
       "    <tr>\n",
       "      <th>371797</th>\n",
       "      <td>rtriv</td>\n",
       "      <td>30032197</td>\n",
       "      <td>30032201</td>\n",
       "      <td>30019225</td>\n",
       "    </tr>\n",
       "    <tr>\n",
       "      <th>184062</th>\n",
       "      <td>genycopedison</td>\n",
       "      <td>30055866</td>\n",
       "      <td>30055861</td>\n",
       "      <td>30045622</td>\n",
       "    </tr>\n",
       "    <tr>\n",
       "      <th>414283</th>\n",
       "      <td>saarixx</td>\n",
       "      <td>30026198</td>\n",
       "      <td>30024075</td>\n",
       "      <td>30062152</td>\n",
       "    </tr>\n",
       "    <tr>\n",
       "      <th>466059</th>\n",
       "      <td>arylio</td>\n",
       "      <td>30019790</td>\n",
       "      <td>30023300</td>\n",
       "      <td>30051111</td>\n",
       "    </tr>\n",
       "    <tr>\n",
       "      <th>185271</th>\n",
       "      <td>tototpc</td>\n",
       "      <td>30055936</td>\n",
       "      <td>30055716</td>\n",
       "      <td>30031354</td>\n",
       "    </tr>\n",
       "    <tr>\n",
       "      <th>181787</th>\n",
       "      <td>blu3fox</td>\n",
       "      <td>30055732</td>\n",
       "      <td>30055725</td>\n",
       "      <td>30054681</td>\n",
       "    </tr>\n",
       "    <tr>\n",
       "      <th>494704</th>\n",
       "      <td>winterflame</td>\n",
       "      <td>30015688</td>\n",
       "      <td>30015841</td>\n",
       "      <td>30042361</td>\n",
       "    </tr>\n",
       "  </tbody>\n",
       "</table>\n",
       "</div>"
      ],
      "text/plain": [
       "            registant  challengeId  previousId  negtiveId\n",
       "417960        westine     30025697    30018643   30047815\n",
       "553644     wang_liang     30006898    30006472   30003021\n",
       "302707   ahmed.seddiq     30042394    30039533   30027354\n",
       "371797          rtriv     30032197    30032201   30019225\n",
       "184062  genycopedison     30055866    30055861   30045622\n",
       "414283        saarixx     30026198    30024075   30062152\n",
       "466059         arylio     30019790    30023300   30051111\n",
       "185271        tototpc     30055936    30055716   30031354\n",
       "181787        blu3fox     30055732    30055725   30054681\n",
       "494704    winterflame     30015688    30015841   30042361"
      ]
     },
     "execution_count": 19,
     "metadata": {},
     "output_type": "execute_result"
    }
   ],
   "source": [
    "batch_df['negtiveId'] = np.random.choice(a=chag_encoder.categories_[0], size=10)\n",
    "batch_df"
   ]
  },
  {
   "cell_type": "code",
   "execution_count": 20,
   "metadata": {
    "ExecuteTime": {
     "end_time": "2019-09-10T01:58:07.409721Z",
     "start_time": "2019-09-10T01:58:07.284002Z"
    }
   },
   "outputs": [],
   "source": [
    "regs_vector: sp.csr_matrix = regs_encoder.transform(batch_df[['registant']])\n",
    "chag_vector = chag_encoder.transform(batch_df[['challengeId']])\n",
    "prev_vector = chag_encoder.transform(batch_df[['previousId']])\n",
    "negi_vector = chag_encoder.transform(batch_df[['negtiveId']])"
   ]
  },
  {
   "cell_type": "code",
   "execution_count": 21,
   "metadata": {
    "ExecuteTime": {
     "end_time": "2019-09-10T01:58:24.894996Z",
     "start_time": "2019-09-10T01:58:24.779723Z"
    }
   },
   "outputs": [],
   "source": [
    "pos_feat_matrix = sp.hstack([regs_vector, prev_vector, chag_vector])\n",
    "neg_feat_matrix = sp.hstack([regs_vector, prev_vector, negi_vector])"
   ]
  },
  {
   "cell_type": "code",
   "execution_count": 22,
   "metadata": {
    "ExecuteTime": {
     "end_time": "2019-09-10T01:58:45.015680Z",
     "start_time": "2019-09-10T01:58:44.899991Z"
    }
   },
   "outputs": [
    {
     "name": "stdout",
     "output_type": "stream",
     "text": [
      "(10, 68781)\n",
      "(10, 68781)\n"
     ]
    }
   ],
   "source": [
    "print(pos_feat_matrix.shape)\n",
    "print(neg_feat_matrix.shape)"
   ]
  },
  {
   "cell_type": "code",
   "execution_count": 26,
   "metadata": {
    "ExecuteTime": {
     "end_time": "2019-09-10T02:02:49.680536Z",
     "start_time": "2019-09-10T02:02:49.562850Z"
    }
   },
   "outputs": [
    {
     "name": "stdout",
     "output_type": "stream",
     "text": [
      "(10, 9829)\n",
      "9829\n"
     ]
    }
   ],
   "source": [
    "print(regs_vector.shape)\n",
    "print(regs_encoder.categories_[0].size)"
   ]
  }
 ],
 "metadata": {
  "kernelspec": {
   "display_name": "Python 3",
   "language": "python",
   "name": "python3"
  },
  "language_info": {
   "codemirror_mode": {
    "name": "ipython",
    "version": 3
   },
   "file_extension": ".py",
   "mimetype": "text/x-python",
   "name": "python",
   "nbconvert_exporter": "python",
   "pygments_lexer": "ipython3",
   "version": "3.6.8"
  },
  "pycharm": {
   "stem_cell": {
    "cell_type": "raw",
    "metadata": {
     "collapsed": false
    },
    "source": []
   }
  }
 },
 "nbformat": 4,
 "nbformat_minor": 1
}
