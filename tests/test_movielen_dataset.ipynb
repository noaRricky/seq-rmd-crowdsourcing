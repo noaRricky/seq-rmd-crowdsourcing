{
 "cells": [
  {
   "cell_type": "code",
   "execution_count": 1,
   "metadata": {},
   "outputs": [],
   "source": [
    "%reload_ext autoreload\n",
    "%autoreload 2\n",
    "%matplotlib inline"
   ]
  },
  {
   "cell_type": "code",
   "execution_count": 2,
   "metadata": {},
   "outputs": [
    {
     "name": "stdout",
     "output_type": "stream",
     "text": [
      "C:\\Projects\\python\\recommender\n"
     ]
    }
   ],
   "source": [
    "cd .."
   ]
  },
  {
   "cell_type": "code",
   "execution_count": 3,
   "metadata": {},
   "outputs": [],
   "source": [
    "from pathlib import Path\n",
    "\n",
    "import numpy as np\n",
    "import pandas as pd\n",
    "import torch as T\n",
    "import torch.nn as nn"
   ]
  },
  {
   "cell_type": "code",
   "execution_count": 4,
   "metadata": {},
   "outputs": [],
   "source": [
    "from datasets import TorchMovielen10k, MovelenDataset"
   ]
  },
  {
   "cell_type": "markdown",
   "metadata": {},
   "source": [
    "## Test DataLoader"
   ]
  },
  {
   "cell_type": "code",
   "execution_count": 5,
   "metadata": {},
   "outputs": [],
   "source": [
    "DEVICE = T.device('cpu')\n",
    "BATCH = 3\n",
    "SHUFFLE = True\n",
    "WORKER_NUM = 0\n",
    "DATA_PATH = Path('./inputs/ml-100k/u.data')"
   ]
  },
  {
   "cell_type": "code",
   "execution_count": 6,
   "metadata": {},
   "outputs": [
    {
     "name": "stderr",
     "output_type": "stream",
     "text": [
      "2019-09-03 15:23:49,666 - C:\\Projects\\python\\recommender\\utils.py - INFO - Read dataset in inputs\\ml-100k\\u.data\n",
      "WARNING: Logging before flag parsing goes to stderr.\n",
      "I0903 15:23:49.666728 13872 torch_movielen.py:41] Read dataset in inputs\\ml-100k\\u.data\n",
      "2019-09-03 15:23:49,677 - C:\\Projects\\python\\recommender\\utils.py - INFO - Original user size: 943\n",
      "I0903 15:23:49.677673 13872 torch_movielen.py:45] Original user size: 943\n",
      "2019-09-03 15:23:49,680 - C:\\Projects\\python\\recommender\\utils.py - INFO - Original item size: 1682\n",
      "I0903 15:23:49.680664 13872 torch_movielen.py:46] Original item size: 1682\n",
      "2019-09-03 15:23:49,685 - C:\\Projects\\python\\recommender\\utils.py - INFO - Filter user size: 943\n",
      "I0903 15:23:49.685650 13872 torch_movielen.py:52] Filter user size: 943\n",
      "2019-09-03 15:23:49,688 - C:\\Projects\\python\\recommender\\utils.py - INFO - Filter item size: 1413\n",
      "I0903 15:23:49.688642 13872 torch_movielen.py:53] Filter item size: 1413\n",
      "c:\\projects\\python\\recommender\\.venv\\lib\\site-packages\\pandas\\core\\generic.py:8682: SettingWithCopyWarning: \n",
      "A value is trying to be set on a copy of a slice from a DataFrame\n",
      "\n",
      "See the caveats in the documentation: http://pandas.pydata.org/pandas-docs/stable/indexing.html#indexing-view-versus-copy\n",
      "  self._update_inplace(new_data)\n",
      "c:\\projects\\python\\recommender\\.venv\\lib\\site-packages\\ipykernel_launcher.py:1: SettingWithCopyWarning: \n",
      "A value is trying to be set on a copy of a slice from a DataFrame\n",
      "\n",
      "See the caveats in the documentation: http://pandas.pydata.org/pandas-docs/stable/indexing.html#indexing-view-versus-copy\n",
      "  \"\"\"Entry point for launching an IPython kernel.\n",
      "C:\\Projects\\python\\recommender\\datasets\\torch_movielen.py:90: SettingWithCopyWarning: \n",
      "A value is trying to be set on a copy of a slice from a DataFrame.\n",
      "Try using .loc[row_indexer,col_indexer] = value instead\n",
      "\n",
      "See the caveats in the documentation: http://pandas.pydata.org/pandas-docs/stable/indexing.html#indexing-view-versus-copy\n",
      "  train_df[cat_names] = data\n",
      "c:\\projects\\python\\recommender\\.venv\\lib\\site-packages\\pandas\\core\\frame.py:3395: SettingWithCopyWarning: \n",
      "A value is trying to be set on a copy of a slice from a DataFrame\n",
      "\n",
      "See the caveats in the documentation: http://pandas.pydata.org/pandas-docs/stable/indexing.html#indexing-view-versus-copy\n",
      "  self.loc._setitem_with_indexer((slice(None), indexer), value)\n",
      "c:\\projects\\python\\recommender\\.venv\\lib\\site-packages\\pandas\\core\\frame.py:3367: SettingWithCopyWarning: \n",
      "A value is trying to be set on a copy of a slice from a DataFrame\n",
      "\n",
      "See the caveats in the documentation: http://pandas.pydata.org/pandas-docs/stable/indexing.html#indexing-view-versus-copy\n",
      "  self._setitem_array(key, value)\n",
      "C:\\Projects\\python\\recommender\\datasets\\torch_movielen.py:93: SettingWithCopyWarning: \n",
      "A value is trying to be set on a copy of a slice from a DataFrame.\n",
      "Try using .loc[row_indexer,col_indexer] = value instead\n",
      "\n",
      "See the caveats in the documentation: http://pandas.pydata.org/pandas-docs/stable/indexing.html#indexing-view-versus-copy\n",
      "  valid_df[cat_names] = data\n",
      "c:\\projects\\python\\recommender\\.venv\\lib\\site-packages\\pandas\\core\\frame.py:3395: SettingWithCopyWarning: \n",
      "A value is trying to be set on a copy of a slice from a DataFrame\n",
      "\n",
      "See the caveats in the documentation: http://pandas.pydata.org/pandas-docs/stable/indexing.html#indexing-view-versus-copy\n",
      "  self.loc._setitem_with_indexer((slice(None), indexer), value)\n",
      "c:\\projects\\python\\recommender\\.venv\\lib\\site-packages\\pandas\\core\\frame.py:3367: SettingWithCopyWarning: \n",
      "A value is trying to be set on a copy of a slice from a DataFrame\n",
      "\n",
      "See the caveats in the documentation: http://pandas.pydata.org/pandas-docs/stable/indexing.html#indexing-view-versus-copy\n",
      "  self._setitem_array(key, value)\n",
      "C:\\Projects\\python\\recommender\\datasets\\torch_movielen.py:96: SettingWithCopyWarning: \n",
      "A value is trying to be set on a copy of a slice from a DataFrame.\n",
      "Try using .loc[row_indexer,col_indexer] = value instead\n",
      "\n",
      "See the caveats in the documentation: http://pandas.pydata.org/pandas-docs/stable/indexing.html#indexing-view-versus-copy\n",
      "  test_df[cat_names] = data\n",
      "c:\\projects\\python\\recommender\\.venv\\lib\\site-packages\\pandas\\core\\frame.py:3395: SettingWithCopyWarning: \n",
      "A value is trying to be set on a copy of a slice from a DataFrame\n",
      "\n",
      "See the caveats in the documentation: http://pandas.pydata.org/pandas-docs/stable/indexing.html#indexing-view-versus-copy\n",
      "  self.loc._setitem_with_indexer((slice(None), indexer), value)\n",
      "c:\\projects\\python\\recommender\\.venv\\lib\\site-packages\\pandas\\core\\frame.py:3367: SettingWithCopyWarning: \n",
      "A value is trying to be set on a copy of a slice from a DataFrame\n",
      "\n",
      "See the caveats in the documentation: http://pandas.pydata.org/pandas-docs/stable/indexing.html#indexing-view-versus-copy\n",
      "  self._setitem_array(key, value)\n"
     ]
    }
   ],
   "source": [
    "databunch = TorchMovielen10k(DATA_PATH, user_min=4, item_min=4)"
   ]
  },
  {
   "cell_type": "markdown",
   "metadata": {},
   "source": [
    "### Set databunch parameters"
   ]
  },
  {
   "cell_type": "code",
   "execution_count": 7,
   "metadata": {},
   "outputs": [],
   "source": [
    "databunch.batch(BATCH)\n",
    "databunch.device(DEVICE)\n",
    "databunch.shuffle(SHUFFLE)\n",
    "databunch.workers(0)"
   ]
  },
  {
   "cell_type": "code",
   "execution_count": 8,
   "metadata": {},
   "outputs": [
    {
     "data": {
      "text/plain": [
       "<torch.utils.data.dataloader.DataLoader at 0x25e16771668>"
      ]
     },
     "execution_count": 8,
     "metadata": {},
     "output_type": "execute_result"
    }
   ],
   "source": [
    "train_dl = databunch.get_dataloader(dataset_type='train')\n",
    "train_dl"
   ]
  },
  {
   "cell_type": "code",
   "execution_count": 9,
   "metadata": {},
   "outputs": [
    {
     "data": {
      "text/plain": [
       "<torch.utils.data.dataloader._DataLoaderIter at 0x25e7ddb3fd0>"
      ]
     },
     "execution_count": 9,
     "metadata": {},
     "output_type": "execute_result"
    }
   ],
   "source": [
    "train_it = iter(train_dl)\n",
    "train_it"
   ]
  },
  {
   "cell_type": "code",
   "execution_count": 21,
   "metadata": {},
   "outputs": [
    {
     "data": {
      "text/plain": [
       "(tensor([647, 248, 327]),\n",
       " tensor(indices=tensor([[   0,    1,    2,    0,    1,    2,    0,    1,    2],\n",
       "                        [ 647,  248,  327, 1301, 1127,  967, 2411, 3155, 2858]]),\n",
       "        values=tensor([1., 1., 1., 1., 1., 1., 1., 1., 1.]),\n",
       "        size=(3, 3769), nnz=9, dtype=torch.float64, layout=torch.sparse_coo),\n",
       " tensor(indices=tensor([[   0,    1,    2,    0,    1,    2,    0,    1,    2],\n",
       "                        [ 647,  248,  327, 1301, 1127,  967, 3057, 3381, 2570]]),\n",
       "        values=tensor([1., 1., 1., 1., 1., 1., 1., 1., 1.]),\n",
       "        size=(3, 3769), nnz=9, dtype=torch.float64, layout=torch.sparse_coo))"
      ]
     },
     "execution_count": 21,
     "metadata": {},
     "output_type": "execute_result"
    }
   ],
   "source": [
    "train_it.next()"
   ]
  },
  {
   "cell_type": "code",
   "execution_count": 17,
   "metadata": {},
   "outputs": [
    {
     "data": {
      "text/plain": [
       "3769"
      ]
     },
     "execution_count": 17,
     "metadata": {},
     "output_type": "execute_result"
    }
   ],
   "source": [
    "databunch.feat_dim"
   ]
  }
 ],
 "metadata": {
  "kernelspec": {
   "display_name": "recommender",
   "language": "python",
   "name": "recommender"
  },
  "language_info": {
   "codemirror_mode": {
    "name": "ipython",
    "version": 3
   },
   "file_extension": ".py",
   "mimetype": "text/x-python",
   "name": "python",
   "nbconvert_exporter": "python",
   "pygments_lexer": "ipython3",
   "version": "3.6.8"
  }
 },
 "nbformat": 4,
 "nbformat_minor": 4
}
