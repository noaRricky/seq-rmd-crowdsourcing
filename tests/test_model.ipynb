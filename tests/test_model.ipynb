{
 "cells": [
  {
   "cell_type": "code",
   "execution_count": 1,
   "metadata": {
    "ExecuteTime": {
     "end_time": "2019-09-08T05:39:41.797913Z",
     "start_time": "2019-09-08T05:39:41.366022Z"
    }
   },
   "outputs": [],
   "source": [
    "%reload_ext autoreload\n",
    "%autoreload 2\n",
    "%matplotlib inline"
   ]
  },
  {
   "cell_type": "code",
   "execution_count": 2,
   "metadata": {
    "ExecuteTime": {
     "end_time": "2019-09-08T05:39:42.874352Z",
     "start_time": "2019-09-08T05:39:42.372629Z"
    }
   },
   "outputs": [],
   "source": [
    "from pathlib import Path\n",
    "\n",
    "import pandas as pd\n",
    "import numpy as np"
   ]
  },
  {
   "cell_type": "code",
   "execution_count": 3,
   "metadata": {
    "ExecuteTime": {
     "end_time": "2019-09-08T05:39:43.402649Z",
     "start_time": "2019-09-08T05:39:43.364721Z"
    }
   },
   "outputs": [
    {
     "name": "stdout",
     "output_type": "stream",
     "text": [
      "C:\\Projects\\python\\recommender\n"
     ]
    }
   ],
   "source": [
    "cd .."
   ]
  },
  {
   "cell_type": "code",
   "execution_count": 4,
   "metadata": {
    "ExecuteTime": {
     "end_time": "2019-09-08T05:39:48.874103Z",
     "start_time": "2019-09-08T05:39:45.004754Z"
    }
   },
   "outputs": [],
   "source": [
    "import torch as T\n",
    "import torch.nn as nn\n",
    "import torch.optim as optim\n",
    "\n",
    "from datasets import MovelenDataset, TorchMovielen10k"
   ]
  },
  {
   "cell_type": "markdown",
   "metadata": {},
   "source": [
    "## Init Dataloader instance"
   ]
  },
  {
   "cell_type": "code",
   "execution_count": 5,
   "metadata": {
    "ExecuteTime": {
     "end_time": "2019-09-08T05:40:12.043764Z",
     "start_time": "2019-09-08T05:40:11.933139Z"
    }
   },
   "outputs": [],
   "source": [
    "DEVICE = T.device('cpu')\n",
    "BATCH = 32\n",
    "SHUFFLE = False\n",
    "WORKERS = 0\n",
    "DATA_PATH = Path(\"./inputs/ml-100k/u.data\")\n",
    "ITEM_PATH = Path(\"./inputs/ml-100k/u.item\")"
   ]
  },
  {
   "cell_type": "code",
   "execution_count": 7,
   "metadata": {
    "ExecuteTime": {
     "end_time": "2019-09-08T05:40:37.666826Z",
     "start_time": "2019-09-08T05:40:37.196467Z"
    }
   },
   "outputs": [
    {
     "name": "stderr",
     "output_type": "stream",
     "text": [
      "2019-09-08 13:40:37,331 - C:\\Projects\\python\\recommender\\utils.py - INFO - Read dataset in inputs\\ml-100k\\u.data\n",
      "WARNING: Logging before flag parsing goes to stderr.\n",
      "I0908 13:40:37.331149 11664 torch_movielen.py:101] Read dataset in inputs\\ml-100k\\u.data\n",
      "2019-09-08 13:40:37,349 - C:\\Projects\\python\\recommender\\utils.py - INFO - Original user size: 943\n",
      "I0908 13:40:37.349512 11664 torch_movielen.py:105] Original user size: 943\n",
      "2019-09-08 13:40:37,352 - C:\\Projects\\python\\recommender\\utils.py - INFO - Original item size: 1682\n",
      "I0908 13:40:37.352475 11664 torch_movielen.py:106] Original item size: 1682\n",
      "2019-09-08 13:40:37,357 - C:\\Projects\\python\\recommender\\utils.py - INFO - Filter user size: 943\n",
      "I0908 13:40:37.357462 11664 torch_movielen.py:112] Filter user size: 943\n",
      "2019-09-08 13:40:37,360 - C:\\Projects\\python\\recommender\\utils.py - INFO - Filter item size: 1413\n",
      "I0908 13:40:37.360455 11664 torch_movielen.py:113] Filter item size: 1413\n",
      "c:\\projects\\python\\recommender\\.venv\\lib\\site-packages\\pandas\\core\\generic.py:8682: SettingWithCopyWarning: \n",
      "A value is trying to be set on a copy of a slice from a DataFrame\n",
      "\n",
      "See the caveats in the documentation: http://pandas.pydata.org/pandas-docs/stable/indexing.html#indexing-view-versus-copy\n",
      "  self._update_inplace(new_data)\n",
      "C:\\Projects\\python\\recommender\\datasets\\torch_movielen.py:34: SettingWithCopyWarning: \n",
      "A value is trying to be set on a copy of a slice from a DataFrame\n",
      "\n",
      "See the caveats in the documentation: http://pandas.pydata.org/pandas-docs/stable/indexing.html#indexing-view-versus-copy\n",
      "  self._read_data_csv(data_path, user_min, item_min)\n"
     ]
    }
   ],
   "source": [
    "databunch = TorchMovielen10k(DATA_PATH, item_path=ITEM_PATH, user_min=4, item_min=4)\n",
    "databunch.batch(BATCH)\n",
    "databunch.device(DEVICE)\n",
    "databunch.shuffle(SHUFFLE)\n",
    "databunch.workers(WORKERS)"
   ]
  },
  {
   "cell_type": "code",
   "execution_count": 8,
   "metadata": {
    "ExecuteTime": {
     "end_time": "2019-09-08T05:40:46.873569Z",
     "start_time": "2019-09-08T05:40:46.749444Z"
    }
   },
   "outputs": [],
   "source": [
    "train_dl = databunch.get_dataloader(dataset_type='train')\n",
    "train_it = iter(train_dl)"
   ]
  },
  {
   "cell_type": "code",
   "execution_count": 9,
   "metadata": {
    "ExecuteTime": {
     "end_time": "2019-09-08T05:40:48.034225Z",
     "start_time": "2019-09-08T05:40:47.894548Z"
    }
   },
   "outputs": [
    {
     "name": "stdout",
     "output_type": "stream",
     "text": [
      "positive batch shape: torch.Size([32, 3807])\n",
      "negtive batch shape: torch.Size([32, 3807])\n",
      "user index shape: torch.Size([32])\n"
     ]
    }
   ],
   "source": [
    "user_index, pos_feats, neg_feats = train_it.next()\n",
    "print(\"positive batch shape:\", pos_feats.shape)\n",
    "print(\"negtive batch shape:\", neg_feats.shape)\n",
    "print(\"user index shape:\", user_index.shape)"
   ]
  },
  {
   "cell_type": "markdown",
   "metadata": {},
   "source": [
    "## Test each fm model"
   ]
  },
  {
   "cell_type": "code",
   "execution_count": 10,
   "metadata": {
    "ExecuteTime": {
     "end_time": "2019-09-08T05:40:55.688456Z",
     "start_time": "2019-09-08T05:40:55.585641Z"
    }
   },
   "outputs": [],
   "source": [
    "feat_dim = databunch.feat_dim\n",
    "num_dim = 32\n",
    "init_mean = 1"
   ]
  },
  {
   "cell_type": "code",
   "execution_count": 11,
   "metadata": {
    "ExecuteTime": {
     "end_time": "2019-09-08T05:40:59.962903Z",
     "start_time": "2019-09-08T05:40:59.868301Z"
    }
   },
   "outputs": [
    {
     "data": {
      "text/plain": [
       "3807"
      ]
     },
     "execution_count": 11,
     "metadata": {},
     "output_type": "execute_result"
    }
   ],
   "source": [
    "feat_dim"
   ]
  },
  {
   "cell_type": "code",
   "execution_count": 12,
   "metadata": {
    "ExecuteTime": {
     "end_time": "2019-09-08T05:41:05.874119Z",
     "start_time": "2019-09-08T05:41:05.740342Z"
    }
   },
   "outputs": [],
   "source": [
    "from models import TorchFM, TorchHrmFM, TorchPrmeFM, TorchTransFM"
   ]
  },
  {
   "cell_type": "markdown",
   "metadata": {},
   "source": [
    "### Test FM Model"
   ]
  },
  {
   "cell_type": "code",
   "execution_count": 13,
   "metadata": {
    "ExecuteTime": {
     "end_time": "2019-09-08T05:51:16.425406Z",
     "start_time": "2019-09-08T05:51:16.293252Z"
    }
   },
   "outputs": [
    {
     "data": {
      "text/plain": [
       "TorchFM()"
      ]
     },
     "execution_count": 13,
     "metadata": {},
     "output_type": "execute_result"
    }
   ],
   "source": [
    "fm_model = TorchFM(feat_dim, num_dim, init_mean)\n",
    "fm_model"
   ]
  },
  {
   "cell_type": "code",
   "execution_count": 14,
   "metadata": {
    "ExecuteTime": {
     "end_time": "2019-09-08T05:51:17.827181Z",
     "start_time": "2019-09-08T05:51:17.715113Z"
    }
   },
   "outputs": [],
   "source": [
    "user_index, pos_feats, neg_feats = train_it.next()"
   ]
  },
  {
   "cell_type": "code",
   "execution_count": 15,
   "metadata": {
    "ExecuteTime": {
     "end_time": "2019-09-08T05:51:18.501755Z",
     "start_time": "2019-09-08T05:51:18.355264Z"
    }
   },
   "outputs": [
    {
     "data": {
      "text/plain": [
       "(tensor([-64.1903, -43.7776, -39.0514, -59.5614, -12.4093, -49.2389, -43.8010,\n",
       "         -20.8921, -42.6683, -39.1546, -33.4211, -42.0648, -12.9598, -21.9878,\n",
       "         -28.9777,  -3.6385, -22.9925,  39.6334, -51.3753,  -9.1928, -17.1664,\n",
       "         -36.8083, -23.3391, -31.5518,  39.8880, -31.3575, -13.6581, -33.2623,\n",
       "         -36.0992, -60.2210, -69.1044, -30.0486], dtype=torch.float64,\n",
       "        grad_fn=<SqueezeBackward0>),\n",
       " tensor([ 1.5140, -0.8733,  2.8072,  3.2439,  1.7383,  0.9903,  1.2133,  3.6962,\n",
       "         -0.2099,  0.2052, -0.7542,  0.1657,  3.4462,  0.2641, -1.1066, -2.0452,\n",
       "          0.5183,  0.3534,  0.3481,  0.8460,  1.1338, -0.7853, -0.3255,  0.3606,\n",
       "          3.3211, -0.1820,  1.3389, -0.2750, -0.5071, -0.0322,  1.2707,  1.5460],\n",
       "        dtype=torch.float64, grad_fn=<SqueezeBackward0>))"
      ]
     },
     "execution_count": 15,
     "metadata": {},
     "output_type": "execute_result"
    }
   ],
   "source": [
    "fm_model(pos_feats, neg_feats)"
   ]
  },
  {
   "cell_type": "markdown",
   "metadata": {},
   "source": [
    "### Test HRM FM model"
   ]
  },
  {
   "cell_type": "code",
   "execution_count": 16,
   "metadata": {
    "ExecuteTime": {
     "end_time": "2019-09-08T05:51:27.051493Z",
     "start_time": "2019-09-08T05:51:26.954761Z"
    }
   },
   "outputs": [
    {
     "data": {
      "text/plain": [
       "TorchHrmFM()"
      ]
     },
     "execution_count": 16,
     "metadata": {},
     "output_type": "execute_result"
    }
   ],
   "source": [
    "hrm_model = TorchHrmFM(feat_dim, num_dim, init_mean)\n",
    "hrm_model"
   ]
  },
  {
   "cell_type": "code",
   "execution_count": 17,
   "metadata": {
    "ExecuteTime": {
     "end_time": "2019-09-08T05:51:27.467379Z",
     "start_time": "2019-09-08T05:51:27.370638Z"
    }
   },
   "outputs": [
    {
     "data": {
      "text/plain": [
       "(tensor([271.7594, 384.6150, 387.4170, 261.1064, 296.9858, 367.6979, 253.7847,\n",
       "         215.1222, 388.3259, 666.9026, 458.0549, 277.8743, 645.2322, 156.9256,\n",
       "         161.5078, 179.2077, 169.0403, 324.6285, 223.6107, 488.6003, 308.5906,\n",
       "         141.7886, 108.3088, 210.6180, 309.3110, 102.9862, 146.6035, 212.3038,\n",
       "         297.4553, 360.9046, 350.7762, 128.4124], dtype=torch.float64,\n",
       "        grad_fn=<SqueezeBackward0>),\n",
       " tensor([261.8470, 447.6939, 235.7539, 271.7186, 155.7334, 329.8108, 157.5224,\n",
       "         152.1141, 223.8814, 226.9145, 360.7292, 280.6197, 366.8122,  97.5011,\n",
       "         231.6856, 134.6230, 226.9655, 169.0502, 102.2834, 367.0369, 293.3065,\n",
       "         210.5617, 301.1654, 203.2470, 308.7432, 152.0882, 209.9438, 218.6886,\n",
       "         322.0774, 220.5088, 197.0379, 212.8642], dtype=torch.float64,\n",
       "        grad_fn=<SqueezeBackward0>))"
      ]
     },
     "execution_count": 17,
     "metadata": {},
     "output_type": "execute_result"
    }
   ],
   "source": [
    "hrm_model(pos_feats, neg_feats)"
   ]
  },
  {
   "cell_type": "code",
   "execution_count": 18,
   "metadata": {
    "ExecuteTime": {
     "end_time": "2019-09-08T05:51:28.017133Z",
     "start_time": "2019-09-08T05:51:27.914184Z"
    }
   },
   "outputs": [
    {
     "data": {
      "text/plain": [
       "tensor(indices=tensor([[ 0,  1,  2,  3,  4,  5,  6,  7,  8,  9, 10, 11, 12, 13,\n",
       "                        14, 15, 16, 17, 18, 19, 20, 21, 22, 23, 24, 25, 26, 27,\n",
       "                        28, 29, 30, 31]]),\n",
       "       values=tensor([ 8.,  9.,  9.,  8.,  8.,  9.,  7.,  7.,  9., 12., 10.,\n",
       "                       8., 12.,  6.,  6.,  6.,  6.,  8.,  7., 10.,  8.,  6.,\n",
       "                       5.,  7.,  8.,  5.,  6.,  7.,  8.,  9.,  9.,  6.]),\n",
       "       size=(32,), nnz=32, dtype=torch.float64, layout=torch.sparse_coo)"
      ]
     },
     "execution_count": 18,
     "metadata": {},
     "output_type": "execute_result"
    }
   ],
   "source": [
    "item = T.sparse.sum(pos_feats, dim=1)\n",
    "item"
   ]
  },
  {
   "cell_type": "code",
   "execution_count": 19,
   "metadata": {
    "ExecuteTime": {
     "end_time": "2019-09-08T05:51:28.410080Z",
     "start_time": "2019-09-08T05:51:28.314339Z"
    }
   },
   "outputs": [
    {
     "data": {
      "text/plain": [
       "torch.Size([32, 1])"
      ]
     },
     "execution_count": 19,
     "metadata": {},
     "output_type": "execute_result"
    }
   ],
   "source": [
    "item.to_dense().unsqueeze(dim=1).shape"
   ]
  },
  {
   "cell_type": "markdown",
   "metadata": {},
   "source": [
    "### Test PRME FM Model"
   ]
  },
  {
   "cell_type": "code",
   "execution_count": 20,
   "metadata": {
    "ExecuteTime": {
     "end_time": "2019-09-08T05:51:29.252336Z",
     "start_time": "2019-09-08T05:51:29.154801Z"
    }
   },
   "outputs": [
    {
     "data": {
      "text/plain": [
       "TorchPrmeFM()"
      ]
     },
     "execution_count": 20,
     "metadata": {},
     "output_type": "execute_result"
    }
   ],
   "source": [
    "prme_model = TorchPrmeFM(feat_dim, num_dim, init_mean)\n",
    "prme_model"
   ]
  },
  {
   "cell_type": "code",
   "execution_count": 21,
   "metadata": {
    "ExecuteTime": {
     "end_time": "2019-09-08T05:51:29.777038Z",
     "start_time": "2019-09-08T05:51:29.682186Z"
    }
   },
   "outputs": [
    {
     "data": {
      "text/plain": [
       "(tensor([ 624.5587,  808.3335,  685.4854,  555.8014,  596.5832,  759.5734,\n",
       "          456.4375,  462.9926,  700.5415, 1342.8371,  999.2225,  639.3323,\n",
       "         1375.1834,  379.3050,  307.9397,  331.3744,  309.2965,  640.0821,\n",
       "          483.5413,  953.9946,  648.8265,  339.4598,  217.3180,  433.8903,\n",
       "          540.2731,  248.5719,  265.5579,  407.6169,  638.7647,  765.2503,\n",
       "          729.8961,  311.3912], dtype=torch.float64, grad_fn=<SqueezeBackward0>),\n",
       " tensor([589.1098, 947.7146, 415.0550, 567.4627, 316.2383, 776.1557, 325.8328,\n",
       "         302.5159, 434.6137, 434.0046, 774.6679, 611.3691, 770.9170, 206.1869,\n",
       "         446.3521, 322.7631, 464.3196, 360.0030, 246.4301, 736.5838, 646.3014,\n",
       "         513.9927, 624.2010, 450.5826, 589.2988, 346.5698, 353.5650, 452.5794,\n",
       "         607.8989, 461.9401, 434.6386, 445.3938], dtype=torch.float64,\n",
       "        grad_fn=<SqueezeBackward0>))"
      ]
     },
     "execution_count": 21,
     "metadata": {},
     "output_type": "execute_result"
    }
   ],
   "source": [
    "prme_model(pos_feats, neg_feats)"
   ]
  },
  {
   "cell_type": "markdown",
   "metadata": {},
   "source": [
    "### Test Trans FM Model"
   ]
  },
  {
   "cell_type": "code",
   "execution_count": 22,
   "metadata": {
    "ExecuteTime": {
     "end_time": "2019-09-08T05:51:30.739273Z",
     "start_time": "2019-09-08T05:51:30.634784Z"
    }
   },
   "outputs": [],
   "source": [
    "trans_model = TorchTransFM(feat_dim, num_dim, init_mean)"
   ]
  },
  {
   "cell_type": "code",
   "execution_count": 23,
   "metadata": {
    "ExecuteTime": {
     "end_time": "2019-09-08T05:51:31.186031Z",
     "start_time": "2019-09-08T05:51:31.082308Z"
    }
   },
   "outputs": [
    {
     "data": {
      "text/plain": [
       "(tensor([ 877.6922, 1284.8854, 1169.6049,  848.1012,  911.5739, 1186.9655,\n",
       "          622.3278,  690.7450, 1224.0787, 2181.0642, 1542.0397,  869.9841,\n",
       "         2114.0940,  550.9422,  500.9470,  495.6111,  481.7289, 1047.6194,\n",
       "          737.7010, 1448.4945,  954.8884,  517.7452,  356.1667,  659.3029,\n",
       "          981.3259,  323.5962,  480.6206,  621.6405,  936.6802, 1142.2824,\n",
       "         1101.6843,  498.1779], dtype=torch.float64, grad_fn=<SqueezeBackward0>),\n",
       " tensor([ 903.9866, 1587.0843,  697.0481,  897.3490,  586.8591, 1229.5051,\n",
       "          530.8814,  552.6464,  810.6351,  895.0207, 1292.9848,  965.0210,\n",
       "         1279.7142,  355.9132,  725.0196,  498.4545,  672.3376,  696.3893,\n",
       "          412.9733, 1187.7440, 1002.4424,  646.9900,  817.7635,  727.2876,\n",
       "          847.4854,  474.3863,  593.1399,  625.8628, 1002.5214,  750.8584,\n",
       "          706.0431,  629.1199], dtype=torch.float64, grad_fn=<SqueezeBackward0>))"
      ]
     },
     "execution_count": 23,
     "metadata": {},
     "output_type": "execute_result"
    }
   ],
   "source": [
    "trans_model(pos_feats, neg_feats)"
   ]
  },
  {
   "cell_type": "markdown",
   "metadata": {},
   "source": [
    "#### Find size error!!\n",
    "\n",
    "#### Test trans model forward"
   ]
  },
  {
   "cell_type": "code",
   "execution_count": 24,
   "metadata": {
    "ExecuteTime": {
     "end_time": "2019-09-08T05:51:32.224393Z",
     "start_time": "2019-09-08T05:51:32.122803Z"
    }
   },
   "outputs": [],
   "source": [
    "feature_dim = trans_model._feature_dim\n",
    "param_linear = trans_model.param_linear\n",
    "param_emb = trans_model.param_emb\n",
    "param_trans = trans_model.param_trans"
   ]
  },
  {
   "cell_type": "code",
   "execution_count": 25,
   "metadata": {
    "ExecuteTime": {
     "end_time": "2019-09-08T05:51:32.678904Z",
     "start_time": "2019-09-08T05:51:32.579167Z"
    }
   },
   "outputs": [
    {
     "name": "stdout",
     "output_type": "stream",
     "text": [
      "torch.Size([32, 1])\n",
      "torch.Size([32, 1])\n"
     ]
    }
   ],
   "source": [
    "pos_linear = T.mm(pos_feats, param_linear)\n",
    "neg_linear = T.mm(neg_feats, param_linear)\n",
    "print(pos_linear.shape)\n",
    "print(neg_linear.shape)"
   ]
  },
  {
   "cell_type": "code",
   "execution_count": 26,
   "metadata": {
    "ExecuteTime": {
     "end_time": "2019-09-08T05:51:33.154625Z",
     "start_time": "2019-09-08T05:51:33.050902Z"
    }
   },
   "outputs": [
    {
     "name": "stdout",
     "output_type": "stream",
     "text": [
      "torch.Size([3807, 1])\n",
      "torch.Size([3807, 1])\n",
      "torch.Size([3807, 1])\n",
      "torch.Size([3807, 1])\n"
     ]
    }
   ],
   "source": [
    "var_sum_op = T.ones(feature_dim, 1, dtype=T.double)\n",
    "var_emb_product = T.sum(T.pow(param_emb, 2), dim=1, keepdim=True)\n",
    "var_trans_product = T.sum(T.pow(param_trans, 2), dim=1, keepdim=True)\n",
    "var_emb_trans_product = T.sum(param_emb * param_trans,\n",
    "                              dim=1,\n",
    "                              keepdim=True)\n",
    "print(var_sum_op.shape)\n",
    "print(var_emb_product.shape)\n",
    "print(var_trans_product.shape)\n",
    "print(var_emb_trans_product.shape)"
   ]
  },
  {
   "cell_type": "code",
   "execution_count": 27,
   "metadata": {
    "ExecuteTime": {
     "end_time": "2019-09-08T05:51:33.691908Z",
     "start_time": "2019-09-08T05:51:33.594448Z"
    }
   },
   "outputs": [],
   "source": [
    "# Common term positive\n",
    "pos_feats_sum = T.mm(pos_feats, var_sum_op)\n",
    "pos_emb_mul = T.mm(pos_feats, param_emb)\n",
    "pos_trans_mul = T.mm(pos_feats, param_trans)\n",
    "\n",
    "# Common terms negative\n",
    "neg_feats_sum = T.mm(neg_feats, var_sum_op)\n",
    "neg_emb_mul = T.mm(neg_feats, param_emb)\n",
    "neg_trans_mul = T.mm(neg_feats, param_trans)"
   ]
  },
  {
   "cell_type": "code",
   "execution_count": 28,
   "metadata": {
    "ExecuteTime": {
     "end_time": "2019-09-08T05:51:34.273914Z",
     "start_time": "2019-09-08T05:51:34.168200Z"
    }
   },
   "outputs": [
    {
     "name": "stdout",
     "output_type": "stream",
     "text": [
      "torch.Size([32, 1])\n",
      "torch.Size([32, 32])\n",
      "torch.Size([32, 32])\n",
      "---------------------------\n",
      "torch.Size([32, 1])\n",
      "torch.Size([32, 32])\n",
      "torch.Size([32, 32])\n"
     ]
    }
   ],
   "source": [
    "print(pos_feats_sum.shape)\n",
    "print(pos_emb_mul.shape)\n",
    "print(pos_trans_mul.shape)\n",
    "print(\"---------------------------\")\n",
    "print(neg_feats_sum.shape)\n",
    "print(neg_emb_mul.shape)\n",
    "print(neg_trans_mul.shape)"
   ]
  },
  {
   "cell_type": "code",
   "execution_count": 29,
   "metadata": {
    "ExecuteTime": {
     "end_time": "2019-09-08T05:51:34.975126Z",
     "start_time": "2019-09-08T05:51:34.866912Z"
    }
   },
   "outputs": [],
   "source": [
    "# Term 1 pos\n",
    "prod_term_pos = T.mm(pos_feats, var_emb_product)\n",
    "term_1_pos = prod_term_pos * pos_feats_sum\n",
    "\n",
    "# Term 1 neg\n",
    "prod_term_neg = T.mm(neg_feats, var_emb_product)\n",
    "term_1_neg = prod_term_neg * neg_feats_sum"
   ]
  },
  {
   "cell_type": "code",
   "execution_count": 30,
   "metadata": {
    "ExecuteTime": {
     "end_time": "2019-09-08T05:51:35.525622Z",
     "start_time": "2019-09-08T05:51:35.426301Z"
    }
   },
   "outputs": [
    {
     "name": "stdout",
     "output_type": "stream",
     "text": [
      "torch.Size([32, 1])\n",
      "torch.Size([32, 1])\n",
      "-----------------------\n",
      "torch.Size([32, 1])\n",
      "torch.Size([32, 1])\n"
     ]
    }
   ],
   "source": [
    "print(prod_term_pos.shape)\n",
    "print(term_1_pos.shape)\n",
    "print(\"-----------------------\")\n",
    "print(prod_term_neg.shape)\n",
    "print(term_1_neg.shape)"
   ]
  },
  {
   "cell_type": "code",
   "execution_count": 31,
   "metadata": {
    "ExecuteTime": {
     "end_time": "2019-09-08T05:51:36.144382Z",
     "start_time": "2019-09-08T05:51:36.042847Z"
    }
   },
   "outputs": [],
   "source": [
    "# Term 2 pos\n",
    "prod_term_pos = T.mm(pos_feats, param_trans)\n",
    "term_2_pos = prod_term_pos * pos_feats_sum\n",
    "\n",
    "# Term 2 neg\n",
    "prod_term_neg = T.mm(neg_feats, var_trans_product)\n",
    "term_2_neg = prod_term_neg * pos_feats_sum"
   ]
  },
  {
   "cell_type": "code",
   "execution_count": 32,
   "metadata": {
    "ExecuteTime": {
     "end_time": "2019-09-08T05:51:37.073823Z",
     "start_time": "2019-09-08T05:51:36.979095Z"
    }
   },
   "outputs": [
    {
     "name": "stdout",
     "output_type": "stream",
     "text": [
      "torch.Size([32, 32])\n",
      "torch.Size([32, 1])\n"
     ]
    }
   ],
   "source": [
    "print(term_2_pos.shape)\n",
    "print(term_2_neg.shape)"
   ]
  },
  {
   "cell_type": "markdown",
   "metadata": {},
   "source": [
    "#### Find error !!!!"
   ]
  },
  {
   "cell_type": "code",
   "execution_count": 33,
   "metadata": {
    "ExecuteTime": {
     "end_time": "2019-09-08T05:51:44.782198Z",
     "start_time": "2019-09-08T05:51:44.675485Z"
    }
   },
   "outputs": [
    {
     "data": {
      "text/plain": [
       "(tensor([ 877.6922, 1284.8854, 1169.6049,  848.1012,  911.5739, 1186.9655,\n",
       "          622.3278,  690.7450, 1224.0787, 2181.0642, 1542.0397,  869.9841,\n",
       "         2114.0940,  550.9422,  500.9470,  495.6111,  481.7289, 1047.6194,\n",
       "          737.7010, 1448.4945,  954.8884,  517.7452,  356.1667,  659.3029,\n",
       "          981.3259,  323.5962,  480.6206,  621.6405,  936.6802, 1142.2824,\n",
       "         1101.6843,  498.1779], dtype=torch.float64, grad_fn=<SqueezeBackward0>),\n",
       " tensor([ 903.9866, 1587.0843,  697.0481,  897.3490,  586.8591, 1229.5051,\n",
       "          530.8814,  552.6464,  810.6351,  895.0207, 1292.9848,  965.0210,\n",
       "         1279.7142,  355.9132,  725.0196,  498.4545,  672.3376,  696.3893,\n",
       "          412.9733, 1187.7440, 1002.4424,  646.9900,  817.7635,  727.2876,\n",
       "          847.4854,  474.3863,  593.1399,  625.8628, 1002.5214,  750.8584,\n",
       "          706.0431,  629.1199], dtype=torch.float64, grad_fn=<SqueezeBackward0>))"
      ]
     },
     "execution_count": 33,
     "metadata": {},
     "output_type": "execute_result"
    }
   ],
   "source": [
    "trans_model(pos_feats, neg_feats)"
   ]
  },
  {
   "cell_type": "code",
   "execution_count": null,
   "metadata": {},
   "outputs": [],
   "source": []
  }
 ],
 "metadata": {
  "kernelspec": {
   "display_name": "recommender",
   "language": "python",
   "name": "recommender"
  },
  "language_info": {
   "codemirror_mode": {
    "name": "ipython",
    "version": 3
   },
   "file_extension": ".py",
   "mimetype": "text/x-python",
   "name": "python",
   "nbconvert_exporter": "python",
   "pygments_lexer": "ipython3",
   "version": "3.6.8"
  }
 },
 "nbformat": 4,
 "nbformat_minor": 4
}
